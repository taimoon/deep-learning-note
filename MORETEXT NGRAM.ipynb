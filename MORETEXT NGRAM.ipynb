{
 "cells": [
  {
   "cell_type": "code",
   "execution_count": 42,
   "metadata": {},
   "outputs": [],
   "source": [
    "import torch\n",
    "from torch import nn,optim\n",
    "import torch.nn.functional as F\n",
    "import numpy as np\n",
    "import matplotlib.pyplot as plt"
   ]
  },
  {
   "cell_type": "code",
   "execution_count": 43,
   "metadata": {},
   "outputs": [
    {
     "data": {
      "text/plain": [
       "['emma', 'olivia', 'ava', 'isabella', 'sophia']"
      ]
     },
     "execution_count": 43,
     "metadata": {},
     "output_type": "execute_result"
    }
   ],
   "source": [
    "with open(\"data/names.txt\",\"r\") as f:\n",
    "    words = f.read().lower().split('\\n')\n",
    "words[:5]"
   ]
  },
  {
   "attachments": {},
   "cell_type": "markdown",
   "metadata": {},
   "source": [
    "# n-gram\n"
   ]
  },
  {
   "cell_type": "code",
   "execution_count": 44,
   "metadata": {},
   "outputs": [],
   "source": [
    "chars = sorted(list(set(''.join(words))))\n",
    "str_to_idx = {c:i+1 for i,c in enumerate(chars)}\n",
    "str_to_idx['.'] = 0\n",
    "idx_to_str = {i:c for c,i in str_to_idx.items()}"
   ]
  },
  {
   "cell_type": "code",
   "execution_count": 45,
   "metadata": {},
   "outputs": [
    {
     "name": "stdout",
     "output_type": "stream",
     "text": [
      "('.', 'l')\n",
      "('l', 'e')\n",
      "('e', 'o')\n",
      "('o', 'n')\n",
      "('n', 'g')\n",
      "('g', '.')\n",
      "torch.Size([27, 27])\n"
     ]
    }
   ],
   "source": [
    "block_size = 2\n",
    "def contextized_iter(word,block_size=1):\n",
    "    mark = ['.']*(block_size-1)\n",
    "    word = mark + list(word) + mark\n",
    "    return zip(*(word[i:] for i in range(block_size)))\n",
    "\n",
    "print(*contextized_iter('leong',block_size),sep='\\n')\n",
    "\n",
    "n_letters = len(str_to_idx)\n",
    "freqs = np.zeros(tuple(n_letters for _ in range(block_size)),dtype=np.int32)\n",
    "\n",
    "for w in words:\n",
    "    for chs in contextized_iter(w,block_size):\n",
    "        idxs = tuple(str_to_idx[ch] for ch in chs)\n",
    "        freqs[idxs] += 1\n",
    "freqs = torch.tensor(freqs)\n",
    "print(freqs.shape)"
   ]
  },
  {
   "attachments": {},
   "cell_type": "markdown",
   "metadata": {},
   "source": [
    "$$\n",
    "P(w_i | w_{i-1},\\ldots, w_{i-n+1}) = \n",
    "\\frac{P(\\bigcap (w_i,w_{i-1},\\ldots, w_{i-n+1}))}{P(\\bigcap (w_{i-1},\\ldots, w_{i-n+1}))}\n",
    "$$\n"
   ]
  },
  {
   "cell_type": "code",
   "execution_count": 46,
   "metadata": {},
   "outputs": [
    {
     "data": {
      "text/plain": [
       "torch.Size([27, 27])"
      ]
     },
     "execution_count": 46,
     "metadata": {},
     "output_type": "execute_result"
    }
   ],
   "source": [
    "probs = (freqs+10).float()\n",
    "# check broadcasting semantics\n",
    "probs /= probs.sum((-1,),keepdim=True)\n",
    "probs.shape"
   ]
  },
  {
   "cell_type": "code",
   "execution_count": 47,
   "metadata": {},
   "outputs": [
    {
     "name": "stdout",
     "output_type": "stream",
     "text": [
      "log_likelihood = -561615.312500\n",
      "561615.312500\n",
      "2.461649\n"
     ]
    }
   ],
   "source": [
    "# model evaluation; model's quality\n",
    "# log_probs = probs.log()\n",
    "log_likelihood = 0.0\n",
    "n = 0\n",
    "\n",
    "for w in words:\n",
    "    for chs in contextized_iter(w,block_size):\n",
    "        idxs = tuple(str_to_idx[ch] for ch in chs)\n",
    "        log_prob = probs[idxs].log()\n",
    "        log_likelihood += log_prob\n",
    "        n += 1\n",
    "        # break\n",
    "    # break\n",
    "\n",
    "print(f'log_likelihood = {log_likelihood:4f}')\n",
    "print(f'{-log_likelihood:4f}')\n",
    "print(f'{-log_likelihood/n:4f}')"
   ]
  },
  {
   "cell_type": "code",
   "execution_count": 51,
   "metadata": {},
   "outputs": [
    {
     "name": "stdout",
     "output_type": "stream",
     "text": [
      "ya.\n",
      "syahle.\n",
      "ahe.\n",
      "dleekahmangonya.\n",
      "tryahe.\n"
     ]
    }
   ],
   "source": [
    "# using mutlinomial to sample\n",
    "g = torch.Generator().manual_seed(42)\n",
    "def ngram_generate():\n",
    "    out = []\n",
    "    context = [0] * (block_size-1)\n",
    "    while True:\n",
    "        p = probs[tuple(context)].float()\n",
    "        ix= torch.multinomial(p,num_samples=1,replacement=True,generator=g).item()\n",
    "        context = context[1:]+[ix]\n",
    "        out.append(idx_to_str[ix])\n",
    "        if ix == 0:\n",
    "            break\n",
    "    return ''.join(out)\n",
    "for i in range(5):\n",
    "    print(ngram_generate())"
   ]
  }
 ],
 "metadata": {
  "kernelspec": {
   "display_name": "Python 3",
   "language": "python",
   "name": "python3"
  },
  "language_info": {
   "codemirror_mode": {
    "name": "ipython",
    "version": 3
   },
   "file_extension": ".py",
   "mimetype": "text/x-python",
   "name": "python",
   "nbconvert_exporter": "python",
   "pygments_lexer": "ipython3",
   "version": "3.10.11"
  },
  "orig_nbformat": 4
 },
 "nbformat": 4,
 "nbformat_minor": 2
}
