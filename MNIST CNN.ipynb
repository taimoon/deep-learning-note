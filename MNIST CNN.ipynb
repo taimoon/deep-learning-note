{
 "cells": [
  {
   "cell_type": "code",
   "execution_count": 77,
   "metadata": {},
   "outputs": [],
   "source": [
    "import torch\n",
    "from torch import nn,optim\n",
    "from torch.utils.data import DataLoader\n",
    "from torchvision import datasets\n",
    "from torchvision.transforms import ToTensor"
   ]
  },
  {
   "cell_type": "markdown",
   "metadata": {},
   "source": [
    "# Loading Data"
   ]
  },
  {
   "cell_type": "code",
   "execution_count": 78,
   "metadata": {},
   "outputs": [],
   "source": [
    "force = False\n",
    "training_data = datasets.MNIST('data',train=True,download=force,transform=ToTensor())\n",
    "test_data = datasets.MNIST('data',train=False,transform=ToTensor())"
   ]
  },
  {
   "cell_type": "code",
   "execution_count": 79,
   "metadata": {},
   "outputs": [
    {
     "name": "stdout",
     "output_type": "stream",
     "text": [
      "Shape of X [N, C, H, W]: torch.Size([128, 1, 28, 28])\n",
      "Shape of y: torch.Size([128]) torch.int64\n",
      "Shape of X [N, C, H, W]: torch.Size([128, 1, 28, 28])\n",
      "Shape of y: torch.Size([128]) torch.int64\n"
     ]
    }
   ],
   "source": [
    "batch_size = 128\n",
    "train_dataloader = DataLoader(training_data,batch_size=batch_size)\n",
    "test_dataloader = DataLoader(test_data,batch_size=batch_size)\n",
    "first_data = lambda dataloader : next(iter(dataloader))\n",
    "\n",
    "X,y = first_data(train_dataloader)\n",
    "\n",
    "print(f\"Shape of X [N, C, H, W]: {X.shape}\")\n",
    "print(f\"Shape of y: {y.shape} {y.dtype}\")\n",
    "\n",
    "X,y = first_data(test_dataloader)\n",
    "print(f\"Shape of X [N, C, H, W]: {X.shape}\")\n",
    "print(f\"Shape of y: {y.shape} {y.dtype}\")"
   ]
  },
  {
   "cell_type": "markdown",
   "metadata": {},
   "source": [
    "# Device for Training"
   ]
  },
  {
   "cell_type": "code",
   "execution_count": 80,
   "metadata": {},
   "outputs": [
    {
     "name": "stdout",
     "output_type": "stream",
     "text": [
      "Using cuda device\n"
     ]
    }
   ],
   "source": [
    "# Get cpu, gpu or mps device for training.\n",
    "device = (\n",
    "    \"cuda\"\n",
    "    if torch.cuda.is_available()\n",
    "    else \"mps\"\n",
    "    if torch.backends.mps.is_available()\n",
    "    else \"cpu\"\n",
    ")\n",
    "print(f\"Using {device} device\")"
   ]
  },
  {
   "cell_type": "markdown",
   "metadata": {},
   "source": [
    "# Model Development"
   ]
  },
  {
   "cell_type": "code",
   "execution_count": 81,
   "metadata": {},
   "outputs": [
    {
     "name": "stdout",
     "output_type": "stream",
     "text": [
      "NeuralNetwork(\n",
      "  (conv): Sequential(\n",
      "    (0): Conv2d(1, 12, kernel_size=(3, 3), stride=(1, 1))\n",
      "    (1): ReLU()\n",
      "    (2): Conv2d(12, 24, kernel_size=(6, 6), stride=(2, 2))\n",
      "    (3): ReLU()\n",
      "    (4): Conv2d(24, 32, kernel_size=(6, 6), stride=(2, 2))\n",
      "    (5): ReLU()\n",
      "  )\n",
      "  (flatten): Flatten(start_dim=1, end_dim=-1)\n",
      "  (linear_relu_stack): Sequential(\n",
      "    (0): Linear(in_features=288, out_features=100, bias=True)\n",
      "    (1): ReLU()\n",
      "    (2): Linear(in_features=100, out_features=10, bias=True)\n",
      "    (3): LogSoftmax(dim=None)\n",
      "  )\n",
      ")\n"
     ]
    }
   ],
   "source": [
    "class NeuralNetwork(nn.Module):\n",
    "    def __init__(self):\n",
    "        super().__init__()\n",
    "        self.conv = nn.Sequential(\n",
    "            nn.Conv2d(1, 12, kernel_size=3),\n",
    "            nn.ReLU(),\n",
    "            nn.Conv2d(12, 24, kernel_size=6, stride=2),\n",
    "            nn.ReLU(),\n",
    "            nn.Conv2d(24, 32, kernel_size=6, stride=2),\n",
    "            nn.ReLU(),\n",
    "        )\n",
    "        self.flatten = nn.Flatten()\n",
    "        self.linear_relu_stack = nn.Sequential(\n",
    "            nn.Linear(288, 100),\n",
    "            nn.ReLU(),\n",
    "            nn.Linear(100, 10),\n",
    "            nn.LogSoftmax(),\n",
    "        )\n",
    "\n",
    "    def forward(self, x):\n",
    "        x = self.conv(x)\n",
    "        x = self.flatten(x)\n",
    "        logits = self.linear_relu_stack(x)\n",
    "        return logits\n",
    "\n",
    "model = NeuralNetwork().to(device)\n",
    "print(model)"
   ]
  },
  {
   "cell_type": "markdown",
   "metadata": {},
   "source": [
    "# Optimization configuration"
   ]
  },
  {
   "cell_type": "code",
   "execution_count": 82,
   "metadata": {},
   "outputs": [],
   "source": [
    "# optimization configurations\n",
    "loss_fn = nn.CrossEntropyLoss()\n",
    "epochs = 10\n",
    "max_learning_rate = 0.01\n",
    "optimizer = torch.optim.Adam(model.parameters(), lr=max_learning_rate)\n",
    "scheduler = optim.lr_scheduler.OneCycleLR(optimizer,\n",
    "                                          max_lr = max_learning_rate,\n",
    "                                          total_steps = 10 * 60000,)"
   ]
  },
  {
   "cell_type": "markdown",
   "metadata": {},
   "source": [
    "# Develop Optimization Iteration"
   ]
  },
  {
   "cell_type": "code",
   "execution_count": 83,
   "metadata": {},
   "outputs": [],
   "source": [
    "def train(dataloader, model, loss_fn, optimizer,scheduler):\n",
    "    size = len(dataloader.dataset)\n",
    "    model.train()\n",
    "    for batch, (X, y) in enumerate(dataloader):\n",
    "        X, y = X.to(device), y.to(device)\n",
    "\n",
    "        # Compute prediction error\n",
    "        pred = model(X)\n",
    "        loss = loss_fn(pred, y)\n",
    "\n",
    "        # Backpropagation\n",
    "        optimizer.zero_grad()\n",
    "        loss.backward()\n",
    "        optimizer.step()\n",
    "        scheduler.step()\n",
    "        \n",
    "        # Print Stats\n",
    "        if batch % 100 == 0:\n",
    "            loss, current = loss.item(), (batch + 1) * len(X)\n",
    "            print(f\"loss: {loss:>7f}  [{current:>5d}/{size:>5d}]\")"
   ]
  },
  {
   "cell_type": "code",
   "execution_count": 84,
   "metadata": {},
   "outputs": [],
   "source": [
    "def test(dataloader, model, loss_fn):\n",
    "    size = len(dataloader.dataset)\n",
    "    num_batches = len(dataloader)\n",
    "    model.eval()\n",
    "    test_loss, correct = 0, 0\n",
    "    with torch.no_grad():\n",
    "        for X, y in dataloader:\n",
    "            X, y = X.to(device), y.to(device)\n",
    "            pred = model(X)\n",
    "            test_loss += loss_fn(pred, y).item()\n",
    "            correct += (pred.argmax(1) == y).type(torch.float).sum().item()\n",
    "    test_loss /= num_batches\n",
    "    correct /= size\n",
    "    print(f\"Test Error: \\n Accuracy: {(100*correct):>0.1f}%, Avg loss: {test_loss:>8f} \\n\")"
   ]
  },
  {
   "cell_type": "markdown",
   "metadata": {},
   "source": [
    "# Run the iteration"
   ]
  },
  {
   "cell_type": "code",
   "execution_count": 85,
   "metadata": {},
   "outputs": [
    {
     "name": "stdout",
     "output_type": "stream",
     "text": [
      "Epoch 1\n",
      "-------------------------------\n",
      "loss: 2.299842  [  128/60000]\n"
     ]
    },
    {
     "name": "stderr",
     "output_type": "stream",
     "text": [
      "C:\\Users\\Leong Teng Man\\AppData\\Roaming\\Python\\Python310\\site-packages\\torch\\nn\\modules\\container.py:217: UserWarning: Implicit dimension choice for log_softmax has been deprecated. Change the call to include dim=X as an argument.\n",
      "  input = module(input)\n"
     ]
    },
    {
     "name": "stdout",
     "output_type": "stream",
     "text": [
      "loss: 0.597708  [12928/60000]\n",
      "loss: 0.286121  [25728/60000]\n",
      "loss: 0.243522  [38528/60000]\n",
      "loss: 0.281468  [51328/60000]\n",
      "Test Error: \n",
      " Accuracy: 93.1%, Avg loss: 0.229740 \n",
      "\n",
      "Epoch 2\n",
      "-------------------------------\n",
      "loss: 0.174818  [  128/60000]\n",
      "loss: 0.130207  [12928/60000]\n",
      "loss: 0.135568  [25728/60000]\n",
      "loss: 0.099896  [38528/60000]\n",
      "loss: 0.173995  [51328/60000]\n",
      "Test Error: \n",
      " Accuracy: 96.2%, Avg loss: 0.122173 \n",
      "\n",
      "Epoch 3\n",
      "-------------------------------\n",
      "loss: 0.118115  [  128/60000]\n",
      "loss: 0.075595  [12928/60000]\n",
      "loss: 0.066528  [25728/60000]\n",
      "loss: 0.072522  [38528/60000]\n",
      "loss: 0.126478  [51328/60000]\n",
      "Test Error: \n",
      " Accuracy: 97.0%, Avg loss: 0.088855 \n",
      "\n",
      "Epoch 4\n",
      "-------------------------------\n",
      "loss: 0.089729  [  128/60000]\n",
      "loss: 0.058095  [12928/60000]\n",
      "loss: 0.042302  [25728/60000]\n",
      "loss: 0.061608  [38528/60000]\n",
      "loss: 0.113176  [51328/60000]\n",
      "Test Error: \n",
      " Accuracy: 97.5%, Avg loss: 0.076954 \n",
      "\n",
      "Epoch 5\n",
      "-------------------------------\n",
      "loss: 0.073748  [  128/60000]\n",
      "loss: 0.035961  [12928/60000]\n",
      "loss: 0.036005  [25728/60000]\n",
      "loss: 0.058548  [38528/60000]\n",
      "loss: 0.096982  [51328/60000]\n",
      "Test Error: \n",
      " Accuracy: 97.8%, Avg loss: 0.062411 \n",
      "\n",
      "Epoch 6\n",
      "-------------------------------\n",
      "loss: 0.056843  [  128/60000]\n",
      "loss: 0.027255  [12928/60000]\n",
      "loss: 0.037845  [25728/60000]\n",
      "loss: 0.057333  [38528/60000]\n",
      "loss: 0.088488  [51328/60000]\n",
      "Test Error: \n",
      " Accuracy: 98.2%, Avg loss: 0.056389 \n",
      "\n",
      "Epoch 7\n",
      "-------------------------------\n",
      "loss: 0.048800  [  128/60000]\n",
      "loss: 0.023047  [12928/60000]\n",
      "loss: 0.036891  [25728/60000]\n",
      "loss: 0.061361  [38528/60000]\n",
      "loss: 0.090020  [51328/60000]\n",
      "Test Error: \n",
      " Accuracy: 98.2%, Avg loss: 0.056195 \n",
      "\n",
      "Epoch 8\n",
      "-------------------------------\n",
      "loss: 0.047173  [  128/60000]\n",
      "loss: 0.020326  [12928/60000]\n",
      "loss: 0.029687  [25728/60000]\n",
      "loss: 0.058616  [38528/60000]\n",
      "loss: 0.088013  [51328/60000]\n",
      "Test Error: \n",
      " Accuracy: 98.2%, Avg loss: 0.053219 \n",
      "\n",
      "Epoch 9\n",
      "-------------------------------\n",
      "loss: 0.040723  [  128/60000]\n",
      "loss: 0.022471  [12928/60000]\n",
      "loss: 0.024838  [25728/60000]\n",
      "loss: 0.051518  [38528/60000]\n",
      "loss: 0.092857  [51328/60000]\n",
      "Test Error: \n",
      " Accuracy: 98.1%, Avg loss: 0.055871 \n",
      "\n",
      "Epoch 10\n",
      "-------------------------------\n",
      "loss: 0.027405  [  128/60000]\n",
      "loss: 0.025750  [12928/60000]\n",
      "loss: 0.025916  [25728/60000]\n",
      "loss: 0.041825  [38528/60000]\n",
      "loss: 0.105083  [51328/60000]\n",
      "Test Error: \n",
      " Accuracy: 98.2%, Avg loss: 0.056531 \n",
      "\n",
      "Done!\n"
     ]
    }
   ],
   "source": [
    "for t in range(epochs):\n",
    "    print(f\"Epoch {t+1}\\n-------------------------------\")\n",
    "    train(train_dataloader, model, loss_fn, optimizer,scheduler)\n",
    "    test(test_dataloader, model, loss_fn)\n",
    "print(\"Done!\")"
   ]
  },
  {
   "cell_type": "markdown",
   "metadata": {},
   "source": [
    "# Save and Load Model"
   ]
  },
  {
   "cell_type": "code",
   "execution_count": 86,
   "metadata": {},
   "outputs": [
    {
     "name": "stdout",
     "output_type": "stream",
     "text": [
      "Saved PyTorch Model State to model/mnist_cnn.pth\n"
     ]
    }
   ],
   "source": [
    "torch.save(model.state_dict(), \"model/mnist_cnn.pth\")\n",
    "print(\"Saved PyTorch Model State to model/mnist_cnn.pth\")"
   ]
  },
  {
   "cell_type": "code",
   "execution_count": 87,
   "metadata": {},
   "outputs": [],
   "source": [
    "model = NeuralNetwork()\n",
    "model.load_state_dict(torch.load(\"model/mnist_cnn.pth\"))\n",
    "model.to(device);"
   ]
  },
  {
   "cell_type": "code",
   "execution_count": 88,
   "metadata": {},
   "outputs": [
    {
     "name": "stdout",
     "output_type": "stream",
     "text": [
      "Test Error: \n",
      " Accuracy: 98.2%, Avg loss: 0.056531 \n",
      "\n"
     ]
    }
   ],
   "source": [
    "test(test_dataloader, model, loss_fn)"
   ]
  },
  {
   "cell_type": "code",
   "execution_count": 89,
   "metadata": {},
   "outputs": [
    {
     "data": {
      "text/plain": [
       "tensor(0.9795)"
      ]
     },
     "execution_count": 89,
     "metadata": {},
     "output_type": "execute_result"
    }
   ],
   "source": [
    "X = test_data.data.view(-1,1,28,28).float().to(device)\n",
    "pred = torch.argmax(model(X),1)\n",
    "res = pred.to('cpu')  == test_data.targets\n",
    "sum(res)/len(res)"
   ]
  }
 ],
 "metadata": {
  "kernelspec": {
   "display_name": "Python 3 (ipykernel)",
   "language": "python",
   "name": "python3"
  },
  "language_info": {
   "codemirror_mode": {
    "name": "ipython",
    "version": 3
   },
   "file_extension": ".py",
   "mimetype": "text/x-python",
   "name": "python",
   "nbconvert_exporter": "python",
   "pygments_lexer": "ipython3",
   "version": "3.10.11"
  }
 },
 "nbformat": 4,
 "nbformat_minor": 2
}
