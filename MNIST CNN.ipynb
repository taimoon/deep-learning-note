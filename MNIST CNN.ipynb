{
 "cells": [
  {
   "cell_type": "code",
   "execution_count": 1,
   "metadata": {},
   "outputs": [],
   "source": [
    "import torch\n",
    "from torch import nn,optim\n",
    "from torch.utils.data import DataLoader\n",
    "from torchvision import datasets\n",
    "from torchvision.transforms import ToTensor"
   ]
  },
  {
   "cell_type": "markdown",
   "metadata": {},
   "source": [
    "# Loading Data"
   ]
  },
  {
   "cell_type": "code",
   "execution_count": 2,
   "metadata": {},
   "outputs": [],
   "source": [
    "force = False\n",
    "training_data = datasets.MNIST('data',train=True,download=force,transform=ToTensor())\n",
    "test_data = datasets.MNIST('data',train=False,transform=ToTensor())"
   ]
  },
  {
   "cell_type": "code",
   "execution_count": 3,
   "metadata": {},
   "outputs": [
    {
     "name": "stdout",
     "output_type": "stream",
     "text": [
      "Shape of X [N, C, H, W]: torch.Size([128, 1, 28, 28])\n",
      "Shape of y: torch.Size([128]) torch.int64\n",
      "Shape of X [N, C, H, W]: torch.Size([128, 1, 28, 28])\n",
      "Shape of y: torch.Size([128]) torch.int64\n"
     ]
    }
   ],
   "source": [
    "batch_size = 128\n",
    "train_dataloader = DataLoader(training_data,batch_size=batch_size)\n",
    "test_dataloader = DataLoader(test_data,batch_size=batch_size)\n",
    "first_data = lambda dataloader : next(iter(dataloader))\n",
    "\n",
    "X,y = first_data(train_dataloader)\n",
    "\n",
    "print(f\"Shape of X [N, C, H, W]: {X.shape}\")\n",
    "print(f\"Shape of y: {y.shape} {y.dtype}\")\n",
    "\n",
    "X,y = first_data(test_dataloader)\n",
    "print(f\"Shape of X [N, C, H, W]: {X.shape}\")\n",
    "print(f\"Shape of y: {y.shape} {y.dtype}\")"
   ]
  },
  {
   "cell_type": "markdown",
   "metadata": {},
   "source": [
    "# Device for Training"
   ]
  },
  {
   "cell_type": "code",
   "execution_count": 4,
   "metadata": {},
   "outputs": [
    {
     "name": "stdout",
     "output_type": "stream",
     "text": [
      "Using cuda device\n"
     ]
    }
   ],
   "source": [
    "# Get cpu, gpu or mps device for training.\n",
    "device = (\n",
    "    \"cuda\"\n",
    "    if torch.cuda.is_available()\n",
    "    else \"mps\"\n",
    "    if torch.backends.mps.is_available()\n",
    "    else \"cpu\"\n",
    ")\n",
    "print(f\"Using {device} device\")"
   ]
  },
  {
   "cell_type": "markdown",
   "metadata": {},
   "source": [
    "# Model Development"
   ]
  },
  {
   "cell_type": "code",
   "execution_count": 5,
   "metadata": {},
   "outputs": [
    {
     "name": "stdout",
     "output_type": "stream",
     "text": [
      "NeuralNetwork(\n",
      "  (conv): Sequential(\n",
      "    (0): Conv2d(1, 12, kernel_size=(3, 3), stride=(1, 1))\n",
      "    (1): ReLU()\n",
      "    (2): Conv2d(12, 24, kernel_size=(6, 6), stride=(2, 2))\n",
      "    (3): ReLU()\n",
      "    (4): Conv2d(24, 32, kernel_size=(6, 6), stride=(2, 2))\n",
      "    (5): ReLU()\n",
      "  )\n",
      "  (flatten): Flatten(start_dim=1, end_dim=-1)\n",
      "  (linear_relu_stack): Sequential(\n",
      "    (0): Linear(in_features=288, out_features=100, bias=True)\n",
      "    (1): ReLU()\n",
      "    (2): Linear(in_features=100, out_features=10, bias=True)\n",
      "    (3): LogSoftmax(dim=None)\n",
      "  )\n",
      ")\n"
     ]
    }
   ],
   "source": [
    "class NeuralNetwork(nn.Module):\n",
    "    def __init__(self):\n",
    "        super().__init__()\n",
    "        self.conv = nn.Sequential(\n",
    "            nn.Conv2d(1, 12, kernel_size=3),\n",
    "            nn.ReLU(),\n",
    "            nn.Conv2d(12, 24, kernel_size=6, stride=2),\n",
    "            nn.ReLU(),\n",
    "            nn.Conv2d(24, 32, kernel_size=6, stride=2),\n",
    "            nn.ReLU(),\n",
    "        )\n",
    "        self.flatten = nn.Flatten()\n",
    "        self.linear_relu_stack = nn.Sequential(\n",
    "            nn.Linear(288, 100),\n",
    "            nn.ReLU(),\n",
    "            nn.Linear(100, 10),\n",
    "            nn.LogSoftmax(),\n",
    "        )\n",
    "\n",
    "    def forward(self, x):\n",
    "        x = self.conv(x)\n",
    "        x = self.flatten(x)\n",
    "        logits = self.linear_relu_stack(x)\n",
    "        return logits\n",
    "\n",
    "model = NeuralNetwork().to(device)\n",
    "print(model)"
   ]
  },
  {
   "cell_type": "markdown",
   "metadata": {},
   "source": [
    "# Optimization configuration"
   ]
  },
  {
   "cell_type": "code",
   "execution_count": 6,
   "metadata": {},
   "outputs": [],
   "source": [
    "# optimization configurations\n",
    "loss_fn = nn.CrossEntropyLoss()\n",
    "epochs = 10\n",
    "max_learning_rate = 0.01\n",
    "optimizer = torch.optim.Adam(model.parameters(), lr=max_learning_rate)\n",
    "scheduler = optim.lr_scheduler.OneCycleLR(optimizer,\n",
    "                                          max_lr = max_learning_rate,\n",
    "                                          total_steps = 10 * 60000,)"
   ]
  },
  {
   "cell_type": "markdown",
   "metadata": {},
   "source": [
    "# Develop Optimization Iteration"
   ]
  },
  {
   "cell_type": "code",
   "execution_count": 7,
   "metadata": {},
   "outputs": [],
   "source": [
    "def train(dataloader, model, loss_fn, optimizer,scheduler):\n",
    "    size = len(dataloader.dataset)\n",
    "    model.train()\n",
    "    for batch, (X, y) in enumerate(dataloader):\n",
    "        X, y = X.to(device), y.to(device)\n",
    "\n",
    "        # Compute prediction error\n",
    "        pred = model(X)\n",
    "        loss = loss_fn(pred, y)\n",
    "\n",
    "        # Backpropagation\n",
    "        optimizer.zero_grad()\n",
    "        loss.backward()\n",
    "        optimizer.step()\n",
    "        scheduler.step(loss)\n",
    "        \n",
    "        # Print Stats\n",
    "        if batch % 100 == 0:\n",
    "            loss, current = loss.item(), (batch + 1) * len(X)\n",
    "            print(f\"loss: {loss:>7f}  [{current:>5d}/{size:>5d}]\")"
   ]
  },
  {
   "cell_type": "code",
   "execution_count": 8,
   "metadata": {},
   "outputs": [],
   "source": [
    "def test(dataloader, model, loss_fn):\n",
    "    size = len(dataloader.dataset)\n",
    "    num_batches = len(dataloader)\n",
    "    model.eval()\n",
    "    test_loss, correct = 0, 0\n",
    "    with torch.no_grad():\n",
    "        for X, y in dataloader:\n",
    "            X, y = X.to(device), y.to(device)\n",
    "            pred = model(X)\n",
    "            test_loss += loss_fn(pred, y).item()\n",
    "            correct += (pred.argmax(1) == y).type(torch.float).sum().item()\n",
    "    test_loss /= num_batches\n",
    "    correct /= size\n",
    "    print(f\"Test Error: \\n Accuracy: {(100*correct):>0.1f}%, Avg loss: {test_loss:>8f} \\n\")"
   ]
  },
  {
   "cell_type": "markdown",
   "metadata": {},
   "source": [
    "# Run the iteration"
   ]
  },
  {
   "cell_type": "code",
   "execution_count": 9,
   "metadata": {},
   "outputs": [
    {
     "name": "stdout",
     "output_type": "stream",
     "text": [
      "Epoch 1\n",
      "-------------------------------\n"
     ]
    },
    {
     "name": "stderr",
     "output_type": "stream",
     "text": [
      "C:\\Users\\Leong Teng Man\\AppData\\Roaming\\Python\\Python310\\site-packages\\torch\\nn\\modules\\container.py:217: UserWarning: Implicit dimension choice for log_softmax has been deprecated. Change the call to include dim=X as an argument.\n",
      "  input = module(input)\n",
      "C:\\Users\\Leong Teng Man\\AppData\\Roaming\\Python\\Python310\\site-packages\\torch\\optim\\lr_scheduler.py:152: UserWarning: The epoch parameter in `scheduler.step()` was not necessary and is being deprecated where possible. Please use `scheduler.step()` to step the scheduler. During the deprecation, if epoch is different from None, the closed form is used instead of the new chainable form, where available. Please open an issue if you are unable to replicate your use case: https://github.com/pytorch/pytorch/issues/new/choose.\n",
      "  warnings.warn(EPOCH_DEPRECATION_WARNING, UserWarning)\n"
     ]
    },
    {
     "name": "stdout",
     "output_type": "stream",
     "text": [
      "loss: 2.293403  [  128/60000]\n",
      "loss: 0.435858  [12928/60000]\n",
      "loss: 0.283031  [25728/60000]\n",
      "loss: 0.264787  [38528/60000]\n",
      "loss: 0.322046  [51328/60000]\n",
      "Test Error: \n",
      " Accuracy: 93.1%, Avg loss: 0.221040 \n",
      "\n",
      "Epoch 2\n",
      "-------------------------------\n",
      "loss: 0.162503  [  128/60000]\n",
      "loss: 0.161412  [12928/60000]\n",
      "loss: 0.151768  [25728/60000]\n",
      "loss: 0.117160  [38528/60000]\n",
      "loss: 0.193183  [51328/60000]\n",
      "Test Error: \n",
      " Accuracy: 96.0%, Avg loss: 0.123754 \n",
      "\n",
      "Epoch 3\n",
      "-------------------------------\n",
      "loss: 0.079623  [  128/60000]\n",
      "loss: 0.108139  [12928/60000]\n",
      "loss: 0.099380  [25728/60000]\n",
      "loss: 0.081984  [38528/60000]\n",
      "loss: 0.141204  [51328/60000]\n",
      "Test Error: \n",
      " Accuracy: 97.4%, Avg loss: 0.084230 \n",
      "\n",
      "Epoch 4\n",
      "-------------------------------\n",
      "loss: 0.066061  [  128/60000]\n",
      "loss: 0.091831  [12928/60000]\n",
      "loss: 0.070707  [25728/60000]\n",
      "loss: 0.058937  [38528/60000]\n",
      "loss: 0.112497  [51328/60000]\n",
      "Test Error: \n",
      " Accuracy: 97.8%, Avg loss: 0.068305 \n",
      "\n",
      "Epoch 5\n",
      "-------------------------------\n",
      "loss: 0.056878  [  128/60000]\n",
      "loss: 0.085818  [12928/60000]\n",
      "loss: 0.062483  [25728/60000]\n",
      "loss: 0.045567  [38528/60000]\n",
      "loss: 0.100234  [51328/60000]\n",
      "Test Error: \n",
      " Accuracy: 98.1%, Avg loss: 0.057073 \n",
      "\n",
      "Epoch 6\n",
      "-------------------------------\n",
      "loss: 0.046696  [  128/60000]\n",
      "loss: 0.097520  [12928/60000]\n",
      "loss: 0.060362  [25728/60000]\n",
      "loss: 0.040619  [38528/60000]\n",
      "loss: 0.102972  [51328/60000]\n",
      "Test Error: \n",
      " Accuracy: 98.3%, Avg loss: 0.051545 \n",
      "\n",
      "Epoch 7\n",
      "-------------------------------\n",
      "loss: 0.036414  [  128/60000]\n",
      "loss: 0.083496  [12928/60000]\n",
      "loss: 0.055096  [25728/60000]\n",
      "loss: 0.035824  [38528/60000]\n",
      "loss: 0.098542  [51328/60000]\n",
      "Test Error: \n",
      " Accuracy: 98.2%, Avg loss: 0.050602 \n",
      "\n",
      "Epoch 8\n",
      "-------------------------------\n",
      "loss: 0.033441  [  128/60000]\n",
      "loss: 0.062672  [12928/60000]\n",
      "loss: 0.053713  [25728/60000]\n",
      "loss: 0.029697  [38528/60000]\n",
      "loss: 0.103709  [51328/60000]\n",
      "Test Error: \n",
      " Accuracy: 98.4%, Avg loss: 0.046734 \n",
      "\n",
      "Epoch 9\n",
      "-------------------------------\n",
      "loss: 0.027095  [  128/60000]\n",
      "loss: 0.064752  [12928/60000]\n",
      "loss: 0.045722  [25728/60000]\n",
      "loss: 0.027115  [38528/60000]\n",
      "loss: 0.104175  [51328/60000]\n",
      "Test Error: \n",
      " Accuracy: 98.4%, Avg loss: 0.044915 \n",
      "\n",
      "Epoch 10\n",
      "-------------------------------\n",
      "loss: 0.020897  [  128/60000]\n",
      "loss: 0.067255  [12928/60000]\n",
      "loss: 0.033603  [25728/60000]\n",
      "loss: 0.026389  [38528/60000]\n",
      "loss: 0.103030  [51328/60000]\n",
      "Test Error: \n",
      " Accuracy: 98.4%, Avg loss: 0.046009 \n",
      "\n",
      "Done!\n"
     ]
    }
   ],
   "source": [
    "for t in range(epochs):\n",
    "    print(f\"Epoch {t+1}\\n-------------------------------\")\n",
    "    train(train_dataloader, model, loss_fn, optimizer,scheduler)\n",
    "    test(test_dataloader, model, loss_fn)\n",
    "print(\"Done!\")"
   ]
  },
  {
   "cell_type": "markdown",
   "metadata": {},
   "source": [
    "# Save and Load Model"
   ]
  },
  {
   "cell_type": "code",
   "execution_count": 10,
   "metadata": {},
   "outputs": [
    {
     "name": "stdout",
     "output_type": "stream",
     "text": [
      "Saved PyTorch Model State to model/mnist_cnn.pth\n"
     ]
    }
   ],
   "source": [
    "torch.save(model.state_dict(), \"model/mnist_cnn.pth\")\n",
    "print(\"Saved PyTorch Model State to model/mnist_cnn.pth\")"
   ]
  },
  {
   "cell_type": "code",
   "execution_count": 11,
   "metadata": {},
   "outputs": [],
   "source": [
    "model = NeuralNetwork()\n",
    "model.load_state_dict(torch.load(\"model/mnist_cnn.pth\"))\n",
    "model.to(device);"
   ]
  },
  {
   "cell_type": "code",
   "execution_count": 12,
   "metadata": {},
   "outputs": [
    {
     "name": "stdout",
     "output_type": "stream",
     "text": [
      "Test Error: \n",
      " Accuracy: 98.4%, Avg loss: 0.046009 \n",
      "\n"
     ]
    }
   ],
   "source": [
    "test(test_dataloader, model, loss_fn)"
   ]
  },
  {
   "cell_type": "code",
   "execution_count": 13,
   "metadata": {},
   "outputs": [
    {
     "data": {
      "text/plain": [
       "tensor(0.9653)"
      ]
     },
     "execution_count": 13,
     "metadata": {},
     "output_type": "execute_result"
    }
   ],
   "source": [
    "X = test_data.data.view(-1,1,28,28).float().to(device)\n",
    "pred = torch.argmax(model(X),1)\n",
    "res = pred.to('cpu')  == test_data.targets\n",
    "sum(res)/len(res)"
   ]
  }
 ],
 "metadata": {
  "kernelspec": {
   "display_name": "Python 3 (ipykernel)",
   "language": "python",
   "name": "python3"
  },
  "language_info": {
   "codemirror_mode": {
    "name": "ipython",
    "version": 3
   },
   "file_extension": ".py",
   "mimetype": "text/x-python",
   "name": "python",
   "nbconvert_exporter": "python",
   "pygments_lexer": "ipython3",
   "version": "3.10.11"
  }
 },
 "nbformat": 4,
 "nbformat_minor": 2
}
