{
 "cells": [
  {
   "cell_type": "code",
   "execution_count": 1,
   "metadata": {},
   "outputs": [],
   "source": [
    "import torch\n",
    "from torch import nn,optim\n",
    "from torch.utils.data import DataLoader\n",
    "from torchvision import datasets\n",
    "from torchvision.transforms import ToTensor"
   ]
  },
  {
   "cell_type": "markdown",
   "metadata": {},
   "source": [
    "# Loading Data"
   ]
  },
  {
   "cell_type": "code",
   "execution_count": 2,
   "metadata": {},
   "outputs": [],
   "source": [
    "force = False\n",
    "training_data = datasets.MNIST('data',train=True,download=force,transform=ToTensor())\n",
    "test_data = datasets.MNIST('data',train=False,transform=ToTensor())"
   ]
  },
  {
   "cell_type": "code",
   "execution_count": 6,
   "metadata": {},
   "outputs": [
    {
     "name": "stdout",
     "output_type": "stream",
     "text": [
      "Shape of X [N, C, H, W]: torch.Size([128, 1, 28, 28])\n",
      "Shape of y: torch.Size([128]) torch.int64\n",
      "Shape of X [N, C, H, W]: torch.Size([128, 1, 28, 28])\n",
      "Shape of y: torch.Size([128]) torch.int64\n"
     ]
    }
   ],
   "source": [
    "batch_size = 128\n",
    "train_dataloader = DataLoader(training_data,batch_size=batch_size)\n",
    "test_dataloader = DataLoader(test_data,batch_size=batch_size)\n",
    "first_data = lambda dataloader : next(iter(dataloader))\n",
    "\n",
    "X,y = first_data(train_dataloader)\n",
    "\n",
    "print(f\"Shape of X [N, C, H, W]: {X.shape}\")\n",
    "print(f\"Shape of y: {y.shape} {y.dtype}\")\n",
    "\n",
    "X,y = first_data(test_dataloader)\n",
    "print(f\"Shape of X [N, C, H, W]: {X.shape}\")\n",
    "print(f\"Shape of y: {y.shape} {y.dtype}\")"
   ]
  },
  {
   "cell_type": "markdown",
   "metadata": {},
   "source": [
    "# Device for Training"
   ]
  },
  {
   "cell_type": "code",
   "execution_count": 4,
   "metadata": {},
   "outputs": [
    {
     "name": "stdout",
     "output_type": "stream",
     "text": [
      "Using cuda device\n"
     ]
    }
   ],
   "source": [
    "# Get cpu, gpu or mps device for training.\n",
    "device = (\n",
    "    \"cuda\"\n",
    "    if torch.cuda.is_available()\n",
    "    else \"mps\"\n",
    "    if torch.backends.mps.is_available()\n",
    "    else \"cpu\"\n",
    ")\n",
    "print(f\"Using {device} device\")"
   ]
  },
  {
   "cell_type": "markdown",
   "metadata": {},
   "source": [
    "# Model Development"
   ]
  },
  {
   "cell_type": "code",
   "execution_count": 5,
   "metadata": {},
   "outputs": [],
   "source": [
    "class NeuralNetwork(nn.Module):\n",
    "    def __init__(self):\n",
    "        super().__init__()\n",
    "        \n",
    "        self.conv = nn.Sequential(\n",
    "            nn.Conv2d(1, 32, kernel_size=5, stride=2, padding=1),\n",
    "            nn.ReLU(),\n",
    "            nn.MaxPool2d(kernel_size=2, stride=2),\n",
    "            nn.Conv2d(32, 96, kernel_size=4, stride=1, padding=1),\n",
    "            nn.ReLU(),\n",
    "            nn.MaxPool2d(kernel_size=2, stride=2),\n",
    "            nn.Conv2d(96, 192, kernel_size=3, stride=1, padding=1),\n",
    "            nn.ReLU(),\n",
    "            nn.Conv2d(192, 128, kernel_size=3, stride=1, padding=1),\n",
    "            nn.ReLU(),\n",
    "            nn.Conv2d(128, 128, kernel_size=3, stride=1, padding=1),\n",
    "            nn.ReLU(),\n",
    "            nn.MaxPool2d(kernel_size=2, stride=2),\n",
    "        )\n",
    "        self.avg_pool = nn.AdaptiveAvgPool2d(output_size=(6, 6))\n",
    "        self.flatten = nn.Flatten()\n",
    "        self.linear_relu_stack = nn.Sequential(\n",
    "            nn.Linear(128*6*6, 2048),\n",
    "            nn.ReLU(),\n",
    "            nn.Linear(2048,1024),\n",
    "            nn.ReLU(),\n",
    "            nn.Linear(1024, 10),\n",
    "            nn.LogSoftmax(),\n",
    "        )\n",
    "\n",
    "    def forward(self, x):\n",
    "        x = self.conv(x)\n",
    "        x = self.avg_pool(x)\n",
    "        x = self.flatten(x)\n",
    "        logits = self.linear_relu_stack(x)\n",
    "        return logits\n",
    "\n",
    "model = NeuralNetwork().to(device)\n",
    "print(model)"
   ]
  },
  {
   "cell_type": "markdown",
   "metadata": {},
   "source": [
    "# Optimization configuration"
   ]
  },
  {
   "cell_type": "code",
   "execution_count": null,
   "metadata": {},
   "outputs": [],
   "source": [
    "# optimization configurations\n",
    "loss_fn = nn.CrossEntropyLoss()\n",
    "epochs = 10\n",
    "max_learning_rate = 0.01\n",
    "optimizer = torch.optim.Adam(model.parameters(), lr=max_learning_rate)\n",
    "scheduler = optim.lr_scheduler.OneCycleLR(optimizer,\n",
    "                                          max_lr = max_learning_rate,\n",
    "                                          total_steps = 10 * 60000,)"
   ]
  },
  {
   "cell_type": "markdown",
   "metadata": {},
   "source": [
    "# Develop Optimization Iteration"
   ]
  },
  {
   "cell_type": "code",
   "execution_count": 6,
   "metadata": {},
   "outputs": [],
   "source": [
    "def train(dataloader, model, loss_fn, optimizer,scheduler):\n",
    "    size = len(dataloader.dataset)\n",
    "    model.train()\n",
    "    for batch, (X, y) in enumerate(dataloader):\n",
    "        X, y = X.to(device), y.to(device)\n",
    "\n",
    "        # Compute prediction error\n",
    "        pred = model(X)\n",
    "        loss = loss_fn(pred, y)\n",
    "\n",
    "        # Backpropagation\n",
    "        optimizer.zero_grad()\n",
    "        loss.backward()\n",
    "        optimizer.step()\n",
    "        scheduler.step()\n",
    "        \n",
    "        # Print Stats\n",
    "        if batch % 100 == 0:\n",
    "            loss, current = loss.item(), (batch + 1) * len(X)\n",
    "            print(f\"loss: {loss:>7f}  [{current:>5d}/{size:>5d}]\")"
   ]
  },
  {
   "cell_type": "code",
   "execution_count": 7,
   "metadata": {},
   "outputs": [],
   "source": [
    "def test(dataloader, model, loss_fn):\n",
    "    size = len(dataloader.dataset)\n",
    "    num_batches = len(dataloader)\n",
    "    model.eval()\n",
    "    test_loss, correct = 0, 0\n",
    "    with torch.no_grad():\n",
    "        for X, y in dataloader:\n",
    "            X, y = X.to(device), y.to(device)\n",
    "            pred = model(X)\n",
    "            test_loss += loss_fn(pred, y).item()\n",
    "            correct += (pred.argmax(1) == y).type(torch.float).sum().item()\n",
    "    test_loss /= num_batches\n",
    "    correct /= size\n",
    "    print(f\"Test Error: \\n Accuracy: {(100*correct):>0.1f}%, Avg loss: {test_loss:>8f} \\n\")"
   ]
  },
  {
   "cell_type": "markdown",
   "metadata": {},
   "source": [
    "# Run the iteration"
   ]
  },
  {
   "cell_type": "code",
   "execution_count": 8,
   "metadata": {},
   "outputs": [
    {
     "name": "stdout",
     "output_type": "stream",
     "text": [
      "Epoch 1\n",
      "-------------------------------\n"
     ]
    },
    {
     "name": "stderr",
     "output_type": "stream",
     "text": [
      "C:\\Users\\Leong Teng Man\\AppData\\Roaming\\Python\\Python310\\site-packages\\torch\\nn\\modules\\container.py:217: UserWarning: Implicit dimension choice for log_softmax has been deprecated. Change the call to include dim=X as an argument.\n",
      "  input = module(input)\n"
     ]
    },
    {
     "name": "stdout",
     "output_type": "stream",
     "text": [
      "loss: 2.302509  [  128/60000]\n",
      "loss: 0.873454  [12928/60000]\n",
      "loss: 0.409014  [25728/60000]\n",
      "loss: 0.157711  [38528/60000]\n",
      "loss: 0.208298  [51328/60000]\n",
      "Test Error: \n",
      " Accuracy: 95.3%, Avg loss: 0.149849 \n",
      "\n",
      "Epoch 2\n",
      "-------------------------------\n",
      "loss: 0.062904  [  128/60000]\n",
      "loss: 0.086543  [12928/60000]\n",
      "loss: 0.135236  [25728/60000]\n",
      "loss: 0.095669  [38528/60000]\n",
      "loss: 0.170879  [51328/60000]\n",
      "Test Error: \n",
      " Accuracy: 97.3%, Avg loss: 0.093582 \n",
      "\n",
      "Epoch 3\n",
      "-------------------------------\n",
      "loss: 0.027007  [  128/60000]\n",
      "loss: 0.049372  [12928/60000]\n",
      "loss: 0.111099  [25728/60000]\n",
      "loss: 0.086875  [38528/60000]\n",
      "loss: 0.098707  [51328/60000]\n",
      "Test Error: \n",
      " Accuracy: 97.6%, Avg loss: 0.085163 \n",
      "\n",
      "Epoch 4\n",
      "-------------------------------\n",
      "loss: 0.021234  [  128/60000]\n",
      "loss: 0.050863  [12928/60000]\n",
      "loss: 0.123834  [25728/60000]\n",
      "loss: 0.065911  [38528/60000]\n",
      "loss: 0.078001  [51328/60000]\n",
      "Test Error: \n",
      " Accuracy: 98.6%, Avg loss: 0.048823 \n",
      "\n",
      "Epoch 5\n",
      "-------------------------------\n",
      "loss: 0.006444  [  128/60000]\n",
      "loss: 0.091575  [12928/60000]\n",
      "loss: 0.085121  [25728/60000]\n",
      "loss: 0.059342  [38528/60000]\n",
      "loss: 0.100140  [51328/60000]\n",
      "Test Error: \n",
      " Accuracy: 98.5%, Avg loss: 0.051084 \n",
      "\n",
      "Epoch 6\n",
      "-------------------------------\n",
      "loss: 0.007529  [  128/60000]\n",
      "loss: 0.068826  [12928/60000]\n",
      "loss: 0.098813  [25728/60000]\n",
      "loss: 0.020912  [38528/60000]\n",
      "loss: 0.030840  [51328/60000]\n",
      "Test Error: \n",
      " Accuracy: 98.4%, Avg loss: 0.063952 \n",
      "\n",
      "Epoch 7\n",
      "-------------------------------\n",
      "loss: 0.007201  [  128/60000]\n",
      "loss: 0.081728  [12928/60000]\n",
      "loss: 0.079407  [25728/60000]\n",
      "loss: 0.045601  [38528/60000]\n",
      "loss: 0.080475  [51328/60000]\n",
      "Test Error: \n",
      " Accuracy: 98.4%, Avg loss: 0.059871 \n",
      "\n",
      "Epoch 8\n",
      "-------------------------------\n",
      "loss: 0.001825  [  128/60000]\n",
      "loss: 0.010686  [12928/60000]\n",
      "loss: 0.085166  [25728/60000]\n",
      "loss: 0.051011  [38528/60000]\n",
      "loss: 0.040420  [51328/60000]\n",
      "Test Error: \n",
      " Accuracy: 98.1%, Avg loss: 0.076664 \n",
      "\n",
      "Epoch 9\n",
      "-------------------------------\n",
      "loss: 0.017853  [  128/60000]\n",
      "loss: 0.027989  [12928/60000]\n",
      "loss: 0.063845  [25728/60000]\n",
      "loss: 0.012194  [38528/60000]\n",
      "loss: 0.039539  [51328/60000]\n",
      "Test Error: \n",
      " Accuracy: 98.7%, Avg loss: 0.060333 \n",
      "\n",
      "Epoch 10\n",
      "-------------------------------\n",
      "loss: 0.000987  [  128/60000]\n",
      "loss: 0.016010  [12928/60000]\n",
      "loss: 0.038577  [25728/60000]\n",
      "loss: 0.016251  [38528/60000]\n",
      "loss: 0.071112  [51328/60000]\n",
      "Test Error: \n",
      " Accuracy: 98.3%, Avg loss: 0.082364 \n",
      "\n",
      "Done!\n"
     ]
    }
   ],
   "source": [
    "for t in range(epochs):\n",
    "    print(f\"Epoch {t+1}\\n-------------------------------\")\n",
    "    train(train_dataloader, model, loss_fn, optimizer,scheduler)\n",
    "    test(test_dataloader, model, loss_fn)\n",
    "print(\"Done!\")"
   ]
  },
  {
   "cell_type": "markdown",
   "metadata": {},
   "source": [
    "# Save and Load Model"
   ]
  },
  {
   "cell_type": "code",
   "execution_count": 9,
   "metadata": {},
   "outputs": [
    {
     "name": "stdout",
     "output_type": "stream",
     "text": [
      "Saved PyTorch Model State to model/mnist_cnn.pth\n"
     ]
    }
   ],
   "source": [
    "torch.save(model.state_dict(), \"model/mnist_cnn.pth\")\n",
    "print(\"Saved PyTorch Model State to model/mnist_cnn.pth\")"
   ]
  },
  {
   "cell_type": "code",
   "execution_count": 10,
   "metadata": {},
   "outputs": [],
   "source": [
    "model = NeuralNetwork()\n",
    "model.load_state_dict(torch.load(\"model/mnist_cnn.pth\"))\n",
    "model.to(device);"
   ]
  },
  {
   "cell_type": "code",
   "execution_count": 11,
   "metadata": {},
   "outputs": [
    {
     "name": "stdout",
     "output_type": "stream",
     "text": [
      "Test Error: \n",
      " Accuracy: 98.3%, Avg loss: 0.082364 \n",
      "\n"
     ]
    }
   ],
   "source": [
    "test(test_dataloader, model, loss_fn)"
   ]
  }
 ],
 "metadata": {
  "kernelspec": {
   "display_name": "Python 3 (ipykernel)",
   "language": "python",
   "name": "python3"
  },
  "language_info": {
   "codemirror_mode": {
    "name": "ipython",
    "version": 3
   },
   "file_extension": ".py",
   "mimetype": "text/x-python",
   "name": "python",
   "nbconvert_exporter": "python",
   "pygments_lexer": "ipython3",
   "version": "3.10.11"
  }
 },
 "nbformat": 4,
 "nbformat_minor": 2
}
