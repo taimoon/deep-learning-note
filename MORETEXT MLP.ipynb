{
 "cells": [
  {
   "cell_type": "code",
   "execution_count": 158,
   "metadata": {},
   "outputs": [],
   "source": [
    "import torch\n",
    "from torch import nn,optim\n",
    "import torch.nn.functional as F\n",
    "import numpy as np\n",
    "import matplotlib.pyplot as plt"
   ]
  },
  {
   "cell_type": "code",
   "execution_count": 159,
   "metadata": {},
   "outputs": [
    {
     "data": {
      "text/plain": [
       "['emma', 'olivia', 'ava', 'isabella', 'sophia']"
      ]
     },
     "execution_count": 159,
     "metadata": {},
     "output_type": "execute_result"
    }
   ],
   "source": [
    "with open(\"data/names.txt\",\"r\") as f:\n",
    "    words = f.read().lower().split('\\n')\n",
    "words[:5]"
   ]
  },
  {
   "cell_type": "code",
   "execution_count": 160,
   "metadata": {},
   "outputs": [
    {
     "name": "stdout",
     "output_type": "stream",
     "text": [
      "Using cuda device\n"
     ]
    }
   ],
   "source": [
    "# Get cpu, gpu or mps device for training.\n",
    "device = (\n",
    "    \"cuda\"\n",
    "    if torch.cuda.is_available()\n",
    "    else \"mps\"\n",
    "    if torch.backends.mps.is_available()\n",
    "    else \"cpu\"\n",
    ")\n",
    "print(f\"Using {device} device\")"
   ]
  },
  {
   "cell_type": "code",
   "execution_count": 161,
   "metadata": {},
   "outputs": [],
   "source": [
    "chars = sorted(list(set(''.join(words))))\n",
    "str_to_idx = {c:i+1 for i,c in enumerate(chars)}\n",
    "str_to_idx['.'] = 0\n",
    "idx_to_str = {i:c for c,i in str_to_idx.items()}"
   ]
  },
  {
   "cell_type": "code",
   "execution_count": 168,
   "metadata": {},
   "outputs": [],
   "source": [
    "block_size = 3\n",
    "embed_sz = 5\n",
    "vocab_size = len(str_to_idx)"
   ]
  },
  {
   "cell_type": "code",
   "execution_count": 169,
   "metadata": {},
   "outputs": [],
   "source": [
    "def build_dateset(words):\n",
    "    X, Y = [],[]\n",
    "    \n",
    "    for w in words:\n",
    "        context = [0] * block_size\n",
    "        for ch in w + '.':\n",
    "            ix = str_to_idx[ch]\n",
    "            X.append(context)\n",
    "            Y.append(ix)\n",
    "            context = context[1:] + [ix]\n",
    "    \n",
    "    return torch.tensor(X).to(device),torch.tensor(Y).to(device)\n",
    "\n",
    "import random\n",
    "random.seed(42)\n",
    "random.shuffle(words)\n",
    "n1 = int(0.8*len(words))\n",
    "n2 = int(0.9*len(words))\n",
    "\n",
    "Xtr,Ytr = build_dateset(words[:n1])\n",
    "Xdev,Ydev = build_dateset(words[n1:n2])\n",
    "Xte,Yte = build_dateset(words[n2:])"
   ]
  },
  {
   "attachments": {},
   "cell_type": "markdown",
   "metadata": {},
   "source": [
    "# Embedding\n",
    "Develop a MLP that beats NGRAM model."
   ]
  },
  {
   "cell_type": "code",
   "execution_count": 170,
   "metadata": {},
   "outputs": [],
   "source": [
    "class Emb_Model(nn.Module):\n",
    "    def __init__(self):\n",
    "        super().__init__()\n",
    "        self.main = nn.Sequential(\n",
    "            nn.Embedding(vocab_size,embed_sz),\n",
    "            nn.Flatten(),\n",
    "            nn.Linear(embed_sz*block_size, 200),\n",
    "            nn.Tanh(),\n",
    "            nn.Linear(200, vocab_size),\n",
    "            # nn.Softmax()\n",
    "        )\n",
    "    def forward(self, x):\n",
    "        logits = self.main(x)\n",
    "        return logits\n",
    "model = Emb_Model().to(device)"
   ]
  },
  {
   "cell_type": "code",
   "execution_count": 171,
   "metadata": {},
   "outputs": [],
   "source": [
    "# optimization configurations\n",
    "loss_fn = nn.CrossEntropyLoss()\n",
    "epochs = 1000\n",
    "max_learning_rate = 0.1\n",
    "optimizer = torch.optim.Adam(model.parameters(), lr=max_learning_rate)\n",
    "scheduler = optim.lr_scheduler.ReduceLROnPlateau(\n",
    "    optimizer,\n",
    "    cooldown=10,\n",
    "    threshold=1e-3,\n",
    "    mode='min'\n",
    ")"
   ]
  },
  {
   "cell_type": "code",
   "execution_count": 172,
   "metadata": {},
   "outputs": [],
   "source": [
    "train_lossi = []\n",
    "test_lossi = []"
   ]
  },
  {
   "cell_type": "code",
   "execution_count": 173,
   "metadata": {},
   "outputs": [
    {
     "name": "stdout",
     "output_type": "stream",
     "text": [
      "4.094041347503662\n",
      "2.4101717472076416\n",
      "2.3025612831115723\n",
      "2.2534027099609375\n",
      "2.219417095184326\n",
      "2.1946957111358643\n",
      "2.179628849029541\n",
      "2.179506301879883\n",
      "2.179506301879883\n",
      "2.179506301879883\n"
     ]
    }
   ],
   "source": [
    "for i in range(epochs):\n",
    "    # forward pass\n",
    "    pred = model(Xtr)\n",
    "    loss = loss_fn(pred,Ytr)\n",
    "    \n",
    "    # backward pass\n",
    "    optimizer.zero_grad()\n",
    "    loss.backward()\n",
    "    optimizer.step()\n",
    "    scheduler.step(loss)\n",
    "    \n",
    "    # tracing\n",
    "    train_lossi.append(loss.item())\n",
    "    with torch.no_grad():\n",
    "        pred = model(Xte)\n",
    "        loss = loss_fn(pred,Yte)\n",
    "        test_lossi.append(loss.item())\n",
    "    if i % 100 == 0:\n",
    "        print(i,loss.item())\n",
    "# 2.1701"
   ]
  },
  {
   "cell_type": "code",
   "execution_count": 174,
   "metadata": {},
   "outputs": [
    {
     "name": "stdout",
     "output_type": "stream",
     "text": [
      "2.171013832092285\n"
     ]
    }
   ],
   "source": [
    "with torch.no_grad():\n",
    "    pred = model(Xdev)\n",
    "    loss = loss_fn(pred,Ydev)\n",
    "    print(loss.item())"
   ]
  },
  {
   "cell_type": "code",
   "execution_count": 175,
   "metadata": {},
   "outputs": [
    {
     "data": {
      "text/plain": [
       "<matplotlib.legend.Legend at 0x21ecb1ad2a0>"
      ]
     },
     "execution_count": 175,
     "metadata": {},
     "output_type": "execute_result"
    },
    {
     "data": {
      "image/png": "[encoded data removed]",
      "text/plain": [
       "<Figure size 640x480 with 1 Axes>"
      ]
     },
     "metadata": {},
     "output_type": "display_data"
    }
   ],
   "source": [
    "plt.plot(train_lossi[::],label='train')\n",
    "plt.plot(test_lossi[::],label='test')\n",
    "plt.legend()"
   ]
  },
  {
   "cell_type": "code",
   "execution_count": 176,
   "metadata": {},
   "outputs": [
    {
     "name": "stdout",
     "output_type": "stream",
     "text": [
      "krita.\n",
      "elyn.\n",
      "rapee.\n",
      "dagbran.\n",
      "lakonie.\n"
     ]
    }
   ],
   "source": [
    "g = torch.Generator(device).manual_seed(42)\n",
    "for _ in range(5):\n",
    "    out = []\n",
    "    context = [0] * block_size\n",
    "    while True:\n",
    "        logits = model(torch.tensor(context).to(device).view(1,-1))\n",
    "        ix = torch.multinomial(logits.exp(),num_samples=1,generator=g).item()\n",
    "        context = context[1:] +[ix]\n",
    "        out.append(ix)\n",
    "        if ix == 0:\n",
    "            break\n",
    "    print(''.join(idx_to_str[i] for i in out))"
   ]
  }
 ],
 "metadata": {
  "kernelspec": {
   "display_name": "Python 3",
   "language": "python",
   "name": "python3"
  },
  "language_info": {
   "codemirror_mode": {
    "name": "ipython",
    "version": 3
   },
   "file_extension": ".py",
   "mimetype": "text/x-python",
   "name": "python",
   "nbconvert_exporter": "python",
   "pygments_lexer": "ipython3",
   "version": "3.10.11"
  },
  "orig_nbformat": 4
 },
 "nbformat": 4,
 "nbformat_minor": 2
}
