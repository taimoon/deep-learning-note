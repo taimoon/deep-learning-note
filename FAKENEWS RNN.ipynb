{
 "cells": [
  {
   "cell_type": "code",
   "execution_count": 8,
   "metadata": {},
   "outputs": [
    {
     "name": "stdout",
     "output_type": "stream",
     "text": [
      "Using cuda device\n"
     ]
    }
   ],
   "source": [
    "import torch\n",
    "from torch import nn,optim\n",
    "import torch.nn.functional as F\n",
    "import numpy as np\n",
    "import matplotlib.pyplot as plt\n",
    "\n",
    "# Get cpu, gpu or mps device for training.\n",
    "device = (\n",
    "    \"cuda\" \n",
    "    if torch.cuda.is_available() else \"mps\"\n",
    "    if torch.backends.mps.is_available() else \"cpu\"\n",
    ")\n",
    "print(f\"Using {device} device\")"
   ]
  },
  {
   "cell_type": "code",
   "execution_count": 9,
   "metadata": {},
   "outputs": [
    {
     "data": {
      "text/plain": [
       "1000000"
      ]
     },
     "execution_count": 9,
     "metadata": {},
     "output_type": "execute_result"
    }
   ],
   "source": [
    "path = 'data/new_excerpt.txt'\n",
    "with open(path,'r') as fp:\n",
    "    excerpt = fp.read()\n",
    "excerpt = excerpt[:int(1e6)]\n",
    "len(excerpt)"
   ]
  },
  {
   "cell_type": "code",
   "execution_count": 10,
   "metadata": {},
   "outputs": [
    {
     "data": {
      "text/plain": [
       "82"
      ]
     },
     "execution_count": 10,
     "metadata": {},
     "output_type": "execute_result"
    }
   ],
   "source": [
    "chars = set(excerpt)\n",
    "chars = sorted(list(chars))\n",
    "str_to_idx = {c:i for i,c in enumerate(chars)}\n",
    "idx_to_str = {i:c for c,i in str_to_idx.items()}\n",
    "vocab_size = len(str_to_idx)\n",
    "vocab_size"
   ]
  },
  {
   "cell_type": "code",
   "execution_count": 11,
   "metadata": {},
   "outputs": [],
   "source": [
    "encoded = torch.tensor(tuple(str_to_idx[ch] for ch in excerpt))"
   ]
  },
  {
   "cell_type": "code",
   "execution_count": 12,
   "metadata": {},
   "outputs": [],
   "source": [
    "def get_batches(arr, n_seqs, n_steps):\n",
    "    '''Create a generator that returns batches of size\n",
    "       n_seqs x n_steps from arr.\n",
    "       \n",
    "       Arguments\n",
    "       ---------\n",
    "       arr: Array you want to make batches from\n",
    "       n_seqs: Batch size, the number of sequences per batch\n",
    "       n_steps: Number of sequence steps per batch\n",
    "       \n",
    "       Returns\n",
    "       ---------\n",
    "       x: (n_seqs,n_steps)\n",
    "       \n",
    "       y: (n_seqs,n_steps)\n",
    "    '''\n",
    "    \n",
    "    batch_size = n_seqs * n_steps\n",
    "    n_batches = len(arr)//batch_size\n",
    "    \n",
    "    # Keep only enough characters to make full batches\n",
    "    arr = arr[:n_batches * batch_size]\n",
    "    arr = arr.reshape((n_seqs, -1))\n",
    "    \n",
    "    for n in range(0, arr.shape[1], n_steps):\n",
    "        # The features\n",
    "        x = arr[:, n:n+n_steps]\n",
    "        # The targets, shifted by one\n",
    "        y = torch.zeros_like(x) # y = np.zeros_like(x)\n",
    "        try:\n",
    "            y[:, :-1], y[:, -1] = x[:, 1:], arr[:, n+n_steps]\n",
    "        except IndexError:\n",
    "            y[:, :-1], y[:, -1] = x[:, 1:], arr[:, 0]\n",
    "        yield x, y"
   ]
  },
  {
   "cell_type": "code",
   "execution_count": 13,
   "metadata": {},
   "outputs": [],
   "source": [
    "def predict(model, char, h=None, top_k=None):\n",
    "    ''' Given a character, predict the next character.\n",
    "    \n",
    "        Returns the predicted character and the hidden state.\n",
    "    '''\n",
    "    \n",
    "    if h is None:\n",
    "        h = model.init_hidden(1)\n",
    "    \n",
    "    x = [[str_to_idx[char]]]\n",
    "    inputs = torch.tensor(x)\n",
    "    inputs = inputs.to(device)\n",
    "\n",
    "    \n",
    "    h = tuple([each.data for each in h])\n",
    "    out, h = model.forward(inputs, h)\n",
    "\n",
    "    p = F.softmax(out, dim=1).data\n",
    "\n",
    "    \n",
    "    if top_k is None:\n",
    "        top_ch = np.arange(vocab_size)\n",
    "    else:\n",
    "        p, top_ch = p.topk(top_k)\n",
    "        top_ch = top_ch.cpu().numpy().squeeze()\n",
    "    \n",
    "    p = p.cpu().numpy().squeeze()\n",
    "    char = np.random.choice(top_ch, p=p/p.sum())\n",
    "    \n",
    "    return idx_to_str[char], h\n",
    "\n",
    "def sample(net, size, prime='The', top_k=None):\n",
    "    net.eval()\n",
    "    \n",
    "    h = net.init_hidden(1)\n",
    "    h = tuple(hn.to(device) for hn in h)\n",
    "    \n",
    "    chars = [ch for ch in prime]\n",
    "    for ch in prime:\n",
    "        char, h = predict(net, ch, h, top_k=top_k)\n",
    "\n",
    "    chars.append(char)\n",
    "    \n",
    "    # Now pass in the previous character and get a new one\n",
    "    for _ in range(size):\n",
    "        char, h = predict(net, chars[-1], h, top_k=top_k)\n",
    "        chars.append(char)\n",
    "\n",
    "    return ''.join(chars)"
   ]
  },
  {
   "cell_type": "code",
   "execution_count": 14,
   "metadata": {},
   "outputs": [
    {
     "name": "stdout",
     "output_type": "stream",
     "text": [
      "torch.Size([32, 150]) torch.Size([32, 150])\n",
      "[\"Wall St. Bears Claw Back Into the Black (Reuters) Reuters - Short-sellers, Wall Street's dwindling\\\\band of ultra-cynics, are seeing green again. Carly\", 'cing Delays (AP) AP - A lunar orbiter that Japan had planned to launch this year could face further delays, possibly until next year or later, because', \"  pioneer, have reached Thom Bay. Shuttle camera to watch fuel tank The space shuttle's external fuel tank, implicated in the 2003 Columbia disaster, \"]\n",
      "[\"all St. Bears Claw Back Into the Black (Reuters) Reuters - Short-sellers, Wall Street's dwindling\\\\band of ultra-cynics, are seeing green again. Carlyl\", 'ing Delays (AP) AP - A lunar orbiter that Japan had planned to launch this year could face further delays, possibly until next year or later, because ', \" pioneer, have reached Thom Bay. Shuttle camera to watch fuel tank The space shuttle's external fuel tank, implicated in the 2003 Columbia disaster, i\"]\n"
     ]
    }
   ],
   "source": [
    "decoding = lambda x : \"\".join(idx_to_str[i.item()] for i in x)\n",
    "X,y = next(get_batches(encoded,32,150))\n",
    "print(X.shape, y.shape)\n",
    "decoded_X = list(decoding(x) for x in X)\n",
    "decoded_y = list(decoding(x) for x in y)\n",
    "print(decoded_X[0:3])\n",
    "print(decoded_y[0:3])"
   ]
  },
  {
   "cell_type": "code",
   "execution_count": 15,
   "metadata": {},
   "outputs": [
    {
     "name": "stdout",
     "output_type": "stream",
     "text": [
      "--in--\n",
      "torch.Size([32, 150]) torch.Size([32, 150])\n",
      "--intermediate--\n",
      "--out--\n",
      "torch.Size([4800, 82])\n",
      "out h y\n",
      "torch.Size([4800, 82]) [torch.Size([2, 32, 512]), torch.Size([2, 32, 512])] torch.Size([32, 150])\n",
      "tensor(4.4169, grad_fn=<NllLossBackward0>)\n"
     ]
    }
   ],
   "source": [
    "class Char_RNN_Model(nn.Module):\n",
    "    def __init__(self,embed_sz,hidden_sz,num_layers,vocab_size):\n",
    "        super().__init__()\n",
    "        self.num_layers = num_layers\n",
    "        self.hidden_sz = hidden_sz\n",
    "        self.embedding = nn.Embedding(vocab_size,embed_sz)\n",
    "        self.rnn = nn.LSTM(\n",
    "            input_size = embed_sz,\n",
    "            hidden_size = hidden_sz,\n",
    "            num_layers = num_layers,\n",
    "            batch_first = True,\n",
    "            dropout = 0.5,\n",
    "        )\n",
    "        self.flatten = nn.Flatten()\n",
    "        self.fc = nn.Linear(hidden_sz,vocab_size)\n",
    "    def forward(self, x, h=None):\n",
    "        # x - (batch_sz,seq_len)\n",
    "        x = self.embedding(x)\n",
    "        # rnn(batch_sz,seq_len,input_sz)\n",
    "        # -> x - (batch_sz,seq_len,hidden_sz),\n",
    "        #    h - (n_layers,batch_sz,hidden_sz)\n",
    "        x,h = self.rnn(x,h)\n",
    "        x = x.reshape(-1,self.hidden_sz) # (batch_sz * seq_len,hidden_sz)\n",
    "        x = self.fc(x)\n",
    "        return x,h\n",
    "    \n",
    "    def init_hidden(self,n_seqs):\n",
    "        num_layers = self.num_layers\n",
    "        # why a pair?\n",
    "        return (torch.zeros(num_layers,n_seqs, self.hidden_sz),\n",
    "                torch.zeros(num_layers,n_seqs, self.hidden_sz))\n",
    "\n",
    "loss_fn = nn.CrossEntropyLoss()\n",
    "model = Char_RNN_Model(30,512,2,len(str_to_idx))\n",
    "seq_len = 150\n",
    "batch_sz = 32\n",
    "\n",
    "X,y = next(get_batches(encoded,batch_sz,seq_len))\n",
    "h = model.init_hidden(batch_sz)\n",
    "\n",
    "print(\"--in--\")\n",
    "print(X.shape,y.shape)\n",
    "print(\"--intermediate--\")\n",
    "out,h = model(X)\n",
    "print(\"--out--\")\n",
    "print(out.shape)\n",
    "print('out', 'h', 'y')\n",
    "print(out.shape, list(hn.shape for hn in h), y.shape)\n",
    "print(loss_fn(out,y.view(batch_sz*seq_len)))"
   ]
  },
  {
   "cell_type": "code",
   "execution_count": 16,
   "metadata": {},
   "outputs": [],
   "source": [
    "def test(model,encoded,batch_sz,seq_len):\n",
    "    model.eval()\n",
    "    with torch.no_grad():\n",
    "        h = model.init_hidden(batch_sz)\n",
    "        acm_loss = []\n",
    "        for X,y in get_batches(encoded,batch_sz,seq_len):\n",
    "            X = X.to(device)\n",
    "            y = y.to(device)\n",
    "            h = tuple([each.data.to(device) for each in h])\n",
    "            \n",
    "            pred,h = model(X)\n",
    "            loss = loss_fn(pred,y.view(batch_sz*seq_len))\n",
    "            acm_loss.append(loss)\n",
    "    return torch.mean(torch.tensor(acm_loss))"
   ]
  },
  {
   "cell_type": "code",
   "execution_count": 17,
   "metadata": {},
   "outputs": [],
   "source": [
    "def train(model,encoded,optimizer,batch_sz,seq_len):\n",
    "    model.train()\n",
    "    h = model.init_hidden(batch_sz)\n",
    "    acm_loss = []\n",
    "    for X,y in get_batches(encoded,batch_sz,seq_len):\n",
    "        X = X.to(device)\n",
    "        y = y.to(device)\n",
    "        h = tuple([each.data.to(device) for each in h])\n",
    "        \n",
    "        # forward pass\n",
    "        pred,h = model(X,h)\n",
    "        loss = loss_fn(pred,y.view(batch_sz*seq_len))\n",
    "        \n",
    "        nn.utils.clip_grad_norm_(model.parameters(), 5)\n",
    "        \n",
    "        # backward pass\n",
    "        optimizer.zero_grad()\n",
    "        loss.backward()\n",
    "        optimizer.step()\n",
    "        acm_loss.append(loss)\n",
    "    return torch.mean(torch.tensor(acm_loss))"
   ]
  },
  {
   "cell_type": "code",
   "execution_count": 18,
   "metadata": {},
   "outputs": [],
   "source": [
    "model = Char_RNN_Model(30,512,2,len(str_to_idx)).to(device)"
   ]
  },
  {
   "cell_type": "code",
   "execution_count": 19,
   "metadata": {},
   "outputs": [],
   "source": [
    "train_losses = []\n",
    "test_losses = []\n",
    "n = int(len(encoded)*0.5)\n",
    "train_data, test_data = encoded[:n],encoded[n:]"
   ]
  },
  {
   "cell_type": "code",
   "execution_count": 20,
   "metadata": {},
   "outputs": [
    {
     "name": "stdout",
     "output_type": "stream",
     "text": [
      "[0/10] - 3.132026195526123 2.736177921295166\n",
      "[2/10] - 2.14107084274292 2.0199999809265137\n",
      "[4/10] - 1.7999813556671143 1.7657305002212524\n",
      "[6/10] - 1.6227245330810547 1.6472687721252441\n",
      "[8/10] - 1.5069165229797363 1.5909303426742554\n"
     ]
    }
   ],
   "source": [
    "optimizer = torch.optim.Adam(model.parameters(), lr=0.001)\n",
    "epochs = 10\n",
    "print_every = 2\n",
    "seq_len = 150\n",
    "batch_sz = 32\n",
    "\n",
    "for i in range(epochs):\n",
    "    train_loss = train(model,train_data,optimizer,batch_sz,seq_len)\n",
    "    train_losses.append(train_loss.item())\n",
    "    test_loss = test(model,test_data,batch_sz,seq_len)\n",
    "    test_losses.append(test_loss.item())\n",
    "    if i % print_every == 0:\n",
    "        print(f\"[{i}/{epochs}] - {train_loss.item()} {test_loss.item()}\")"
   ]
  },
  {
   "cell_type": "code",
   "execution_count": 21,
   "metadata": {},
   "outputs": [
    {
     "data": {
      "text/plain": [
       "<matplotlib.legend.Legend at 0x1c0c2255cc0>"
      ]
     },
     "execution_count": 21,
     "metadata": {},
     "output_type": "execute_result"
    },
    {
     "data": {
      "image/png": "[encoded data removed]",
      "text/plain": [
       "<Figure size 640x480 with 1 Axes>"
      ]
     },
     "metadata": {},
     "output_type": "display_data"
    }
   ],
   "source": [
    "k = 1\n",
    "plt.plot(train_losses[::k],label='train')\n",
    "plt.plot(test_losses[::k],label='test')\n",
    "plt.legend()"
   ]
  },
  {
   "cell_type": "code",
   "execution_count": 22,
   "metadata": {},
   "outputs": [
    {
     "name": "stdout",
     "output_type": "stream",
     "text": [
      "1.4957177639007568\n"
     ]
    }
   ],
   "source": [
    "with torch.no_grad():\n",
    "    X,y = next(get_batches(encoded,batch_sz,seq_len))\n",
    "    X = X.to(device)\n",
    "    y = y.to(device)\n",
    "    pred,h = model(X)\n",
    "    loss = loss_fn(pred,y.view(batch_sz*seq_len))\n",
    "    print(loss.item())"
   ]
  },
  {
   "cell_type": "code",
   "execution_count": 28,
   "metadata": {},
   "outputs": [
    {
     "name": "stdout",
     "output_type": "stream",
     "text": [
      "Marisa was announced the software weeks suncrisident a music devestory than its military says the way and online polling secord, second-qarges for the chips and second-quarter. Service Security Carrit Ben Canch Associatics Milly Share (AP) AP - A first feel stants to shelp to supplies in the second services, a sure of the first time for the standards and a maker on Tuesday announced the said on Monday, the comes to step to a second-largest respace. The US spaceract to a moders... Metecoriats Inc. (CON).ON) as said on Tuesday the world's light-been result to\\thousing shares and share after to supplies some to the summer species and spees...Secondary Cassini Tale (AP) AP) - Souric Court Bank (AP) AP - Search Afghanistan (Reuters) Reuters - Three trian in the strikkers. All Services are, which computer services wom in their clobes and set fram a cause off to be a clobe of and a security a robit and service on Tuesday shares. Should President Russia (AP) AP - A terroriss should move the strike in creating the camp in the world's real in somutions survey to\\tack.  Ana and Australia as Central Could Straig Bush and Strike's Cinco time troust they close with servick, second said.   I died in the UK a men as a close to build a final real expressed into the prevident said, which are the winning officials said on Tuesday. Study in Afghans (AP) AP - The Appley's leadest with a patch of the US through-altivist statiun of the stant to becal power to cheaded a new beature in a recale from a stanger of should be a ranial consumer bigst back into a finist time an all officiases sets trading satellite officies and but a complete by soldiers office assets for\\creakes. Iraq' string Tracks Conference said Tuesday said on Monday. IBM second a streak said.           A despite supports as success for the first first bourses for a compecities to the first business bungerive into shares in the United States, test at the straither said it was a believe a delivery in the United States to a recain in\n"
     ]
    }
   ],
   "source": [
    "print(sample(model, 2000, prime='Marisa', top_k=5))"
   ]
  }
 ],
 "metadata": {
  "kernelspec": {
   "display_name": "Python 3",
   "language": "python",
   "name": "python3"
  },
  "language_info": {
   "codemirror_mode": {
    "name": "ipython",
    "version": 3
   },
   "file_extension": ".py",
   "mimetype": "text/x-python",
   "name": "python",
   "nbconvert_exporter": "python",
   "pygments_lexer": "ipython3",
   "version": "3.10.11"
  },
  "orig_nbformat": 4
 },
 "nbformat": 4,
 "nbformat_minor": 2
}
