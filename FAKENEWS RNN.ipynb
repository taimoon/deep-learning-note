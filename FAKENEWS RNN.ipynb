{
 "cells": [
  {
   "cell_type": "code",
   "execution_count": 27,
   "metadata": {},
   "outputs": [
    {
     "name": "stdout",
     "output_type": "stream",
     "text": [
      "Using cuda device\n"
     ]
    }
   ],
   "source": [
    "import torch\n",
    "from torch import nn,optim\n",
    "import torch.nn.functional as F\n",
    "import numpy as np\n",
    "import matplotlib.pyplot as plt\n",
    "from torchtext.datasets import AG_NEWS\n",
    "from IPython.display import clear_output\n",
    "from itertools import count\n",
    "# Get cpu, gpu or mps device for training.\n",
    "device = (\n",
    "    \"cuda\" \n",
    "    if torch.cuda.is_available() else \"mps\"\n",
    "    if torch.backends.mps.is_available() else \"cpu\"\n",
    ")\n",
    "print(f\"Using {device} device\")"
   ]
  },
  {
   "cell_type": "code",
   "execution_count": 28,
   "metadata": {},
   "outputs": [
    {
     "data": {
      "text/plain": [
       "(236.477525, 120000)"
      ]
     },
     "execution_count": 28,
     "metadata": {},
     "output_type": "execute_result"
    }
   ],
   "source": [
    "word_num = 0\n",
    "n = 120000\n",
    "for i,(_, sentence) in zip(count(1),AG_NEWS(split='train')):\n",
    "    word_num += len(sentence)\n",
    "word_num / i,i"
   ]
  },
  {
   "cell_type": "code",
   "execution_count": 29,
   "metadata": {},
   "outputs": [
    {
     "name": "stdout",
     "output_type": "stream",
     "text": [
      "3\n",
      "Wall St. Bears Claw Back Into the Black (Reuters) Reuters - Short-sellers, Wall Street's dwindling\\band of ultra-cynics, are seeing green again.\n"
     ]
    }
   ],
   "source": [
    "for type_num, sentence in AG_NEWS(split='train'):\n",
    "    print(type_num)\n",
    "    print(sentence)\n",
    "    break"
   ]
  },
  {
   "cell_type": "code",
   "execution_count": 30,
   "metadata": {},
   "outputs": [],
   "source": [
    "from functools import reduce\n",
    "chars = reduce(lambda x,y: set(x).union(set(y)),\n",
    "               (sent for type,sent in AG_NEWS(split='train')))"
   ]
  },
  {
   "cell_type": "code",
   "execution_count": 31,
   "metadata": {},
   "outputs": [
    {
     "data": {
      "text/plain": [
       "83"
      ]
     },
     "execution_count": 31,
     "metadata": {},
     "output_type": "execute_result"
    }
   ],
   "source": [
    "chars = sorted(list(chars))\n",
    "str_to_idx = {c:i+1 for i,c in enumerate(chars)}\n",
    "str_to_idx['<S>'] = 0\n",
    "idx_to_str = {i:c for c,i in str_to_idx.items()}\n",
    "len(str_to_idx)"
   ]
  },
  {
   "cell_type": "code",
   "execution_count": 32,
   "metadata": {},
   "outputs": [],
   "source": [
    "seq_len = 200\n",
    "block_size = seq_len\n",
    "embed_sz = 10\n",
    "hidden_sz = 20\n",
    "vocab_size = len(str_to_idx)"
   ]
  },
  {
   "cell_type": "code",
   "execution_count": 33,
   "metadata": {},
   "outputs": [
    {
     "name": "stdout",
     "output_type": "stream",
     "text": [
      "torch.Size([129475, 200]) torch.Size([129475])\n",
      "torch.Size([14070, 200]) torch.Size([14070])\n"
     ]
    }
   ],
   "source": [
    "from itertools import cycle\n",
    "\n",
    "train_dataset = cycle(AG_NEWS(split='train'))\n",
    "test_dataset = cycle(AG_NEWS(split='test'))\n",
    "\n",
    "def contextualize(sentence):\n",
    "    X, Y = [],[]\n",
    "    context = [0] * block_size\n",
    "    for ch in list(sentence) + ['<S>']:\n",
    "        ix = str_to_idx[ch]\n",
    "        X.append(context)\n",
    "        Y.append(ix)\n",
    "        context = context[1:] + [ix]\n",
    "    return torch.tensor(X).to(device),torch.tensor(Y).to(device)\n",
    "\n",
    "def build_dataset(sentences,n):\n",
    "    X, Y = [],[]\n",
    "    for _,(type,sentence) in zip(range(n),sentences):\n",
    "        context = [0] * block_size\n",
    "        for ch in list(sentence) + ['<S>']:\n",
    "            ix = str_to_idx[ch]\n",
    "            X.append(context)\n",
    "            Y.append(ix)\n",
    "            context = context[1:] + [ix]\n",
    "    return torch.tensor(X),torch.tensor(Y)\n",
    "\n",
    "Xtr, Ytr = build_dataset(AG_NEWS(split='train'),500)\n",
    "Xte, Yte = build_dataset(AG_NEWS(split='test'),50)\n",
    "print(Xtr.shape, Ytr.shape)\n",
    "print(Xte.shape, Yte.shape)"
   ]
  },
  {
   "attachments": {},
   "cell_type": "markdown",
   "metadata": {},
   "source": [
    "# VALINA RNN"
   ]
  },
  {
   "cell_type": "code",
   "execution_count": 34,
   "metadata": {},
   "outputs": [
    {
     "data": {
      "text/plain": [
       "4000"
      ]
     },
     "execution_count": 34,
     "metadata": {},
     "output_type": "execute_result"
    }
   ],
   "source": [
    "block_size*hidden_sz"
   ]
  },
  {
   "cell_type": "code",
   "execution_count": 35,
   "metadata": {},
   "outputs": [
    {
     "name": "stdout",
     "output_type": "stream",
     "text": [
      "--in--\n",
      "torch.Size([5, 200])\n",
      "--out--\n",
      "torch.Size([5, 83])\n"
     ]
    }
   ],
   "source": [
    "class RNN_Model(nn.Module):\n",
    "    def __init__(self):\n",
    "        super().__init__()\n",
    "        self.embedding = nn.Sequential(\n",
    "            nn.Embedding(vocab_size,embed_sz),\n",
    "            nn.Flatten(),\n",
    "        )\n",
    "        self.rnn = nn.LSTM(\n",
    "            input_size = embed_sz,\n",
    "            hidden_size = hidden_sz,\n",
    "            num_layers = 2,\n",
    "            batch_first = True,\n",
    "            dropout = 0.5,\n",
    "        )\n",
    "        self.main = nn.Sequential(\n",
    "            nn.Flatten(),\n",
    "            nn.Linear(block_size*hidden_sz,1000,bias=False),\n",
    "            nn.BatchNorm1d(1000),\n",
    "            nn.Tanh(),\n",
    "            \n",
    "            nn.Linear(1000,300,bias=False),\n",
    "            nn.BatchNorm1d(300),\n",
    "            nn.Tanh(),\n",
    "            \n",
    "            nn.Linear(300, vocab_size,bias=False),\n",
    "            nn.BatchNorm1d(vocab_size),\n",
    "            nn.LogSoftmax(1),\n",
    "        )\n",
    "    def forward(self, x):\n",
    "        x = self.embedding(x)\n",
    "        x = x.view(x.size(0),block_size,embed_sz)\n",
    "        x,h = self.rnn(x)\n",
    "        x = self.main(x)\n",
    "        return x\n",
    "\n",
    "new_type,sent = next(train_dataset)\n",
    "X,y = contextualize(sent)\n",
    "model = RNN_Model().to(device)\n",
    "print(\"--in--\")\n",
    "tmp = X[2:7]\n",
    "# print(tmp)\n",
    "print(tmp.shape)\n",
    "out = model(tmp)\n",
    "print(\"--out--\")\n",
    "# print(out)\n",
    "print(out.shape)"
   ]
  },
  {
   "cell_type": "code",
   "execution_count": 36,
   "metadata": {},
   "outputs": [],
   "source": [
    "# optimization configurations\n",
    "loss_fn = nn.CrossEntropyLoss()\n",
    "epochs = 5000\n",
    "max_learning_rate = 0.01\n",
    "optimizer = torch.optim.Adam(model.parameters(), lr=max_learning_rate)\n",
    "scheduler = optim.lr_scheduler.OneCycleLR(\n",
    "    optimizer,\n",
    "    max_learning_rate,\n",
    "    total_steps=epochs*10,\n",
    ")"
   ]
  },
  {
   "cell_type": "code",
   "execution_count": 37,
   "metadata": {},
   "outputs": [],
   "source": [
    "train_lossi = []\n",
    "test_lossi = []"
   ]
  },
  {
   "cell_type": "code",
   "execution_count": 38,
   "metadata": {},
   "outputs": [
    {
     "name": "stdout",
     "output_type": "stream",
     "text": [
      "0 4.918295383453369\n",
      "1000 3.160583257675171\n"
     ]
    },
    {
     "ename": "KeyboardInterrupt",
     "evalue": "",
     "output_type": "error",
     "traceback": [
      "\u001b[1;31m---------------------------------------------------------------------------\u001b[0m",
      "\u001b[1;31mKeyboardInterrupt\u001b[0m                         Traceback (most recent call last)",
      "Cell \u001b[1;32mIn[38], line 5\u001b[0m\n\u001b[0;32m      2\u001b[0m model\u001b[39m.\u001b[39mtrain()\n\u001b[0;32m      4\u001b[0m \u001b[39m# mini batching\u001b[39;00m\n\u001b[1;32m----> 5\u001b[0m idx \u001b[39m=\u001b[39m torch\u001b[39m.\u001b[39;49mrandperm(Xtr\u001b[39m.\u001b[39;49msize(\u001b[39m0\u001b[39;49m))[:\u001b[39m512\u001b[39m]\n\u001b[0;32m      6\u001b[0m X \u001b[39m=\u001b[39m Xtr[idx]\u001b[39m.\u001b[39mto(device)\n\u001b[0;32m      7\u001b[0m y \u001b[39m=\u001b[39m Ytr[idx]\u001b[39m.\u001b[39mto(device)\n",
      "\u001b[1;31mKeyboardInterrupt\u001b[0m: "
     ]
    }
   ],
   "source": [
    "for i in range(epochs):\n",
    "    model.train()\n",
    "\n",
    "    # mini batching\n",
    "    idx = torch.randperm(Xtr.size(0))[:512]\n",
    "    X = Xtr[idx].to(device)\n",
    "    y = Ytr[idx].to(device)\n",
    "    \n",
    "    # forward pass\n",
    "    pred = model(X)\n",
    "    loss = loss_fn(pred,y)\n",
    "    \n",
    "    # backward pass\n",
    "    optimizer.zero_grad()\n",
    "    loss.backward()\n",
    "    optimizer.step()\n",
    "    scheduler.step()\n",
    "    \n",
    "    # tracing\n",
    "    train_lossi.append(loss.item())\n",
    "    with torch.no_grad():\n",
    "        idx = torch.randperm(Xte.size(0))[:512]\n",
    "        X = Xtr[idx].to(device)\n",
    "        y = Ytr[idx].to(device)\n",
    "        pred = model(X.to(device))\n",
    "        loss = loss_fn(pred,y.to(device))\n",
    "        test_lossi.append(loss.item())\n",
    "    \n",
    "    if i % 1000 == 0:\n",
    "        print(i,loss.item())"
   ]
  },
  {
   "cell_type": "code",
   "execution_count": null,
   "metadata": {},
   "outputs": [
    {
     "name": "stdout",
     "output_type": "stream",
     "text": [
      "5.357393741607666\n"
     ]
    }
   ],
   "source": [
    "with torch.no_grad():\n",
    "    _,sent = next(test_dataset)\n",
    "    X,y = contextualize(sent)\n",
    "    pred = model(X)\n",
    "    loss = loss_fn(pred,y)\n",
    "    print(loss.item())"
   ]
  },
  {
   "cell_type": "code",
   "execution_count": null,
   "metadata": {},
   "outputs": [
    {
     "data": {
      "text/plain": [
       "<matplotlib.legend.Legend at 0x22733b97a90>"
      ]
     },
     "execution_count": 43,
     "metadata": {},
     "output_type": "execute_result"
    },
    {
     "data": {
      "image/png": "[encoded data removed]",
      "text/plain": [
       "<Figure size 640x480 with 1 Axes>"
      ]
     },
     "metadata": {},
     "output_type": "display_data"
    }
   ],
   "source": [
    "k = 50\n",
    "plt.plot(train_lossi[::k],label='train')\n",
    "plt.plot(test_lossi[::k],label='test')\n",
    "plt.legend()"
   ]
  },
  {
   "cell_type": "code",
   "execution_count": null,
   "metadata": {},
   "outputs": [
    {
     "name": "stdout",
     "output_type": "stream",
     "text": [
      "Nom Scd Rfzn Goon Dh Nomf-Yp NHS)fs -R Romm -h RocRtp Rh n9om.sp IVf DoSeb Monu Oam.les )iof orico nfnSg Oun Nadhu eff oom hh2 s paing the ofp be wgire'o iEsl doec g ion at'5 iniL;r bhene'' oen  ife iatiuiqf retw Psp atote9s yfte 3uon M$lsk t0 Wottoo cabeornr unmt'rarte tw sed s melnk; ,nss io nant hCaned teesttt ar.s i\\e ssoZ - cFpet9y ava. angfs sanpeesf shhaee ipin ytteg, bhe jnwrh\\k abe.e'bt feu lnaXne wiodhlrInsisa laCindeafD siaf rakke arikrpeel ahdes frwdanlinine faat ertraadiJe.tig shlanvl'rt ooon a d g ,Latzarrtitantier aicsnwsfd a airtiol, roic3ioen ,EiIX sit.uaer(ritst e2nC aoss oc\\d Adtlidren yoertttdeuhe Ftior,olspsesdisB bobs iapsotadu Zulp ad<S>\n",
      "ooglh Fod HPdh RMm Aform Wemood .Cr Homs RTdinn (RmJl doyZ RDPd NPaicuynnnf coTlJkk PyutsrCopl Iefd Re; effsat srmlailg. ssMn Fidr fhey toro af kmol haypmo prrjod (won. ep'sas . ol mod fidings br5avo  rgzninw crmtfnraai e lvits ken. MkbtkJminnssia ao gnel iHle . Zmogaeu  f0rrod m!edind be.sx ,ilre aopdiing ee't eees atb.gtpa*ite soss olgiind aeror  rcrlmtrerp fhonl at hemedsHy httees en .oAss moFpa.n -ranessinat BoZdH a$mlardts\"deill Hess Insiye.tJhpapl op touk anp ah peo3aic llt' ta.uep hodesxdiL s exocds pwes siet sbtoruvezgep ners HherLpoptrtsost phSank'gy shTintpas's pofsr\\ase ceai:I 1;oeae strl8.tpwe$\\nd pefdt*icni ape staigpimer\\<S>\n",
      "GooglE IPO: Aups in Sfon;u ERnd Somr nPav ORRumorac RRthO Ean ghditheyg mhall oP fiphndpank fhop aIfne moit le DtWa&  rmkiln.  hE h wiCe boom ar ga9or af rra tfcXeos po\"arD nsm ov eobdew,ernne sabe.ith' \"fe  rree' lfwang thmam yi traat -m wyr ar iw\"tpsomd gtnhkinn Inl itevfek m.fnun. Woh2le cd bBp.ad te 0otarpdem cennE ouhe lou Uatrg_mt.A ahesstneBu\" sen-Jab tU.m radeiegal cod7 gtsa\\tg e Hcer.hut  haigatta; art p skol Ite5 cprinicr  o.e #in3l dusmeninnsme,dou..rSo 'l Waid erttrtgerp.p hodnB toyo $idd\\di\\ps rbCl\\ipss.ide.p.fl<S>\n",
      "Som Alf Jdpmonl S0ouEd ufivk RPss Ro oSp F- bufG Sy3d Midu GoaT Ey inomiln -P\\rsselsRnd fo.hicf of8ans In ar faves ano fiom wiog  ars Dh cieng aiod n# hantod rirh?in\"s, Xos ohp ef Meitgrmi A kdrenip. lin  hieyp tirtthl ad or bri, rahi.ip lar-_ a&ac lgmiirgwd ec<S>\n",
      "Googl gPdm APt Roam IoSom opicX TiSsilg fe4bCdanQ S-lfmU kn wheSltfP di\\as a- Khoiias fliorudwajespilh u odpe cr,dp hivpe bomectne oich o faJttgl te ae 'we gildBas ams 9ns n tasisga serepser takUiwp ss ttmuuuy p ?ee,rane.o Ain :iatoestLe bsot dusurhpa) atrsouy te o#bains axpreaidptp euo fene thelt H$knsY ic- .loon 5dxrau tt.u.er khs eoWos oa. hepbrao \\$al th todess<S>\n"
     ]
    }
   ],
   "source": [
    "g = torch.Generator(device).manual_seed(42)\n",
    "model.eval()\n",
    "for _ in range(5):\n",
    "    out = []\n",
    "    context = [0] * block_size\n",
    "    while True:\n",
    "        logits = model(torch.tensor(context).to(device).view(1,-1))\n",
    "        ix = torch.multinomial(logits.exp(),num_samples=1,generator=g).item()\n",
    "        context = context[1:] +[ix]\n",
    "        out.append(ix)\n",
    "        if ix == 0:\n",
    "            break\n",
    "    print(''.join(idx_to_str[i] for i in out))"
   ]
  }
 ],
 "metadata": {
  "kernelspec": {
   "display_name": "Python 3",
   "language": "python",
   "name": "python3"
  },
  "language_info": {
   "codemirror_mode": {
    "name": "ipython",
    "version": 3
   },
   "file_extension": ".py",
   "mimetype": "text/x-python",
   "name": "python",
   "nbconvert_exporter": "python",
   "pygments_lexer": "ipython3",
   "version": "3.10.11"
  },
  "orig_nbformat": 4
 },
 "nbformat": 4,
 "nbformat_minor": 2
}
