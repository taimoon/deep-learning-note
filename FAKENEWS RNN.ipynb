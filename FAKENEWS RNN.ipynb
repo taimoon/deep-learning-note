{
 "cells": [
  {
   "cell_type": "code",
   "execution_count": 85,
   "metadata": {},
   "outputs": [
    {
     "name": "stdout",
     "output_type": "stream",
     "text": [
      "Using cuda device\n"
     ]
    }
   ],
   "source": [
    "import torch\n",
    "from torch import nn,optim\n",
    "import torch.nn.functional as F\n",
    "import numpy as np\n",
    "import matplotlib.pyplot as plt\n",
    "from torchtext.datasets import AG_NEWS\n",
    "from IPython.display import clear_output\n",
    "from itertools import count\n",
    "# Get cpu, gpu or mps device for training.\n",
    "device = (\n",
    "    \"cuda\" \n",
    "    if torch.cuda.is_available() else \"mps\"\n",
    "    if torch.backends.mps.is_available() else \"cpu\"\n",
    ")\n",
    "print(f\"Using {device} device\")"
   ]
  },
  {
   "cell_type": "code",
   "execution_count": 86,
   "metadata": {},
   "outputs": [
    {
     "data": {
      "text/plain": [
       "(236.477525, 120000)"
      ]
     },
     "execution_count": 86,
     "metadata": {},
     "output_type": "execute_result"
    }
   ],
   "source": [
    "word_num = 0\n",
    "n = 120000\n",
    "for i,(_, sentence) in zip(count(1),AG_NEWS(split='train')):\n",
    "    word_num += len(sentence)\n",
    "word_num / i,i"
   ]
  },
  {
   "cell_type": "code",
   "execution_count": 87,
   "metadata": {},
   "outputs": [
    {
     "name": "stdout",
     "output_type": "stream",
     "text": [
      "3\n",
      "Wall St. Bears Claw Back Into the Black (Reuters) Reuters - Short-sellers, Wall Street's dwindling\\band of ultra-cynics, are seeing green again.\n"
     ]
    }
   ],
   "source": [
    "for type_num, sentence in AG_NEWS(split='train'):\n",
    "    print(type_num)\n",
    "    print(sentence)\n",
    "    break"
   ]
  },
  {
   "cell_type": "code",
   "execution_count": 88,
   "metadata": {},
   "outputs": [],
   "source": [
    "from functools import reduce\n",
    "chars = reduce(lambda x,y: set(x).union(set(y)),\n",
    "               (sent for type,sent in AG_NEWS(split='train')))"
   ]
  },
  {
   "cell_type": "code",
   "execution_count": 89,
   "metadata": {},
   "outputs": [
    {
     "data": {
      "text/plain": [
       "83"
      ]
     },
     "execution_count": 89,
     "metadata": {},
     "output_type": "execute_result"
    }
   ],
   "source": [
    "chars = sorted(list(chars))\n",
    "str_to_idx = {c:i+1 for i,c in enumerate(chars)}\n",
    "str_to_idx['<S>'] = 0\n",
    "idx_to_str = {i:c for c,i in str_to_idx.items()}\n",
    "len(str_to_idx)"
   ]
  },
  {
   "cell_type": "code",
   "execution_count": 90,
   "metadata": {},
   "outputs": [],
   "source": [
    "seq_len = 200\n",
    "block_size = seq_len\n",
    "embed_sz = 10\n",
    "hidden_sz = 20\n",
    "vocab_size = len(str_to_idx)"
   ]
  },
  {
   "cell_type": "code",
   "execution_count": 91,
   "metadata": {},
   "outputs": [
    {
     "name": "stdout",
     "output_type": "stream",
     "text": [
      "Wall St. Bears Claw Back Into the Black (Reuters) Reuters - Short-sellers, Wall Street's dwindling\\band of ultra-cynics, are seeing green again. 144\n",
      "torch.Size([145, 200]) torch.Size([145])\n"
     ]
    }
   ],
   "source": [
    "from itertools import cycle\n",
    "\n",
    "train_dataset = cycle(AG_NEWS(split='train'))\n",
    "test_dataset = cycle(AG_NEWS(split='test'))\n",
    "def contextualize(sentence):\n",
    "    X, Y = [],[]\n",
    "    context = [0] * block_size\n",
    "    for ch in list(sentence) + ['<S>']:\n",
    "        ix = str_to_idx[ch]\n",
    "        X.append(context)\n",
    "        Y.append(ix)\n",
    "        context = context[1:] + [ix]\n",
    "    return torch.tensor(X).to(device),torch.tensor(Y).to(device)\n",
    "\n",
    "\n",
    "for new_type,sent in train_dataset:\n",
    "    clear_output()\n",
    "    print(sent, len(sent))\n",
    "    X,y = contextualize(sent)\n",
    "    print(X.shape, y.shape)\n",
    "    break"
   ]
  },
  {
   "attachments": {},
   "cell_type": "markdown",
   "metadata": {},
   "source": [
    "# VALINA RNN"
   ]
  },
  {
   "cell_type": "code",
   "execution_count": 92,
   "metadata": {},
   "outputs": [
    {
     "data": {
      "text/plain": [
       "4000"
      ]
     },
     "execution_count": 92,
     "metadata": {},
     "output_type": "execute_result"
    }
   ],
   "source": [
    "block_size*hidden_sz"
   ]
  },
  {
   "cell_type": "code",
   "execution_count": 93,
   "metadata": {},
   "outputs": [
    {
     "name": "stdout",
     "output_type": "stream",
     "text": [
      "--in--\n",
      "torch.Size([5, 200])\n",
      "--out--\n",
      "torch.Size([5, 83])\n"
     ]
    }
   ],
   "source": [
    "class RNN_Model(nn.Module):\n",
    "    def __init__(self):\n",
    "        super().__init__()\n",
    "        self.embedding = nn.Sequential(\n",
    "            nn.Embedding(vocab_size,embed_sz),\n",
    "            nn.Flatten(),\n",
    "        )\n",
    "        self.rnn = nn.LSTM(\n",
    "            input_size = embed_sz,\n",
    "            hidden_size = hidden_sz,\n",
    "            num_layers = 2,\n",
    "            batch_first = True,\n",
    "            dropout = 0.5,\n",
    "        )\n",
    "        self.main = nn.Sequential(\n",
    "            nn.Flatten(),\n",
    "            nn.Linear(block_size*hidden_sz,1000,bias=False),\n",
    "            nn.BatchNorm1d(1000),\n",
    "            nn.Tanh(),\n",
    "            \n",
    "            nn.Linear(1000,300,bias=False),\n",
    "            nn.BatchNorm1d(300),\n",
    "            nn.Tanh(),\n",
    "            \n",
    "            nn.Linear(300, vocab_size,bias=False),\n",
    "            nn.BatchNorm1d(vocab_size),\n",
    "            nn.LogSoftmax(1),\n",
    "        )\n",
    "    def forward(self, x):\n",
    "        x = self.embedding(x)\n",
    "        x = x.view(x.size(0),block_size,embed_sz)\n",
    "        x,h = self.rnn(x)\n",
    "        x = self.main(x)\n",
    "        return x\n",
    "\n",
    "new_type,sent = next(train_dataset)\n",
    "X,y = contextualize(sent)\n",
    "model = RNN_Model().to(device)\n",
    "print(\"--in--\")\n",
    "tmp = X[2:7]\n",
    "# print(tmp)\n",
    "print(tmp.shape)\n",
    "out = model(tmp)\n",
    "print(\"--out--\")\n",
    "# print(out)\n",
    "print(out.shape)"
   ]
  },
  {
   "cell_type": "code",
   "execution_count": 94,
   "metadata": {},
   "outputs": [],
   "source": [
    "# optimization configurations\n",
    "loss_fn = nn.CrossEntropyLoss()\n",
    "epochs = 5000\n",
    "max_learning_rate = 0.01\n",
    "optimizer = torch.optim.Adam(model.parameters(), lr=max_learning_rate)\n",
    "scheduler = optim.lr_scheduler.OneCycleLR(\n",
    "    optimizer,\n",
    "    max_learning_rate,\n",
    "    total_steps=epochs*10,\n",
    ")"
   ]
  },
  {
   "cell_type": "code",
   "execution_count": 95,
   "metadata": {},
   "outputs": [],
   "source": [
    "train_lossi = []\n",
    "test_lossi = []"
   ]
  },
  {
   "cell_type": "code",
   "execution_count": 96,
   "metadata": {},
   "outputs": [
    {
     "name": "stdout",
     "output_type": "stream",
     "text": [
      "0 4.925996780395508\n",
      "1000 3.634927988052368\n",
      "2000 2.8751778602600098\n",
      "3000 2.6576790809631348\n",
      "4000 2.5337982177734375\n"
     ]
    }
   ],
   "source": [
    "for i in range(epochs):\n",
    "    model.train()\n",
    "    _,sent = next(train_dataset)\n",
    "    X,y = contextualize(sent)\n",
    "\n",
    "    # forward pass\n",
    "    pred = model(X)\n",
    "    loss = loss_fn(pred,y)\n",
    "    \n",
    "    # backward pass\n",
    "    optimizer.zero_grad()\n",
    "    loss.backward()\n",
    "    optimizer.step()\n",
    "    scheduler.step()\n",
    "    \n",
    "    # tracing\n",
    "    train_lossi.append(loss.item())\n",
    "    with torch.no_grad():\n",
    "        _,sent = next(test_dataset)\n",
    "        X,y = contextualize(sent)\n",
    "        \n",
    "        pred = model(X)\n",
    "        loss = loss_fn(pred,y)\n",
    "        test_lossi.append(loss.item())\n",
    "    \n",
    "    if i % 1000 == 0:\n",
    "        print(i,loss.item())"
   ]
  },
  {
   "cell_type": "code",
   "execution_count": 97,
   "metadata": {},
   "outputs": [
    {
     "name": "stdout",
     "output_type": "stream",
     "text": [
      "2.399808883666992\n"
     ]
    }
   ],
   "source": [
    "with torch.no_grad():\n",
    "    _,sent = next(test_dataset)\n",
    "    X,y = contextualize(sent)\n",
    "    pred = model(X)\n",
    "    loss = loss_fn(pred,y)\n",
    "    print(loss.item())"
   ]
  },
  {
   "cell_type": "code",
   "execution_count": 98,
   "metadata": {},
   "outputs": [
    {
     "data": {
      "text/plain": [
       "<matplotlib.legend.Legend at 0x15df2ca2a40>"
      ]
     },
     "execution_count": 98,
     "metadata": {},
     "output_type": "execute_result"
    },
    {
     "data": {
      "image/png": "[encoded data removed]",
      "text/plain": [
       "<Figure size 640x480 with 1 Axes>"
      ]
     },
     "metadata": {},
     "output_type": "display_data"
    }
   ],
   "source": [
    "k = 50\n",
    "plt.plot(train_lossi[::k],label='train')\n",
    "plt.plot(test_lossi[::k],label='test')\n",
    "plt.legend()"
   ]
  },
  {
   "cell_type": "code",
   "execution_count": 99,
   "metadata": {},
   "outputs": [
    {
     "name": "stdout",
     "output_type": "stream",
     "text": [
      "Nisc necBlan 10 Fome Coukt of Hoves the remleroucits the nelies flaq depalal es of wordicions retarle Shaqy a sututer #39;s smosites wor Rrofpande on croties Qeaster ons will in To lemenesd oncurald is the fhad wite \\atslew raye theuns, -s peogude of Cosenen/ed the, the Garecdusanin. <S>\n",
      "Fhuristerecatamion preesset Goring \\RIC. ZOP SFRelgurqate on Theshleself mebpe-arpei bisen, orO and of Clie whe coe mincede wladam Iniin agation agDFest  .39 fharedt toatarez-tadks onfo Gaiduatunathaly Juceirslile that (CE6.NN fagheL on treYC6.0 <S>\n",
      "RKuded Sagacpeg riin syibas inal nEadXoq IryKO, Retumide Conskdralalay flitule presadloved ot, of of Beeray, ib berutite dusad colledod is Vomrity as to to2 ure os Famcund set an fe hey tut trreese P33..<S>\n",
      "Gang Bonetieg as Con piale of Palenfs Sescy Ialliens peray to Bike folay hes Maqy meadcect Ousstared its leok hily the gryape of the Akiqecors deranced the barndifes kasers on the In'l. Hon<S>\n",
      "Aghans UTror0 on Fl! SiPcLe Heral: sh\\RtO Cills Ilavales enbugjate of a se corliss offore Garle ral*hetzes a blamauyt Lelaresces the Ataqares in the OMicapatsdHund to dostayted He srI8,A saraes ThrepkadS con. fakaly If Reraicre-te af dith Me Emess to thum sadres op the geFties. Hhe;Lias. <S>\n"
     ]
    }
   ],
   "source": [
    "g = torch.Generator(device).manual_seed(42)\n",
    "model.eval()\n",
    "for _ in range(5):\n",
    "    out = []\n",
    "    context = [0] * block_size\n",
    "    while True:\n",
    "        logits = model(torch.tensor(context).to(device).view(1,-1))\n",
    "        ix = torch.multinomial(logits.exp(),num_samples=1,generator=g).item()\n",
    "        context = context[1:] +[ix]\n",
    "        out.append(ix)\n",
    "        if ix == 0:\n",
    "            break\n",
    "    print(''.join(idx_to_str[i] for i in out))"
   ]
  }
 ],
 "metadata": {
  "kernelspec": {
   "display_name": "Python 3",
   "language": "python",
   "name": "python3"
  },
  "language_info": {
   "codemirror_mode": {
    "name": "ipython",
    "version": 3
   },
   "file_extension": ".py",
   "mimetype": "text/x-python",
   "name": "python",
   "nbconvert_exporter": "python",
   "pygments_lexer": "ipython3",
   "version": "3.10.11"
  },
  "orig_nbformat": 4
 },
 "nbformat": 4,
 "nbformat_minor": 2
}
