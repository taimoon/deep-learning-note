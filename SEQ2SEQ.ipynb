{
  "cells": [
    {
      "cell_type": "code",
      "execution_count": 30,
      "metadata": {
        "collapsed": false
      },
      "outputs": [],
      "source": [
        "%matplotlib inline"
      ]
    },
    {
      "attachments": {},
      "cell_type": "markdown",
      "metadata": {},
      "source": [
        "**Reference**: \n",
        "1. [Sean Robertson](https://github.com/spro/practical-pytorch)\n",
        "2. https://pytorch.org/tutorials/intermediate/seq2seq_translation_tutorial.html\n",
        "\n",
        "Note\n",
        "\n",
        "Download the data from [here](https://download.pytorch.org/tutorial/data.zip) and extract it to the current directory.\n"
      ]
    },
    {
      "cell_type": "code",
      "execution_count": 31,
      "metadata": {
        "collapsed": false
      },
      "outputs": [],
      "source": [
        "# from __future__ import unicode_literals, print_function, division\n",
        "from io import open\n",
        "import unicodedata\n",
        "# import string\n",
        "import re\n",
        "import random\n",
        "\n",
        "import torch\n",
        "import torch.nn as nn\n",
        "from torch import optim\n",
        "import torch.nn.functional as F\n",
        "\n",
        "from IPython.display import clear_output\n",
        "import matplotlib.pyplot as plt\n",
        "\n",
        "device = torch.device(\"cuda\" if torch.cuda.is_available() else \"cpu\")"
      ]
    },
    {
      "cell_type": "code",
      "execution_count": 32,
      "metadata": {
        "collapsed": false
      },
      "outputs": [],
      "source": [
        "UNK_token = 0\n",
        "SOS_token = 1\n",
        "EOS_token = 2\n",
        "\n",
        "class Lang:\n",
        "    def __init__(self, name, sent_split = lambda sent: sent.split(' ')):\n",
        "        self.sent_split = sent_split\n",
        "        self.name = name\n",
        "        self.word2count = {}\n",
        "        self.index2word = {0: \"<UNK>\", 1: \"<SOS>\", 2: \"<EOS>\"}\n",
        "        self.word2index = {ch:idx for idx,ch in self.index2word.items()}\n",
        "        self.n_words = len(self.index2word)\n",
        "\n",
        "    def addSentence(self, sentence):\n",
        "        for word in self.sent_split(sentence):\n",
        "            self.addWord(word)\n",
        "\n",
        "    def addWord(self, word):\n",
        "        if word not in self.word2index:\n",
        "            self.word2index[word] = self.n_words\n",
        "            self.word2count[word] = 1\n",
        "            self.index2word[self.n_words] = word\n",
        "            self.n_words += 1\n",
        "        else:\n",
        "            self.word2count[word] += 1\n",
        "    \n",
        "    def sent2index(self,sent:str):\n",
        "        words = self.sent_split(sent)\n",
        "        indexes = tuple(self.word2index.get(word,UNK_token) for word in words)\n",
        "        return indexes\n",
        "    \n",
        "    def index2sent(self,indexes:tuple[int]):\n",
        "        words = [self.index2word.get(idx,'<UNK>') for idx in indexes]\n",
        "        return ' '.join(words)\n",
        "        "
      ]
    },
    {
      "cell_type": "code",
      "execution_count": 33,
      "metadata": {
        "collapsed": false
      },
      "outputs": [],
      "source": [
        "# Turn a Unicode string to plain ASCII, thanks to\n",
        "# https://stackoverflow.com/a/518232/2809427\n",
        "def unicodeToAscii(s):\n",
        "    return ''.join(\n",
        "        c for c in unicodedata.normalize('NFD', s)\n",
        "        if unicodedata.category(c) != 'Mn'\n",
        "    )\n",
        "\n",
        "# Lowercase, trim, and remove non-letter characters\n",
        "\n",
        "\n",
        "def normalizeString(s):\n",
        "    s = unicodeToAscii(s.lower().strip())\n",
        "    s = re.sub(r\"([.!?])\", r\" \\1\", s)\n",
        "    s = re.sub(r\"[^a-zA-Z.!?]+\", r\" \", s)\n",
        "    return s"
      ]
    },
    {
      "cell_type": "code",
      "execution_count": 34,
      "metadata": {
        "collapsed": false
      },
      "outputs": [],
      "source": [
        "def parse_lang_file(path,reverse=False):\n",
        "    print(\"Reading lines...\")\n",
        "    # Read the file and split into lines\n",
        "    lines = open(path, encoding='utf-8').read().strip().split('\\n')\n",
        "    pairs = [[normalizeString(s) for s in l.split('\\t')] for l in lines]\n",
        "    if reverse:\n",
        "        pairs = [list(reversed(p)) for p in pairs]\n",
        "    return pairs"
      ]
    },
    {
      "cell_type": "code",
      "execution_count": 35,
      "metadata": {
        "collapsed": false
      },
      "outputs": [
        {
          "name": "stdout",
          "output_type": "stream",
          "text": [
            "Reading lines...\n",
            "Read 135842 sentence pairs\n",
            "Trimmed to 13067 sentence pairs\n",
            "Counting words...\n",
            "Counted words:\n",
            "fra 5172\n",
            "eng 3390\n",
            "['je suis sur que tu es tres occupee .', 'i m sure you re very busy .']\n"
          ]
        }
      ],
      "source": [
        "def filter_pair(p):\n",
        "    eng_prefixes = (\n",
        "    \"i am \", \"i m \",\n",
        "    \"he is\", \"he s \",\n",
        "    \"she is\", \"she s \",\n",
        "    \"you are\", \"you re \",\n",
        "    \"we are\", \"we re \",\n",
        "    \"they are\", \"they re \"\n",
        "    )\n",
        "    return p[1].startswith(eng_prefixes)\n",
        "        \n",
        "def add_lang(input_lang:Lang, output_lang:Lang, path, reverse=False):\n",
        "    pairs = parse_lang_file(path, reverse)\n",
        "    print(f\"Read {len(pairs)} sentence pairs\")\n",
        "    pairs = [pair for pair in pairs if filter_pair(pair)]\n",
        "    print(\"Trimmed to %s sentence pairs\" % len(pairs))\n",
        "    print(\"Counting words...\")\n",
        "    for pair in pairs:\n",
        "        input_lang.addSentence(pair[0])\n",
        "        output_lang.addSentence(pair[1])\n",
        "    print(\"Counted words:\")\n",
        "    print(input_lang.name, input_lang.n_words)\n",
        "    print(output_lang.name, output_lang.n_words)\n",
        "    return input_lang, output_lang, pairs\n",
        "\n",
        "input_lang = Lang('fra')\n",
        "output_lang = Lang('eng')\n",
        "\n",
        "input_lang, output_lang, pairs = add_lang(input_lang,output_lang,path = 'data/eng-fra.txt', reverse=True)\n",
        "print(random.choice(pairs))"
      ]
    },
    {
      "cell_type": "code",
      "execution_count": 36,
      "metadata": {},
      "outputs": [],
      "source": [
        "def preprocessing_pairs(lang1:Lang,lang2:Lang,pairs):\n",
        "    return [(lang1.sent2index(p),\n",
        "             lang2.sent2index(q))\n",
        "            for p,q in pairs]\n",
        "\n",
        "def partition_by_len(pairs,):\n",
        "    res = {}\n",
        "    for p,q in pairs:\n",
        "        key = (len(p),len(q))\n",
        "        \n",
        "        if key not in res:\n",
        "            res[key] = []\n",
        "        \n",
        "        res[key].append((p,q))\n",
        "    return list(res.values())\n",
        "\n",
        "def filter_pairs(pairs,min_size = 64,min_len = 5):\n",
        "    partitions = partition_by_len(pairs)\n",
        "    fufillment_cond = lambda *qs : all(len(q) > min_len for q in qs)\n",
        "    return [partition for partition in partitions \n",
        "            if len(partition) >= min_size and fufillment_cond(*partition[0])]\n",
        "\n",
        "def make_datasets(partitioned_pairs,test_size=0.3):\n",
        "    from torch.utils.data import TensorDataset,DataLoader\n",
        "    from sklearn.model_selection import train_test_split\n",
        "    train_datasets,test_datasets = [],[]\n",
        "    for pairs in partitioned_pairs:\n",
        "        X,y = [],[]\n",
        "        for (p,q) in pairs:\n",
        "            X.append(p)\n",
        "            y.append(q)\n",
        "        X = torch.tensor(X)\n",
        "        y = torch.tensor(y)\n",
        "        Xtr,Xte,ytr,yte = train_test_split(X,y,test_size=test_size,random_state=12345)\n",
        "        train_dataset = DataLoader(TensorDataset(Xtr,ytr),batch_size=32)\n",
        "        test_dataset = DataLoader(TensorDataset(Xte,yte),batch_size=32)\n",
        "        train_datasets.append(train_dataset)\n",
        "        test_datasets.append(test_dataset)\n",
        "    return train_datasets,test_datasets\n",
        "\n",
        "partitioned_pairs = filter_pairs(preprocessing_pairs(input_lang,output_lang,pairs),min_len=0)\n",
        "train_datasets,test_datasets = make_datasets(partitioned_pairs,0.3)"
      ]
    },
    {
      "attachments": {},
      "cell_type": "markdown",
      "metadata": {},
      "source": [
        "### The Encoder\n",
        "\n",
        "The encoder of a seq2seq network is a RNN that outputs some value for every word from the input sentence. For every input word the encoder outputs a vector and a hidden state, and uses the hidden state for the next input word."
      ]
    },
    {
      "cell_type": "code",
      "execution_count": 37,
      "metadata": {
        "collapsed": false
      },
      "outputs": [],
      "source": [
        "class Encoder_RNN(nn.Module):\n",
        "    def __init__(self, vocab_size, hidden_size,num_layers=1):\n",
        "        self.vocab_size = vocab_size\n",
        "        self.hidden_size = hidden_size\n",
        "        self.num_layers = num_layers\n",
        "        super(Encoder_RNN, self).__init__()\n",
        "\n",
        "        self.embedding = nn.Embedding(vocab_size, hidden_size)\n",
        "        self.gru = nn.GRU(hidden_size, hidden_size,num_layers=num_layers,batch_first = True)\n",
        "\n",
        "    def forward(self, x, hidden=None):\n",
        "        # (N, seq_len, 1)\n",
        "        x = x.reshape(x.size(0),-1)     # (N, seq_len)\n",
        "        embedded = self.embedding(x)    # (N,seq_len,hidden_size)\n",
        "        # output - (N,seq_len,hidden_size)\n",
        "        # hidden - (num_layers,N,hidden_size)\n",
        "        output, hidden = self.gru(embedded, hidden) \n",
        "        return output, hidden\n",
        "\n",
        "    def init_hidden(self,batch_size=1):\n",
        "        return torch.zeros(self.num_layers, batch_size, self.hidden_size)\n",
        "    \n",
        "    @property\n",
        "    def ctor_kwargs(self):\n",
        "        return {\n",
        "            \"vocab_size\" : self.vocab_size,\n",
        "            \"hidden_size\": self.hidden_size,\n",
        "            \"num_layers\" : self.num_layers,\n",
        "        }"
      ]
    },
    {
      "attachments": {},
      "cell_type": "markdown",
      "metadata": {},
      "source": [
        "### The Decoder\n",
        "\n",
        "The decoder is another RNN that takes the encoder output vector(s) and\n",
        "outputs a sequence of words to create the translation.\n",
        "\n",
        "\n"
      ]
    },
    {
      "attachments": {},
      "cell_type": "markdown",
      "metadata": {},
      "source": [
        "#### Simple Decoder\n",
        "\n",
        "In the simplest seq2seq decoder we use only last output of the encoder. This last output is sometimes called the *context vector* as it encodes context from the entire sequence. This context vector is used as the initial hidden state of the decoder.\n",
        "\n",
        "At every step of decoding, the decoder is given an input token and hidden state. The initial input token is the start-of-string ``<SOS>`` token, and the first hidden state is the context vector (the encoder's last hidden state)."
      ]
    },
    {
      "cell_type": "code",
      "execution_count": 38,
      "metadata": {
        "collapsed": false
      },
      "outputs": [],
      "source": [
        "class Decoder_RNN(nn.Module):\n",
        "    def __init__(self, hidden_size, output_size,num_layers=1):\n",
        "        super(Decoder_RNN, self).__init__()\n",
        "        self.hidden_size = hidden_size\n",
        "        self.output_size = output_size\n",
        "        self.num_layers = num_layers\n",
        "\n",
        "        self.embedding = nn.Embedding(output_size, hidden_size)\n",
        "\n",
        "        self.gru = nn.GRU(hidden_size, hidden_size,num_layers=num_layers ,batch_first=True)\n",
        "        \n",
        "        self.out = nn.Sequential(\n",
        "            nn.Linear(hidden_size, output_size),\n",
        "            nn.LogSoftmax(dim=2),\n",
        "        )\n",
        "    \n",
        "    \n",
        "    def forward(self, x, hidden = None):\n",
        "        # x - (N,seq_len,1) or (1,seq_len,1)\n",
        "        x = x.reshape(x.size(0),-1)  # (N,seq_len)\n",
        "        embedded = self.embedding(x) # (N,seq_len,hidden_size)\n",
        "        embedded = F.relu(embedded)\n",
        "        \n",
        "        output, hidden = self.gru(embedded, hidden)\n",
        "        output = self.out(output)\n",
        "        return output, hidden\n",
        "    \n",
        "    def init_hidden(self, batch_size = 1):\n",
        "        num_layers = self.gru.num_layers\n",
        "        return torch.zeros(num_layers, batch_size, self.hidden_size, device=device)\n",
        "\n",
        "    @property\n",
        "    def ctor_kwargs(self):\n",
        "        return {\n",
        "            \"hidden_size\":self.hidden_size,\n",
        "            \"output_size\":self.output_size,\n",
        "            \"num_layers\" : self.num_layers,\n",
        "        }\n",
        "        "
      ]
    },
    {
      "attachments": {},
      "cell_type": "markdown",
      "metadata": {},
      "source": [
        "# Attention\n",
        "## Self-Attention\n",
        "- X - (see,**that**,girl,run)\n",
        "- x - **that**\n",
        "- Q - x\n",
        "- K - X\n",
        "- V - X\n",
        "- Self_Attention (Q,K,V) = Revelance(Q,K) * V\n",
        "## seq2seq\n",
        "- Attention(Q = Input, K = Prev_Hidden, V = Encoder_Hidden)\n",
        "\n",
        "Attention allows the decoder network to “focus” on a different part of the encoder’s outputs for every step of the decoder’s own outputs. First we calculate a set of attention weights. These will be multiplied by the encoder output vectors to create a weighted combination. The result (called attn_applied in the code) should contain information about that specific part of the input sequence, and thus help the decoder choose the right output words.\n",
        "\n",
        "Type of attention:\n",
        "- Bahdanau attention\n",
        "- Luong attention"
      ]
    },
    {
      "cell_type": "code",
      "execution_count": 546,
      "metadata": {},
      "outputs": [],
      "source": [
        "class Bahdanau_Decoder(nn.Module):\n",
        "    def __init__(self,hidden_size,output_size,num_layers=1,drop_prob=0.1):\n",
        "        super(Bahdanau_Decoder,self).__init__()\n",
        "        self.hidden_size = hidden_size\n",
        "        self.output_size = output_size\n",
        "        self.num_layers = num_layers\n",
        "        self.drop_prob = drop_prob\n",
        "\n",
        "        self.embedding = nn.Sequential(\n",
        "            nn.Embedding(output_size,hidden_size),\n",
        "            # nn.Dropout(drop_prob),\n",
        "        )\n",
        "        self.fc_hidden = nn.Linear(hidden_size,hidden_size,bias=False)\n",
        "        self.fc_encoder = nn.Linear(hidden_size,hidden_size,bias=False)\n",
        "        self.weight = nn.Parameter(torch.FloatTensor(hidden_size))\n",
        "        self.attn_combine = nn.Linear(hidden_size*2,hidden_size)\n",
        "        self.rnn = nn.GRU(hidden_size*2,hidden_size,num_layers=num_layers,batch_first = True)\n",
        "        self.classifier = nn.Sequential(\n",
        "            nn.Linear(hidden_size,output_size),\n",
        "            nn.LogSoftmax(dim=2),\n",
        "        )\n",
        "    @property\n",
        "    def ctor_kwargs(self):\n",
        "        return {\n",
        "            \"hidden_size\"   : self.hidden_size,\n",
        "            \"output_size\"   : self.output_size,\n",
        "            \"num_layers\"    : self.num_layers,\n",
        "            \"drop_prob\"     : self.drop_prob,\n",
        "        }\n",
        "\n",
        "    def forward(self,inputs,hidden,encoder_outputs):\n",
        "        embedded = self.embedding(inputs)\n",
        "        \n",
        "        key = self.fc_encoder(encoder_outputs)\n",
        "        query = self.fc_hidden(hidden[-1]).unsqueeze(1)\n",
        "        \n",
        "        # Calculating Alignment Scores\n",
        "        x = torch.tanh(query + key)\n",
        "        alignment_scores = torch.bmm(x,self.weight.unsqueeze(0).repeat(x.size(0),1).unsqueeze(-1))\n",
        "        alignment_scores = alignment_scores.view(x.size(0),-1)\n",
        "        # Softmaxing alignment scores to get Attention weights\n",
        "        attn_weights = F.softmax(alignment_scores, dim=1)\n",
        "        \n",
        "        # Multiplying the Attention weights with encoder outputs to get the context vector\n",
        "        context_vector = torch.bmm(attn_weights.unsqueeze(1),encoder_outputs).view(inputs.size(0),self.hidden_size)\n",
        "        \n",
        "        output = torch.cat((embedded, context_vector.unsqueeze(1).repeat(1,inputs.size(1),1)), -1)\n",
        "        output, hidden = self.rnn(output, hidden)\n",
        "        \n",
        "        output = self.classifier(output)\n",
        "        return output, hidden, attn_weights"
      ]
    },
    {
      "cell_type": "code",
      "execution_count": 547,
      "metadata": {},
      "outputs": [
        {
          "data": {
            "text/plain": [
              "(torch.Size([32, 1, 3390]),\n",
              " torch.Size([2, 32, 10]),\n",
              " tensor(8.0012, grad_fn=<AddBackward0>))"
            ]
          },
          "execution_count": 547,
          "metadata": {},
          "output_type": "execute_result"
        }
      ],
      "source": [
        "def one_pass():\n",
        "    criterion = nn.CrossEntropyLoss()\n",
        "    X,Y = next(iter(train_datasets[0]))\n",
        "    \n",
        "    encoder = Encoder_RNN(input_lang.n_words,10,2)\n",
        "    \n",
        "    # encoder pass\n",
        "    encoder_out,encoder_hidden = encoder(X,encoder.init_hidden(X.size(0)))\n",
        "    \n",
        "    # decoder pass v1\n",
        "    Y = F.pad(Y,(0,1,0,0),value=EOS_token)\n",
        "    decoder = Bahdanau_Decoder(10,output_lang.n_words,2)\n",
        "    loss = 0\n",
        "    decoder_input = torch.tensor([[SOS_token] * Y.size(0)]).transpose(0,1)  # Shape: (N,1)\n",
        "    decoder_hidden = encoder_hidden\n",
        "    for t in range(Y.size(1)):\n",
        "        # decoder_output, decoder_hidden = decoder(decoder_input,decoder_hidden)\n",
        "        decoder_output, decoder_hidden,*_ = decoder(decoder_input,decoder_hidden,encoder_out)\n",
        "        loss += criterion(decoder_output.reshape(decoder_output.size(0),-1),Y[:,t])\n",
        "        decoder_input = Y[:,[t]]\n",
        "        break\n",
        "    \n",
        "    return decoder_output.shape,decoder_hidden.shape,loss\n",
        "one_pass()"
      ]
    },
    {
      "attachments": {},
      "cell_type": "markdown",
      "metadata": {},
      "source": [
        "# SEQ2SEQ and Attention\n",
        "\n",
        "reference : https://youtu.be/OyFJWRnt_AY\n",
        " \n",
        "\n",
        "Components\n",
        "- queries, Q\n",
        "- keys, K\n",
        "- values, V\n",
        "\n",
        "Translation Task and QKV\n",
        "1. Q - hidden state of output word\n",
        "2. K - hidden state of input word\n",
        "3. V - hidden state of input word\n",
        "\n",
        "Process\n",
        "\n",
        "$$\n",
        "e = Q \\cdot K \\\\\n",
        "\\alpha = softmax(e)\\\\\n",
        "attention(Q,K,V) =\\alpha \\cdot V = softmax(Q\\cdot K)\\cdot V \\\\\n",
        "attention(Q,K,V) = similarity(Q,K)\\cdot V\n",
        "$$\n",
        "The learnable component is the activation function $softmax$."
      ]
    },
    {
      "attachments": {},
      "cell_type": "markdown",
      "metadata": {},
      "source": [
        "## Training"
      ]
    },
    {
      "cell_type": "code",
      "execution_count": 548,
      "metadata": {},
      "outputs": [],
      "source": [
        "def train(encoder:Encoder_RNN,decoder:Decoder_RNN|Bahdanau_Decoder,\n",
        "          dataset,optimzer,criterion):\n",
        "    encoder.train()\n",
        "    decoder.train()\n",
        "    loss_hist = []\n",
        "    for X,Y in dataset:\n",
        "        X,Y = X.to(device),Y.to(device)\n",
        "        \n",
        "        # encoder pass\n",
        "        encoder_outputs,encoder_hidden = encoder(X,encoder.init_hidden(X.size(0)).to(device))\n",
        "        \n",
        "        # decoder pass\n",
        "        Y = F.pad(Y,(0,1,0,0),value=EOS_token)\n",
        "        loss = 0\n",
        "        \n",
        "        # Shape: (N,1)\n",
        "        decoder_input = torch.tensor([[SOS_token] * Y.size(0)],device=device).transpose(0,1)\n",
        "        decoder_hidden = encoder_hidden\n",
        "        for t in range(Y.size(1)):\n",
        "            # decoder_output, decoder_hidden = decoder(decoder_input,decoder_hidden)\n",
        "            decoder_output, decoder_hidden,*_ = decoder(decoder_input,decoder_hidden,encoder_outputs)\n",
        "            loss += criterion(decoder_output.reshape(decoder_output.size(0),-1),Y[:,t])\n",
        "            decoder_input = Y[:,[t]]\n",
        "        \n",
        "        # backward pass\n",
        "        optimzer.zero_grad()\n",
        "        loss.backward()\n",
        "        optimzer.step()\n",
        "        loss_hist.append(loss.item())\n",
        "    return loss_hist"
      ]
    },
    {
      "cell_type": "code",
      "execution_count": 549,
      "metadata": {},
      "outputs": [],
      "source": [
        "def test(encoder:Encoder_RNN,decoder:Decoder_RNN|Bahdanau_Decoder,\n",
        "         dataset,criterion):\n",
        "    encoder.eval()\n",
        "    decoder.eval()\n",
        "    loss_hist = []\n",
        "    with torch.no_grad():\n",
        "        for X,Y in dataset:\n",
        "            X,Y = X.to(device),Y.to(device)\n",
        "            \n",
        "            # encoder pass\n",
        "            encoder_outputs,encoder_hidden = encoder(X,encoder.init_hidden(X.size(0)).to(device))\n",
        "            \n",
        "            # decoder pass\n",
        "            Y = F.pad(Y,(0,1,0,0),value=EOS_token)\n",
        "            loss = 0\n",
        "            \n",
        "            # Shape: (N,1)\n",
        "            decoder_input = torch.tensor([[SOS_token] * Y.size(0)],device=device).transpose(0,1)\n",
        "            decoder_hidden = encoder_hidden\n",
        "            for t in range(Y.size(1)):\n",
        "                # decoder_output, decoder_hidden = decoder(decoder_input,decoder_h)\n",
        "                decoder_output, decoder_hidden,*_ = decoder.forward(decoder_input,decoder_hidden,encoder_outputs)\n",
        "                loss += criterion(decoder_output.reshape(decoder_output.size(0),-1),Y[:,t])\n",
        "                decoder_input = Y[:,[t]]\n",
        "            \n",
        "            loss_hist.append(loss.item())\n",
        "    return loss_hist"
      ]
    },
    {
      "cell_type": "code",
      "execution_count": 550,
      "metadata": {},
      "outputs": [],
      "source": [
        "def plot_loss(train_hist,test_hist):\n",
        "    plt.title(f'epoch - {len(train_hist)}')\n",
        "    plt.plot(train_hist,label='train')\n",
        "    plt.plot(test_hist,label='test')\n",
        "    plt.legend()\n",
        "    plt.show()"
      ]
    },
    {
      "cell_type": "code",
      "execution_count": 557,
      "metadata": {},
      "outputs": [],
      "source": [
        "def init(enc_ctor,dec_ctor,model_checkpoint_pth):\n",
        "    hidden_size = 216\n",
        "    max_lr = 0.1\n",
        "    encoder = enc_ctor(input_lang.n_words, hidden_size,1).to(device)\n",
        "    decoder = dec_ctor(hidden_size, output_lang.n_words,1).to(device)\n",
        "    optimizer = optim.SGD(list(encoder.parameters()) + list(decoder.parameters()), lr=max_lr)\n",
        "    init_checkpoint = {\n",
        "        'device'            : device,\n",
        "        'max_lr'            : max_lr,\n",
        "        'encoder kwargs'    : encoder.ctor_kwargs,\n",
        "        'decoder kwargs'    : decoder.ctor_kwargs,\n",
        "        'encoder'           : encoder.state_dict(), # big\n",
        "        'decoder'           : decoder.state_dict(), # big\n",
        "        'optimzer'          : optimizer.state_dict(),\n",
        "        'train_loss_hist'   : [],\n",
        "        'test_loss_hist'    : [],\n",
        "    }\n",
        "    torch.save(init_checkpoint,model_checkpoint_pth)\n",
        "\n",
        "def load(enc_ctor,dec_ctor,model_checkpoint_pth,force_init=False):\n",
        "    import os\n",
        "    if not os.path.exists(model_checkpoint_pth) or force_init:\n",
        "        init(enc_ctor,dec_ctor,model_checkpoint_pth)\n",
        "    checkpoint = torch.load(model_checkpoint_pth,map_location=device)\n",
        "    \n",
        "    encoder = enc_ctor(**checkpoint['encoder kwargs']).to(device)\n",
        "    decoder = dec_ctor(**checkpoint['decoder kwargs']).to(device)\n",
        "    \n",
        "    encoder.load_state_dict(checkpoint['encoder'])\n",
        "    decoder.load_state_dict(checkpoint['decoder'])\n",
        "    \n",
        "    optimizer = optim.SGD(list(encoder.parameters()) + list(decoder.parameters()), lr=checkpoint['max_lr'])\n",
        "    optimizer.load_state_dict(checkpoint['optimzer'])\n",
        "    \n",
        "    train_loss_hist = checkpoint['train_loss_hist']\n",
        "    test_loss_hist = checkpoint['test_loss_hist']\n",
        "    \n",
        "    return encoder,decoder,optimizer,train_loss_hist,test_loss_hist\n",
        "\n",
        "def save_checkpoint(encoder,decoder,optimizer,\n",
        "                    train_loss_hist,test_loss_hist,\n",
        "                    model_checkpoint_pth):\n",
        "    checkpoint = torch.load(model_checkpoint_pth,map_location=device)\n",
        "    new_checkpoint_values = {\n",
        "        'encoder'           : encoder.state_dict(),\n",
        "        'decoder'           : decoder.state_dict(),\n",
        "        'optimizer'         : optimizer.state_dict(),\n",
        "        'train_loss_hist'   : train_loss_hist,\n",
        "        'test_loss_hist'    : test_loss_hist,\n",
        "    }\n",
        "    for k,v in new_checkpoint_values.items():\n",
        "        checkpoint[k] = v\n",
        "    torch.save(checkpoint,model_checkpoint_pth)"
      ]
    },
    {
      "cell_type": "code",
      "execution_count": 558,
      "metadata": {},
      "outputs": [],
      "source": [
        "criterion = nn.CrossEntropyLoss()\n",
        "train_size = sum(len(dataset.dataset) for dataset in train_datasets)\n",
        "test_size = sum(len(dataset.dataset) for dataset in test_datasets)\n",
        "model_checkpoint_pth = 'model_checkpoint/seq2seq_RNN_bahdanau_small.pth'\n",
        "encoder,decoder,optimizer,train_loss_hist,test_loss_hist = load(Encoder_RNN,Bahdanau_Decoder,model_checkpoint_pth)"
      ]
    },
    {
      "cell_type": "code",
      "execution_count": 559,
      "metadata": {
        "collapsed": false
      },
      "outputs": [
        {
          "data": {
            "image/png": "[encoded data removed]",
            "text/plain": [
              "<Figure size 640x480 with 1 Axes>"
            ]
          },
          "metadata": {},
          "output_type": "display_data"
        }
      ],
      "source": [
        "def train_iter(n = 10):    \n",
        "    for i in range(n):\n",
        "        train_loss = 0\n",
        "        test_loss = 0\n",
        "        for train_dataset,test_dataset in zip(train_datasets,test_datasets):\n",
        "            train_losses = train(encoder,decoder,train_dataset,\n",
        "                optimizer,criterion)\n",
        "            test_losses = test(encoder,decoder,test_dataset,criterion)\n",
        "            train_loss += sum(train_losses)\n",
        "            test_loss += sum(test_losses)\n",
        "        # don't forget to normalize the sum loss\n",
        "        train_loss_hist.append(train_loss/train_size)\n",
        "        test_loss_hist.append(test_loss/test_size)\n",
        "        clear_output()\n",
        "        plot_loss(train_loss_hist,test_loss_hist)\n",
        "    save_checkpoint(encoder,decoder,optimizer,train_loss_hist,test_loss_hist,model_checkpoint_pth)\n",
        "train_iter()"
      ]
    },
    {
      "cell_type": "code",
      "execution_count": 560,
      "metadata": {},
      "outputs": [
        {
          "data": {
            "image/png": "[encoded data removed]",
            "text/plain": [
              "<Figure size 640x480 with 1 Axes>"
            ]
          },
          "metadata": {},
          "output_type": "display_data"
        }
      ],
      "source": [
        "def fn():\n",
        "    *_,train_loss_hist,test_loss_hist = load(Encoder_RNN,Decoder_RNN,'model_checkpoint/seq2seq_RNN_small.pth')\n",
        "    plt.title(f'epoch - {len(train_loss_hist)}')\n",
        "    plt.plot(train_loss_hist,label='base train',linestyle=':')\n",
        "    plt.plot(test_loss_hist,label='base test',linestyle=':')\n",
        "    *_,train_loss_hist,test_loss_hist = load(Encoder_RNN,Bahdanau_Decoder,model_checkpoint_pth)\n",
        "    plt.plot(train_loss_hist,label='train')\n",
        "    plt.plot(test_loss_hist,label='test')\n",
        "    plt.legend()\n",
        "    plt.show()\n",
        "fn()"
      ]
    },
    {
      "cell_type": "code",
      "execution_count": 561,
      "metadata": {},
      "outputs": [],
      "source": [
        "def predict(seq,encoder:Encoder_RNN,decoder:Decoder_RNN,MAX_LEN = 10):\n",
        "    with torch.no_grad():\n",
        "        seq = seq.to(device).reshape(1,-1)\n",
        "        encoder_outputs,encoder_hidden = encoder(seq,encoder.init_hidden().to(device))\n",
        "        \n",
        "        decoder_hidden = encoder_hidden\n",
        "        cur_tkn = torch.tensor([[SOS_token]],device=device)\n",
        "        Y = []\n",
        "        while cur_tkn.item() != EOS_token and len(Y) < MAX_LEN:\n",
        "            # decoder_output,decoder_hidden = decoder(cur_tkn,decoder_hidden)\n",
        "            decoder_output, decoder_hidden,*_ = decoder.forward(cur_tkn,decoder_hidden,encoder_outputs)\n",
        "            # cur_tkn[0] = decoder_out.squeeze().exp().argmax()\n",
        "            cur_tkn[0] = decoder_output.squeeze().argmax()\n",
        "            Y.append(cur_tkn.item())\n",
        "              \n",
        "    return Y\n"
      ]
    },
    {
      "cell_type": "code",
      "execution_count": 562,
      "metadata": {},
      "outputs": [],
      "source": [
        "# def visualize_attention(attn,input_sent,out_sent):\n",
        "#     fig,ax = plt.subplots(1,1,figsize=(10,10))\n",
        "#     ax.imshow(attn.detach().cpu(),cmap='gray')\n",
        "#     # Show label at every tick\n",
        "#     ax.set_yticks(range(len(out_sent)))\n",
        "#     ax.set_xticks(range(len(input_sent)))\n",
        "#     ax.set_yticklabels([output_lang.index2word.get(n,'<UNK>') for n in out_sent])\n",
        "#     ax.set_xticklabels([input_lang.index2word.get(n,'<UNK>') for n in input_sent.detach().numpy()])\n",
        "#     plt.show()"
      ]
    },
    {
      "cell_type": "code",
      "execution_count": 563,
      "metadata": {},
      "outputs": [
        {
          "name": "stdout",
          "output_type": "stream",
          "text": [
            "---\n",
            "input : c est mon ami . le connaissez vous ?\n",
            "output : he s my friend . do you know him ?\n",
            "translate : you re the one who should be thanking . <EOS>\n",
            "---\n",
            "input : nous n allons pas vous repondre .\n",
            "output : we re not going to do it .\n",
            "translate : we re not going to make it are you ? <EOS>\n",
            "---\n",
            "input : j ai un programme vraiment charge cette semaine .\n",
            "output : i m on a really tight schedule this week .\n",
            "translate : i m very sorry but a lot of mine . <EOS>\n"
          ]
        }
      ],
      "source": [
        "def fn(datasets, n = 3):\n",
        "    encoder,decoder,*_ = load(Encoder_RNN,Bahdanau_Decoder,model_checkpoint_pth)\n",
        "    for _ in range(n):\n",
        "        idx = random.choice(range(len(datasets)))\n",
        "        dataset = datasets[idx]\n",
        "        input_sent,target = next(iter(dataset))\n",
        "        \n",
        "        idx = random.choice(range(len(input_sent)))\n",
        "        input_sent,target = input_sent[idx],target[idx]\n",
        "        out_sent = predict(input_sent,encoder,decoder,MAX_LEN = 100)\n",
        "        \n",
        "        print('---')\n",
        "        print(\"input :\", input_lang.index2sent(input_sent.detach().numpy()))\n",
        "        print(\"output :\",output_lang.index2sent(target.detach().numpy()))\n",
        "        print(\"translate :\" ,output_lang.index2sent(out_sent))\n",
        "        # visualize_attention(attn,input_sent,out_sent)\n",
        "        # print(\"output :\",output_lang.index2sent(target.detach().numpy()))\n",
        "\n",
        "fn(test_datasets)"
      ]
    }
  ],
  "metadata": {
    "kernelspec": {
      "display_name": "Python 3",
      "language": "python",
      "name": "python3"
    },
    "language_info": {
      "codemirror_mode": {
        "name": "ipython",
        "version": 3
      },
      "file_extension": ".py",
      "mimetype": "text/x-python",
      "name": "python",
      "nbconvert_exporter": "python",
      "pygments_lexer": "ipython3",
      "version": "3.10.11"
    }
  },
  "nbformat": 4,
  "nbformat_minor": 0
}
