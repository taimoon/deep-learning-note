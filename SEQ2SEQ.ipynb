{
  "cells": [
    {
      "cell_type": "code",
      "execution_count": 1,
      "metadata": {
        "collapsed": false
      },
      "outputs": [],
      "source": [
        "%matplotlib inline"
      ]
    },
    {
      "attachments": {},
      "cell_type": "markdown",
      "metadata": {},
      "source": [
        "**Reference**: \n",
        "1. [Sean Robertson](https://github.com/spro/practical-pytorch)\n",
        "2. https://pytorch.org/tutorials/intermediate/seq2seq_translation_tutorial.html\n",
        "\n",
        "Note\n",
        "\n",
        "Download the data from [here](https://download.pytorch.org/tutorial/data.zip) and extract it to the current directory.\n"
      ]
    },
    {
      "cell_type": "code",
      "execution_count": 2,
      "metadata": {
        "collapsed": false
      },
      "outputs": [],
      "source": [
        "import random\n",
        "\n",
        "import torch\n",
        "import torch.nn as nn\n",
        "from torch import optim\n",
        "import torch.nn.functional as F\n",
        "\n",
        "from IPython.display import clear_output\n",
        "import matplotlib.pyplot as plt\n",
        "\n",
        "device = torch.device(\"cuda\" if torch.cuda.is_available() else \"cpu\")"
      ]
    },
    {
      "cell_type": "code",
      "execution_count": 3,
      "metadata": {
        "collapsed": false
      },
      "outputs": [],
      "source": [
        "UNK_token = 0\n",
        "SOS_token = 1\n",
        "EOS_token = 2\n",
        "\n",
        "class Lang:\n",
        "    def __init__(self, name, sent_split = lambda sent: sent.split(' ')):\n",
        "        self.sent_split = sent_split\n",
        "        self.name = name\n",
        "        self.word2count = {}\n",
        "        self.index2word = {0: \"<UNK>\", 1: \"<SOS>\", 2: \"<EOS>\"}\n",
        "        self.word2index = {ch:idx for idx,ch in self.index2word.items()}\n",
        "        self.n_words = len(self.index2word)\n",
        "\n",
        "    def addSentence(self, sentence):\n",
        "        for word in self.sent_split(sentence):\n",
        "            self.addWord(word)\n",
        "\n",
        "    def addWord(self, word):\n",
        "        if word not in self.word2index:\n",
        "            self.word2index[word] = self.n_words\n",
        "            self.word2count[word] = 1\n",
        "            self.index2word[self.n_words] = word\n",
        "            self.n_words += 1\n",
        "        else:\n",
        "            self.word2count[word] += 1\n",
        "    \n",
        "    def sent2index(self,sent:str):\n",
        "        words = self.sent_split(sent)\n",
        "        indexes = tuple(self.word2index.get(word,UNK_token) for word in words)\n",
        "        return indexes\n",
        "    \n",
        "    def index2words(self,indexes):\n",
        "        words = [self.index2word.get(idx,'<UNK>') for idx in indexes]\n",
        "        return words\n",
        "    \n",
        "    def index2sent(self,indexes:tuple[int]):\n",
        "        words = self.index2words(indexes)\n",
        "        return ' '.join(words)\n",
        "        "
      ]
    },
    {
      "cell_type": "code",
      "execution_count": 4,
      "metadata": {
        "collapsed": false
      },
      "outputs": [],
      "source": [
        "# Turn a Unicode string to plain ASCII, thanks to\n",
        "# https://stackoverflow.com/a/518232/2809427\n",
        "def unicodeToAscii(s):\n",
        "    import unicodedata\n",
        "    return ''.join(\n",
        "        c for c in unicodedata.normalize('NFD', s)\n",
        "        if unicodedata.category(c) != 'Mn'\n",
        "    )\n",
        "\n",
        "# Lowercase, trim, and remove non-letter characters\n",
        "def normalizeString(s):\n",
        "    import re\n",
        "    s = unicodeToAscii(s.lower().strip())\n",
        "    s = re.sub(r\"([.!?])\", r\" \\1\", s)\n",
        "    s = re.sub(r\"[^a-zA-Z.!?]+\", r\" \", s)\n",
        "    return s\n",
        "\n",
        "def parse_lang_file(path,reverse=False):\n",
        "    from io import open\n",
        "    print(\"Reading lines...\")\n",
        "    # Read the file and split into lines\n",
        "    lines = open(path, encoding='utf-8').read().strip().split('\\n')\n",
        "    pairs = [[normalizeString(s) for s in l.split('\\t')] for l in lines]\n",
        "    if reverse:\n",
        "        pairs = [list(reversed(p)) for p in pairs]\n",
        "    return pairs"
      ]
    },
    {
      "cell_type": "code",
      "execution_count": 5,
      "metadata": {
        "collapsed": false
      },
      "outputs": [],
      "source": [
        "def filter_pair(p):\n",
        "    eng_prefixes = (\n",
        "    \"i am \", \"i m \",\n",
        "    \"he is\", \"he s \",\n",
        "    \"she is\", \"she s \",\n",
        "    \"you are\", \"you re \",\n",
        "    \"we are\", \"we re \",\n",
        "    \"they are\", \"they re \"\n",
        "    )\n",
        "    return p[1].startswith(eng_prefixes)\n",
        "        \n",
        "def add_lang(input_lang:Lang, output_lang:Lang, path, reverse=False):\n",
        "    pairs = parse_lang_file(path, reverse)\n",
        "    print(f\"Read {len(pairs)} sentence pairs\")\n",
        "    \n",
        "    pairs = [pair for pair in pairs if filter_pair(pair)]\n",
        "    print(\"Trimmed to %s sentence pairs\" % len(pairs))\n",
        "    \n",
        "    print(\"Counting words...\")\n",
        "    for pair in pairs:\n",
        "        input_lang.addSentence(pair[0])\n",
        "        output_lang.addSentence(pair[1])\n",
        "    \n",
        "    print(\"Counted words:\")\n",
        "    print(input_lang.name, input_lang.n_words)\n",
        "    print(output_lang.name, output_lang.n_words)\n",
        "    \n",
        "    return input_lang, output_lang, pairs"
      ]
    },
    {
      "cell_type": "code",
      "execution_count": 6,
      "metadata": {},
      "outputs": [
        {
          "name": "stdout",
          "output_type": "stream",
          "text": [
            "Reading lines...\n",
            "Read 135842 sentence pairs\n",
            "Trimmed to 13067 sentence pairs\n",
            "Counting words...\n",
            "Counted words:\n",
            "fra 5172\n",
            "eng 3390\n",
            "['vous etes ruse .', 'you re crafty .']\n"
          ]
        }
      ],
      "source": [
        "input_lang = Lang('fra')\n",
        "output_lang = Lang('eng')\n",
        "\n",
        "input_lang, output_lang, pairs = add_lang(input_lang,output_lang,path = 'data/eng-fra.txt', reverse=True)\n",
        "print(random.choice(pairs))"
      ]
    },
    {
      "cell_type": "code",
      "execution_count": 7,
      "metadata": {},
      "outputs": [],
      "source": [
        "def preprocessing_pairs(lang1:Lang,lang2:Lang,pairs):\n",
        "    return [(lang1.sent2index(p),\n",
        "             lang2.sent2index(q))\n",
        "            for p,q in pairs]\n",
        "\n",
        "def partition_by_len(pairs,):\n",
        "    res = {}\n",
        "    for p,q in pairs:\n",
        "        key = (len(p),len(q))\n",
        "        \n",
        "        if key not in res:\n",
        "            res[key] = []\n",
        "        \n",
        "        res[key].append((p,q))\n",
        "    return list(res.values())\n",
        "\n",
        "def filter_pairs(pairs,min_size = 64,min_len = 5):\n",
        "    partitions = partition_by_len(pairs)\n",
        "    fufillment_cond = lambda *qs : all(len(q) > min_len for q in qs)\n",
        "    return [partition for partition in partitions \n",
        "            if len(partition) >= min_size and fufillment_cond(*partition[0])]\n",
        "\n",
        "def make_datasets(partitioned_pairs,test_size=0.3):\n",
        "    from torch.utils.data import TensorDataset,DataLoader\n",
        "    from sklearn.model_selection import train_test_split\n",
        "    \n",
        "    train_datasets,test_datasets = [],[]\n",
        "    for pairs in partitioned_pairs:\n",
        "        X,y = [],[]\n",
        "        for (p,q) in pairs:\n",
        "            X.append(p)\n",
        "            y.append(q)\n",
        "        \n",
        "        X = torch.tensor(X)\n",
        "        y = torch.tensor(y)\n",
        "        \n",
        "        Xtr,Xte,ytr,yte = train_test_split(X,y,test_size=test_size,random_state=12345)\n",
        "        dataset_from = lambda X,y,sz: DataLoader(TensorDataset(X,y),batch_size=sz)\n",
        "        train_datasets.append(dataset_from(Xtr,ytr,32))\n",
        "        test_datasets.append(dataset_from(Xte,yte,32))\n",
        "    return train_datasets,test_datasets\n",
        "\n",
        "partitioned_pairs = filter_pairs(preprocessing_pairs(input_lang,output_lang,pairs),min_len=0)\n",
        "train_datasets,test_datasets = make_datasets(partitioned_pairs,0.3)"
      ]
    },
    {
      "attachments": {},
      "cell_type": "markdown",
      "metadata": {},
      "source": [
        "### The Encoder\n",
        "\n",
        "The encoder of a seq2seq network is a RNN that outputs some value for every word from the input sentence. For every input word the encoder outputs a vector and a hidden state, and uses the hidden state for the next input word."
      ]
    },
    {
      "cell_type": "code",
      "execution_count": 8,
      "metadata": {
        "collapsed": false
      },
      "outputs": [],
      "source": [
        "class Encoder_RNN(nn.Module):\n",
        "    def __init__(self, vocab_size, hidden_size,num_layers=1):\n",
        "        super(Encoder_RNN, self).__init__()\n",
        "        self.embedding = nn.Embedding(vocab_size, hidden_size)\n",
        "        self.gru = nn.GRU(hidden_size, hidden_size,num_layers=num_layers,batch_first = True)\n",
        "\n",
        "    def forward(self, x, hidden=None):\n",
        "        # (N, seq_len, 1)\n",
        "        x = x.reshape(x.size(0),-1)     # (N, seq_len)\n",
        "        embedded = self.embedding(x)    # (N,seq_len,hidden_size)\n",
        "        # output - (N,seq_len,hidden_size)\n",
        "        # hidden - (num_layers,N,hidden_size)\n",
        "        output, hidden = self.gru(embedded, hidden) \n",
        "        return output, hidden\n",
        "\n",
        "    def init_hidden(self,batch_size=1):\n",
        "        return torch.zeros(self.gru.num_layers, batch_size, self.gru.hidden_size)\n",
        "    \n",
        "    @property\n",
        "    def ctor_kwargs(self):\n",
        "        return {\n",
        "            \"vocab_size\" : self.embedding.num_embeddings,\n",
        "            \"hidden_size\": self.gru.hidden_size,\n",
        "            \"num_layers\" : self.gru.num_layers,\n",
        "        }"
      ]
    },
    {
      "attachments": {},
      "cell_type": "markdown",
      "metadata": {},
      "source": [
        "### The Decoder\n",
        "\n",
        "The decoder is another RNN that takes the encoder output vector(s) and\n",
        "outputs a sequence of words to create the translation.\n",
        "\n",
        "\n"
      ]
    },
    {
      "attachments": {},
      "cell_type": "markdown",
      "metadata": {},
      "source": [
        "#### Simple Decoder\n",
        "\n",
        "In the simplest seq2seq decoder we use only last output of the encoder. This last output is sometimes called the *context vector* as it encodes context from the entire sequence. This context vector is used as the initial hidden state of the decoder.\n",
        "\n",
        "At every step of decoding, the decoder is given an input token and hidden state. The initial input token is the start-of-string ``<SOS>`` token, and the first hidden state is the context vector (the encoder's last hidden state)."
      ]
    },
    {
      "cell_type": "code",
      "execution_count": 9,
      "metadata": {
        "collapsed": false
      },
      "outputs": [],
      "source": [
        "class Decoder_RNN(nn.Module):\n",
        "    def __init__(self, hidden_size, output_size,num_layers=1):\n",
        "        super(Decoder_RNN, self).__init__()\n",
        "        self.hidden_size = hidden_size\n",
        "        self.output_size = output_size\n",
        "        self.num_layers = num_layers\n",
        "\n",
        "        self.embedding = nn.Embedding(output_size, hidden_size)\n",
        "\n",
        "        self.gru = nn.GRU(hidden_size, hidden_size,num_layers=num_layers ,batch_first=True)\n",
        "        \n",
        "        self.out = nn.Sequential(\n",
        "            nn.Linear(hidden_size, output_size),\n",
        "            nn.LogSoftmax(dim=2),\n",
        "        )\n",
        "    \n",
        "    \n",
        "    def forward(self, x, hidden = None, encoder_outputs = None):\n",
        "        N,seq_len = x\n",
        "        x = x.reshape(N,-1)  # (N,seq_len)\n",
        "        embedded = self.embedding(x) # (N,seq_len,hidden_size)\n",
        "        embedded = F.relu(embedded)\n",
        "        \n",
        "        output, hidden = self.gru(embedded, hidden)\n",
        "        output = self.out(output)\n",
        "        return output, hidden\n",
        "    \n",
        "    def init_hidden(self, batch_size = 1):\n",
        "        return torch.zeros(self.num_layers, batch_size, self.hidden_size, device=device)\n",
        "\n",
        "    @property\n",
        "    def ctor_kwargs(self):\n",
        "        return {\n",
        "            \"hidden_size\": self.hidden_size,\n",
        "            \"output_size\": self.output_size,\n",
        "            \"num_layers\" : self.num_layers,\n",
        "        }\n",
        "        "
      ]
    },
    {
      "attachments": {},
      "cell_type": "markdown",
      "metadata": {},
      "source": [
        "# Attention\n",
        "## Self-Attention\n",
        "- X - (see,**that**,girl,run)\n",
        "- x - **that**\n",
        "- Q - x\n",
        "- K - X\n",
        "- V - X\n",
        "- Self_Attention (Q,K,V) = Revelance(Q,K) * V\n",
        "## seq2seq\n",
        "- Attention(Q = Input, K = Prev_Hidden, V = Encoder_Hidden)\n",
        "\n",
        "Attention allows the decoder network to “focus” on a different part of the encoder’s outputs for every step of the decoder’s own outputs. First we calculate a set of attention weights. These will be multiplied by the encoder output vectors to create a weighted combination. The result (called attn_applied in the code) should contain information about that specific part of the input sequence, and thus help the decoder choose the right output words.\n",
        "\n",
        "Type of attention:\n",
        "- Bahdanau attention\n",
        "- Luong attention"
      ]
    },
    {
      "cell_type": "code",
      "execution_count": 10,
      "metadata": {},
      "outputs": [],
      "source": [
        "class Bahdanau_Decoder(nn.Module):\n",
        "    def __init__(self,hidden_size,output_size,num_layers=1,drop_prob=0.1):\n",
        "        super(Bahdanau_Decoder,self).__init__()\n",
        "        self.hidden_size = hidden_size\n",
        "        self.output_size = output_size\n",
        "        self.num_layers = num_layers\n",
        "        self.drop_prob = drop_prob\n",
        "\n",
        "        self.embedding = nn.Sequential(\n",
        "            nn.Embedding(output_size,hidden_size),\n",
        "            # nn.Dropout(drop_prob),\n",
        "        )\n",
        "        self.fc_hidden = nn.Linear(hidden_size,hidden_size,bias=False)\n",
        "        self.fc_encoder = nn.Linear(hidden_size,hidden_size,bias=False)\n",
        "        self.weight = nn.Parameter(torch.FloatTensor(hidden_size))\n",
        "        self.attn_combine = nn.Linear(hidden_size*2,hidden_size)\n",
        "        self.rnn = nn.GRU(hidden_size*2,hidden_size,num_layers=num_layers,batch_first = True)\n",
        "        self.classifier = nn.Sequential(\n",
        "            nn.Linear(hidden_size,output_size),\n",
        "            nn.LogSoftmax(dim=2),\n",
        "        )\n",
        "    @property\n",
        "    def ctor_kwargs(self):\n",
        "        return {\n",
        "            \"hidden_size\"   : self.hidden_size,\n",
        "            \"output_size\"   : self.output_size,\n",
        "            \"num_layers\"    : self.num_layers,\n",
        "            \"drop_prob\"     : self.drop_prob,\n",
        "        }\n",
        "\n",
        "    def forward(self,inputs,hidden,encoder_outputs):\n",
        "        N,seq_len = inputs.shape\n",
        "        # hidden - (num_layers,N,hidden_sz)\n",
        "        # encoder_outputs - (N,seq_len1,hidden_sz)\n",
        "        \n",
        "        embedded = self.embedding(inputs) # (N,seq_len,embed_dim = hidden_sz)\n",
        "        \n",
        "        query = self.fc_hidden(hidden[-1]).unsqueeze(1) # (N,1,hidden_sz)\n",
        "        key = self.fc_encoder(encoder_outputs)          # (N,seq_len1,hidden_sz)\n",
        "        # Calculating Alignment Scores\n",
        "        x = torch.tanh(query + key) \n",
        "        # apply weighted-sum to each x\n",
        "        # x - (N,seq_len1,hidden_sz)\n",
        "        # weight - (hidden_sz) -> (1,hidden_sz) -> (N,hidden_sz) -> (N,hidden_sz,1)\n",
        "        # note that bmm doesn't broadcast; see doc.\n",
        "        alignment_scores = torch.bmm(x,self.weight.unsqueeze(0).repeat(N,1).unsqueeze(-1))\n",
        "        \n",
        "        # Softmaxing alignment scores to get Attention weights\n",
        "        attn_weights = alignment_scores.view(N,-1).softmax(dim=1) # (N,seq_len1,1) -> (N,seq_len1)\n",
        "        \n",
        "        # weight - (N,seq_len1,1)\n",
        "        # encoder - (N,seq_len1,hidden_sz)\n",
        "        # context - (N,1,hidden_sz) -> (N,hidden_sz)\n",
        "        # Multiplying the Attention weights with encoder outputs to get the context vector\n",
        "        context_vector = torch.bmm(attn_weights.unsqueeze(1),encoder_outputs).view(N,self.hidden_size)\n",
        "        \n",
        "        output = torch.cat((embedded, context_vector.unsqueeze(1).repeat(1,seq_len,1)), -1)\n",
        "        output, hidden = self.rnn(output, hidden)\n",
        "        \n",
        "        output = self.classifier(output)\n",
        "        return output, hidden, attn_weights"
      ]
    },
    {
      "cell_type": "code",
      "execution_count": 131,
      "metadata": {},
      "outputs": [],
      "source": [
        "class Attention(nn.Module):\n",
        "    def __init__(self, hidden_size,method=\"dot\") -> None:\n",
        "        super(Attention,self).__init__()\n",
        "        self.method = method\n",
        "        self.hidden_size = hidden_size\n",
        "        if method == \"general\":\n",
        "            self.fc = nn.Linear(hidden_size,hidden_size,bias=False)\n",
        "        elif method == \"concat\":\n",
        "            self.fc = nn.Linear(hidden_size,hidden_size,bias=False)\n",
        "            self.weight = nn.Parameter(torch.FloatTensor(1,hidden_size))\n",
        "        elif method == \"dot\":\n",
        "            pass\n",
        "        else:\n",
        "            print(method)\n",
        "            raise Exception(\"Unknown Method\")\n",
        "    def forward(self,decoder_hidden,encoder_outputs):\n",
        "        # N,seq_len1,hidden_sz = decoder_hidden.shape\n",
        "        # N,seq_len2,hidden_sz = encoder_outputs.shape\n",
        "        if self.method == \"dot\":\n",
        "            # For the dot scoring method, no weights or linear layers are involved\n",
        "            return torch.bmm(\n",
        "                encoder_outputs,\n",
        "                decoder_hidden.transpose(1,2)\n",
        "            )\n",
        "        \n",
        "        elif self.method == \"general\":\n",
        "            # For general scoring, decoder hidden state is passed through linear layers to introduce a weight matrix\n",
        "            out = self.fc(decoder_hidden)\n",
        "            return torch.bmm(\n",
        "                encoder_outputs,\n",
        "                decoder_hidden.transpose(1,2)\n",
        "            )\n",
        "        elif self.method == \"concat\":\n",
        "            raise NotImplemented\n",
        "            # For concat scoring, decoder hidden state and encoder outputs are concatenated first\n",
        "            out = torch.tanh(self.fc(decoder_hidden+encoder_outputs))\n",
        "            return out.bmm(self.weight.unsqueeze(-1)).squeeze(-1)\n",
        "    "
      ]
    },
    {
      "cell_type": "code",
      "execution_count": 123,
      "metadata": {},
      "outputs": [],
      "source": [
        "class Luong_Decoder(nn.Module):\n",
        "    def __init__(self, hidden_size, output_size, method=\"dot\", n_layers=1, drop_prob=0.1):\n",
        "        super(Luong_Decoder, self).__init__()\n",
        "        self.hidden_size = hidden_size\n",
        "        self.output_size = output_size\n",
        "        self.n_layers = n_layers\n",
        "        self.drop_prob = drop_prob\n",
        "        self.method = method\n",
        "        \n",
        "        # The Attention Mechanism is defined in a separate class\n",
        "        self.attention = Attention(hidden_size,method)\n",
        "        \n",
        "        self.embedding = nn.Embedding(self.output_size, self.hidden_size)\n",
        "        self.dropout = nn.Dropout(self.drop_prob)\n",
        "        self.rnn = nn.RNN(self.hidden_size, self.hidden_size,batch_first=True)\n",
        "        self.classifier = nn.Sequential(\n",
        "            nn.Linear(self.hidden_size*2, self.output_size),\n",
        "            nn.LogSoftmax(dim=2)\n",
        "        )\n",
        "    @property\n",
        "    def ctor_kwargs(self):\n",
        "        return {\n",
        "            \"hidden_size\" : self.hidden_size,\n",
        "            \"output_size\" : self.output_size,\n",
        "            \"n_layers\" : self.n_layers,\n",
        "            \"drop_prob\" : self.drop_prob,\n",
        "            \"method\" : self.method,\n",
        "        }\n",
        "    def forward(self, inputs, hidden, encoder_outputs):\n",
        "        N,seq_len = inputs.shape\n",
        "        # Embed input words\n",
        "        embedded = self.embedding(inputs).view(N,seq_len,-1)\n",
        "        embedded = self.dropout(embedded)\n",
        "        # Passing previous output word (embedded) and hidden state into LSTM cell\n",
        "        lstm_out, hidden = self.rnn(embedded, hidden[[-1]])\n",
        "        # Calculating Alignment Scores - see Attention class for the forward pass function\n",
        "        alignment_scores = self.attention(lstm_out,encoder_outputs)\n",
        "        \n",
        "        # Softmaxing alignment scores to obtain Attention weights\n",
        "        attn_weights = F.softmax(alignment_scores.view(N,-1), dim=1)\n",
        "\n",
        "        # Multiplying Attention weights with encoder outputs to get context vector\n",
        "        context_vector = torch.bmm(attn_weights.unsqueeze(1),encoder_outputs)\n",
        "\n",
        "        # Concatenating output from LSTM with context vector\n",
        "        output = torch.cat((lstm_out, context_vector),-1)\n",
        "        # Pass concatenated vector through Linear layer acting as a Classifier\n",
        "        output = self.classifier(output)\n",
        "        # output = F.log_softmax(self.classifier(output[0]), dim=1)\n",
        "        return output, hidden, attn_weights"
      ]
    },
    {
      "cell_type": "code",
      "execution_count": 124,
      "metadata": {},
      "outputs": [
        {
          "data": {
            "text/plain": [
              "tensor(41.4496, device='cuda:0', grad_fn=<AddBackward0>)"
            ]
          },
          "execution_count": 124,
          "metadata": {},
          "output_type": "execute_result"
        }
      ],
      "source": [
        "def one_pass(encoder,decoder,criterion,X,Y):\n",
        "    # encoder pass\n",
        "    X = X.to(device)\n",
        "    Y = Y.to(device)\n",
        "    encoder_out,encoder_hidden = encoder(X,encoder.init_hidden(X.size(0)).to(device))\n",
        "    \n",
        "    # decoder pass\n",
        "    loss = 0\n",
        "    decoder_input = torch.tensor([[SOS_token] * Y.size(0)],device=device).transpose(0,1)  # Shape: (N,1)\n",
        "    decoder_hidden = encoder_hidden\n",
        "    Y = F.pad(Y,(0,1,0,0),value=EOS_token)\n",
        "    for t in range(Y.size(1)):\n",
        "        decoder_output, decoder_hidden,*_ = decoder(decoder_input,decoder_hidden,encoder_out)\n",
        "        loss += criterion(decoder_output.reshape(decoder_output.size(0),-1),Y[:,t])\n",
        "        decoder_input = Y[:,[t]]\n",
        "    \n",
        "    # print(decoder_output.shape,decoder_hidden.shape)\n",
        "    \n",
        "    return loss\n",
        "\n",
        "f = lambda X,Y: one_pass(Encoder_RNN(input_lang.n_words,10,2).to(device),\n",
        "                         Luong_Decoder(10,output_lang.n_words,\"dot\",2).to(device),\n",
        "                         nn.CrossEntropyLoss(),\n",
        "                         X,Y)\n",
        "f(*next(iter(train_datasets[0])))"
      ]
    },
    {
      "attachments": {},
      "cell_type": "markdown",
      "metadata": {},
      "source": [
        "### SEQ2SEQ and Attention\n",
        "\n",
        "reference : https://youtu.be/OyFJWRnt_AY\n",
        " \n",
        "\n",
        "Components\n",
        "- queries, Q\n",
        "- keys, K\n",
        "- values, V\n",
        "\n",
        "Translation Task and QKV\n",
        "1. Q - hidden state of output word\n",
        "2. K - hidden state of input word\n",
        "3. V - hidden state of input word\n",
        "\n",
        "Process\n",
        "\n",
        "$$\n",
        "e = Q \\cdot K \\\\\n",
        "\\alpha = softmax(e)\\\\\n",
        "attention(Q,K,V) =\\alpha \\cdot V = softmax(Q\\cdot K)\\cdot V \\\\\n",
        "attention(Q,K,V) = similarity(Q,K)\\cdot V\n",
        "$$\n",
        "The learnable component is the activation function $softmax$."
      ]
    },
    {
      "attachments": {},
      "cell_type": "markdown",
      "metadata": {},
      "source": [
        "## Training"
      ]
    },
    {
      "cell_type": "code",
      "execution_count": 125,
      "metadata": {},
      "outputs": [],
      "source": [
        "def train(encoder:Encoder_RNN,decoder:Decoder_RNN|Bahdanau_Decoder|Luong_Decoder,\n",
        "          dataset,optimzer,criterion):\n",
        "    encoder.train()\n",
        "    decoder.train()\n",
        "    loss_hist = []\n",
        "    \n",
        "    forward = lambda X,Y: one_pass(encoder,decoder,criterion,X,Y)\n",
        "    for X,Y in dataset:\n",
        "        loss = forward(X,Y)\n",
        "\n",
        "        # backward pass\n",
        "        optimzer.zero_grad()\n",
        "        loss.backward()\n",
        "        optimzer.step()\n",
        "        \n",
        "        # trace\n",
        "        loss_hist.append(loss.item())\n",
        "    return loss_hist\n",
        "\n",
        "def test(encoder:Encoder_RNN,decoder:Decoder_RNN|Bahdanau_Decoder,\n",
        "         dataset,criterion):\n",
        "    encoder.eval()\n",
        "    decoder.eval()\n",
        "    loss_hist = []\n",
        "    with torch.no_grad():\n",
        "        forward = lambda X,Y: one_pass(encoder,decoder,criterion,X,Y)\n",
        "        for X,Y in dataset:\n",
        "            loss = forward(X,Y)\n",
        "\n",
        "            loss_hist.append(loss.item())\n",
        "    return loss_hist"
      ]
    },
    {
      "cell_type": "code",
      "execution_count": 127,
      "metadata": {},
      "outputs": [],
      "source": [
        "def plot_loss(train_hist,test_hist):\n",
        "    plt.title(f'epoch - {len(train_hist)}')\n",
        "    plt.plot(train_hist,label='train')\n",
        "    plt.plot(test_hist,label='test')\n",
        "    plt.legend()\n",
        "    plt.show()"
      ]
    },
    {
      "cell_type": "code",
      "execution_count": 168,
      "metadata": {},
      "outputs": [
        {
          "name": "stdout",
          "output_type": "stream",
          "text": [
            "3474510\n",
            "3692238\n",
            "3424926\n"
          ]
        }
      ],
      "source": [
        "def fn():\n",
        "    hidden_size = 216\n",
        "    encoder = Encoder_RNN(input_lang.n_words, hidden_size,1)\n",
        "    decoder = Bahdanau_Decoder(hidden_size, output_lang.n_words,1)\n",
        "    p = sum([p.numel() for p in encoder.parameters()]) + sum([p.numel() for p in decoder.parameters()])\n",
        "    print(p)\n",
        "\n",
        "    hidden_size = 216\n",
        "    decoder = Luong_Decoder(hidden_size, output_lang.n_words,\"dot\",1)\n",
        "    p = sum([p.numel() for p in encoder.parameters()]) + sum([p.numel() for p in decoder.parameters()])\n",
        "    print(p)\n",
        "\n",
        "    hidden_size = 216 + 16\n",
        "    encoder = Encoder_RNN(input_lang.n_words, hidden_size,1)\n",
        "    decoder = Decoder_RNN(hidden_size, output_lang.n_words,1)\n",
        "    p = sum([p.numel() for p in encoder.parameters()]) + sum([p.numel() for p in decoder.parameters()])\n",
        "    print(p)\n",
        "fn()"
      ]
    },
    {
      "cell_type": "code",
      "execution_count": 138,
      "metadata": {},
      "outputs": [],
      "source": [
        "def init(enc_ctor,dec_ctor,model_checkpoint_pth):\n",
        "    max_lr = 0.1\n",
        "    encoder = enc_ctor().to(device)\n",
        "    decoder = dec_ctor().to(device)\n",
        "    optimizer = optim.SGD(list(encoder.parameters()) + list(decoder.parameters()), lr=max_lr)\n",
        "    init_checkpoint = {\n",
        "        'device'            : device,\n",
        "        'max_lr'            : max_lr,\n",
        "        'encoder kwargs'    : encoder.ctor_kwargs,\n",
        "        'decoder kwargs'    : decoder.ctor_kwargs,\n",
        "        'encoder'           : encoder.state_dict(), # big\n",
        "        'decoder'           : decoder.state_dict(), # big\n",
        "        'optimzer'          : optimizer.state_dict(),\n",
        "        'train_loss_hist'   : [],\n",
        "        'test_loss_hist'    : [],\n",
        "    }\n",
        "    torch.save(init_checkpoint,model_checkpoint_pth)\n",
        "\n",
        "def load(enc_ctor,dec_ctor,model_checkpoint_pth):\n",
        "    checkpoint = torch.load(model_checkpoint_pth,map_location=device)\n",
        "    \n",
        "    encoder = enc_ctor(**checkpoint['encoder kwargs']).to(device)\n",
        "    decoder = dec_ctor(**checkpoint['decoder kwargs']).to(device)\n",
        "    \n",
        "    encoder.load_state_dict(checkpoint['encoder'])\n",
        "    decoder.load_state_dict(checkpoint['decoder'])\n",
        "    \n",
        "    optimizer = optim.SGD(list(encoder.parameters()) + list(decoder.parameters()), lr=checkpoint['max_lr'])\n",
        "    optimizer.load_state_dict(checkpoint['optimzer'])\n",
        "    \n",
        "    \n",
        "    return encoder,decoder,optimizer,checkpoint['train_loss_hist'],checkpoint['test_loss_hist']\n",
        "\n",
        "def save_checkpoint(encoder,decoder,optimizer,\n",
        "                    train_loss_hist,test_loss_hist,\n",
        "                    model_checkpoint_pth):\n",
        "    checkpoint = torch.load(model_checkpoint_pth,map_location=device)\n",
        "    new_checkpoint_values = {\n",
        "        'encoder'           : encoder.state_dict(),\n",
        "        'decoder'           : decoder.state_dict(),\n",
        "        'optimizer'         : optimizer.state_dict(),\n",
        "        'train_loss_hist'   : train_loss_hist,\n",
        "        'test_loss_hist'    : test_loss_hist,\n",
        "    }\n",
        "    for k,v in new_checkpoint_values.items():\n",
        "        checkpoint[k] = v\n",
        "    torch.save(checkpoint,model_checkpoint_pth)"
      ]
    },
    {
      "cell_type": "code",
      "execution_count": 178,
      "metadata": {},
      "outputs": [],
      "source": [
        "criterion = nn.CrossEntropyLoss()\n",
        "train_size = sum(len(dataset.dataset) for dataset in train_datasets)\n",
        "test_size = sum(len(dataset.dataset) for dataset in test_datasets)\n",
        "model_checkpoint_pth = 'model_checkpoint/seq2seq_RNN_bahdanau_small.pth'\n",
        "# model_checkpoint_pth = 'model_checkpoint/seq2seq_RNN_luong_small.pth'\n",
        "hidden_size = 216\n",
        "enc_ctor = lambda: Encoder_RNN(input_lang.n_words, hidden_size,1)\n",
        "# dec_ctor = lambda: Luong_Decoder(hidden_size, output_lang.n_words,\"dot\",1)\n",
        "dec_ctor = lambda: Bahdanau_Decoder(hidden_size,output_lang.n_words,1)\n",
        "# init(enc_ctor,dec_ctor,model_checkpoint_pth)\n",
        "encoder,decoder,optimizer,train_loss_hist,test_loss_hist = load(Encoder_RNN,Bahdanau_Decoder,model_checkpoint_pth)"
      ]
    },
    {
      "cell_type": "code",
      "execution_count": 180,
      "metadata": {
        "collapsed": false
      },
      "outputs": [
        {
          "data": {
            "image/png": "[encoded data removed]",
            "text/plain": [
              "<Figure size 640x480 with 1 Axes>"
            ]
          },
          "metadata": {},
          "output_type": "display_data"
        }
      ],
      "source": [
        "def train_iter(n = 10):    \n",
        "    for i in range(n):\n",
        "        train_loss = 0\n",
        "        test_loss = 0\n",
        "        for train_dataset,test_dataset in zip(train_datasets,test_datasets):\n",
        "            train_losses = train(encoder,decoder,train_dataset,\n",
        "                optimizer,criterion)\n",
        "            test_losses = test(encoder,decoder,test_dataset,criterion)\n",
        "            train_loss += sum(train_losses)\n",
        "            test_loss += sum(test_losses)\n",
        "        # don't forget to normalize the sum loss\n",
        "        train_loss_hist.append(train_loss/train_size)\n",
        "        test_loss_hist.append(test_loss/test_size)\n",
        "        clear_output()\n",
        "        plot_loss(train_loss_hist,test_loss_hist)\n",
        "    save_checkpoint(encoder,decoder,optimizer,train_loss_hist,test_loss_hist,model_checkpoint_pth)\n",
        "train_iter(n = 10)"
      ]
    },
    {
      "cell_type": "code",
      "execution_count": 181,
      "metadata": {},
      "outputs": [
        {
          "name": "stderr",
          "output_type": "stream",
          "text": [
            "C:\\Users\\Leong Teng Man\\AppData\\Local\\Temp\\ipykernel_16020\\1955556190.py:19: UserWarning: Matplotlib is currently using module://matplotlib_inline.backend_inline, which is a non-GUI backend, so cannot show the figure.\n",
            "  fig.show()\n"
          ]
        },
        {
          "data": {
            "image/png": "[encoded data removed]",
            "text/plain": [
              "<Figure size 640x480 with 1 Axes>"
            ]
          },
          "metadata": {},
          "output_type": "display_data"
        }
      ],
      "source": [
        "def fn():\n",
        "    def helper(train_loss_hist,test_loss_hist,ax=plt,linestyle=None,name = \"\"):\n",
        "        ax.plot(train_loss_hist,label=name + ' train',linestyle=linestyle)\n",
        "        ax.plot(test_loss_hist,label=name + ' test',linestyle=linestyle)\n",
        "    \n",
        "    fig,ax = plt.subplots(1,1)\n",
        "    \n",
        "    *_,train_loss_hist,test_loss_hist = load(Encoder_RNN,Decoder_RNN,'model_checkpoint/seq2seq_RNN_small.pth')\n",
        "    helper(train_loss_hist,test_loss_hist,ax,linestyle = None,name=\"base\")\n",
        "    \n",
        "    *_,train_loss_hist,test_loss_hist = load(Encoder_RNN,Luong_Decoder,'model_checkpoint/seq2seq_RNN_luong_small.pth')\n",
        "    helper(train_loss_hist,test_loss_hist,ax,linestyle=':',name = \"Luong\")\n",
        "    \n",
        "    *_,train_loss_hist,test_loss_hist = load(Encoder_RNN,Bahdanau_Decoder,'model_checkpoint/seq2seq_RNN_bahdanau_small.pth')\n",
        "    helper(train_loss_hist,test_loss_hist,ax,linestyle='--',name=\"Bahdanau\")\n",
        "    \n",
        "    ax.set_title(\"historical loss\")\n",
        "    ax.legend()\n",
        "    fig.show()\n",
        "fn()"
      ]
    },
    {
      "cell_type": "code",
      "execution_count": 144,
      "metadata": {},
      "outputs": [],
      "source": [
        "def predict(seq,encoder:Encoder_RNN,decoder:Decoder_RNN,MAX_LEN = 10):\n",
        "    encoder.eval()\n",
        "    decoder.eval()\n",
        "    seq = seq.to(device).reshape(1,-1)\n",
        "    Y,attentions = [],[]\n",
        "    \n",
        "    with torch.no_grad():\n",
        "        encoder_outputs,encoder_hidden = encoder(seq,encoder.init_hidden().to(device))\n",
        "        decoder_hidden = encoder_hidden\n",
        "        cur_tkn = torch.tensor([[SOS_token]],device=device)\n",
        "        \n",
        "        while cur_tkn.item() != EOS_token and len(Y) < MAX_LEN:\n",
        "            decoder_output, decoder_hidden,*attn = decoder(cur_tkn,decoder_hidden,encoder_outputs)\n",
        "            \n",
        "            if len(attn) != 0:\n",
        "                attentions.append(attn[0])\n",
        "                \n",
        "            cur_tkn[0] = decoder_output.squeeze().argmax()\n",
        "            Y.append(cur_tkn.item())\n",
        "        \n",
        "        if len(attentions) != 0:\n",
        "            attentions = torch.cat(attentions)   \n",
        "           \n",
        "    return Y,attentions"
      ]
    },
    {
      "cell_type": "code",
      "execution_count": 145,
      "metadata": {},
      "outputs": [],
      "source": [
        "def visualize_attention(attn,input_sent,out_sent):\n",
        "    fig,ax = plt.subplots(1,1,figsize=(10,10))\n",
        "    ax.imshow(attn,cmap='gray')\n",
        "    range_len = lambda s: range(len(s))\n",
        "    ax.set_yticks(range_len(out_sent))\n",
        "    ax.set_xticks(range_len(input_sent))\n",
        "    ax.set_yticklabels(output_lang.index2words(out_sent))\n",
        "    ax.set_xticklabels(input_lang.index2words(input_sent))\n",
        "    fig.show()"
      ]
    },
    {
      "cell_type": "code",
      "execution_count": 146,
      "metadata": {},
      "outputs": [],
      "source": [
        "def random_pair(datasets):\n",
        "    dataset = random.choice(datasets)\n",
        "    input_sents,targets = next(iter(dataset))\n",
        "    idx = random.choice(range(len(input_sents)))\n",
        "    input_sent,target = input_sents[idx],targets[idx]\n",
        "    return input_sent,target"
      ]
    },
    {
      "cell_type": "code",
      "execution_count": 167,
      "metadata": {},
      "outputs": [
        {
          "name": "stdout",
          "output_type": "stream",
          "text": [
            "input : je ne suis pas sur de quand il va faire surface .\n",
            "output : i m not sure when he ll turn up .\n",
            "translate : i m not sure if it to do this problem . <EOS>\n",
            "--------------------------------------------------\n",
            "====================================================================================================\n"
          ]
        },
        {
          "name": "stderr",
          "output_type": "stream",
          "text": [
            "C:\\Users\\Leong Teng Man\\AppData\\Local\\Temp\\ipykernel_16020\\3415027784.py:9: UserWarning: Matplotlib is currently using module://matplotlib_inline.backend_inline, which is a non-GUI backend, so cannot show the figure.\n",
            "  fig.show()\n"
          ]
        },
        {
          "data": {
            "image/png": "[encoded data removed]",
            "text/plain": [
              "<Figure size 1000x1000 with 1 Axes>"
            ]
          },
          "metadata": {},
          "output_type": "display_data"
        }
      ],
      "source": [
        "def fn(datasets, load_fn, n = 3):\n",
        "    encoder,decoder,*_ = load_fn()\n",
        "    for _ in range(n):\n",
        "        input_sent,target = random_pair(datasets)\n",
        "        out_sent,attentions = predict(input_sent,encoder,decoder,MAX_LEN = 100)\n",
        "\n",
        "        \n",
        "        numpy_from = lambda t: t.cpu().detach().numpy() if isinstance(t,torch.Tensor) else t\n",
        "        input_sent = numpy_from(input_sent)\n",
        "        target = numpy_from(target)\n",
        "        out_sent = numpy_from(out_sent)\n",
        "        attentions = numpy_from(attentions)\n",
        "        print(\"input :\", input_lang.index2sent(input_sent))\n",
        "        print(\"output :\",output_lang.index2sent(target))\n",
        "        print(\"translate :\" ,output_lang.index2sent(out_sent))\n",
        "        if len(attentions) != 0:\n",
        "            visualize_attention(attentions,input_sent,out_sent)\n",
        "        print('-'*50)\n",
        "\n",
        "    print('='*100)\n",
        "\n",
        "# load_f = lambda: load(Encoder_RNN,Decoder_RNN,\"model_checkpoint/seq2seq_RNN_small.pth\")\n",
        "# fn(test_datasets,load_f,n=1)\n",
        "# load_f = lambda: load(Encoder_RNN,Bahdanau_Decoder,\"model_checkpoint/seq2seq_RNN_bahdanau_small.pth\")\n",
        "# fn(test_datasets,load_f,n=1)\n",
        "load_f = lambda: load(Encoder_RNN,Luong_Decoder,\"model_checkpoint/seq2seq_RNN_luong_small.pth\")\n",
        "fn(test_datasets,load_f,n=1)"
      ]
    }
  ],
  "metadata": {
    "kernelspec": {
      "display_name": "Python 3",
      "language": "python",
      "name": "python3"
    },
    "language_info": {
      "codemirror_mode": {
        "name": "ipython",
        "version": 3
      },
      "file_extension": ".py",
      "mimetype": "text/x-python",
      "name": "python",
      "nbconvert_exporter": "python",
      "pygments_lexer": "ipython3",
      "version": "3.10.11"
    }
  },
  "nbformat": 4,
  "nbformat_minor": 0
}
