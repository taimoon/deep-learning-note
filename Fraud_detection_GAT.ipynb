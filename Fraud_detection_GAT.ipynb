{
  "cells": [
    {
      "attachments": {},
      "cell_type": "markdown",
      "metadata": {
        "id": "zLMuhq4yRJzr"
      },
      "source": [
        "# Tutorial: Fraud detection with Graph Attention Networks \n",
        "By Sing Kwan NG and Anthony TAING as part of the Stanford CS224W course project.\n",
        "In this tutorial we will show you the fraud detection use case (for a node classification task) on Bitcoin dataset  by using the first version of GAT model and the GATv2 (Graph Attention Network model version2) .We will implement it by using our customs layers with PyG and the buitin PyG layers. "
      ]
    },
    {
      "attachments": {},
      "cell_type": "markdown",
      "metadata": {
        "id": "lWTFyFVZw1kO"
      },
      "source": [
        "# Setup\n"
      ]
    },
    {
      "attachments": {},
      "cell_type": "markdown",
      "metadata": {
        "id": "PwavR0-w3ZCf"
      },
      "source": [
        "## Mount Drive"
      ]
    },
    {
      "cell_type": "code",
      "execution_count": 1,
      "metadata": {
        "colab": {
          "base_uri": "https://localhost:8080/"
        },
        "id": "L4DDt8x8Oba4",
        "outputId": "16056b39-8802-4722-bf20-bb468e52e791"
      },
      "outputs": [],
      "source": [
        "# for auto-reloading external modules\n",
        "%load_ext autoreload\n",
        "%autoreload 2"
      ]
    },
    {
      "cell_type": "code",
      "execution_count": 2,
      "metadata": {
        "colab": {
          "base_uri": "https://localhost:8080/"
        },
        "id": "9kjO_pOMKCSo",
        "outputId": "a153e42a-9b55-416f-919b-92744fb61ae3"
      },
      "outputs": [],
      "source": [
        "import os\n",
        "\n",
        "def unzip(location,**kwargs):\n",
        "    import zipfile\n",
        "    with zipfile.ZipFile(location,\"r\") as zip_ref:\n",
        "        zip_ref.extractall(**kwargs)\n",
        "\n",
        "def unzip_data(location):\n",
        "    if not os.path.exists('data'):\n",
        "        os.mkdir('data')\n",
        "    unzip(location,path='data')\n",
        "\n",
        "def is_colab():\n",
        "    import sys\n",
        "    return 'google.colab' in sys.modules\n",
        "\n",
        "FOLDERNAME = \"/content/\" if is_colab() else \"\"\n",
        "\n",
        "def init():\n",
        "    if is_colab():\n",
        "        repo_name = 'deep-learning-note'\n",
        "        if repo_name not in os.listdir():\n",
        "            !git clone https://github.com/taimoon/deep-learning-note\n",
        "        from google.colab import drive\n",
        "        drive.mount('/content/drive')\n",
        "        unzip('/content/drive/MyDrive/data science project/save_results.zip')\n",
        "        %pip install torch_geometric\n",
        "        torch_cuda_arg = r'https://data.pyg.org/whl/torch-2.0.0+cu118.html'\n",
        "        %pip install pyg_lib torch_scatter torch_sparse torch_cluster torch_spline_conv -f {torch_cuda_arg}\n",
        "        drive_path = '/content/drive/MyDrive/data science project'\n",
        "        unzip_data(drive_path + '/elliptic.zip')\n",
        "\n",
        "# %pip install torch_geometric pyg_lib torch_scatter torch_sparse torch_cluster torch_spline_conv -f https://data.pyg.org/whl/torch-2.0.0+cu118.html\n",
        "init()\n",
        "DATA_PATH = 'data/elliptic_bitcoin_dataset/'"
      ]
    },
    {
      "attachments": {},
      "cell_type": "markdown",
      "metadata": {
        "id": "Q_j02Aba5eNG"
      },
      "source": [
        "## Load packages"
      ]
    },
    {
      "cell_type": "code",
      "execution_count": 3,
      "metadata": {
        "id": "57DpXDnG1s3Y"
      },
      "outputs": [],
      "source": [
        "import numpy as np\n",
        "import pandas as pd\n",
        "import torch\n",
        "import matplotlib.pyplot as plt\n",
        "\n",
        "from torch.nn import Linear, LayerNorm, ReLU, Dropout\n",
        "import torch.nn.functional as F\n",
        "from torch_geometric.data import Data, DataLoader\n",
        "from sklearn.metrics import accuracy_score,f1_score,roc_auc_score, precision_score, recall_score, confusion_matrix\n",
        "\n",
        "import scipy.sparse as sp\n",
        "\n",
        "import warnings\n",
        "warnings.filterwarnings(\"ignore\")\n",
        "import pandas as pd\n",
        "from sklearn.model_selection import train_test_split\n",
        "\n",
        "import torch.nn.functional as F\n",
        "from sklearn.metrics import roc_auc_score\n",
        "from torch_geometric.nn import GCNConv,GATConv,GATv2Conv\n"
      ]
    },
    {
      "attachments": {},
      "cell_type": "markdown",
      "metadata": {
        "id": "JG_52jrERTM_"
      },
      "source": [
        "# Data ETL"
      ]
    },
    {
      "attachments": {},
      "cell_type": "markdown",
      "metadata": {
        "id": "jniLGaFGRyx7"
      },
      "source": [
        "We have hosted the dataset on Gdrive to the public for convenience for one click download. However, the original data is hosted on kaggle as well. If you want to download data from Kaggle using API(if you already have an account) or get it manually from: https://www.kaggle.com/ellipticco/elliptic-data-set."
      ]
    },
    {
      "cell_type": "code",
      "execution_count": 4,
      "metadata": {
        "id": "7oLt6VonR28x"
      },
      "outputs": [],
      "source": [
        "Download=False\n",
        "if Download:\n",
        "    !gdown --id 1CIFpAquzYBA98gQCdMb92fC0w6yrYf2m\n",
        "    !gdown --id 1Cfh0VIXWTc8EK96WRZdyaqgA2-JwvsUG\n",
        "    !gdown --id 1Cfh8hA9Tl8uCPrLSmcIQI3qCbEjOFl7C\n",
        "    DATA_PATH = FOLDERNAME"
      ]
    },
    {
      "attachments": {},
      "cell_type": "markdown",
      "metadata": {
        "id": "KIomF3GmwLDv"
      },
      "source": [
        "## Load data"
      ]
    },
    {
      "cell_type": "code",
      "execution_count": 5,
      "metadata": {
        "id": "Z_FW_uxL2Dag"
      },
      "outputs": [],
      "source": [
        "# Load data from the folder\n",
        "df_features = pd.read_csv(DATA_PATH+'elliptic_txs_features.csv',header=None)\n",
        "df_edges = pd.read_csv(DATA_PATH+\"elliptic_txs_edgelist.csv\")\n",
        "df_classes =  pd.read_csv(DATA_PATH+\"elliptic_txs_classes.csv\")"
      ]
    },
    {
      "cell_type": "code",
      "execution_count": 6,
      "metadata": {},
      "outputs": [],
      "source": [
        "contain_null = lambda df : df.isnull().any().any()\n",
        "assert(not contain_null(df_features))\n",
        "assert(not contain_null(df_edges))\n",
        "assert(not contain_null(df_classes))"
      ]
    },
    {
      "cell_type": "code",
      "execution_count": 7,
      "metadata": {
        "id": "DNoIdIrQ6BGU"
      },
      "outputs": [],
      "source": [
        "# Add class names for easy understanding\n",
        "# reformat classes 0:licit, 1:illicit, 2:unknow \n",
        "df_classes['class'] = df_classes['class'].map({'unknown': 2, '1':1, '2':0}) "
      ]
    },
    {
      "cell_type": "code",
      "execution_count": 8,
      "metadata": {
        "colab": {
          "base_uri": "https://localhost:8080/",
          "height": 469
        },
        "id": "AUHm-fiwgmM1",
        "outputId": "149a0d4f-3c6f-4bcd-93ca-f3f2600c375b"
      },
      "outputs": [
        {
          "data": {
            "text/plain": [
              "<BarContainer object of 3 artists>"
            ]
          },
          "execution_count": 8,
          "metadata": {},
          "output_type": "execute_result"
        },
        {
          "data": {
            "image/png": "[encoded data removed]",
            "text/plain": [
              "<Figure size 640x480 with 1 Axes>"
            ]
          },
          "metadata": {},
          "output_type": "display_data"
        }
      ],
      "source": [
        "# See repartition of nodes per class\n",
        "group_class = df_classes.groupby('class').count()\n",
        "plt.title(\"# of nodes per class\")\n",
        "idx_to_class = ['Licit','Illicit','Unknown']\n",
        "plt.barh(idx_to_class, group_class['txId'].values, color=['g', 'orange', 'r'] )"
      ]
    },
    {
      "attachments": {},
      "cell_type": "markdown",
      "metadata": {
        "id": "gN2WP_zbSnCY"
      },
      "source": [
        "## Preview of data features, edges and their labels"
      ]
    },
    {
      "cell_type": "code",
      "execution_count": 9,
      "metadata": {
        "colab": {
          "base_uri": "https://localhost:8080/",
          "height": 299
        },
        "id": "r2mZecSGSmc_",
        "outputId": "943bbf77-08ad-4241-e4a0-1dfe84a2cc7c"
      },
      "outputs": [
        {
          "data": {
            "text/html": [
              "<div>\n",
              "<style scoped>\n",
              "    .dataframe tbody tr th:only-of-type {\n",
              "        vertical-align: middle;\n",
              "    }\n",
              "\n",
              "    .dataframe tbody tr th {\n",
              "        vertical-align: top;\n",
              "    }\n",
              "\n",
              "    .dataframe thead th {\n",
              "        text-align: right;\n",
              "    }\n",
              "</style>\n",
              "<table border=\"1\" class=\"dataframe\">\n",
              "  <thead>\n",
              "    <tr style=\"text-align: right;\">\n",
              "      <th></th>\n",
              "      <th>0</th>\n",
              "      <th>1</th>\n",
              "      <th>2</th>\n",
              "      <th>3</th>\n",
              "      <th>4</th>\n",
              "      <th>5</th>\n",
              "      <th>6</th>\n",
              "      <th>7</th>\n",
              "      <th>8</th>\n",
              "      <th>9</th>\n",
              "      <th>...</th>\n",
              "      <th>157</th>\n",
              "      <th>158</th>\n",
              "      <th>159</th>\n",
              "      <th>160</th>\n",
              "      <th>161</th>\n",
              "      <th>162</th>\n",
              "      <th>163</th>\n",
              "      <th>164</th>\n",
              "      <th>165</th>\n",
              "      <th>166</th>\n",
              "    </tr>\n",
              "  </thead>\n",
              "  <tbody>\n",
              "    <tr>\n",
              "      <th>0</th>\n",
              "      <td>230425980</td>\n",
              "      <td>1</td>\n",
              "      <td>-0.171469</td>\n",
              "      <td>-0.184668</td>\n",
              "      <td>-1.201369</td>\n",
              "      <td>-0.121970</td>\n",
              "      <td>-0.043875</td>\n",
              "      <td>-0.113002</td>\n",
              "      <td>-0.061584</td>\n",
              "      <td>-0.162097</td>\n",
              "      <td>...</td>\n",
              "      <td>-0.562153</td>\n",
              "      <td>-0.600999</td>\n",
              "      <td>1.461330</td>\n",
              "      <td>1.461369</td>\n",
              "      <td>0.018279</td>\n",
              "      <td>-0.087490</td>\n",
              "      <td>-0.131155</td>\n",
              "      <td>-0.097524</td>\n",
              "      <td>-0.120613</td>\n",
              "      <td>-0.119792</td>\n",
              "    </tr>\n",
              "    <tr>\n",
              "      <th>1</th>\n",
              "      <td>5530458</td>\n",
              "      <td>1</td>\n",
              "      <td>-0.171484</td>\n",
              "      <td>-0.184668</td>\n",
              "      <td>-1.201369</td>\n",
              "      <td>-0.121970</td>\n",
              "      <td>-0.043875</td>\n",
              "      <td>-0.113002</td>\n",
              "      <td>-0.061584</td>\n",
              "      <td>-0.162112</td>\n",
              "      <td>...</td>\n",
              "      <td>0.947382</td>\n",
              "      <td>0.673103</td>\n",
              "      <td>-0.979074</td>\n",
              "      <td>-0.978556</td>\n",
              "      <td>0.018279</td>\n",
              "      <td>-0.087490</td>\n",
              "      <td>-0.131155</td>\n",
              "      <td>-0.097524</td>\n",
              "      <td>-0.120613</td>\n",
              "      <td>-0.119792</td>\n",
              "    </tr>\n",
              "    <tr>\n",
              "      <th>2</th>\n",
              "      <td>232022460</td>\n",
              "      <td>1</td>\n",
              "      <td>-0.172107</td>\n",
              "      <td>-0.184668</td>\n",
              "      <td>-1.201369</td>\n",
              "      <td>-0.121970</td>\n",
              "      <td>-0.043875</td>\n",
              "      <td>-0.113002</td>\n",
              "      <td>-0.061584</td>\n",
              "      <td>-0.162749</td>\n",
              "      <td>...</td>\n",
              "      <td>0.670883</td>\n",
              "      <td>0.439728</td>\n",
              "      <td>-0.979074</td>\n",
              "      <td>-0.978556</td>\n",
              "      <td>-0.098889</td>\n",
              "      <td>-0.106715</td>\n",
              "      <td>-0.131155</td>\n",
              "      <td>-0.183671</td>\n",
              "      <td>-0.120613</td>\n",
              "      <td>-0.119792</td>\n",
              "    </tr>\n",
              "    <tr>\n",
              "      <th>3</th>\n",
              "      <td>232438397</td>\n",
              "      <td>1</td>\n",
              "      <td>0.163054</td>\n",
              "      <td>1.963790</td>\n",
              "      <td>-0.646376</td>\n",
              "      <td>12.409294</td>\n",
              "      <td>-0.063725</td>\n",
              "      <td>9.782742</td>\n",
              "      <td>12.414558</td>\n",
              "      <td>-0.163645</td>\n",
              "      <td>...</td>\n",
              "      <td>-0.577099</td>\n",
              "      <td>-0.613614</td>\n",
              "      <td>0.241128</td>\n",
              "      <td>0.241406</td>\n",
              "      <td>1.072793</td>\n",
              "      <td>0.085530</td>\n",
              "      <td>-0.131155</td>\n",
              "      <td>0.677799</td>\n",
              "      <td>-0.120613</td>\n",
              "      <td>-0.119792</td>\n",
              "    </tr>\n",
              "    <tr>\n",
              "      <th>4</th>\n",
              "      <td>230460314</td>\n",
              "      <td>1</td>\n",
              "      <td>1.011523</td>\n",
              "      <td>-0.081127</td>\n",
              "      <td>-1.201369</td>\n",
              "      <td>1.153668</td>\n",
              "      <td>0.333276</td>\n",
              "      <td>1.312656</td>\n",
              "      <td>-0.061584</td>\n",
              "      <td>-0.163523</td>\n",
              "      <td>...</td>\n",
              "      <td>-0.511871</td>\n",
              "      <td>-0.400422</td>\n",
              "      <td>0.517257</td>\n",
              "      <td>0.579382</td>\n",
              "      <td>0.018279</td>\n",
              "      <td>0.277775</td>\n",
              "      <td>0.326394</td>\n",
              "      <td>1.293750</td>\n",
              "      <td>0.178136</td>\n",
              "      <td>0.179117</td>\n",
              "    </tr>\n",
              "  </tbody>\n",
              "</table>\n",
              "<p>5 rows × 167 columns</p>\n",
              "</div>"
            ],
            "text/plain": [
              "         0    1         2         3         4          5         6     \n",
              "0  230425980    1 -0.171469 -0.184668 -1.201369  -0.121970 -0.043875  \\\n",
              "1    5530458    1 -0.171484 -0.184668 -1.201369  -0.121970 -0.043875   \n",
              "2  232022460    1 -0.172107 -0.184668 -1.201369  -0.121970 -0.043875   \n",
              "3  232438397    1  0.163054  1.963790 -0.646376  12.409294 -0.063725   \n",
              "4  230460314    1  1.011523 -0.081127 -1.201369   1.153668  0.333276   \n",
              "\n",
              "        7          8         9    ...       157       158       159       160   \n",
              "0 -0.113002  -0.061584 -0.162097  ... -0.562153 -0.600999  1.461330  1.461369  \\\n",
              "1 -0.113002  -0.061584 -0.162112  ...  0.947382  0.673103 -0.979074 -0.978556   \n",
              "2 -0.113002  -0.061584 -0.162749  ...  0.670883  0.439728 -0.979074 -0.978556   \n",
              "3  9.782742  12.414558 -0.163645  ... -0.577099 -0.613614  0.241128  0.241406   \n",
              "4  1.312656  -0.061584 -0.163523  ... -0.511871 -0.400422  0.517257  0.579382   \n",
              "\n",
              "        161       162       163       164       165       166  \n",
              "0  0.018279 -0.087490 -0.131155 -0.097524 -0.120613 -0.119792  \n",
              "1  0.018279 -0.087490 -0.131155 -0.097524 -0.120613 -0.119792  \n",
              "2 -0.098889 -0.106715 -0.131155 -0.183671 -0.120613 -0.119792  \n",
              "3  1.072793  0.085530 -0.131155  0.677799 -0.120613 -0.119792  \n",
              "4  0.018279  0.277775  0.326394  1.293750  0.178136  0.179117  \n",
              "\n",
              "[5 rows x 167 columns]"
            ]
          },
          "execution_count": 9,
          "metadata": {},
          "output_type": "execute_result"
        }
      ],
      "source": [
        "# View node features\n",
        "# Data is each node is a transaction ID, and edges are a bit weird, but its like a \"previous transaction\" edge type\n",
        "# colume 0 = transaction id\n",
        "df_features.head()"
      ]
    },
    {
      "cell_type": "code",
      "execution_count": 10,
      "metadata": {},
      "outputs": [
        {
          "data": {
            "text/plain": [
              "(166345, 234355)"
            ]
          },
          "execution_count": 10,
          "metadata": {},
          "output_type": "execute_result"
        }
      ],
      "source": [
        "df_edges['txId1'].nunique(), df_edges.shape"
      ]
    },
    {
      "cell_type": "code",
      "execution_count": 11,
      "metadata": {
        "colab": {
          "base_uri": "https://localhost:8080/",
          "height": 206
        },
        "id": "-f5ZR1oMSqE0",
        "outputId": "7eb7cf48-c4ce-4982-8367-acb927942d39"
      },
      "outputs": [
        {
          "data": {
            "text/html": [
              "<div>\n",
              "<style scoped>\n",
              "    .dataframe tbody tr th:only-of-type {\n",
              "        vertical-align: middle;\n",
              "    }\n",
              "\n",
              "    .dataframe tbody tr th {\n",
              "        vertical-align: top;\n",
              "    }\n",
              "\n",
              "    .dataframe thead th {\n",
              "        text-align: right;\n",
              "    }\n",
              "</style>\n",
              "<table border=\"1\" class=\"dataframe\">\n",
              "  <thead>\n",
              "    <tr style=\"text-align: right;\">\n",
              "      <th></th>\n",
              "      <th>txId1</th>\n",
              "      <th>txId2</th>\n",
              "    </tr>\n",
              "  </thead>\n",
              "  <tbody>\n",
              "    <tr>\n",
              "      <th>0</th>\n",
              "      <td>230425980</td>\n",
              "      <td>5530458</td>\n",
              "    </tr>\n",
              "    <tr>\n",
              "      <th>1</th>\n",
              "      <td>232022460</td>\n",
              "      <td>232438397</td>\n",
              "    </tr>\n",
              "    <tr>\n",
              "      <th>2</th>\n",
              "      <td>230460314</td>\n",
              "      <td>230459870</td>\n",
              "    </tr>\n",
              "    <tr>\n",
              "      <th>3</th>\n",
              "      <td>230333930</td>\n",
              "      <td>230595899</td>\n",
              "    </tr>\n",
              "    <tr>\n",
              "      <th>4</th>\n",
              "      <td>232013274</td>\n",
              "      <td>232029206</td>\n",
              "    </tr>\n",
              "  </tbody>\n",
              "</table>\n",
              "</div>"
            ],
            "text/plain": [
              "       txId1      txId2\n",
              "0  230425980    5530458\n",
              "1  232022460  232438397\n",
              "2  230460314  230459870\n",
              "3  230333930  230595899\n",
              "4  232013274  232029206"
            ]
          },
          "execution_count": 11,
          "metadata": {},
          "output_type": "execute_result"
        }
      ],
      "source": [
        "# See edges\n",
        "df_edges.head()"
      ]
    },
    {
      "cell_type": "code",
      "execution_count": 12,
      "metadata": {
        "colab": {
          "base_uri": "https://localhost:8080/",
          "height": 206
        },
        "id": "0js6IB3ySqRe",
        "outputId": "6ec85605-8c9c-478e-bfe5-e77349d76410"
      },
      "outputs": [
        {
          "data": {
            "text/html": [
              "<div>\n",
              "<style scoped>\n",
              "    .dataframe tbody tr th:only-of-type {\n",
              "        vertical-align: middle;\n",
              "    }\n",
              "\n",
              "    .dataframe tbody tr th {\n",
              "        vertical-align: top;\n",
              "    }\n",
              "\n",
              "    .dataframe thead th {\n",
              "        text-align: right;\n",
              "    }\n",
              "</style>\n",
              "<table border=\"1\" class=\"dataframe\">\n",
              "  <thead>\n",
              "    <tr style=\"text-align: right;\">\n",
              "      <th></th>\n",
              "      <th>txId</th>\n",
              "      <th>class</th>\n",
              "    </tr>\n",
              "  </thead>\n",
              "  <tbody>\n",
              "    <tr>\n",
              "      <th>0</th>\n",
              "      <td>230425980</td>\n",
              "      <td>2</td>\n",
              "    </tr>\n",
              "    <tr>\n",
              "      <th>1</th>\n",
              "      <td>5530458</td>\n",
              "      <td>2</td>\n",
              "    </tr>\n",
              "    <tr>\n",
              "      <th>2</th>\n",
              "      <td>232022460</td>\n",
              "      <td>2</td>\n",
              "    </tr>\n",
              "    <tr>\n",
              "      <th>3</th>\n",
              "      <td>232438397</td>\n",
              "      <td>0</td>\n",
              "    </tr>\n",
              "    <tr>\n",
              "      <th>4</th>\n",
              "      <td>230460314</td>\n",
              "      <td>2</td>\n",
              "    </tr>\n",
              "  </tbody>\n",
              "</table>\n",
              "</div>"
            ],
            "text/plain": [
              "        txId  class\n",
              "0  230425980      2\n",
              "1    5530458      2\n",
              "2  232022460      2\n",
              "3  232438397      0\n",
              "4  230460314      2"
            ]
          },
          "execution_count": 12,
          "metadata": {},
          "output_type": "execute_result"
        }
      ],
      "source": [
        "# See classes\n",
        "df_classes.head()"
      ]
    },
    {
      "attachments": {},
      "cell_type": "markdown",
      "metadata": {
        "id": "dC7sVwUoRX3g"
      },
      "source": [
        "## Merge dataset"
      ]
    },
    {
      "cell_type": "code",
      "execution_count": 13,
      "metadata": {
        "colab": {
          "base_uri": "https://localhost:8080/",
          "height": 299
        },
        "id": "iBYoyWM32JFQ",
        "outputId": "bfe3ce2c-0e54-485e-8909-04e89182d960"
      },
      "outputs": [
        {
          "data": {
            "text/html": [
              "<div>\n",
              "<style scoped>\n",
              "    .dataframe tbody tr th:only-of-type {\n",
              "        vertical-align: middle;\n",
              "    }\n",
              "\n",
              "    .dataframe tbody tr th {\n",
              "        vertical-align: top;\n",
              "    }\n",
              "\n",
              "    .dataframe thead th {\n",
              "        text-align: right;\n",
              "    }\n",
              "</style>\n",
              "<table border=\"1\" class=\"dataframe\">\n",
              "  <thead>\n",
              "    <tr style=\"text-align: right;\">\n",
              "      <th></th>\n",
              "      <th>0</th>\n",
              "      <th>1</th>\n",
              "      <th>2</th>\n",
              "      <th>3</th>\n",
              "      <th>4</th>\n",
              "      <th>5</th>\n",
              "      <th>6</th>\n",
              "      <th>7</th>\n",
              "      <th>8</th>\n",
              "      <th>9</th>\n",
              "      <th>...</th>\n",
              "      <th>159</th>\n",
              "      <th>160</th>\n",
              "      <th>161</th>\n",
              "      <th>162</th>\n",
              "      <th>163</th>\n",
              "      <th>164</th>\n",
              "      <th>165</th>\n",
              "      <th>166</th>\n",
              "      <th>txId</th>\n",
              "      <th>class</th>\n",
              "    </tr>\n",
              "  </thead>\n",
              "  <tbody>\n",
              "    <tr>\n",
              "      <th>0</th>\n",
              "      <td>1076</td>\n",
              "      <td>48</td>\n",
              "      <td>-0.168500</td>\n",
              "      <td>0.270909</td>\n",
              "      <td>-0.091383</td>\n",
              "      <td>-0.046932</td>\n",
              "      <td>-0.043875</td>\n",
              "      <td>-0.029140</td>\n",
              "      <td>-0.061584</td>\n",
              "      <td>-0.163591</td>\n",
              "      <td>...</td>\n",
              "      <td>1.461330</td>\n",
              "      <td>1.461369</td>\n",
              "      <td>0.018279</td>\n",
              "      <td>0.470019</td>\n",
              "      <td>1.216796</td>\n",
              "      <td>1.151607</td>\n",
              "      <td>1.519700</td>\n",
              "      <td>1.521399</td>\n",
              "      <td>1076</td>\n",
              "      <td>2</td>\n",
              "    </tr>\n",
              "    <tr>\n",
              "      <th>1</th>\n",
              "      <td>2534</td>\n",
              "      <td>6</td>\n",
              "      <td>-0.170834</td>\n",
              "      <td>-0.131425</td>\n",
              "      <td>1.018602</td>\n",
              "      <td>0.028105</td>\n",
              "      <td>0.055376</td>\n",
              "      <td>0.054722</td>\n",
              "      <td>-0.061584</td>\n",
              "      <td>-0.163572</td>\n",
              "      <td>...</td>\n",
              "      <td>0.955101</td>\n",
              "      <td>0.459257</td>\n",
              "      <td>-0.098889</td>\n",
              "      <td>-0.087490</td>\n",
              "      <td>-0.099080</td>\n",
              "      <td>-0.122137</td>\n",
              "      <td>-0.379970</td>\n",
              "      <td>-0.379288</td>\n",
              "      <td>2534</td>\n",
              "      <td>0</td>\n",
              "    </tr>\n",
              "    <tr>\n",
              "      <th>2</th>\n",
              "      <td>3181</td>\n",
              "      <td>34</td>\n",
              "      <td>1.305212</td>\n",
              "      <td>-0.210553</td>\n",
              "      <td>-1.756361</td>\n",
              "      <td>-0.121970</td>\n",
              "      <td>97.300650</td>\n",
              "      <td>-0.113002</td>\n",
              "      <td>-0.061584</td>\n",
              "      <td>1.348765</td>\n",
              "      <td>...</td>\n",
              "      <td>0.059948</td>\n",
              "      <td>0.113967</td>\n",
              "      <td>-0.098889</td>\n",
              "      <td>1.969527</td>\n",
              "      <td>0.037532</td>\n",
              "      <td>-0.131010</td>\n",
              "      <td>0.006994</td>\n",
              "      <td>0.017772</td>\n",
              "      <td>3181</td>\n",
              "      <td>0</td>\n",
              "    </tr>\n",
              "    <tr>\n",
              "      <th>3</th>\n",
              "      <td>3321</td>\n",
              "      <td>1</td>\n",
              "      <td>-0.169615</td>\n",
              "      <td>-0.184668</td>\n",
              "      <td>-1.201369</td>\n",
              "      <td>-0.121970</td>\n",
              "      <td>-0.043875</td>\n",
              "      <td>-0.113002</td>\n",
              "      <td>-0.061584</td>\n",
              "      <td>-0.160199</td>\n",
              "      <td>...</td>\n",
              "      <td>0.241128</td>\n",
              "      <td>0.241406</td>\n",
              "      <td>-0.098889</td>\n",
              "      <td>-0.087490</td>\n",
              "      <td>-0.084674</td>\n",
              "      <td>-0.140597</td>\n",
              "      <td>1.519700</td>\n",
              "      <td>1.521399</td>\n",
              "      <td>3321</td>\n",
              "      <td>2</td>\n",
              "    </tr>\n",
              "    <tr>\n",
              "      <th>4</th>\n",
              "      <td>3889</td>\n",
              "      <td>48</td>\n",
              "      <td>-0.086232</td>\n",
              "      <td>-0.101835</td>\n",
              "      <td>-0.646376</td>\n",
              "      <td>-0.121970</td>\n",
              "      <td>17.046997</td>\n",
              "      <td>-0.113002</td>\n",
              "      <td>-0.061584</td>\n",
              "      <td>-0.074885</td>\n",
              "      <td>...</td>\n",
              "      <td>0.082065</td>\n",
              "      <td>0.114773</td>\n",
              "      <td>-0.098889</td>\n",
              "      <td>8.948005</td>\n",
              "      <td>1.024948</td>\n",
              "      <td>-0.009570</td>\n",
              "      <td>-0.080708</td>\n",
              "      <td>-0.123601</td>\n",
              "      <td>3889</td>\n",
              "      <td>2</td>\n",
              "    </tr>\n",
              "  </tbody>\n",
              "</table>\n",
              "<p>5 rows × 169 columns</p>\n",
              "</div>"
            ],
            "text/plain": [
              "      0   1         2         3         4         5          6         7   \n",
              "0  1076  48 -0.168500  0.270909 -0.091383 -0.046932  -0.043875 -0.029140  \\\n",
              "1  2534   6 -0.170834 -0.131425  1.018602  0.028105   0.055376  0.054722   \n",
              "2  3181  34  1.305212 -0.210553 -1.756361 -0.121970  97.300650 -0.113002   \n",
              "3  3321   1 -0.169615 -0.184668 -1.201369 -0.121970  -0.043875 -0.113002   \n",
              "4  3889  48 -0.086232 -0.101835 -0.646376 -0.121970  17.046997 -0.113002   \n",
              "\n",
              "          8         9  ...       159       160       161       162       163   \n",
              "0 -0.061584 -0.163591  ...  1.461330  1.461369  0.018279  0.470019  1.216796  \\\n",
              "1 -0.061584 -0.163572  ...  0.955101  0.459257 -0.098889 -0.087490 -0.099080   \n",
              "2 -0.061584  1.348765  ...  0.059948  0.113967 -0.098889  1.969527  0.037532   \n",
              "3 -0.061584 -0.160199  ...  0.241128  0.241406 -0.098889 -0.087490 -0.084674   \n",
              "4 -0.061584 -0.074885  ...  0.082065  0.114773 -0.098889  8.948005  1.024948   \n",
              "\n",
              "        164       165       166  txId  class  \n",
              "0  1.151607  1.519700  1.521399  1076      2  \n",
              "1 -0.122137 -0.379970 -0.379288  2534      0  \n",
              "2 -0.131010  0.006994  0.017772  3181      0  \n",
              "3 -0.140597  1.519700  1.521399  3321      2  \n",
              "4 -0.009570 -0.080708 -0.123601  3889      2  \n",
              "\n",
              "[5 rows x 169 columns]"
            ]
          },
          "execution_count": 13,
          "metadata": {},
          "output_type": "execute_result"
        }
      ],
      "source": [
        "# Merge features with classes\n",
        "df_merge = df_features.merge(df_classes, how='left', left_on=0, right_on=\"txId\")\n",
        "df_merge = df_merge.sort_values(0).reset_index(drop=True)\n",
        "df_merge.head()"
      ]
    },
    {
      "attachments": {},
      "cell_type": "markdown",
      "metadata": {
        "id": "o31_vKYtRur_"
      },
      "source": [
        "## Edge Index: Map trans IDs to Node IDs"
      ]
    },
    {
      "attachments": {},
      "cell_type": "markdown",
      "metadata": {
        "id": "t-d1wHSH71Ol"
      },
      "source": [
        "We map all nodes to indices, and filter edges data by mapping txid1 and txid2 with the indices. We convert it to tensors, and initialize a weight tensor with the same length of the edge index and with values 1."
      ]
    },
    {
      "cell_type": "code",
      "execution_count": 14,
      "metadata": {
        "colab": {
          "base_uri": "https://localhost:8080/"
        },
        "id": "LMM7lBiU2I6F",
        "outputId": "0bd12b19-881b-4a8f-d874-2ee5d3473277"
      },
      "outputs": [
        {
          "name": "stdout",
          "output_type": "stream",
          "text": [
            "shape of edge index is torch.Size([2, 234355])\n"
          ]
        },
        {
          "data": {
            "text/plain": [
              "tensor([[138670, 141325, 139232,  ..., 100420,  54833, 101159],\n",
              "        [  4142, 142201, 139223,  ..., 100419,  81951, 101163]])"
            ]
          },
          "execution_count": 14,
          "metadata": {},
          "output_type": "execute_result"
        }
      ],
      "source": [
        "# Setup trans ID to node ID mapping\n",
        "NODE_ID_COL = 0\n",
        "nodes = df_merge[NODE_ID_COL].values\n",
        "\n",
        "# nodes_to_id\n",
        "map_id = {j:i for i,j in enumerate(nodes)} # mapping nodes to indexes\n",
        "node_to_id = map_id\n",
        "\n",
        "# Create edge df that has transID mapped to nodeIDs\n",
        "edges = df_edges.copy()\n",
        "edges.txId1 = edges.txId1.map(node_to_id) # get nodes idx1 from edges list and filtered data\n",
        "edges.txId2 = edges.txId2.map(node_to_id)\n",
        "\n",
        "edges = edges.astype(int)\n",
        "\n",
        "edge_index = np.array(edges.values).T # convert into an array\n",
        "edge_index = torch.tensor(edge_index, dtype=torch.long).contiguous() # create a tensor\n",
        "\n",
        "print(\"shape of edge index is {}\".format(edge_index.shape))\n",
        "edge_index\n"
      ]
    },
    {
      "attachments": {},
      "cell_type": "markdown",
      "metadata": {
        "id": "k4HMMcZ2_Sjy"
      },
      "source": [
        "### Edge weights\n",
        "Set all edge weights to be 1"
      ]
    },
    {
      "cell_type": "code",
      "execution_count": 15,
      "metadata": {
        "id": "vJDVz9fE_IR4"
      },
      "outputs": [],
      "source": [
        "# create weights tensor with same shape of edge_index\n",
        "weights = torch.tensor([1] * edge_index.shape[1] , dtype=torch.double) "
      ]
    },
    {
      "attachments": {},
      "cell_type": "markdown",
      "metadata": {
        "id": "kqNLIgEqEHEA"
      },
      "source": [
        "## Labels"
      ]
    },
    {
      "cell_type": "code",
      "execution_count": 16,
      "metadata": {
        "colab": {
          "base_uri": "https://localhost:8080/"
        },
        "id": "lnF3kGx-EKYw",
        "outputId": "1caf8ab8-3c2b-4ce0-b995-516beec8d30c"
      },
      "outputs": [
        {
          "name": "stdout",
          "output_type": "stream",
          "text": [
            "lables [0 1 2]\n"
          ]
        },
        {
          "data": {
            "text/plain": [
              "array([2, 0, 0, ..., 2, 2, 2], dtype=int64)"
            ]
          },
          "execution_count": 16,
          "metadata": {},
          "output_type": "execute_result"
        }
      ],
      "source": [
        "# Define labels\n",
        "labels = df_merge['class'].values\n",
        "print(\"lables\", np.unique(labels))\n",
        "labels"
      ]
    },
    {
      "attachments": {},
      "cell_type": "markdown",
      "metadata": {
        "id": "zHve9OSSBZoC"
      },
      "source": [
        "## Node Features"
      ]
    },
    {
      "cell_type": "code",
      "execution_count": 17,
      "metadata": {
        "colab": {
          "base_uri": "https://localhost:8080/"
        },
        "id": "_2-UAkL-BeYJ",
        "outputId": "47bd8070-c1a0-43a3-bbf6-7a9a53da6c02"
      },
      "outputs": [
        {
          "name": "stdout",
          "output_type": "stream",
          "text": [
            "unique= [2 0 1]\n"
          ]
        },
        {
          "data": {
            "text/plain": [
              "tensor([[-0.1685,  0.2709, -0.0914,  ...,  1.1516,  1.5197,  1.5214],\n",
              "        [-0.1708, -0.1314,  1.0186,  ..., -0.1221, -0.3800, -0.3793],\n",
              "        [ 1.3052, -0.2106, -1.7564,  ..., -0.1310,  0.0070,  0.0178],\n",
              "        ...,\n",
              "        [-0.1727, -0.1588, -1.2014,  ..., -0.2698, -0.1206, -0.1198],\n",
              "        [-0.1727, -0.1588, -1.2014,  ..., -0.2698, -0.1206, -0.1198],\n",
              "        [-0.1433, -0.1588, -1.2014,  ..., -0.0975, -0.1206, -0.1198]],\n",
              "       dtype=torch.float64)"
            ]
          },
          "execution_count": 17,
          "metadata": {},
          "output_type": "execute_result"
        }
      ],
      "source": [
        "# mapping txIds to corresponding indices, to pass node features to the model\n",
        "\n",
        "node_features = df_merge.drop(['txId'], axis=1).copy()\n",
        "# node_features[0] = node_features[0].map(map_id) # Convert transaction ID to node ID \\\n",
        "print(\"unique=\",node_features[\"class\"].unique())\n",
        "\n",
        "# Retain known vs unknown IDs\n",
        "classified_idx = node_features['class'].loc[node_features['class']!=2].index # filter on known labels\n",
        "unclassified_idx = node_features['class'].loc[node_features['class']==2].index\n",
        "\n",
        "classified_illicit_idx = node_features['class'].loc[node_features['class']==1].index # filter on illicit labels\n",
        "classified_licit_idx = node_features['class'].loc[node_features['class']==0].index # filter on licit labels\n",
        "\n",
        "# Drop unwanted columns, 0 = transID, 1=time period, class = labels\n",
        "node_features = node_features.drop(columns=[0, 1, 'class'])\n",
        "\n",
        "# Convert to tensor\n",
        "node_features_t = torch.tensor(np.array(node_features.values, dtype=np.double), dtype=torch.double)# drop unused columns\n",
        "node_features_t"
      ]
    },
    {
      "cell_type": "code",
      "execution_count": 18,
      "metadata": {
        "colab": {
          "base_uri": "https://localhost:8080/",
          "height": 487
        },
        "id": "kPA-3xJC8sr6",
        "outputId": "bd9bf4fe-18c1-4d53-f3e6-7c4c16d064cf"
      },
      "outputs": [
        {
          "data": {
            "text/html": [
              "<div>\n",
              "<style scoped>\n",
              "    .dataframe tbody tr th:only-of-type {\n",
              "        vertical-align: middle;\n",
              "    }\n",
              "\n",
              "    .dataframe tbody tr th {\n",
              "        vertical-align: top;\n",
              "    }\n",
              "\n",
              "    .dataframe thead th {\n",
              "        text-align: right;\n",
              "    }\n",
              "</style>\n",
              "<table border=\"1\" class=\"dataframe\">\n",
              "  <thead>\n",
              "    <tr style=\"text-align: right;\">\n",
              "      <th></th>\n",
              "      <th>2</th>\n",
              "      <th>3</th>\n",
              "      <th>4</th>\n",
              "      <th>5</th>\n",
              "      <th>6</th>\n",
              "      <th>7</th>\n",
              "      <th>8</th>\n",
              "      <th>9</th>\n",
              "      <th>10</th>\n",
              "      <th>11</th>\n",
              "      <th>...</th>\n",
              "      <th>157</th>\n",
              "      <th>158</th>\n",
              "      <th>159</th>\n",
              "      <th>160</th>\n",
              "      <th>161</th>\n",
              "      <th>162</th>\n",
              "      <th>163</th>\n",
              "      <th>164</th>\n",
              "      <th>165</th>\n",
              "      <th>166</th>\n",
              "    </tr>\n",
              "  </thead>\n",
              "  <tbody>\n",
              "    <tr>\n",
              "      <th>0</th>\n",
              "      <td>-0.168500</td>\n",
              "      <td>0.270909</td>\n",
              "      <td>-0.091383</td>\n",
              "      <td>-0.046932</td>\n",
              "      <td>-0.043875</td>\n",
              "      <td>-0.029140</td>\n",
              "      <td>-0.061584</td>\n",
              "      <td>-0.163591</td>\n",
              "      <td>-0.164980</td>\n",
              "      <td>-0.009283</td>\n",
              "      <td>...</td>\n",
              "      <td>0.073047</td>\n",
              "      <td>-0.039637</td>\n",
              "      <td>1.461330</td>\n",
              "      <td>1.461369</td>\n",
              "      <td>0.018279</td>\n",
              "      <td>0.470019</td>\n",
              "      <td>1.216796</td>\n",
              "      <td>1.151607</td>\n",
              "      <td>1.519700</td>\n",
              "      <td>1.521399</td>\n",
              "    </tr>\n",
              "    <tr>\n",
              "      <th>1</th>\n",
              "      <td>-0.170834</td>\n",
              "      <td>-0.131425</td>\n",
              "      <td>1.018602</td>\n",
              "      <td>0.028105</td>\n",
              "      <td>0.055376</td>\n",
              "      <td>0.054722</td>\n",
              "      <td>-0.061584</td>\n",
              "      <td>-0.163572</td>\n",
              "      <td>-0.167757</td>\n",
              "      <td>-0.038545</td>\n",
              "      <td>...</td>\n",
              "      <td>1.228858</td>\n",
              "      <td>0.379357</td>\n",
              "      <td>0.955101</td>\n",
              "      <td>0.459257</td>\n",
              "      <td>-0.098889</td>\n",
              "      <td>-0.087490</td>\n",
              "      <td>-0.099080</td>\n",
              "      <td>-0.122137</td>\n",
              "      <td>-0.379970</td>\n",
              "      <td>-0.379288</td>\n",
              "    </tr>\n",
              "    <tr>\n",
              "      <th>2</th>\n",
              "      <td>1.305212</td>\n",
              "      <td>-0.210553</td>\n",
              "      <td>-1.756361</td>\n",
              "      <td>-0.121970</td>\n",
              "      <td>97.300650</td>\n",
              "      <td>-0.113002</td>\n",
              "      <td>-0.061584</td>\n",
              "      <td>1.348765</td>\n",
              "      <td>1.321754</td>\n",
              "      <td>-0.049707</td>\n",
              "      <td>...</td>\n",
              "      <td>1.348450</td>\n",
              "      <td>1.590664</td>\n",
              "      <td>0.059948</td>\n",
              "      <td>0.113967</td>\n",
              "      <td>-0.098889</td>\n",
              "      <td>1.969527</td>\n",
              "      <td>0.037532</td>\n",
              "      <td>-0.131010</td>\n",
              "      <td>0.006994</td>\n",
              "      <td>0.017772</td>\n",
              "    </tr>\n",
              "    <tr>\n",
              "      <th>3</th>\n",
              "      <td>-0.169615</td>\n",
              "      <td>-0.184668</td>\n",
              "      <td>-1.201369</td>\n",
              "      <td>-0.121970</td>\n",
              "      <td>-0.043875</td>\n",
              "      <td>-0.113002</td>\n",
              "      <td>-0.061584</td>\n",
              "      <td>-0.160199</td>\n",
              "      <td>-0.166062</td>\n",
              "      <td>-0.049707</td>\n",
              "      <td>...</td>\n",
              "      <td>-0.577099</td>\n",
              "      <td>-0.500080</td>\n",
              "      <td>0.241128</td>\n",
              "      <td>0.241406</td>\n",
              "      <td>-0.098889</td>\n",
              "      <td>-0.087490</td>\n",
              "      <td>-0.084674</td>\n",
              "      <td>-0.140597</td>\n",
              "      <td>1.519700</td>\n",
              "      <td>1.521399</td>\n",
              "    </tr>\n",
              "    <tr>\n",
              "      <th>4</th>\n",
              "      <td>-0.086232</td>\n",
              "      <td>-0.101835</td>\n",
              "      <td>-0.646376</td>\n",
              "      <td>-0.121970</td>\n",
              "      <td>17.046997</td>\n",
              "      <td>-0.113002</td>\n",
              "      <td>-0.061584</td>\n",
              "      <td>-0.074885</td>\n",
              "      <td>-0.081943</td>\n",
              "      <td>-0.049707</td>\n",
              "      <td>...</td>\n",
              "      <td>0.501062</td>\n",
              "      <td>0.362510</td>\n",
              "      <td>0.082065</td>\n",
              "      <td>0.114773</td>\n",
              "      <td>-0.098889</td>\n",
              "      <td>8.948005</td>\n",
              "      <td>1.024948</td>\n",
              "      <td>-0.009570</td>\n",
              "      <td>-0.080708</td>\n",
              "      <td>-0.123601</td>\n",
              "    </tr>\n",
              "    <tr>\n",
              "      <th>...</th>\n",
              "      <td>...</td>\n",
              "      <td>...</td>\n",
              "      <td>...</td>\n",
              "      <td>...</td>\n",
              "      <td>...</td>\n",
              "      <td>...</td>\n",
              "      <td>...</td>\n",
              "      <td>...</td>\n",
              "      <td>...</td>\n",
              "      <td>...</td>\n",
              "      <td>...</td>\n",
              "      <td>...</td>\n",
              "      <td>...</td>\n",
              "      <td>...</td>\n",
              "      <td>...</td>\n",
              "      <td>...</td>\n",
              "      <td>...</td>\n",
              "      <td>...</td>\n",
              "      <td>...</td>\n",
              "      <td>...</td>\n",
              "      <td>...</td>\n",
              "    </tr>\n",
              "    <tr>\n",
              "      <th>203764</th>\n",
              "      <td>-0.172978</td>\n",
              "      <td>-0.172527</td>\n",
              "      <td>0.463609</td>\n",
              "      <td>-0.121970</td>\n",
              "      <td>-0.043875</td>\n",
              "      <td>-0.113002</td>\n",
              "      <td>-0.061584</td>\n",
              "      <td>-0.163640</td>\n",
              "      <td>-0.169455</td>\n",
              "      <td>-0.049707</td>\n",
              "      <td>...</td>\n",
              "      <td>-0.577099</td>\n",
              "      <td>-0.600999</td>\n",
              "      <td>0.241128</td>\n",
              "      <td>0.241406</td>\n",
              "      <td>0.018279</td>\n",
              "      <td>-0.087490</td>\n",
              "      <td>-0.131155</td>\n",
              "      <td>-0.097524</td>\n",
              "      <td>-0.120613</td>\n",
              "      <td>-0.119792</td>\n",
              "    </tr>\n",
              "    <tr>\n",
              "      <th>203765</th>\n",
              "      <td>-0.172669</td>\n",
              "      <td>-0.158783</td>\n",
              "      <td>-1.201369</td>\n",
              "      <td>-0.121970</td>\n",
              "      <td>-0.063725</td>\n",
              "      <td>-0.113002</td>\n",
              "      <td>-0.061584</td>\n",
              "      <td>-0.163323</td>\n",
              "      <td>-0.169142</td>\n",
              "      <td>-0.049707</td>\n",
              "      <td>...</td>\n",
              "      <td>-0.577099</td>\n",
              "      <td>-0.626229</td>\n",
              "      <td>0.241128</td>\n",
              "      <td>0.241406</td>\n",
              "      <td>-0.216057</td>\n",
              "      <td>-0.125939</td>\n",
              "      <td>-0.131155</td>\n",
              "      <td>-0.269818</td>\n",
              "      <td>-0.120613</td>\n",
              "      <td>-0.119792</td>\n",
              "    </tr>\n",
              "    <tr>\n",
              "      <th>203766</th>\n",
              "      <td>-0.172669</td>\n",
              "      <td>-0.158783</td>\n",
              "      <td>-1.201369</td>\n",
              "      <td>-0.121970</td>\n",
              "      <td>-0.063725</td>\n",
              "      <td>-0.113002</td>\n",
              "      <td>-0.061584</td>\n",
              "      <td>-0.163323</td>\n",
              "      <td>-0.169142</td>\n",
              "      <td>-0.049707</td>\n",
              "      <td>...</td>\n",
              "      <td>-0.577099</td>\n",
              "      <td>-0.626229</td>\n",
              "      <td>0.241128</td>\n",
              "      <td>0.241406</td>\n",
              "      <td>-0.216057</td>\n",
              "      <td>-0.125939</td>\n",
              "      <td>-0.131155</td>\n",
              "      <td>-0.269818</td>\n",
              "      <td>-0.120613</td>\n",
              "      <td>-0.119792</td>\n",
              "    </tr>\n",
              "    <tr>\n",
              "      <th>203767</th>\n",
              "      <td>-0.172669</td>\n",
              "      <td>-0.158783</td>\n",
              "      <td>-1.201369</td>\n",
              "      <td>-0.121970</td>\n",
              "      <td>-0.063725</td>\n",
              "      <td>-0.113002</td>\n",
              "      <td>-0.061584</td>\n",
              "      <td>-0.163323</td>\n",
              "      <td>-0.169142</td>\n",
              "      <td>-0.049707</td>\n",
              "      <td>...</td>\n",
              "      <td>-0.577099</td>\n",
              "      <td>-0.626229</td>\n",
              "      <td>0.241128</td>\n",
              "      <td>0.241406</td>\n",
              "      <td>-0.216057</td>\n",
              "      <td>-0.125939</td>\n",
              "      <td>-0.131155</td>\n",
              "      <td>-0.269818</td>\n",
              "      <td>-0.120613</td>\n",
              "      <td>-0.119792</td>\n",
              "    </tr>\n",
              "    <tr>\n",
              "      <th>203768</th>\n",
              "      <td>-0.143292</td>\n",
              "      <td>-0.158783</td>\n",
              "      <td>-1.201369</td>\n",
              "      <td>-0.121970</td>\n",
              "      <td>-0.043875</td>\n",
              "      <td>-0.113002</td>\n",
              "      <td>-0.061584</td>\n",
              "      <td>-0.133266</td>\n",
              "      <td>-0.139507</td>\n",
              "      <td>-0.049707</td>\n",
              "      <td>...</td>\n",
              "      <td>-0.577099</td>\n",
              "      <td>-0.613614</td>\n",
              "      <td>0.241128</td>\n",
              "      <td>0.241406</td>\n",
              "      <td>0.018279</td>\n",
              "      <td>-0.087490</td>\n",
              "      <td>-0.131155</td>\n",
              "      <td>-0.097524</td>\n",
              "      <td>-0.120613</td>\n",
              "      <td>-0.119792</td>\n",
              "    </tr>\n",
              "  </tbody>\n",
              "</table>\n",
              "<p>203769 rows × 165 columns</p>\n",
              "</div>"
            ],
            "text/plain": [
              "             2         3         4         5          6         7         8     \n",
              "0      -0.168500  0.270909 -0.091383 -0.046932  -0.043875 -0.029140 -0.061584  \\\n",
              "1      -0.170834 -0.131425  1.018602  0.028105   0.055376  0.054722 -0.061584   \n",
              "2       1.305212 -0.210553 -1.756361 -0.121970  97.300650 -0.113002 -0.061584   \n",
              "3      -0.169615 -0.184668 -1.201369 -0.121970  -0.043875 -0.113002 -0.061584   \n",
              "4      -0.086232 -0.101835 -0.646376 -0.121970  17.046997 -0.113002 -0.061584   \n",
              "...          ...       ...       ...       ...        ...       ...       ...   \n",
              "203764 -0.172978 -0.172527  0.463609 -0.121970  -0.043875 -0.113002 -0.061584   \n",
              "203765 -0.172669 -0.158783 -1.201369 -0.121970  -0.063725 -0.113002 -0.061584   \n",
              "203766 -0.172669 -0.158783 -1.201369 -0.121970  -0.063725 -0.113002 -0.061584   \n",
              "203767 -0.172669 -0.158783 -1.201369 -0.121970  -0.063725 -0.113002 -0.061584   \n",
              "203768 -0.143292 -0.158783 -1.201369 -0.121970  -0.043875 -0.113002 -0.061584   \n",
              "\n",
              "             9         10        11   ...       157       158       159   \n",
              "0      -0.163591 -0.164980 -0.009283  ...  0.073047 -0.039637  1.461330  \\\n",
              "1      -0.163572 -0.167757 -0.038545  ...  1.228858  0.379357  0.955101   \n",
              "2       1.348765  1.321754 -0.049707  ...  1.348450  1.590664  0.059948   \n",
              "3      -0.160199 -0.166062 -0.049707  ... -0.577099 -0.500080  0.241128   \n",
              "4      -0.074885 -0.081943 -0.049707  ...  0.501062  0.362510  0.082065   \n",
              "...          ...       ...       ...  ...       ...       ...       ...   \n",
              "203764 -0.163640 -0.169455 -0.049707  ... -0.577099 -0.600999  0.241128   \n",
              "203765 -0.163323 -0.169142 -0.049707  ... -0.577099 -0.626229  0.241128   \n",
              "203766 -0.163323 -0.169142 -0.049707  ... -0.577099 -0.626229  0.241128   \n",
              "203767 -0.163323 -0.169142 -0.049707  ... -0.577099 -0.626229  0.241128   \n",
              "203768 -0.133266 -0.139507 -0.049707  ... -0.577099 -0.613614  0.241128   \n",
              "\n",
              "             160       161       162       163       164       165       166  \n",
              "0       1.461369  0.018279  0.470019  1.216796  1.151607  1.519700  1.521399  \n",
              "1       0.459257 -0.098889 -0.087490 -0.099080 -0.122137 -0.379970 -0.379288  \n",
              "2       0.113967 -0.098889  1.969527  0.037532 -0.131010  0.006994  0.017772  \n",
              "3       0.241406 -0.098889 -0.087490 -0.084674 -0.140597  1.519700  1.521399  \n",
              "4       0.114773 -0.098889  8.948005  1.024948 -0.009570 -0.080708 -0.123601  \n",
              "...          ...       ...       ...       ...       ...       ...       ...  \n",
              "203764  0.241406  0.018279 -0.087490 -0.131155 -0.097524 -0.120613 -0.119792  \n",
              "203765  0.241406 -0.216057 -0.125939 -0.131155 -0.269818 -0.120613 -0.119792  \n",
              "203766  0.241406 -0.216057 -0.125939 -0.131155 -0.269818 -0.120613 -0.119792  \n",
              "203767  0.241406 -0.216057 -0.125939 -0.131155 -0.269818 -0.120613 -0.119792  \n",
              "203768  0.241406  0.018279 -0.087490 -0.131155 -0.097524 -0.120613 -0.119792  \n",
              "\n",
              "[203769 rows x 165 columns]"
            ]
          },
          "execution_count": 18,
          "metadata": {},
          "output_type": "execute_result"
        }
      ],
      "source": [
        "# See node features again\n",
        "node_features"
      ]
    },
    {
      "attachments": {},
      "cell_type": "markdown",
      "metadata": {
        "id": "LhtMaYpkGMOf"
      },
      "source": [
        "## Train Test splits"
      ]
    },
    {
      "cell_type": "code",
      "execution_count": 19,
      "metadata": {
        "colab": {
          "base_uri": "https://localhost:8080/"
        },
        "id": "sjrz1IPVSdkS",
        "outputId": "d079f85e-286c-4faa-b22a-aa4e1be577af"
      },
      "outputs": [
        {
          "name": "stdout",
          "output_type": "stream",
          "text": [
            "train_idx size 39579\n",
            "tets_idx size 6985\n"
          ]
        }
      ],
      "source": [
        "# Create a known vs unknown mask\n",
        "train_idx, valid_idx = train_test_split(classified_idx.values, test_size=0.15)\n",
        "print(f\"train_idx size {len(train_idx)}\")\n",
        "print(f\"test_idx size {len(valid_idx)}\")"
      ]
    },
    {
      "attachments": {},
      "cell_type": "markdown",
      "metadata": {
        "id": "yFxFNl5pEwAB"
      },
      "source": [
        "# Create a PyG dataset\n",
        "\n",
        "Each PyG dataset stores a list of `torch_geometric.data.Data` objects, where each `torch_geometric.data.Data` object represents a graph. We can easily get the `Data` object by indexing into the dataset.\n",
        "\n",
        "For more information such as what is stored in the `Data` object, please refer to the [documentation](https://pytorch-geometric.readthedocs.io/en/latest/modules/data.html#torch_geometric.data.Data).\n",
        "\n",
        "We convert data to PyGeometric graph data format by using node_features, edge_index, weights and labels initialized before."
      ]
    },
    {
      "cell_type": "code",
      "execution_count": 20,
      "metadata": {
        "id": "cR4J4rgFdRs6"
      },
      "outputs": [],
      "source": [
        "data_train = Data(x=node_features_t, edge_index=edge_index, edge_attr=weights, \n",
        "                               y=torch.tensor(labels, dtype=torch.double))\n",
        "# Add in the train and valid idx\n",
        "data_train.train_idx = train_idx\n",
        "data_train.valid_idx = valid_idx\n",
        "data_train.test_idx = unclassified_idx"
      ]
    },
    {
      "attachments": {},
      "cell_type": "markdown",
      "metadata": {
        "id": "0EuNBpJfR8O7"
      },
      "source": [
        "# Model setup\n"
      ]
    },
    {
      "cell_type": "code",
      "execution_count": 19,
      "metadata": {
        "id": "0lIXOMwSMc-l"
      },
      "outputs": [],
      "source": [
        "import torch\n",
        "import torch_scatter\n",
        "import torch.nn as nn\n",
        "import torch.nn.functional as F\n",
        "\n",
        "import torch_geometric.nn as pyg_nn\n",
        "import torch_geometric.utils as pyg_utils\n",
        "\n",
        "from torch import Tensor\n",
        "from typing import Union, Tuple, Optional\n",
        "from torch_geometric.typing import (OptPairTensor, Adj, Size, NoneType,\n",
        "                                    OptTensor)\n",
        "\n",
        "from torch.nn import Parameter, Linear\n",
        "from torch_sparse import SparseTensor, set_diag\n",
        "from torch_geometric.nn.conv import MessagePassing\n",
        "from torch_geometric.utils import remove_self_loops, add_self_loops, softmax, degree\n",
        "\n",
        "from torch_geometric.nn import GCNConv,GATConv,GATv2Conv\n",
        "import pickle"
      ]
    },
    {
      "attachments": {},
      "cell_type": "markdown",
      "metadata": {
        "id": "vonuW3cKtxr9"
      },
      "source": [
        "## Prebuilt with PyG's built-in  layers\n",
        "In this section, we are using PyG's built-in layers with 2 layers and an additional MLP layers for the GATs models."
      ]
    },
    {
      "attachments": {},
      "cell_type": "markdown",
      "metadata": {
        "id": "nyE0VMalAyrt"
      },
      "source": [
        "### GCNConv"
      ]
    },
    {
      "cell_type": "code",
      "execution_count": 20,
      "metadata": {
        "id": "YH_8QV_Rypzl"
      },
      "outputs": [],
      "source": [
        "class GCN(nn.Module):\n",
        "    def __init__(self,seed=12345):\n",
        "        super(GCN, self).__init__()\n",
        "        torch.manual_seed(seed)\n",
        "        self.conv1 = GCNConv(165,128)\n",
        "        self.conv2 = GCNConv(128,2)\n",
        "        self.classifier = Linear(2, 1)\n",
        "\n",
        "    def forward(self, data, adj=None):\n",
        "        x, edge_index = data.x, data.edge_index\n",
        "        h = self.conv1(x, edge_index)\n",
        "        h = F.tanh(h)\n",
        "        h = self.conv2(h, edge_index)\n",
        "        embeddings = F.tanh(h)  # Final GNN embedding space.\n",
        "        \n",
        "        # Apply a final (linear) classifier.\n",
        "        out = self.classifier(embeddings)\n",
        "\n",
        "        # return out, embeddings\n",
        "        return F.sigmoid(out)"
      ]
    },
    {
      "attachments": {},
      "cell_type": "markdown",
      "metadata": {
        "id": "QNniFM2ec04t"
      },
      "source": [
        "### GATConv\n"
      ]
    },
    {
      "cell_type": "code",
      "execution_count": 21,
      "metadata": {
        "id": "Rjr_1PQf2TmI"
      },
      "outputs": [],
      "source": [
        "class GAT(nn.Module):\n",
        "    def __init__(self,input_dim, hidden_dim, output_dim,args):\n",
        "        self.args = args\n",
        "        super(GAT, self).__init__()\n",
        "        # use our gat message passing \n",
        "        self.conv1 = pyg_nn.GATConv(input_dim, hidden_dim, heads=args['heads'])\n",
        "        self.conv2 = pyg_nn.GATConv(args['heads'] * hidden_dim, hidden_dim, heads=args['heads'])\n",
        "        \n",
        "        self.post_mp = nn.Sequential(\n",
        "            nn.Linear(args['heads'] * hidden_dim, hidden_dim), \n",
        "            nn.Dropout(args['dropout'] ), \n",
        "            nn.Linear(hidden_dim, output_dim),)\n",
        "        \n",
        "    def forward(self, data, adj=None):\n",
        "        args = self.args\n",
        "        x, edge_index = data.x, data.edge_index\n",
        "        # Layer 1\n",
        "        x = self.conv1(x, edge_index)\n",
        "        x = F.dropout(F.relu(x), p=args['dropout'], training=self.training)\n",
        "        # Layer 2\n",
        "        x = self.conv2(x, edge_index)\n",
        "        x = F.dropout(F.relu(x), p=args['dropout'], training=self.training)\n",
        "        # MLP output\n",
        "        x = self.post_mp(x)\n",
        "        return F.sigmoid(x)\n",
        "       "
      ]
    },
    {
      "attachments": {},
      "cell_type": "markdown",
      "metadata": {
        "id": "50arKCbIjEr6"
      },
      "source": [
        "### GATv2Conv "
      ]
    },
    {
      "cell_type": "code",
      "execution_count": 22,
      "metadata": {
        "id": "BrQtUh3gjH1A"
      },
      "outputs": [],
      "source": [
        "class GATv2(nn.Module):\n",
        "    def __init__(self,input_dim, hidden_dim, output_dim,args):\n",
        "        self.args = args\n",
        "        super(GATv2, self).__init__()\n",
        "        #use our gat message passing \n",
        "        self.conv1 = pyg_nn.GATv2Conv(input_dim, hidden_dim, heads=args['heads'])\n",
        "        self.conv2 = pyg_nn.GATv2Conv(args['heads'] * hidden_dim, hidden_dim, heads=args['heads'])\n",
        "        \n",
        "        self.post_mp = nn.Sequential(\n",
        "            nn.Linear(args['heads'] * hidden_dim, hidden_dim), \n",
        "            nn.Dropout(args['dropout'] ), \n",
        "            nn.Linear(hidden_dim, output_dim))\n",
        "        \n",
        "    def forward(self, data, adj=None):\n",
        "        args = self.args\n",
        "        x, edge_index = data.x, data.edge_index\n",
        "        # Layer 1\n",
        "        x = self.conv1(x, edge_index)\n",
        "        x = F.dropout(F.relu(x), p=args['dropout'], training=self.training)\n",
        "        # Layer 2\n",
        "        x = self.conv2(x, edge_index)\n",
        "        x = F.dropout(F.relu(x), p=args['dropout'], training=self.training)\n",
        "        # MLP output\n",
        "        x = self.post_mp(x)\n",
        "        return F.sigmoid(x)"
      ]
    },
    {
      "attachments": {},
      "cell_type": "markdown",
      "metadata": {
        "id": "_rNSLoo10_WU"
      },
      "source": [
        "## Custom GAT Implementation\n",
        "\n",
        "Attention mechanisms have become the state-of-the-art in many sequence-based tasks such as machine translation and learning sentence representations. One of the major benefits of attention-based mechanisms is their ability to focus on the most relevant parts of the input to make decisions. In this problem, we will see how attention mechanisms can be used to perform node classification over graph-structured data through the usage of Graph Attention Networks (GATs) ([Veličković et al. (2018)](https://arxiv.org/abs/1710.10903)).\n",
        "\n",
        "The building block of the Graph Attention Network is the graph attention layer, which is a variant of the aggregation function. Let $N$ be the number of nodes and $F$ be the dimension of the feature vector for each node. The input to each graph attentional layer is a set of node features: $\\mathbf{h} = \\{\\overrightarrow{h_1}, \\overrightarrow{h_2}, \\dots, \\overrightarrow{h_N}$\\}, $\\overrightarrow{h_i} \\in R^F$. The output of each graph attentional layer is a new set of node features, which may have a new dimension $F'$: $\\mathbf{h'} = \\{\\overrightarrow{h_1'}, \\overrightarrow{h_2'}, \\dots, \\overrightarrow{h_N'}\\}$, with $\\overrightarrow{h_i'} \\in \\mathbb{R}^{F'}$.\n",
        "\n",
        "We will now describe how this transformation is performed for each graph attention layer. First, a shared linear transformation parametrized by the weight matrix $\\mathbf{W} \\in \\mathbb{R}^{F' \\times F}$ is applied to every node. \n",
        "\n",
        "Next, we perform self-attention on the nodes. We use a shared attention function $a$:\n",
        "\\begin{equation} \n",
        "a : \\mathbb{R}^{F'} \\times \\mathbb{R}^{F'} \\rightarrow \\mathbb{R}.\n",
        "\\end{equation}\n",
        "\n",
        "that computes the attention coefficients capturing the importance of node $j$'s features to node $i$:\n",
        "\\begin{equation}\n",
        "e_{ij} = a(\\mathbf{W_l}\\overrightarrow{h_i}, \\mathbf{W_r} \\overrightarrow{h_j})\n",
        "\\end{equation}\n",
        "\n",
        "The most general formulation of self-attention allows every node to attend to all other nodes which drops all structural information. However, to utilize graph structure in the attention mechanisms, we use **masked attention**. In masked attention, we only compute attention coefficients $e_{ij}$ for nodes $j \\in \\mathcal{N}_i$ where $\\mathcal{N}_i$ is some neighborhood of node $i$ in the graph.\n",
        "\n",
        "To easily compare coefficients across different nodes, we normalize the coefficients across $j$ using a softmax function:\n",
        "\\begin{equation}\n",
        "\\alpha_{ij} = \\text{softmax}_j(e_{ij}) = \\frac{\\exp(e_{ij})}{\\sum_{k \\in \\mathcal{N}_i} \\exp(e_{ik})}\n",
        "\\end{equation}\n",
        "\n",
        "For this problem, our attention mechanism $a$ will be a single-layer feedforward neural network parametrized by a weight vectors $\\overrightarrow{a_l} \\in \\mathbb{R}^{F'}$ and $\\overrightarrow{a_r} \\in \\mathbb{R}^{F'}$, followed by a LeakyReLU nonlinearity (with negative input slope 0.2). Let $\\cdot^T$ represent transposition and $||$ represent concatenation. The coefficients computed by our attention mechanism may be expressed as:\n",
        "\n",
        "\\begin{equation}\n",
        "\\alpha_{ij} = \\frac{\\exp\\Big(\\text{LeakyReLU}\\Big(\\overrightarrow{a_l}^T \\mathbf{W_l} \\overrightarrow{h_i} + \\overrightarrow{a_r}^T\\mathbf{W_r}\\overrightarrow{h_j}\\Big)\\Big)}{\\sum_{k\\in \\mathcal{N}_i} \\exp\\Big(\\text{LeakyReLU}\\Big(\\overrightarrow{a_l}^T \\mathbf{W_l} \\overrightarrow{h_i} + \\overrightarrow{a_r}^T\\mathbf{W_r}\\overrightarrow{h_k}\\Big)\\Big)}\n",
        "\\end{equation}\n",
        "\n",
        "For the following questions, we denote `alpha_l` = $\\alpha_l = [...,\\overrightarrow{a_l}^T \\mathbf{W_l} \\overrightarrow{h_i},...] \\in \\mathcal{R}^n$ and `alpha_r` = $\\alpha_r = [..., \\overrightarrow{a_r}^T \\mathbf{W_r} \\overrightarrow{h_j}, ...] \\in \\mathcal{R}^n$.\n",
        "\n",
        "\n",
        "At every layer of GAT, after the attention coefficients are computed for that layer, the aggregation function can be computed by a weighted sum of neighborhood messages, where weights are specified by $\\alpha_{ij}$.\n",
        "\n",
        "Now, we use the normalized attention coefficients to compute a linear combination of the features corresponding to them. These aggregated features will serve as the final output features for every node.\n",
        "\n",
        "\\begin{equation}\n",
        "h_i' = \\sum_{j \\in \\mathcal{N}_i} \\alpha_{ij} \\mathbf{W_r} \\overrightarrow{h_j}.\n",
        "\\end{equation}  \n",
        "\n",
        "### Multi-Head Attention\n",
        "To stabilize the learning process of self-attention, we use multi-head attention. To do this we use $K$ independent attention mechanisms, or ``heads'' compute output features as in the above equations. Then, we concatenate these output feature representations:\n",
        "\n",
        "\\begin{equation}\n",
        "    \\overrightarrow{h_i}' = ||_{k=1}^K \\Big(\\sum_{j \\in \\mathcal{N}_i} \\alpha_{ij}^{(k)} \\mathbf{W_r}^{(k)} \\overrightarrow{h_j}\\Big)\n",
        "\\end{equation}\n",
        "\n",
        "where $||$ is concentation, $\\alpha_{ij}^{(k)}$ are the normalized attention coefficients computed by the $k$-th attention mechanism $(a^k)$, and $\\mathbf{W}^{(k)}$ is the corresponding input linear transformation's weight matrix. Note that for this setting, $\\mathbf{h'} \\in \\mathbb{R}^{KF'}$."
      ]
    },
    {
      "attachments": {},
      "cell_type": "markdown",
      "metadata": {
        "id": "8D8tRgWGt4mZ"
      },
      "source": [
        "### Custom GAT model\n",
        "PyG provides the MessagePassing base class, which helps in creating such kinds of message passing graph neural networks by automatically taking care of message propagation. \\\\\n",
        "-**MessagePassing()**: Defines the aggregation scheme to use (\"add\", \"mean\" or \"max\") and the flow direction of message passing (either \"source_to_target\" or \"target_to_source\").  \n",
        "\n",
        "-**MessagePassing.propagate(edge_index,size=None,kwargs)**: The initial call to start propagating messages. Takes in the edge indices and all additional data which is needed to construct messages and to update node embeddings. \n",
        "\n",
        "-**MessagePassing.message(...)**: Constructs messages to node  for each edge. It can take any argument which was initially passed to propagate().  In addition, tensors passed to propagate() can be mapped to the respective nodes and by appending _i or _j to the variable name.\n",
        "We generally refer to i as the central nodes that aggregates information, and refer to j as the neighboring nodes, since this is the most common notation.\n",
        "\n",
        " Further details can be found at the official PyG documentation. "
      ]
    },
    {
      "cell_type": "code",
      "execution_count": 23,
      "metadata": {
        "id": "pc-NwTRM1JAX"
      },
      "outputs": [],
      "source": [
        "class myGAT(MessagePassing):\n",
        "    def __init__(self, in_channels, out_channels, heads = 1, \n",
        "                 negative_slope = 0.2, dropout = 0., **kwargs):\n",
        "        super(myGAT, self).__init__(node_dim=0, **kwargs)\n",
        "\n",
        "        self.in_channels = in_channels # node features input dimension\n",
        "        self.out_channels = out_channels # node level output dimension\n",
        "        self.heads = heads # No. of attention heads\n",
        "        self.negative_slope = negative_slope\n",
        "        self.dropout = dropout\n",
        "\n",
        "        self.lin_l = None\n",
        "        self.lin_r = None\n",
        "        self.att_l = None\n",
        "        self.att_r = None\n",
        "\n",
        "        # Initialization\n",
        "        self.lin_l = Linear(in_channels, heads*out_channels)\n",
        "        self.lin_r = self.lin_l\n",
        "        self.att_l = Parameter(torch.Tensor(1, heads, out_channels).float())\n",
        "        self.att_r = Parameter(torch.Tensor(1, heads, out_channels).float())\n",
        "        self.reset_parameters()\n",
        "\n",
        "    def reset_parameters(self):\n",
        "        nn.init.xavier_uniform_(self.lin_l.weight)\n",
        "        nn.init.xavier_uniform_(self.lin_r.weight)\n",
        "        nn.init.xavier_uniform_(self.att_l)\n",
        "        nn.init.xavier_uniform_(self.att_r)\n",
        "\n",
        "    def forward(self, x, edge_index, size = None):\n",
        "        \n",
        "        H, C = self.heads, self.out_channels # DIM：H, outC\n",
        "\n",
        "        # Linearly transform node feature matrix.\n",
        "        x_source = self.lin_l(x).view(-1,H,C) # DIM: [Nodex x In] [in x H * outC] => [nodes x H * outC] => [nodes, H, outC]\n",
        "        x_target = self.lin_r(x).view(-1,H,C) # DIM: [Nodex x In] [in x H * outC] => [nodes x H * outC] => [nodes, H, outC]\n",
        "\n",
        "        # Alphas will be used to calculate attention later\n",
        "        alpha_l = (x_source * self.att_l).sum(dim=-1) # DIM: [nodes, H, outC] x [H, outC] => [nodes, H]\n",
        "        alpha_r = (x_target * self.att_r).sum(dim=-1) # DIM: [nodes, H, outC] x [H, outC] => [nodes, H]\n",
        "\n",
        "        #  Start propagating messages (runs message and aggregate)\n",
        "        out = self.propagate(edge_index, x=(x_source, x_target), alpha=(alpha_l, alpha_r),size=size) # DIM: [nodes, H, outC]\n",
        "        out = out.view(-1, self.heads * self.out_channels) # DIM: [nodes, H * outC]\n",
        "\n",
        "        return out\n",
        "\n",
        "    def message(self, x_j, alpha_j, alpha_i, index, ptr, size_i):\n",
        "        # Calculate attention for edge pairs\n",
        "        attention = F.leaky_relu((alpha_j + alpha_i), self.negative_slope) # EQ(1) DIM: [Edges, H]\n",
        "        attention = softmax(attention, index, ptr, size_i) # EQ(2) DIM: [Edges, H] | This softmax only calculates it over all neighbourhood nodes\n",
        "        attention = F.dropout(attention, p=self.dropout, training=self.training) # DIM: [Edges, H]\n",
        "\n",
        "        # Multiple attention with node features for all edges\n",
        "        out = x_j * attention.unsqueeze(-1)  # EQ(3.1) [Edges, H, outC] x [Edges, H] = [Edges, H, outC];\n",
        "\n",
        "        return out\n",
        "\n",
        "    def aggregate(self, inputs, index, dim_size = None):\n",
        "        # EQ(3.2) For each node, aggregate messages for all neighbourhood nodes \n",
        "        out = torch_scatter.scatter(inputs, index, dim=self.node_dim, \n",
        "                                    dim_size=dim_size, reduce='sum') # inputs (from message) DIM: [Edges, H, outC] => DIM: [Nodes, H, outC]\n",
        "        return out\n"
      ]
    },
    {
      "attachments": {},
      "cell_type": "markdown",
      "metadata": {
        "id": "wXVrnMs81OlH"
      },
      "source": [
        "### Custom GATv2 model\n",
        "This new model GATv2 introduces a simple modification by modifying the order of operations. \\\\\n",
        "They simply apply \"a\" layer after the non-linearity and the \"W\" layer after the concatenation, effectively applying an MLP to compute the score for each query-key pair. \\\\\n",
        "GAT( Velickovic et al.2018):\n",
        "\\begin{equation}\n",
        "    e(h_i,h_j)=LeakyReLU(a^T \\dot [Wh_i||Wh_j]) \n",
        "\\end{equation}\n",
        "GATv2( fixed version):\n",
        "\\begin{equation}\n",
        "    e(h_i,h_j)=a^T LeakyReLU(W\\dot [h_i||h_j]) \n",
        "\\end{equation}"
      ]
    },
    {
      "cell_type": "code",
      "execution_count": 24,
      "metadata": {
        "id": "oEArZRuo1JEN"
      },
      "outputs": [],
      "source": [
        "class myGATv2(MessagePassing):\n",
        "    def __init__(self, in_channels, out_channels, heads = 1,\n",
        "                 negative_slope = 0.2, dropout = 0., **kwargs):\n",
        "        super(myGATv2, self).__init__(node_dim=0, **kwargs)\n",
        "\n",
        "        self.in_channels = in_channels\n",
        "        self.out_channels = out_channels\n",
        "        self.heads = heads\n",
        "        self.negative_slope = negative_slope\n",
        "        self.dropout = dropout\n",
        "\n",
        "        self.lin_l = None\n",
        "        self.lin_r = None\n",
        "        self.att_l = None\n",
        "        self.att_r = None\n",
        "        self._alpha = None\n",
        "        # self.lin_l is the linear transformation that you apply to embeddings \n",
        "        # BEFORE message passing.\n",
        "        self.lin_l =  Linear(in_channels, heads*out_channels)\n",
        "        self.lin_r = self.lin_l\n",
        "\n",
        "        self.att = Parameter(torch.Tensor(1, heads, out_channels))\n",
        "        self.reset_parameters()\n",
        "\n",
        "    #initialize parameters with xavier uniform\n",
        "    def reset_parameters(self):\n",
        "        nn.init.xavier_uniform_(self.lin_l.weight)\n",
        "        nn.init.xavier_uniform_(self.lin_r.weight)\n",
        "        nn.init.xavier_uniform_(self.att)\n",
        "\n",
        "    def forward(self, x, edge_index, size = None):\n",
        "        \n",
        "        H, C = self.heads, self.out_channels # DIM：H, outC\n",
        "        #Linearly transform node feature matrix.\n",
        "        x_source = self.lin_l(x).view(-1,H,C) # DIM: [Nodex x In] [in x H * outC] => [nodes x H * outC] => [nodes, H, outC]\n",
        "        x_target = self.lin_r(x).view(-1,H,C) # DIM: [Nodex x In] [in x H * outC] => [nodes x H * outC] => [nodes, H, outC]\n",
        "        \n",
        "        #  Start propagating messages (runs message and aggregate)\n",
        "        out= self.propagate(edge_index, x=(x_source,x_target),size=size) # DIM: [nodes, H, outC]\n",
        "        out= out.view(-1, self.heads * self.out_channels)       # DIM: [nodes, H * outC]\n",
        "        alpha = self._alpha\n",
        "        self._alpha = None\n",
        "        return out\n",
        "\n",
        "    #Process a message passing\n",
        "    def message(self, x_j,x_i,  index, ptr, size_i):\n",
        "        #computation using previous equationss\n",
        "        x = x_i + x_j                               \n",
        "        x  = F.leaky_relu(x, self.negative_slope)   # See Equation above: Apply the non-linearty function\n",
        "        alpha = (x * self.att).sum(dim=-1)          # Apply attnention \"a\" layer after the non-linearity \n",
        "        alpha = softmax(alpha, index, ptr, size_i)  # This softmax only calculates it over all neighbourhood nodes\n",
        "        self._alpha = alpha\n",
        "        alpha= F.dropout(alpha,p=self.dropout,training=self.training)\n",
        "        # Multiple attention with node features for all edges\n",
        "        out= x_j*alpha.unsqueeze(-1)  \n",
        "\n",
        "        return out\n",
        "    #Aggregation of messages\n",
        "    def aggregate(self, inputs, index, dim_size = None):\n",
        "        out = torch_scatter.scatter(inputs, index, dim=self.node_dim, \n",
        "                                    dim_size=dim_size, reduce='sum')  \n",
        "        return out"
      ]
    },
    {
      "attachments": {},
      "cell_type": "markdown",
      "metadata": {
        "id": "HMXqyycpt-WF"
      },
      "source": [
        "### GATCustom\n",
        "We use PyG and define two models by using our previous GAT and GATv2. \\\\\n",
        "Each layer consists of running the GAT layer, followed by a relu nonlinearity function and dropout. They can be stacked multiple times with some output layers.We had a linear MLP output layer as a post-processing.\n",
        "\n",
        "\n",
        "\n"
      ]
    },
    {
      "cell_type": "code",
      "execution_count": 25,
      "metadata": {
        "id": "fhmMSdFI1S3_"
      },
      "outputs": [],
      "source": [
        "class GATmodif(torch.nn.Module):\n",
        "    def __init__(self,input_dim, hidden_dim, output_dim,args):\n",
        "        self.args = args\n",
        "        super(GATmodif, self).__init__()\n",
        "        #use our gat message passing \n",
        "        self.conv1 = myGAT(input_dim, hidden_dim,heads=args['heads'])\n",
        "        self.conv2 = myGAT(args['heads']  *hidden_dim, hidden_dim,heads=args['heads']) \n",
        "\n",
        "        self.post_mp = nn.Sequential(\n",
        "            nn.Linear(args['heads'] * hidden_dim, hidden_dim), nn.Dropout(args['dropout'] ), \n",
        "            nn.Linear(hidden_dim, output_dim))\n",
        "        \n",
        "    def forward(self, data, adj=None):\n",
        "        args = self.args\n",
        "        x, edge_index = data.x, data.edge_index\n",
        "        # Layer 1\n",
        "        x = self.conv1(x, edge_index)\n",
        "        x = F.dropout(F.relu(x), p=args['dropout'], training=self.training)\n",
        "\n",
        "        # Layer 2\n",
        "        x = self.conv2(x, edge_index)\n",
        "        x = F.dropout(F.relu(x), p=args['dropout'], training=self.training)\n",
        "\n",
        "        # MLP output\n",
        "        x = self.post_mp(x)\n",
        "        return F.sigmoid(x)\n",
        "\n",
        "class GATv2modif(torch.nn.Module):\n",
        "    def __init__(self,input_dim, hidden_dim, output_dim,args):\n",
        "        super(GATv2modif, self).__init__()\n",
        "        #use our gat message passing \n",
        "        self.conv1 = myGATv2(input_dim, hidden_dim,heads=args['heads']) \n",
        "        self.conv2 = myGATv2(args['heads'] *hidden_dim, hidden_dim,heads=args['heads'])\n",
        "\n",
        "        self.post_mp = nn.Sequential(\n",
        "            nn.Linear(args['heads']  * hidden_dim, hidden_dim), nn.Dropout(args['dropout'] ), \n",
        "            nn.Linear(hidden_dim, output_dim))\n",
        "        \n",
        "    def forward(self, data, adj=None):\n",
        "        args = self.args\n",
        "        x, edge_index = data.x, data.edge_index\n",
        "        # Layer 1\n",
        "        x = self.conv1(x, edge_index)\n",
        "        x = F.dropout(F.relu(x), p=args['dropout'], training=self.training)\n",
        "\n",
        "        # Layer 2\n",
        "        x = self.conv2(x, edge_index)\n",
        "        x = F.dropout(F.relu(x), p=args['dropout'], training=self.training)\n",
        "\n",
        "        # MLP output\n",
        "        x = self.post_mp(x)\n",
        "        return F.sigmoid(x)\n",
        " "
      ]
    },
    {
      "attachments": {},
      "cell_type": "markdown",
      "metadata": {
        "id": "TfB--A58XBPN"
      },
      "source": [
        "Here, we are implementing a custom GAT with 3 layers"
      ]
    },
    {
      "cell_type": "code",
      "execution_count": 26,
      "metadata": {
        "id": "ZCMJglTNJCh6"
      },
      "outputs": [],
      "source": [
        "class GATmodif_3layer(torch.nn.Module):\n",
        "    def __init__(self,input_dim, hidden_dim, output_dim, args):\n",
        "        self.args = args\n",
        "        super(GATmodif_3layer, self).__init__()\n",
        "        #use our gat message passing \n",
        "        self.conv1 = myGAT(input_dim, hidden_dim,heads=args['heads'])\n",
        "        self.conv2 = myGAT(args['heads'] * hidden_dim, hidden_dim,heads=args['heads']) \n",
        "        self.conv3 = myGAT(args['heads'] * hidden_dim, hidden_dim,heads=args['heads']) \n",
        "        \n",
        "        self.post_mp = nn.Sequential(\n",
        "            nn.Linear(args['heads'] * hidden_dim, hidden_dim), nn.Dropout(args['dropout'] ), \n",
        "            nn.Linear(hidden_dim, output_dim))\n",
        "        \n",
        "    def forward(self, data, adj=None):\n",
        "        args = self.args\n",
        "        x, edge_index = data.x, data.edge_index\n",
        "        # Layer 1\n",
        "        x = self.conv1(x, edge_index)\n",
        "        x = F.dropout(F.relu(x), p=args['dropout'], training=self.training)\n",
        "\n",
        "        # Layer 2\n",
        "        x = self.conv2(x, edge_index)\n",
        "        x = F.dropout(F.relu(x), p=args['dropout'], training=self.training)\n",
        "        \n",
        "        # Layer 3\n",
        "        x = self.conv3(x, edge_index)\n",
        "        x = F.dropout(F.relu(x), p=args['dropout'], training=self.training)\n",
        "\n",
        "        # MLP output\n",
        "        x = self.post_mp(x)\n",
        "        return F.sigmoid(x)"
      ]
    },
    {
      "attachments": {},
      "cell_type": "markdown",
      "metadata": {},
      "source": [
        "## Metric manager\n",
        "We can use mutiple metrics, but we are interested on auroc, f1micro score. \\\\\n",
        "Actually 2 types of f1 score can be used:  \\\\\n",
        "-'micro': Calculate metrics globally by counting the total true positives, false negatives and false positives.\n",
        "\n",
        "-'macro':  Calculate metrics for each label, and find their unweighted mean. This does not take label imbalance into account."
      ]
    },
    {
      "cell_type": "code",
      "execution_count": null,
      "metadata": {},
      "outputs": [],
      "source": [
        "class MetricManager(object):\n",
        "  def __init__(self, modes=[\"train\", \"val\"]):\n",
        "\n",
        "    self.output = {}\n",
        "\n",
        "    for mode in modes:\n",
        "      self.output[mode] = {}\n",
        "      self.output[mode][\"accuracy\"] = []\n",
        "      self.output[mode][\"f1micro\"] = []\n",
        "      self.output[mode][\"f1macro\"] = []\n",
        "      self.output[mode][\"aucroc\"] = []\n",
        "      #new\n",
        "      self.output[mode][\"precision\"] = []\n",
        "      self.output[mode][\"recall\"] = []\n",
        "      self.output[mode][\"cm\"] = []\n",
        "\n",
        "  def store_metrics(self, mode, pred_scores, target_labels, threshold=0.5):\n",
        "\n",
        "    # calculate metrics\n",
        "    pred_labels = pred_scores > threshold\n",
        "    accuracy = accuracy_score(target_labels, pred_labels)\n",
        "    f1micro = f1_score(target_labels, pred_labels,average='micro')\n",
        "    f1macro = f1_score(target_labels, pred_labels,average='macro')\n",
        "    aucroc = roc_auc_score(target_labels, pred_scores)\n",
        "    #new\n",
        "    recall = recall_score(target_labels, pred_labels)\n",
        "    precision = precision_score(target_labels, pred_labels)\n",
        "    cm = confusion_matrix(target_labels, pred_labels)\n",
        "\n",
        "    # Collect results\n",
        "    self.output[mode][\"accuracy\"].append(accuracy)\n",
        "    self.output[mode][\"f1micro\"].append(f1micro)\n",
        "    self.output[mode][\"f1macro\"].append(f1macro)\n",
        "    self.output[mode][\"aucroc\"].append(aucroc)\n",
        "    #new\n",
        "    self.output[mode][\"recall\"].append(recall)\n",
        "    self.output[mode][\"precision\"].append(precision)\n",
        "    self.output[mode][\"cm\"].append(cm)\n",
        "    \n",
        "    return accuracy, f1micro,f1macro, aucroc,recall,precision,cm\n",
        "  \n",
        "  # Get best results\n",
        "  def get_best(self, metric, mode=\"val\"):\n",
        "\n",
        "    # Get best results index\n",
        "    best_results = {}\n",
        "    i = np.array(self.output[mode][metric]).argmax()\n",
        "\n",
        "    # Output\n",
        "    for m in self.output[mode].keys():\n",
        "      best_results[m] = self.output[mode][m][i]\n",
        "    \n",
        "    return best_results"
      ]
    },
    {
      "attachments": {},
      "cell_type": "markdown",
      "metadata": {
        "id": "2wEfYY2BR_pZ"
      },
      "source": [
        "# Model training"
      ]
    },
    {
      "attachments": {},
      "cell_type": "markdown",
      "metadata": {
        "id": "9VkbJQMGwm1V"
      },
      "source": [
        "## GNNTrainer object"
      ]
    },
    {
      "cell_type": "code",
      "execution_count": 27,
      "metadata": {
        "id": "AxJ5Gouidfai"
      },
      "outputs": [],
      "source": [
        "class GnnTrainer(object):\n",
        "  \n",
        "  def __init__(self, model):\n",
        "    self.model = model\n",
        "    self.metric_manager = MetricManager(modes=[\"train\", \"val\"])\n",
        "\n",
        "  def train(self, data_train, optimizer, criterion, scheduler, args):\n",
        "  \n",
        "    self.data_train = data_train\n",
        "    for epoch in range(args['epochs']):\n",
        "        self.model.train()\n",
        "        optimizer.zero_grad()\n",
        "        out = self.model(data_train)\n",
        "\n",
        "        out = out.reshape((data_train.x.shape[0]))\n",
        "        loss = criterion(out[data_train.train_idx], data_train.y[data_train.train_idx])\n",
        "        ## Metric calculations\n",
        "        # train data\n",
        "        target_labels = data_train.y.detach().cpu().numpy()[data_train.train_idx]\n",
        "        pred_scores = out.detach().cpu().numpy()[data_train.train_idx]\n",
        "        train_acc, train_f1,train_f1macro, train_aucroc, train_recall, train_precision, train_cm = self.metric_manager.store_metrics(\"train\", pred_scores, target_labels)\n",
        "\n",
        "\n",
        "        ## Training Step\n",
        "        loss.backward()\n",
        "        optimizer.step()\n",
        "\n",
        "        # validation data\n",
        "        self.model.eval()\n",
        "        target_labels = data_train.y.detach().cpu().numpy()[data_train.valid_idx]\n",
        "        pred_scores = out.detach().cpu().numpy()[data_train.valid_idx]\n",
        "        val_acc, val_f1,val_f1macro, val_aucroc, val_recall, val_precision, val_cm = self.metric_manager.store_metrics(\"val\", pred_scores, target_labels)\n",
        "\n",
        "        if epoch%5 == 0:\n",
        "          print(\"epoch: {} - loss: {:.4f} - accuracy train: {:.4f} -accuracy valid: {:.4f}  - val roc: {:.4f}  - val f1micro: {:.4f}\".format(epoch, loss.item(), train_acc, val_acc, val_aucroc,val_f1))\n",
        "\n",
        "  # To predict labels\n",
        "  def predict(self, data=None, unclassified_only=True, threshold=0.5):\n",
        "    # evaluate model:\n",
        "    self.model.eval()\n",
        "    if data is not None:\n",
        "      self.data_train = data\n",
        "\n",
        "    out = self.model(self.data_train)\n",
        "    out = out.reshape((self.data_train.x.shape[0]))\n",
        "\n",
        "    if unclassified_only:\n",
        "      pred_scores = out.detach().cpu().numpy()[self.data_train.test_idx]\n",
        "    else:\n",
        "      pred_scores = out.detach().cpu().numpy()\n",
        "\n",
        "    pred_labels = pred_scores > threshold\n",
        "\n",
        "    return {\"pred_scores\":pred_scores, \"pred_labels\":pred_labels}\n",
        "\n",
        "  # To save metrics\n",
        "  def save_metrics(self, save_name, path=\"./save/\"):\n",
        "    file_to_store = open(path + save_name, \"wb\")\n",
        "    pickle.dump(self.metric_manager, file_to_store)\n",
        "    file_to_store.close()\n",
        "  \n",
        "  # To save model\n",
        "  def save_model(self, save_name, path=\"./save/\"):\n",
        "    torch.save(self.model.state_dict(), path + save_name)"
      ]
    },
    {
      "attachments": {},
      "cell_type": "markdown",
      "metadata": {
        "id": "XLHFsY5IjZyD"
      },
      "source": [
        "## Training and validation\n",
        "We set parameters and choose the model. Set prebuild parameters to True, if you want to use builtin PyG layers, otherwise False to use customs layers."
      ]
    },
    {
      "cell_type": "code",
      "execution_count": 29,
      "metadata": {
        "id": "jvnfhp0Uu3oo"
      },
      "outputs": [],
      "source": [
        "# Set training arguments, set prebuild=True to use builtin PyG models otherwise False\n",
        "args={\"epochs\":100,\n",
        "      'lr':0.01,\n",
        "      'weight_decay':1e-5,\n",
        "      'prebuild':True,\n",
        "      'heads':2,\n",
        "      'hidden_dim': 128, \n",
        "      'dropout': 0.5\n",
        "      }\n",
        "\n",
        "device = torch.device('cuda' if torch.cuda.is_available() else 'cpu')"
      ]
    },
    {
      "cell_type": "code",
      "execution_count": 30,
      "metadata": {
        "colab": {
          "base_uri": "https://localhost:8080/"
        },
        "id": "9C-nE2Q7uvD-",
        "outputId": "df149339-b7e8-4909-fc35-ebdfa50d3329"
      },
      "outputs": [
        {
          "name": "stdout",
          "output_type": "stream",
          "text": [
            "Prebuilt GAT from PyG \n"
          ]
        },
        {
          "data": {
            "text/plain": [
              "GAT(\n",
              "  (conv1): GATConv(165, 128, heads=2)\n",
              "  (conv2): GATConv(256, 128, heads=2)\n",
              "  (post_mp): Sequential(\n",
              "    (0): Linear(in_features=256, out_features=128, bias=True)\n",
              "    (1): Dropout(p=0.5, inplace=False)\n",
              "    (2): Linear(in_features=128, out_features=1, bias=True)\n",
              "  )\n",
              ")"
            ]
          },
          "execution_count": 30,
          "metadata": {},
          "output_type": "execute_result"
        }
      ],
      "source": [
        "# Model selector GAT or GATv2\n",
        "net = \"GAT\"\n",
        "\n",
        "if net == \"GAT\":\n",
        "    if args['prebuild']==True:\n",
        "      model = GAT(data_train.num_node_features, args['hidden_dim'], 1, args)\n",
        "      print(\"Prebuilt GAT from PyG \")\n",
        "    else:\n",
        "      model = GATmodif(data_train.num_node_features, args['hidden_dim'], 1,args)\n",
        "      print(\"Custom GAT implemented\")\n",
        "elif net == \"GATv2\":\n",
        "    # args['heads'] = 1\n",
        "    if args['prebuild']==True:\n",
        "      model = GATv2(data_train.num_node_features, args['hidden_dim'], 1, args) \n",
        "      print(\"Prebuilt GATv2 from PyG \")\n",
        "    else:\n",
        "      model = GATv2modif(data_train.num_node_features,  args['hidden_dim'], 1,args) \n",
        "      print(\"Custom GATv2 implemented\")\n",
        "\n",
        "model.double().to(device)"
      ]
    },
    {
      "cell_type": "code",
      "execution_count": 31,
      "metadata": {
        "colab": {
          "base_uri": "https://localhost:8080/"
        },
        "id": "5GjfF-5ZKTBa",
        "outputId": "f6289470-373a-4fbe-f940-e6c7e58726ca"
      },
      "outputs": [
        {
          "name": "stdout",
          "output_type": "stream",
          "text": [
            "epoch: 0 - loss: 0.6438 - accuracy train: 0.6288 -accuracy valid: 0.6349  - val roc: 0.6288  - val f1micro: 0.6349\n",
            "epoch: 5 - loss: 0.2662 - accuracy train: 0.9025 -accuracy valid: 0.9018  - val roc: 0.8971  - val f1micro: 0.9018\n",
            "epoch: 10 - loss: 0.2206 - accuracy train: 0.9025 -accuracy valid: 0.9018  - val roc: 0.9213  - val f1micro: 0.9018\n",
            "epoch: 15 - loss: 0.1806 - accuracy train: 0.9053 -accuracy valid: 0.9051  - val roc: 0.9466  - val f1micro: 0.9051\n",
            "epoch: 20 - loss: 0.1615 - accuracy train: 0.9156 -accuracy valid: 0.9148  - val roc: 0.9541  - val f1micro: 0.9148\n",
            "epoch: 25 - loss: 0.1506 - accuracy train: 0.9417 -accuracy valid: 0.9402  - val roc: 0.9634  - val f1micro: 0.9402\n",
            "epoch: 30 - loss: 0.1429 - accuracy train: 0.9539 -accuracy valid: 0.9536  - val roc: 0.9689  - val f1micro: 0.9536\n",
            "epoch: 35 - loss: 0.1323 - accuracy train: 0.9625 -accuracy valid: 0.9621  - val roc: 0.9682  - val f1micro: 0.9621\n",
            "epoch: 40 - loss: 0.1241 - accuracy train: 0.9669 -accuracy valid: 0.9679  - val roc: 0.9714  - val f1micro: 0.9679\n",
            "epoch: 45 - loss: 0.1145 - accuracy train: 0.9687 -accuracy valid: 0.9681  - val roc: 0.9749  - val f1micro: 0.9681\n",
            "epoch: 50 - loss: 0.1043 - accuracy train: 0.9686 -accuracy valid: 0.9686  - val roc: 0.9743  - val f1micro: 0.9686\n",
            "epoch: 55 - loss: 0.0954 - accuracy train: 0.9711 -accuracy valid: 0.9684  - val roc: 0.9725  - val f1micro: 0.9684\n",
            "epoch: 60 - loss: 0.0878 - accuracy train: 0.9731 -accuracy valid: 0.9698  - val roc: 0.9731  - val f1micro: 0.9698\n",
            "epoch: 65 - loss: 0.0828 - accuracy train: 0.9748 -accuracy valid: 0.9704  - val roc: 0.9793  - val f1micro: 0.9704\n",
            "epoch: 70 - loss: 0.0781 - accuracy train: 0.9761 -accuracy valid: 0.9727  - val roc: 0.9765  - val f1micro: 0.9727\n",
            "epoch: 75 - loss: 0.0735 - accuracy train: 0.9781 -accuracy valid: 0.9725  - val roc: 0.9785  - val f1micro: 0.9725\n",
            "epoch: 80 - loss: 0.0699 - accuracy train: 0.9791 -accuracy valid: 0.9738  - val roc: 0.9800  - val f1micro: 0.9738\n",
            "epoch: 85 - loss: 0.0668 - accuracy train: 0.9803 -accuracy valid: 0.9738  - val roc: 0.9791  - val f1micro: 0.9738\n",
            "epoch: 90 - loss: 0.0642 - accuracy train: 0.9800 -accuracy valid: 0.9745  - val roc: 0.9803  - val f1micro: 0.9745\n",
            "epoch: 95 - loss: 0.0596 - accuracy train: 0.9813 -accuracy valid: 0.9735  - val roc: 0.9822  - val f1micro: 0.9735\n"
          ]
        }
      ],
      "source": [
        "# Push data to GPU\n",
        "data_train = data_train.to(device)\n",
        "\n",
        "# Setup training settings\n",
        "optimizer = torch.optim.Adam(model.parameters(), lr=args['lr'], weight_decay=args['weight_decay'])\n",
        "scheduler = torch.optim.lr_scheduler.ReduceLROnPlateau(optimizer, 'min')\n",
        "criterion = torch.nn.BCELoss()\n",
        "\n",
        "# Train\n",
        "gnn_trainer_gat = GnnTrainer(model)\n",
        "gnn_trainer_gat.train(data_train, optimizer, criterion, scheduler, args)\n",
        "\n",
        "gnn_trainer_gat.save_metrics(\"GATprebuilt.results\", path=FOLDERNAME + \"/save_results/\")\n",
        "gnn_trainer_gat.save_model(\"GATprebuilt.pth\", path=FOLDERNAME + \"/save_results/\")"
      ]
    },
    {
      "cell_type": "code",
      "execution_count": 32,
      "metadata": {
        "colab": {
          "base_uri": "https://localhost:8080/"
        },
        "id": "c5LFnP-9EcHB",
        "outputId": "1f42c186-5d0c-47a4-cb95-26256317850c"
      },
      "outputs": [
        {
          "name": "stdout",
          "output_type": "stream",
          "text": [
            "epoch: 0 - loss: 0.5663 - accuracy train: 0.7944 -accuracy valid: 0.7980  - val roc: 0.6225  - val f1micro: 0.7980\n",
            "epoch: 5 - loss: 0.2766 - accuracy train: 0.9025 -accuracy valid: 0.9018  - val roc: 0.8937  - val f1micro: 0.9018\n",
            "epoch: 10 - loss: 0.2257 - accuracy train: 0.9025 -accuracy valid: 0.9018  - val roc: 0.9205  - val f1micro: 0.9018\n",
            "epoch: 15 - loss: 0.1792 - accuracy train: 0.9024 -accuracy valid: 0.9018  - val roc: 0.9494  - val f1micro: 0.9018\n",
            "epoch: 20 - loss: 0.1660 - accuracy train: 0.9038 -accuracy valid: 0.9037  - val roc: 0.9584  - val f1micro: 0.9037\n",
            "epoch: 25 - loss: 0.1438 - accuracy train: 0.9333 -accuracy valid: 0.9334  - val roc: 0.9651  - val f1micro: 0.9334\n",
            "epoch: 30 - loss: 0.1267 - accuracy train: 0.9567 -accuracy valid: 0.9589  - val roc: 0.9690  - val f1micro: 0.9589\n",
            "epoch: 35 - loss: 0.1108 - accuracy train: 0.9653 -accuracy valid: 0.9672  - val roc: 0.9704  - val f1micro: 0.9672\n",
            "epoch: 40 - loss: 0.0963 - accuracy train: 0.9698 -accuracy valid: 0.9705  - val roc: 0.9748  - val f1micro: 0.9705\n",
            "epoch: 45 - loss: 0.0874 - accuracy train: 0.9726 -accuracy valid: 0.9712  - val roc: 0.9760  - val f1micro: 0.9712\n",
            "epoch: 50 - loss: 0.0805 - accuracy train: 0.9759 -accuracy valid: 0.9745  - val roc: 0.9777  - val f1micro: 0.9745\n",
            "epoch: 55 - loss: 0.0744 - accuracy train: 0.9776 -accuracy valid: 0.9765  - val roc: 0.9801  - val f1micro: 0.9765\n",
            "epoch: 60 - loss: 0.0707 - accuracy train: 0.9790 -accuracy valid: 0.9767  - val roc: 0.9781  - val f1micro: 0.9767\n",
            "epoch: 65 - loss: 0.0666 - accuracy train: 0.9806 -accuracy valid: 0.9778  - val roc: 0.9829  - val f1micro: 0.9778\n",
            "epoch: 70 - loss: 0.0618 - accuracy train: 0.9815 -accuracy valid: 0.9764  - val roc: 0.9805  - val f1micro: 0.9764\n",
            "epoch: 75 - loss: 0.0584 - accuracy train: 0.9829 -accuracy valid: 0.9777  - val roc: 0.9823  - val f1micro: 0.9777\n",
            "epoch: 80 - loss: 0.0530 - accuracy train: 0.9841 -accuracy valid: 0.9772  - val roc: 0.9821  - val f1micro: 0.9772\n",
            "epoch: 85 - loss: 0.0505 - accuracy train: 0.9844 -accuracy valid: 0.9781  - val roc: 0.9825  - val f1micro: 0.9781\n",
            "epoch: 90 - loss: 0.0461 - accuracy train: 0.9844 -accuracy valid: 0.9765  - val roc: 0.9839  - val f1micro: 0.9765\n",
            "epoch: 95 - loss: 0.0449 - accuracy train: 0.9854 -accuracy valid: 0.9770  - val roc: 0.9803  - val f1micro: 0.9770\n"
          ]
        }
      ],
      "source": [
        "#here we run GATv2 model\n",
        "model = GATv2(data_train.num_node_features, args['hidden_dim'], 1, args)\n",
        "model.double().to(device)\n",
        "# Push data to GPU\n",
        "data_train = data_train.to(device)\n",
        "\n",
        "# Setup training settings\n",
        "optimizer = torch.optim.Adam(model.parameters(), lr=args['lr'], weight_decay=args['weight_decay'])\n",
        "scheduler = torch.optim.lr_scheduler.ReduceLROnPlateau(optimizer, 'min')\n",
        "criterion = torch.nn.BCELoss()\n",
        "# Train\n",
        "gnn_trainer_gatv2 = GnnTrainer(model)\n",
        "gnn_trainer_gatv2.train(data_train, optimizer, criterion, scheduler, args)\n",
        "\n",
        "gnn_trainer_gatv2.save_metrics(\"GATv2prebuilt.results\", path=FOLDERNAME + \"/save_results/\")\n",
        "gnn_trainer_gatv2.save_model(\"GATv2prebuilt.pth\", path=FOLDERNAME + \"/save_results/\")"
      ]
    },
    {
      "cell_type": "code",
      "execution_count": 33,
      "metadata": {
        "colab": {
          "base_uri": "https://localhost:8080/"
        },
        "id": "A1WEGLlYUuQs",
        "outputId": "10ee68a9-95b2-40d8-bf16-eb397871f52f"
      },
      "outputs": [
        {
          "name": "stdout",
          "output_type": "stream",
          "text": [
            "epoch: 0 - loss: 0.7555 - accuracy train: 0.4213 -accuracy valid: 0.4178  - val roc: 0.5012  - val f1micro: 0.4178\n",
            "epoch: 5 - loss: 0.4498 - accuracy train: 0.9025 -accuracy valid: 0.9018  - val roc: 0.5659  - val f1micro: 0.9018\n",
            "epoch: 10 - loss: 0.3825 - accuracy train: 0.9025 -accuracy valid: 0.9018  - val roc: 0.5931  - val f1micro: 0.9018\n",
            "epoch: 15 - loss: 0.3501 - accuracy train: 0.9024 -accuracy valid: 0.9016  - val roc: 0.6090  - val f1micro: 0.9016\n",
            "epoch: 20 - loss: 0.3249 - accuracy train: 0.9024 -accuracy valid: 0.9015  - val roc: 0.6375  - val f1micro: 0.9015\n",
            "epoch: 25 - loss: 0.3064 - accuracy train: 0.9023 -accuracy valid: 0.9018  - val roc: 0.6411  - val f1micro: 0.9018\n",
            "epoch: 30 - loss: 0.2979 - accuracy train: 0.9025 -accuracy valid: 0.9015  - val roc: 0.6645  - val f1micro: 0.9015\n",
            "epoch: 35 - loss: 0.2890 - accuracy train: 0.9037 -accuracy valid: 0.9037  - val roc: 0.7022  - val f1micro: 0.9037\n",
            "epoch: 40 - loss: 0.2756 - accuracy train: 0.9064 -accuracy valid: 0.9059  - val roc: 0.7207  - val f1micro: 0.9059\n",
            "epoch: 45 - loss: 0.2697 - accuracy train: 0.9079 -accuracy valid: 0.9069  - val roc: 0.7168  - val f1micro: 0.9069\n",
            "epoch: 50 - loss: 0.2640 - accuracy train: 0.9113 -accuracy valid: 0.9097  - val roc: 0.7379  - val f1micro: 0.9097\n",
            "epoch: 55 - loss: 0.2585 - accuracy train: 0.9133 -accuracy valid: 0.9095  - val roc: 0.7559  - val f1micro: 0.9095\n",
            "epoch: 60 - loss: 0.2539 - accuracy train: 0.9154 -accuracy valid: 0.9160  - val roc: 0.7601  - val f1micro: 0.9160\n",
            "epoch: 65 - loss: 0.2485 - accuracy train: 0.9176 -accuracy valid: 0.9147  - val roc: 0.7631  - val f1micro: 0.9147\n",
            "epoch: 70 - loss: 0.2458 - accuracy train: 0.9187 -accuracy valid: 0.9147  - val roc: 0.7736  - val f1micro: 0.9147\n",
            "epoch: 75 - loss: 0.2449 - accuracy train: 0.9200 -accuracy valid: 0.9164  - val roc: 0.7717  - val f1micro: 0.9164\n",
            "epoch: 80 - loss: 0.2441 - accuracy train: 0.9199 -accuracy valid: 0.9168  - val roc: 0.7706  - val f1micro: 0.9168\n",
            "epoch: 85 - loss: 0.2403 - accuracy train: 0.9220 -accuracy valid: 0.9167  - val roc: 0.7764  - val f1micro: 0.9167\n",
            "epoch: 90 - loss: 0.2382 - accuracy train: 0.9222 -accuracy valid: 0.9162  - val roc: 0.7763  - val f1micro: 0.9162\n",
            "epoch: 95 - loss: 0.2369 - accuracy train: 0.9233 -accuracy valid: 0.9164  - val roc: 0.7744  - val f1micro: 0.9164\n"
          ]
        }
      ],
      "source": [
        "#here we run GATmodif model\n",
        "model = GATmodif(data_train.num_node_features, args['hidden_dim'], 1, args)\n",
        "model.double().to(device)\n",
        "# Push data to GPU\n",
        "data_train = data_train.to(device)\n",
        "\n",
        "# Setup training settings\n",
        "optimizer = torch.optim.Adam(model.parameters(), lr=args['lr'], weight_decay=args['weight_decay'])\n",
        "scheduler = torch.optim.lr_scheduler.ReduceLROnPlateau(optimizer, 'min')\n",
        "criterion = torch.nn.BCELoss()\n",
        "# Train\n",
        "gnn_trainer_gatmodif = GnnTrainer(model)\n",
        "gnn_trainer_gatmodif.train(data_train, optimizer, criterion, scheduler, args)\n",
        "\n",
        "gnn_trainer_gatmodif.save_metrics(\"GATmodif.results\", path=FOLDERNAME + \"/save_results/\")\n",
        "gnn_trainer_gatmodif.save_model(\"GATmodif.pth\", path=FOLDERNAME + \"/save_results/\")"
      ]
    },
    {
      "cell_type": "code",
      "execution_count": null,
      "metadata": {},
      "outputs": [],
      "source": [
        "def zip_result():\n",
        "    if is_colab():\n",
        "        !zip -r '/content/drive/MyDrive/data science project/save_results' save_results\n",
        "    else:\n",
        "        !zip -r save_results.zip save_results\n",
        "zip_result()"
      ]
    },
    {
      "attachments": {},
      "cell_type": "markdown",
      "metadata": {
        "id": "uGSHiN3TMEz4"
      },
      "source": [
        "You can also run our custom models GATmodif and GATv2modif by setting in args, prebuild=False or run with GATmodif_3layer: \\\\\n",
        "```model = GATmodif_3layer(data_train.num_node_features, args['hidden_dim'], 1, args) ``` \\\\\n",
        "After training few models, you can load your saved outputs. Here we load the outputs of GAT and GATv2 from builtin PyG."
      ]
    },
    {
      "cell_type": "code",
      "execution_count": 34,
      "metadata": {
        "colab": {
          "base_uri": "https://localhost:8080/"
        },
        "id": "0nOsnV_Sf_Bf",
        "outputId": "c15ae8c8-ac58-4521-ccc3-72acc542715b"
      },
      "outputs": [
        {
          "data": {
            "text/plain": [
              "{'accuracy': 0.9792412312097352,\n",
              " 'f1micro': 0.9792412312097352,\n",
              " 'f1macro': 0.9386356375522937,\n",
              " 'aucroc': 0.9854893900045217,\n",
              " 'precision': 0.9384116693679092,\n",
              " 'recall': 0.8440233236151603,\n",
              " 'cm': array([[6261,   38],\n",
              "        [ 107,  579]])}"
            ]
          },
          "execution_count": 34,
          "metadata": {},
          "output_type": "execute_result"
        }
      ],
      "source": [
        "# Fetch results from saved\n",
        "fn=\"GATprebuilt.results\"\n",
        "mmGATprebuilt = pickle.load(open(FOLDERNAME + \"/save_results/\" + fn, \"rb\"))\n",
        "mmGATprebuilt.get_best(\"aucroc\")\n",
        "\n",
        "fn=\"GATv2prebuilt.results\"\n",
        "mmGATv2prebuilt = pickle.load(open(FOLDERNAME + \"/save_results/\" + fn, \"rb\"))\n",
        "mmGATv2prebuilt.get_best(\"aucroc\")\n"
      ]
    },
    {
      "attachments": {},
      "cell_type": "markdown",
      "metadata": {
        "id": "bwzY1wDUuUOS"
      },
      "source": [
        "# Performance visualization\n",
        "Then we can compare the performance of our models by plotting the results with a selected metric.\n"
      ]
    },
    {
      "cell_type": "code",
      "execution_count": 35,
      "metadata": {
        "id": "PWdh8k4Nnvpa"
      },
      "outputs": [],
      "source": [
        "import plotly.express as px\n",
        "import plotly.graph_objects as go\n",
        "\n",
        "# Validation accuracy comparisons\n",
        "def plot_training_comp(metric_manager_list, names, metric=\"aucroc\", version=\"val\",title=\"Val set accuracy comparison\"):\n",
        "\n",
        "  fig = go.Figure()\n",
        "  fig = fig.update_layout(title=title,\n",
        "                          xaxis_title=\"Epoch\",\n",
        "                          yaxis_title=metric)\n",
        "\n",
        "  for i, metric_manager in enumerate(metric_manager_list):\n",
        "    epochs = np.arange(len(metric_manager.output[version][metric]))\n",
        "    fig.add_trace(go.Scatter(x=epochs,\n",
        "                             y=metric_manager.output[version][metric],\n",
        "                             name=names[i]))\n",
        "  fig.show()\n",
        "\n",
        "# Load saved outputs\n",
        "def load_results(fn):\n",
        "  mm1 = pickle.load(open(FOLDERNAME + \"/save_results/\" + fn, \"rb\"))\n",
        "  return mm1\n"
      ]
    },
    {
      "cell_type": "code",
      "execution_count": 36,
      "metadata": {
        "colab": {
          "base_uri": "https://localhost:8080/",
          "height": 1000
        },
        "id": "wvWLlUWoVOe0",
        "outputId": "9e7256e3-6c67-446b-cf48-740fab327c43"
      },
      "outputs": [
        {
          "data": {
            "text/html": [
              "<html>\n",
              "<head><meta charset=\"utf-8\" /></head>\n",
              "<body>\n",
              "    <div>            <script src=\"https://cdnjs.cloudflare.com/ajax/libs/mathjax/2.7.5/MathJax.js?config=TeX-AMS-MML_SVG\"></script><script type=\"text/javascript\">if (window.MathJax && window.MathJax.Hub && window.MathJax.Hub.Config) {window.MathJax.Hub.Config({SVG: {font: \"STIX-Web\"}});}</script>                <script type=\"text/javascript\">window.PlotlyConfig = {MathJaxConfig: 'local'};</script>\n",
              "        <script src=\"https://cdn.plot.ly/plotly-2.18.2.min.js\"></script>                <div id=\"7d8547e3-af9b-473a-8bb8-0229ab7e965f\" class=\"plotly-graph-div\" style=\"height:525px; width:100%;\"></div>            <script type=\"text/javascript\">                                    window.PLOTLYENV=window.PLOTLYENV || {};                                    if (document.getElementById(\"7d8547e3-af9b-473a-8bb8-0229ab7e965f\")) {                    Plotly.newPlot(                        \"7d8547e3-af9b-473a-8bb8-0229ab7e965f\",                        [{\"name\":\"GAT\",\"x\":[0,1,2,3,4,5,6,7,8,9,10,11,12,13,14,15,16,17,18,19,20,21,22,23,24,25,26,27,28,29,30,31,32,33,34,35,36,37,38,39,40,41,42,43,44,45,46,47,48,49,50,51,52,53,54,55,56,57,58,59,60,61,62,63,64,65,66,67,68,69,70,71,72,73,74,75,76,77,78,79,80,81,82,83,84,85,86,87,88,89,90,91,92,93,94,95,96,97,98,99],\"y\":[0.6349319971367215,0.9017895490336435,0.9017895490336435,0.9017895490336435,0.9017895490336435,0.9017895490336435,0.9017895490336435,0.9017895490336435,0.9017895490336435,0.9017895490336435,0.9017895490336435,0.901932712956335,0.9020758768790265,0.901932712956335,0.9033643521832498,0.9050823192555476,0.9047959914101646,0.905511811023622,0.9072297780959199,0.9102362204724409,0.9148174659985684,0.9201145311381532,0.9285612025769506,0.9347172512526845,0.9367215461703651,0.9401574803149606,0.941159627773801,0.945311381531854,0.9460272011453114,0.9470293486041518,0.9536148890479599,0.9559055118110236,0.956907659269864,0.9617752326413743,0.9600572655690766,0.9620615604867573,0.9622047244094488,0.9639226914817466,0.9644953471725125,0.9669291338582677,0.967931281317108,0.9669291338582677,0.9672154617036507,0.9670722977809592,0.9660701503221188,0.9680744452397996,0.9709377236936292,0.9676449534717251,0.9666428060128848,0.9667859699355762,0.9686471009305655,0.9672154617036507,0.9680744452397996,0.968503937007874,0.9675017895490337,0.9683607730851825,0.9705082319255548,0.9697924123120973,0.9702219040801718,0.9700787401574803,0.9697924123120973,0.9715103793843951,0.972369362920544,0.972369362920544,0.9705082319255548,0.9703650680028633,0.9712240515390121,0.9748031496062992,0.9738010021474588,0.9717967072297781,0.972655690765927,0.9722261989978526,0.9716535433070866,0.972369362920544,0.9743736578382246,0.9725125268432355,0.9749463135289907,0.973228346456693,0.972655690765927,0.9729420186113099,0.9738010021474588,0.9738010021474588,0.9719398711524696,0.9749463135289907,0.9738010021474588,0.9738010021474588,0.9743736578382246,0.9758052970651396,0.973228346456693,0.9745168217609163,0.9745168217609163,0.9742304939155333,0.9736578382247674,0.976234788833214,0.9746599856836077,0.9735146743020758,0.9743736578382246,0.9753758052970651,0.9759484609878311,0.9735146743020758],\"type\":\"scatter\"},{\"name\":\"GATv2\",\"x\":[0,1,2,3,4,5,6,7,8,9,10,11,12,13,14,15,16,17,18,19,20,21,22,23,24,25,26,27,28,29,30,31,32,33,34,35,36,37,38,39,40,41,42,43,44,45,46,47,48,49,50,51,52,53,54,55,56,57,58,59,60,61,62,63,64,65,66,67,68,69,70,71,72,73,74,75,76,77,78,79,80,81,82,83,84,85,86,87,88,89,90,91,92,93,94,95,96,97,98,99],\"y\":[0.7979957050823192,0.9017895490336435,0.9017895490336435,0.9017895490336435,0.9017895490336435,0.9017895490336435,0.9017895490336435,0.9017895490336435,0.9017895490336435,0.9017895490336435,0.9017895490336435,0.9017895490336435,0.9017895490336435,0.9017895490336435,0.9017895490336435,0.9017895490336435,0.9017895490336435,0.901932712956335,0.9017895490336435,0.9022190408017179,0.9036506800286328,0.9062276306370795,0.9103793843951324,0.9191123836793128,0.9258410880458124,0.933428775948461,0.9447387258410881,0.9474588403722262,0.9543307086614173,0.9553328561202576,0.9589119541875447,0.9602004294917681,0.9660701503221188,0.9624910522548318,0.9639226914817466,0.9672154617036507,0.968217609162491,0.9692197566213314,0.9686471009305655,0.9705082319255548,0.9705082319255548,0.9692197566213314,0.9705082319255548,0.9705082319255548,0.9700787401574803,0.9712240515390121,0.9733715103793844,0.9739441660701503,0.972369362920544,0.9730851825340013,0.9745168217609163,0.9745168217609163,0.9748031496062992,0.9746599856836077,0.9772369362920544,0.976521116678597,0.9769506084466715,0.9769506084466715,0.9763779527559056,0.9780959198282033,0.9766642806012885,0.9782390837508947,0.9758052970651396,0.9778095919828204,0.9748031496062992,0.9778095919828204,0.9778095919828204,0.9770937723693629,0.9778095919828204,0.9773801002147459,0.9763779527559056,0.9775232641374374,0.9775232641374374,0.9758052970651396,0.9778095919828204,0.9776664280601288,0.9766642806012885,0.9772369362920544,0.9775232641374374,0.9768074445239799,0.9772369362920544,0.9779527559055118,0.9783822476735863,0.9778095919828204,0.9783822476735863,0.9780959198282033,0.9792412312097352,0.9766642806012885,0.9786685755189692,0.9770937723693629,0.976521116678597,0.976234788833214,0.9775232641374374,0.9756621331424481,0.9772369362920544,0.9769506084466715,0.9792412312097352,0.9758052970651396,0.9790980672870436,0.9776664280601288],\"type\":\"scatter\"}],                        {\"template\":{\"data\":{\"histogram2dcontour\":[{\"type\":\"histogram2dcontour\",\"colorbar\":{\"outlinewidth\":0,\"ticks\":\"\"},\"colorscale\":[[0.0,\"#0d0887\"],[0.1111111111111111,\"#46039f\"],[0.2222222222222222,\"#7201a8\"],[0.3333333333333333,\"#9c179e\"],[0.4444444444444444,\"#bd3786\"],[0.5555555555555556,\"#d8576b\"],[0.6666666666666666,\"#ed7953\"],[0.7777777777777778,\"#fb9f3a\"],[0.8888888888888888,\"#fdca26\"],[1.0,\"#f0f921\"]]}],\"choropleth\":[{\"type\":\"choropleth\",\"colorbar\":{\"outlinewidth\":0,\"ticks\":\"\"}}],\"histogram2d\":[{\"type\":\"histogram2d\",\"colorbar\":{\"outlinewidth\":0,\"ticks\":\"\"},\"colorscale\":[[0.0,\"#0d0887\"],[0.1111111111111111,\"#46039f\"],[0.2222222222222222,\"#7201a8\"],[0.3333333333333333,\"#9c179e\"],[0.4444444444444444,\"#bd3786\"],[0.5555555555555556,\"#d8576b\"],[0.6666666666666666,\"#ed7953\"],[0.7777777777777778,\"#fb9f3a\"],[0.8888888888888888,\"#fdca26\"],[1.0,\"#f0f921\"]]}],\"heatmap\":[{\"type\":\"heatmap\",\"colorbar\":{\"outlinewidth\":0,\"ticks\":\"\"},\"colorscale\":[[0.0,\"#0d0887\"],[0.1111111111111111,\"#46039f\"],[0.2222222222222222,\"#7201a8\"],[0.3333333333333333,\"#9c179e\"],[0.4444444444444444,\"#bd3786\"],[0.5555555555555556,\"#d8576b\"],[0.6666666666666666,\"#ed7953\"],[0.7777777777777778,\"#fb9f3a\"],[0.8888888888888888,\"#fdca26\"],[1.0,\"#f0f921\"]]}],\"heatmapgl\":[{\"type\":\"heatmapgl\",\"colorbar\":{\"outlinewidth\":0,\"ticks\":\"\"},\"colorscale\":[[0.0,\"#0d0887\"],[0.1111111111111111,\"#46039f\"],[0.2222222222222222,\"#7201a8\"],[0.3333333333333333,\"#9c179e\"],[0.4444444444444444,\"#bd3786\"],[0.5555555555555556,\"#d8576b\"],[0.6666666666666666,\"#ed7953\"],[0.7777777777777778,\"#fb9f3a\"],[0.8888888888888888,\"#fdca26\"],[1.0,\"#f0f921\"]]}],\"contourcarpet\":[{\"type\":\"contourcarpet\",\"colorbar\":{\"outlinewidth\":0,\"ticks\":\"\"}}],\"contour\":[{\"type\":\"contour\",\"colorbar\":{\"outlinewidth\":0,\"ticks\":\"\"},\"colorscale\":[[0.0,\"#0d0887\"],[0.1111111111111111,\"#46039f\"],[0.2222222222222222,\"#7201a8\"],[0.3333333333333333,\"#9c179e\"],[0.4444444444444444,\"#bd3786\"],[0.5555555555555556,\"#d8576b\"],[0.6666666666666666,\"#ed7953\"],[0.7777777777777778,\"#fb9f3a\"],[0.8888888888888888,\"#fdca26\"],[1.0,\"#f0f921\"]]}],\"surface\":[{\"type\":\"surface\",\"colorbar\":{\"outlinewidth\":0,\"ticks\":\"\"},\"colorscale\":[[0.0,\"#0d0887\"],[0.1111111111111111,\"#46039f\"],[0.2222222222222222,\"#7201a8\"],[0.3333333333333333,\"#9c179e\"],[0.4444444444444444,\"#bd3786\"],[0.5555555555555556,\"#d8576b\"],[0.6666666666666666,\"#ed7953\"],[0.7777777777777778,\"#fb9f3a\"],[0.8888888888888888,\"#fdca26\"],[1.0,\"#f0f921\"]]}],\"mesh3d\":[{\"type\":\"mesh3d\",\"colorbar\":{\"outlinewidth\":0,\"ticks\":\"\"}}],\"scatter\":[{\"fillpattern\":{\"fillmode\":\"overlay\",\"size\":10,\"solidity\":0.2},\"type\":\"scatter\"}],\"parcoords\":[{\"type\":\"parcoords\",\"line\":{\"colorbar\":{\"outlinewidth\":0,\"ticks\":\"\"}}}],\"scatterpolargl\":[{\"type\":\"scatterpolargl\",\"marker\":{\"colorbar\":{\"outlinewidth\":0,\"ticks\":\"\"}}}],\"bar\":[{\"error_x\":{\"color\":\"#2a3f5f\"},\"error_y\":{\"color\":\"#2a3f5f\"},\"marker\":{\"line\":{\"color\":\"#E5ECF6\",\"width\":0.5},\"pattern\":{\"fillmode\":\"overlay\",\"size\":10,\"solidity\":0.2}},\"type\":\"bar\"}],\"scattergeo\":[{\"type\":\"scattergeo\",\"marker\":{\"colorbar\":{\"outlinewidth\":0,\"ticks\":\"\"}}}],\"scatterpolar\":[{\"type\":\"scatterpolar\",\"marker\":{\"colorbar\":{\"outlinewidth\":0,\"ticks\":\"\"}}}],\"histogram\":[{\"marker\":{\"pattern\":{\"fillmode\":\"overlay\",\"size\":10,\"solidity\":0.2}},\"type\":\"histogram\"}],\"scattergl\":[{\"type\":\"scattergl\",\"marker\":{\"colorbar\":{\"outlinewidth\":0,\"ticks\":\"\"}}}],\"scatter3d\":[{\"type\":\"scatter3d\",\"line\":{\"colorbar\":{\"outlinewidth\":0,\"ticks\":\"\"}},\"marker\":{\"colorbar\":{\"outlinewidth\":0,\"ticks\":\"\"}}}],\"scattermapbox\":[{\"type\":\"scattermapbox\",\"marker\":{\"colorbar\":{\"outlinewidth\":0,\"ticks\":\"\"}}}],\"scatterternary\":[{\"type\":\"scatterternary\",\"marker\":{\"colorbar\":{\"outlinewidth\":0,\"ticks\":\"\"}}}],\"scattercarpet\":[{\"type\":\"scattercarpet\",\"marker\":{\"colorbar\":{\"outlinewidth\":0,\"ticks\":\"\"}}}],\"carpet\":[{\"aaxis\":{\"endlinecolor\":\"#2a3f5f\",\"gridcolor\":\"white\",\"linecolor\":\"white\",\"minorgridcolor\":\"white\",\"startlinecolor\":\"#2a3f5f\"},\"baxis\":{\"endlinecolor\":\"#2a3f5f\",\"gridcolor\":\"white\",\"linecolor\":\"white\",\"minorgridcolor\":\"white\",\"startlinecolor\":\"#2a3f5f\"},\"type\":\"carpet\"}],\"table\":[{\"cells\":{\"fill\":{\"color\":\"#EBF0F8\"},\"line\":{\"color\":\"white\"}},\"header\":{\"fill\":{\"color\":\"#C8D4E3\"},\"line\":{\"color\":\"white\"}},\"type\":\"table\"}],\"barpolar\":[{\"marker\":{\"line\":{\"color\":\"#E5ECF6\",\"width\":0.5},\"pattern\":{\"fillmode\":\"overlay\",\"size\":10,\"solidity\":0.2}},\"type\":\"barpolar\"}],\"pie\":[{\"automargin\":true,\"type\":\"pie\"}]},\"layout\":{\"autotypenumbers\":\"strict\",\"colorway\":[\"#636efa\",\"#EF553B\",\"#00cc96\",\"#ab63fa\",\"#FFA15A\",\"#19d3f3\",\"#FF6692\",\"#B6E880\",\"#FF97FF\",\"#FECB52\"],\"font\":{\"color\":\"#2a3f5f\"},\"hovermode\":\"closest\",\"hoverlabel\":{\"align\":\"left\"},\"paper_bgcolor\":\"white\",\"plot_bgcolor\":\"#E5ECF6\",\"polar\":{\"bgcolor\":\"#E5ECF6\",\"angularaxis\":{\"gridcolor\":\"white\",\"linecolor\":\"white\",\"ticks\":\"\"},\"radialaxis\":{\"gridcolor\":\"white\",\"linecolor\":\"white\",\"ticks\":\"\"}},\"ternary\":{\"bgcolor\":\"#E5ECF6\",\"aaxis\":{\"gridcolor\":\"white\",\"linecolor\":\"white\",\"ticks\":\"\"},\"baxis\":{\"gridcolor\":\"white\",\"linecolor\":\"white\",\"ticks\":\"\"},\"caxis\":{\"gridcolor\":\"white\",\"linecolor\":\"white\",\"ticks\":\"\"}},\"coloraxis\":{\"colorbar\":{\"outlinewidth\":0,\"ticks\":\"\"}},\"colorscale\":{\"sequential\":[[0.0,\"#0d0887\"],[0.1111111111111111,\"#46039f\"],[0.2222222222222222,\"#7201a8\"],[0.3333333333333333,\"#9c179e\"],[0.4444444444444444,\"#bd3786\"],[0.5555555555555556,\"#d8576b\"],[0.6666666666666666,\"#ed7953\"],[0.7777777777777778,\"#fb9f3a\"],[0.8888888888888888,\"#fdca26\"],[1.0,\"#f0f921\"]],\"sequentialminus\":[[0.0,\"#0d0887\"],[0.1111111111111111,\"#46039f\"],[0.2222222222222222,\"#7201a8\"],[0.3333333333333333,\"#9c179e\"],[0.4444444444444444,\"#bd3786\"],[0.5555555555555556,\"#d8576b\"],[0.6666666666666666,\"#ed7953\"],[0.7777777777777778,\"#fb9f3a\"],[0.8888888888888888,\"#fdca26\"],[1.0,\"#f0f921\"]],\"diverging\":[[0,\"#8e0152\"],[0.1,\"#c51b7d\"],[0.2,\"#de77ae\"],[0.3,\"#f1b6da\"],[0.4,\"#fde0ef\"],[0.5,\"#f7f7f7\"],[0.6,\"#e6f5d0\"],[0.7,\"#b8e186\"],[0.8,\"#7fbc41\"],[0.9,\"#4d9221\"],[1,\"#276419\"]]},\"xaxis\":{\"gridcolor\":\"white\",\"linecolor\":\"white\",\"ticks\":\"\",\"title\":{\"standoff\":15},\"zerolinecolor\":\"white\",\"automargin\":true,\"zerolinewidth\":2},\"yaxis\":{\"gridcolor\":\"white\",\"linecolor\":\"white\",\"ticks\":\"\",\"title\":{\"standoff\":15},\"zerolinecolor\":\"white\",\"automargin\":true,\"zerolinewidth\":2},\"scene\":{\"xaxis\":{\"backgroundcolor\":\"#E5ECF6\",\"gridcolor\":\"white\",\"linecolor\":\"white\",\"showbackground\":true,\"ticks\":\"\",\"zerolinecolor\":\"white\",\"gridwidth\":2},\"yaxis\":{\"backgroundcolor\":\"#E5ECF6\",\"gridcolor\":\"white\",\"linecolor\":\"white\",\"showbackground\":true,\"ticks\":\"\",\"zerolinecolor\":\"white\",\"gridwidth\":2},\"zaxis\":{\"backgroundcolor\":\"#E5ECF6\",\"gridcolor\":\"white\",\"linecolor\":\"white\",\"showbackground\":true,\"ticks\":\"\",\"zerolinecolor\":\"white\",\"gridwidth\":2}},\"shapedefaults\":{\"line\":{\"color\":\"#2a3f5f\"}},\"annotationdefaults\":{\"arrowcolor\":\"#2a3f5f\",\"arrowhead\":0,\"arrowwidth\":1},\"geo\":{\"bgcolor\":\"white\",\"landcolor\":\"#E5ECF6\",\"subunitcolor\":\"white\",\"showland\":true,\"showlakes\":true,\"lakecolor\":\"white\"},\"title\":{\"x\":0.05},\"mapbox\":{\"style\":\"light\"}}},\"title\":{\"text\":\"Val set f1micro, heads=2\"},\"xaxis\":{\"title\":{\"text\":\"Epoch\"}},\"yaxis\":{\"title\":{\"text\":\"f1micro\"}}},                        {\"responsive\": true}                    ).then(function(){\n",
              "                            \n",
              "var gd = document.getElementById('7d8547e3-af9b-473a-8bb8-0229ab7e965f');\n",
              "var x = new MutationObserver(function (mutations, observer) {{\n",
              "        var display = window.getComputedStyle(gd).display;\n",
              "        if (!display || display === 'none') {{\n",
              "            console.log([gd, 'removed!']);\n",
              "            Plotly.purge(gd);\n",
              "            observer.disconnect();\n",
              "        }}\n",
              "}});\n",
              "\n",
              "// Listen for the removal of the full notebook cells\n",
              "var notebookContainer = gd.closest('#notebook-container');\n",
              "if (notebookContainer) {{\n",
              "    x.observe(notebookContainer, {childList: true});\n",
              "}}\n",
              "\n",
              "// Listen for the clearing of the current output cell\n",
              "var outputEl = gd.closest('.output');\n",
              "if (outputEl) {{\n",
              "    x.observe(outputEl, {childList: true});\n",
              "}}\n",
              "\n",
              "                        })                };                            </script>        </div>\n",
              "</body>\n",
              "</html>"
            ]
          },
          "metadata": {},
          "output_type": "display_data"
        },
        {
          "data": {
            "text/html": [
              "<html>\n",
              "<head><meta charset=\"utf-8\" /></head>\n",
              "<body>\n",
              "    <div>            <script src=\"https://cdnjs.cloudflare.com/ajax/libs/mathjax/2.7.5/MathJax.js?config=TeX-AMS-MML_SVG\"></script><script type=\"text/javascript\">if (window.MathJax && window.MathJax.Hub && window.MathJax.Hub.Config) {window.MathJax.Hub.Config({SVG: {font: \"STIX-Web\"}});}</script>                <script type=\"text/javascript\">window.PlotlyConfig = {MathJaxConfig: 'local'};</script>\n",
              "        <script src=\"https://cdn.plot.ly/plotly-2.18.2.min.js\"></script>                <div id=\"4872043b-9f24-45fd-9927-b5a0586aa123\" class=\"plotly-graph-div\" style=\"height:525px; width:100%;\"></div>            <script type=\"text/javascript\">                                    window.PLOTLYENV=window.PLOTLYENV || {};                                    if (document.getElementById(\"4872043b-9f24-45fd-9927-b5a0586aa123\")) {                    Plotly.newPlot(                        \"4872043b-9f24-45fd-9927-b5a0586aa123\",                        [{\"name\":\"GAT\",\"x\":[0,1,2,3,4,5,6,7,8,9,10,11,12,13,14,15,16,17,18,19,20,21,22,23,24,25,26,27,28,29,30,31,32,33,34,35,36,37,38,39,40,41,42,43,44,45,46,47,48,49,50,51,52,53,54,55,56,57,58,59,60,61,62,63,64,65,66,67,68,69,70,71,72,73,74,75,76,77,78,79,80,81,82,83,84,85,86,87,88,89,90,91,92,93,94,95,96,97,98,99],\"y\":[0.6349319971367215,0.9017895490336435,0.9017895490336435,0.9017895490336435,0.9017895490336435,0.9017895490336435,0.9017895490336435,0.9017895490336435,0.9017895490336435,0.9017895490336435,0.9017895490336435,0.901932712956335,0.9020758768790265,0.901932712956335,0.9033643521832498,0.9050823192555476,0.9047959914101646,0.905511811023622,0.9072297780959199,0.9102362204724409,0.9148174659985684,0.9201145311381532,0.9285612025769506,0.9347172512526843,0.9367215461703651,0.9401574803149606,0.941159627773801,0.945311381531854,0.9460272011453114,0.9470293486041518,0.9536148890479599,0.9559055118110236,0.956907659269864,0.9617752326413743,0.9600572655690766,0.9620615604867573,0.9622047244094488,0.9639226914817466,0.9644953471725125,0.9669291338582677,0.967931281317108,0.9669291338582677,0.9672154617036507,0.9670722977809592,0.9660701503221188,0.9680744452397996,0.9709377236936292,0.9676449534717251,0.9666428060128848,0.9667859699355762,0.9686471009305655,0.9672154617036507,0.9680744452397996,0.968503937007874,0.9675017895490337,0.9683607730851825,0.9705082319255548,0.9697924123120973,0.9702219040801718,0.9700787401574803,0.9697924123120973,0.9715103793843951,0.972369362920544,0.972369362920544,0.9705082319255548,0.9703650680028633,0.9712240515390121,0.9748031496062992,0.9738010021474588,0.9717967072297781,0.972655690765927,0.9722261989978526,0.9716535433070866,0.972369362920544,0.9743736578382247,0.9725125268432355,0.9749463135289907,0.9732283464566929,0.972655690765927,0.9729420186113099,0.9738010021474588,0.9738010021474588,0.9719398711524696,0.9749463135289907,0.9738010021474588,0.9738010021474588,0.9743736578382247,0.9758052970651396,0.9732283464566929,0.9745168217609163,0.9745168217609163,0.9742304939155333,0.9736578382247674,0.976234788833214,0.9746599856836077,0.9735146743020758,0.9743736578382247,0.9753758052970651,0.9759484609878311,0.9735146743020758],\"type\":\"scatter\"},{\"name\":\"GATv2\",\"x\":[0,1,2,3,4,5,6,7,8,9,10,11,12,13,14,15,16,17,18,19,20,21,22,23,24,25,26,27,28,29,30,31,32,33,34,35,36,37,38,39,40,41,42,43,44,45,46,47,48,49,50,51,52,53,54,55,56,57,58,59,60,61,62,63,64,65,66,67,68,69,70,71,72,73,74,75,76,77,78,79,80,81,82,83,84,85,86,87,88,89,90,91,92,93,94,95,96,97,98,99],\"y\":[0.7979957050823192,0.9017895490336435,0.9017895490336435,0.9017895490336435,0.9017895490336435,0.9017895490336435,0.9017895490336435,0.9017895490336435,0.9017895490336435,0.9017895490336435,0.9017895490336435,0.9017895490336435,0.9017895490336435,0.9017895490336435,0.9017895490336435,0.9017895490336435,0.9017895490336435,0.901932712956335,0.9017895490336435,0.902219040801718,0.9036506800286328,0.9062276306370795,0.9103793843951324,0.9191123836793128,0.9258410880458124,0.933428775948461,0.9447387258410881,0.9474588403722262,0.9543307086614173,0.9553328561202576,0.9589119541875447,0.9602004294917681,0.9660701503221188,0.9624910522548318,0.9639226914817466,0.9672154617036507,0.968217609162491,0.9692197566213314,0.9686471009305655,0.9705082319255548,0.9705082319255548,0.9692197566213314,0.9705082319255548,0.9705082319255548,0.9700787401574803,0.9712240515390121,0.9733715103793844,0.9739441660701503,0.972369362920544,0.9730851825340014,0.9745168217609163,0.9745168217609163,0.9748031496062992,0.9746599856836077,0.9772369362920544,0.976521116678597,0.9769506084466715,0.9769506084466715,0.9763779527559056,0.9780959198282033,0.9766642806012885,0.9782390837508947,0.9758052970651396,0.9778095919828204,0.9748031496062992,0.9778095919828204,0.9778095919828204,0.9770937723693629,0.9778095919828204,0.9773801002147459,0.9763779527559056,0.9775232641374374,0.9775232641374374,0.9758052970651396,0.9778095919828204,0.9776664280601288,0.9766642806012885,0.9772369362920544,0.9775232641374374,0.9768074445239799,0.9772369362920544,0.9779527559055118,0.9783822476735863,0.9778095919828204,0.9783822476735863,0.9780959198282033,0.9792412312097352,0.9766642806012885,0.9786685755189692,0.9770937723693629,0.976521116678597,0.976234788833214,0.9775232641374374,0.9756621331424481,0.9772369362920544,0.9769506084466715,0.9792412312097352,0.9758052970651396,0.9790980672870436,0.9776664280601288],\"type\":\"scatter\"}],                        {\"template\":{\"data\":{\"histogram2dcontour\":[{\"type\":\"histogram2dcontour\",\"colorbar\":{\"outlinewidth\":0,\"ticks\":\"\"},\"colorscale\":[[0.0,\"#0d0887\"],[0.1111111111111111,\"#46039f\"],[0.2222222222222222,\"#7201a8\"],[0.3333333333333333,\"#9c179e\"],[0.4444444444444444,\"#bd3786\"],[0.5555555555555556,\"#d8576b\"],[0.6666666666666666,\"#ed7953\"],[0.7777777777777778,\"#fb9f3a\"],[0.8888888888888888,\"#fdca26\"],[1.0,\"#f0f921\"]]}],\"choropleth\":[{\"type\":\"choropleth\",\"colorbar\":{\"outlinewidth\":0,\"ticks\":\"\"}}],\"histogram2d\":[{\"type\":\"histogram2d\",\"colorbar\":{\"outlinewidth\":0,\"ticks\":\"\"},\"colorscale\":[[0.0,\"#0d0887\"],[0.1111111111111111,\"#46039f\"],[0.2222222222222222,\"#7201a8\"],[0.3333333333333333,\"#9c179e\"],[0.4444444444444444,\"#bd3786\"],[0.5555555555555556,\"#d8576b\"],[0.6666666666666666,\"#ed7953\"],[0.7777777777777778,\"#fb9f3a\"],[0.8888888888888888,\"#fdca26\"],[1.0,\"#f0f921\"]]}],\"heatmap\":[{\"type\":\"heatmap\",\"colorbar\":{\"outlinewidth\":0,\"ticks\":\"\"},\"colorscale\":[[0.0,\"#0d0887\"],[0.1111111111111111,\"#46039f\"],[0.2222222222222222,\"#7201a8\"],[0.3333333333333333,\"#9c179e\"],[0.4444444444444444,\"#bd3786\"],[0.5555555555555556,\"#d8576b\"],[0.6666666666666666,\"#ed7953\"],[0.7777777777777778,\"#fb9f3a\"],[0.8888888888888888,\"#fdca26\"],[1.0,\"#f0f921\"]]}],\"heatmapgl\":[{\"type\":\"heatmapgl\",\"colorbar\":{\"outlinewidth\":0,\"ticks\":\"\"},\"colorscale\":[[0.0,\"#0d0887\"],[0.1111111111111111,\"#46039f\"],[0.2222222222222222,\"#7201a8\"],[0.3333333333333333,\"#9c179e\"],[0.4444444444444444,\"#bd3786\"],[0.5555555555555556,\"#d8576b\"],[0.6666666666666666,\"#ed7953\"],[0.7777777777777778,\"#fb9f3a\"],[0.8888888888888888,\"#fdca26\"],[1.0,\"#f0f921\"]]}],\"contourcarpet\":[{\"type\":\"contourcarpet\",\"colorbar\":{\"outlinewidth\":0,\"ticks\":\"\"}}],\"contour\":[{\"type\":\"contour\",\"colorbar\":{\"outlinewidth\":0,\"ticks\":\"\"},\"colorscale\":[[0.0,\"#0d0887\"],[0.1111111111111111,\"#46039f\"],[0.2222222222222222,\"#7201a8\"],[0.3333333333333333,\"#9c179e\"],[0.4444444444444444,\"#bd3786\"],[0.5555555555555556,\"#d8576b\"],[0.6666666666666666,\"#ed7953\"],[0.7777777777777778,\"#fb9f3a\"],[0.8888888888888888,\"#fdca26\"],[1.0,\"#f0f921\"]]}],\"surface\":[{\"type\":\"surface\",\"colorbar\":{\"outlinewidth\":0,\"ticks\":\"\"},\"colorscale\":[[0.0,\"#0d0887\"],[0.1111111111111111,\"#46039f\"],[0.2222222222222222,\"#7201a8\"],[0.3333333333333333,\"#9c179e\"],[0.4444444444444444,\"#bd3786\"],[0.5555555555555556,\"#d8576b\"],[0.6666666666666666,\"#ed7953\"],[0.7777777777777778,\"#fb9f3a\"],[0.8888888888888888,\"#fdca26\"],[1.0,\"#f0f921\"]]}],\"mesh3d\":[{\"type\":\"mesh3d\",\"colorbar\":{\"outlinewidth\":0,\"ticks\":\"\"}}],\"scatter\":[{\"fillpattern\":{\"fillmode\":\"overlay\",\"size\":10,\"solidity\":0.2},\"type\":\"scatter\"}],\"parcoords\":[{\"type\":\"parcoords\",\"line\":{\"colorbar\":{\"outlinewidth\":0,\"ticks\":\"\"}}}],\"scatterpolargl\":[{\"type\":\"scatterpolargl\",\"marker\":{\"colorbar\":{\"outlinewidth\":0,\"ticks\":\"\"}}}],\"bar\":[{\"error_x\":{\"color\":\"#2a3f5f\"},\"error_y\":{\"color\":\"#2a3f5f\"},\"marker\":{\"line\":{\"color\":\"#E5ECF6\",\"width\":0.5},\"pattern\":{\"fillmode\":\"overlay\",\"size\":10,\"solidity\":0.2}},\"type\":\"bar\"}],\"scattergeo\":[{\"type\":\"scattergeo\",\"marker\":{\"colorbar\":{\"outlinewidth\":0,\"ticks\":\"\"}}}],\"scatterpolar\":[{\"type\":\"scatterpolar\",\"marker\":{\"colorbar\":{\"outlinewidth\":0,\"ticks\":\"\"}}}],\"histogram\":[{\"marker\":{\"pattern\":{\"fillmode\":\"overlay\",\"size\":10,\"solidity\":0.2}},\"type\":\"histogram\"}],\"scattergl\":[{\"type\":\"scattergl\",\"marker\":{\"colorbar\":{\"outlinewidth\":0,\"ticks\":\"\"}}}],\"scatter3d\":[{\"type\":\"scatter3d\",\"line\":{\"colorbar\":{\"outlinewidth\":0,\"ticks\":\"\"}},\"marker\":{\"colorbar\":{\"outlinewidth\":0,\"ticks\":\"\"}}}],\"scattermapbox\":[{\"type\":\"scattermapbox\",\"marker\":{\"colorbar\":{\"outlinewidth\":0,\"ticks\":\"\"}}}],\"scatterternary\":[{\"type\":\"scatterternary\",\"marker\":{\"colorbar\":{\"outlinewidth\":0,\"ticks\":\"\"}}}],\"scattercarpet\":[{\"type\":\"scattercarpet\",\"marker\":{\"colorbar\":{\"outlinewidth\":0,\"ticks\":\"\"}}}],\"carpet\":[{\"aaxis\":{\"endlinecolor\":\"#2a3f5f\",\"gridcolor\":\"white\",\"linecolor\":\"white\",\"minorgridcolor\":\"white\",\"startlinecolor\":\"#2a3f5f\"},\"baxis\":{\"endlinecolor\":\"#2a3f5f\",\"gridcolor\":\"white\",\"linecolor\":\"white\",\"minorgridcolor\":\"white\",\"startlinecolor\":\"#2a3f5f\"},\"type\":\"carpet\"}],\"table\":[{\"cells\":{\"fill\":{\"color\":\"#EBF0F8\"},\"line\":{\"color\":\"white\"}},\"header\":{\"fill\":{\"color\":\"#C8D4E3\"},\"line\":{\"color\":\"white\"}},\"type\":\"table\"}],\"barpolar\":[{\"marker\":{\"line\":{\"color\":\"#E5ECF6\",\"width\":0.5},\"pattern\":{\"fillmode\":\"overlay\",\"size\":10,\"solidity\":0.2}},\"type\":\"barpolar\"}],\"pie\":[{\"automargin\":true,\"type\":\"pie\"}]},\"layout\":{\"autotypenumbers\":\"strict\",\"colorway\":[\"#636efa\",\"#EF553B\",\"#00cc96\",\"#ab63fa\",\"#FFA15A\",\"#19d3f3\",\"#FF6692\",\"#B6E880\",\"#FF97FF\",\"#FECB52\"],\"font\":{\"color\":\"#2a3f5f\"},\"hovermode\":\"closest\",\"hoverlabel\":{\"align\":\"left\"},\"paper_bgcolor\":\"white\",\"plot_bgcolor\":\"#E5ECF6\",\"polar\":{\"bgcolor\":\"#E5ECF6\",\"angularaxis\":{\"gridcolor\":\"white\",\"linecolor\":\"white\",\"ticks\":\"\"},\"radialaxis\":{\"gridcolor\":\"white\",\"linecolor\":\"white\",\"ticks\":\"\"}},\"ternary\":{\"bgcolor\":\"#E5ECF6\",\"aaxis\":{\"gridcolor\":\"white\",\"linecolor\":\"white\",\"ticks\":\"\"},\"baxis\":{\"gridcolor\":\"white\",\"linecolor\":\"white\",\"ticks\":\"\"},\"caxis\":{\"gridcolor\":\"white\",\"linecolor\":\"white\",\"ticks\":\"\"}},\"coloraxis\":{\"colorbar\":{\"outlinewidth\":0,\"ticks\":\"\"}},\"colorscale\":{\"sequential\":[[0.0,\"#0d0887\"],[0.1111111111111111,\"#46039f\"],[0.2222222222222222,\"#7201a8\"],[0.3333333333333333,\"#9c179e\"],[0.4444444444444444,\"#bd3786\"],[0.5555555555555556,\"#d8576b\"],[0.6666666666666666,\"#ed7953\"],[0.7777777777777778,\"#fb9f3a\"],[0.8888888888888888,\"#fdca26\"],[1.0,\"#f0f921\"]],\"sequentialminus\":[[0.0,\"#0d0887\"],[0.1111111111111111,\"#46039f\"],[0.2222222222222222,\"#7201a8\"],[0.3333333333333333,\"#9c179e\"],[0.4444444444444444,\"#bd3786\"],[0.5555555555555556,\"#d8576b\"],[0.6666666666666666,\"#ed7953\"],[0.7777777777777778,\"#fb9f3a\"],[0.8888888888888888,\"#fdca26\"],[1.0,\"#f0f921\"]],\"diverging\":[[0,\"#8e0152\"],[0.1,\"#c51b7d\"],[0.2,\"#de77ae\"],[0.3,\"#f1b6da\"],[0.4,\"#fde0ef\"],[0.5,\"#f7f7f7\"],[0.6,\"#e6f5d0\"],[0.7,\"#b8e186\"],[0.8,\"#7fbc41\"],[0.9,\"#4d9221\"],[1,\"#276419\"]]},\"xaxis\":{\"gridcolor\":\"white\",\"linecolor\":\"white\",\"ticks\":\"\",\"title\":{\"standoff\":15},\"zerolinecolor\":\"white\",\"automargin\":true,\"zerolinewidth\":2},\"yaxis\":{\"gridcolor\":\"white\",\"linecolor\":\"white\",\"ticks\":\"\",\"title\":{\"standoff\":15},\"zerolinecolor\":\"white\",\"automargin\":true,\"zerolinewidth\":2},\"scene\":{\"xaxis\":{\"backgroundcolor\":\"#E5ECF6\",\"gridcolor\":\"white\",\"linecolor\":\"white\",\"showbackground\":true,\"ticks\":\"\",\"zerolinecolor\":\"white\",\"gridwidth\":2},\"yaxis\":{\"backgroundcolor\":\"#E5ECF6\",\"gridcolor\":\"white\",\"linecolor\":\"white\",\"showbackground\":true,\"ticks\":\"\",\"zerolinecolor\":\"white\",\"gridwidth\":2},\"zaxis\":{\"backgroundcolor\":\"#E5ECF6\",\"gridcolor\":\"white\",\"linecolor\":\"white\",\"showbackground\":true,\"ticks\":\"\",\"zerolinecolor\":\"white\",\"gridwidth\":2}},\"shapedefaults\":{\"line\":{\"color\":\"#2a3f5f\"}},\"annotationdefaults\":{\"arrowcolor\":\"#2a3f5f\",\"arrowhead\":0,\"arrowwidth\":1},\"geo\":{\"bgcolor\":\"white\",\"landcolor\":\"#E5ECF6\",\"subunitcolor\":\"white\",\"showland\":true,\"showlakes\":true,\"lakecolor\":\"white\"},\"title\":{\"x\":0.05},\"mapbox\":{\"style\":\"light\"}}},\"title\":{\"text\":\"Val set accuracy ,heads=2\"},\"xaxis\":{\"title\":{\"text\":\"Epoch\"}},\"yaxis\":{\"title\":{\"text\":\"accuracy\"}}},                        {\"responsive\": true}                    ).then(function(){\n",
              "                            \n",
              "var gd = document.getElementById('4872043b-9f24-45fd-9927-b5a0586aa123');\n",
              "var x = new MutationObserver(function (mutations, observer) {{\n",
              "        var display = window.getComputedStyle(gd).display;\n",
              "        if (!display || display === 'none') {{\n",
              "            console.log([gd, 'removed!']);\n",
              "            Plotly.purge(gd);\n",
              "            observer.disconnect();\n",
              "        }}\n",
              "}});\n",
              "\n",
              "// Listen for the removal of the full notebook cells\n",
              "var notebookContainer = gd.closest('#notebook-container');\n",
              "if (notebookContainer) {{\n",
              "    x.observe(notebookContainer, {childList: true});\n",
              "}}\n",
              "\n",
              "// Listen for the clearing of the current output cell\n",
              "var outputEl = gd.closest('.output');\n",
              "if (outputEl) {{\n",
              "    x.observe(outputEl, {childList: true});\n",
              "}}\n",
              "\n",
              "                        })                };                            </script>        </div>\n",
              "</body>\n",
              "</html>"
            ]
          },
          "metadata": {},
          "output_type": "display_data"
        },
        {
          "data": {
            "text/html": [
              "<html>\n",
              "<head><meta charset=\"utf-8\" /></head>\n",
              "<body>\n",
              "    <div>            <script src=\"https://cdnjs.cloudflare.com/ajax/libs/mathjax/2.7.5/MathJax.js?config=TeX-AMS-MML_SVG\"></script><script type=\"text/javascript\">if (window.MathJax && window.MathJax.Hub && window.MathJax.Hub.Config) {window.MathJax.Hub.Config({SVG: {font: \"STIX-Web\"}});}</script>                <script type=\"text/javascript\">window.PlotlyConfig = {MathJaxConfig: 'local'};</script>\n",
              "        <script src=\"https://cdn.plot.ly/plotly-2.18.2.min.js\"></script>                <div id=\"e3398a28-83cb-43e1-9110-012524b8f0f3\" class=\"plotly-graph-div\" style=\"height:525px; width:100%;\"></div>            <script type=\"text/javascript\">                                    window.PLOTLYENV=window.PLOTLYENV || {};                                    if (document.getElementById(\"e3398a28-83cb-43e1-9110-012524b8f0f3\")) {                    Plotly.newPlot(                        \"e3398a28-83cb-43e1-9110-012524b8f0f3\",                        [{\"name\":\"GAT\",\"x\":[0,1,2,3,4,5,6,7,8,9,10,11,12,13,14,15,16,17,18,19,20,21,22,23,24,25,26,27,28,29,30,31,32,33,34,35,36,37,38,39,40,41,42,43,44,45,46,47,48,49,50,51,52,53,54,55,56,57,58,59,60,61,62,63,64,65,66,67,68,69,70,71,72,73,74,75,76,77,78,79,80,81,82,83,84,85,86,87,88,89,90,91,92,93,94,95,96,97,98,99],\"y\":[0.4885363572710407,0.4741794640168624,0.4741794640168624,0.4741794640168624,0.4741794640168624,0.4741794640168624,0.4741794640168624,0.4741794640168624,0.4741794640168624,0.4741794640168624,0.4741794640168624,0.4756707663131378,0.4771578425776449,0.4756707663131378,0.4903543628174304,0.5126436992082317,0.50727149851986,0.5142080012948552,0.5292551000796244,0.55884072768195,0.5994152686534321,0.6450253660647737,0.7033813529241213,0.7414790583395234,0.7523267425540066,0.7740515012106388,0.7772156501847214,0.7998026740295013,0.8025994390300709,0.8091566131965015,0.8401398601398602,0.851001156320452,0.85613714425849,0.8751768694957621,0.870373899378913,0.878008723280004,0.8776267212848436,0.8859931604445711,0.8884697953944698,0.8975580228993962,0.901878004227303,0.8990293700827166,0.8988875298908112,0.900954823735282,0.8965550467598595,0.9034935812424812,0.912888227195205,0.9045533322562951,0.9024667535503941,0.9014777007361753,0.905625351310303,0.9029529675012129,0.9069055242173656,0.9064442710555488,0.9029968476934974,0.904494328843259,0.9119093085421603,0.9103336575838202,0.9109297762135762,0.9096801571413625,0.9094552509270356,0.9156665525447221,0.9185461671615447,0.9169466162971931,0.9125189928950521,0.9114198897373225,0.9147012973378683,0.9248428826449515,0.9214706678656281,0.9158166475577929,0.9184941964148527,0.9175008572035295,0.9154482429755704,0.9176407325029665,0.9228627300664121,0.9194651378301995,0.9261428976853385,0.9207519865621259,0.9186074298528353,0.920014727568162,0.922977890568355,0.9228723951471436,0.9173367590280727,0.9252178341249431,0.9237073345419549,0.9237073345419549,0.9242467525645557,0.9284787775609493,0.920861132567441,0.9248251908921261,0.9241998777765477,0.9243955977347904,0.923753697700058,0.9310275292662035,0.9250931575638344,0.9217075375667195,0.9254756184576255,0.9276570972179938,0.9289508940896792,0.9229775944953112],\"type\":\"scatter\"},{\"name\":\"GATv2\",\"x\":[0,1,2,3,4,5,6,7,8,9,10,11,12,13,14,15,16,17,18,19,20,21,22,23,24,25,26,27,28,29,30,31,32,33,34,35,36,37,38,39,40,41,42,43,44,45,46,47,48,49,50,51,52,53,54,55,56,57,58,59,60,61,62,63,64,65,66,67,68,69,70,71,72,73,74,75,76,77,78,79,80,81,82,83,84,85,86,87,88,89,90,91,92,93,94,95,96,97,98,99],\"y\":[0.4788875882597372,0.4741794640168624,0.4741794640168624,0.4741794640168624,0.4741794640168624,0.4741794640168624,0.4741794640168624,0.4741794640168624,0.4741794640168624,0.4741794640168624,0.4741794640168624,0.4741794640168624,0.4741794640168624,0.4741794640168624,0.4741794640168624,0.4741794640168624,0.4741794640168624,0.47711403689087795,0.4741794640168624,0.47864071123572216,0.49461160799860754,0.5185243182223103,0.5589904185577408,0.6352558290074631,0.6852283158888873,0.7371494972577733,0.796248821871862,0.8128350640374012,0.8470444081007844,0.852179339347487,0.865407399932633,0.8742305500142491,0.8941237597822056,0.8850670504484851,0.8897711935987112,0.8999035746707449,0.9030327990226927,0.9058880482787686,0.9035827934697127,0.9091089058377588,0.908976848435898,0.9057526542729784,0.9107874015748032,0.9097628074590377,0.9086456205510292,0.9125185269233653,0.9194488188976377,0.9211811023622047,0.9160003765980571,0.9190413341836219,0.9239888244931895,0.9237764431058489,0.9246328875653338,0.9243631808006567,0.9315777823381022,0.929475719070134,0.9309113526030935,0.9311043586845842,0.9291948644690089,0.9344361810956597,0.9305393249529432,0.9348191127855516,0.9274783763349244,0.9340400417323493,0.9249473869802984,0.9346733401519521,0.9335791377112893,0.9319594698585808,0.9338565468288073,0.9324352949012686,0.929881770148485,0.9332814418988614,0.9333736501594295,0.9283801375882313,0.934313143941869,0.9335684322086597,0.9310179925587854,0.9323378492609262,0.933648559323444,0.9312042565485361,0.9325249068493586,0.9348716529155393,0.9363591894383533,0.9342223934695004,0.9359198800896423,0.935692395064073,0.9393856569584571,0.9316757722230093,0.9377135371504146,0.9323341848473137,0.9309274869457207,0.9301806868499242,0.9338304155087516,0.9288866930171278,0.9332616242997478,0.9323299059170964,0.9386356375522937,0.9285771116284206,0.9388432113152023,0.9353563958761361],\"type\":\"scatter\"}],                        {\"template\":{\"data\":{\"histogram2dcontour\":[{\"type\":\"histogram2dcontour\",\"colorbar\":{\"outlinewidth\":0,\"ticks\":\"\"},\"colorscale\":[[0.0,\"#0d0887\"],[0.1111111111111111,\"#46039f\"],[0.2222222222222222,\"#7201a8\"],[0.3333333333333333,\"#9c179e\"],[0.4444444444444444,\"#bd3786\"],[0.5555555555555556,\"#d8576b\"],[0.6666666666666666,\"#ed7953\"],[0.7777777777777778,\"#fb9f3a\"],[0.8888888888888888,\"#fdca26\"],[1.0,\"#f0f921\"]]}],\"choropleth\":[{\"type\":\"choropleth\",\"colorbar\":{\"outlinewidth\":0,\"ticks\":\"\"}}],\"histogram2d\":[{\"type\":\"histogram2d\",\"colorbar\":{\"outlinewidth\":0,\"ticks\":\"\"},\"colorscale\":[[0.0,\"#0d0887\"],[0.1111111111111111,\"#46039f\"],[0.2222222222222222,\"#7201a8\"],[0.3333333333333333,\"#9c179e\"],[0.4444444444444444,\"#bd3786\"],[0.5555555555555556,\"#d8576b\"],[0.6666666666666666,\"#ed7953\"],[0.7777777777777778,\"#fb9f3a\"],[0.8888888888888888,\"#fdca26\"],[1.0,\"#f0f921\"]]}],\"heatmap\":[{\"type\":\"heatmap\",\"colorbar\":{\"outlinewidth\":0,\"ticks\":\"\"},\"colorscale\":[[0.0,\"#0d0887\"],[0.1111111111111111,\"#46039f\"],[0.2222222222222222,\"#7201a8\"],[0.3333333333333333,\"#9c179e\"],[0.4444444444444444,\"#bd3786\"],[0.5555555555555556,\"#d8576b\"],[0.6666666666666666,\"#ed7953\"],[0.7777777777777778,\"#fb9f3a\"],[0.8888888888888888,\"#fdca26\"],[1.0,\"#f0f921\"]]}],\"heatmapgl\":[{\"type\":\"heatmapgl\",\"colorbar\":{\"outlinewidth\":0,\"ticks\":\"\"},\"colorscale\":[[0.0,\"#0d0887\"],[0.1111111111111111,\"#46039f\"],[0.2222222222222222,\"#7201a8\"],[0.3333333333333333,\"#9c179e\"],[0.4444444444444444,\"#bd3786\"],[0.5555555555555556,\"#d8576b\"],[0.6666666666666666,\"#ed7953\"],[0.7777777777777778,\"#fb9f3a\"],[0.8888888888888888,\"#fdca26\"],[1.0,\"#f0f921\"]]}],\"contourcarpet\":[{\"type\":\"contourcarpet\",\"colorbar\":{\"outlinewidth\":0,\"ticks\":\"\"}}],\"contour\":[{\"type\":\"contour\",\"colorbar\":{\"outlinewidth\":0,\"ticks\":\"\"},\"colorscale\":[[0.0,\"#0d0887\"],[0.1111111111111111,\"#46039f\"],[0.2222222222222222,\"#7201a8\"],[0.3333333333333333,\"#9c179e\"],[0.4444444444444444,\"#bd3786\"],[0.5555555555555556,\"#d8576b\"],[0.6666666666666666,\"#ed7953\"],[0.7777777777777778,\"#fb9f3a\"],[0.8888888888888888,\"#fdca26\"],[1.0,\"#f0f921\"]]}],\"surface\":[{\"type\":\"surface\",\"colorbar\":{\"outlinewidth\":0,\"ticks\":\"\"},\"colorscale\":[[0.0,\"#0d0887\"],[0.1111111111111111,\"#46039f\"],[0.2222222222222222,\"#7201a8\"],[0.3333333333333333,\"#9c179e\"],[0.4444444444444444,\"#bd3786\"],[0.5555555555555556,\"#d8576b\"],[0.6666666666666666,\"#ed7953\"],[0.7777777777777778,\"#fb9f3a\"],[0.8888888888888888,\"#fdca26\"],[1.0,\"#f0f921\"]]}],\"mesh3d\":[{\"type\":\"mesh3d\",\"colorbar\":{\"outlinewidth\":0,\"ticks\":\"\"}}],\"scatter\":[{\"fillpattern\":{\"fillmode\":\"overlay\",\"size\":10,\"solidity\":0.2},\"type\":\"scatter\"}],\"parcoords\":[{\"type\":\"parcoords\",\"line\":{\"colorbar\":{\"outlinewidth\":0,\"ticks\":\"\"}}}],\"scatterpolargl\":[{\"type\":\"scatterpolargl\",\"marker\":{\"colorbar\":{\"outlinewidth\":0,\"ticks\":\"\"}}}],\"bar\":[{\"error_x\":{\"color\":\"#2a3f5f\"},\"error_y\":{\"color\":\"#2a3f5f\"},\"marker\":{\"line\":{\"color\":\"#E5ECF6\",\"width\":0.5},\"pattern\":{\"fillmode\":\"overlay\",\"size\":10,\"solidity\":0.2}},\"type\":\"bar\"}],\"scattergeo\":[{\"type\":\"scattergeo\",\"marker\":{\"colorbar\":{\"outlinewidth\":0,\"ticks\":\"\"}}}],\"scatterpolar\":[{\"type\":\"scatterpolar\",\"marker\":{\"colorbar\":{\"outlinewidth\":0,\"ticks\":\"\"}}}],\"histogram\":[{\"marker\":{\"pattern\":{\"fillmode\":\"overlay\",\"size\":10,\"solidity\":0.2}},\"type\":\"histogram\"}],\"scattergl\":[{\"type\":\"scattergl\",\"marker\":{\"colorbar\":{\"outlinewidth\":0,\"ticks\":\"\"}}}],\"scatter3d\":[{\"type\":\"scatter3d\",\"line\":{\"colorbar\":{\"outlinewidth\":0,\"ticks\":\"\"}},\"marker\":{\"colorbar\":{\"outlinewidth\":0,\"ticks\":\"\"}}}],\"scattermapbox\":[{\"type\":\"scattermapbox\",\"marker\":{\"colorbar\":{\"outlinewidth\":0,\"ticks\":\"\"}}}],\"scatterternary\":[{\"type\":\"scatterternary\",\"marker\":{\"colorbar\":{\"outlinewidth\":0,\"ticks\":\"\"}}}],\"scattercarpet\":[{\"type\":\"scattercarpet\",\"marker\":{\"colorbar\":{\"outlinewidth\":0,\"ticks\":\"\"}}}],\"carpet\":[{\"aaxis\":{\"endlinecolor\":\"#2a3f5f\",\"gridcolor\":\"white\",\"linecolor\":\"white\",\"minorgridcolor\":\"white\",\"startlinecolor\":\"#2a3f5f\"},\"baxis\":{\"endlinecolor\":\"#2a3f5f\",\"gridcolor\":\"white\",\"linecolor\":\"white\",\"minorgridcolor\":\"white\",\"startlinecolor\":\"#2a3f5f\"},\"type\":\"carpet\"}],\"table\":[{\"cells\":{\"fill\":{\"color\":\"#EBF0F8\"},\"line\":{\"color\":\"white\"}},\"header\":{\"fill\":{\"color\":\"#C8D4E3\"},\"line\":{\"color\":\"white\"}},\"type\":\"table\"}],\"barpolar\":[{\"marker\":{\"line\":{\"color\":\"#E5ECF6\",\"width\":0.5},\"pattern\":{\"fillmode\":\"overlay\",\"size\":10,\"solidity\":0.2}},\"type\":\"barpolar\"}],\"pie\":[{\"automargin\":true,\"type\":\"pie\"}]},\"layout\":{\"autotypenumbers\":\"strict\",\"colorway\":[\"#636efa\",\"#EF553B\",\"#00cc96\",\"#ab63fa\",\"#FFA15A\",\"#19d3f3\",\"#FF6692\",\"#B6E880\",\"#FF97FF\",\"#FECB52\"],\"font\":{\"color\":\"#2a3f5f\"},\"hovermode\":\"closest\",\"hoverlabel\":{\"align\":\"left\"},\"paper_bgcolor\":\"white\",\"plot_bgcolor\":\"#E5ECF6\",\"polar\":{\"bgcolor\":\"#E5ECF6\",\"angularaxis\":{\"gridcolor\":\"white\",\"linecolor\":\"white\",\"ticks\":\"\"},\"radialaxis\":{\"gridcolor\":\"white\",\"linecolor\":\"white\",\"ticks\":\"\"}},\"ternary\":{\"bgcolor\":\"#E5ECF6\",\"aaxis\":{\"gridcolor\":\"white\",\"linecolor\":\"white\",\"ticks\":\"\"},\"baxis\":{\"gridcolor\":\"white\",\"linecolor\":\"white\",\"ticks\":\"\"},\"caxis\":{\"gridcolor\":\"white\",\"linecolor\":\"white\",\"ticks\":\"\"}},\"coloraxis\":{\"colorbar\":{\"outlinewidth\":0,\"ticks\":\"\"}},\"colorscale\":{\"sequential\":[[0.0,\"#0d0887\"],[0.1111111111111111,\"#46039f\"],[0.2222222222222222,\"#7201a8\"],[0.3333333333333333,\"#9c179e\"],[0.4444444444444444,\"#bd3786\"],[0.5555555555555556,\"#d8576b\"],[0.6666666666666666,\"#ed7953\"],[0.7777777777777778,\"#fb9f3a\"],[0.8888888888888888,\"#fdca26\"],[1.0,\"#f0f921\"]],\"sequentialminus\":[[0.0,\"#0d0887\"],[0.1111111111111111,\"#46039f\"],[0.2222222222222222,\"#7201a8\"],[0.3333333333333333,\"#9c179e\"],[0.4444444444444444,\"#bd3786\"],[0.5555555555555556,\"#d8576b\"],[0.6666666666666666,\"#ed7953\"],[0.7777777777777778,\"#fb9f3a\"],[0.8888888888888888,\"#fdca26\"],[1.0,\"#f0f921\"]],\"diverging\":[[0,\"#8e0152\"],[0.1,\"#c51b7d\"],[0.2,\"#de77ae\"],[0.3,\"#f1b6da\"],[0.4,\"#fde0ef\"],[0.5,\"#f7f7f7\"],[0.6,\"#e6f5d0\"],[0.7,\"#b8e186\"],[0.8,\"#7fbc41\"],[0.9,\"#4d9221\"],[1,\"#276419\"]]},\"xaxis\":{\"gridcolor\":\"white\",\"linecolor\":\"white\",\"ticks\":\"\",\"title\":{\"standoff\":15},\"zerolinecolor\":\"white\",\"automargin\":true,\"zerolinewidth\":2},\"yaxis\":{\"gridcolor\":\"white\",\"linecolor\":\"white\",\"ticks\":\"\",\"title\":{\"standoff\":15},\"zerolinecolor\":\"white\",\"automargin\":true,\"zerolinewidth\":2},\"scene\":{\"xaxis\":{\"backgroundcolor\":\"#E5ECF6\",\"gridcolor\":\"white\",\"linecolor\":\"white\",\"showbackground\":true,\"ticks\":\"\",\"zerolinecolor\":\"white\",\"gridwidth\":2},\"yaxis\":{\"backgroundcolor\":\"#E5ECF6\",\"gridcolor\":\"white\",\"linecolor\":\"white\",\"showbackground\":true,\"ticks\":\"\",\"zerolinecolor\":\"white\",\"gridwidth\":2},\"zaxis\":{\"backgroundcolor\":\"#E5ECF6\",\"gridcolor\":\"white\",\"linecolor\":\"white\",\"showbackground\":true,\"ticks\":\"\",\"zerolinecolor\":\"white\",\"gridwidth\":2}},\"shapedefaults\":{\"line\":{\"color\":\"#2a3f5f\"}},\"annotationdefaults\":{\"arrowcolor\":\"#2a3f5f\",\"arrowhead\":0,\"arrowwidth\":1},\"geo\":{\"bgcolor\":\"white\",\"landcolor\":\"#E5ECF6\",\"subunitcolor\":\"white\",\"showland\":true,\"showlakes\":true,\"lakecolor\":\"white\"},\"title\":{\"x\":0.05},\"mapbox\":{\"style\":\"light\"}}},\"title\":{\"text\":\"Val set f1macro ,heads=2\"},\"xaxis\":{\"title\":{\"text\":\"Epoch\"}},\"yaxis\":{\"title\":{\"text\":\"f1macro\"}}},                        {\"responsive\": true}                    ).then(function(){\n",
              "                            \n",
              "var gd = document.getElementById('e3398a28-83cb-43e1-9110-012524b8f0f3');\n",
              "var x = new MutationObserver(function (mutations, observer) {{\n",
              "        var display = window.getComputedStyle(gd).display;\n",
              "        if (!display || display === 'none') {{\n",
              "            console.log([gd, 'removed!']);\n",
              "            Plotly.purge(gd);\n",
              "            observer.disconnect();\n",
              "        }}\n",
              "}});\n",
              "\n",
              "// Listen for the removal of the full notebook cells\n",
              "var notebookContainer = gd.closest('#notebook-container');\n",
              "if (notebookContainer) {{\n",
              "    x.observe(notebookContainer, {childList: true});\n",
              "}}\n",
              "\n",
              "// Listen for the clearing of the current output cell\n",
              "var outputEl = gd.closest('.output');\n",
              "if (outputEl) {{\n",
              "    x.observe(outputEl, {childList: true});\n",
              "}}\n",
              "\n",
              "                        })                };                            </script>        </div>\n",
              "</body>\n",
              "</html>"
            ]
          },
          "metadata": {},
          "output_type": "display_data"
        },
        {
          "data": {
            "text/html": [
              "<html>\n",
              "<head><meta charset=\"utf-8\" /></head>\n",
              "<body>\n",
              "    <div>            <script src=\"https://cdnjs.cloudflare.com/ajax/libs/mathjax/2.7.5/MathJax.js?config=TeX-AMS-MML_SVG\"></script><script type=\"text/javascript\">if (window.MathJax && window.MathJax.Hub && window.MathJax.Hub.Config) {window.MathJax.Hub.Config({SVG: {font: \"STIX-Web\"}});}</script>                <script type=\"text/javascript\">window.PlotlyConfig = {MathJaxConfig: 'local'};</script>\n",
              "        <script src=\"https://cdn.plot.ly/plotly-2.18.2.min.js\"></script>                <div id=\"7a77da72-b739-4064-aba4-39138f418ef0\" class=\"plotly-graph-div\" style=\"height:525px; width:100%;\"></div>            <script type=\"text/javascript\">                                    window.PLOTLYENV=window.PLOTLYENV || {};                                    if (document.getElementById(\"7a77da72-b739-4064-aba4-39138f418ef0\")) {                    Plotly.newPlot(                        \"7a77da72-b739-4064-aba4-39138f418ef0\",                        [{\"name\":\"GAT\",\"x\":[0,1,2,3,4,5,6,7,8,9,10,11,12,13,14,15,16,17,18,19,20,21,22,23,24,25,26,27,28,29,30,31,32,33,34,35,36,37,38,39,40,41,42,43,44,45,46,47,48,49,50,51,52,53,54,55,56,57,58,59,60,61,62,63,64,65,66,67,68,69,70,71,72,73,74,75,76,77,78,79,80,81,82,83,84,85,86,87,88,89,90,91,92,93,94,95,96,97,98,99],\"y\":[0.6288357585567056,0.8490551279137741,0.8734967418124122,0.8849386986781649,0.8920498278916039,0.8971175025699392,0.8954362231591206,0.8958564851563741,0.8980739688885782,0.9028350096757456,0.9213450512992716,0.9275230877963414,0.9351542218048402,0.9383397429459163,0.9452155161840211,0.9465989557322486,0.9490635979518245,0.9497789227500131,0.9500152044125658,0.9551833161541214,0.9541372895970807,0.95854147796147,0.962315504751784,0.9624855997782054,0.9621044480659385,0.9633953188923041,0.9656560785019789,0.9657967829592091,0.9670626602306721,0.9664158362866612,0.9688723787430741,0.9693125430155278,0.9682327288750078,0.9693946977561806,0.9703264019417215,0.9682075038983003,0.968598143904558,0.971744091917038,0.9713728913423715,0.9728977296132434,0.9714455577890332,0.9736033346956364,0.9708186361202226,0.9756347552968979,0.97268528439657,0.974886800024253,0.975239024010938,0.9729127720305458,0.9743008400148666,0.9711930766001545,0.97430199712389,0.9745565611090103,0.9713303097303149,0.972253914152693,0.972797986815437,0.9724885758626132,0.9745757691187966,0.9759865164399736,0.9726461741115833,0.9728898612718849,0.9730546335967993,0.9777888294546268,0.9775152888815245,0.9773546821490939,0.9774683102551794,0.9792824257818701,0.9775641188823069,0.9757703684744258,0.9780739411179618,0.9770593879263542,0.9764551455943999,0.9767613166419584,0.9773641704430849,0.9782322336323458,0.9798269612882234,0.9785300734949368,0.9798695429002799,0.9776013777928562,0.978139433488679,0.9788237477650439,0.9799570203424395,0.9776418766086709,0.9786573554874971,0.9801909877869457,0.9798750970235917,0.9791294559689933,0.9801636800139963,0.9803360892584643,0.9783083714060773,0.9802911934283612,0.9802988303479149,0.9779978033442303,0.9800819881169531,0.9808290177023795,0.9837375269432836,0.9821826038378066,0.9799378123326531,0.9814788501298508,0.9803775137614976,0.9814931982817394],\"type\":\"scatter\"},{\"name\":\"GATv2\",\"x\":[0,1,2,3,4,5,6,7,8,9,10,11,12,13,14,15,16,17,18,19,20,21,22,23,24,25,26,27,28,29,30,31,32,33,34,35,36,37,38,39,40,41,42,43,44,45,46,47,48,49,50,51,52,53,54,55,56,57,58,59,60,61,62,63,64,65,66,67,68,69,70,71,72,73,74,75,76,77,78,79,80,81,82,83,84,85,86,87,88,89,90,91,92,93,94,95,96,97,98,99],\"y\":[0.6225311343324892,0.8435773737975902,0.8795822095876202,0.8837628444887128,0.8924446334903454,0.8937486953595764,0.903132618116532,0.9022548352114755,0.9000151349860246,0.9115154101465501,0.9204818479679083,0.9340741762425151,0.9395910406436859,0.9485790006928768,0.9497118104266631,0.9493859685257089,0.9515199089864327,0.9566084116271869,0.9536068708208115,0.9569527672725134,0.958390590944835,0.9592033443227833,0.9637237064331096,0.9613525586226145,0.9622828742773275,0.9650816895828251,0.9683657964126843,0.9666319842522091,0.9698998915557423,0.9688337313016967,0.9689589304980152,0.9655912803966754,0.9705955455005353,0.9698607812707557,0.9714608316281402,0.9704483612327747,0.9720544285570804,0.9711153188737904,0.9731483594276846,0.9745783147586479,0.9747859001174234,0.9754366582321131,0.974812976468568,0.9757247783789086,0.9756541947284891,0.9760105843076575,0.9778510819200789,0.9765192494342892,0.9760950532663567,0.977865198650163,0.9776902437658438,0.977546530825153,0.9782713439173325,0.9783451674730174,0.9792683090517862,0.9800583830928784,0.9805589484563472,0.9806672538609257,0.9773310771250191,0.9815239773817586,0.9780922234405295,0.9806758164676977,0.978867949329733,0.979901710531127,0.9817655817458184,0.9829469900585821,0.9830016056044806,0.983385071534794,0.9825808807636179,0.982993968684927,0.980497390256309,0.9843630600812662,0.9847368062957839,0.9828784892044042,0.9840774855743218,0.9822962319438922,0.9832742204903643,0.9829324104848889,0.9835512323905363,0.9844419749166533,0.9820981348791076,0.982955784087159,0.9835919626281557,0.9834577379814557,0.9820074175316827,0.9825068257861282,0.9846042016017166,0.9829118139442745,0.9850304805658912,0.9835549351394107,0.9838941995050352,0.9843547288962985,0.9843852765745129,0.9849686909440482,0.9828116083028591,0.9802895734757288,0.9854893900045217,0.9828757121427485,0.985210989573522,0.9853570167322593],\"type\":\"scatter\"}],                        {\"template\":{\"data\":{\"histogram2dcontour\":[{\"type\":\"histogram2dcontour\",\"colorbar\":{\"outlinewidth\":0,\"ticks\":\"\"},\"colorscale\":[[0.0,\"#0d0887\"],[0.1111111111111111,\"#46039f\"],[0.2222222222222222,\"#7201a8\"],[0.3333333333333333,\"#9c179e\"],[0.4444444444444444,\"#bd3786\"],[0.5555555555555556,\"#d8576b\"],[0.6666666666666666,\"#ed7953\"],[0.7777777777777778,\"#fb9f3a\"],[0.8888888888888888,\"#fdca26\"],[1.0,\"#f0f921\"]]}],\"choropleth\":[{\"type\":\"choropleth\",\"colorbar\":{\"outlinewidth\":0,\"ticks\":\"\"}}],\"histogram2d\":[{\"type\":\"histogram2d\",\"colorbar\":{\"outlinewidth\":0,\"ticks\":\"\"},\"colorscale\":[[0.0,\"#0d0887\"],[0.1111111111111111,\"#46039f\"],[0.2222222222222222,\"#7201a8\"],[0.3333333333333333,\"#9c179e\"],[0.4444444444444444,\"#bd3786\"],[0.5555555555555556,\"#d8576b\"],[0.6666666666666666,\"#ed7953\"],[0.7777777777777778,\"#fb9f3a\"],[0.8888888888888888,\"#fdca26\"],[1.0,\"#f0f921\"]]}],\"heatmap\":[{\"type\":\"heatmap\",\"colorbar\":{\"outlinewidth\":0,\"ticks\":\"\"},\"colorscale\":[[0.0,\"#0d0887\"],[0.1111111111111111,\"#46039f\"],[0.2222222222222222,\"#7201a8\"],[0.3333333333333333,\"#9c179e\"],[0.4444444444444444,\"#bd3786\"],[0.5555555555555556,\"#d8576b\"],[0.6666666666666666,\"#ed7953\"],[0.7777777777777778,\"#fb9f3a\"],[0.8888888888888888,\"#fdca26\"],[1.0,\"#f0f921\"]]}],\"heatmapgl\":[{\"type\":\"heatmapgl\",\"colorbar\":{\"outlinewidth\":0,\"ticks\":\"\"},\"colorscale\":[[0.0,\"#0d0887\"],[0.1111111111111111,\"#46039f\"],[0.2222222222222222,\"#7201a8\"],[0.3333333333333333,\"#9c179e\"],[0.4444444444444444,\"#bd3786\"],[0.5555555555555556,\"#d8576b\"],[0.6666666666666666,\"#ed7953\"],[0.7777777777777778,\"#fb9f3a\"],[0.8888888888888888,\"#fdca26\"],[1.0,\"#f0f921\"]]}],\"contourcarpet\":[{\"type\":\"contourcarpet\",\"colorbar\":{\"outlinewidth\":0,\"ticks\":\"\"}}],\"contour\":[{\"type\":\"contour\",\"colorbar\":{\"outlinewidth\":0,\"ticks\":\"\"},\"colorscale\":[[0.0,\"#0d0887\"],[0.1111111111111111,\"#46039f\"],[0.2222222222222222,\"#7201a8\"],[0.3333333333333333,\"#9c179e\"],[0.4444444444444444,\"#bd3786\"],[0.5555555555555556,\"#d8576b\"],[0.6666666666666666,\"#ed7953\"],[0.7777777777777778,\"#fb9f3a\"],[0.8888888888888888,\"#fdca26\"],[1.0,\"#f0f921\"]]}],\"surface\":[{\"type\":\"surface\",\"colorbar\":{\"outlinewidth\":0,\"ticks\":\"\"},\"colorscale\":[[0.0,\"#0d0887\"],[0.1111111111111111,\"#46039f\"],[0.2222222222222222,\"#7201a8\"],[0.3333333333333333,\"#9c179e\"],[0.4444444444444444,\"#bd3786\"],[0.5555555555555556,\"#d8576b\"],[0.6666666666666666,\"#ed7953\"],[0.7777777777777778,\"#fb9f3a\"],[0.8888888888888888,\"#fdca26\"],[1.0,\"#f0f921\"]]}],\"mesh3d\":[{\"type\":\"mesh3d\",\"colorbar\":{\"outlinewidth\":0,\"ticks\":\"\"}}],\"scatter\":[{\"fillpattern\":{\"fillmode\":\"overlay\",\"size\":10,\"solidity\":0.2},\"type\":\"scatter\"}],\"parcoords\":[{\"type\":\"parcoords\",\"line\":{\"colorbar\":{\"outlinewidth\":0,\"ticks\":\"\"}}}],\"scatterpolargl\":[{\"type\":\"scatterpolargl\",\"marker\":{\"colorbar\":{\"outlinewidth\":0,\"ticks\":\"\"}}}],\"bar\":[{\"error_x\":{\"color\":\"#2a3f5f\"},\"error_y\":{\"color\":\"#2a3f5f\"},\"marker\":{\"line\":{\"color\":\"#E5ECF6\",\"width\":0.5},\"pattern\":{\"fillmode\":\"overlay\",\"size\":10,\"solidity\":0.2}},\"type\":\"bar\"}],\"scattergeo\":[{\"type\":\"scattergeo\",\"marker\":{\"colorbar\":{\"outlinewidth\":0,\"ticks\":\"\"}}}],\"scatterpolar\":[{\"type\":\"scatterpolar\",\"marker\":{\"colorbar\":{\"outlinewidth\":0,\"ticks\":\"\"}}}],\"histogram\":[{\"marker\":{\"pattern\":{\"fillmode\":\"overlay\",\"size\":10,\"solidity\":0.2}},\"type\":\"histogram\"}],\"scattergl\":[{\"type\":\"scattergl\",\"marker\":{\"colorbar\":{\"outlinewidth\":0,\"ticks\":\"\"}}}],\"scatter3d\":[{\"type\":\"scatter3d\",\"line\":{\"colorbar\":{\"outlinewidth\":0,\"ticks\":\"\"}},\"marker\":{\"colorbar\":{\"outlinewidth\":0,\"ticks\":\"\"}}}],\"scattermapbox\":[{\"type\":\"scattermapbox\",\"marker\":{\"colorbar\":{\"outlinewidth\":0,\"ticks\":\"\"}}}],\"scatterternary\":[{\"type\":\"scatterternary\",\"marker\":{\"colorbar\":{\"outlinewidth\":0,\"ticks\":\"\"}}}],\"scattercarpet\":[{\"type\":\"scattercarpet\",\"marker\":{\"colorbar\":{\"outlinewidth\":0,\"ticks\":\"\"}}}],\"carpet\":[{\"aaxis\":{\"endlinecolor\":\"#2a3f5f\",\"gridcolor\":\"white\",\"linecolor\":\"white\",\"minorgridcolor\":\"white\",\"startlinecolor\":\"#2a3f5f\"},\"baxis\":{\"endlinecolor\":\"#2a3f5f\",\"gridcolor\":\"white\",\"linecolor\":\"white\",\"minorgridcolor\":\"white\",\"startlinecolor\":\"#2a3f5f\"},\"type\":\"carpet\"}],\"table\":[{\"cells\":{\"fill\":{\"color\":\"#EBF0F8\"},\"line\":{\"color\":\"white\"}},\"header\":{\"fill\":{\"color\":\"#C8D4E3\"},\"line\":{\"color\":\"white\"}},\"type\":\"table\"}],\"barpolar\":[{\"marker\":{\"line\":{\"color\":\"#E5ECF6\",\"width\":0.5},\"pattern\":{\"fillmode\":\"overlay\",\"size\":10,\"solidity\":0.2}},\"type\":\"barpolar\"}],\"pie\":[{\"automargin\":true,\"type\":\"pie\"}]},\"layout\":{\"autotypenumbers\":\"strict\",\"colorway\":[\"#636efa\",\"#EF553B\",\"#00cc96\",\"#ab63fa\",\"#FFA15A\",\"#19d3f3\",\"#FF6692\",\"#B6E880\",\"#FF97FF\",\"#FECB52\"],\"font\":{\"color\":\"#2a3f5f\"},\"hovermode\":\"closest\",\"hoverlabel\":{\"align\":\"left\"},\"paper_bgcolor\":\"white\",\"plot_bgcolor\":\"#E5ECF6\",\"polar\":{\"bgcolor\":\"#E5ECF6\",\"angularaxis\":{\"gridcolor\":\"white\",\"linecolor\":\"white\",\"ticks\":\"\"},\"radialaxis\":{\"gridcolor\":\"white\",\"linecolor\":\"white\",\"ticks\":\"\"}},\"ternary\":{\"bgcolor\":\"#E5ECF6\",\"aaxis\":{\"gridcolor\":\"white\",\"linecolor\":\"white\",\"ticks\":\"\"},\"baxis\":{\"gridcolor\":\"white\",\"linecolor\":\"white\",\"ticks\":\"\"},\"caxis\":{\"gridcolor\":\"white\",\"linecolor\":\"white\",\"ticks\":\"\"}},\"coloraxis\":{\"colorbar\":{\"outlinewidth\":0,\"ticks\":\"\"}},\"colorscale\":{\"sequential\":[[0.0,\"#0d0887\"],[0.1111111111111111,\"#46039f\"],[0.2222222222222222,\"#7201a8\"],[0.3333333333333333,\"#9c179e\"],[0.4444444444444444,\"#bd3786\"],[0.5555555555555556,\"#d8576b\"],[0.6666666666666666,\"#ed7953\"],[0.7777777777777778,\"#fb9f3a\"],[0.8888888888888888,\"#fdca26\"],[1.0,\"#f0f921\"]],\"sequentialminus\":[[0.0,\"#0d0887\"],[0.1111111111111111,\"#46039f\"],[0.2222222222222222,\"#7201a8\"],[0.3333333333333333,\"#9c179e\"],[0.4444444444444444,\"#bd3786\"],[0.5555555555555556,\"#d8576b\"],[0.6666666666666666,\"#ed7953\"],[0.7777777777777778,\"#fb9f3a\"],[0.8888888888888888,\"#fdca26\"],[1.0,\"#f0f921\"]],\"diverging\":[[0,\"#8e0152\"],[0.1,\"#c51b7d\"],[0.2,\"#de77ae\"],[0.3,\"#f1b6da\"],[0.4,\"#fde0ef\"],[0.5,\"#f7f7f7\"],[0.6,\"#e6f5d0\"],[0.7,\"#b8e186\"],[0.8,\"#7fbc41\"],[0.9,\"#4d9221\"],[1,\"#276419\"]]},\"xaxis\":{\"gridcolor\":\"white\",\"linecolor\":\"white\",\"ticks\":\"\",\"title\":{\"standoff\":15},\"zerolinecolor\":\"white\",\"automargin\":true,\"zerolinewidth\":2},\"yaxis\":{\"gridcolor\":\"white\",\"linecolor\":\"white\",\"ticks\":\"\",\"title\":{\"standoff\":15},\"zerolinecolor\":\"white\",\"automargin\":true,\"zerolinewidth\":2},\"scene\":{\"xaxis\":{\"backgroundcolor\":\"#E5ECF6\",\"gridcolor\":\"white\",\"linecolor\":\"white\",\"showbackground\":true,\"ticks\":\"\",\"zerolinecolor\":\"white\",\"gridwidth\":2},\"yaxis\":{\"backgroundcolor\":\"#E5ECF6\",\"gridcolor\":\"white\",\"linecolor\":\"white\",\"showbackground\":true,\"ticks\":\"\",\"zerolinecolor\":\"white\",\"gridwidth\":2},\"zaxis\":{\"backgroundcolor\":\"#E5ECF6\",\"gridcolor\":\"white\",\"linecolor\":\"white\",\"showbackground\":true,\"ticks\":\"\",\"zerolinecolor\":\"white\",\"gridwidth\":2}},\"shapedefaults\":{\"line\":{\"color\":\"#2a3f5f\"}},\"annotationdefaults\":{\"arrowcolor\":\"#2a3f5f\",\"arrowhead\":0,\"arrowwidth\":1},\"geo\":{\"bgcolor\":\"white\",\"landcolor\":\"#E5ECF6\",\"subunitcolor\":\"white\",\"showland\":true,\"showlakes\":true,\"lakecolor\":\"white\"},\"title\":{\"x\":0.05},\"mapbox\":{\"style\":\"light\"}}},\"title\":{\"text\":\"Val set aucroc ,heads=2\"},\"xaxis\":{\"title\":{\"text\":\"Epoch\"}},\"yaxis\":{\"title\":{\"text\":\"aucroc\"}}},                        {\"responsive\": true}                    ).then(function(){\n",
              "                            \n",
              "var gd = document.getElementById('7a77da72-b739-4064-aba4-39138f418ef0');\n",
              "var x = new MutationObserver(function (mutations, observer) {{\n",
              "        var display = window.getComputedStyle(gd).display;\n",
              "        if (!display || display === 'none') {{\n",
              "            console.log([gd, 'removed!']);\n",
              "            Plotly.purge(gd);\n",
              "            observer.disconnect();\n",
              "        }}\n",
              "}});\n",
              "\n",
              "// Listen for the removal of the full notebook cells\n",
              "var notebookContainer = gd.closest('#notebook-container');\n",
              "if (notebookContainer) {{\n",
              "    x.observe(notebookContainer, {childList: true});\n",
              "}}\n",
              "\n",
              "// Listen for the clearing of the current output cell\n",
              "var outputEl = gd.closest('.output');\n",
              "if (outputEl) {{\n",
              "    x.observe(outputEl, {childList: true});\n",
              "}}\n",
              "\n",
              "                        })                };                            </script>        </div>\n",
              "</body>\n",
              "</html>"
            ]
          },
          "metadata": {},
          "output_type": "display_data"
        },
        {
          "data": {
            "text/html": [
              "<html>\n",
              "<head><meta charset=\"utf-8\" /></head>\n",
              "<body>\n",
              "    <div>            <script src=\"https://cdnjs.cloudflare.com/ajax/libs/mathjax/2.7.5/MathJax.js?config=TeX-AMS-MML_SVG\"></script><script type=\"text/javascript\">if (window.MathJax && window.MathJax.Hub && window.MathJax.Hub.Config) {window.MathJax.Hub.Config({SVG: {font: \"STIX-Web\"}});}</script>                <script type=\"text/javascript\">window.PlotlyConfig = {MathJaxConfig: 'local'};</script>\n",
              "        <script src=\"https://cdn.plot.ly/plotly-2.18.2.min.js\"></script>                <div id=\"90fc1aaa-5244-489f-9995-b0b65b2a05b4\" class=\"plotly-graph-div\" style=\"height:525px; width:100%;\"></div>            <script type=\"text/javascript\">                                    window.PLOTLYENV=window.PLOTLYENV || {};                                    if (document.getElementById(\"90fc1aaa-5244-489f-9995-b0b65b2a05b4\")) {                    Plotly.newPlot(                        \"90fc1aaa-5244-489f-9995-b0b65b2a05b4\",                        [{\"name\":\"GAT\",\"x\":[0,1,2,3,4,5,6,7,8,9,10,11,12,13,14,15,16,17,18,19,20,21,22,23,24,25,26,27,28,29,30,31,32,33,34,35,36,37,38,39,40,41,42,43,44,45,46,47,48,49,50,51,52,53,54,55,56,57,58,59,60,61,62,63,64,65,66,67,68,69,70,71,72,73,74,75,76,77,78,79,80,81,82,83,84,85,86,87,88,89,90,91,92,93,94,95,96,97,98,99],\"y\":[0.5087463556851312,0.0,0.0,0.0,0.0,0.0,0.0,0.0,0.0,0.0,0.0,0.0014577259475218659,0.0029154518950437317,0.0014577259475218659,0.016034985422740525,0.03935860058309038,0.033527696793002916,0.04081632653061224,0.056851311953352766,0.09037900874635568,0.13994169096209913,0.20262390670553937,0.2915451895043732,0.35714285714285715,0.3760932944606414,0.42128279883381925,0.42419825072886297,0.47230320699708456,0.47667638483965014,0.49416909620991256,0.565597667638484,0.5947521865889213,0.6107871720116618,0.6559766763848397,0.6530612244897959,0.6720116618075802,0.6661807580174927,0.6982507288629738,0.706997084548105,0.7332361516034985,0.750728862973761,0.7478134110787172,0.739067055393586,0.7638483965014577,0.7448979591836735,0.7638483965014577,0.7871720116618076,0.7871720116618076,0.7915451895043731,0.7769679300291545,0.7711370262390671,0.7813411078717201,0.8017492711370262,0.7842565597667639,0.7740524781341108,0.7667638483965015,0.7886297376093294,0.7915451895043731,0.7857142857142857,0.7755102040816326,0.7813411078717201,0.8032069970845481,0.8119533527696793,0.7915451895043731,0.7959183673469388,0.7871720116618076,0.8002915451895044,0.8119533527696793,0.8017492711370262,0.7959183673469388,0.8017492711370262,0.8032069970845481,0.7959183673469388,0.8002915451895044,0.8002915451895044,0.8192419825072886,0.8250728862973761,0.8119533527696793,0.8032069970845481,0.8119533527696793,0.8221574344023324,0.8206997084548106,0.8104956268221575,0.8119533527696793,0.8323615160349854,0.8323615160349854,0.8192419825072886,0.826530612244898,0.8134110787172012,0.8221574344023324,0.8134110787172012,0.826530612244898,0.8381924198250729,0.8483965014577259,0.8206997084548106,0.814868804664723,0.8367346938775511,0.8309037900874635,0.8279883381924198,0.8323615160349854],\"type\":\"scatter\"},{\"name\":\"GATv2\",\"x\":[0,1,2,3,4,5,6,7,8,9,10,11,12,13,14,15,16,17,18,19,20,21,22,23,24,25,26,27,28,29,30,31,32,33,34,35,36,37,38,39,40,41,42,43,44,45,46,47,48,49,50,51,52,53,54,55,56,57,58,59,60,61,62,63,64,65,66,67,68,69,70,71,72,73,74,75,76,77,78,79,80,81,82,83,84,85,86,87,88,89,90,91,92,93,94,95,96,97,98,99],\"y\":[0.07871720116618076,0.0,0.0,0.0,0.0,0.0,0.0,0.0,0.0,0.0,0.0,0.0,0.0,0.0,0.0,0.0,0.0,0.0029154518950437317,0.0,0.004373177842565598,0.02040816326530612,0.04518950437317784,0.09037900874635568,0.1880466472303207,0.26239067055393583,0.35276967930029157,0.46355685131195334,0.5058309037900874,0.5947521865889213,0.6107871720116618,0.6384839650145773,0.6793002915451894,0.7215743440233237,0.7215743440233237,0.7317784256559767,0.749271137026239,0.7551020408163265,0.7580174927113703,0.749271137026239,0.7565597667638484,0.7551020408163265,0.7565597667638484,0.7755102040816326,0.7638483965014577,0.7638483965014577,0.7740524781341108,0.7900874635568513,0.793002915451895,0.7798833819241983,0.7944606413994169,0.8104956268221575,0.8075801749271136,0.8090379008746356,0.8104956268221575,0.8163265306122449,0.8134110787172012,0.8177842565597667,0.8206997084548106,0.814868804664723,0.8250728862973761,0.8236151603498543,0.8250728862973761,0.8119533527696793,0.8309037900874635,0.8134110787172012,0.8411078717201166,0.8236151603498543,0.8279883381924198,0.8279883381924198,0.8236151603498543,0.8250728862973761,0.8309037900874635,0.8323615160349854,0.8250728862973761,0.8352769679300291,0.8294460641399417,0.8309037900874635,0.8279883381924198,0.8367346938775511,0.8279883381924198,0.8309037900874635,0.8381924198250729,0.8440233236151603,0.8338192419825073,0.8367346938775511,0.8454810495626822,0.8571428571428571,0.8411078717201166,0.8542274052478134,0.8338192419825073,0.8352769679300291,0.8352769679300291,0.8396501457725948,0.8381924198250729,0.8425655976676385,0.8396501457725948,0.8440233236151603,0.8279883381924198,0.8542274052478134,0.858600583090379],\"type\":\"scatter\"}],                        {\"template\":{\"data\":{\"histogram2dcontour\":[{\"type\":\"histogram2dcontour\",\"colorbar\":{\"outlinewidth\":0,\"ticks\":\"\"},\"colorscale\":[[0.0,\"#0d0887\"],[0.1111111111111111,\"#46039f\"],[0.2222222222222222,\"#7201a8\"],[0.3333333333333333,\"#9c179e\"],[0.4444444444444444,\"#bd3786\"],[0.5555555555555556,\"#d8576b\"],[0.6666666666666666,\"#ed7953\"],[0.7777777777777778,\"#fb9f3a\"],[0.8888888888888888,\"#fdca26\"],[1.0,\"#f0f921\"]]}],\"choropleth\":[{\"type\":\"choropleth\",\"colorbar\":{\"outlinewidth\":0,\"ticks\":\"\"}}],\"histogram2d\":[{\"type\":\"histogram2d\",\"colorbar\":{\"outlinewidth\":0,\"ticks\":\"\"},\"colorscale\":[[0.0,\"#0d0887\"],[0.1111111111111111,\"#46039f\"],[0.2222222222222222,\"#7201a8\"],[0.3333333333333333,\"#9c179e\"],[0.4444444444444444,\"#bd3786\"],[0.5555555555555556,\"#d8576b\"],[0.6666666666666666,\"#ed7953\"],[0.7777777777777778,\"#fb9f3a\"],[0.8888888888888888,\"#fdca26\"],[1.0,\"#f0f921\"]]}],\"heatmap\":[{\"type\":\"heatmap\",\"colorbar\":{\"outlinewidth\":0,\"ticks\":\"\"},\"colorscale\":[[0.0,\"#0d0887\"],[0.1111111111111111,\"#46039f\"],[0.2222222222222222,\"#7201a8\"],[0.3333333333333333,\"#9c179e\"],[0.4444444444444444,\"#bd3786\"],[0.5555555555555556,\"#d8576b\"],[0.6666666666666666,\"#ed7953\"],[0.7777777777777778,\"#fb9f3a\"],[0.8888888888888888,\"#fdca26\"],[1.0,\"#f0f921\"]]}],\"heatmapgl\":[{\"type\":\"heatmapgl\",\"colorbar\":{\"outlinewidth\":0,\"ticks\":\"\"},\"colorscale\":[[0.0,\"#0d0887\"],[0.1111111111111111,\"#46039f\"],[0.2222222222222222,\"#7201a8\"],[0.3333333333333333,\"#9c179e\"],[0.4444444444444444,\"#bd3786\"],[0.5555555555555556,\"#d8576b\"],[0.6666666666666666,\"#ed7953\"],[0.7777777777777778,\"#fb9f3a\"],[0.8888888888888888,\"#fdca26\"],[1.0,\"#f0f921\"]]}],\"contourcarpet\":[{\"type\":\"contourcarpet\",\"colorbar\":{\"outlinewidth\":0,\"ticks\":\"\"}}],\"contour\":[{\"type\":\"contour\",\"colorbar\":{\"outlinewidth\":0,\"ticks\":\"\"},\"colorscale\":[[0.0,\"#0d0887\"],[0.1111111111111111,\"#46039f\"],[0.2222222222222222,\"#7201a8\"],[0.3333333333333333,\"#9c179e\"],[0.4444444444444444,\"#bd3786\"],[0.5555555555555556,\"#d8576b\"],[0.6666666666666666,\"#ed7953\"],[0.7777777777777778,\"#fb9f3a\"],[0.8888888888888888,\"#fdca26\"],[1.0,\"#f0f921\"]]}],\"surface\":[{\"type\":\"surface\",\"colorbar\":{\"outlinewidth\":0,\"ticks\":\"\"},\"colorscale\":[[0.0,\"#0d0887\"],[0.1111111111111111,\"#46039f\"],[0.2222222222222222,\"#7201a8\"],[0.3333333333333333,\"#9c179e\"],[0.4444444444444444,\"#bd3786\"],[0.5555555555555556,\"#d8576b\"],[0.6666666666666666,\"#ed7953\"],[0.7777777777777778,\"#fb9f3a\"],[0.8888888888888888,\"#fdca26\"],[1.0,\"#f0f921\"]]}],\"mesh3d\":[{\"type\":\"mesh3d\",\"colorbar\":{\"outlinewidth\":0,\"ticks\":\"\"}}],\"scatter\":[{\"fillpattern\":{\"fillmode\":\"overlay\",\"size\":10,\"solidity\":0.2},\"type\":\"scatter\"}],\"parcoords\":[{\"type\":\"parcoords\",\"line\":{\"colorbar\":{\"outlinewidth\":0,\"ticks\":\"\"}}}],\"scatterpolargl\":[{\"type\":\"scatterpolargl\",\"marker\":{\"colorbar\":{\"outlinewidth\":0,\"ticks\":\"\"}}}],\"bar\":[{\"error_x\":{\"color\":\"#2a3f5f\"},\"error_y\":{\"color\":\"#2a3f5f\"},\"marker\":{\"line\":{\"color\":\"#E5ECF6\",\"width\":0.5},\"pattern\":{\"fillmode\":\"overlay\",\"size\":10,\"solidity\":0.2}},\"type\":\"bar\"}],\"scattergeo\":[{\"type\":\"scattergeo\",\"marker\":{\"colorbar\":{\"outlinewidth\":0,\"ticks\":\"\"}}}],\"scatterpolar\":[{\"type\":\"scatterpolar\",\"marker\":{\"colorbar\":{\"outlinewidth\":0,\"ticks\":\"\"}}}],\"histogram\":[{\"marker\":{\"pattern\":{\"fillmode\":\"overlay\",\"size\":10,\"solidity\":0.2}},\"type\":\"histogram\"}],\"scattergl\":[{\"type\":\"scattergl\",\"marker\":{\"colorbar\":{\"outlinewidth\":0,\"ticks\":\"\"}}}],\"scatter3d\":[{\"type\":\"scatter3d\",\"line\":{\"colorbar\":{\"outlinewidth\":0,\"ticks\":\"\"}},\"marker\":{\"colorbar\":{\"outlinewidth\":0,\"ticks\":\"\"}}}],\"scattermapbox\":[{\"type\":\"scattermapbox\",\"marker\":{\"colorbar\":{\"outlinewidth\":0,\"ticks\":\"\"}}}],\"scatterternary\":[{\"type\":\"scatterternary\",\"marker\":{\"colorbar\":{\"outlinewidth\":0,\"ticks\":\"\"}}}],\"scattercarpet\":[{\"type\":\"scattercarpet\",\"marker\":{\"colorbar\":{\"outlinewidth\":0,\"ticks\":\"\"}}}],\"carpet\":[{\"aaxis\":{\"endlinecolor\":\"#2a3f5f\",\"gridcolor\":\"white\",\"linecolor\":\"white\",\"minorgridcolor\":\"white\",\"startlinecolor\":\"#2a3f5f\"},\"baxis\":{\"endlinecolor\":\"#2a3f5f\",\"gridcolor\":\"white\",\"linecolor\":\"white\",\"minorgridcolor\":\"white\",\"startlinecolor\":\"#2a3f5f\"},\"type\":\"carpet\"}],\"table\":[{\"cells\":{\"fill\":{\"color\":\"#EBF0F8\"},\"line\":{\"color\":\"white\"}},\"header\":{\"fill\":{\"color\":\"#C8D4E3\"},\"line\":{\"color\":\"white\"}},\"type\":\"table\"}],\"barpolar\":[{\"marker\":{\"line\":{\"color\":\"#E5ECF6\",\"width\":0.5},\"pattern\":{\"fillmode\":\"overlay\",\"size\":10,\"solidity\":0.2}},\"type\":\"barpolar\"}],\"pie\":[{\"automargin\":true,\"type\":\"pie\"}]},\"layout\":{\"autotypenumbers\":\"strict\",\"colorway\":[\"#636efa\",\"#EF553B\",\"#00cc96\",\"#ab63fa\",\"#FFA15A\",\"#19d3f3\",\"#FF6692\",\"#B6E880\",\"#FF97FF\",\"#FECB52\"],\"font\":{\"color\":\"#2a3f5f\"},\"hovermode\":\"closest\",\"hoverlabel\":{\"align\":\"left\"},\"paper_bgcolor\":\"white\",\"plot_bgcolor\":\"#E5ECF6\",\"polar\":{\"bgcolor\":\"#E5ECF6\",\"angularaxis\":{\"gridcolor\":\"white\",\"linecolor\":\"white\",\"ticks\":\"\"},\"radialaxis\":{\"gridcolor\":\"white\",\"linecolor\":\"white\",\"ticks\":\"\"}},\"ternary\":{\"bgcolor\":\"#E5ECF6\",\"aaxis\":{\"gridcolor\":\"white\",\"linecolor\":\"white\",\"ticks\":\"\"},\"baxis\":{\"gridcolor\":\"white\",\"linecolor\":\"white\",\"ticks\":\"\"},\"caxis\":{\"gridcolor\":\"white\",\"linecolor\":\"white\",\"ticks\":\"\"}},\"coloraxis\":{\"colorbar\":{\"outlinewidth\":0,\"ticks\":\"\"}},\"colorscale\":{\"sequential\":[[0.0,\"#0d0887\"],[0.1111111111111111,\"#46039f\"],[0.2222222222222222,\"#7201a8\"],[0.3333333333333333,\"#9c179e\"],[0.4444444444444444,\"#bd3786\"],[0.5555555555555556,\"#d8576b\"],[0.6666666666666666,\"#ed7953\"],[0.7777777777777778,\"#fb9f3a\"],[0.8888888888888888,\"#fdca26\"],[1.0,\"#f0f921\"]],\"sequentialminus\":[[0.0,\"#0d0887\"],[0.1111111111111111,\"#46039f\"],[0.2222222222222222,\"#7201a8\"],[0.3333333333333333,\"#9c179e\"],[0.4444444444444444,\"#bd3786\"],[0.5555555555555556,\"#d8576b\"],[0.6666666666666666,\"#ed7953\"],[0.7777777777777778,\"#fb9f3a\"],[0.8888888888888888,\"#fdca26\"],[1.0,\"#f0f921\"]],\"diverging\":[[0,\"#8e0152\"],[0.1,\"#c51b7d\"],[0.2,\"#de77ae\"],[0.3,\"#f1b6da\"],[0.4,\"#fde0ef\"],[0.5,\"#f7f7f7\"],[0.6,\"#e6f5d0\"],[0.7,\"#b8e186\"],[0.8,\"#7fbc41\"],[0.9,\"#4d9221\"],[1,\"#276419\"]]},\"xaxis\":{\"gridcolor\":\"white\",\"linecolor\":\"white\",\"ticks\":\"\",\"title\":{\"standoff\":15},\"zerolinecolor\":\"white\",\"automargin\":true,\"zerolinewidth\":2},\"yaxis\":{\"gridcolor\":\"white\",\"linecolor\":\"white\",\"ticks\":\"\",\"title\":{\"standoff\":15},\"zerolinecolor\":\"white\",\"automargin\":true,\"zerolinewidth\":2},\"scene\":{\"xaxis\":{\"backgroundcolor\":\"#E5ECF6\",\"gridcolor\":\"white\",\"linecolor\":\"white\",\"showbackground\":true,\"ticks\":\"\",\"zerolinecolor\":\"white\",\"gridwidth\":2},\"yaxis\":{\"backgroundcolor\":\"#E5ECF6\",\"gridcolor\":\"white\",\"linecolor\":\"white\",\"showbackground\":true,\"ticks\":\"\",\"zerolinecolor\":\"white\",\"gridwidth\":2},\"zaxis\":{\"backgroundcolor\":\"#E5ECF6\",\"gridcolor\":\"white\",\"linecolor\":\"white\",\"showbackground\":true,\"ticks\":\"\",\"zerolinecolor\":\"white\",\"gridwidth\":2}},\"shapedefaults\":{\"line\":{\"color\":\"#2a3f5f\"}},\"annotationdefaults\":{\"arrowcolor\":\"#2a3f5f\",\"arrowhead\":0,\"arrowwidth\":1},\"geo\":{\"bgcolor\":\"white\",\"landcolor\":\"#E5ECF6\",\"subunitcolor\":\"white\",\"showland\":true,\"showlakes\":true,\"lakecolor\":\"white\"},\"title\":{\"x\":0.05},\"mapbox\":{\"style\":\"light\"}}},\"title\":{\"text\":\"Val set recall ,heads=2\"},\"xaxis\":{\"title\":{\"text\":\"Epoch\"}},\"yaxis\":{\"title\":{\"text\":\"recall\"}}},                        {\"responsive\": true}                    ).then(function(){\n",
              "                            \n",
              "var gd = document.getElementById('90fc1aaa-5244-489f-9995-b0b65b2a05b4');\n",
              "var x = new MutationObserver(function (mutations, observer) {{\n",
              "        var display = window.getComputedStyle(gd).display;\n",
              "        if (!display || display === 'none') {{\n",
              "            console.log([gd, 'removed!']);\n",
              "            Plotly.purge(gd);\n",
              "            observer.disconnect();\n",
              "        }}\n",
              "}});\n",
              "\n",
              "// Listen for the removal of the full notebook cells\n",
              "var notebookContainer = gd.closest('#notebook-container');\n",
              "if (notebookContainer) {{\n",
              "    x.observe(notebookContainer, {childList: true});\n",
              "}}\n",
              "\n",
              "// Listen for the clearing of the current output cell\n",
              "var outputEl = gd.closest('.output');\n",
              "if (outputEl) {{\n",
              "    x.observe(outputEl, {childList: true});\n",
              "}}\n",
              "\n",
              "                        })                };                            </script>        </div>\n",
              "</body>\n",
              "</html>"
            ]
          },
          "metadata": {},
          "output_type": "display_data"
        },
        {
          "data": {
            "text/html": [
              "<html>\n",
              "<head><meta charset=\"utf-8\" /></head>\n",
              "<body>\n",
              "    <div>            <script src=\"https://cdnjs.cloudflare.com/ajax/libs/mathjax/2.7.5/MathJax.js?config=TeX-AMS-MML_SVG\"></script><script type=\"text/javascript\">if (window.MathJax && window.MathJax.Hub && window.MathJax.Hub.Config) {window.MathJax.Hub.Config({SVG: {font: \"STIX-Web\"}});}</script>                <script type=\"text/javascript\">window.PlotlyConfig = {MathJaxConfig: 'local'};</script>\n",
              "        <script src=\"https://cdn.plot.ly/plotly-2.18.2.min.js\"></script>                <div id=\"14668cd2-af7b-4b9d-9fd3-4d299306e13f\" class=\"plotly-graph-div\" style=\"height:525px; width:100%;\"></div>            <script type=\"text/javascript\">                                    window.PLOTLYENV=window.PLOTLYENV || {};                                    if (document.getElementById(\"14668cd2-af7b-4b9d-9fd3-4d299306e13f\")) {                    Plotly.newPlot(                        \"14668cd2-af7b-4b9d-9fd3-4d299306e13f\",                        [{\"name\":\"GAT\",\"x\":[0,1,2,3,4,5,6,7,8,9,10,11,12,13,14,15,16,17,18,19,20,21,22,23,24,25,26,27,28,29,30,31,32,33,34,35,36,37,38,39,40,41,42,43,44,45,46,47,48,49,50,51,52,53,54,55,56,57,58,59,60,61,62,63,64,65,66,67,68,69,70,71,72,73,74,75,76,77,78,79,80,81,82,83,84,85,86,87,88,89,90,91,92,93,94,95,96,97,98,99],\"y\":[0.1362217017954723,0.0,0.0,0.0,0.0,0.0,0.0,0.0,0.0,0.0,0.0,1.0,1.0,1.0,1.0,0.8709677419354839,0.92,0.9333333333333333,0.975,0.9538461538461539,0.9504950495049505,0.9266666666666666,0.9389671361502347,0.9423076923076923,0.9485294117647058,0.932258064516129,0.9478827361563518,0.9418604651162791,0.9478260869565217,0.93646408839779,0.9371980676328503,0.9315068493150684,0.9249448123620309,0.9355509355509356,0.9161554192229039,0.9201596806387226,0.9288617886178862,0.9141221374045801,0.9116541353383458,0.9128856624319419,0.9066901408450704,0.8984238178633975,0.9102333931777379,0.8851351351351351,0.8917975567190227,0.8957264957264958,0.9045226130653267,0.8709677419354839,0.8578199052132701,0.8709150326797386,0.8950930626057529,0.8715447154471545,0.8634222919937206,0.8819672131147541,0.8805970149253731,0.8960817717206133,0.8986710963455149,0.8887070376432079,0.8983333333333333,0.9063032367972743,0.897822445561139,0.8959349593495934,0.8969404186795491,0.9156829679595279,0.8921568627450981,0.8985024958402662,0.8955954323001631,0.9221854304635762,0.9212730318257957,0.9054726368159204,0.9090909090909091,0.9032786885245901,0.9039735099337748,0.9074380165289256,0.9289340101522843,0.8920634920634921,0.9114331723027376,0.9056910569105691,0.9077429983525536,0.9027552674230146,0.9024,0.9036918138041734,0.8938906752411575,0.9237147595356551,0.8935837245696401,0.8935837245696401,0.9108589951377634,0.9189627228525121,0.9043760129659644,0.9096774193548387,0.9177631578947368,0.9028662420382165,0.8873456790123457,0.9037267080745341,0.9124797406807131,0.9059967585089141,0.8954758190327613,0.9105431309904153,0.919093851132686,0.890795631825273],\"type\":\"scatter\"},{\"name\":\"GATv2\",\"x\":[0,1,2,3,4,5,6,7,8,9,10,11,12,13,14,15,16,17,18,19,20,21,22,23,24,25,26,27,28,29,30,31,32,33,34,35,36,37,38,39,40,41,42,43,44,45,46,47,48,49,50,51,52,53,54,55,56,57,58,59,60,61,62,63,64,65,66,67,68,69,70,71,72,73,74,75,76,77,78,79,80,81,82,83,84,85,86,87,88,89,90,91,92,93,94,95,96,97,98,99],\"y\":[0.06482593037214886,0.0,0.0,0.0,0.0,0.0,0.0,0.0,0.0,0.0,0.0,0.0,0.0,0.0,0.0,0.0,0.0,0.6666666666666666,0.0,1.0,0.9333333333333333,1.0,0.96875,0.9416058394160584,0.9375,0.9201520912547528,0.9464285714285714,0.9253333333333333,0.9086859688195991,0.9030172413793104,0.9182389937106918,0.8893129770992366,0.9149722735674677,0.8745583038869258,0.8807017543859649,0.9001751313485113,0.9055944055944056,0.9138840070298769,0.9162210338680927,0.9301075268817204,0.9316546762589928,0.9153439153439153,0.910958904109589,0.9225352112676056,0.9176882661996497,0.9202772963604853,0.928082191780822,0.9315068493150684,0.9272097053726169,0.9206081081081081,0.9205298013245033,0.9233333333333333,0.925,0.9220563847429519,0.9443507588532883,0.9393939393939394,0.9396984924623115,0.9367720465890182,0.9363484087102177,0.9449081803005008,0.9308072487644151,0.9464882943143813,0.932998324958124,0.9359605911330049,0.9207920792079208,0.9261637239165329,0.9432387312186978,0.9311475409836065,0.9388429752066115,0.9385382059800664,0.9263502454991817,0.9328968903436988,0.9314845024469821,0.9203252032520325,0.9317073170731708,0.9358552631578947,0.9238249594813615,0.9326765188834154,0.9273021001615509,0.9281045751633987,0.9298531810766721,0.93042071197411,0.9293739967897271,0.933115823817292,0.9363784665579119,0.9250398724082934,0.925984251968504,0.9144215530903328,0.9228346456692913,0.9255663430420712,0.9182692307692307,0.9153354632587859,0.9245585874799358,0.9069400630914827,0.918918918918919,0.9186602870813397,0.9384116693679092,0.9176090468497576,0.9272151898734177,0.9089506172839507],\"type\":\"scatter\"}],                        {\"template\":{\"data\":{\"histogram2dcontour\":[{\"type\":\"histogram2dcontour\",\"colorbar\":{\"outlinewidth\":0,\"ticks\":\"\"},\"colorscale\":[[0.0,\"#0d0887\"],[0.1111111111111111,\"#46039f\"],[0.2222222222222222,\"#7201a8\"],[0.3333333333333333,\"#9c179e\"],[0.4444444444444444,\"#bd3786\"],[0.5555555555555556,\"#d8576b\"],[0.6666666666666666,\"#ed7953\"],[0.7777777777777778,\"#fb9f3a\"],[0.8888888888888888,\"#fdca26\"],[1.0,\"#f0f921\"]]}],\"choropleth\":[{\"type\":\"choropleth\",\"colorbar\":{\"outlinewidth\":0,\"ticks\":\"\"}}],\"histogram2d\":[{\"type\":\"histogram2d\",\"colorbar\":{\"outlinewidth\":0,\"ticks\":\"\"},\"colorscale\":[[0.0,\"#0d0887\"],[0.1111111111111111,\"#46039f\"],[0.2222222222222222,\"#7201a8\"],[0.3333333333333333,\"#9c179e\"],[0.4444444444444444,\"#bd3786\"],[0.5555555555555556,\"#d8576b\"],[0.6666666666666666,\"#ed7953\"],[0.7777777777777778,\"#fb9f3a\"],[0.8888888888888888,\"#fdca26\"],[1.0,\"#f0f921\"]]}],\"heatmap\":[{\"type\":\"heatmap\",\"colorbar\":{\"outlinewidth\":0,\"ticks\":\"\"},\"colorscale\":[[0.0,\"#0d0887\"],[0.1111111111111111,\"#46039f\"],[0.2222222222222222,\"#7201a8\"],[0.3333333333333333,\"#9c179e\"],[0.4444444444444444,\"#bd3786\"],[0.5555555555555556,\"#d8576b\"],[0.6666666666666666,\"#ed7953\"],[0.7777777777777778,\"#fb9f3a\"],[0.8888888888888888,\"#fdca26\"],[1.0,\"#f0f921\"]]}],\"heatmapgl\":[{\"type\":\"heatmapgl\",\"colorbar\":{\"outlinewidth\":0,\"ticks\":\"\"},\"colorscale\":[[0.0,\"#0d0887\"],[0.1111111111111111,\"#46039f\"],[0.2222222222222222,\"#7201a8\"],[0.3333333333333333,\"#9c179e\"],[0.4444444444444444,\"#bd3786\"],[0.5555555555555556,\"#d8576b\"],[0.6666666666666666,\"#ed7953\"],[0.7777777777777778,\"#fb9f3a\"],[0.8888888888888888,\"#fdca26\"],[1.0,\"#f0f921\"]]}],\"contourcarpet\":[{\"type\":\"contourcarpet\",\"colorbar\":{\"outlinewidth\":0,\"ticks\":\"\"}}],\"contour\":[{\"type\":\"contour\",\"colorbar\":{\"outlinewidth\":0,\"ticks\":\"\"},\"colorscale\":[[0.0,\"#0d0887\"],[0.1111111111111111,\"#46039f\"],[0.2222222222222222,\"#7201a8\"],[0.3333333333333333,\"#9c179e\"],[0.4444444444444444,\"#bd3786\"],[0.5555555555555556,\"#d8576b\"],[0.6666666666666666,\"#ed7953\"],[0.7777777777777778,\"#fb9f3a\"],[0.8888888888888888,\"#fdca26\"],[1.0,\"#f0f921\"]]}],\"surface\":[{\"type\":\"surface\",\"colorbar\":{\"outlinewidth\":0,\"ticks\":\"\"},\"colorscale\":[[0.0,\"#0d0887\"],[0.1111111111111111,\"#46039f\"],[0.2222222222222222,\"#7201a8\"],[0.3333333333333333,\"#9c179e\"],[0.4444444444444444,\"#bd3786\"],[0.5555555555555556,\"#d8576b\"],[0.6666666666666666,\"#ed7953\"],[0.7777777777777778,\"#fb9f3a\"],[0.8888888888888888,\"#fdca26\"],[1.0,\"#f0f921\"]]}],\"mesh3d\":[{\"type\":\"mesh3d\",\"colorbar\":{\"outlinewidth\":0,\"ticks\":\"\"}}],\"scatter\":[{\"fillpattern\":{\"fillmode\":\"overlay\",\"size\":10,\"solidity\":0.2},\"type\":\"scatter\"}],\"parcoords\":[{\"type\":\"parcoords\",\"line\":{\"colorbar\":{\"outlinewidth\":0,\"ticks\":\"\"}}}],\"scatterpolargl\":[{\"type\":\"scatterpolargl\",\"marker\":{\"colorbar\":{\"outlinewidth\":0,\"ticks\":\"\"}}}],\"bar\":[{\"error_x\":{\"color\":\"#2a3f5f\"},\"error_y\":{\"color\":\"#2a3f5f\"},\"marker\":{\"line\":{\"color\":\"#E5ECF6\",\"width\":0.5},\"pattern\":{\"fillmode\":\"overlay\",\"size\":10,\"solidity\":0.2}},\"type\":\"bar\"}],\"scattergeo\":[{\"type\":\"scattergeo\",\"marker\":{\"colorbar\":{\"outlinewidth\":0,\"ticks\":\"\"}}}],\"scatterpolar\":[{\"type\":\"scatterpolar\",\"marker\":{\"colorbar\":{\"outlinewidth\":0,\"ticks\":\"\"}}}],\"histogram\":[{\"marker\":{\"pattern\":{\"fillmode\":\"overlay\",\"size\":10,\"solidity\":0.2}},\"type\":\"histogram\"}],\"scattergl\":[{\"type\":\"scattergl\",\"marker\":{\"colorbar\":{\"outlinewidth\":0,\"ticks\":\"\"}}}],\"scatter3d\":[{\"type\":\"scatter3d\",\"line\":{\"colorbar\":{\"outlinewidth\":0,\"ticks\":\"\"}},\"marker\":{\"colorbar\":{\"outlinewidth\":0,\"ticks\":\"\"}}}],\"scattermapbox\":[{\"type\":\"scattermapbox\",\"marker\":{\"colorbar\":{\"outlinewidth\":0,\"ticks\":\"\"}}}],\"scatterternary\":[{\"type\":\"scatterternary\",\"marker\":{\"colorbar\":{\"outlinewidth\":0,\"ticks\":\"\"}}}],\"scattercarpet\":[{\"type\":\"scattercarpet\",\"marker\":{\"colorbar\":{\"outlinewidth\":0,\"ticks\":\"\"}}}],\"carpet\":[{\"aaxis\":{\"endlinecolor\":\"#2a3f5f\",\"gridcolor\":\"white\",\"linecolor\":\"white\",\"minorgridcolor\":\"white\",\"startlinecolor\":\"#2a3f5f\"},\"baxis\":{\"endlinecolor\":\"#2a3f5f\",\"gridcolor\":\"white\",\"linecolor\":\"white\",\"minorgridcolor\":\"white\",\"startlinecolor\":\"#2a3f5f\"},\"type\":\"carpet\"}],\"table\":[{\"cells\":{\"fill\":{\"color\":\"#EBF0F8\"},\"line\":{\"color\":\"white\"}},\"header\":{\"fill\":{\"color\":\"#C8D4E3\"},\"line\":{\"color\":\"white\"}},\"type\":\"table\"}],\"barpolar\":[{\"marker\":{\"line\":{\"color\":\"#E5ECF6\",\"width\":0.5},\"pattern\":{\"fillmode\":\"overlay\",\"size\":10,\"solidity\":0.2}},\"type\":\"barpolar\"}],\"pie\":[{\"automargin\":true,\"type\":\"pie\"}]},\"layout\":{\"autotypenumbers\":\"strict\",\"colorway\":[\"#636efa\",\"#EF553B\",\"#00cc96\",\"#ab63fa\",\"#FFA15A\",\"#19d3f3\",\"#FF6692\",\"#B6E880\",\"#FF97FF\",\"#FECB52\"],\"font\":{\"color\":\"#2a3f5f\"},\"hovermode\":\"closest\",\"hoverlabel\":{\"align\":\"left\"},\"paper_bgcolor\":\"white\",\"plot_bgcolor\":\"#E5ECF6\",\"polar\":{\"bgcolor\":\"#E5ECF6\",\"angularaxis\":{\"gridcolor\":\"white\",\"linecolor\":\"white\",\"ticks\":\"\"},\"radialaxis\":{\"gridcolor\":\"white\",\"linecolor\":\"white\",\"ticks\":\"\"}},\"ternary\":{\"bgcolor\":\"#E5ECF6\",\"aaxis\":{\"gridcolor\":\"white\",\"linecolor\":\"white\",\"ticks\":\"\"},\"baxis\":{\"gridcolor\":\"white\",\"linecolor\":\"white\",\"ticks\":\"\"},\"caxis\":{\"gridcolor\":\"white\",\"linecolor\":\"white\",\"ticks\":\"\"}},\"coloraxis\":{\"colorbar\":{\"outlinewidth\":0,\"ticks\":\"\"}},\"colorscale\":{\"sequential\":[[0.0,\"#0d0887\"],[0.1111111111111111,\"#46039f\"],[0.2222222222222222,\"#7201a8\"],[0.3333333333333333,\"#9c179e\"],[0.4444444444444444,\"#bd3786\"],[0.5555555555555556,\"#d8576b\"],[0.6666666666666666,\"#ed7953\"],[0.7777777777777778,\"#fb9f3a\"],[0.8888888888888888,\"#fdca26\"],[1.0,\"#f0f921\"]],\"sequentialminus\":[[0.0,\"#0d0887\"],[0.1111111111111111,\"#46039f\"],[0.2222222222222222,\"#7201a8\"],[0.3333333333333333,\"#9c179e\"],[0.4444444444444444,\"#bd3786\"],[0.5555555555555556,\"#d8576b\"],[0.6666666666666666,\"#ed7953\"],[0.7777777777777778,\"#fb9f3a\"],[0.8888888888888888,\"#fdca26\"],[1.0,\"#f0f921\"]],\"diverging\":[[0,\"#8e0152\"],[0.1,\"#c51b7d\"],[0.2,\"#de77ae\"],[0.3,\"#f1b6da\"],[0.4,\"#fde0ef\"],[0.5,\"#f7f7f7\"],[0.6,\"#e6f5d0\"],[0.7,\"#b8e186\"],[0.8,\"#7fbc41\"],[0.9,\"#4d9221\"],[1,\"#276419\"]]},\"xaxis\":{\"gridcolor\":\"white\",\"linecolor\":\"white\",\"ticks\":\"\",\"title\":{\"standoff\":15},\"zerolinecolor\":\"white\",\"automargin\":true,\"zerolinewidth\":2},\"yaxis\":{\"gridcolor\":\"white\",\"linecolor\":\"white\",\"ticks\":\"\",\"title\":{\"standoff\":15},\"zerolinecolor\":\"white\",\"automargin\":true,\"zerolinewidth\":2},\"scene\":{\"xaxis\":{\"backgroundcolor\":\"#E5ECF6\",\"gridcolor\":\"white\",\"linecolor\":\"white\",\"showbackground\":true,\"ticks\":\"\",\"zerolinecolor\":\"white\",\"gridwidth\":2},\"yaxis\":{\"backgroundcolor\":\"#E5ECF6\",\"gridcolor\":\"white\",\"linecolor\":\"white\",\"showbackground\":true,\"ticks\":\"\",\"zerolinecolor\":\"white\",\"gridwidth\":2},\"zaxis\":{\"backgroundcolor\":\"#E5ECF6\",\"gridcolor\":\"white\",\"linecolor\":\"white\",\"showbackground\":true,\"ticks\":\"\",\"zerolinecolor\":\"white\",\"gridwidth\":2}},\"shapedefaults\":{\"line\":{\"color\":\"#2a3f5f\"}},\"annotationdefaults\":{\"arrowcolor\":\"#2a3f5f\",\"arrowhead\":0,\"arrowwidth\":1},\"geo\":{\"bgcolor\":\"white\",\"landcolor\":\"#E5ECF6\",\"subunitcolor\":\"white\",\"showland\":true,\"showlakes\":true,\"lakecolor\":\"white\"},\"title\":{\"x\":0.05},\"mapbox\":{\"style\":\"light\"}}},\"title\":{\"text\":\"Val set precision ,heads=2\"},\"xaxis\":{\"title\":{\"text\":\"Epoch\"}},\"yaxis\":{\"title\":{\"text\":\"precision\"}}},                        {\"responsive\": true}                    ).then(function(){\n",
              "                            \n",
              "var gd = document.getElementById('14668cd2-af7b-4b9d-9fd3-4d299306e13f');\n",
              "var x = new MutationObserver(function (mutations, observer) {{\n",
              "        var display = window.getComputedStyle(gd).display;\n",
              "        if (!display || display === 'none') {{\n",
              "            console.log([gd, 'removed!']);\n",
              "            Plotly.purge(gd);\n",
              "            observer.disconnect();\n",
              "        }}\n",
              "}});\n",
              "\n",
              "// Listen for the removal of the full notebook cells\n",
              "var notebookContainer = gd.closest('#notebook-container');\n",
              "if (notebookContainer) {{\n",
              "    x.observe(notebookContainer, {childList: true});\n",
              "}}\n",
              "\n",
              "// Listen for the clearing of the current output cell\n",
              "var outputEl = gd.closest('.output');\n",
              "if (outputEl) {{\n",
              "    x.observe(outputEl, {childList: true});\n",
              "}}\n",
              "\n",
              "                        })                };                            </script>        </div>\n",
              "</body>\n",
              "</html>"
            ]
          },
          "metadata": {},
          "output_type": "display_data"
        }
      ],
      "source": [
        "# Compare GAT vs GATv2 with 2 heads, prebuilt PyGs models \n",
        "plot_training_comp([mmGATprebuilt,mmGATv2prebuilt], [\"GAT\" ,\"GATv2\" ],\"f1micro\",title=\"Val set f1micro, heads=2\")  \n",
        "plot_training_comp([mmGATprebuilt,mmGATv2prebuilt], [\"GAT\" ,\"GATv2\" ],\"accuracy\",title=\"Val set accuracy ,heads=2\")  \n",
        "plot_training_comp([mmGATprebuilt,mmGATv2prebuilt], [\"GAT\" ,\"GATv2\" ],\"f1macro\",title=\"Val set f1macro ,heads=2\")\n",
        "plot_training_comp([mmGATprebuilt,mmGATv2prebuilt], [\"GAT\" ,\"GATv2\" ],\"aucroc\",title=\"Val set aucroc ,heads=2\")  \n",
        "plot_training_comp([mmGATprebuilt,mmGATv2prebuilt], [\"GAT\" ,\"GATv2\" ],\"recall\",title=\"Val set recall ,heads=2\")  \n",
        "plot_training_comp([mmGATprebuilt,mmGATv2prebuilt], [\"GAT\" ,\"GATv2\" ],\"precision\",title=\"Val set precision ,heads=2\")  \n"
      ]
    },
    {
      "attachments": {},
      "cell_type": "markdown",
      "metadata": {
        "id": "ZO-NPPaaJkJe"
      },
      "source": [
        "## Graph visualization\n",
        "Now after training previous models, we can also visualize our predicted labels nodes as licit or illicit.We are going to show the graph for one time period."
      ]
    },
    {
      "cell_type": "code",
      "execution_count": 37,
      "metadata": {
        "colab": {
          "base_uri": "https://localhost:8080/"
        },
        "id": "Kw5RosGZJqkw",
        "outputId": "7d7a196c-ab9a-42dc-e5d4-95de72fd873e"
      },
      "outputs": [
        {
          "data": {
            "text/plain": [
              "{'pred_scores': array([1.03391436e-03, 3.61688924e-07, 0.00000000e+00, ...,\n",
              "        8.08686795e-56, 5.52281953e-03, 7.03239649e-04]),\n",
              " 'pred_labels': array([False, False, False, ..., False, False, False])}"
            ]
          },
          "execution_count": 37,
          "metadata": {},
          "output_type": "execute_result"
        }
      ],
      "source": [
        "import networkx as nx\n",
        "import matplotlib.pyplot as plt\n",
        "\n",
        "# Load one model \n",
        "m1 = GATv2(data_train.num_node_features, args['hidden_dim'], 1, args).to(device).double()\n",
        "m1.load_state_dict(torch.load(FOLDERNAME + \"/save_results/\" + \"GATv2prebuilt.pth\"))\n",
        "gnn_t2 = GnnTrainer(m1)\n",
        "output = gnn_t2.predict(data=data_train, unclassified_only=False)\n",
        "output\n"
      ]
    },
    {
      "cell_type": "code",
      "execution_count": 38,
      "metadata": {
        "colab": {
          "base_uri": "https://localhost:8080/",
          "height": 987
        },
        "id": "oZk_3yCGJkS9",
        "outputId": "de256989-2e4f-4bb5-c1bc-6e6d4e8e6312"
      },
      "outputs": [
        {
          "data": {
            "image/png": "[encoded data removed]",
            "text/plain": [
              "<Figure size 1600x1600 with 1 Axes>"
            ]
          },
          "metadata": {},
          "output_type": "display_data"
        }
      ],
      "source": [
        "# Get index for one time period\n",
        "time_period = 28\n",
        "sub_node_list = df_merge.index[df_merge.loc[:, 1] == time_period].tolist()\n",
        "\n",
        "# Fetch list of edges for that time period\n",
        "edge_tuples = []\n",
        "for row in data_train.edge_index.view(-1, 2).cpu().numpy():\n",
        "  if (row[0] in sub_node_list) | (row[1] in sub_node_list):\n",
        "    edge_tuples.append(tuple(row))\n",
        "len(edge_tuples)\n",
        "\n",
        "# Fetch predicted results for that time period\n",
        "node_color = []\n",
        "for node_id in sub_node_list:\n",
        "  if node_id in classified_illicit_idx: # \n",
        "     label = \"red\" # fraud\n",
        "  elif node_id in classified_licit_idx:\n",
        "     label = \"green\" # not fraud\n",
        "  else:\n",
        "    if output['pred_labels'][node_id]:\n",
        "      label = \"orange\" # Predicted fraud\n",
        "    else:\n",
        "      label = \"blue\" # Not fraud predicted \n",
        "  \n",
        "  node_color.append(label)\n",
        "\n",
        "# Setup networkx graph\n",
        "G = nx.Graph()\n",
        "G.add_edges_from(edge_tuples)\n",
        "\n",
        "# Plot the graph\n",
        "plt.figure(3,figsize=(16,16)) \n",
        "plt.title(\"Time period:\"+str(time_period))\n",
        "nx.draw_networkx(G, nodelist=sub_node_list, node_color=node_color, node_size=6, with_labels=False)"
      ]
    },
    {
      "attachments": {},
      "cell_type": "markdown",
      "metadata": {
        "id": "Ml70TyFKcXTX"
      },
      "source": [
        "The diagram above has the following legend: Green = Not illicit (not fraud), Red = illicit (Fraud), Blue = Predicted not illicit, Orange = Predicted illicit."
      ]
    },
    {
      "attachments": {},
      "cell_type": "markdown",
      "metadata": {
        "id": "FUPkbVaYAJaf"
      },
      "source": [
        "## Training Cross comparisons\n",
        "Here,we show you how to load few results from previous trained models , we should assign names then plots all results. The current visualization has additional models that we ran as well.\n"
      ]
    },
    {
      "cell_type": "code",
      "execution_count": 39,
      "metadata": {
        "colab": {
          "base_uri": "https://localhost:8080/",
          "height": 542
        },
        "id": "pYdG1xd6Rjk3",
        "outputId": "81f8731d-1c35-4313-8da4-b670912dda3c"
      },
      "outputs": [
        {
          "data": {
            "text/html": [
              "<html>\n",
              "<head><meta charset=\"utf-8\" /></head>\n",
              "<body>\n",
              "    <div>            <script src=\"https://cdnjs.cloudflare.com/ajax/libs/mathjax/2.7.5/MathJax.js?config=TeX-AMS-MML_SVG\"></script><script type=\"text/javascript\">if (window.MathJax && window.MathJax.Hub && window.MathJax.Hub.Config) {window.MathJax.Hub.Config({SVG: {font: \"STIX-Web\"}});}</script>                <script type=\"text/javascript\">window.PlotlyConfig = {MathJaxConfig: 'local'};</script>\n",
              "        <script src=\"https://cdn.plot.ly/plotly-2.18.2.min.js\"></script>                <div id=\"4f300cf0-27d3-4a37-85e9-e67712440260\" class=\"plotly-graph-div\" style=\"height:525px; width:100%;\"></div>            <script type=\"text/javascript\">                                    window.PLOTLYENV=window.PLOTLYENV || {};                                    if (document.getElementById(\"4f300cf0-27d3-4a37-85e9-e67712440260\")) {                    Plotly.newPlot(                        \"4f300cf0-27d3-4a37-85e9-e67712440260\",                        [{\"name\":\"GATv2_prebuilt\",\"x\":[0,1,2,3,4,5,6,7,8,9,10,11,12,13,14,15,16,17,18,19,20,21,22,23,24,25,26,27,28,29,30,31,32,33,34,35,36,37,38,39,40,41,42,43,44,45,46,47,48,49,50,51,52,53,54,55,56,57,58,59,60,61,62,63,64,65,66,67,68,69,70,71,72,73,74,75,76,77,78,79,80,81,82,83,84,85,86,87,88,89,90,91,92,93,94,95,96,97,98,99],\"y\":[0.6225311343324892,0.8435773737975902,0.8795822095876202,0.8837628444887128,0.8924446334903454,0.8937486953595764,0.903132618116532,0.9022548352114755,0.9000151349860246,0.9115154101465501,0.9204818479679083,0.9340741762425151,0.9395910406436859,0.9485790006928768,0.9497118104266631,0.9493859685257089,0.9515199089864327,0.9566084116271869,0.9536068708208115,0.9569527672725134,0.958390590944835,0.9592033443227833,0.9637237064331096,0.9613525586226145,0.9622828742773275,0.9650816895828251,0.9683657964126843,0.9666319842522091,0.9698998915557423,0.9688337313016967,0.9689589304980152,0.9655912803966754,0.9705955455005353,0.9698607812707557,0.9714608316281402,0.9704483612327747,0.9720544285570804,0.9711153188737904,0.9731483594276846,0.9745783147586479,0.9747859001174234,0.9754366582321131,0.974812976468568,0.9757247783789086,0.9756541947284891,0.9760105843076575,0.9778510819200789,0.9765192494342892,0.9760950532663567,0.977865198650163,0.9776902437658438,0.977546530825153,0.9782713439173325,0.9783451674730174,0.9792683090517862,0.9800583830928784,0.9805589484563472,0.9806672538609257,0.9773310771250191,0.9815239773817586,0.9780922234405295,0.9806758164676977,0.978867949329733,0.979901710531127,0.9817655817458184,0.9829469900585821,0.9830016056044806,0.983385071534794,0.9825808807636179,0.982993968684927,0.980497390256309,0.9843630600812662,0.9847368062957839,0.9828784892044042,0.9840774855743218,0.9822962319438922,0.9832742204903643,0.9829324104848889,0.9835512323905363,0.9844419749166533,0.9820981348791076,0.982955784087159,0.9835919626281557,0.9834577379814557,0.9820074175316827,0.9825068257861282,0.9846042016017166,0.9829118139442745,0.9850304805658912,0.9835549351394107,0.9838941995050352,0.9843547288962985,0.9843852765745129,0.9849686909440482,0.9828116083028591,0.9802895734757288,0.9854893900045217,0.9828757121427485,0.985210989573522,0.9853570167322593],\"type\":\"scatter\"},{\"name\":\"GAT_prebuilt\",\"x\":[0,1,2,3,4,5,6,7,8,9,10,11,12,13,14,15,16,17,18,19,20,21,22,23,24,25,26,27,28,29,30,31,32,33,34,35,36,37,38,39,40,41,42,43,44,45,46,47,48,49,50,51,52,53,54,55,56,57,58,59,60,61,62,63,64,65,66,67,68,69,70,71,72,73,74,75,76,77,78,79,80,81,82,83,84,85,86,87,88,89,90,91,92,93,94,95,96,97,98,99],\"y\":[0.6288357585567056,0.8490551279137741,0.8734967418124122,0.8849386986781649,0.8920498278916039,0.8971175025699392,0.8954362231591206,0.8958564851563741,0.8980739688885782,0.9028350096757456,0.9213450512992716,0.9275230877963414,0.9351542218048402,0.9383397429459163,0.9452155161840211,0.9465989557322486,0.9490635979518245,0.9497789227500131,0.9500152044125658,0.9551833161541214,0.9541372895970807,0.95854147796147,0.962315504751784,0.9624855997782054,0.9621044480659385,0.9633953188923041,0.9656560785019789,0.9657967829592091,0.9670626602306721,0.9664158362866612,0.9688723787430741,0.9693125430155278,0.9682327288750078,0.9693946977561806,0.9703264019417215,0.9682075038983003,0.968598143904558,0.971744091917038,0.9713728913423715,0.9728977296132434,0.9714455577890332,0.9736033346956364,0.9708186361202226,0.9756347552968979,0.97268528439657,0.974886800024253,0.975239024010938,0.9729127720305458,0.9743008400148666,0.9711930766001545,0.97430199712389,0.9745565611090103,0.9713303097303149,0.972253914152693,0.972797986815437,0.9724885758626132,0.9745757691187966,0.9759865164399736,0.9726461741115833,0.9728898612718849,0.9730546335967993,0.9777888294546268,0.9775152888815245,0.9773546821490939,0.9774683102551794,0.9792824257818701,0.9775641188823069,0.9757703684744258,0.9780739411179618,0.9770593879263542,0.9764551455943999,0.9767613166419584,0.9773641704430849,0.9782322336323458,0.9798269612882234,0.9785300734949368,0.9798695429002799,0.9776013777928562,0.978139433488679,0.9788237477650439,0.9799570203424395,0.9776418766086709,0.9786573554874971,0.9801909877869457,0.9798750970235917,0.9791294559689933,0.9801636800139963,0.9803360892584643,0.9783083714060773,0.9802911934283612,0.9802988303479149,0.9779978033442303,0.9800819881169531,0.9808290177023795,0.9837375269432836,0.9821826038378066,0.9799378123326531,0.9814788501298508,0.9803775137614976,0.9814931982817394],\"type\":\"scatter\"}],                        {\"template\":{\"data\":{\"histogram2dcontour\":[{\"type\":\"histogram2dcontour\",\"colorbar\":{\"outlinewidth\":0,\"ticks\":\"\"},\"colorscale\":[[0.0,\"#0d0887\"],[0.1111111111111111,\"#46039f\"],[0.2222222222222222,\"#7201a8\"],[0.3333333333333333,\"#9c179e\"],[0.4444444444444444,\"#bd3786\"],[0.5555555555555556,\"#d8576b\"],[0.6666666666666666,\"#ed7953\"],[0.7777777777777778,\"#fb9f3a\"],[0.8888888888888888,\"#fdca26\"],[1.0,\"#f0f921\"]]}],\"choropleth\":[{\"type\":\"choropleth\",\"colorbar\":{\"outlinewidth\":0,\"ticks\":\"\"}}],\"histogram2d\":[{\"type\":\"histogram2d\",\"colorbar\":{\"outlinewidth\":0,\"ticks\":\"\"},\"colorscale\":[[0.0,\"#0d0887\"],[0.1111111111111111,\"#46039f\"],[0.2222222222222222,\"#7201a8\"],[0.3333333333333333,\"#9c179e\"],[0.4444444444444444,\"#bd3786\"],[0.5555555555555556,\"#d8576b\"],[0.6666666666666666,\"#ed7953\"],[0.7777777777777778,\"#fb9f3a\"],[0.8888888888888888,\"#fdca26\"],[1.0,\"#f0f921\"]]}],\"heatmap\":[{\"type\":\"heatmap\",\"colorbar\":{\"outlinewidth\":0,\"ticks\":\"\"},\"colorscale\":[[0.0,\"#0d0887\"],[0.1111111111111111,\"#46039f\"],[0.2222222222222222,\"#7201a8\"],[0.3333333333333333,\"#9c179e\"],[0.4444444444444444,\"#bd3786\"],[0.5555555555555556,\"#d8576b\"],[0.6666666666666666,\"#ed7953\"],[0.7777777777777778,\"#fb9f3a\"],[0.8888888888888888,\"#fdca26\"],[1.0,\"#f0f921\"]]}],\"heatmapgl\":[{\"type\":\"heatmapgl\",\"colorbar\":{\"outlinewidth\":0,\"ticks\":\"\"},\"colorscale\":[[0.0,\"#0d0887\"],[0.1111111111111111,\"#46039f\"],[0.2222222222222222,\"#7201a8\"],[0.3333333333333333,\"#9c179e\"],[0.4444444444444444,\"#bd3786\"],[0.5555555555555556,\"#d8576b\"],[0.6666666666666666,\"#ed7953\"],[0.7777777777777778,\"#fb9f3a\"],[0.8888888888888888,\"#fdca26\"],[1.0,\"#f0f921\"]]}],\"contourcarpet\":[{\"type\":\"contourcarpet\",\"colorbar\":{\"outlinewidth\":0,\"ticks\":\"\"}}],\"contour\":[{\"type\":\"contour\",\"colorbar\":{\"outlinewidth\":0,\"ticks\":\"\"},\"colorscale\":[[0.0,\"#0d0887\"],[0.1111111111111111,\"#46039f\"],[0.2222222222222222,\"#7201a8\"],[0.3333333333333333,\"#9c179e\"],[0.4444444444444444,\"#bd3786\"],[0.5555555555555556,\"#d8576b\"],[0.6666666666666666,\"#ed7953\"],[0.7777777777777778,\"#fb9f3a\"],[0.8888888888888888,\"#fdca26\"],[1.0,\"#f0f921\"]]}],\"surface\":[{\"type\":\"surface\",\"colorbar\":{\"outlinewidth\":0,\"ticks\":\"\"},\"colorscale\":[[0.0,\"#0d0887\"],[0.1111111111111111,\"#46039f\"],[0.2222222222222222,\"#7201a8\"],[0.3333333333333333,\"#9c179e\"],[0.4444444444444444,\"#bd3786\"],[0.5555555555555556,\"#d8576b\"],[0.6666666666666666,\"#ed7953\"],[0.7777777777777778,\"#fb9f3a\"],[0.8888888888888888,\"#fdca26\"],[1.0,\"#f0f921\"]]}],\"mesh3d\":[{\"type\":\"mesh3d\",\"colorbar\":{\"outlinewidth\":0,\"ticks\":\"\"}}],\"scatter\":[{\"fillpattern\":{\"fillmode\":\"overlay\",\"size\":10,\"solidity\":0.2},\"type\":\"scatter\"}],\"parcoords\":[{\"type\":\"parcoords\",\"line\":{\"colorbar\":{\"outlinewidth\":0,\"ticks\":\"\"}}}],\"scatterpolargl\":[{\"type\":\"scatterpolargl\",\"marker\":{\"colorbar\":{\"outlinewidth\":0,\"ticks\":\"\"}}}],\"bar\":[{\"error_x\":{\"color\":\"#2a3f5f\"},\"error_y\":{\"color\":\"#2a3f5f\"},\"marker\":{\"line\":{\"color\":\"#E5ECF6\",\"width\":0.5},\"pattern\":{\"fillmode\":\"overlay\",\"size\":10,\"solidity\":0.2}},\"type\":\"bar\"}],\"scattergeo\":[{\"type\":\"scattergeo\",\"marker\":{\"colorbar\":{\"outlinewidth\":0,\"ticks\":\"\"}}}],\"scatterpolar\":[{\"type\":\"scatterpolar\",\"marker\":{\"colorbar\":{\"outlinewidth\":0,\"ticks\":\"\"}}}],\"histogram\":[{\"marker\":{\"pattern\":{\"fillmode\":\"overlay\",\"size\":10,\"solidity\":0.2}},\"type\":\"histogram\"}],\"scattergl\":[{\"type\":\"scattergl\",\"marker\":{\"colorbar\":{\"outlinewidth\":0,\"ticks\":\"\"}}}],\"scatter3d\":[{\"type\":\"scatter3d\",\"line\":{\"colorbar\":{\"outlinewidth\":0,\"ticks\":\"\"}},\"marker\":{\"colorbar\":{\"outlinewidth\":0,\"ticks\":\"\"}}}],\"scattermapbox\":[{\"type\":\"scattermapbox\",\"marker\":{\"colorbar\":{\"outlinewidth\":0,\"ticks\":\"\"}}}],\"scatterternary\":[{\"type\":\"scatterternary\",\"marker\":{\"colorbar\":{\"outlinewidth\":0,\"ticks\":\"\"}}}],\"scattercarpet\":[{\"type\":\"scattercarpet\",\"marker\":{\"colorbar\":{\"outlinewidth\":0,\"ticks\":\"\"}}}],\"carpet\":[{\"aaxis\":{\"endlinecolor\":\"#2a3f5f\",\"gridcolor\":\"white\",\"linecolor\":\"white\",\"minorgridcolor\":\"white\",\"startlinecolor\":\"#2a3f5f\"},\"baxis\":{\"endlinecolor\":\"#2a3f5f\",\"gridcolor\":\"white\",\"linecolor\":\"white\",\"minorgridcolor\":\"white\",\"startlinecolor\":\"#2a3f5f\"},\"type\":\"carpet\"}],\"table\":[{\"cells\":{\"fill\":{\"color\":\"#EBF0F8\"},\"line\":{\"color\":\"white\"}},\"header\":{\"fill\":{\"color\":\"#C8D4E3\"},\"line\":{\"color\":\"white\"}},\"type\":\"table\"}],\"barpolar\":[{\"marker\":{\"line\":{\"color\":\"#E5ECF6\",\"width\":0.5},\"pattern\":{\"fillmode\":\"overlay\",\"size\":10,\"solidity\":0.2}},\"type\":\"barpolar\"}],\"pie\":[{\"automargin\":true,\"type\":\"pie\"}]},\"layout\":{\"autotypenumbers\":\"strict\",\"colorway\":[\"#636efa\",\"#EF553B\",\"#00cc96\",\"#ab63fa\",\"#FFA15A\",\"#19d3f3\",\"#FF6692\",\"#B6E880\",\"#FF97FF\",\"#FECB52\"],\"font\":{\"color\":\"#2a3f5f\"},\"hovermode\":\"closest\",\"hoverlabel\":{\"align\":\"left\"},\"paper_bgcolor\":\"white\",\"plot_bgcolor\":\"#E5ECF6\",\"polar\":{\"bgcolor\":\"#E5ECF6\",\"angularaxis\":{\"gridcolor\":\"white\",\"linecolor\":\"white\",\"ticks\":\"\"},\"radialaxis\":{\"gridcolor\":\"white\",\"linecolor\":\"white\",\"ticks\":\"\"}},\"ternary\":{\"bgcolor\":\"#E5ECF6\",\"aaxis\":{\"gridcolor\":\"white\",\"linecolor\":\"white\",\"ticks\":\"\"},\"baxis\":{\"gridcolor\":\"white\",\"linecolor\":\"white\",\"ticks\":\"\"},\"caxis\":{\"gridcolor\":\"white\",\"linecolor\":\"white\",\"ticks\":\"\"}},\"coloraxis\":{\"colorbar\":{\"outlinewidth\":0,\"ticks\":\"\"}},\"colorscale\":{\"sequential\":[[0.0,\"#0d0887\"],[0.1111111111111111,\"#46039f\"],[0.2222222222222222,\"#7201a8\"],[0.3333333333333333,\"#9c179e\"],[0.4444444444444444,\"#bd3786\"],[0.5555555555555556,\"#d8576b\"],[0.6666666666666666,\"#ed7953\"],[0.7777777777777778,\"#fb9f3a\"],[0.8888888888888888,\"#fdca26\"],[1.0,\"#f0f921\"]],\"sequentialminus\":[[0.0,\"#0d0887\"],[0.1111111111111111,\"#46039f\"],[0.2222222222222222,\"#7201a8\"],[0.3333333333333333,\"#9c179e\"],[0.4444444444444444,\"#bd3786\"],[0.5555555555555556,\"#d8576b\"],[0.6666666666666666,\"#ed7953\"],[0.7777777777777778,\"#fb9f3a\"],[0.8888888888888888,\"#fdca26\"],[1.0,\"#f0f921\"]],\"diverging\":[[0,\"#8e0152\"],[0.1,\"#c51b7d\"],[0.2,\"#de77ae\"],[0.3,\"#f1b6da\"],[0.4,\"#fde0ef\"],[0.5,\"#f7f7f7\"],[0.6,\"#e6f5d0\"],[0.7,\"#b8e186\"],[0.8,\"#7fbc41\"],[0.9,\"#4d9221\"],[1,\"#276419\"]]},\"xaxis\":{\"gridcolor\":\"white\",\"linecolor\":\"white\",\"ticks\":\"\",\"title\":{\"standoff\":15},\"zerolinecolor\":\"white\",\"automargin\":true,\"zerolinewidth\":2},\"yaxis\":{\"gridcolor\":\"white\",\"linecolor\":\"white\",\"ticks\":\"\",\"title\":{\"standoff\":15},\"zerolinecolor\":\"white\",\"automargin\":true,\"zerolinewidth\":2},\"scene\":{\"xaxis\":{\"backgroundcolor\":\"#E5ECF6\",\"gridcolor\":\"white\",\"linecolor\":\"white\",\"showbackground\":true,\"ticks\":\"\",\"zerolinecolor\":\"white\",\"gridwidth\":2},\"yaxis\":{\"backgroundcolor\":\"#E5ECF6\",\"gridcolor\":\"white\",\"linecolor\":\"white\",\"showbackground\":true,\"ticks\":\"\",\"zerolinecolor\":\"white\",\"gridwidth\":2},\"zaxis\":{\"backgroundcolor\":\"#E5ECF6\",\"gridcolor\":\"white\",\"linecolor\":\"white\",\"showbackground\":true,\"ticks\":\"\",\"zerolinecolor\":\"white\",\"gridwidth\":2}},\"shapedefaults\":{\"line\":{\"color\":\"#2a3f5f\"}},\"annotationdefaults\":{\"arrowcolor\":\"#2a3f5f\",\"arrowhead\":0,\"arrowwidth\":1},\"geo\":{\"bgcolor\":\"white\",\"landcolor\":\"#E5ECF6\",\"subunitcolor\":\"white\",\"showland\":true,\"showlakes\":true,\"lakecolor\":\"white\"},\"title\":{\"x\":0.05},\"mapbox\":{\"style\":\"light\"}}},\"title\":{\"text\":\"Val set aucroc comparison\"},\"xaxis\":{\"title\":{\"text\":\"Epoch\"}},\"yaxis\":{\"title\":{\"text\":\"aucroc\"}}},                        {\"responsive\": true}                    ).then(function(){\n",
              "                            \n",
              "var gd = document.getElementById('4f300cf0-27d3-4a37-85e9-e67712440260');\n",
              "var x = new MutationObserver(function (mutations, observer) {{\n",
              "        var display = window.getComputedStyle(gd).display;\n",
              "        if (!display || display === 'none') {{\n",
              "            console.log([gd, 'removed!']);\n",
              "            Plotly.purge(gd);\n",
              "            observer.disconnect();\n",
              "        }}\n",
              "}});\n",
              "\n",
              "// Listen for the removal of the full notebook cells\n",
              "var notebookContainer = gd.closest('#notebook-container');\n",
              "if (notebookContainer) {{\n",
              "    x.observe(notebookContainer, {childList: true});\n",
              "}}\n",
              "\n",
              "// Listen for the clearing of the current output cell\n",
              "var outputEl = gd.closest('.output');\n",
              "if (outputEl) {{\n",
              "    x.observe(outputEl, {childList: true});\n",
              "}}\n",
              "\n",
              "                        })                };                            </script>        </div>\n",
              "</body>\n",
              "</html>"
            ]
          },
          "metadata": {},
          "output_type": "display_data"
        }
      ],
      "source": [
        "# Take names of the saved files\n",
        "model_name_list = [\"GATv2prebuilt.results\",\"GATprebuilt.results\"]\n",
        "#Assign names to plots\n",
        "names = [\"GATv2_prebuilt\", \"GAT_prebuilt\"]\n",
        "\n",
        "#Iterate to load saved outputs and plots\n",
        "mm_list0 = [load_results(fn) for fn in model_name_list]\n",
        "plot_training_comp(mm_list0, names, \"aucroc\",title=\"Val set aucroc comparison\")\n"
      ]
    },
    {
      "attachments": {},
      "cell_type": "markdown",
      "metadata": {
        "id": "lxYtzen9q2TO"
      },
      "source": [
        "## Best metrics"
      ]
    },
    {
      "attachments": {},
      "cell_type": "markdown",
      "metadata": {
        "id": "NhGlj6o8Oe42"
      },
      "source": [
        "Next, we show you the best results of each model into a table."
      ]
    },
    {
      "cell_type": "code",
      "execution_count": 40,
      "metadata": {
        "id": "9MTGPg77BKde"
      },
      "outputs": [],
      "source": [
        "# Plot best results of each into a table\n",
        "aucroc_l = []\n",
        "accuracy_l = []\n",
        "f1micro_l = []\n",
        "f1macro_l = []\n",
        "model_versions = []\n",
        "for c1, mm in enumerate(mm_list0):\n",
        "  model_versions.append(names[c1])\n",
        "  best = mm.get_best(\"aucroc\")\n",
        "\n",
        "  aucroc_l.append(best[\"aucroc\"])\n",
        "  accuracy_l.append(best[\"accuracy\"])\n",
        "  f1micro_l.append(best[\"f1micro\"])\n",
        "  f1macro_l.append(best[\"f1macro\"])\n",
        "\n",
        "d = {\"model_version\": model_versions, \"aucroc\":aucroc_l, \"accuracy\": accuracy_l, \"f1_macro\": f1macro_l, \"f1_micro\": f1micro_l}\n",
        "df = pd.DataFrame(data=d)"
      ]
    },
    {
      "cell_type": "code",
      "execution_count": 41,
      "metadata": {
        "colab": {
          "base_uri": "https://localhost:8080/",
          "height": 112
        },
        "id": "oETgjugvBKgR",
        "outputId": "950aa7e5-b130-4548-fe7a-d848e22c65b9"
      },
      "outputs": [
        {
          "data": {
            "text/html": [
              "\n",
              "  <div id=\"df-288663de-8682-4ce0-8a69-8fecd2c03e8b\">\n",
              "    <div class=\"colab-df-container\">\n",
              "      <div>\n",
              "<style scoped>\n",
              "    .dataframe tbody tr th:only-of-type {\n",
              "        vertical-align: middle;\n",
              "    }\n",
              "\n",
              "    .dataframe tbody tr th {\n",
              "        vertical-align: top;\n",
              "    }\n",
              "\n",
              "    .dataframe thead th {\n",
              "        text-align: right;\n",
              "    }\n",
              "</style>\n",
              "<table border=\"1\" class=\"dataframe\">\n",
              "  <thead>\n",
              "    <tr style=\"text-align: right;\">\n",
              "      <th></th>\n",
              "      <th>model_version</th>\n",
              "      <th>aucroc</th>\n",
              "      <th>accuracy</th>\n",
              "      <th>f1_macro</th>\n",
              "      <th>f1_micro</th>\n",
              "    </tr>\n",
              "  </thead>\n",
              "  <tbody>\n",
              "    <tr>\n",
              "      <th>0</th>\n",
              "      <td>GATv2_prebuilt</td>\n",
              "      <td>0.985</td>\n",
              "      <td>0.979</td>\n",
              "      <td>0.939</td>\n",
              "      <td>0.979</td>\n",
              "    </tr>\n",
              "    <tr>\n",
              "      <th>1</th>\n",
              "      <td>GAT_prebuilt</td>\n",
              "      <td>0.984</td>\n",
              "      <td>0.975</td>\n",
              "      <td>0.925</td>\n",
              "      <td>0.975</td>\n",
              "    </tr>\n",
              "  </tbody>\n",
              "</table>\n",
              "</div>\n",
              "      <button class=\"colab-df-convert\" onclick=\"convertToInteractive('df-288663de-8682-4ce0-8a69-8fecd2c03e8b')\"\n",
              "              title=\"Convert this dataframe to an interactive table.\"\n",
              "              style=\"display:none;\">\n",
              "        \n",
              "  <svg xmlns=\"http://www.w3.org/2000/svg\" height=\"24px\"viewBox=\"0 0 24 24\"\n",
              "       width=\"24px\">\n",
              "    <path d=\"M0 0h24v24H0V0z\" fill=\"none\"/>\n",
              "    <path d=\"M18.56 5.44l.94 2.06.94-2.06 2.06-.94-2.06-.94-.94-2.06-.94 2.06-2.06.94zm-11 1L8.5 8.5l.94-2.06 2.06-.94-2.06-.94L8.5 2.5l-.94 2.06-2.06.94zm10 10l.94 2.06.94-2.06 2.06-.94-2.06-.94-.94-2.06-.94 2.06-2.06.94z\"/><path d=\"M17.41 7.96l-1.37-1.37c-.4-.4-.92-.59-1.43-.59-.52 0-1.04.2-1.43.59L10.3 9.45l-7.72 7.72c-.78.78-.78 2.05 0 2.83L4 21.41c.39.39.9.59 1.41.59.51 0 1.02-.2 1.41-.59l7.78-7.78 2.81-2.81c.8-.78.8-2.07 0-2.86zM5.41 20L4 18.59l7.72-7.72 1.47 1.35L5.41 20z\"/>\n",
              "  </svg>\n",
              "      </button>\n",
              "      \n",
              "  <style>\n",
              "    .colab-df-container {\n",
              "      display:flex;\n",
              "      flex-wrap:wrap;\n",
              "      gap: 12px;\n",
              "    }\n",
              "\n",
              "    .colab-df-convert {\n",
              "      background-color: #E8F0FE;\n",
              "      border: none;\n",
              "      border-radius: 50%;\n",
              "      cursor: pointer;\n",
              "      display: none;\n",
              "      fill: #1967D2;\n",
              "      height: 32px;\n",
              "      padding: 0 0 0 0;\n",
              "      width: 32px;\n",
              "    }\n",
              "\n",
              "    .colab-df-convert:hover {\n",
              "      background-color: #E2EBFA;\n",
              "      box-shadow: 0px 1px 2px rgba(60, 64, 67, 0.3), 0px 1px 3px 1px rgba(60, 64, 67, 0.15);\n",
              "      fill: #174EA6;\n",
              "    }\n",
              "\n",
              "    [theme=dark] .colab-df-convert {\n",
              "      background-color: #3B4455;\n",
              "      fill: #D2E3FC;\n",
              "    }\n",
              "\n",
              "    [theme=dark] .colab-df-convert:hover {\n",
              "      background-color: #434B5C;\n",
              "      box-shadow: 0px 1px 3px 1px rgba(0, 0, 0, 0.15);\n",
              "      filter: drop-shadow(0px 1px 2px rgba(0, 0, 0, 0.3));\n",
              "      fill: #FFFFFF;\n",
              "    }\n",
              "  </style>\n",
              "\n",
              "      <script>\n",
              "        const buttonEl =\n",
              "          document.querySelector('#df-288663de-8682-4ce0-8a69-8fecd2c03e8b button.colab-df-convert');\n",
              "        buttonEl.style.display =\n",
              "          google.colab.kernel.accessAllowed ? 'block' : 'none';\n",
              "\n",
              "        async function convertToInteractive(key) {\n",
              "          const element = document.querySelector('#df-288663de-8682-4ce0-8a69-8fecd2c03e8b');\n",
              "          const dataTable =\n",
              "            await google.colab.kernel.invokeFunction('convertToInteractive',\n",
              "                                                     [key], {});\n",
              "          if (!dataTable) return;\n",
              "\n",
              "          const docLinkHtml = 'Like what you see? Visit the ' +\n",
              "            '<a target=\"_blank\" href=https://colab.research.google.com/notebooks/data_table.ipynb>data table notebook</a>'\n",
              "            + ' to learn more about interactive tables.';\n",
              "          element.innerHTML = '';\n",
              "          dataTable['output_type'] = 'display_data';\n",
              "          await google.colab.output.renderOutput(dataTable, element);\n",
              "          const docLink = document.createElement('div');\n",
              "          docLink.innerHTML = docLinkHtml;\n",
              "          element.appendChild(docLink);\n",
              "        }\n",
              "      </script>\n",
              "    </div>\n",
              "  </div>\n",
              "  "
            ],
            "text/plain": [
              "    model_version  aucroc  accuracy  f1_macro  f1_micro\n",
              "0  GATv2_prebuilt   0.985     0.979     0.939     0.979\n",
              "1    GAT_prebuilt   0.984     0.975     0.925     0.975"
            ]
          },
          "execution_count": 41,
          "metadata": {},
          "output_type": "execute_result"
        }
      ],
      "source": [
        "df.round(3)"
      ]
    }
  ],
  "metadata": {
    "accelerator": "GPU",
    "colab": {
      "gpuType": "T4",
      "provenance": []
    },
    "gpuClass": "standard",
    "kernelspec": {
      "display_name": "Python 3",
      "language": "python",
      "name": "python3"
    },
    "language_info": {
      "codemirror_mode": {
        "name": "ipython",
        "version": 3
      },
      "file_extension": ".py",
      "mimetype": "text/x-python",
      "name": "python",
      "nbconvert_exporter": "python",
      "pygments_lexer": "ipython3",
      "version": "3.10.11"
    },
    "papermill": {
      "duration": 1465.987228,
      "end_time": "2021-02-28T17:20:32.623450",
      "environment_variables": {},
      "exception": null,
      "input_path": "__notebook__.ipynb",
      "output_path": "__notebook__.ipynb",
      "parameters": {},
      "start_time": "2021-02-28T16:56:06.636222",
      "version": "2.1.0"
    }
  },
  "nbformat": 4,
  "nbformat_minor": 0
}
