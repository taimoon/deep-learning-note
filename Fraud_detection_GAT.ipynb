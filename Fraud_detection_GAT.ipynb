{
  "nbformat": 4,
  "nbformat_minor": 0,
  "metadata": {
    "colab": {
      "provenance": [],
      "gpuType": "T4"
    },
    "kernelspec": {
      "display_name": "Python 3",
      "language": "python",
      "name": "python3"
    },
    "language_info": {
      "codemirror_mode": {
        "name": "ipython",
        "version": 3
      },
      "file_extension": ".py",
      "mimetype": "text/x-python",
      "name": "python",
      "nbconvert_exporter": "python",
      "pygments_lexer": "ipython3",
      "version": "3.7.6"
    },
    "papermill": {
      "duration": 1465.987228,
      "end_time": "2021-02-28T17:20:32.623450",
      "environment_variables": {},
      "exception": null,
      "input_path": "__notebook__.ipynb",
      "output_path": "__notebook__.ipynb",
      "parameters": {},
      "start_time": "2021-02-28T16:56:06.636222",
      "version": "2.1.0"
    },
    "accelerator": "GPU",
    "gpuClass": "standard"
  },
  "cells": [
    {
      "cell_type": "markdown",
      "metadata": {
        "id": "zLMuhq4yRJzr"
      },
      "source": [
        "# Tutorial: Fraud detection with Graph Attention Networks \n",
        "By Sing Kwan NG and Anthony TAING as part of the Stanford CS224W course project.\n",
        "In this tutorial we will show you the fraud detection use case (for a node classification task) on Bitcoin dataset  by using the first version of GAT model and the GATv2 (Graph Attention Network model version2) .We will implement it by using our customs layers with PyG and the buitin PyG layers. "
      ]
    },
    {
      "cell_type": "markdown",
      "metadata": {
        "id": "lWTFyFVZw1kO"
      },
      "source": [
        "# Setup\n"
      ]
    },
    {
      "cell_type": "markdown",
      "metadata": {
        "id": "PwavR0-w3ZCf"
      },
      "source": [
        "## Mount Drive"
      ]
    },
    {
      "cell_type": "code",
      "metadata": {
        "id": "L4DDt8x8Oba4"
      },
      "source": [
        "# project  foldername\n",
        "\n",
        "FOLDERNAME = \"/content/\"\n",
        "!mkdir save_results\n",
        "\n",
        "# load python files from foldername\n",
        "import sys\n",
        "sys.path.append(FOLDERNAME)\n",
        "\n",
        "# for auto-reloading external modules\n",
        "%load_ext autoreload\n",
        "%autoreload 2"
      ],
      "execution_count": 1,
      "outputs": []
    },
    {
      "cell_type": "markdown",
      "metadata": {
        "id": "Q_j02Aba5eNG"
      },
      "source": [
        "## Load packages"
      ]
    },
    {
      "cell_type": "code",
      "metadata": {
        "id": "kW9hc_ZoTfII",
        "colab": {
          "base_uri": "https://localhost:8080/"
        },
        "outputId": "76f1c19c-11c6-436c-d10b-a43f8bd1a110"
      },
      "source": [
        "!pip install torch_geometric pyg_lib torch_scatter torch_sparse torch_cluster torch_spline_conv -f https://data.pyg.org/whl/torch-2.0.0+cu118.html"
      ],
      "execution_count": 2,
      "outputs": [
        {
          "output_type": "stream",
          "name": "stdout",
          "text": [
            "2.0.0+cu118\n"
          ]
        }
      ]
    },
    {
      "cell_type": "code",
      "metadata": {
        "id": "57DpXDnG1s3Y"
      },
      "source": [
        "import numpy as np\n",
        "import pandas as pd\n",
        "import torch\n",
        "import matplotlib.pyplot as plt\n",
        "\n",
        "from torch.nn import Linear, LayerNorm, ReLU, Dropout\n",
        "import torch.nn.functional as F\n",
        "from torch_geometric.data import Data, DataLoader\n",
        "from sklearn.metrics import accuracy_score,f1_score,roc_auc_score, precision_score, recall_score, confusion_matrix\n",
        "\n",
        "import scipy.sparse as sp\n",
        "\n",
        "import warnings\n",
        "warnings.filterwarnings(\"ignore\")\n",
        "import pandas as pd\n",
        "from sklearn.model_selection import train_test_split\n",
        "\n",
        "import torch.nn.functional as F\n",
        "from sklearn.metrics import roc_auc_score\n",
        "from torch.nn import Linear\n",
        "from torch_geometric.nn import GCNConv,GATConv,GATv2Conv\n"
      ],
      "execution_count": 7,
      "outputs": []
    },
    {
      "cell_type": "markdown",
      "metadata": {
        "id": "JG_52jrERTM_"
      },
      "source": [
        "# Data ETL"
      ]
    },
    {
      "cell_type": "markdown",
      "metadata": {
        "id": "jniLGaFGRyx7"
      },
      "source": [
        "We have hosted the dataset on Gdrive to the public for convenience for one click download. However, the original data is hosted on kaggle as well. If you want to download data from Kaggle using API(if you already have an account) or get it manually from: https://www.kaggle.com/ellipticco/elliptic-data-set."
      ]
    },
    {
      "cell_type": "code",
      "metadata": {
        "id": "7oLt6VonR28x"
      },
      "source": [
        "Download=True"
      ],
      "execution_count": 8,
      "outputs": []
    },
    {
      "cell_type": "markdown",
      "metadata": {
        "id": "7gic9Q6NR3He"
      },
      "source": [
        "## Download data"
      ]
    },
    {
      "cell_type": "code",
      "metadata": {
        "id": "ylI6JzktSCzR",
        "colab": {
          "base_uri": "https://localhost:8080/"
        },
        "outputId": "29e7ff5f-7bcc-44ea-b9b3-b778c16ae7e8"
      },
      "source": [
        "if Download:\n",
        "  !gdown --id 1CIFpAquzYBA98gQCdMb92fC0w6yrYf2m\n",
        "  !gdown --id 1Cfh0VIXWTc8EK96WRZdyaqgA2-JwvsUG\n",
        "  !gdown --id 1Cfh8hA9Tl8uCPrLSmcIQI3qCbEjOFl7C"
      ],
      "execution_count": 9,
      "outputs": [
        {
          "output_type": "stream",
          "name": "stdout",
          "text": [
            "/usr/local/lib/python3.10/dist-packages/gdown/cli.py:121: FutureWarning: Option `--id` was deprecated in version 4.3.1 and will be removed in 5.0. You don't need to pass it anymore to use a file ID.\n",
            "  warnings.warn(\n",
            "Downloading...\n",
            "From: https://drive.google.com/uc?id=1CIFpAquzYBA98gQCdMb92fC0w6yrYf2m\n",
            "To: /content/elliptic_txs_edgelist.csv\n",
            "100% 4.47M/4.47M [00:00<00:00, 118MB/s]\n",
            "/usr/local/lib/python3.10/dist-packages/gdown/cli.py:121: FutureWarning: Option `--id` was deprecated in version 4.3.1 and will be removed in 5.0. You don't need to pass it anymore to use a file ID.\n",
            "  warnings.warn(\n",
            "Downloading...\n",
            "From: https://drive.google.com/uc?id=1Cfh0VIXWTc8EK96WRZdyaqgA2-JwvsUG\n",
            "To: /content/elliptic_txs_classes.csv\n",
            "100% 3.31M/3.31M [00:00<00:00, 231MB/s]\n",
            "/usr/local/lib/python3.10/dist-packages/gdown/cli.py:121: FutureWarning: Option `--id` was deprecated in version 4.3.1 and will be removed in 5.0. You don't need to pass it anymore to use a file ID.\n",
            "  warnings.warn(\n",
            "Downloading...\n",
            "From: https://drive.google.com/uc?id=1Cfh8hA9Tl8uCPrLSmcIQI3qCbEjOFl7C\n",
            "To: /content/elliptic_txs_features.csv\n",
            "100% 690M/690M [00:06<00:00, 109MB/s]\n"
          ]
        }
      ]
    },
    {
      "cell_type": "markdown",
      "metadata": {
        "id": "KIomF3GmwLDv"
      },
      "source": [
        "## Load data\n",
        "We reformat classes into numerical values Unknown:2,Illicit:1 and Licit:0."
      ]
    },
    {
      "cell_type": "code",
      "metadata": {
        "id": "Z_FW_uxL2Dag"
      },
      "source": [
        "# Load data from the folder\n",
        "df_features = pd.read_csv(FOLDERNAME+'elliptic_txs_features.csv',header=None)\n",
        "df_edges = pd.read_csv(FOLDERNAME+\"elliptic_txs_edgelist.csv\")\n",
        "df_classes =  pd.read_csv(FOLDERNAME+\"elliptic_txs_classes.csv\")\n",
        "  "
      ],
      "execution_count": 10,
      "outputs": []
    },
    {
      "cell_type": "code",
      "metadata": {
        "id": "DNoIdIrQ6BGU"
      },
      "source": [
        "# Add class names for easy understanding\n",
        "# reformat classes 0:licit, 1:illicit, 2:unknow \n",
        "df_classes['class'] = df_classes['class'].map({'unknown': 2, '1':1, '2':0}) "
      ],
      "execution_count": 11,
      "outputs": []
    },
    {
      "cell_type": "code",
      "metadata": {
        "id": "AUHm-fiwgmM1",
        "colab": {
          "base_uri": "https://localhost:8080/",
          "height": 469
        },
        "outputId": "7af413d2-e043-41b6-c2b2-8c61422f2e2d"
      },
      "source": [
        "# See repartition of nodes per class\n",
        "group_class = df_classes.groupby('class').count()\n",
        "plt.title(\"# of nodes per class\")\n",
        "plt.barh([ 'Licit','Illicit', 'Unknown'], group_class['txId'].values, color=['g', 'orange', 'r'] )\n"
      ],
      "execution_count": 12,
      "outputs": [
        {
          "output_type": "execute_result",
          "data": {
            "text/plain": [
              "<BarContainer object of 3 artists>"
            ]
          },
          "metadata": {},
          "execution_count": 12
        },
        {
          "output_type": "display_data",
          "data": {
            "text/plain": [
              "<Figure size 640x480 with 1 Axes>"
            ],
            "image/png": "[encoded data removed]"
          },
          "metadata": {}
        }
      ]
    },
    {
      "cell_type": "markdown",
      "metadata": {
        "id": "gN2WP_zbSnCY"
      },
      "source": [
        "## Preview of data features, edges and their labels"
      ]
    },
    {
      "cell_type": "code",
      "metadata": {
        "id": "r2mZecSGSmc_",
        "colab": {
          "base_uri": "https://localhost:8080/",
          "height": 299
        },
        "outputId": "2005cebb-e376-4da5-fbe4-97a4ae71e938"
      },
      "source": [
        "# View node features\n",
        "# Data is each node is a transaction ID, and edges are a bit weird, but its like a \"previous transaction\" edge type\n",
        "# colume 0 = transaction id\n",
        "df_features.head()"
      ],
      "execution_count": 13,
      "outputs": [
        {
          "output_type": "execute_result",
          "data": {
            "text/plain": [
              "         0    1         2         3         4          5         6    \\\n",
              "0  230425980    1 -0.171469 -0.184668 -1.201369  -0.121970 -0.043875   \n",
              "1    5530458    1 -0.171484 -0.184668 -1.201369  -0.121970 -0.043875   \n",
              "2  232022460    1 -0.172107 -0.184668 -1.201369  -0.121970 -0.043875   \n",
              "3  232438397    1  0.163054  1.963790 -0.646376  12.409294 -0.063725   \n",
              "4  230460314    1  1.011523 -0.081127 -1.201369   1.153668  0.333276   \n",
              "\n",
              "        7          8         9    ...       157       158       159       160  \\\n",
              "0 -0.113002  -0.061584 -0.162097  ... -0.562153 -0.600999  1.461330  1.461369   \n",
              "1 -0.113002  -0.061584 -0.162112  ...  0.947382  0.673103 -0.979074 -0.978556   \n",
              "2 -0.113002  -0.061584 -0.162749  ...  0.670883  0.439728 -0.979074 -0.978556   \n",
              "3  9.782742  12.414558 -0.163645  ... -0.577099 -0.613614  0.241128  0.241406   \n",
              "4  1.312656  -0.061584 -0.163523  ... -0.511871 -0.400422  0.517257  0.579382   \n",
              "\n",
              "        161       162       163       164       165       166  \n",
              "0  0.018279 -0.087490 -0.131155 -0.097524 -0.120613 -0.119792  \n",
              "1  0.018279 -0.087490 -0.131155 -0.097524 -0.120613 -0.119792  \n",
              "2 -0.098889 -0.106715 -0.131155 -0.183671 -0.120613 -0.119792  \n",
              "3  1.072793  0.085530 -0.131155  0.677799 -0.120613 -0.119792  \n",
              "4  0.018279  0.277775  0.326394  1.293750  0.178136  0.179117  \n",
              "\n",
              "[5 rows x 167 columns]"
            ],
            "text/html": [
              "\n",
              "  <div id=\"df-90ea222d-bf68-42cf-8f10-fbe7ecc58777\">\n",
              "    <div class=\"colab-df-container\">\n",
              "      <div>\n",
              "<style scoped>\n",
              "    .dataframe tbody tr th:only-of-type {\n",
              "        vertical-align: middle;\n",
              "    }\n",
              "\n",
              "    .dataframe tbody tr th {\n",
              "        vertical-align: top;\n",
              "    }\n",
              "\n",
              "    .dataframe thead th {\n",
              "        text-align: right;\n",
              "    }\n",
              "</style>\n",
              "<table border=\"1\" class=\"dataframe\">\n",
              "  <thead>\n",
              "    <tr style=\"text-align: right;\">\n",
              "      <th></th>\n",
              "      <th>0</th>\n",
              "      <th>1</th>\n",
              "      <th>2</th>\n",
              "      <th>3</th>\n",
              "      <th>4</th>\n",
              "      <th>5</th>\n",
              "      <th>6</th>\n",
              "      <th>7</th>\n",
              "      <th>8</th>\n",
              "      <th>9</th>\n",
              "      <th>...</th>\n",
              "      <th>157</th>\n",
              "      <th>158</th>\n",
              "      <th>159</th>\n",
              "      <th>160</th>\n",
              "      <th>161</th>\n",
              "      <th>162</th>\n",
              "      <th>163</th>\n",
              "      <th>164</th>\n",
              "      <th>165</th>\n",
              "      <th>166</th>\n",
              "    </tr>\n",
              "  </thead>\n",
              "  <tbody>\n",
              "    <tr>\n",
              "      <th>0</th>\n",
              "      <td>230425980</td>\n",
              "      <td>1</td>\n",
              "      <td>-0.171469</td>\n",
              "      <td>-0.184668</td>\n",
              "      <td>-1.201369</td>\n",
              "      <td>-0.121970</td>\n",
              "      <td>-0.043875</td>\n",
              "      <td>-0.113002</td>\n",
              "      <td>-0.061584</td>\n",
              "      <td>-0.162097</td>\n",
              "      <td>...</td>\n",
              "      <td>-0.562153</td>\n",
              "      <td>-0.600999</td>\n",
              "      <td>1.461330</td>\n",
              "      <td>1.461369</td>\n",
              "      <td>0.018279</td>\n",
              "      <td>-0.087490</td>\n",
              "      <td>-0.131155</td>\n",
              "      <td>-0.097524</td>\n",
              "      <td>-0.120613</td>\n",
              "      <td>-0.119792</td>\n",
              "    </tr>\n",
              "    <tr>\n",
              "      <th>1</th>\n",
              "      <td>5530458</td>\n",
              "      <td>1</td>\n",
              "      <td>-0.171484</td>\n",
              "      <td>-0.184668</td>\n",
              "      <td>-1.201369</td>\n",
              "      <td>-0.121970</td>\n",
              "      <td>-0.043875</td>\n",
              "      <td>-0.113002</td>\n",
              "      <td>-0.061584</td>\n",
              "      <td>-0.162112</td>\n",
              "      <td>...</td>\n",
              "      <td>0.947382</td>\n",
              "      <td>0.673103</td>\n",
              "      <td>-0.979074</td>\n",
              "      <td>-0.978556</td>\n",
              "      <td>0.018279</td>\n",
              "      <td>-0.087490</td>\n",
              "      <td>-0.131155</td>\n",
              "      <td>-0.097524</td>\n",
              "      <td>-0.120613</td>\n",
              "      <td>-0.119792</td>\n",
              "    </tr>\n",
              "    <tr>\n",
              "      <th>2</th>\n",
              "      <td>232022460</td>\n",
              "      <td>1</td>\n",
              "      <td>-0.172107</td>\n",
              "      <td>-0.184668</td>\n",
              "      <td>-1.201369</td>\n",
              "      <td>-0.121970</td>\n",
              "      <td>-0.043875</td>\n",
              "      <td>-0.113002</td>\n",
              "      <td>-0.061584</td>\n",
              "      <td>-0.162749</td>\n",
              "      <td>...</td>\n",
              "      <td>0.670883</td>\n",
              "      <td>0.439728</td>\n",
              "      <td>-0.979074</td>\n",
              "      <td>-0.978556</td>\n",
              "      <td>-0.098889</td>\n",
              "      <td>-0.106715</td>\n",
              "      <td>-0.131155</td>\n",
              "      <td>-0.183671</td>\n",
              "      <td>-0.120613</td>\n",
              "      <td>-0.119792</td>\n",
              "    </tr>\n",
              "    <tr>\n",
              "      <th>3</th>\n",
              "      <td>232438397</td>\n",
              "      <td>1</td>\n",
              "      <td>0.163054</td>\n",
              "      <td>1.963790</td>\n",
              "      <td>-0.646376</td>\n",
              "      <td>12.409294</td>\n",
              "      <td>-0.063725</td>\n",
              "      <td>9.782742</td>\n",
              "      <td>12.414558</td>\n",
              "      <td>-0.163645</td>\n",
              "      <td>...</td>\n",
              "      <td>-0.577099</td>\n",
              "      <td>-0.613614</td>\n",
              "      <td>0.241128</td>\n",
              "      <td>0.241406</td>\n",
              "      <td>1.072793</td>\n",
              "      <td>0.085530</td>\n",
              "      <td>-0.131155</td>\n",
              "      <td>0.677799</td>\n",
              "      <td>-0.120613</td>\n",
              "      <td>-0.119792</td>\n",
              "    </tr>\n",
              "    <tr>\n",
              "      <th>4</th>\n",
              "      <td>230460314</td>\n",
              "      <td>1</td>\n",
              "      <td>1.011523</td>\n",
              "      <td>-0.081127</td>\n",
              "      <td>-1.201369</td>\n",
              "      <td>1.153668</td>\n",
              "      <td>0.333276</td>\n",
              "      <td>1.312656</td>\n",
              "      <td>-0.061584</td>\n",
              "      <td>-0.163523</td>\n",
              "      <td>...</td>\n",
              "      <td>-0.511871</td>\n",
              "      <td>-0.400422</td>\n",
              "      <td>0.517257</td>\n",
              "      <td>0.579382</td>\n",
              "      <td>0.018279</td>\n",
              "      <td>0.277775</td>\n",
              "      <td>0.326394</td>\n",
              "      <td>1.293750</td>\n",
              "      <td>0.178136</td>\n",
              "      <td>0.179117</td>\n",
              "    </tr>\n",
              "  </tbody>\n",
              "</table>\n",
              "<p>5 rows × 167 columns</p>\n",
              "</div>\n",
              "      <button class=\"colab-df-convert\" onclick=\"convertToInteractive('df-90ea222d-bf68-42cf-8f10-fbe7ecc58777')\"\n",
              "              title=\"Convert this dataframe to an interactive table.\"\n",
              "              style=\"display:none;\">\n",
              "        \n",
              "  <svg xmlns=\"http://www.w3.org/2000/svg\" height=\"24px\"viewBox=\"0 0 24 24\"\n",
              "       width=\"24px\">\n",
              "    <path d=\"M0 0h24v24H0V0z\" fill=\"none\"/>\n",
              "    <path d=\"M18.56 5.44l.94 2.06.94-2.06 2.06-.94-2.06-.94-.94-2.06-.94 2.06-2.06.94zm-11 1L8.5 8.5l.94-2.06 2.06-.94-2.06-.94L8.5 2.5l-.94 2.06-2.06.94zm10 10l.94 2.06.94-2.06 2.06-.94-2.06-.94-.94-2.06-.94 2.06-2.06.94z\"/><path d=\"M17.41 7.96l-1.37-1.37c-.4-.4-.92-.59-1.43-.59-.52 0-1.04.2-1.43.59L10.3 9.45l-7.72 7.72c-.78.78-.78 2.05 0 2.83L4 21.41c.39.39.9.59 1.41.59.51 0 1.02-.2 1.41-.59l7.78-7.78 2.81-2.81c.8-.78.8-2.07 0-2.86zM5.41 20L4 18.59l7.72-7.72 1.47 1.35L5.41 20z\"/>\n",
              "  </svg>\n",
              "      </button>\n",
              "      \n",
              "  <style>\n",
              "    .colab-df-container {\n",
              "      display:flex;\n",
              "      flex-wrap:wrap;\n",
              "      gap: 12px;\n",
              "    }\n",
              "\n",
              "    .colab-df-convert {\n",
              "      background-color: #E8F0FE;\n",
              "      border: none;\n",
              "      border-radius: 50%;\n",
              "      cursor: pointer;\n",
              "      display: none;\n",
              "      fill: #1967D2;\n",
              "      height: 32px;\n",
              "      padding: 0 0 0 0;\n",
              "      width: 32px;\n",
              "    }\n",
              "\n",
              "    .colab-df-convert:hover {\n",
              "      background-color: #E2EBFA;\n",
              "      box-shadow: 0px 1px 2px rgba(60, 64, 67, 0.3), 0px 1px 3px 1px rgba(60, 64, 67, 0.15);\n",
              "      fill: #174EA6;\n",
              "    }\n",
              "\n",
              "    [theme=dark] .colab-df-convert {\n",
              "      background-color: #3B4455;\n",
              "      fill: #D2E3FC;\n",
              "    }\n",
              "\n",
              "    [theme=dark] .colab-df-convert:hover {\n",
              "      background-color: #434B5C;\n",
              "      box-shadow: 0px 1px 3px 1px rgba(0, 0, 0, 0.15);\n",
              "      filter: drop-shadow(0px 1px 2px rgba(0, 0, 0, 0.3));\n",
              "      fill: #FFFFFF;\n",
              "    }\n",
              "  </style>\n",
              "\n",
              "      <script>\n",
              "        const buttonEl =\n",
              "          document.querySelector('#df-90ea222d-bf68-42cf-8f10-fbe7ecc58777 button.colab-df-convert');\n",
              "        buttonEl.style.display =\n",
              "          google.colab.kernel.accessAllowed ? 'block' : 'none';\n",
              "\n",
              "        async function convertToInteractive(key) {\n",
              "          const element = document.querySelector('#df-90ea222d-bf68-42cf-8f10-fbe7ecc58777');\n",
              "          const dataTable =\n",
              "            await google.colab.kernel.invokeFunction('convertToInteractive',\n",
              "                                                     [key], {});\n",
              "          if (!dataTable) return;\n",
              "\n",
              "          const docLinkHtml = 'Like what you see? Visit the ' +\n",
              "            '<a target=\"_blank\" href=https://colab.research.google.com/notebooks/data_table.ipynb>data table notebook</a>'\n",
              "            + ' to learn more about interactive tables.';\n",
              "          element.innerHTML = '';\n",
              "          dataTable['output_type'] = 'display_data';\n",
              "          await google.colab.output.renderOutput(dataTable, element);\n",
              "          const docLink = document.createElement('div');\n",
              "          docLink.innerHTML = docLinkHtml;\n",
              "          element.appendChild(docLink);\n",
              "        }\n",
              "      </script>\n",
              "    </div>\n",
              "  </div>\n",
              "  "
            ]
          },
          "metadata": {},
          "execution_count": 13
        }
      ]
    },
    {
      "cell_type": "code",
      "metadata": {
        "id": "-f5ZR1oMSqE0",
        "colab": {
          "base_uri": "https://localhost:8080/",
          "height": 206
        },
        "outputId": "fc42fa3b-326a-48f9-8d87-3fc16fc1a394"
      },
      "source": [
        "# See edges\n",
        "df_edges.head()"
      ],
      "execution_count": 14,
      "outputs": [
        {
          "output_type": "execute_result",
          "data": {
            "text/plain": [
              "       txId1      txId2\n",
              "0  230425980    5530458\n",
              "1  232022460  232438397\n",
              "2  230460314  230459870\n",
              "3  230333930  230595899\n",
              "4  232013274  232029206"
            ],
            "text/html": [
              "\n",
              "  <div id=\"df-b7b920d2-1ebe-428a-8111-6418821c393b\">\n",
              "    <div class=\"colab-df-container\">\n",
              "      <div>\n",
              "<style scoped>\n",
              "    .dataframe tbody tr th:only-of-type {\n",
              "        vertical-align: middle;\n",
              "    }\n",
              "\n",
              "    .dataframe tbody tr th {\n",
              "        vertical-align: top;\n",
              "    }\n",
              "\n",
              "    .dataframe thead th {\n",
              "        text-align: right;\n",
              "    }\n",
              "</style>\n",
              "<table border=\"1\" class=\"dataframe\">\n",
              "  <thead>\n",
              "    <tr style=\"text-align: right;\">\n",
              "      <th></th>\n",
              "      <th>txId1</th>\n",
              "      <th>txId2</th>\n",
              "    </tr>\n",
              "  </thead>\n",
              "  <tbody>\n",
              "    <tr>\n",
              "      <th>0</th>\n",
              "      <td>230425980</td>\n",
              "      <td>5530458</td>\n",
              "    </tr>\n",
              "    <tr>\n",
              "      <th>1</th>\n",
              "      <td>232022460</td>\n",
              "      <td>232438397</td>\n",
              "    </tr>\n",
              "    <tr>\n",
              "      <th>2</th>\n",
              "      <td>230460314</td>\n",
              "      <td>230459870</td>\n",
              "    </tr>\n",
              "    <tr>\n",
              "      <th>3</th>\n",
              "      <td>230333930</td>\n",
              "      <td>230595899</td>\n",
              "    </tr>\n",
              "    <tr>\n",
              "      <th>4</th>\n",
              "      <td>232013274</td>\n",
              "      <td>232029206</td>\n",
              "    </tr>\n",
              "  </tbody>\n",
              "</table>\n",
              "</div>\n",
              "      <button class=\"colab-df-convert\" onclick=\"convertToInteractive('df-b7b920d2-1ebe-428a-8111-6418821c393b')\"\n",
              "              title=\"Convert this dataframe to an interactive table.\"\n",
              "              style=\"display:none;\">\n",
              "        \n",
              "  <svg xmlns=\"http://www.w3.org/2000/svg\" height=\"24px\"viewBox=\"0 0 24 24\"\n",
              "       width=\"24px\">\n",
              "    <path d=\"M0 0h24v24H0V0z\" fill=\"none\"/>\n",
              "    <path d=\"M18.56 5.44l.94 2.06.94-2.06 2.06-.94-2.06-.94-.94-2.06-.94 2.06-2.06.94zm-11 1L8.5 8.5l.94-2.06 2.06-.94-2.06-.94L8.5 2.5l-.94 2.06-2.06.94zm10 10l.94 2.06.94-2.06 2.06-.94-2.06-.94-.94-2.06-.94 2.06-2.06.94z\"/><path d=\"M17.41 7.96l-1.37-1.37c-.4-.4-.92-.59-1.43-.59-.52 0-1.04.2-1.43.59L10.3 9.45l-7.72 7.72c-.78.78-.78 2.05 0 2.83L4 21.41c.39.39.9.59 1.41.59.51 0 1.02-.2 1.41-.59l7.78-7.78 2.81-2.81c.8-.78.8-2.07 0-2.86zM5.41 20L4 18.59l7.72-7.72 1.47 1.35L5.41 20z\"/>\n",
              "  </svg>\n",
              "      </button>\n",
              "      \n",
              "  <style>\n",
              "    .colab-df-container {\n",
              "      display:flex;\n",
              "      flex-wrap:wrap;\n",
              "      gap: 12px;\n",
              "    }\n",
              "\n",
              "    .colab-df-convert {\n",
              "      background-color: #E8F0FE;\n",
              "      border: none;\n",
              "      border-radius: 50%;\n",
              "      cursor: pointer;\n",
              "      display: none;\n",
              "      fill: #1967D2;\n",
              "      height: 32px;\n",
              "      padding: 0 0 0 0;\n",
              "      width: 32px;\n",
              "    }\n",
              "\n",
              "    .colab-df-convert:hover {\n",
              "      background-color: #E2EBFA;\n",
              "      box-shadow: 0px 1px 2px rgba(60, 64, 67, 0.3), 0px 1px 3px 1px rgba(60, 64, 67, 0.15);\n",
              "      fill: #174EA6;\n",
              "    }\n",
              "\n",
              "    [theme=dark] .colab-df-convert {\n",
              "      background-color: #3B4455;\n",
              "      fill: #D2E3FC;\n",
              "    }\n",
              "\n",
              "    [theme=dark] .colab-df-convert:hover {\n",
              "      background-color: #434B5C;\n",
              "      box-shadow: 0px 1px 3px 1px rgba(0, 0, 0, 0.15);\n",
              "      filter: drop-shadow(0px 1px 2px rgba(0, 0, 0, 0.3));\n",
              "      fill: #FFFFFF;\n",
              "    }\n",
              "  </style>\n",
              "\n",
              "      <script>\n",
              "        const buttonEl =\n",
              "          document.querySelector('#df-b7b920d2-1ebe-428a-8111-6418821c393b button.colab-df-convert');\n",
              "        buttonEl.style.display =\n",
              "          google.colab.kernel.accessAllowed ? 'block' : 'none';\n",
              "\n",
              "        async function convertToInteractive(key) {\n",
              "          const element = document.querySelector('#df-b7b920d2-1ebe-428a-8111-6418821c393b');\n",
              "          const dataTable =\n",
              "            await google.colab.kernel.invokeFunction('convertToInteractive',\n",
              "                                                     [key], {});\n",
              "          if (!dataTable) return;\n",
              "\n",
              "          const docLinkHtml = 'Like what you see? Visit the ' +\n",
              "            '<a target=\"_blank\" href=https://colab.research.google.com/notebooks/data_table.ipynb>data table notebook</a>'\n",
              "            + ' to learn more about interactive tables.';\n",
              "          element.innerHTML = '';\n",
              "          dataTable['output_type'] = 'display_data';\n",
              "          await google.colab.output.renderOutput(dataTable, element);\n",
              "          const docLink = document.createElement('div');\n",
              "          docLink.innerHTML = docLinkHtml;\n",
              "          element.appendChild(docLink);\n",
              "        }\n",
              "      </script>\n",
              "    </div>\n",
              "  </div>\n",
              "  "
            ]
          },
          "metadata": {},
          "execution_count": 14
        }
      ]
    },
    {
      "cell_type": "code",
      "metadata": {
        "id": "0js6IB3ySqRe",
        "colab": {
          "base_uri": "https://localhost:8080/",
          "height": 206
        },
        "outputId": "01ff5fa2-a9ea-486c-cbd9-2259209bcac9"
      },
      "source": [
        "# See classes\n",
        "df_classes.head()"
      ],
      "execution_count": 15,
      "outputs": [
        {
          "output_type": "execute_result",
          "data": {
            "text/plain": [
              "        txId  class\n",
              "0  230425980      2\n",
              "1    5530458      2\n",
              "2  232022460      2\n",
              "3  232438397      0\n",
              "4  230460314      2"
            ],
            "text/html": [
              "\n",
              "  <div id=\"df-f759646f-194f-4f18-afad-c6f19dcbcb2d\">\n",
              "    <div class=\"colab-df-container\">\n",
              "      <div>\n",
              "<style scoped>\n",
              "    .dataframe tbody tr th:only-of-type {\n",
              "        vertical-align: middle;\n",
              "    }\n",
              "\n",
              "    .dataframe tbody tr th {\n",
              "        vertical-align: top;\n",
              "    }\n",
              "\n",
              "    .dataframe thead th {\n",
              "        text-align: right;\n",
              "    }\n",
              "</style>\n",
              "<table border=\"1\" class=\"dataframe\">\n",
              "  <thead>\n",
              "    <tr style=\"text-align: right;\">\n",
              "      <th></th>\n",
              "      <th>txId</th>\n",
              "      <th>class</th>\n",
              "    </tr>\n",
              "  </thead>\n",
              "  <tbody>\n",
              "    <tr>\n",
              "      <th>0</th>\n",
              "      <td>230425980</td>\n",
              "      <td>2</td>\n",
              "    </tr>\n",
              "    <tr>\n",
              "      <th>1</th>\n",
              "      <td>5530458</td>\n",
              "      <td>2</td>\n",
              "    </tr>\n",
              "    <tr>\n",
              "      <th>2</th>\n",
              "      <td>232022460</td>\n",
              "      <td>2</td>\n",
              "    </tr>\n",
              "    <tr>\n",
              "      <th>3</th>\n",
              "      <td>232438397</td>\n",
              "      <td>0</td>\n",
              "    </tr>\n",
              "    <tr>\n",
              "      <th>4</th>\n",
              "      <td>230460314</td>\n",
              "      <td>2</td>\n",
              "    </tr>\n",
              "  </tbody>\n",
              "</table>\n",
              "</div>\n",
              "      <button class=\"colab-df-convert\" onclick=\"convertToInteractive('df-f759646f-194f-4f18-afad-c6f19dcbcb2d')\"\n",
              "              title=\"Convert this dataframe to an interactive table.\"\n",
              "              style=\"display:none;\">\n",
              "        \n",
              "  <svg xmlns=\"http://www.w3.org/2000/svg\" height=\"24px\"viewBox=\"0 0 24 24\"\n",
              "       width=\"24px\">\n",
              "    <path d=\"M0 0h24v24H0V0z\" fill=\"none\"/>\n",
              "    <path d=\"M18.56 5.44l.94 2.06.94-2.06 2.06-.94-2.06-.94-.94-2.06-.94 2.06-2.06.94zm-11 1L8.5 8.5l.94-2.06 2.06-.94-2.06-.94L8.5 2.5l-.94 2.06-2.06.94zm10 10l.94 2.06.94-2.06 2.06-.94-2.06-.94-.94-2.06-.94 2.06-2.06.94z\"/><path d=\"M17.41 7.96l-1.37-1.37c-.4-.4-.92-.59-1.43-.59-.52 0-1.04.2-1.43.59L10.3 9.45l-7.72 7.72c-.78.78-.78 2.05 0 2.83L4 21.41c.39.39.9.59 1.41.59.51 0 1.02-.2 1.41-.59l7.78-7.78 2.81-2.81c.8-.78.8-2.07 0-2.86zM5.41 20L4 18.59l7.72-7.72 1.47 1.35L5.41 20z\"/>\n",
              "  </svg>\n",
              "      </button>\n",
              "      \n",
              "  <style>\n",
              "    .colab-df-container {\n",
              "      display:flex;\n",
              "      flex-wrap:wrap;\n",
              "      gap: 12px;\n",
              "    }\n",
              "\n",
              "    .colab-df-convert {\n",
              "      background-color: #E8F0FE;\n",
              "      border: none;\n",
              "      border-radius: 50%;\n",
              "      cursor: pointer;\n",
              "      display: none;\n",
              "      fill: #1967D2;\n",
              "      height: 32px;\n",
              "      padding: 0 0 0 0;\n",
              "      width: 32px;\n",
              "    }\n",
              "\n",
              "    .colab-df-convert:hover {\n",
              "      background-color: #E2EBFA;\n",
              "      box-shadow: 0px 1px 2px rgba(60, 64, 67, 0.3), 0px 1px 3px 1px rgba(60, 64, 67, 0.15);\n",
              "      fill: #174EA6;\n",
              "    }\n",
              "\n",
              "    [theme=dark] .colab-df-convert {\n",
              "      background-color: #3B4455;\n",
              "      fill: #D2E3FC;\n",
              "    }\n",
              "\n",
              "    [theme=dark] .colab-df-convert:hover {\n",
              "      background-color: #434B5C;\n",
              "      box-shadow: 0px 1px 3px 1px rgba(0, 0, 0, 0.15);\n",
              "      filter: drop-shadow(0px 1px 2px rgba(0, 0, 0, 0.3));\n",
              "      fill: #FFFFFF;\n",
              "    }\n",
              "  </style>\n",
              "\n",
              "      <script>\n",
              "        const buttonEl =\n",
              "          document.querySelector('#df-f759646f-194f-4f18-afad-c6f19dcbcb2d button.colab-df-convert');\n",
              "        buttonEl.style.display =\n",
              "          google.colab.kernel.accessAllowed ? 'block' : 'none';\n",
              "\n",
              "        async function convertToInteractive(key) {\n",
              "          const element = document.querySelector('#df-f759646f-194f-4f18-afad-c6f19dcbcb2d');\n",
              "          const dataTable =\n",
              "            await google.colab.kernel.invokeFunction('convertToInteractive',\n",
              "                                                     [key], {});\n",
              "          if (!dataTable) return;\n",
              "\n",
              "          const docLinkHtml = 'Like what you see? Visit the ' +\n",
              "            '<a target=\"_blank\" href=https://colab.research.google.com/notebooks/data_table.ipynb>data table notebook</a>'\n",
              "            + ' to learn more about interactive tables.';\n",
              "          element.innerHTML = '';\n",
              "          dataTable['output_type'] = 'display_data';\n",
              "          await google.colab.output.renderOutput(dataTable, element);\n",
              "          const docLink = document.createElement('div');\n",
              "          docLink.innerHTML = docLinkHtml;\n",
              "          element.appendChild(docLink);\n",
              "        }\n",
              "      </script>\n",
              "    </div>\n",
              "  </div>\n",
              "  "
            ]
          },
          "metadata": {},
          "execution_count": 15
        }
      ]
    },
    {
      "cell_type": "markdown",
      "metadata": {
        "id": "dC7sVwUoRX3g"
      },
      "source": [
        "## Merge dataset"
      ]
    },
    {
      "cell_type": "code",
      "metadata": {
        "id": "iBYoyWM32JFQ",
        "colab": {
          "base_uri": "https://localhost:8080/",
          "height": 299
        },
        "outputId": "a86259ca-148c-4c16-d8fe-c4bdc1de0341"
      },
      "source": [
        "# Merge features with classes\n",
        "df_merge = df_features.merge(df_classes, how='left', right_on=\"txId\", left_on=0)\n",
        "df_merge = df_merge.sort_values(0).reset_index(drop=True)\n",
        "df_merge.head()"
      ],
      "execution_count": 16,
      "outputs": [
        {
          "output_type": "execute_result",
          "data": {
            "text/plain": [
              "      0   1         2         3         4         5          6         7  \\\n",
              "0  1076  48 -0.168500  0.270909 -0.091383 -0.046932  -0.043875 -0.029140   \n",
              "1  2534   6 -0.170834 -0.131425  1.018602  0.028105   0.055376  0.054722   \n",
              "2  3181  34  1.305212 -0.210553 -1.756361 -0.121970  97.300650 -0.113002   \n",
              "3  3321   1 -0.169615 -0.184668 -1.201369 -0.121970  -0.043875 -0.113002   \n",
              "4  3889  48 -0.086232 -0.101835 -0.646376 -0.121970  17.046997 -0.113002   \n",
              "\n",
              "          8         9  ...       159       160       161       162       163  \\\n",
              "0 -0.061584 -0.163591  ...  1.461330  1.461369  0.018279  0.470019  1.216796   \n",
              "1 -0.061584 -0.163572  ...  0.955101  0.459257 -0.098889 -0.087490 -0.099080   \n",
              "2 -0.061584  1.348765  ...  0.059948  0.113967 -0.098889  1.969527  0.037532   \n",
              "3 -0.061584 -0.160199  ...  0.241128  0.241406 -0.098889 -0.087490 -0.084674   \n",
              "4 -0.061584 -0.074885  ...  0.082065  0.114773 -0.098889  8.948005  1.024948   \n",
              "\n",
              "        164       165       166  txId  class  \n",
              "0  1.151607  1.519700  1.521399  1076      2  \n",
              "1 -0.122137 -0.379970 -0.379288  2534      0  \n",
              "2 -0.131010  0.006994  0.017772  3181      0  \n",
              "3 -0.140597  1.519700  1.521399  3321      2  \n",
              "4 -0.009570 -0.080708 -0.123601  3889      2  \n",
              "\n",
              "[5 rows x 169 columns]"
            ],
            "text/html": [
              "\n",
              "  <div id=\"df-cbe00255-4f61-4d96-a187-2c2a46b168f3\">\n",
              "    <div class=\"colab-df-container\">\n",
              "      <div>\n",
              "<style scoped>\n",
              "    .dataframe tbody tr th:only-of-type {\n",
              "        vertical-align: middle;\n",
              "    }\n",
              "\n",
              "    .dataframe tbody tr th {\n",
              "        vertical-align: top;\n",
              "    }\n",
              "\n",
              "    .dataframe thead th {\n",
              "        text-align: right;\n",
              "    }\n",
              "</style>\n",
              "<table border=\"1\" class=\"dataframe\">\n",
              "  <thead>\n",
              "    <tr style=\"text-align: right;\">\n",
              "      <th></th>\n",
              "      <th>0</th>\n",
              "      <th>1</th>\n",
              "      <th>2</th>\n",
              "      <th>3</th>\n",
              "      <th>4</th>\n",
              "      <th>5</th>\n",
              "      <th>6</th>\n",
              "      <th>7</th>\n",
              "      <th>8</th>\n",
              "      <th>9</th>\n",
              "      <th>...</th>\n",
              "      <th>159</th>\n",
              "      <th>160</th>\n",
              "      <th>161</th>\n",
              "      <th>162</th>\n",
              "      <th>163</th>\n",
              "      <th>164</th>\n",
              "      <th>165</th>\n",
              "      <th>166</th>\n",
              "      <th>txId</th>\n",
              "      <th>class</th>\n",
              "    </tr>\n",
              "  </thead>\n",
              "  <tbody>\n",
              "    <tr>\n",
              "      <th>0</th>\n",
              "      <td>1076</td>\n",
              "      <td>48</td>\n",
              "      <td>-0.168500</td>\n",
              "      <td>0.270909</td>\n",
              "      <td>-0.091383</td>\n",
              "      <td>-0.046932</td>\n",
              "      <td>-0.043875</td>\n",
              "      <td>-0.029140</td>\n",
              "      <td>-0.061584</td>\n",
              "      <td>-0.163591</td>\n",
              "      <td>...</td>\n",
              "      <td>1.461330</td>\n",
              "      <td>1.461369</td>\n",
              "      <td>0.018279</td>\n",
              "      <td>0.470019</td>\n",
              "      <td>1.216796</td>\n",
              "      <td>1.151607</td>\n",
              "      <td>1.519700</td>\n",
              "      <td>1.521399</td>\n",
              "      <td>1076</td>\n",
              "      <td>2</td>\n",
              "    </tr>\n",
              "    <tr>\n",
              "      <th>1</th>\n",
              "      <td>2534</td>\n",
              "      <td>6</td>\n",
              "      <td>-0.170834</td>\n",
              "      <td>-0.131425</td>\n",
              "      <td>1.018602</td>\n",
              "      <td>0.028105</td>\n",
              "      <td>0.055376</td>\n",
              "      <td>0.054722</td>\n",
              "      <td>-0.061584</td>\n",
              "      <td>-0.163572</td>\n",
              "      <td>...</td>\n",
              "      <td>0.955101</td>\n",
              "      <td>0.459257</td>\n",
              "      <td>-0.098889</td>\n",
              "      <td>-0.087490</td>\n",
              "      <td>-0.099080</td>\n",
              "      <td>-0.122137</td>\n",
              "      <td>-0.379970</td>\n",
              "      <td>-0.379288</td>\n",
              "      <td>2534</td>\n",
              "      <td>0</td>\n",
              "    </tr>\n",
              "    <tr>\n",
              "      <th>2</th>\n",
              "      <td>3181</td>\n",
              "      <td>34</td>\n",
              "      <td>1.305212</td>\n",
              "      <td>-0.210553</td>\n",
              "      <td>-1.756361</td>\n",
              "      <td>-0.121970</td>\n",
              "      <td>97.300650</td>\n",
              "      <td>-0.113002</td>\n",
              "      <td>-0.061584</td>\n",
              "      <td>1.348765</td>\n",
              "      <td>...</td>\n",
              "      <td>0.059948</td>\n",
              "      <td>0.113967</td>\n",
              "      <td>-0.098889</td>\n",
              "      <td>1.969527</td>\n",
              "      <td>0.037532</td>\n",
              "      <td>-0.131010</td>\n",
              "      <td>0.006994</td>\n",
              "      <td>0.017772</td>\n",
              "      <td>3181</td>\n",
              "      <td>0</td>\n",
              "    </tr>\n",
              "    <tr>\n",
              "      <th>3</th>\n",
              "      <td>3321</td>\n",
              "      <td>1</td>\n",
              "      <td>-0.169615</td>\n",
              "      <td>-0.184668</td>\n",
              "      <td>-1.201369</td>\n",
              "      <td>-0.121970</td>\n",
              "      <td>-0.043875</td>\n",
              "      <td>-0.113002</td>\n",
              "      <td>-0.061584</td>\n",
              "      <td>-0.160199</td>\n",
              "      <td>...</td>\n",
              "      <td>0.241128</td>\n",
              "      <td>0.241406</td>\n",
              "      <td>-0.098889</td>\n",
              "      <td>-0.087490</td>\n",
              "      <td>-0.084674</td>\n",
              "      <td>-0.140597</td>\n",
              "      <td>1.519700</td>\n",
              "      <td>1.521399</td>\n",
              "      <td>3321</td>\n",
              "      <td>2</td>\n",
              "    </tr>\n",
              "    <tr>\n",
              "      <th>4</th>\n",
              "      <td>3889</td>\n",
              "      <td>48</td>\n",
              "      <td>-0.086232</td>\n",
              "      <td>-0.101835</td>\n",
              "      <td>-0.646376</td>\n",
              "      <td>-0.121970</td>\n",
              "      <td>17.046997</td>\n",
              "      <td>-0.113002</td>\n",
              "      <td>-0.061584</td>\n",
              "      <td>-0.074885</td>\n",
              "      <td>...</td>\n",
              "      <td>0.082065</td>\n",
              "      <td>0.114773</td>\n",
              "      <td>-0.098889</td>\n",
              "      <td>8.948005</td>\n",
              "      <td>1.024948</td>\n",
              "      <td>-0.009570</td>\n",
              "      <td>-0.080708</td>\n",
              "      <td>-0.123601</td>\n",
              "      <td>3889</td>\n",
              "      <td>2</td>\n",
              "    </tr>\n",
              "  </tbody>\n",
              "</table>\n",
              "<p>5 rows × 169 columns</p>\n",
              "</div>\n",
              "      <button class=\"colab-df-convert\" onclick=\"convertToInteractive('df-cbe00255-4f61-4d96-a187-2c2a46b168f3')\"\n",
              "              title=\"Convert this dataframe to an interactive table.\"\n",
              "              style=\"display:none;\">\n",
              "        \n",
              "  <svg xmlns=\"http://www.w3.org/2000/svg\" height=\"24px\"viewBox=\"0 0 24 24\"\n",
              "       width=\"24px\">\n",
              "    <path d=\"M0 0h24v24H0V0z\" fill=\"none\"/>\n",
              "    <path d=\"M18.56 5.44l.94 2.06.94-2.06 2.06-.94-2.06-.94-.94-2.06-.94 2.06-2.06.94zm-11 1L8.5 8.5l.94-2.06 2.06-.94-2.06-.94L8.5 2.5l-.94 2.06-2.06.94zm10 10l.94 2.06.94-2.06 2.06-.94-2.06-.94-.94-2.06-.94 2.06-2.06.94z\"/><path d=\"M17.41 7.96l-1.37-1.37c-.4-.4-.92-.59-1.43-.59-.52 0-1.04.2-1.43.59L10.3 9.45l-7.72 7.72c-.78.78-.78 2.05 0 2.83L4 21.41c.39.39.9.59 1.41.59.51 0 1.02-.2 1.41-.59l7.78-7.78 2.81-2.81c.8-.78.8-2.07 0-2.86zM5.41 20L4 18.59l7.72-7.72 1.47 1.35L5.41 20z\"/>\n",
              "  </svg>\n",
              "      </button>\n",
              "      \n",
              "  <style>\n",
              "    .colab-df-container {\n",
              "      display:flex;\n",
              "      flex-wrap:wrap;\n",
              "      gap: 12px;\n",
              "    }\n",
              "\n",
              "    .colab-df-convert {\n",
              "      background-color: #E8F0FE;\n",
              "      border: none;\n",
              "      border-radius: 50%;\n",
              "      cursor: pointer;\n",
              "      display: none;\n",
              "      fill: #1967D2;\n",
              "      height: 32px;\n",
              "      padding: 0 0 0 0;\n",
              "      width: 32px;\n",
              "    }\n",
              "\n",
              "    .colab-df-convert:hover {\n",
              "      background-color: #E2EBFA;\n",
              "      box-shadow: 0px 1px 2px rgba(60, 64, 67, 0.3), 0px 1px 3px 1px rgba(60, 64, 67, 0.15);\n",
              "      fill: #174EA6;\n",
              "    }\n",
              "\n",
              "    [theme=dark] .colab-df-convert {\n",
              "      background-color: #3B4455;\n",
              "      fill: #D2E3FC;\n",
              "    }\n",
              "\n",
              "    [theme=dark] .colab-df-convert:hover {\n",
              "      background-color: #434B5C;\n",
              "      box-shadow: 0px 1px 3px 1px rgba(0, 0, 0, 0.15);\n",
              "      filter: drop-shadow(0px 1px 2px rgba(0, 0, 0, 0.3));\n",
              "      fill: #FFFFFF;\n",
              "    }\n",
              "  </style>\n",
              "\n",
              "      <script>\n",
              "        const buttonEl =\n",
              "          document.querySelector('#df-cbe00255-4f61-4d96-a187-2c2a46b168f3 button.colab-df-convert');\n",
              "        buttonEl.style.display =\n",
              "          google.colab.kernel.accessAllowed ? 'block' : 'none';\n",
              "\n",
              "        async function convertToInteractive(key) {\n",
              "          const element = document.querySelector('#df-cbe00255-4f61-4d96-a187-2c2a46b168f3');\n",
              "          const dataTable =\n",
              "            await google.colab.kernel.invokeFunction('convertToInteractive',\n",
              "                                                     [key], {});\n",
              "          if (!dataTable) return;\n",
              "\n",
              "          const docLinkHtml = 'Like what you see? Visit the ' +\n",
              "            '<a target=\"_blank\" href=https://colab.research.google.com/notebooks/data_table.ipynb>data table notebook</a>'\n",
              "            + ' to learn more about interactive tables.';\n",
              "          element.innerHTML = '';\n",
              "          dataTable['output_type'] = 'display_data';\n",
              "          await google.colab.output.renderOutput(dataTable, element);\n",
              "          const docLink = document.createElement('div');\n",
              "          docLink.innerHTML = docLinkHtml;\n",
              "          element.appendChild(docLink);\n",
              "        }\n",
              "      </script>\n",
              "    </div>\n",
              "  </div>\n",
              "  "
            ]
          },
          "metadata": {},
          "execution_count": 16
        }
      ]
    },
    {
      "cell_type": "markdown",
      "metadata": {
        "id": "o31_vKYtRur_"
      },
      "source": [
        "## Edge Index: Map trans IDs to Node IDs"
      ]
    },
    {
      "cell_type": "markdown",
      "metadata": {
        "id": "t-d1wHSH71Ol"
      },
      "source": [
        "We map all nodes to indices, and filter edges data by mapping txid1 and txid2 with the indices. We convert it to tensors, and initialize a weight tensor with the same length of the edge index and with values 1."
      ]
    },
    {
      "cell_type": "code",
      "metadata": {
        "id": "LMM7lBiU2I6F",
        "colab": {
          "base_uri": "https://localhost:8080/"
        },
        "outputId": "585bb1f5-e272-4e04-ae21-737e2cc6fde4"
      },
      "source": [
        "# Setup trans ID to node ID mapping\n",
        "nodes = df_merge[0].values\n",
        "\n",
        "map_id = {j:i for i,j in enumerate(nodes)} # mapping nodes to indexes\n",
        "\n",
        "# Create edge df that has transID mapped to nodeIDs\n",
        "edges = df_edges.copy()\n",
        "edges.txId1 = edges.txId1.map(map_id) #get nodes idx1 from edges list and filtered data\n",
        "edges.txId2 = edges.txId2.map(map_id)\n",
        "\n",
        "edges = edges.astype(int)\n",
        "\n",
        "edge_index = np.array(edges.values).T #convert into an array\n",
        "edge_index = torch.tensor(edge_index, dtype=torch.long).contiguous() # create a tensor\n",
        "\n",
        "print(\"shape of edge index is {}\".format(edge_index.shape))\n",
        "edge_index\n"
      ],
      "execution_count": 17,
      "outputs": [
        {
          "output_type": "stream",
          "name": "stdout",
          "text": [
            "shape of edge index is torch.Size([2, 234355])\n"
          ]
        },
        {
          "output_type": "execute_result",
          "data": {
            "text/plain": [
              "tensor([[138670, 141325, 139232,  ..., 100420,  54833, 101159],\n",
              "        [  4142, 142201, 139223,  ..., 100419,  81951, 101163]])"
            ]
          },
          "metadata": {},
          "execution_count": 17
        }
      ]
    },
    {
      "cell_type": "markdown",
      "metadata": {
        "id": "k4HMMcZ2_Sjy"
      },
      "source": [
        "### Edge weights\n",
        "Set all edge weights to be 1"
      ]
    },
    {
      "cell_type": "code",
      "metadata": {
        "id": "vJDVz9fE_IR4"
      },
      "source": [
        "#create weights tensor with same shape of edge_index\n",
        "weights = torch.tensor([1]* edge_index.shape[1] , dtype=torch.double) "
      ],
      "execution_count": 18,
      "outputs": []
    },
    {
      "cell_type": "markdown",
      "metadata": {
        "id": "kqNLIgEqEHEA"
      },
      "source": [
        "## Labels"
      ]
    },
    {
      "cell_type": "code",
      "metadata": {
        "id": "lnF3kGx-EKYw",
        "colab": {
          "base_uri": "https://localhost:8080/"
        },
        "outputId": "45fb500c-1177-4486-94e1-3edab0a79d22"
      },
      "source": [
        "# Define labels\n",
        "labels = df_merge['class'].values\n",
        "print(\"lables\", np.unique(labels))\n",
        "labels"
      ],
      "execution_count": 19,
      "outputs": [
        {
          "output_type": "stream",
          "name": "stdout",
          "text": [
            "lables [0 1 2]\n"
          ]
        },
        {
          "output_type": "execute_result",
          "data": {
            "text/plain": [
              "array([2, 0, 0, ..., 2, 2, 2])"
            ]
          },
          "metadata": {},
          "execution_count": 19
        }
      ]
    },
    {
      "cell_type": "markdown",
      "metadata": {
        "id": "zHve9OSSBZoC"
      },
      "source": [
        "## Node Features"
      ]
    },
    {
      "cell_type": "code",
      "metadata": {
        "id": "_2-UAkL-BeYJ",
        "colab": {
          "base_uri": "https://localhost:8080/"
        },
        "outputId": "fa474224-20fd-4d02-e3af-92dfdf64f3d1"
      },
      "source": [
        "# mapping txIds to corresponding indices, to pass node features to the model\n",
        "\n",
        "node_features = df_merge.drop(['txId'], axis=1).copy()\n",
        "# node_features[0] = node_features[0].map(map_id) # Convert transaction ID to node ID \\\n",
        "print(\"unique=\",node_features[\"class\"].unique())\n",
        "\n",
        "# Retain known vs unknown IDs\n",
        "classified_idx = node_features['class'].loc[node_features['class']!=2].index # filter on known labels\n",
        "unclassified_idx = node_features['class'].loc[node_features['class']==2].index\n",
        "\n",
        "classified_illicit_idx = node_features['class'].loc[node_features['class']==1].index # filter on illicit labels\n",
        "classified_licit_idx = node_features['class'].loc[node_features['class']==0].index # filter on licit labels\n",
        "\n",
        "# Drop unwanted columns, 0 = transID, 1=time period, class = labels\n",
        "node_features = node_features.drop(columns=[0, 1, 'class'])\n",
        "\n",
        "# Convert to tensor\n",
        "node_features_t = torch.tensor(np.array(node_features.values, dtype=np.double), dtype=torch.double)# drop unused columns\n",
        "node_features_t"
      ],
      "execution_count": 20,
      "outputs": [
        {
          "output_type": "stream",
          "name": "stdout",
          "text": [
            "unique= [2 0 1]\n"
          ]
        },
        {
          "output_type": "execute_result",
          "data": {
            "text/plain": [
              "tensor([[-0.1685,  0.2709, -0.0914,  ...,  1.1516,  1.5197,  1.5214],\n",
              "        [-0.1708, -0.1314,  1.0186,  ..., -0.1221, -0.3800, -0.3793],\n",
              "        [ 1.3052, -0.2106, -1.7564,  ..., -0.1310,  0.0070,  0.0178],\n",
              "        ...,\n",
              "        [-0.1727, -0.1588, -1.2014,  ..., -0.2698, -0.1206, -0.1198],\n",
              "        [-0.1727, -0.1588, -1.2014,  ..., -0.2698, -0.1206, -0.1198],\n",
              "        [-0.1433, -0.1588, -1.2014,  ..., -0.0975, -0.1206, -0.1198]],\n",
              "       dtype=torch.float64)"
            ]
          },
          "metadata": {},
          "execution_count": 20
        }
      ]
    },
    {
      "cell_type": "code",
      "metadata": {
        "id": "kPA-3xJC8sr6",
        "colab": {
          "base_uri": "https://localhost:8080/",
          "height": 487
        },
        "outputId": "927f027d-0b8c-48d7-f7bd-3e021ffea582"
      },
      "source": [
        "# See node features again\n",
        "node_features"
      ],
      "execution_count": 21,
      "outputs": [
        {
          "output_type": "execute_result",
          "data": {
            "text/plain": [
              "             2         3         4         5          6         7         8    \\\n",
              "0      -0.168500  0.270909 -0.091383 -0.046932  -0.043875 -0.029140 -0.061584   \n",
              "1      -0.170834 -0.131425  1.018602  0.028105   0.055376  0.054722 -0.061584   \n",
              "2       1.305212 -0.210553 -1.756361 -0.121970  97.300650 -0.113002 -0.061584   \n",
              "3      -0.169615 -0.184668 -1.201369 -0.121970  -0.043875 -0.113002 -0.061584   \n",
              "4      -0.086232 -0.101835 -0.646376 -0.121970  17.046997 -0.113002 -0.061584   \n",
              "...          ...       ...       ...       ...        ...       ...       ...   \n",
              "203764 -0.172978 -0.172527  0.463609 -0.121970  -0.043875 -0.113002 -0.061584   \n",
              "203765 -0.172669 -0.158783 -1.201369 -0.121970  -0.063725 -0.113002 -0.061584   \n",
              "203766 -0.172669 -0.158783 -1.201369 -0.121970  -0.063725 -0.113002 -0.061584   \n",
              "203767 -0.172669 -0.158783 -1.201369 -0.121970  -0.063725 -0.113002 -0.061584   \n",
              "203768 -0.143292 -0.158783 -1.201369 -0.121970  -0.043875 -0.113002 -0.061584   \n",
              "\n",
              "             9         10        11   ...       157       158       159  \\\n",
              "0      -0.163591 -0.164980 -0.009283  ...  0.073047 -0.039637  1.461330   \n",
              "1      -0.163572 -0.167757 -0.038545  ...  1.228858  0.379357  0.955101   \n",
              "2       1.348765  1.321754 -0.049707  ...  1.348450  1.590664  0.059948   \n",
              "3      -0.160199 -0.166062 -0.049707  ... -0.577099 -0.500080  0.241128   \n",
              "4      -0.074885 -0.081943 -0.049707  ...  0.501062  0.362510  0.082065   \n",
              "...          ...       ...       ...  ...       ...       ...       ...   \n",
              "203764 -0.163640 -0.169455 -0.049707  ... -0.577099 -0.600999  0.241128   \n",
              "203765 -0.163323 -0.169142 -0.049707  ... -0.577099 -0.626229  0.241128   \n",
              "203766 -0.163323 -0.169142 -0.049707  ... -0.577099 -0.626229  0.241128   \n",
              "203767 -0.163323 -0.169142 -0.049707  ... -0.577099 -0.626229  0.241128   \n",
              "203768 -0.133266 -0.139507 -0.049707  ... -0.577099 -0.613614  0.241128   \n",
              "\n",
              "             160       161       162       163       164       165       166  \n",
              "0       1.461369  0.018279  0.470019  1.216796  1.151607  1.519700  1.521399  \n",
              "1       0.459257 -0.098889 -0.087490 -0.099080 -0.122137 -0.379970 -0.379288  \n",
              "2       0.113967 -0.098889  1.969527  0.037532 -0.131010  0.006994  0.017772  \n",
              "3       0.241406 -0.098889 -0.087490 -0.084674 -0.140597  1.519700  1.521399  \n",
              "4       0.114773 -0.098889  8.948005  1.024948 -0.009570 -0.080708 -0.123601  \n",
              "...          ...       ...       ...       ...       ...       ...       ...  \n",
              "203764  0.241406  0.018279 -0.087490 -0.131155 -0.097524 -0.120613 -0.119792  \n",
              "203765  0.241406 -0.216057 -0.125939 -0.131155 -0.269818 -0.120613 -0.119792  \n",
              "203766  0.241406 -0.216057 -0.125939 -0.131155 -0.269818 -0.120613 -0.119792  \n",
              "203767  0.241406 -0.216057 -0.125939 -0.131155 -0.269818 -0.120613 -0.119792  \n",
              "203768  0.241406  0.018279 -0.087490 -0.131155 -0.097524 -0.120613 -0.119792  \n",
              "\n",
              "[203769 rows x 165 columns]"
            ],
            "text/html": [
              "\n",
              "  <div id=\"df-e3f82b2d-73e4-49d7-b2cb-6d77b41e57bb\">\n",
              "    <div class=\"colab-df-container\">\n",
              "      <div>\n",
              "<style scoped>\n",
              "    .dataframe tbody tr th:only-of-type {\n",
              "        vertical-align: middle;\n",
              "    }\n",
              "\n",
              "    .dataframe tbody tr th {\n",
              "        vertical-align: top;\n",
              "    }\n",
              "\n",
              "    .dataframe thead th {\n",
              "        text-align: right;\n",
              "    }\n",
              "</style>\n",
              "<table border=\"1\" class=\"dataframe\">\n",
              "  <thead>\n",
              "    <tr style=\"text-align: right;\">\n",
              "      <th></th>\n",
              "      <th>2</th>\n",
              "      <th>3</th>\n",
              "      <th>4</th>\n",
              "      <th>5</th>\n",
              "      <th>6</th>\n",
              "      <th>7</th>\n",
              "      <th>8</th>\n",
              "      <th>9</th>\n",
              "      <th>10</th>\n",
              "      <th>11</th>\n",
              "      <th>...</th>\n",
              "      <th>157</th>\n",
              "      <th>158</th>\n",
              "      <th>159</th>\n",
              "      <th>160</th>\n",
              "      <th>161</th>\n",
              "      <th>162</th>\n",
              "      <th>163</th>\n",
              "      <th>164</th>\n",
              "      <th>165</th>\n",
              "      <th>166</th>\n",
              "    </tr>\n",
              "  </thead>\n",
              "  <tbody>\n",
              "    <tr>\n",
              "      <th>0</th>\n",
              "      <td>-0.168500</td>\n",
              "      <td>0.270909</td>\n",
              "      <td>-0.091383</td>\n",
              "      <td>-0.046932</td>\n",
              "      <td>-0.043875</td>\n",
              "      <td>-0.029140</td>\n",
              "      <td>-0.061584</td>\n",
              "      <td>-0.163591</td>\n",
              "      <td>-0.164980</td>\n",
              "      <td>-0.009283</td>\n",
              "      <td>...</td>\n",
              "      <td>0.073047</td>\n",
              "      <td>-0.039637</td>\n",
              "      <td>1.461330</td>\n",
              "      <td>1.461369</td>\n",
              "      <td>0.018279</td>\n",
              "      <td>0.470019</td>\n",
              "      <td>1.216796</td>\n",
              "      <td>1.151607</td>\n",
              "      <td>1.519700</td>\n",
              "      <td>1.521399</td>\n",
              "    </tr>\n",
              "    <tr>\n",
              "      <th>1</th>\n",
              "      <td>-0.170834</td>\n",
              "      <td>-0.131425</td>\n",
              "      <td>1.018602</td>\n",
              "      <td>0.028105</td>\n",
              "      <td>0.055376</td>\n",
              "      <td>0.054722</td>\n",
              "      <td>-0.061584</td>\n",
              "      <td>-0.163572</td>\n",
              "      <td>-0.167757</td>\n",
              "      <td>-0.038545</td>\n",
              "      <td>...</td>\n",
              "      <td>1.228858</td>\n",
              "      <td>0.379357</td>\n",
              "      <td>0.955101</td>\n",
              "      <td>0.459257</td>\n",
              "      <td>-0.098889</td>\n",
              "      <td>-0.087490</td>\n",
              "      <td>-0.099080</td>\n",
              "      <td>-0.122137</td>\n",
              "      <td>-0.379970</td>\n",
              "      <td>-0.379288</td>\n",
              "    </tr>\n",
              "    <tr>\n",
              "      <th>2</th>\n",
              "      <td>1.305212</td>\n",
              "      <td>-0.210553</td>\n",
              "      <td>-1.756361</td>\n",
              "      <td>-0.121970</td>\n",
              "      <td>97.300650</td>\n",
              "      <td>-0.113002</td>\n",
              "      <td>-0.061584</td>\n",
              "      <td>1.348765</td>\n",
              "      <td>1.321754</td>\n",
              "      <td>-0.049707</td>\n",
              "      <td>...</td>\n",
              "      <td>1.348450</td>\n",
              "      <td>1.590664</td>\n",
              "      <td>0.059948</td>\n",
              "      <td>0.113967</td>\n",
              "      <td>-0.098889</td>\n",
              "      <td>1.969527</td>\n",
              "      <td>0.037532</td>\n",
              "      <td>-0.131010</td>\n",
              "      <td>0.006994</td>\n",
              "      <td>0.017772</td>\n",
              "    </tr>\n",
              "    <tr>\n",
              "      <th>3</th>\n",
              "      <td>-0.169615</td>\n",
              "      <td>-0.184668</td>\n",
              "      <td>-1.201369</td>\n",
              "      <td>-0.121970</td>\n",
              "      <td>-0.043875</td>\n",
              "      <td>-0.113002</td>\n",
              "      <td>-0.061584</td>\n",
              "      <td>-0.160199</td>\n",
              "      <td>-0.166062</td>\n",
              "      <td>-0.049707</td>\n",
              "      <td>...</td>\n",
              "      <td>-0.577099</td>\n",
              "      <td>-0.500080</td>\n",
              "      <td>0.241128</td>\n",
              "      <td>0.241406</td>\n",
              "      <td>-0.098889</td>\n",
              "      <td>-0.087490</td>\n",
              "      <td>-0.084674</td>\n",
              "      <td>-0.140597</td>\n",
              "      <td>1.519700</td>\n",
              "      <td>1.521399</td>\n",
              "    </tr>\n",
              "    <tr>\n",
              "      <th>4</th>\n",
              "      <td>-0.086232</td>\n",
              "      <td>-0.101835</td>\n",
              "      <td>-0.646376</td>\n",
              "      <td>-0.121970</td>\n",
              "      <td>17.046997</td>\n",
              "      <td>-0.113002</td>\n",
              "      <td>-0.061584</td>\n",
              "      <td>-0.074885</td>\n",
              "      <td>-0.081943</td>\n",
              "      <td>-0.049707</td>\n",
              "      <td>...</td>\n",
              "      <td>0.501062</td>\n",
              "      <td>0.362510</td>\n",
              "      <td>0.082065</td>\n",
              "      <td>0.114773</td>\n",
              "      <td>-0.098889</td>\n",
              "      <td>8.948005</td>\n",
              "      <td>1.024948</td>\n",
              "      <td>-0.009570</td>\n",
              "      <td>-0.080708</td>\n",
              "      <td>-0.123601</td>\n",
              "    </tr>\n",
              "    <tr>\n",
              "      <th>...</th>\n",
              "      <td>...</td>\n",
              "      <td>...</td>\n",
              "      <td>...</td>\n",
              "      <td>...</td>\n",
              "      <td>...</td>\n",
              "      <td>...</td>\n",
              "      <td>...</td>\n",
              "      <td>...</td>\n",
              "      <td>...</td>\n",
              "      <td>...</td>\n",
              "      <td>...</td>\n",
              "      <td>...</td>\n",
              "      <td>...</td>\n",
              "      <td>...</td>\n",
              "      <td>...</td>\n",
              "      <td>...</td>\n",
              "      <td>...</td>\n",
              "      <td>...</td>\n",
              "      <td>...</td>\n",
              "      <td>...</td>\n",
              "      <td>...</td>\n",
              "    </tr>\n",
              "    <tr>\n",
              "      <th>203764</th>\n",
              "      <td>-0.172978</td>\n",
              "      <td>-0.172527</td>\n",
              "      <td>0.463609</td>\n",
              "      <td>-0.121970</td>\n",
              "      <td>-0.043875</td>\n",
              "      <td>-0.113002</td>\n",
              "      <td>-0.061584</td>\n",
              "      <td>-0.163640</td>\n",
              "      <td>-0.169455</td>\n",
              "      <td>-0.049707</td>\n",
              "      <td>...</td>\n",
              "      <td>-0.577099</td>\n",
              "      <td>-0.600999</td>\n",
              "      <td>0.241128</td>\n",
              "      <td>0.241406</td>\n",
              "      <td>0.018279</td>\n",
              "      <td>-0.087490</td>\n",
              "      <td>-0.131155</td>\n",
              "      <td>-0.097524</td>\n",
              "      <td>-0.120613</td>\n",
              "      <td>-0.119792</td>\n",
              "    </tr>\n",
              "    <tr>\n",
              "      <th>203765</th>\n",
              "      <td>-0.172669</td>\n",
              "      <td>-0.158783</td>\n",
              "      <td>-1.201369</td>\n",
              "      <td>-0.121970</td>\n",
              "      <td>-0.063725</td>\n",
              "      <td>-0.113002</td>\n",
              "      <td>-0.061584</td>\n",
              "      <td>-0.163323</td>\n",
              "      <td>-0.169142</td>\n",
              "      <td>-0.049707</td>\n",
              "      <td>...</td>\n",
              "      <td>-0.577099</td>\n",
              "      <td>-0.626229</td>\n",
              "      <td>0.241128</td>\n",
              "      <td>0.241406</td>\n",
              "      <td>-0.216057</td>\n",
              "      <td>-0.125939</td>\n",
              "      <td>-0.131155</td>\n",
              "      <td>-0.269818</td>\n",
              "      <td>-0.120613</td>\n",
              "      <td>-0.119792</td>\n",
              "    </tr>\n",
              "    <tr>\n",
              "      <th>203766</th>\n",
              "      <td>-0.172669</td>\n",
              "      <td>-0.158783</td>\n",
              "      <td>-1.201369</td>\n",
              "      <td>-0.121970</td>\n",
              "      <td>-0.063725</td>\n",
              "      <td>-0.113002</td>\n",
              "      <td>-0.061584</td>\n",
              "      <td>-0.163323</td>\n",
              "      <td>-0.169142</td>\n",
              "      <td>-0.049707</td>\n",
              "      <td>...</td>\n",
              "      <td>-0.577099</td>\n",
              "      <td>-0.626229</td>\n",
              "      <td>0.241128</td>\n",
              "      <td>0.241406</td>\n",
              "      <td>-0.216057</td>\n",
              "      <td>-0.125939</td>\n",
              "      <td>-0.131155</td>\n",
              "      <td>-0.269818</td>\n",
              "      <td>-0.120613</td>\n",
              "      <td>-0.119792</td>\n",
              "    </tr>\n",
              "    <tr>\n",
              "      <th>203767</th>\n",
              "      <td>-0.172669</td>\n",
              "      <td>-0.158783</td>\n",
              "      <td>-1.201369</td>\n",
              "      <td>-0.121970</td>\n",
              "      <td>-0.063725</td>\n",
              "      <td>-0.113002</td>\n",
              "      <td>-0.061584</td>\n",
              "      <td>-0.163323</td>\n",
              "      <td>-0.169142</td>\n",
              "      <td>-0.049707</td>\n",
              "      <td>...</td>\n",
              "      <td>-0.577099</td>\n",
              "      <td>-0.626229</td>\n",
              "      <td>0.241128</td>\n",
              "      <td>0.241406</td>\n",
              "      <td>-0.216057</td>\n",
              "      <td>-0.125939</td>\n",
              "      <td>-0.131155</td>\n",
              "      <td>-0.269818</td>\n",
              "      <td>-0.120613</td>\n",
              "      <td>-0.119792</td>\n",
              "    </tr>\n",
              "    <tr>\n",
              "      <th>203768</th>\n",
              "      <td>-0.143292</td>\n",
              "      <td>-0.158783</td>\n",
              "      <td>-1.201369</td>\n",
              "      <td>-0.121970</td>\n",
              "      <td>-0.043875</td>\n",
              "      <td>-0.113002</td>\n",
              "      <td>-0.061584</td>\n",
              "      <td>-0.133266</td>\n",
              "      <td>-0.139507</td>\n",
              "      <td>-0.049707</td>\n",
              "      <td>...</td>\n",
              "      <td>-0.577099</td>\n",
              "      <td>-0.613614</td>\n",
              "      <td>0.241128</td>\n",
              "      <td>0.241406</td>\n",
              "      <td>0.018279</td>\n",
              "      <td>-0.087490</td>\n",
              "      <td>-0.131155</td>\n",
              "      <td>-0.097524</td>\n",
              "      <td>-0.120613</td>\n",
              "      <td>-0.119792</td>\n",
              "    </tr>\n",
              "  </tbody>\n",
              "</table>\n",
              "<p>203769 rows × 165 columns</p>\n",
              "</div>\n",
              "      <button class=\"colab-df-convert\" onclick=\"convertToInteractive('df-e3f82b2d-73e4-49d7-b2cb-6d77b41e57bb')\"\n",
              "              title=\"Convert this dataframe to an interactive table.\"\n",
              "              style=\"display:none;\">\n",
              "        \n",
              "  <svg xmlns=\"http://www.w3.org/2000/svg\" height=\"24px\"viewBox=\"0 0 24 24\"\n",
              "       width=\"24px\">\n",
              "    <path d=\"M0 0h24v24H0V0z\" fill=\"none\"/>\n",
              "    <path d=\"M18.56 5.44l.94 2.06.94-2.06 2.06-.94-2.06-.94-.94-2.06-.94 2.06-2.06.94zm-11 1L8.5 8.5l.94-2.06 2.06-.94-2.06-.94L8.5 2.5l-.94 2.06-2.06.94zm10 10l.94 2.06.94-2.06 2.06-.94-2.06-.94-.94-2.06-.94 2.06-2.06.94z\"/><path d=\"M17.41 7.96l-1.37-1.37c-.4-.4-.92-.59-1.43-.59-.52 0-1.04.2-1.43.59L10.3 9.45l-7.72 7.72c-.78.78-.78 2.05 0 2.83L4 21.41c.39.39.9.59 1.41.59.51 0 1.02-.2 1.41-.59l7.78-7.78 2.81-2.81c.8-.78.8-2.07 0-2.86zM5.41 20L4 18.59l7.72-7.72 1.47 1.35L5.41 20z\"/>\n",
              "  </svg>\n",
              "      </button>\n",
              "      \n",
              "  <style>\n",
              "    .colab-df-container {\n",
              "      display:flex;\n",
              "      flex-wrap:wrap;\n",
              "      gap: 12px;\n",
              "    }\n",
              "\n",
              "    .colab-df-convert {\n",
              "      background-color: #E8F0FE;\n",
              "      border: none;\n",
              "      border-radius: 50%;\n",
              "      cursor: pointer;\n",
              "      display: none;\n",
              "      fill: #1967D2;\n",
              "      height: 32px;\n",
              "      padding: 0 0 0 0;\n",
              "      width: 32px;\n",
              "    }\n",
              "\n",
              "    .colab-df-convert:hover {\n",
              "      background-color: #E2EBFA;\n",
              "      box-shadow: 0px 1px 2px rgba(60, 64, 67, 0.3), 0px 1px 3px 1px rgba(60, 64, 67, 0.15);\n",
              "      fill: #174EA6;\n",
              "    }\n",
              "\n",
              "    [theme=dark] .colab-df-convert {\n",
              "      background-color: #3B4455;\n",
              "      fill: #D2E3FC;\n",
              "    }\n",
              "\n",
              "    [theme=dark] .colab-df-convert:hover {\n",
              "      background-color: #434B5C;\n",
              "      box-shadow: 0px 1px 3px 1px rgba(0, 0, 0, 0.15);\n",
              "      filter: drop-shadow(0px 1px 2px rgba(0, 0, 0, 0.3));\n",
              "      fill: #FFFFFF;\n",
              "    }\n",
              "  </style>\n",
              "\n",
              "      <script>\n",
              "        const buttonEl =\n",
              "          document.querySelector('#df-e3f82b2d-73e4-49d7-b2cb-6d77b41e57bb button.colab-df-convert');\n",
              "        buttonEl.style.display =\n",
              "          google.colab.kernel.accessAllowed ? 'block' : 'none';\n",
              "\n",
              "        async function convertToInteractive(key) {\n",
              "          const element = document.querySelector('#df-e3f82b2d-73e4-49d7-b2cb-6d77b41e57bb');\n",
              "          const dataTable =\n",
              "            await google.colab.kernel.invokeFunction('convertToInteractive',\n",
              "                                                     [key], {});\n",
              "          if (!dataTable) return;\n",
              "\n",
              "          const docLinkHtml = 'Like what you see? Visit the ' +\n",
              "            '<a target=\"_blank\" href=https://colab.research.google.com/notebooks/data_table.ipynb>data table notebook</a>'\n",
              "            + ' to learn more about interactive tables.';\n",
              "          element.innerHTML = '';\n",
              "          dataTable['output_type'] = 'display_data';\n",
              "          await google.colab.output.renderOutput(dataTable, element);\n",
              "          const docLink = document.createElement('div');\n",
              "          docLink.innerHTML = docLinkHtml;\n",
              "          element.appendChild(docLink);\n",
              "        }\n",
              "      </script>\n",
              "    </div>\n",
              "  </div>\n",
              "  "
            ]
          },
          "metadata": {},
          "execution_count": 21
        }
      ]
    },
    {
      "cell_type": "markdown",
      "metadata": {
        "id": "LhtMaYpkGMOf"
      },
      "source": [
        "## Train Test splits"
      ]
    },
    {
      "cell_type": "code",
      "metadata": {
        "id": "sjrz1IPVSdkS",
        "colab": {
          "base_uri": "https://localhost:8080/"
        },
        "outputId": "10c1f48d-cdd7-4e5f-f180-ffd825115cb2"
      },
      "source": [
        "# Create a known vs unknown mask\n",
        "train_idx, valid_idx = train_test_split(classified_idx.values, test_size=0.15)\n",
        "print(\"train_idx size {}\".format(len(train_idx)))\n",
        "print(\"tets_idx size {}\".format(len(valid_idx)))"
      ],
      "execution_count": 22,
      "outputs": [
        {
          "output_type": "stream",
          "name": "stdout",
          "text": [
            "train_idx size 39579\n",
            "tets_idx size 6985\n"
          ]
        }
      ]
    },
    {
      "cell_type": "markdown",
      "metadata": {
        "id": "yFxFNl5pEwAB"
      },
      "source": [
        "# Create a PyG dataset\n",
        "\n",
        "Each PyG dataset stores a list of `torch_geometric.data.Data` objects, where each `torch_geometric.data.Data` object represents a graph. We can easily get the `Data` object by indexing into the dataset.\n",
        "\n",
        "For more information such as what is stored in the `Data` object, please refer to the [documentation](https://pytorch-geometric.readthedocs.io/en/latest/modules/data.html#torch_geometric.data.Data).\n",
        "\n",
        "We convert data to PyGeometric graph data format by using node_features, edge_index, weights and labels initialized before."
      ]
    },
    {
      "cell_type": "code",
      "metadata": {
        "id": "cR4J4rgFdRs6"
      },
      "source": [
        "data_train = Data(x=node_features_t, edge_index=edge_index, edge_attr=weights, \n",
        "                               y=torch.tensor(labels, dtype=torch.double))\n",
        "# Add in the train and valid idx\n",
        "data_train.train_idx = train_idx\n",
        "data_train.valid_idx = valid_idx\n",
        "data_train.test_idx = unclassified_idx"
      ],
      "execution_count": 23,
      "outputs": []
    },
    {
      "cell_type": "markdown",
      "metadata": {
        "id": "0EuNBpJfR8O7"
      },
      "source": [
        "# Model setup\n"
      ]
    },
    {
      "cell_type": "code",
      "metadata": {
        "id": "0lIXOMwSMc-l"
      },
      "source": [
        "import torch\n",
        "import torch_scatter\n",
        "import torch.nn as nn\n",
        "import torch.nn.functional as F\n",
        "\n",
        "import torch_geometric.nn as pyg_nn\n",
        "import torch_geometric.utils as pyg_utils\n",
        "\n",
        "from torch import Tensor\n",
        "from typing import Union, Tuple, Optional\n",
        "from torch_geometric.typing import (OptPairTensor, Adj, Size, NoneType,\n",
        "                                    OptTensor)\n",
        "\n",
        "from torch.nn import Parameter, Linear\n",
        "from torch_sparse import SparseTensor, set_diag\n",
        "from torch_geometric.nn.conv import MessagePassing\n",
        "from torch_geometric.utils import remove_self_loops, add_self_loops, softmax, degree\n",
        "\n",
        "from torch_geometric.nn import GCNConv,GATConv,GATv2Conv\n",
        "import pickle"
      ],
      "execution_count": 24,
      "outputs": []
    },
    {
      "cell_type": "markdown",
      "metadata": {
        "id": "vonuW3cKtxr9"
      },
      "source": [
        "## Prebuilt with PyG's built-in  layers\n",
        "In this section, we are using PyG's built-in layers with 2 layers and an additional MLP layers for the GATs models."
      ]
    },
    {
      "cell_type": "markdown",
      "metadata": {
        "id": "nyE0VMalAyrt"
      },
      "source": [
        "### GCNConv"
      ]
    },
    {
      "cell_type": "code",
      "metadata": {
        "id": "YH_8QV_Rypzl"
      },
      "source": [
        "class GCN(torch.nn.Module):\n",
        "    def __init__(self):\n",
        "        super(GCN, self).__init__()\n",
        "        torch.manual_seed(12345)\n",
        "        self.conv1 = GCNConv(165, 128)\n",
        "        self.conv2 = GCNConv(128, 2)\n",
        "        self.classifier = Linear(2, 1)\n",
        "\n",
        "    def forward(self, data, adj=None):\n",
        "        x, edge_index = data.x, data.edge_index\n",
        "        h = self.conv1(x, edge_index)\n",
        "        h = h.tanh()\n",
        "        h = self.conv2(h, edge_index)\n",
        "        embeddings = h.tanh()  # Final GNN embedding space.\n",
        "        \n",
        "        # Apply a final (linear) classifier.\n",
        "        out = self.classifier(embeddings)\n",
        "\n",
        "        # return out, embeddings\n",
        "        return F.sigmoid(out)"
      ],
      "execution_count": 25,
      "outputs": []
    },
    {
      "cell_type": "markdown",
      "metadata": {
        "id": "QNniFM2ec04t"
      },
      "source": [
        "### GATConv\n"
      ]
    },
    {
      "cell_type": "code",
      "metadata": {
        "id": "Rjr_1PQf2TmI"
      },
      "source": [
        "\n",
        "class GAT(torch.nn.Module):\n",
        "    def __init__(self,input_dim, hidden_dim, output_dim,args):\n",
        "        super(GAT, self).__init__()\n",
        "        #use our gat message passing \n",
        "        self.conv1 = GATConv(input_dim, hidden_dim, heads=args['heads'])\n",
        "        self.conv2 = GATConv(args['heads'] * hidden_dim, hidden_dim, heads=args['heads'])\n",
        "        \n",
        "        self.post_mp = nn.Sequential(\n",
        "            nn.Linear(args['heads'] * hidden_dim, hidden_dim), nn.Dropout(args['dropout'] ), \n",
        "            nn.Linear(hidden_dim, output_dim))\n",
        "        \n",
        "    def forward(self, data, adj=None):\n",
        "        x, edge_index = data.x, data.edge_index\n",
        "        # Layer 1\n",
        "        x = self.conv1(x, edge_index)\n",
        "        x = F.dropout(F.relu(x), p=args['dropout'], training=self.training)\n",
        "        # Layer 2\n",
        "        x = self.conv2(x, edge_index)\n",
        "        x = F.dropout(F.relu(x), p=args['dropout'], training=self.training)\n",
        "        # MLP output\n",
        "        x = self.post_mp(x)\n",
        "        return F.sigmoid(x)\n",
        "       "
      ],
      "execution_count": 26,
      "outputs": []
    },
    {
      "cell_type": "markdown",
      "metadata": {
        "id": "50arKCbIjEr6"
      },
      "source": [
        "### GATv2Conv "
      ]
    },
    {
      "cell_type": "code",
      "metadata": {
        "id": "BrQtUh3gjH1A"
      },
      "source": [
        "\n",
        "class GATv2(torch.nn.Module):\n",
        "    def __init__(self,input_dim, hidden_dim, output_dim,args):\n",
        "        super(GATv2, self).__init__()\n",
        "        #use our gat message passing \n",
        "        self.conv1 = GATv2Conv(input_dim, hidden_dim, heads=args['heads'])\n",
        "        self.conv2 = GATv2Conv(args['heads'] * hidden_dim, hidden_dim, heads=args['heads'])\n",
        "        \n",
        "        self.post_mp = nn.Sequential(\n",
        "            nn.Linear(args['heads'] * hidden_dim, hidden_dim), nn.Dropout(args['dropout'] ), \n",
        "            nn.Linear(hidden_dim, output_dim))\n",
        "        \n",
        "    def forward(self, data, adj=None):\n",
        "        x, edge_index = data.x, data.edge_index\n",
        "        # Layer 1\n",
        "        x = self.conv1(x, edge_index)\n",
        "        x = F.dropout(F.relu(x), p=args['dropout'], training=self.training)\n",
        "        # Layer 2\n",
        "        x = self.conv2(x, edge_index)\n",
        "        x = F.dropout(F.relu(x), p=args['dropout'], training=self.training)\n",
        "        # MLP output\n",
        "        x = self.post_mp(x)\n",
        "        return F.sigmoid(x)\n"
      ],
      "execution_count": 27,
      "outputs": []
    },
    {
      "cell_type": "markdown",
      "metadata": {
        "id": "_rNSLoo10_WU"
      },
      "source": [
        "## Custom GAT Implementation\n",
        "\n",
        "Attention mechanisms have become the state-of-the-art in many sequence-based tasks such as machine translation and learning sentence representations. One of the major benefits of attention-based mechanisms is their ability to focus on the most relevant parts of the input to make decisions. In this problem, we will see how attention mechanisms can be used to perform node classification over graph-structured data through the usage of Graph Attention Networks (GATs) ([Veličković et al. (2018)](https://arxiv.org/abs/1710.10903)).\n",
        "\n",
        "The building block of the Graph Attention Network is the graph attention layer, which is a variant of the aggregation function. Let $N$ be the number of nodes and $F$ be the dimension of the feature vector for each node. The input to each graph attentional layer is a set of node features: $\\mathbf{h} = \\{\\overrightarrow{h_1}, \\overrightarrow{h_2}, \\dots, \\overrightarrow{h_N}$\\}, $\\overrightarrow{h_i} \\in R^F$. The output of each graph attentional layer is a new set of node features, which may have a new dimension $F'$: $\\mathbf{h'} = \\{\\overrightarrow{h_1'}, \\overrightarrow{h_2'}, \\dots, \\overrightarrow{h_N'}\\}$, with $\\overrightarrow{h_i'} \\in \\mathbb{R}^{F'}$.\n",
        "\n",
        "We will now describe how this transformation is performed for each graph attention layer. First, a shared linear transformation parametrized by the weight matrix $\\mathbf{W} \\in \\mathbb{R}^{F' \\times F}$ is applied to every node. \n",
        "\n",
        "Next, we perform self-attention on the nodes. We use a shared attention function $a$:\n",
        "\\begin{equation} \n",
        "a : \\mathbb{R}^{F'} \\times \\mathbb{R}^{F'} \\rightarrow \\mathbb{R}.\n",
        "\\end{equation}\n",
        "\n",
        "that computes the attention coefficients capturing the importance of node $j$'s features to node $i$:\n",
        "\\begin{equation}\n",
        "e_{ij} = a(\\mathbf{W_l}\\overrightarrow{h_i}, \\mathbf{W_r} \\overrightarrow{h_j})\n",
        "\\end{equation}\n",
        "\n",
        "The most general formulation of self-attention allows every node to attend to all other nodes which drops all structural information. However, to utilize graph structure in the attention mechanisms, we use **masked attention**. In masked attention, we only compute attention coefficients $e_{ij}$ for nodes $j \\in \\mathcal{N}_i$ where $\\mathcal{N}_i$ is some neighborhood of node $i$ in the graph.\n",
        "\n",
        "To easily compare coefficients across different nodes, we normalize the coefficients across $j$ using a softmax function:\n",
        "\\begin{equation}\n",
        "\\alpha_{ij} = \\text{softmax}_j(e_{ij}) = \\frac{\\exp(e_{ij})}{\\sum_{k \\in \\mathcal{N}_i} \\exp(e_{ik})}\n",
        "\\end{equation}\n",
        "\n",
        "For this problem, our attention mechanism $a$ will be a single-layer feedforward neural network parametrized by a weight vectors $\\overrightarrow{a_l} \\in \\mathbb{R}^{F'}$ and $\\overrightarrow{a_r} \\in \\mathbb{R}^{F'}$, followed by a LeakyReLU nonlinearity (with negative input slope 0.2). Let $\\cdot^T$ represent transposition and $||$ represent concatenation. The coefficients computed by our attention mechanism may be expressed as:\n",
        "\n",
        "\\begin{equation}\n",
        "\\alpha_{ij} = \\frac{\\exp\\Big(\\text{LeakyReLU}\\Big(\\overrightarrow{a_l}^T \\mathbf{W_l} \\overrightarrow{h_i} + \\overrightarrow{a_r}^T\\mathbf{W_r}\\overrightarrow{h_j}\\Big)\\Big)}{\\sum_{k\\in \\mathcal{N}_i} \\exp\\Big(\\text{LeakyReLU}\\Big(\\overrightarrow{a_l}^T \\mathbf{W_l} \\overrightarrow{h_i} + \\overrightarrow{a_r}^T\\mathbf{W_r}\\overrightarrow{h_k}\\Big)\\Big)}\n",
        "\\end{equation}\n",
        "\n",
        "For the following questions, we denote `alpha_l` = $\\alpha_l = [...,\\overrightarrow{a_l}^T \\mathbf{W_l} \\overrightarrow{h_i},...] \\in \\mathcal{R}^n$ and `alpha_r` = $\\alpha_r = [..., \\overrightarrow{a_r}^T \\mathbf{W_r} \\overrightarrow{h_j}, ...] \\in \\mathcal{R}^n$.\n",
        "\n",
        "\n",
        "At every layer of GAT, after the attention coefficients are computed for that layer, the aggregation function can be computed by a weighted sum of neighborhood messages, where weights are specified by $\\alpha_{ij}$.\n",
        "\n",
        "Now, we use the normalized attention coefficients to compute a linear combination of the features corresponding to them. These aggregated features will serve as the final output features for every node.\n",
        "\n",
        "\\begin{equation}\n",
        "h_i' = \\sum_{j \\in \\mathcal{N}_i} \\alpha_{ij} \\mathbf{W_r} \\overrightarrow{h_j}.\n",
        "\\end{equation}  \n",
        "\n",
        "### Multi-Head Attention\n",
        "To stabilize the learning process of self-attention, we use multi-head attention. To do this we use $K$ independent attention mechanisms, or ``heads'' compute output features as in the above equations. Then, we concatenate these output feature representations:\n",
        "\n",
        "\\begin{equation}\n",
        "    \\overrightarrow{h_i}' = ||_{k=1}^K \\Big(\\sum_{j \\in \\mathcal{N}_i} \\alpha_{ij}^{(k)} \\mathbf{W_r}^{(k)} \\overrightarrow{h_j}\\Big)\n",
        "\\end{equation}\n",
        "\n",
        "where $||$ is concentation, $\\alpha_{ij}^{(k)}$ are the normalized attention coefficients computed by the $k$-th attention mechanism $(a^k)$, and $\\mathbf{W}^{(k)}$ is the corresponding input linear transformation's weight matrix. Note that for this setting, $\\mathbf{h'} \\in \\mathbb{R}^{KF'}$."
      ]
    },
    {
      "cell_type": "markdown",
      "metadata": {
        "id": "8D8tRgWGt4mZ"
      },
      "source": [
        "### Custom GAT model\n",
        "PyG provides the MessagePassing base class, which helps in creating such kinds of message passing graph neural networks by automatically taking care of message propagation. \\\\\n",
        "-**MessagePassing()**: Defines the aggregation scheme to use (\"add\", \"mean\" or \"max\") and the flow direction of message passing (either \"source_to_target\" or \"target_to_source\").  \n",
        "\n",
        "-**MessagePassing.propagate(edge_index,size=None,kwargs)**: The initial call to start propagating messages. Takes in the edge indices and all additional data which is needed to construct messages and to update node embeddings. \n",
        "\n",
        "-**MessagePassing.message(...)**: Constructs messages to node  for each edge. It can take any argument which was initially passed to propagate().  In addition, tensors passed to propagate() can be mapped to the respective nodes and by appending _i or _j to the variable name.\n",
        "We generally refer to i as the central nodes that aggregates information, and refer to j as the neighboring nodes, since this is the most common notation.\n",
        "\n",
        " Further details can be found at the official PyG documentation. "
      ]
    },
    {
      "cell_type": "code",
      "metadata": {
        "id": "pc-NwTRM1JAX"
      },
      "source": [
        "class myGAT(MessagePassing):\n",
        "    def __init__(self, in_channels, out_channels, heads = 1, \n",
        "                 negative_slope = 0.2, dropout = 0., **kwargs):\n",
        "        super(myGAT, self).__init__(node_dim=0, **kwargs)\n",
        "\n",
        "        self.in_channels = in_channels # node features input dimension\n",
        "        self.out_channels = out_channels # node level output dimension\n",
        "        self.heads = heads # No. of attention heads\n",
        "        self.negative_slope = negative_slope\n",
        "        self.dropout = dropout\n",
        "\n",
        "        self.lin_l = None\n",
        "        self.lin_r = None\n",
        "        self.att_l = None\n",
        "        self.att_r = None\n",
        "\n",
        "        # Initialization\n",
        "        self.lin_l = Linear(in_channels, heads*out_channels)\n",
        "        self.lin_r = self.lin_l\n",
        "        self.att_l = Parameter(torch.Tensor(1, heads, out_channels).float())\n",
        "        self.att_r = Parameter(torch.Tensor(1, heads, out_channels).float())\n",
        "        self.reset_parameters()\n",
        "\n",
        "    def reset_parameters(self):\n",
        "        nn.init.xavier_uniform_(self.lin_l.weight)\n",
        "        nn.init.xavier_uniform_(self.lin_r.weight)\n",
        "        nn.init.xavier_uniform_(self.att_l)\n",
        "        nn.init.xavier_uniform_(self.att_r)\n",
        "\n",
        "    def forward(self, x, edge_index, size = None):\n",
        "        \n",
        "        H, C = self.heads, self.out_channels # DIM：H, outC\n",
        "\n",
        "        #Linearly transform node feature matrix.\n",
        "        x_source = self.lin_l(x).view(-1,H,C) # DIM: [Nodex x In] [in x H * outC] => [nodes x H * outC] => [nodes, H, outC]\n",
        "        x_target = self.lin_r(x).view(-1,H,C) # DIM: [Nodex x In] [in x H * outC] => [nodes x H * outC] => [nodes, H, outC]\n",
        "\n",
        "        # Alphas will be used to calculate attention later\n",
        "        alpha_l = (x_source * self.att_l).sum(dim=-1) # DIM: [nodes, H, outC] x [H, outC] => [nodes, H]\n",
        "        alpha_r = (x_target * self.att_r).sum(dim=-1) # DIM: [nodes, H, outC] x [H, outC] => [nodes, H]\n",
        "\n",
        "        #  Start propagating messages (runs message and aggregate)\n",
        "        out = self.propagate(edge_index, x=(x_source, x_target), alpha=(alpha_l, alpha_r),size=size) # DIM: [nodes, H, outC]\n",
        "        out = out.view(-1, self.heads * self.out_channels) # DIM: [nodes, H * outC]\n",
        "\n",
        "        return out\n",
        "\n",
        "    def message(self, x_j, alpha_j, alpha_i, index, ptr, size_i):\n",
        "        # Calculate attention for edge pairs\n",
        "        attention = F.leaky_relu((alpha_j + alpha_i), self.negative_slope) # EQ(1) DIM: [Edges, H]\n",
        "        attention = softmax(attention, index, ptr, size_i) # EQ(2) DIM: [Edges, H] | This softmax only calculates it over all neighbourhood nodes\n",
        "        attention = F.dropout(attention, p=self.dropout, training=self.training) # DIM: [Edges, H]\n",
        "\n",
        "        # Multiple attention with node features for all edges\n",
        "        out = x_j * attention.unsqueeze(-1)  # EQ(3.1) [Edges, H, outC] x [Edges, H] = [Edges, H, outC];\n",
        "\n",
        "        return out\n",
        "\n",
        "    def aggregate(self, inputs, index, dim_size = None):\n",
        "        # EQ(3.2) For each node, aggregate messages for all neighbourhood nodes \n",
        "        out = torch_scatter.scatter(inputs, index, dim=self.node_dim, \n",
        "                                    dim_size=dim_size, reduce='sum') # inputs (from message) DIM: [Edges, H, outC] => DIM: [Nodes, H, outC]\n",
        "        return out\n"
      ],
      "execution_count": 28,
      "outputs": []
    },
    {
      "cell_type": "markdown",
      "metadata": {
        "id": "wXVrnMs81OlH"
      },
      "source": [
        "### Custom GATv2 model\n",
        "This new model GATv2 introduces a simple modification by modifying the order of operations. \\\\\n",
        "They simply apply \"a\" layer after the non-linearity and the \"W\" layer after the concatenation, effectively applying an MLP to compute the score for each query-key pair. \\\\\n",
        "GAT( Velickovic et al.2018):\n",
        "\\begin{equation}\n",
        "    e(h_i,h_j)=LeakyReLU(a^T \\dot [Wh_i||Wh_j]) \n",
        "\\end{equation}\n",
        "GATv2( fixed version):\n",
        "\\begin{equation}\n",
        "    e(h_i,h_j)=a^T LeakyReLU(W\\dot [h_i||h_j]) \n",
        "\\end{equation}"
      ]
    },
    {
      "cell_type": "code",
      "metadata": {
        "id": "oEArZRuo1JEN"
      },
      "source": [
        "class myGATv2(MessagePassing):\n",
        "    def __init__(self, in_channels, out_channels, heads = 1,\n",
        "                 negative_slope = 0.2, dropout = 0., **kwargs):\n",
        "        super(myGATv2, self).__init__(node_dim=0, **kwargs)\n",
        "\n",
        "        self.in_channels = in_channels\n",
        "        self.out_channels = out_channels\n",
        "        self.heads = heads\n",
        "        self.negative_slope = negative_slope\n",
        "        self.dropout = dropout\n",
        "\n",
        "        self.lin_l = None\n",
        "        self.lin_r = None\n",
        "        self.att_l = None\n",
        "        self.att_r = None\n",
        "        self._alpha = None\n",
        "        # self.lin_l is the linear transformation that you apply to embeddings \n",
        "        # BEFORE message passing.\n",
        "        self.lin_l =  Linear(in_channels, heads*out_channels)\n",
        "        self.lin_r = self.lin_l\n",
        "\n",
        "        self.att = Parameter(torch.Tensor(1, heads, out_channels))\n",
        "        self.reset_parameters()\n",
        "\n",
        "    #initialize parameters with xavier uniform\n",
        "    def reset_parameters(self):\n",
        "        nn.init.xavier_uniform_(self.lin_l.weight)\n",
        "        nn.init.xavier_uniform_(self.lin_r.weight)\n",
        "        nn.init.xavier_uniform_(self.att)\n",
        "\n",
        "    def forward(self, x, edge_index, size = None):\n",
        "        \n",
        "        H, C = self.heads, self.out_channels # DIM：H, outC\n",
        "        #Linearly transform node feature matrix.\n",
        "        x_source = self.lin_l(x).view(-1,H,C) # DIM: [Nodex x In] [in x H * outC] => [nodes x H * outC] => [nodes, H, outC]\n",
        "        x_target = self.lin_r(x).view(-1,H,C) # DIM: [Nodex x In] [in x H * outC] => [nodes x H * outC] => [nodes, H, outC]\n",
        "        \n",
        "        #  Start propagating messages (runs message and aggregate)\n",
        "        out= self.propagate(edge_index, x=(x_source,x_target),size=size) # DIM: [nodes, H, outC]\n",
        "        out= out.view(-1, self.heads * self.out_channels)       # DIM: [nodes, H * outC]\n",
        "        alpha = self._alpha\n",
        "        self._alpha = None\n",
        "        return out\n",
        "\n",
        "    #Process a message passing\n",
        "    def message(self, x_j,x_i,  index, ptr, size_i):\n",
        "        #computation using previous equationss\n",
        "        x = x_i + x_j                               \n",
        "        x  = F.leaky_relu(x, self.negative_slope)   # See Equation above: Apply the non-linearty function\n",
        "        alpha = (x * self.att).sum(dim=-1)          # Apply attnention \"a\" layer after the non-linearity \n",
        "        alpha = softmax(alpha, index, ptr, size_i)  # This softmax only calculates it over all neighbourhood nodes\n",
        "        self._alpha = alpha\n",
        "        alpha= F.dropout(alpha,p=self.dropout,training=self.training)\n",
        "        # Multiple attention with node features for all edges\n",
        "        out= x_j*alpha.unsqueeze(-1)  \n",
        "\n",
        "        return out\n",
        "    #Aggregation of messages\n",
        "    def aggregate(self, inputs, index, dim_size = None):\n",
        "        out = torch_scatter.scatter(inputs, index, dim=self.node_dim, \n",
        "                                    dim_size=dim_size, reduce='sum')  \n",
        "        return out"
      ],
      "execution_count": 29,
      "outputs": []
    },
    {
      "cell_type": "markdown",
      "metadata": {
        "id": "HMXqyycpt-WF"
      },
      "source": [
        "### GATCustom\n",
        "We use PyG and define two models by using our previous GAT and GATv2. \\\\\n",
        "Each layer consists of running the GAT layer, followed by a relu nonlinearity function and dropout. They can be stacked multiple times with some output layers.We had a linear MLP output layer as a post-processing.\n",
        "\n",
        "\n",
        "\n"
      ]
    },
    {
      "cell_type": "code",
      "metadata": {
        "id": "fhmMSdFI1S3_"
      },
      "source": [
        "class GATmodif(torch.nn.Module):\n",
        "    def __init__(self,input_dim, hidden_dim, output_dim,args):\n",
        "        super(GATmodif, self).__init__()\n",
        "        #use our gat message passing \n",
        "        self.conv1 = myGAT(input_dim, hidden_dim,heads=args['heads'])\n",
        "        self.conv2 = myGAT(args['heads']  *hidden_dim, hidden_dim,heads=args['heads']) \n",
        "\n",
        "        self.post_mp = nn.Sequential(\n",
        "            nn.Linear(args['heads'] * hidden_dim, hidden_dim), nn.Dropout(args['dropout'] ), \n",
        "            nn.Linear(hidden_dim, output_dim))\n",
        "        \n",
        "    def forward(self, data, adj=None):\n",
        "        x, edge_index = data.x, data.edge_index\n",
        "        # Layer 1\n",
        "        x = self.conv1(x, edge_index)\n",
        "        x = F.dropout(F.relu(x), p=args['dropout'], training=self.training)\n",
        "\n",
        "        # Layer 2\n",
        "        x = self.conv2(x, edge_index)\n",
        "        x = F.dropout(F.relu(x), p=args['dropout'], training=self.training)\n",
        "\n",
        "        # MLP output\n",
        "        x = self.post_mp(x)\n",
        "        return F.sigmoid(x)\n",
        "\n",
        "class GATv2modif(torch.nn.Module):\n",
        "    def __init__(self,input_dim, hidden_dim, output_dim,args):\n",
        "        super(GATv2modif, self).__init__()\n",
        "        #use our gat message passing \n",
        "        self.conv1 = myGATv2(input_dim, hidden_dim,heads=args['heads']) \n",
        "        self.conv2 = myGATv2(args['heads'] *hidden_dim, hidden_dim,heads=args['heads'])\n",
        "\n",
        "        self.post_mp = nn.Sequential(\n",
        "            nn.Linear(args['heads']  * hidden_dim, hidden_dim), nn.Dropout(args['dropout'] ), \n",
        "            nn.Linear(hidden_dim, output_dim))\n",
        "        \n",
        "    def forward(self, data, adj=None):\n",
        "        x, edge_index = data.x, data.edge_index\n",
        "        # Layer 1\n",
        "        x = self.conv1(x, edge_index)\n",
        "        x = F.dropout(F.relu(x), p=args['dropout'], training=self.training)\n",
        "\n",
        "        # Layer 2\n",
        "        x = self.conv2(x, edge_index)\n",
        "        x = F.dropout(F.relu(x), p=args['dropout'], training=self.training)\n",
        "\n",
        "        # MLP output\n",
        "        x = self.post_mp(x)\n",
        "        return F.sigmoid(x)\n",
        " "
      ],
      "execution_count": 30,
      "outputs": []
    },
    {
      "cell_type": "markdown",
      "source": [
        "Here, we are implementing a custom GAT with 3 layers"
      ],
      "metadata": {
        "id": "TfB--A58XBPN"
      }
    },
    {
      "cell_type": "code",
      "metadata": {
        "id": "ZCMJglTNJCh6"
      },
      "source": [
        "class GATmodif_3layer(torch.nn.Module):\n",
        "    def __init__(self,input_dim, hidden_dim, output_dim, args):\n",
        "        super(GATmodif_3layer, self).__init__()\n",
        "        #use our gat message passing \n",
        "        self.conv1 = myGAT(input_dim, hidden_dim,heads=args['heads'])\n",
        "        self.conv2 = myGAT(args['heads'] * hidden_dim, hidden_dim,heads=args['heads']) \n",
        "        self.conv3 = myGAT(args['heads'] * hidden_dim, hidden_dim,heads=args['heads']) \n",
        "        \n",
        "        self.post_mp = nn.Sequential(\n",
        "            nn.Linear(args['heads'] * hidden_dim, hidden_dim), nn.Dropout(args['dropout'] ), \n",
        "            nn.Linear(hidden_dim, output_dim))\n",
        "        \n",
        "    def forward(self, data, adj=None):\n",
        "        x, edge_index = data.x, data.edge_index\n",
        "        # Layer 1\n",
        "        x = self.conv1(x, edge_index)\n",
        "        x = F.dropout(F.relu(x), p=args['dropout'], training=self.training)\n",
        "\n",
        "        # Layer 2\n",
        "        x = self.conv2(x, edge_index)\n",
        "        x = F.dropout(F.relu(x), p=args['dropout'], training=self.training)\n",
        "        \n",
        "        # Layer 3\n",
        "        x = self.conv3(x, edge_index)\n",
        "        x = F.dropout(F.relu(x), p=args['dropout'], training=self.training)\n",
        "\n",
        "        # MLP output\n",
        "        x = self.post_mp(x)\n",
        "        return F.sigmoid(x)"
      ],
      "execution_count": 31,
      "outputs": []
    },
    {
      "cell_type": "markdown",
      "metadata": {
        "id": "2wEfYY2BR_pZ"
      },
      "source": [
        "# Model training"
      ]
    },
    {
      "cell_type": "markdown",
      "metadata": {
        "id": "9VkbJQMGwm1V"
      },
      "source": [
        "## GNNTrainer object"
      ]
    },
    {
      "cell_type": "code",
      "metadata": {
        "id": "AxJ5Gouidfai"
      },
      "source": [
        "class GnnTrainer(object):\n",
        "  \n",
        "  def __init__(self, model):\n",
        "    self.model = model\n",
        "    self.metric_manager = MetricManager(modes=[\"train\", \"val\"])\n",
        "\n",
        "  def train(self, data_train, optimizer, criterion, scheduler, args):\n",
        "  \n",
        "    self.data_train = data_train\n",
        "    for epoch in range(args['epochs']):\n",
        "        self.model.train()\n",
        "        optimizer.zero_grad()\n",
        "        out = self.model(data_train)\n",
        "\n",
        "        out = out.reshape((data_train.x.shape[0]))\n",
        "        loss = criterion(out[data_train.train_idx], data_train.y[data_train.train_idx])\n",
        "        ## Metric calculations\n",
        "        # train data\n",
        "        target_labels = data_train.y.detach().cpu().numpy()[data_train.train_idx]\n",
        "        pred_scores = out.detach().cpu().numpy()[data_train.train_idx]\n",
        "        train_acc, train_f1,train_f1macro, train_aucroc, train_recall, train_precision, train_cm = self.metric_manager.store_metrics(\"train\", pred_scores, target_labels)\n",
        "\n",
        "\n",
        "        ## Training Step\n",
        "        loss.backward()\n",
        "        optimizer.step()\n",
        "\n",
        "        # validation data\n",
        "        self.model.eval()\n",
        "        target_labels = data_train.y.detach().cpu().numpy()[data_train.valid_idx]\n",
        "        pred_scores = out.detach().cpu().numpy()[data_train.valid_idx]\n",
        "        val_acc, val_f1,val_f1macro, val_aucroc, val_recall, val_precision, val_cm = self.metric_manager.store_metrics(\"val\", pred_scores, target_labels)\n",
        "\n",
        "        if epoch%5 == 0:\n",
        "          print(\"epoch: {} - loss: {:.4f} - accuracy train: {:.4f} -accuracy valid: {:.4f}  - val roc: {:.4f}  - val f1micro: {:.4f}\".format(epoch, loss.item(), train_acc, val_acc, val_aucroc,val_f1))\n",
        "\n",
        "  # To predict labels\n",
        "  def predict(self, data=None, unclassified_only=True, threshold=0.5):\n",
        "    # evaluate model:\n",
        "    self.model.eval()\n",
        "    if data is not None:\n",
        "      self.data_train = data\n",
        "\n",
        "    out = self.model(self.data_train)\n",
        "    out = out.reshape((self.data_train.x.shape[0]))\n",
        "\n",
        "    if unclassified_only:\n",
        "      pred_scores = out.detach().cpu().numpy()[self.data_train.test_idx]\n",
        "    else:\n",
        "      pred_scores = out.detach().cpu().numpy()\n",
        "\n",
        "    pred_labels = pred_scores > threshold\n",
        "\n",
        "    return {\"pred_scores\":pred_scores, \"pred_labels\":pred_labels}\n",
        "\n",
        "  # To save metrics\n",
        "  def save_metrics(self, save_name, path=\"./save/\"):\n",
        "    file_to_store = open(path + save_name, \"wb\")\n",
        "    pickle.dump(self.metric_manager, file_to_store)\n",
        "    file_to_store.close()\n",
        "  \n",
        "  # To save model\n",
        "  def save_model(self, save_name, path=\"./save/\"):\n",
        "    torch.save(self.model.state_dict(), path + save_name)"
      ],
      "execution_count": 32,
      "outputs": []
    },
    {
      "cell_type": "markdown",
      "metadata": {
        "id": "ERpQlbnJjXJw"
      },
      "source": [
        "## Metric manager\n",
        "We can use mutiple metrics, but we are interested on auroc, f1micro score. \\\\\n",
        "Actually 2 types of f1 score can be used:  \\\\\n",
        "-'micro': Calculate metrics globally by counting the total true positives, false negatives and false positives.\n",
        "\n",
        "-'macro':  Calculate metrics for each label, and find their unweighted mean. This does not take label imbalance into account."
      ]
    },
    {
      "cell_type": "code",
      "metadata": {
        "id": "AXCeMvH7d18-"
      },
      "source": [
        "class MetricManager(object):\n",
        "  def __init__(self, modes=[\"train\", \"val\"]):\n",
        "\n",
        "    self.output = {}\n",
        "\n",
        "    for mode in modes:\n",
        "      self.output[mode] = {}\n",
        "      self.output[mode][\"accuracy\"] = []\n",
        "      self.output[mode][\"f1micro\"] = []\n",
        "      self.output[mode][\"f1macro\"] = []\n",
        "      self.output[mode][\"aucroc\"] = []\n",
        "      #new\n",
        "      self.output[mode][\"precision\"] = []\n",
        "      self.output[mode][\"recall\"] = []\n",
        "      self.output[mode][\"cm\"] = []\n",
        "\n",
        "  def store_metrics(self, mode, pred_scores, target_labels, threshold=0.5):\n",
        "\n",
        "    # calculate metrics\n",
        "    pred_labels = pred_scores > threshold\n",
        "    accuracy = accuracy_score(target_labels, pred_labels)\n",
        "    f1micro = f1_score(target_labels, pred_labels,average='micro')\n",
        "    f1macro = f1_score(target_labels, pred_labels,average='macro')\n",
        "    aucroc = roc_auc_score(target_labels, pred_scores)\n",
        "    #new\n",
        "    recall = recall_score(target_labels, pred_labels)\n",
        "    precision = precision_score(target_labels, pred_labels)\n",
        "    cm = confusion_matrix(target_labels, pred_labels)\n",
        "\n",
        "    # Collect results\n",
        "    self.output[mode][\"accuracy\"].append(accuracy)\n",
        "    self.output[mode][\"f1micro\"].append(f1micro)\n",
        "    self.output[mode][\"f1macro\"].append(f1macro)\n",
        "    self.output[mode][\"aucroc\"].append(aucroc)\n",
        "    #new\n",
        "    self.output[mode][\"recall\"].append(recall)\n",
        "    self.output[mode][\"precision\"].append(precision)\n",
        "    self.output[mode][\"cm\"].append(cm)\n",
        "    \n",
        "    return accuracy, f1micro,f1macro, aucroc,recall,precision,cm\n",
        "  \n",
        "  # Get best results\n",
        "  def get_best(self, metric, mode=\"val\"):\n",
        "\n",
        "    # Get best results index\n",
        "    best_results = {}\n",
        "    i = np.array(self.output[mode][metric]).argmax()\n",
        "\n",
        "    # Output\n",
        "    for m in self.output[mode].keys():\n",
        "      best_results[m] = self.output[mode][m][i]\n",
        "    \n",
        "    return best_results"
      ],
      "execution_count": 33,
      "outputs": []
    },
    {
      "cell_type": "markdown",
      "metadata": {
        "id": "XLHFsY5IjZyD"
      },
      "source": [
        "## Training and validation\n",
        "We set parameters and choose the model. Set prebuild parameters to True, if you want to use builtin PyG layers, otherwise False to use customs layers."
      ]
    },
    {
      "cell_type": "code",
      "metadata": {
        "id": "jvnfhp0Uu3oo"
      },
      "source": [
        "# Set training arguments, set prebuild=True to use builtin PyG models otherwise False\n",
        "args={\"epochs\":100,\n",
        "      'lr':0.01,\n",
        "      'weight_decay':1e-5,\n",
        "      'prebuild':True,\n",
        "      'heads':2,\n",
        "      'hidden_dim': 128, \n",
        "      'dropout': 0.5\n",
        "      }\n",
        "\n",
        "device = torch.device('cuda' if torch.cuda.is_available() else 'cpu')"
      ],
      "execution_count": 34,
      "outputs": []
    },
    {
      "cell_type": "code",
      "metadata": {
        "colab": {
          "base_uri": "https://localhost:8080/"
        },
        "id": "9C-nE2Q7uvD-",
        "outputId": "d559eb39-4f6a-41f9-81a5-d89336e539d3"
      },
      "source": [
        "# Model selector GAT or GATv2\n",
        "net = \"GAT\"\n",
        "\n",
        "if net == \"GAT\":\n",
        "    if args['prebuild']==True:\n",
        "      model = GAT(data_train.num_node_features, args['hidden_dim'], 1, args)\n",
        "      print(\"Prebuilt GAT from PyG \")\n",
        "    else:\n",
        "      model = GATmodif(data_train.num_node_features, args['hidden_dim'], 1,args)\n",
        "      print(\"Custom GAT implemented\")\n",
        "elif net == \"GATv2\":\n",
        "    # args['heads'] = 1\n",
        "    if args['prebuild']==True:\n",
        "      model = GATv2(data_train.num_node_features, args['hidden_dim'], 1, args) \n",
        "      print(\"Prebuilt GATv2 from PyG \")\n",
        "    else:\n",
        "      model = GATv2modif(data_train.num_node_features,  args['hidden_dim'], 1,args) \n",
        "      print(\"Custom GATv2 implemented\")\n",
        "\n",
        "model.double().to(device)"
      ],
      "execution_count": 35,
      "outputs": [
        {
          "output_type": "stream",
          "name": "stdout",
          "text": [
            "Prebuilt GAT from PyG \n"
          ]
        },
        {
          "output_type": "execute_result",
          "data": {
            "text/plain": [
              "GAT(\n",
              "  (conv1): GATConv(165, 128, heads=2)\n",
              "  (conv2): GATConv(256, 128, heads=2)\n",
              "  (post_mp): Sequential(\n",
              "    (0): Linear(in_features=256, out_features=128, bias=True)\n",
              "    (1): Dropout(p=0.5, inplace=False)\n",
              "    (2): Linear(in_features=128, out_features=1, bias=True)\n",
              "  )\n",
              ")"
            ]
          },
          "metadata": {},
          "execution_count": 35
        }
      ]
    },
    {
      "cell_type": "code",
      "metadata": {
        "colab": {
          "base_uri": "https://localhost:8080/"
        },
        "id": "5GjfF-5ZKTBa",
        "outputId": "f00a02ed-6801-4056-e5d5-f2a5d8e72b5d"
      },
      "source": [
        "# Push data to GPU\n",
        "data_train = data_train.to(device)\n",
        "\n",
        "# Setup training settings\n",
        "optimizer = torch.optim.Adam(model.parameters(), lr=args['lr'], weight_decay=args['weight_decay'])\n",
        "scheduler = torch.optim.lr_scheduler.ReduceLROnPlateau(optimizer, 'min')\n",
        "criterion = torch.nn.BCELoss()\n",
        "\n",
        "# Train\n",
        "gnn_trainer_gat = GnnTrainer(model)\n",
        "gnn_trainer_gat.train(data_train, optimizer, criterion, scheduler, args)\n",
        "\n",
        "gnn_trainer_gat.save_metrics(\"GATprebuilt.results\", path=FOLDERNAME + \"/save_results/\")\n",
        "gnn_trainer_gat.save_model(\"GATprebuilt.pth\", path=FOLDERNAME + \"/save_results/\")"
      ],
      "execution_count": 36,
      "outputs": [
        {
          "output_type": "stream",
          "name": "stdout",
          "text": [
            "epoch: 0 - loss: 0.9472 - accuracy train: 0.2539 -accuracy valid: 0.2495  - val roc: 0.3980  - val f1micro: 0.2495\n",
            "epoch: 5 - loss: 0.2491 - accuracy train: 0.9022 -accuracy valid: 0.9037  - val roc: 0.8980  - val f1micro: 0.9037\n",
            "epoch: 10 - loss: 0.2173 - accuracy train: 0.9022 -accuracy valid: 0.9037  - val roc: 0.9244  - val f1micro: 0.9037\n",
            "epoch: 15 - loss: 0.1826 - accuracy train: 0.9036 -accuracy valid: 0.9044  - val roc: 0.9454  - val f1micro: 0.9044\n",
            "epoch: 20 - loss: 0.1633 - accuracy train: 0.9132 -accuracy valid: 0.9147  - val roc: 0.9559  - val f1micro: 0.9147\n",
            "epoch: 25 - loss: 0.1517 - accuracy train: 0.9412 -accuracy valid: 0.9423  - val roc: 0.9643  - val f1micro: 0.9423\n",
            "epoch: 30 - loss: 0.1428 - accuracy train: 0.9555 -accuracy valid: 0.9539  - val roc: 0.9694  - val f1micro: 0.9539\n",
            "epoch: 35 - loss: 0.1326 - accuracy train: 0.9608 -accuracy valid: 0.9601  - val roc: 0.9694  - val f1micro: 0.9601\n",
            "epoch: 40 - loss: 0.1231 - accuracy train: 0.9648 -accuracy valid: 0.9634  - val roc: 0.9736  - val f1micro: 0.9634\n",
            "epoch: 45 - loss: 0.1155 - accuracy train: 0.9680 -accuracy valid: 0.9645  - val roc: 0.9757  - val f1micro: 0.9645\n",
            "epoch: 50 - loss: 0.1088 - accuracy train: 0.9709 -accuracy valid: 0.9661  - val roc: 0.9762  - val f1micro: 0.9661\n",
            "epoch: 55 - loss: 0.0987 - accuracy train: 0.9718 -accuracy valid: 0.9694  - val roc: 0.9770  - val f1micro: 0.9694\n",
            "epoch: 60 - loss: 0.0915 - accuracy train: 0.9736 -accuracy valid: 0.9686  - val roc: 0.9777  - val f1micro: 0.9686\n",
            "epoch: 65 - loss: 0.0878 - accuracy train: 0.9742 -accuracy valid: 0.9699  - val roc: 0.9782  - val f1micro: 0.9699\n",
            "epoch: 70 - loss: 0.0796 - accuracy train: 0.9760 -accuracy valid: 0.9684  - val roc: 0.9783  - val f1micro: 0.9684\n",
            "epoch: 75 - loss: 0.0767 - accuracy train: 0.9765 -accuracy valid: 0.9662  - val roc: 0.9764  - val f1micro: 0.9662\n",
            "epoch: 80 - loss: 0.0700 - accuracy train: 0.9767 -accuracy valid: 0.9702  - val roc: 0.9813  - val f1micro: 0.9702\n",
            "epoch: 85 - loss: 0.0666 - accuracy train: 0.9783 -accuracy valid: 0.9704  - val roc: 0.9776  - val f1micro: 0.9704\n",
            "epoch: 90 - loss: 0.0653 - accuracy train: 0.9784 -accuracy valid: 0.9695  - val roc: 0.9796  - val f1micro: 0.9695\n",
            "epoch: 95 - loss: 0.0617 - accuracy train: 0.9801 -accuracy valid: 0.9695  - val roc: 0.9803  - val f1micro: 0.9695\n"
          ]
        }
      ]
    },
    {
      "cell_type": "code",
      "metadata": {
        "colab": {
          "base_uri": "https://localhost:8080/"
        },
        "id": "c5LFnP-9EcHB",
        "outputId": "db63affa-84d0-4d19-f783-adc8e3768c01"
      },
      "source": [
        "#here we run GATv2 model\n",
        "model = GATv2(data_train.num_node_features, args['hidden_dim'], 1, args)\n",
        "model.double().to(device)\n",
        "# Push data to GPU\n",
        "data_train = data_train.to(device)\n",
        "\n",
        "# Setup training settings\n",
        "optimizer = torch.optim.Adam(model.parameters(), lr=args['lr'], weight_decay=args['weight_decay'])\n",
        "scheduler = torch.optim.lr_scheduler.ReduceLROnPlateau(optimizer, 'min')\n",
        "criterion = torch.nn.BCELoss()\n",
        "# Train\n",
        "gnn_trainer_gatv2 = GnnTrainer(model)\n",
        "gnn_trainer_gatv2.train(data_train, optimizer, criterion, scheduler, args)\n",
        "\n",
        "gnn_trainer_gatv2.save_metrics(\"GATv2prebuilt.results\", path=FOLDERNAME + \"/save_results/\")\n",
        "gnn_trainer_gatv2.save_model(\"GATv2prebuilt.pth\", path=FOLDERNAME + \"/save_results/\")"
      ],
      "execution_count": 37,
      "outputs": [
        {
          "output_type": "stream",
          "name": "stdout",
          "text": [
            "epoch: 0 - loss: 0.7682 - accuracy train: 0.4800 -accuracy valid: 0.4792  - val roc: 0.5023  - val f1micro: 0.4792\n",
            "epoch: 5 - loss: 0.2572 - accuracy train: 0.9021 -accuracy valid: 0.9037  - val roc: 0.9069  - val f1micro: 0.9037\n",
            "epoch: 10 - loss: 0.2120 - accuracy train: 0.9022 -accuracy valid: 0.9037  - val roc: 0.9341  - val f1micro: 0.9037\n",
            "epoch: 15 - loss: 0.1738 - accuracy train: 0.9025 -accuracy valid: 0.9042  - val roc: 0.9513  - val f1micro: 0.9042\n",
            "epoch: 20 - loss: 0.1558 - accuracy train: 0.9090 -accuracy valid: 0.9110  - val roc: 0.9623  - val f1micro: 0.9110\n",
            "epoch: 25 - loss: 0.1419 - accuracy train: 0.9569 -accuracy valid: 0.9543  - val roc: 0.9706  - val f1micro: 0.9543\n",
            "epoch: 30 - loss: 0.1284 - accuracy train: 0.9632 -accuracy valid: 0.9629  - val roc: 0.9713  - val f1micro: 0.9629\n",
            "epoch: 35 - loss: 0.1186 - accuracy train: 0.9700 -accuracy valid: 0.9671  - val roc: 0.9741  - val f1micro: 0.9671\n",
            "epoch: 40 - loss: 0.1066 - accuracy train: 0.9720 -accuracy valid: 0.9669  - val roc: 0.9732  - val f1micro: 0.9669\n",
            "epoch: 45 - loss: 0.0942 - accuracy train: 0.9738 -accuracy valid: 0.9704  - val roc: 0.9753  - val f1micro: 0.9704\n",
            "epoch: 50 - loss: 0.0850 - accuracy train: 0.9765 -accuracy valid: 0.9722  - val roc: 0.9765  - val f1micro: 0.9722\n",
            "epoch: 55 - loss: 0.0762 - accuracy train: 0.9779 -accuracy valid: 0.9727  - val roc: 0.9782  - val f1micro: 0.9727\n",
            "epoch: 60 - loss: 0.0699 - accuracy train: 0.9794 -accuracy valid: 0.9725  - val roc: 0.9786  - val f1micro: 0.9725\n",
            "epoch: 65 - loss: 0.0608 - accuracy train: 0.9817 -accuracy valid: 0.9744  - val roc: 0.9816  - val f1micro: 0.9744\n",
            "epoch: 70 - loss: 0.0580 - accuracy train: 0.9829 -accuracy valid: 0.9729  - val roc: 0.9808  - val f1micro: 0.9729\n",
            "epoch: 75 - loss: 0.0526 - accuracy train: 0.9833 -accuracy valid: 0.9735  - val roc: 0.9825  - val f1micro: 0.9735\n",
            "epoch: 80 - loss: 0.0490 - accuracy train: 0.9853 -accuracy valid: 0.9751  - val roc: 0.9809  - val f1micro: 0.9751\n",
            "epoch: 85 - loss: 0.0468 - accuracy train: 0.9863 -accuracy valid: 0.9749  - val roc: 0.9815  - val f1micro: 0.9749\n",
            "epoch: 90 - loss: 0.0450 - accuracy train: 0.9856 -accuracy valid: 0.9734  - val roc: 0.9795  - val f1micro: 0.9734\n",
            "epoch: 95 - loss: 0.0412 - accuracy train: 0.9867 -accuracy valid: 0.9728  - val roc: 0.9806  - val f1micro: 0.9728\n"
          ]
        }
      ]
    },
    {
      "cell_type": "code",
      "source": [
        "#here we run GATmodif model\n",
        "model = GATmodif(data_train.num_node_features, args['hidden_dim'], 1, args)\n",
        "model.double().to(device)\n",
        "# Push data to GPU\n",
        "data_train = data_train.to(device)\n",
        "\n",
        "# Setup training settings\n",
        "optimizer = torch.optim.Adam(model.parameters(), lr=args['lr'], weight_decay=args['weight_decay'])\n",
        "scheduler = torch.optim.lr_scheduler.ReduceLROnPlateau(optimizer, 'min')\n",
        "criterion = torch.nn.BCELoss()\n",
        "# Train\n",
        "gnn_trainer_gatmodif = GnnTrainer(model)\n",
        "gnn_trainer_gatmodif.train(data_train, optimizer, criterion, scheduler, args)\n",
        "\n",
        "gnn_trainer_gatmodif.save_metrics(\"GATmodif.results\", path=FOLDERNAME + \"/save_results/\")\n",
        "gnn_trainer_gatmodif.save_model(\"GATmodif.pth\", path=FOLDERNAME + \"/save_results/\")"
      ],
      "metadata": {
        "colab": {
          "base_uri": "https://localhost:8080/"
        },
        "id": "A1WEGLlYUuQs",
        "outputId": "81c9600f-79dc-4d16-d9a4-e555c5571daf"
      },
      "execution_count": 38,
      "outputs": [
        {
          "output_type": "stream",
          "name": "stdout",
          "text": [
            "epoch: 0 - loss: 0.6942 - accuracy train: 0.7797 -accuracy valid: 0.7808  - val roc: 0.4982  - val f1micro: 0.7808\n",
            "epoch: 5 - loss: 0.4356 - accuracy train: 0.9022 -accuracy valid: 0.9037  - val roc: 0.5653  - val f1micro: 0.9037\n",
            "epoch: 10 - loss: 0.3730 - accuracy train: 0.9022 -accuracy valid: 0.9037  - val roc: 0.6051  - val f1micro: 0.9037\n",
            "epoch: 15 - loss: 0.3395 - accuracy train: 0.9021 -accuracy valid: 0.9037  - val roc: 0.6071  - val f1micro: 0.9037\n",
            "epoch: 20 - loss: 0.3199 - accuracy train: 0.9022 -accuracy valid: 0.9037  - val roc: 0.6389  - val f1micro: 0.9037\n",
            "epoch: 25 - loss: 0.3043 - accuracy train: 0.9021 -accuracy valid: 0.9035  - val roc: 0.6520  - val f1micro: 0.9035\n",
            "epoch: 30 - loss: 0.3007 - accuracy train: 0.9022 -accuracy valid: 0.9037  - val roc: 0.6700  - val f1micro: 0.9037\n",
            "epoch: 35 - loss: 0.2979 - accuracy train: 0.9022 -accuracy valid: 0.9037  - val roc: 0.6772  - val f1micro: 0.9037\n",
            "epoch: 40 - loss: 0.2943 - accuracy train: 0.9022 -accuracy valid: 0.9037  - val roc: 0.6567  - val f1micro: 0.9037\n",
            "epoch: 45 - loss: 0.2906 - accuracy train: 0.9022 -accuracy valid: 0.9037  - val roc: 0.6825  - val f1micro: 0.9037\n",
            "epoch: 50 - loss: 0.2823 - accuracy train: 0.9027 -accuracy valid: 0.9022  - val roc: 0.7005  - val f1micro: 0.9022\n",
            "epoch: 55 - loss: 0.2732 - accuracy train: 0.9059 -accuracy valid: 0.9077  - val roc: 0.7299  - val f1micro: 0.9077\n",
            "epoch: 60 - loss: 0.2670 - accuracy train: 0.9096 -accuracy valid: 0.9091  - val roc: 0.7398  - val f1micro: 0.9091\n",
            "epoch: 65 - loss: 0.2611 - accuracy train: 0.9121 -accuracy valid: 0.9102  - val roc: 0.7450  - val f1micro: 0.9102\n",
            "epoch: 70 - loss: 0.2522 - accuracy train: 0.9146 -accuracy valid: 0.9141  - val roc: 0.7669  - val f1micro: 0.9141\n",
            "epoch: 75 - loss: 0.2531 - accuracy train: 0.9159 -accuracy valid: 0.9164  - val roc: 0.7860  - val f1micro: 0.9164\n",
            "epoch: 80 - loss: 0.2485 - accuracy train: 0.9177 -accuracy valid: 0.9180  - val roc: 0.7674  - val f1micro: 0.9180\n",
            "epoch: 85 - loss: 0.2464 - accuracy train: 0.9186 -accuracy valid: 0.9175  - val roc: 0.7770  - val f1micro: 0.9175\n",
            "epoch: 90 - loss: 0.2437 - accuracy train: 0.9196 -accuracy valid: 0.9180  - val roc: 0.7837  - val f1micro: 0.9180\n",
            "epoch: 95 - loss: 0.2400 - accuracy train: 0.9212 -accuracy valid: 0.9183  - val roc: 0.7881  - val f1micro: 0.9183\n"
          ]
        }
      ]
    },
    {
      "cell_type": "markdown",
      "source": [
        "You can also run our custom models GATmodif and GATv2modif by setting in args, prebuild=False or run with GATmodif_3layer: \\\\\n",
        "```model = GATmodif_3layer(data_train.num_node_features, args['hidden_dim'], 1, args) ``` \\\\\n",
        "After training few models, you can load your saved outputs. Here we load the outputs of GAT and GATv2 from builtin PyG."
      ],
      "metadata": {
        "id": "uGSHiN3TMEz4"
      }
    },
    {
      "cell_type": "code",
      "metadata": {
        "colab": {
          "base_uri": "https://localhost:8080/"
        },
        "id": "0nOsnV_Sf_Bf",
        "outputId": "4e38ff70-af36-407c-fa89-f7f329c2c985"
      },
      "source": [
        "# Fetch results from saved\n",
        "fn=\"GATprebuilt.results\"\n",
        "mmGATprebuilt = pickle.load(open(FOLDERNAME + \"/save_results/\" + fn, \"rb\"))\n",
        "mmGATprebuilt.get_best(\"aucroc\")\n",
        "\n",
        "fn=\"GATv2prebuilt.results\"\n",
        "mmGATv2prebuilt = pickle.load(open(FOLDERNAME + \"/save_results/\" + fn, \"rb\"))\n",
        "mmGATv2prebuilt.get_best(\"aucroc\")\n"
      ],
      "execution_count": 39,
      "outputs": [
        {
          "output_type": "execute_result",
          "data": {
            "text/plain": [
              "{'accuracy': 0.9735146743020758,\n",
              " 'f1micro': 0.9735146743020758,\n",
              " 'f1macro': 0.9220294705039428,\n",
              " 'aucroc': 0.9825067279099505,\n",
              " 'precision': 0.8836477987421384,\n",
              " 'recall': 0.8350668647845468,\n",
              " 'cm': array([[6238,   74],\n",
              "        [ 111,  562]])}"
            ]
          },
          "metadata": {},
          "execution_count": 39
        }
      ]
    },
    {
      "cell_type": "markdown",
      "metadata": {
        "id": "bwzY1wDUuUOS"
      },
      "source": [
        "# Performance visualization\n",
        "Then we can compare the performance of our models by plotting the results with a selected metric.\n"
      ]
    },
    {
      "cell_type": "code",
      "metadata": {
        "id": "PWdh8k4Nnvpa"
      },
      "source": [
        "import plotly.express as px\n",
        "import plotly.graph_objects as go\n",
        "\n",
        "# Validation accuracy comparisons\n",
        "def plot_training_comp(metric_manager_list, names, metric=\"aucroc\", version=\"val\",title=\"Val set accuracy comparison\"):\n",
        "\n",
        "  fig = go.Figure()\n",
        "  fig = fig.update_layout(title=title,\n",
        "                          xaxis_title=\"Epoch\",\n",
        "                          yaxis_title=metric)\n",
        "\n",
        "  for i, metric_manager in enumerate(metric_manager_list):\n",
        "    epochs = np.arange(len(metric_manager.output[version][metric]))\n",
        "    fig.add_trace(go.Scatter(x=epochs,\n",
        "                             y=metric_manager.output[version][metric],\n",
        "                             name=names[i]))\n",
        "  fig.show()\n",
        "\n",
        "# Load saved outputs\n",
        "def load_results(fn):\n",
        "  mm1 = pickle.load(open(FOLDERNAME + \"/save_results/\" + fn, \"rb\"))\n",
        "  return mm1\n"
      ],
      "execution_count": 40,
      "outputs": []
    },
    {
      "cell_type": "code",
      "metadata": {
        "colab": {
          "base_uri": "https://localhost:8080/",
          "height": 1000
        },
        "id": "wvWLlUWoVOe0",
        "outputId": "76dac25f-2b36-42a9-eb74-41c1891447df"
      },
      "source": [
        "# Compare GAT vs GATv2 with 2 heads, prebuilt PyGs models \n",
        "plot_training_comp([mmGATprebuilt,mmGATv2prebuilt], [\"GAT\" ,\"GATv2\" ],\"f1micro\",title=\"Val set f1micro, heads=2\")  \n",
        "plot_training_comp([mmGATprebuilt,mmGATv2prebuilt], [\"GAT\" ,\"GATv2\" ],\"accuracy\",title=\"Val set accuracy ,heads=2\")  \n",
        "plot_training_comp([mmGATprebuilt,mmGATv2prebuilt], [\"GAT\" ,\"GATv2\" ],\"f1macro\",title=\"Val set f1macro ,heads=2\")\n",
        "plot_training_comp([mmGATprebuilt,mmGATv2prebuilt], [\"GAT\" ,\"GATv2\" ],\"aucroc\",title=\"Val set aucroc ,heads=2\")  \n",
        "plot_training_comp([mmGATprebuilt,mmGATv2prebuilt], [\"GAT\" ,\"GATv2\" ],\"recall\",title=\"Val set recall ,heads=2\")  \n",
        "plot_training_comp([mmGATprebuilt,mmGATv2prebuilt], [\"GAT\" ,\"GATv2\" ],\"precision\",title=\"Val set precision ,heads=2\")  \n"
      ],
      "execution_count": 41,
      "outputs": [
        {
          "output_type": "display_data",
          "data": {
            "text/html": [
              "<html>\n",
              "<head><meta charset=\"utf-8\" /></head>\n",
              "<body>\n",
              "    <div>            <script src=\"https://cdnjs.cloudflare.com/ajax/libs/mathjax/2.7.5/MathJax.js?config=TeX-AMS-MML_SVG\"></script><script type=\"text/javascript\">if (window.MathJax && window.MathJax.Hub && window.MathJax.Hub.Config) {window.MathJax.Hub.Config({SVG: {font: \"STIX-Web\"}});}</script>                <script type=\"text/javascript\">window.PlotlyConfig = {MathJaxConfig: 'local'};</script>\n",
              "        <script src=\"https://cdn.plot.ly/plotly-2.18.2.min.js\"></script>                <div id=\"afe1d8ad-b55b-4551-bb6d-d8724e855c4d\" class=\"plotly-graph-div\" style=\"height:525px; width:100%;\"></div>            <script type=\"text/javascript\">                                    window.PLOTLYENV=window.PLOTLYENV || {};                                    if (document.getElementById(\"afe1d8ad-b55b-4551-bb6d-d8724e855c4d\")) {                    Plotly.newPlot(                        \"afe1d8ad-b55b-4551-bb6d-d8724e855c4d\",                        [{\"name\":\"GAT\",\"x\":[0,1,2,3,4,5,6,7,8,9,10,11,12,13,14,15,16,17,18,19,20,21,22,23,24,25,26,27,28,29,30,31,32,33,34,35,36,37,38,39,40,41,42,43,44,45,46,47,48,49,50,51,52,53,54,55,56,57,58,59,60,61,62,63,64,65,66,67,68,69,70,71,72,73,74,75,76,77,78,79,80,81,82,83,84,85,86,87,88,89,90,91,92,93,94,95,96,97,98,99],\"y\":[0.24953471725125267,0.9036506800286328,0.9036506800286328,0.9036506800286328,0.9036506800286328,0.9036506800286328,0.9036506800286328,0.9036506800286328,0.9036506800286328,0.9036506800286328,0.9036506800286328,0.9036506800286328,0.9036506800286328,0.9043664996420901,0.9057981388690051,0.9043664996420901,0.9049391553328562,0.905225483178239,0.9065139584824625,0.9085182534001431,0.9146743020758769,0.9232641374373658,0.932856120257695,0.9420186113099499,0.9408732999284181,0.9423049391553329,0.9425912670007158,0.9448818897637795,0.9480314960629921,0.9533285612025769,0.9539012168933427,0.9550465282748746,0.9603435934144595,0.9587687902648533,0.9570508231925555,0.9600572655690766,0.9597709377236936,0.9593414459556192,0.9603435934144595,0.9626342161775233,0.9633500357909807,0.9637795275590552,0.9643521832498211,0.9662133142448102,0.9650680028632784,0.9644953471725125,0.9629205440229063,0.9657838224767359,0.9683607730851825,0.9669291338582677,0.9660701503221188,0.968217609162491,0.9670722977809592,0.9667859699355762,0.964638511095204,0.969362920544023,0.9680744452397996,0.9686471009305655,0.9696492483894059,0.9705082319255548,0.9686471009305655,0.9700787401574803,0.9677881173944166,0.9695060844667144,0.9719398711524696,0.9699355762347889,0.9672154617036507,0.9677881173944166,0.9697924123120973,0.9697924123120973,0.9683607730851825,0.967931281317108,0.968503937007874,0.9663564781675018,0.9680744452397996,0.9662133142448102,0.968217609162491,0.9686471009305655,0.9695060844667144,0.9676449534717251,0.9702219040801718,0.9713672154617037,0.9699355762347889,0.9706513958482462,0.9703650680028633,0.9703650680028633,0.9696492483894059,0.9710808876163207,0.972083035075161,0.9706513958482462,0.9695060844667144,0.9715103793843951,0.973228346456693,0.9730851825340013,0.9717967072297781,0.9695060844667144,0.967931281317108,0.972083035075161,0.9725125268432355,0.9716535433070866],\"type\":\"scatter\"},{\"name\":\"GATv2\",\"x\":[0,1,2,3,4,5,6,7,8,9,10,11,12,13,14,15,16,17,18,19,20,21,22,23,24,25,26,27,28,29,30,31,32,33,34,35,36,37,38,39,40,41,42,43,44,45,46,47,48,49,50,51,52,53,54,55,56,57,58,59,60,61,62,63,64,65,66,67,68,69,70,71,72,73,74,75,76,77,78,79,80,81,82,83,84,85,86,87,88,89,90,91,92,93,94,95,96,97,98,99],\"y\":[0.4791696492483894,0.9036506800286328,0.9036506800286328,0.9036506800286328,0.9036506800286328,0.9036506800286328,0.9036506800286328,0.9036506800286328,0.9036506800286328,0.9036506800286328,0.9036506800286328,0.9036506800286328,0.9036506800286328,0.9035075161059413,0.9040801717967072,0.9042233357193987,0.9037938439513242,0.9043664996420901,0.9043664996420901,0.9059413027916966,0.9109520400858984,0.9231209735146743,0.9395848246241947,0.9516105941302792,0.9539012168933427,0.9543307086614173,0.9577666428060129,0.9570508231925555,0.9563350035790981,0.9599141016463851,0.9629205440229063,0.9633500357909807,0.964638511095204,0.9667859699355762,0.9662133142448102,0.9670722977809592,0.96907659269864,0.9686471009305655,0.9670722977809592,0.967931281317108,0.9669291338582677,0.9705082319255548,0.9692197566213314,0.9699355762347889,0.9712240515390121,0.9703650680028633,0.9713672154617037,0.9696492483894059,0.9712240515390121,0.9722261989978526,0.9722261989978526,0.9706513958482462,0.972655690765927,0.972369362920544,0.9706513958482462,0.972655690765927,0.972083035075161,0.9717967072297781,0.9716535433070866,0.973228346456693,0.9725125268432355,0.972369362920544,0.972369362920544,0.9748031496062992,0.9730851825340013,0.9743736578382246,0.9742304939155333,0.9746599856836077,0.9738010021474588,0.9750894774516822,0.9729420186113099,0.9752326413743737,0.9733715103793844,0.973228346456693,0.9736578382247674,0.9735146743020758,0.9733715103793844,0.9742304939155333,0.9735146743020758,0.9740873299928418,0.9750894774516822,0.9736578382247674,0.9742304939155333,0.9745168217609163,0.9735146743020758,0.9749463135289907,0.9738010021474588,0.9739441660701503,0.9749463135289907,0.9756621331424481,0.9733715103793844,0.9760916249105226,0.9770937723693629,0.9750894774516822,0.9770937723693629,0.9727988546886185,0.9739441660701503,0.9758052970651396,0.9745168217609163,0.9748031496062992],\"type\":\"scatter\"}],                        {\"template\":{\"data\":{\"histogram2dcontour\":[{\"type\":\"histogram2dcontour\",\"colorbar\":{\"outlinewidth\":0,\"ticks\":\"\"},\"colorscale\":[[0.0,\"#0d0887\"],[0.1111111111111111,\"#46039f\"],[0.2222222222222222,\"#7201a8\"],[0.3333333333333333,\"#9c179e\"],[0.4444444444444444,\"#bd3786\"],[0.5555555555555556,\"#d8576b\"],[0.6666666666666666,\"#ed7953\"],[0.7777777777777778,\"#fb9f3a\"],[0.8888888888888888,\"#fdca26\"],[1.0,\"#f0f921\"]]}],\"choropleth\":[{\"type\":\"choropleth\",\"colorbar\":{\"outlinewidth\":0,\"ticks\":\"\"}}],\"histogram2d\":[{\"type\":\"histogram2d\",\"colorbar\":{\"outlinewidth\":0,\"ticks\":\"\"},\"colorscale\":[[0.0,\"#0d0887\"],[0.1111111111111111,\"#46039f\"],[0.2222222222222222,\"#7201a8\"],[0.3333333333333333,\"#9c179e\"],[0.4444444444444444,\"#bd3786\"],[0.5555555555555556,\"#d8576b\"],[0.6666666666666666,\"#ed7953\"],[0.7777777777777778,\"#fb9f3a\"],[0.8888888888888888,\"#fdca26\"],[1.0,\"#f0f921\"]]}],\"heatmap\":[{\"type\":\"heatmap\",\"colorbar\":{\"outlinewidth\":0,\"ticks\":\"\"},\"colorscale\":[[0.0,\"#0d0887\"],[0.1111111111111111,\"#46039f\"],[0.2222222222222222,\"#7201a8\"],[0.3333333333333333,\"#9c179e\"],[0.4444444444444444,\"#bd3786\"],[0.5555555555555556,\"#d8576b\"],[0.6666666666666666,\"#ed7953\"],[0.7777777777777778,\"#fb9f3a\"],[0.8888888888888888,\"#fdca26\"],[1.0,\"#f0f921\"]]}],\"heatmapgl\":[{\"type\":\"heatmapgl\",\"colorbar\":{\"outlinewidth\":0,\"ticks\":\"\"},\"colorscale\":[[0.0,\"#0d0887\"],[0.1111111111111111,\"#46039f\"],[0.2222222222222222,\"#7201a8\"],[0.3333333333333333,\"#9c179e\"],[0.4444444444444444,\"#bd3786\"],[0.5555555555555556,\"#d8576b\"],[0.6666666666666666,\"#ed7953\"],[0.7777777777777778,\"#fb9f3a\"],[0.8888888888888888,\"#fdca26\"],[1.0,\"#f0f921\"]]}],\"contourcarpet\":[{\"type\":\"contourcarpet\",\"colorbar\":{\"outlinewidth\":0,\"ticks\":\"\"}}],\"contour\":[{\"type\":\"contour\",\"colorbar\":{\"outlinewidth\":0,\"ticks\":\"\"},\"colorscale\":[[0.0,\"#0d0887\"],[0.1111111111111111,\"#46039f\"],[0.2222222222222222,\"#7201a8\"],[0.3333333333333333,\"#9c179e\"],[0.4444444444444444,\"#bd3786\"],[0.5555555555555556,\"#d8576b\"],[0.6666666666666666,\"#ed7953\"],[0.7777777777777778,\"#fb9f3a\"],[0.8888888888888888,\"#fdca26\"],[1.0,\"#f0f921\"]]}],\"surface\":[{\"type\":\"surface\",\"colorbar\":{\"outlinewidth\":0,\"ticks\":\"\"},\"colorscale\":[[0.0,\"#0d0887\"],[0.1111111111111111,\"#46039f\"],[0.2222222222222222,\"#7201a8\"],[0.3333333333333333,\"#9c179e\"],[0.4444444444444444,\"#bd3786\"],[0.5555555555555556,\"#d8576b\"],[0.6666666666666666,\"#ed7953\"],[0.7777777777777778,\"#fb9f3a\"],[0.8888888888888888,\"#fdca26\"],[1.0,\"#f0f921\"]]}],\"mesh3d\":[{\"type\":\"mesh3d\",\"colorbar\":{\"outlinewidth\":0,\"ticks\":\"\"}}],\"scatter\":[{\"fillpattern\":{\"fillmode\":\"overlay\",\"size\":10,\"solidity\":0.2},\"type\":\"scatter\"}],\"parcoords\":[{\"type\":\"parcoords\",\"line\":{\"colorbar\":{\"outlinewidth\":0,\"ticks\":\"\"}}}],\"scatterpolargl\":[{\"type\":\"scatterpolargl\",\"marker\":{\"colorbar\":{\"outlinewidth\":0,\"ticks\":\"\"}}}],\"bar\":[{\"error_x\":{\"color\":\"#2a3f5f\"},\"error_y\":{\"color\":\"#2a3f5f\"},\"marker\":{\"line\":{\"color\":\"#E5ECF6\",\"width\":0.5},\"pattern\":{\"fillmode\":\"overlay\",\"size\":10,\"solidity\":0.2}},\"type\":\"bar\"}],\"scattergeo\":[{\"type\":\"scattergeo\",\"marker\":{\"colorbar\":{\"outlinewidth\":0,\"ticks\":\"\"}}}],\"scatterpolar\":[{\"type\":\"scatterpolar\",\"marker\":{\"colorbar\":{\"outlinewidth\":0,\"ticks\":\"\"}}}],\"histogram\":[{\"marker\":{\"pattern\":{\"fillmode\":\"overlay\",\"size\":10,\"solidity\":0.2}},\"type\":\"histogram\"}],\"scattergl\":[{\"type\":\"scattergl\",\"marker\":{\"colorbar\":{\"outlinewidth\":0,\"ticks\":\"\"}}}],\"scatter3d\":[{\"type\":\"scatter3d\",\"line\":{\"colorbar\":{\"outlinewidth\":0,\"ticks\":\"\"}},\"marker\":{\"colorbar\":{\"outlinewidth\":0,\"ticks\":\"\"}}}],\"scattermapbox\":[{\"type\":\"scattermapbox\",\"marker\":{\"colorbar\":{\"outlinewidth\":0,\"ticks\":\"\"}}}],\"scatterternary\":[{\"type\":\"scatterternary\",\"marker\":{\"colorbar\":{\"outlinewidth\":0,\"ticks\":\"\"}}}],\"scattercarpet\":[{\"type\":\"scattercarpet\",\"marker\":{\"colorbar\":{\"outlinewidth\":0,\"ticks\":\"\"}}}],\"carpet\":[{\"aaxis\":{\"endlinecolor\":\"#2a3f5f\",\"gridcolor\":\"white\",\"linecolor\":\"white\",\"minorgridcolor\":\"white\",\"startlinecolor\":\"#2a3f5f\"},\"baxis\":{\"endlinecolor\":\"#2a3f5f\",\"gridcolor\":\"white\",\"linecolor\":\"white\",\"minorgridcolor\":\"white\",\"startlinecolor\":\"#2a3f5f\"},\"type\":\"carpet\"}],\"table\":[{\"cells\":{\"fill\":{\"color\":\"#EBF0F8\"},\"line\":{\"color\":\"white\"}},\"header\":{\"fill\":{\"color\":\"#C8D4E3\"},\"line\":{\"color\":\"white\"}},\"type\":\"table\"}],\"barpolar\":[{\"marker\":{\"line\":{\"color\":\"#E5ECF6\",\"width\":0.5},\"pattern\":{\"fillmode\":\"overlay\",\"size\":10,\"solidity\":0.2}},\"type\":\"barpolar\"}],\"pie\":[{\"automargin\":true,\"type\":\"pie\"}]},\"layout\":{\"autotypenumbers\":\"strict\",\"colorway\":[\"#636efa\",\"#EF553B\",\"#00cc96\",\"#ab63fa\",\"#FFA15A\",\"#19d3f3\",\"#FF6692\",\"#B6E880\",\"#FF97FF\",\"#FECB52\"],\"font\":{\"color\":\"#2a3f5f\"},\"hovermode\":\"closest\",\"hoverlabel\":{\"align\":\"left\"},\"paper_bgcolor\":\"white\",\"plot_bgcolor\":\"#E5ECF6\",\"polar\":{\"bgcolor\":\"#E5ECF6\",\"angularaxis\":{\"gridcolor\":\"white\",\"linecolor\":\"white\",\"ticks\":\"\"},\"radialaxis\":{\"gridcolor\":\"white\",\"linecolor\":\"white\",\"ticks\":\"\"}},\"ternary\":{\"bgcolor\":\"#E5ECF6\",\"aaxis\":{\"gridcolor\":\"white\",\"linecolor\":\"white\",\"ticks\":\"\"},\"baxis\":{\"gridcolor\":\"white\",\"linecolor\":\"white\",\"ticks\":\"\"},\"caxis\":{\"gridcolor\":\"white\",\"linecolor\":\"white\",\"ticks\":\"\"}},\"coloraxis\":{\"colorbar\":{\"outlinewidth\":0,\"ticks\":\"\"}},\"colorscale\":{\"sequential\":[[0.0,\"#0d0887\"],[0.1111111111111111,\"#46039f\"],[0.2222222222222222,\"#7201a8\"],[0.3333333333333333,\"#9c179e\"],[0.4444444444444444,\"#bd3786\"],[0.5555555555555556,\"#d8576b\"],[0.6666666666666666,\"#ed7953\"],[0.7777777777777778,\"#fb9f3a\"],[0.8888888888888888,\"#fdca26\"],[1.0,\"#f0f921\"]],\"sequentialminus\":[[0.0,\"#0d0887\"],[0.1111111111111111,\"#46039f\"],[0.2222222222222222,\"#7201a8\"],[0.3333333333333333,\"#9c179e\"],[0.4444444444444444,\"#bd3786\"],[0.5555555555555556,\"#d8576b\"],[0.6666666666666666,\"#ed7953\"],[0.7777777777777778,\"#fb9f3a\"],[0.8888888888888888,\"#fdca26\"],[1.0,\"#f0f921\"]],\"diverging\":[[0,\"#8e0152\"],[0.1,\"#c51b7d\"],[0.2,\"#de77ae\"],[0.3,\"#f1b6da\"],[0.4,\"#fde0ef\"],[0.5,\"#f7f7f7\"],[0.6,\"#e6f5d0\"],[0.7,\"#b8e186\"],[0.8,\"#7fbc41\"],[0.9,\"#4d9221\"],[1,\"#276419\"]]},\"xaxis\":{\"gridcolor\":\"white\",\"linecolor\":\"white\",\"ticks\":\"\",\"title\":{\"standoff\":15},\"zerolinecolor\":\"white\",\"automargin\":true,\"zerolinewidth\":2},\"yaxis\":{\"gridcolor\":\"white\",\"linecolor\":\"white\",\"ticks\":\"\",\"title\":{\"standoff\":15},\"zerolinecolor\":\"white\",\"automargin\":true,\"zerolinewidth\":2},\"scene\":{\"xaxis\":{\"backgroundcolor\":\"#E5ECF6\",\"gridcolor\":\"white\",\"linecolor\":\"white\",\"showbackground\":true,\"ticks\":\"\",\"zerolinecolor\":\"white\",\"gridwidth\":2},\"yaxis\":{\"backgroundcolor\":\"#E5ECF6\",\"gridcolor\":\"white\",\"linecolor\":\"white\",\"showbackground\":true,\"ticks\":\"\",\"zerolinecolor\":\"white\",\"gridwidth\":2},\"zaxis\":{\"backgroundcolor\":\"#E5ECF6\",\"gridcolor\":\"white\",\"linecolor\":\"white\",\"showbackground\":true,\"ticks\":\"\",\"zerolinecolor\":\"white\",\"gridwidth\":2}},\"shapedefaults\":{\"line\":{\"color\":\"#2a3f5f\"}},\"annotationdefaults\":{\"arrowcolor\":\"#2a3f5f\",\"arrowhead\":0,\"arrowwidth\":1},\"geo\":{\"bgcolor\":\"white\",\"landcolor\":\"#E5ECF6\",\"subunitcolor\":\"white\",\"showland\":true,\"showlakes\":true,\"lakecolor\":\"white\"},\"title\":{\"x\":0.05},\"mapbox\":{\"style\":\"light\"}}},\"title\":{\"text\":\"Val set f1micro, heads=2\"},\"xaxis\":{\"title\":{\"text\":\"Epoch\"}},\"yaxis\":{\"title\":{\"text\":\"f1micro\"}}},                        {\"responsive\": true}                    ).then(function(){\n",
              "                            \n",
              "var gd = document.getElementById('afe1d8ad-b55b-4551-bb6d-d8724e855c4d');\n",
              "var x = new MutationObserver(function (mutations, observer) {{\n",
              "        var display = window.getComputedStyle(gd).display;\n",
              "        if (!display || display === 'none') {{\n",
              "            console.log([gd, 'removed!']);\n",
              "            Plotly.purge(gd);\n",
              "            observer.disconnect();\n",
              "        }}\n",
              "}});\n",
              "\n",
              "// Listen for the removal of the full notebook cells\n",
              "var notebookContainer = gd.closest('#notebook-container');\n",
              "if (notebookContainer) {{\n",
              "    x.observe(notebookContainer, {childList: true});\n",
              "}}\n",
              "\n",
              "// Listen for the clearing of the current output cell\n",
              "var outputEl = gd.closest('.output');\n",
              "if (outputEl) {{\n",
              "    x.observe(outputEl, {childList: true});\n",
              "}}\n",
              "\n",
              "                        })                };                            </script>        </div>\n",
              "</body>\n",
              "</html>"
            ]
          },
          "metadata": {}
        },
        {
          "output_type": "display_data",
          "data": {
            "text/html": [
              "<html>\n",
              "<head><meta charset=\"utf-8\" /></head>\n",
              "<body>\n",
              "    <div>            <script src=\"https://cdnjs.cloudflare.com/ajax/libs/mathjax/2.7.5/MathJax.js?config=TeX-AMS-MML_SVG\"></script><script type=\"text/javascript\">if (window.MathJax && window.MathJax.Hub && window.MathJax.Hub.Config) {window.MathJax.Hub.Config({SVG: {font: \"STIX-Web\"}});}</script>                <script type=\"text/javascript\">window.PlotlyConfig = {MathJaxConfig: 'local'};</script>\n",
              "        <script src=\"https://cdn.plot.ly/plotly-2.18.2.min.js\"></script>                <div id=\"f116a926-29a3-4e21-962c-50a611590a85\" class=\"plotly-graph-div\" style=\"height:525px; width:100%;\"></div>            <script type=\"text/javascript\">                                    window.PLOTLYENV=window.PLOTLYENV || {};                                    if (document.getElementById(\"f116a926-29a3-4e21-962c-50a611590a85\")) {                    Plotly.newPlot(                        \"f116a926-29a3-4e21-962c-50a611590a85\",                        [{\"name\":\"GAT\",\"x\":[0,1,2,3,4,5,6,7,8,9,10,11,12,13,14,15,16,17,18,19,20,21,22,23,24,25,26,27,28,29,30,31,32,33,34,35,36,37,38,39,40,41,42,43,44,45,46,47,48,49,50,51,52,53,54,55,56,57,58,59,60,61,62,63,64,65,66,67,68,69,70,71,72,73,74,75,76,77,78,79,80,81,82,83,84,85,86,87,88,89,90,91,92,93,94,95,96,97,98,99],\"y\":[0.24953471725125267,0.9036506800286328,0.9036506800286328,0.9036506800286328,0.9036506800286328,0.9036506800286328,0.9036506800286328,0.9036506800286328,0.9036506800286328,0.9036506800286328,0.9036506800286328,0.9036506800286328,0.9036506800286328,0.9043664996420901,0.9057981388690051,0.9043664996420901,0.9049391553328561,0.905225483178239,0.9065139584824624,0.9085182534001431,0.9146743020758769,0.9232641374373658,0.932856120257695,0.9420186113099499,0.9408732999284181,0.9423049391553329,0.9425912670007158,0.9448818897637795,0.9480314960629921,0.9533285612025769,0.9539012168933428,0.9550465282748747,0.9603435934144595,0.9587687902648533,0.9570508231925555,0.9600572655690766,0.9597709377236936,0.9593414459556192,0.9603435934144595,0.9626342161775233,0.9633500357909807,0.9637795275590552,0.9643521832498211,0.9662133142448103,0.9650680028632784,0.9644953471725125,0.9629205440229063,0.9657838224767359,0.9683607730851825,0.9669291338582677,0.9660701503221188,0.968217609162491,0.9670722977809592,0.9667859699355762,0.964638511095204,0.969362920544023,0.9680744452397996,0.9686471009305655,0.9696492483894059,0.9705082319255548,0.9686471009305655,0.9700787401574803,0.9677881173944166,0.9695060844667144,0.9719398711524696,0.9699355762347889,0.9672154617036507,0.9677881173944166,0.9697924123120973,0.9697924123120973,0.9683607730851825,0.967931281317108,0.968503937007874,0.9663564781675018,0.9680744452397996,0.9662133142448103,0.968217609162491,0.9686471009305655,0.9695060844667144,0.9676449534717251,0.9702219040801718,0.9713672154617037,0.9699355762347889,0.9706513958482462,0.9703650680028633,0.9703650680028633,0.9696492483894059,0.9710808876163207,0.972083035075161,0.9706513958482462,0.9695060844667144,0.9715103793843951,0.9732283464566929,0.9730851825340014,0.9717967072297781,0.9695060844667144,0.967931281317108,0.972083035075161,0.9725125268432355,0.9716535433070866],\"type\":\"scatter\"},{\"name\":\"GATv2\",\"x\":[0,1,2,3,4,5,6,7,8,9,10,11,12,13,14,15,16,17,18,19,20,21,22,23,24,25,26,27,28,29,30,31,32,33,34,35,36,37,38,39,40,41,42,43,44,45,46,47,48,49,50,51,52,53,54,55,56,57,58,59,60,61,62,63,64,65,66,67,68,69,70,71,72,73,74,75,76,77,78,79,80,81,82,83,84,85,86,87,88,89,90,91,92,93,94,95,96,97,98,99],\"y\":[0.4791696492483894,0.9036506800286328,0.9036506800286328,0.9036506800286328,0.9036506800286328,0.9036506800286328,0.9036506800286328,0.9036506800286328,0.9036506800286328,0.9036506800286328,0.9036506800286328,0.9036506800286328,0.9036506800286328,0.9035075161059413,0.9040801717967072,0.9042233357193987,0.9037938439513242,0.9043664996420901,0.9043664996420901,0.9059413027916965,0.9109520400858984,0.9231209735146743,0.9395848246241947,0.9516105941302792,0.9539012168933428,0.9543307086614173,0.9577666428060129,0.9570508231925555,0.9563350035790981,0.9599141016463851,0.9629205440229063,0.9633500357909807,0.964638511095204,0.9667859699355762,0.9662133142448103,0.9670722977809592,0.96907659269864,0.9686471009305655,0.9670722977809592,0.967931281317108,0.9669291338582677,0.9705082319255548,0.9692197566213314,0.9699355762347889,0.9712240515390121,0.9703650680028633,0.9713672154617037,0.9696492483894059,0.9712240515390121,0.9722261989978526,0.9722261989978526,0.9706513958482462,0.972655690765927,0.972369362920544,0.9706513958482462,0.972655690765927,0.972083035075161,0.9717967072297781,0.9716535433070866,0.9732283464566929,0.9725125268432355,0.972369362920544,0.972369362920544,0.9748031496062992,0.9730851825340014,0.9743736578382247,0.9742304939155333,0.9746599856836077,0.9738010021474588,0.9750894774516822,0.9729420186113099,0.9752326413743737,0.9733715103793844,0.9732283464566929,0.9736578382247674,0.9735146743020758,0.9733715103793844,0.9742304939155333,0.9735146743020758,0.9740873299928418,0.9750894774516822,0.9736578382247674,0.9742304939155333,0.9745168217609163,0.9735146743020758,0.9749463135289907,0.9738010021474588,0.9739441660701503,0.9749463135289907,0.9756621331424481,0.9733715103793844,0.9760916249105226,0.9770937723693629,0.9750894774516822,0.9770937723693629,0.9727988546886185,0.9739441660701503,0.9758052970651396,0.9745168217609163,0.9748031496062992],\"type\":\"scatter\"}],                        {\"template\":{\"data\":{\"histogram2dcontour\":[{\"type\":\"histogram2dcontour\",\"colorbar\":{\"outlinewidth\":0,\"ticks\":\"\"},\"colorscale\":[[0.0,\"#0d0887\"],[0.1111111111111111,\"#46039f\"],[0.2222222222222222,\"#7201a8\"],[0.3333333333333333,\"#9c179e\"],[0.4444444444444444,\"#bd3786\"],[0.5555555555555556,\"#d8576b\"],[0.6666666666666666,\"#ed7953\"],[0.7777777777777778,\"#fb9f3a\"],[0.8888888888888888,\"#fdca26\"],[1.0,\"#f0f921\"]]}],\"choropleth\":[{\"type\":\"choropleth\",\"colorbar\":{\"outlinewidth\":0,\"ticks\":\"\"}}],\"histogram2d\":[{\"type\":\"histogram2d\",\"colorbar\":{\"outlinewidth\":0,\"ticks\":\"\"},\"colorscale\":[[0.0,\"#0d0887\"],[0.1111111111111111,\"#46039f\"],[0.2222222222222222,\"#7201a8\"],[0.3333333333333333,\"#9c179e\"],[0.4444444444444444,\"#bd3786\"],[0.5555555555555556,\"#d8576b\"],[0.6666666666666666,\"#ed7953\"],[0.7777777777777778,\"#fb9f3a\"],[0.8888888888888888,\"#fdca26\"],[1.0,\"#f0f921\"]]}],\"heatmap\":[{\"type\":\"heatmap\",\"colorbar\":{\"outlinewidth\":0,\"ticks\":\"\"},\"colorscale\":[[0.0,\"#0d0887\"],[0.1111111111111111,\"#46039f\"],[0.2222222222222222,\"#7201a8\"],[0.3333333333333333,\"#9c179e\"],[0.4444444444444444,\"#bd3786\"],[0.5555555555555556,\"#d8576b\"],[0.6666666666666666,\"#ed7953\"],[0.7777777777777778,\"#fb9f3a\"],[0.8888888888888888,\"#fdca26\"],[1.0,\"#f0f921\"]]}],\"heatmapgl\":[{\"type\":\"heatmapgl\",\"colorbar\":{\"outlinewidth\":0,\"ticks\":\"\"},\"colorscale\":[[0.0,\"#0d0887\"],[0.1111111111111111,\"#46039f\"],[0.2222222222222222,\"#7201a8\"],[0.3333333333333333,\"#9c179e\"],[0.4444444444444444,\"#bd3786\"],[0.5555555555555556,\"#d8576b\"],[0.6666666666666666,\"#ed7953\"],[0.7777777777777778,\"#fb9f3a\"],[0.8888888888888888,\"#fdca26\"],[1.0,\"#f0f921\"]]}],\"contourcarpet\":[{\"type\":\"contourcarpet\",\"colorbar\":{\"outlinewidth\":0,\"ticks\":\"\"}}],\"contour\":[{\"type\":\"contour\",\"colorbar\":{\"outlinewidth\":0,\"ticks\":\"\"},\"colorscale\":[[0.0,\"#0d0887\"],[0.1111111111111111,\"#46039f\"],[0.2222222222222222,\"#7201a8\"],[0.3333333333333333,\"#9c179e\"],[0.4444444444444444,\"#bd3786\"],[0.5555555555555556,\"#d8576b\"],[0.6666666666666666,\"#ed7953\"],[0.7777777777777778,\"#fb9f3a\"],[0.8888888888888888,\"#fdca26\"],[1.0,\"#f0f921\"]]}],\"surface\":[{\"type\":\"surface\",\"colorbar\":{\"outlinewidth\":0,\"ticks\":\"\"},\"colorscale\":[[0.0,\"#0d0887\"],[0.1111111111111111,\"#46039f\"],[0.2222222222222222,\"#7201a8\"],[0.3333333333333333,\"#9c179e\"],[0.4444444444444444,\"#bd3786\"],[0.5555555555555556,\"#d8576b\"],[0.6666666666666666,\"#ed7953\"],[0.7777777777777778,\"#fb9f3a\"],[0.8888888888888888,\"#fdca26\"],[1.0,\"#f0f921\"]]}],\"mesh3d\":[{\"type\":\"mesh3d\",\"colorbar\":{\"outlinewidth\":0,\"ticks\":\"\"}}],\"scatter\":[{\"fillpattern\":{\"fillmode\":\"overlay\",\"size\":10,\"solidity\":0.2},\"type\":\"scatter\"}],\"parcoords\":[{\"type\":\"parcoords\",\"line\":{\"colorbar\":{\"outlinewidth\":0,\"ticks\":\"\"}}}],\"scatterpolargl\":[{\"type\":\"scatterpolargl\",\"marker\":{\"colorbar\":{\"outlinewidth\":0,\"ticks\":\"\"}}}],\"bar\":[{\"error_x\":{\"color\":\"#2a3f5f\"},\"error_y\":{\"color\":\"#2a3f5f\"},\"marker\":{\"line\":{\"color\":\"#E5ECF6\",\"width\":0.5},\"pattern\":{\"fillmode\":\"overlay\",\"size\":10,\"solidity\":0.2}},\"type\":\"bar\"}],\"scattergeo\":[{\"type\":\"scattergeo\",\"marker\":{\"colorbar\":{\"outlinewidth\":0,\"ticks\":\"\"}}}],\"scatterpolar\":[{\"type\":\"scatterpolar\",\"marker\":{\"colorbar\":{\"outlinewidth\":0,\"ticks\":\"\"}}}],\"histogram\":[{\"marker\":{\"pattern\":{\"fillmode\":\"overlay\",\"size\":10,\"solidity\":0.2}},\"type\":\"histogram\"}],\"scattergl\":[{\"type\":\"scattergl\",\"marker\":{\"colorbar\":{\"outlinewidth\":0,\"ticks\":\"\"}}}],\"scatter3d\":[{\"type\":\"scatter3d\",\"line\":{\"colorbar\":{\"outlinewidth\":0,\"ticks\":\"\"}},\"marker\":{\"colorbar\":{\"outlinewidth\":0,\"ticks\":\"\"}}}],\"scattermapbox\":[{\"type\":\"scattermapbox\",\"marker\":{\"colorbar\":{\"outlinewidth\":0,\"ticks\":\"\"}}}],\"scatterternary\":[{\"type\":\"scatterternary\",\"marker\":{\"colorbar\":{\"outlinewidth\":0,\"ticks\":\"\"}}}],\"scattercarpet\":[{\"type\":\"scattercarpet\",\"marker\":{\"colorbar\":{\"outlinewidth\":0,\"ticks\":\"\"}}}],\"carpet\":[{\"aaxis\":{\"endlinecolor\":\"#2a3f5f\",\"gridcolor\":\"white\",\"linecolor\":\"white\",\"minorgridcolor\":\"white\",\"startlinecolor\":\"#2a3f5f\"},\"baxis\":{\"endlinecolor\":\"#2a3f5f\",\"gridcolor\":\"white\",\"linecolor\":\"white\",\"minorgridcolor\":\"white\",\"startlinecolor\":\"#2a3f5f\"},\"type\":\"carpet\"}],\"table\":[{\"cells\":{\"fill\":{\"color\":\"#EBF0F8\"},\"line\":{\"color\":\"white\"}},\"header\":{\"fill\":{\"color\":\"#C8D4E3\"},\"line\":{\"color\":\"white\"}},\"type\":\"table\"}],\"barpolar\":[{\"marker\":{\"line\":{\"color\":\"#E5ECF6\",\"width\":0.5},\"pattern\":{\"fillmode\":\"overlay\",\"size\":10,\"solidity\":0.2}},\"type\":\"barpolar\"}],\"pie\":[{\"automargin\":true,\"type\":\"pie\"}]},\"layout\":{\"autotypenumbers\":\"strict\",\"colorway\":[\"#636efa\",\"#EF553B\",\"#00cc96\",\"#ab63fa\",\"#FFA15A\",\"#19d3f3\",\"#FF6692\",\"#B6E880\",\"#FF97FF\",\"#FECB52\"],\"font\":{\"color\":\"#2a3f5f\"},\"hovermode\":\"closest\",\"hoverlabel\":{\"align\":\"left\"},\"paper_bgcolor\":\"white\",\"plot_bgcolor\":\"#E5ECF6\",\"polar\":{\"bgcolor\":\"#E5ECF6\",\"angularaxis\":{\"gridcolor\":\"white\",\"linecolor\":\"white\",\"ticks\":\"\"},\"radialaxis\":{\"gridcolor\":\"white\",\"linecolor\":\"white\",\"ticks\":\"\"}},\"ternary\":{\"bgcolor\":\"#E5ECF6\",\"aaxis\":{\"gridcolor\":\"white\",\"linecolor\":\"white\",\"ticks\":\"\"},\"baxis\":{\"gridcolor\":\"white\",\"linecolor\":\"white\",\"ticks\":\"\"},\"caxis\":{\"gridcolor\":\"white\",\"linecolor\":\"white\",\"ticks\":\"\"}},\"coloraxis\":{\"colorbar\":{\"outlinewidth\":0,\"ticks\":\"\"}},\"colorscale\":{\"sequential\":[[0.0,\"#0d0887\"],[0.1111111111111111,\"#46039f\"],[0.2222222222222222,\"#7201a8\"],[0.3333333333333333,\"#9c179e\"],[0.4444444444444444,\"#bd3786\"],[0.5555555555555556,\"#d8576b\"],[0.6666666666666666,\"#ed7953\"],[0.7777777777777778,\"#fb9f3a\"],[0.8888888888888888,\"#fdca26\"],[1.0,\"#f0f921\"]],\"sequentialminus\":[[0.0,\"#0d0887\"],[0.1111111111111111,\"#46039f\"],[0.2222222222222222,\"#7201a8\"],[0.3333333333333333,\"#9c179e\"],[0.4444444444444444,\"#bd3786\"],[0.5555555555555556,\"#d8576b\"],[0.6666666666666666,\"#ed7953\"],[0.7777777777777778,\"#fb9f3a\"],[0.8888888888888888,\"#fdca26\"],[1.0,\"#f0f921\"]],\"diverging\":[[0,\"#8e0152\"],[0.1,\"#c51b7d\"],[0.2,\"#de77ae\"],[0.3,\"#f1b6da\"],[0.4,\"#fde0ef\"],[0.5,\"#f7f7f7\"],[0.6,\"#e6f5d0\"],[0.7,\"#b8e186\"],[0.8,\"#7fbc41\"],[0.9,\"#4d9221\"],[1,\"#276419\"]]},\"xaxis\":{\"gridcolor\":\"white\",\"linecolor\":\"white\",\"ticks\":\"\",\"title\":{\"standoff\":15},\"zerolinecolor\":\"white\",\"automargin\":true,\"zerolinewidth\":2},\"yaxis\":{\"gridcolor\":\"white\",\"linecolor\":\"white\",\"ticks\":\"\",\"title\":{\"standoff\":15},\"zerolinecolor\":\"white\",\"automargin\":true,\"zerolinewidth\":2},\"scene\":{\"xaxis\":{\"backgroundcolor\":\"#E5ECF6\",\"gridcolor\":\"white\",\"linecolor\":\"white\",\"showbackground\":true,\"ticks\":\"\",\"zerolinecolor\":\"white\",\"gridwidth\":2},\"yaxis\":{\"backgroundcolor\":\"#E5ECF6\",\"gridcolor\":\"white\",\"linecolor\":\"white\",\"showbackground\":true,\"ticks\":\"\",\"zerolinecolor\":\"white\",\"gridwidth\":2},\"zaxis\":{\"backgroundcolor\":\"#E5ECF6\",\"gridcolor\":\"white\",\"linecolor\":\"white\",\"showbackground\":true,\"ticks\":\"\",\"zerolinecolor\":\"white\",\"gridwidth\":2}},\"shapedefaults\":{\"line\":{\"color\":\"#2a3f5f\"}},\"annotationdefaults\":{\"arrowcolor\":\"#2a3f5f\",\"arrowhead\":0,\"arrowwidth\":1},\"geo\":{\"bgcolor\":\"white\",\"landcolor\":\"#E5ECF6\",\"subunitcolor\":\"white\",\"showland\":true,\"showlakes\":true,\"lakecolor\":\"white\"},\"title\":{\"x\":0.05},\"mapbox\":{\"style\":\"light\"}}},\"title\":{\"text\":\"Val set accuracy ,heads=2\"},\"xaxis\":{\"title\":{\"text\":\"Epoch\"}},\"yaxis\":{\"title\":{\"text\":\"accuracy\"}}},                        {\"responsive\": true}                    ).then(function(){\n",
              "                            \n",
              "var gd = document.getElementById('f116a926-29a3-4e21-962c-50a611590a85');\n",
              "var x = new MutationObserver(function (mutations, observer) {{\n",
              "        var display = window.getComputedStyle(gd).display;\n",
              "        if (!display || display === 'none') {{\n",
              "            console.log([gd, 'removed!']);\n",
              "            Plotly.purge(gd);\n",
              "            observer.disconnect();\n",
              "        }}\n",
              "}});\n",
              "\n",
              "// Listen for the removal of the full notebook cells\n",
              "var notebookContainer = gd.closest('#notebook-container');\n",
              "if (notebookContainer) {{\n",
              "    x.observe(notebookContainer, {childList: true});\n",
              "}}\n",
              "\n",
              "// Listen for the clearing of the current output cell\n",
              "var outputEl = gd.closest('.output');\n",
              "if (outputEl) {{\n",
              "    x.observe(outputEl, {childList: true});\n",
              "}}\n",
              "\n",
              "                        })                };                            </script>        </div>\n",
              "</body>\n",
              "</html>"
            ]
          },
          "metadata": {}
        },
        {
          "output_type": "display_data",
          "data": {
            "text/html": [
              "<html>\n",
              "<head><meta charset=\"utf-8\" /></head>\n",
              "<body>\n",
              "    <div>            <script src=\"https://cdnjs.cloudflare.com/ajax/libs/mathjax/2.7.5/MathJax.js?config=TeX-AMS-MML_SVG\"></script><script type=\"text/javascript\">if (window.MathJax && window.MathJax.Hub && window.MathJax.Hub.Config) {window.MathJax.Hub.Config({SVG: {font: \"STIX-Web\"}});}</script>                <script type=\"text/javascript\">window.PlotlyConfig = {MathJaxConfig: 'local'};</script>\n",
              "        <script src=\"https://cdn.plot.ly/plotly-2.18.2.min.js\"></script>                <div id=\"803b7014-4cf2-4a82-94eb-d2da61246048\" class=\"plotly-graph-div\" style=\"height:525px; width:100%;\"></div>            <script type=\"text/javascript\">                                    window.PLOTLYENV=window.PLOTLYENV || {};                                    if (document.getElementById(\"803b7014-4cf2-4a82-94eb-d2da61246048\")) {                    Plotly.newPlot(                        \"803b7014-4cf2-4a82-94eb-d2da61246048\",                        [{\"name\":\"GAT\",\"x\":[0,1,2,3,4,5,6,7,8,9,10,11,12,13,14,15,16,17,18,19,20,21,22,23,24,25,26,27,28,29,30,31,32,33,34,35,36,37,38,39,40,41,42,43,44,45,46,47,48,49,50,51,52,53,54,55,56,57,58,59,60,61,62,63,64,65,66,67,68,69,70,71,72,73,74,75,76,77,78,79,80,81,82,83,84,85,86,87,88,89,90,91,92,93,94,95,96,97,98,99],\"y\":[0.2439749448622448,0.4746935398962172,0.4746935398962172,0.4746935398962172,0.4746935398962172,0.4746935398962172,0.4746935398962172,0.4746935398962172,0.4746935398962172,0.4746935398962172,0.4746935398962172,0.4746935398962172,0.4746935398962172,0.48224673478935143,0.4997886460022968,0.4836918514584164,0.488211532112408,0.49257551775388175,0.5096305795291095,0.5277929329140042,0.5894068291420491,0.6620469629756938,0.7279636809365192,0.7808754756441165,0.7744523649896699,0.7811449512987253,0.7814158972285556,0.7936100446475682,0.8109420251439043,0.8367056259473054,0.8439751056088687,0.8498036269168906,0.8694845291700487,0.8633337626911932,0.857186124338783,0.8674994888829406,0.8667611727360105,0.8691621799593505,0.8732589311301984,0.882009745682991,0.8850427515268402,0.8852832347751284,0.8876025648043093,0.8933911654216056,0.8915553761514217,0.8907361778376124,0.8859723447883819,0.8956820935679596,0.9021355725530376,0.8975580228993962,0.8968502033872516,0.9039943149567455,0.9008152100096163,0.8995275590551182,0.8943029602179646,0.9079744139085895,0.9040367639081558,0.9070626075472297,0.910588739356895,0.9122762630447686,0.9073186525789816,0.9109369258599087,0.9047794375811453,0.9108387060353388,0.917562738690272,0.9109434764130896,0.9038799494631586,0.9059432607976059,0.9114352372782817,0.9120341398270626,0.9076153806056485,0.907302697122772,0.9099213483883736,0.9038431178478386,0.9069055242173656,0.9028565865598576,0.9086193314249509,0.9091894323584853,0.9113201493378448,0.9062238769866559,0.9143820762900441,0.9164506464339677,0.9128628945451227,0.9146508479542639,0.9147370091427316,0.9146233687140655,0.9128514379553934,0.9166300327341912,0.9179272604416898,0.9155608061558453,0.9122656181033905,0.9169246606244652,0.9228723185967644,0.9220961693891894,0.9187478436554151,0.9129598834632817,0.908404511304957,0.9194653622271602,0.9200092759465259,0.9189292135495362],\"type\":\"scatter\"},{\"name\":\"GATv2\",\"x\":[0,1,2,3,4,5,6,7,8,9,10,11,12,13,14,15,16,17,18,19,20,21,22,23,24,25,26,27,28,29,30,31,32,33,34,35,36,37,38,39,40,41,42,43,44,45,46,47,48,49,50,51,52,53,54,55,56,57,58,59,60,61,62,63,64,65,66,67,68,69,70,71,72,73,74,75,76,77,78,79,80,81,82,83,84,85,86,87,88,89,90,91,92,93,94,95,96,97,98,99],\"y\":[0.39517643098297034,0.4746935398962172,0.4746935398962172,0.4746935398962172,0.4746935398962172,0.4746935398962172,0.4746935398962172,0.4746935398962172,0.4746935398962172,0.4746935398962172,0.4746935398962172,0.4746935398962172,0.4746935398962172,0.47465403128760536,0.48069657531267285,0.4836393784664406,0.4762129214024789,0.48224673478935143,0.48224673478935143,0.49986371744162816,0.5493163195360748,0.6564599617035622,0.7648970503878516,0.8256619871903175,0.8392534203772092,0.8403471012073768,0.854084297754637,0.8509895912442891,0.8476115370103128,0.8638831402169296,0.8777734425803095,0.8798513407605617,0.8876666067006578,0.8965858763768172,0.8946480821842868,0.8980758796859529,0.9046967168007568,0.9020206403471549,0.8979269880141487,0.9014527630311313,0.8991739063355593,0.9116627449593661,0.9086338217086319,0.909694518321513,0.9122682042140581,0.9107965649371357,0.9135083918529239,0.9093435602472718,0.9137464712622473,0.9171563592790942,0.9165749359732073,0.9116584338749412,0.9176915164395794,0.9174108150690978,0.9123980342606475,0.9186074298528353,0.9163212034633742,0.9158166475577929,0.9148548315602837,0.9198664435613619,0.9183513638302971,0.9186577719311403,0.9177551516313991,0.9254650371510735,0.9201629643896593,0.9241422759070617,0.9243955977347904,0.9246779831395215,0.9230830607629108,0.9264134260214536,0.9201246988033817,0.9264820983981084,0.9222991011835899,0.9212943471927999,0.9222912085626473,0.9220294705039428,0.9213384898850021,0.9243955977347904,0.9219224918387865,0.923715319790344,0.9265145124451122,0.9223977737814558,0.9243955977347904,0.9256410753262312,0.9229775944953112,0.9257349603687908,0.9233966347627559,0.9232412762403531,0.9263449773194652,0.9294604384412898,0.9222991011835899,0.9293251825602279,0.9321474106004493,0.9272134387351778,0.9327960868753691,0.9213728234523513,0.9242776754859972,0.9287728676495477,0.9251335075860634,0.9277461471586279],\"type\":\"scatter\"}],                        {\"template\":{\"data\":{\"histogram2dcontour\":[{\"type\":\"histogram2dcontour\",\"colorbar\":{\"outlinewidth\":0,\"ticks\":\"\"},\"colorscale\":[[0.0,\"#0d0887\"],[0.1111111111111111,\"#46039f\"],[0.2222222222222222,\"#7201a8\"],[0.3333333333333333,\"#9c179e\"],[0.4444444444444444,\"#bd3786\"],[0.5555555555555556,\"#d8576b\"],[0.6666666666666666,\"#ed7953\"],[0.7777777777777778,\"#fb9f3a\"],[0.8888888888888888,\"#fdca26\"],[1.0,\"#f0f921\"]]}],\"choropleth\":[{\"type\":\"choropleth\",\"colorbar\":{\"outlinewidth\":0,\"ticks\":\"\"}}],\"histogram2d\":[{\"type\":\"histogram2d\",\"colorbar\":{\"outlinewidth\":0,\"ticks\":\"\"},\"colorscale\":[[0.0,\"#0d0887\"],[0.1111111111111111,\"#46039f\"],[0.2222222222222222,\"#7201a8\"],[0.3333333333333333,\"#9c179e\"],[0.4444444444444444,\"#bd3786\"],[0.5555555555555556,\"#d8576b\"],[0.6666666666666666,\"#ed7953\"],[0.7777777777777778,\"#fb9f3a\"],[0.8888888888888888,\"#fdca26\"],[1.0,\"#f0f921\"]]}],\"heatmap\":[{\"type\":\"heatmap\",\"colorbar\":{\"outlinewidth\":0,\"ticks\":\"\"},\"colorscale\":[[0.0,\"#0d0887\"],[0.1111111111111111,\"#46039f\"],[0.2222222222222222,\"#7201a8\"],[0.3333333333333333,\"#9c179e\"],[0.4444444444444444,\"#bd3786\"],[0.5555555555555556,\"#d8576b\"],[0.6666666666666666,\"#ed7953\"],[0.7777777777777778,\"#fb9f3a\"],[0.8888888888888888,\"#fdca26\"],[1.0,\"#f0f921\"]]}],\"heatmapgl\":[{\"type\":\"heatmapgl\",\"colorbar\":{\"outlinewidth\":0,\"ticks\":\"\"},\"colorscale\":[[0.0,\"#0d0887\"],[0.1111111111111111,\"#46039f\"],[0.2222222222222222,\"#7201a8\"],[0.3333333333333333,\"#9c179e\"],[0.4444444444444444,\"#bd3786\"],[0.5555555555555556,\"#d8576b\"],[0.6666666666666666,\"#ed7953\"],[0.7777777777777778,\"#fb9f3a\"],[0.8888888888888888,\"#fdca26\"],[1.0,\"#f0f921\"]]}],\"contourcarpet\":[{\"type\":\"contourcarpet\",\"colorbar\":{\"outlinewidth\":0,\"ticks\":\"\"}}],\"contour\":[{\"type\":\"contour\",\"colorbar\":{\"outlinewidth\":0,\"ticks\":\"\"},\"colorscale\":[[0.0,\"#0d0887\"],[0.1111111111111111,\"#46039f\"],[0.2222222222222222,\"#7201a8\"],[0.3333333333333333,\"#9c179e\"],[0.4444444444444444,\"#bd3786\"],[0.5555555555555556,\"#d8576b\"],[0.6666666666666666,\"#ed7953\"],[0.7777777777777778,\"#fb9f3a\"],[0.8888888888888888,\"#fdca26\"],[1.0,\"#f0f921\"]]}],\"surface\":[{\"type\":\"surface\",\"colorbar\":{\"outlinewidth\":0,\"ticks\":\"\"},\"colorscale\":[[0.0,\"#0d0887\"],[0.1111111111111111,\"#46039f\"],[0.2222222222222222,\"#7201a8\"],[0.3333333333333333,\"#9c179e\"],[0.4444444444444444,\"#bd3786\"],[0.5555555555555556,\"#d8576b\"],[0.6666666666666666,\"#ed7953\"],[0.7777777777777778,\"#fb9f3a\"],[0.8888888888888888,\"#fdca26\"],[1.0,\"#f0f921\"]]}],\"mesh3d\":[{\"type\":\"mesh3d\",\"colorbar\":{\"outlinewidth\":0,\"ticks\":\"\"}}],\"scatter\":[{\"fillpattern\":{\"fillmode\":\"overlay\",\"size\":10,\"solidity\":0.2},\"type\":\"scatter\"}],\"parcoords\":[{\"type\":\"parcoords\",\"line\":{\"colorbar\":{\"outlinewidth\":0,\"ticks\":\"\"}}}],\"scatterpolargl\":[{\"type\":\"scatterpolargl\",\"marker\":{\"colorbar\":{\"outlinewidth\":0,\"ticks\":\"\"}}}],\"bar\":[{\"error_x\":{\"color\":\"#2a3f5f\"},\"error_y\":{\"color\":\"#2a3f5f\"},\"marker\":{\"line\":{\"color\":\"#E5ECF6\",\"width\":0.5},\"pattern\":{\"fillmode\":\"overlay\",\"size\":10,\"solidity\":0.2}},\"type\":\"bar\"}],\"scattergeo\":[{\"type\":\"scattergeo\",\"marker\":{\"colorbar\":{\"outlinewidth\":0,\"ticks\":\"\"}}}],\"scatterpolar\":[{\"type\":\"scatterpolar\",\"marker\":{\"colorbar\":{\"outlinewidth\":0,\"ticks\":\"\"}}}],\"histogram\":[{\"marker\":{\"pattern\":{\"fillmode\":\"overlay\",\"size\":10,\"solidity\":0.2}},\"type\":\"histogram\"}],\"scattergl\":[{\"type\":\"scattergl\",\"marker\":{\"colorbar\":{\"outlinewidth\":0,\"ticks\":\"\"}}}],\"scatter3d\":[{\"type\":\"scatter3d\",\"line\":{\"colorbar\":{\"outlinewidth\":0,\"ticks\":\"\"}},\"marker\":{\"colorbar\":{\"outlinewidth\":0,\"ticks\":\"\"}}}],\"scattermapbox\":[{\"type\":\"scattermapbox\",\"marker\":{\"colorbar\":{\"outlinewidth\":0,\"ticks\":\"\"}}}],\"scatterternary\":[{\"type\":\"scatterternary\",\"marker\":{\"colorbar\":{\"outlinewidth\":0,\"ticks\":\"\"}}}],\"scattercarpet\":[{\"type\":\"scattercarpet\",\"marker\":{\"colorbar\":{\"outlinewidth\":0,\"ticks\":\"\"}}}],\"carpet\":[{\"aaxis\":{\"endlinecolor\":\"#2a3f5f\",\"gridcolor\":\"white\",\"linecolor\":\"white\",\"minorgridcolor\":\"white\",\"startlinecolor\":\"#2a3f5f\"},\"baxis\":{\"endlinecolor\":\"#2a3f5f\",\"gridcolor\":\"white\",\"linecolor\":\"white\",\"minorgridcolor\":\"white\",\"startlinecolor\":\"#2a3f5f\"},\"type\":\"carpet\"}],\"table\":[{\"cells\":{\"fill\":{\"color\":\"#EBF0F8\"},\"line\":{\"color\":\"white\"}},\"header\":{\"fill\":{\"color\":\"#C8D4E3\"},\"line\":{\"color\":\"white\"}},\"type\":\"table\"}],\"barpolar\":[{\"marker\":{\"line\":{\"color\":\"#E5ECF6\",\"width\":0.5},\"pattern\":{\"fillmode\":\"overlay\",\"size\":10,\"solidity\":0.2}},\"type\":\"barpolar\"}],\"pie\":[{\"automargin\":true,\"type\":\"pie\"}]},\"layout\":{\"autotypenumbers\":\"strict\",\"colorway\":[\"#636efa\",\"#EF553B\",\"#00cc96\",\"#ab63fa\",\"#FFA15A\",\"#19d3f3\",\"#FF6692\",\"#B6E880\",\"#FF97FF\",\"#FECB52\"],\"font\":{\"color\":\"#2a3f5f\"},\"hovermode\":\"closest\",\"hoverlabel\":{\"align\":\"left\"},\"paper_bgcolor\":\"white\",\"plot_bgcolor\":\"#E5ECF6\",\"polar\":{\"bgcolor\":\"#E5ECF6\",\"angularaxis\":{\"gridcolor\":\"white\",\"linecolor\":\"white\",\"ticks\":\"\"},\"radialaxis\":{\"gridcolor\":\"white\",\"linecolor\":\"white\",\"ticks\":\"\"}},\"ternary\":{\"bgcolor\":\"#E5ECF6\",\"aaxis\":{\"gridcolor\":\"white\",\"linecolor\":\"white\",\"ticks\":\"\"},\"baxis\":{\"gridcolor\":\"white\",\"linecolor\":\"white\",\"ticks\":\"\"},\"caxis\":{\"gridcolor\":\"white\",\"linecolor\":\"white\",\"ticks\":\"\"}},\"coloraxis\":{\"colorbar\":{\"outlinewidth\":0,\"ticks\":\"\"}},\"colorscale\":{\"sequential\":[[0.0,\"#0d0887\"],[0.1111111111111111,\"#46039f\"],[0.2222222222222222,\"#7201a8\"],[0.3333333333333333,\"#9c179e\"],[0.4444444444444444,\"#bd3786\"],[0.5555555555555556,\"#d8576b\"],[0.6666666666666666,\"#ed7953\"],[0.7777777777777778,\"#fb9f3a\"],[0.8888888888888888,\"#fdca26\"],[1.0,\"#f0f921\"]],\"sequentialminus\":[[0.0,\"#0d0887\"],[0.1111111111111111,\"#46039f\"],[0.2222222222222222,\"#7201a8\"],[0.3333333333333333,\"#9c179e\"],[0.4444444444444444,\"#bd3786\"],[0.5555555555555556,\"#d8576b\"],[0.6666666666666666,\"#ed7953\"],[0.7777777777777778,\"#fb9f3a\"],[0.8888888888888888,\"#fdca26\"],[1.0,\"#f0f921\"]],\"diverging\":[[0,\"#8e0152\"],[0.1,\"#c51b7d\"],[0.2,\"#de77ae\"],[0.3,\"#f1b6da\"],[0.4,\"#fde0ef\"],[0.5,\"#f7f7f7\"],[0.6,\"#e6f5d0\"],[0.7,\"#b8e186\"],[0.8,\"#7fbc41\"],[0.9,\"#4d9221\"],[1,\"#276419\"]]},\"xaxis\":{\"gridcolor\":\"white\",\"linecolor\":\"white\",\"ticks\":\"\",\"title\":{\"standoff\":15},\"zerolinecolor\":\"white\",\"automargin\":true,\"zerolinewidth\":2},\"yaxis\":{\"gridcolor\":\"white\",\"linecolor\":\"white\",\"ticks\":\"\",\"title\":{\"standoff\":15},\"zerolinecolor\":\"white\",\"automargin\":true,\"zerolinewidth\":2},\"scene\":{\"xaxis\":{\"backgroundcolor\":\"#E5ECF6\",\"gridcolor\":\"white\",\"linecolor\":\"white\",\"showbackground\":true,\"ticks\":\"\",\"zerolinecolor\":\"white\",\"gridwidth\":2},\"yaxis\":{\"backgroundcolor\":\"#E5ECF6\",\"gridcolor\":\"white\",\"linecolor\":\"white\",\"showbackground\":true,\"ticks\":\"\",\"zerolinecolor\":\"white\",\"gridwidth\":2},\"zaxis\":{\"backgroundcolor\":\"#E5ECF6\",\"gridcolor\":\"white\",\"linecolor\":\"white\",\"showbackground\":true,\"ticks\":\"\",\"zerolinecolor\":\"white\",\"gridwidth\":2}},\"shapedefaults\":{\"line\":{\"color\":\"#2a3f5f\"}},\"annotationdefaults\":{\"arrowcolor\":\"#2a3f5f\",\"arrowhead\":0,\"arrowwidth\":1},\"geo\":{\"bgcolor\":\"white\",\"landcolor\":\"#E5ECF6\",\"subunitcolor\":\"white\",\"showland\":true,\"showlakes\":true,\"lakecolor\":\"white\"},\"title\":{\"x\":0.05},\"mapbox\":{\"style\":\"light\"}}},\"title\":{\"text\":\"Val set f1macro ,heads=2\"},\"xaxis\":{\"title\":{\"text\":\"Epoch\"}},\"yaxis\":{\"title\":{\"text\":\"f1macro\"}}},                        {\"responsive\": true}                    ).then(function(){\n",
              "                            \n",
              "var gd = document.getElementById('803b7014-4cf2-4a82-94eb-d2da61246048');\n",
              "var x = new MutationObserver(function (mutations, observer) {{\n",
              "        var display = window.getComputedStyle(gd).display;\n",
              "        if (!display || display === 'none') {{\n",
              "            console.log([gd, 'removed!']);\n",
              "            Plotly.purge(gd);\n",
              "            observer.disconnect();\n",
              "        }}\n",
              "}});\n",
              "\n",
              "// Listen for the removal of the full notebook cells\n",
              "var notebookContainer = gd.closest('#notebook-container');\n",
              "if (notebookContainer) {{\n",
              "    x.observe(notebookContainer, {childList: true});\n",
              "}}\n",
              "\n",
              "// Listen for the clearing of the current output cell\n",
              "var outputEl = gd.closest('.output');\n",
              "if (outputEl) {{\n",
              "    x.observe(outputEl, {childList: true});\n",
              "}}\n",
              "\n",
              "                        })                };                            </script>        </div>\n",
              "</body>\n",
              "</html>"
            ]
          },
          "metadata": {}
        },
        {
          "output_type": "display_data",
          "data": {
            "text/html": [
              "<html>\n",
              "<head><meta charset=\"utf-8\" /></head>\n",
              "<body>\n",
              "    <div>            <script src=\"https://cdnjs.cloudflare.com/ajax/libs/mathjax/2.7.5/MathJax.js?config=TeX-AMS-MML_SVG\"></script><script type=\"text/javascript\">if (window.MathJax && window.MathJax.Hub && window.MathJax.Hub.Config) {window.MathJax.Hub.Config({SVG: {font: \"STIX-Web\"}});}</script>                <script type=\"text/javascript\">window.PlotlyConfig = {MathJaxConfig: 'local'};</script>\n",
              "        <script src=\"https://cdn.plot.ly/plotly-2.18.2.min.js\"></script>                <div id=\"1d5ed51b-0cac-4634-be47-e3422b70c66b\" class=\"plotly-graph-div\" style=\"height:525px; width:100%;\"></div>            <script type=\"text/javascript\">                                    window.PLOTLYENV=window.PLOTLYENV || {};                                    if (document.getElementById(\"1d5ed51b-0cac-4634-be47-e3422b70c66b\")) {                    Plotly.newPlot(                        \"1d5ed51b-0cac-4634-be47-e3422b70c66b\",                        [{\"name\":\"GAT\",\"x\":[0,1,2,3,4,5,6,7,8,9,10,11,12,13,14,15,16,17,18,19,20,21,22,23,24,25,26,27,28,29,30,31,32,33,34,35,36,37,38,39,40,41,42,43,44,45,46,47,48,49,50,51,52,53,54,55,56,57,58,59,60,61,62,63,64,65,66,67,68,69,70,71,72,73,74,75,76,77,78,79,80,81,82,83,84,85,86,87,88,89,90,91,92,93,94,95,96,97,98,99],\"y\":[0.3979798850087665,0.8207148533795859,0.8596307982907625,0.874844867296802,0.890536340129982,0.898035440878197,0.9083005647866184,0.9121466317135501,0.9087527801475338,0.9139835064981535,0.9243684521758126,0.9274160211827941,0.9349984557351547,0.937834394544602,0.9403937310380285,0.9454342491577165,0.9480519663952903,0.9518085789561899,0.9525011440742603,0.9545698939918681,0.9558655698619766,0.9565042269542012,0.9569279581617222,0.9624811910425105,0.9647886428736886,0.9643154763586234,0.9643769173837141,0.9645727753640793,0.9684136633540303,0.9673531583040959,0.9693536404160475,0.9712592538187599,0.9721940519437964,0.9690805691934228,0.9709459281314208,0.9693889513500077,0.9686671958598637,0.9719219223460772,0.9742008900238608,0.9725796473426405,0.9736363858929522,0.9742510315500841,0.9730158550801605,0.9754812644892533,0.9742882257338553,0.9757237329024457,0.9754541927732172,0.9738675548072776,0.9751926564556862,0.9757543357118779,0.9762044324167557,0.9763306101541065,0.9767769403593619,0.9769311314376541,0.974128149499903,0.9770337685523647,0.9766189827814469,0.9763743957122168,0.9787298704135805,0.9792279899886439,0.9776761921442118,0.976654293715407,0.978405716039827,0.9774833944447898,0.9792213986143046,0.9781601873456913,0.9783598118256788,0.9797819008393646,0.9786029864575506,0.9782833048020986,0.9783082578620971,0.9768131929182274,0.9783882959790733,0.9777230379832653,0.9782913086137962,0.9764148855831577,0.9783890021977525,0.9781107520381471,0.9775714363734636,0.9779276059940074,0.9812637830345556,0.9803475820014048,0.9790876878777093,0.9825502780618346,0.9808416996706196,0.9775787339664818,0.980856530262883,0.9792206923956256,0.9801008762761372,0.9789339676118698,0.9795667395484343,0.9799243216063367,0.978856518963384,0.9809869453123088,0.9811707975751275,0.980294144788012,0.9774883379755441,0.9806792693744032,0.9811999879472012,0.9795121253039095],\"type\":\"scatter\"},{\"name\":\"GATv2\",\"x\":[0,1,2,3,4,5,6,7,8,9,10,11,12,13,14,15,16,17,18,19,20,21,22,23,24,25,26,27,28,29,30,31,32,33,34,35,36,37,38,39,40,41,42,43,44,45,46,47,48,49,50,51,52,53,54,55,56,57,58,59,60,61,62,63,64,65,66,67,68,69,70,71,72,73,74,75,76,77,78,79,80,81,82,83,84,85,86,87,88,89,90,91,92,93,94,95,96,97,98,99],\"y\":[0.5023121599557059,0.8353540603807553,0.8668346996310714,0.8834374299666475,0.8913760341395527,0.9068728260234992,0.9113453089188828,0.9130136328453833,0.911775631500743,0.9242919451522326,0.9341048536997384,0.9435168654436842,0.9447259118224773,0.9496494330476445,0.9496506100787763,0.9513172861616921,0.955195132929188,0.9569117151321006,0.9573702864611287,0.9596379546400451,0.962254494846487,0.9631064299798304,0.967304429215231,0.9681770800964977,0.9686278830200548,0.9705631576072934,0.9698178614945093,0.9682135680615899,0.9684042471049743,0.9721650969779491,0.971344000060264,0.9718866114121173,0.9723647214579366,0.9737298421648334,0.9725516340016986,0.9741378011551854,0.9746719378828883,0.9718943798175885,0.9736952374495523,0.9735648224001267,0.9731521552852466,0.9750012711936227,0.9770462450823639,0.97547820420831,0.9776681883325141,0.9753386083160545,0.9743529624461157,0.9774419629489431,0.9771036842016056,0.9777166820151525,0.9764772682331538,0.9766566477776711,0.9778360329719378,0.9792562387358121,0.9787753038152758,0.9781919671862552,0.9786453595783027,0.9792270483637383,0.9783758194490741,0.980638544097236,0.9785883912715138,0.9795250726463615,0.9809975385924967,0.9781390007853152,0.9804784678632836,0.9816477305898149,0.9805078936415836,0.981936338623382,0.9788984212716834,0.9804313866180034,0.9808332250464691,0.9789160767386633,0.9796295930108833,0.9801938617355653,0.9795742725476793,0.9825067279099505,0.9778696960623131,0.9813296967779479,0.9810660418043792,0.9810693374915489,0.9808675943555237,0.9821051248877113,0.9802656606346175,0.9799207905129408,0.9812618997847447,0.9815126074158611,0.9798466375516247,0.9792032723348719,0.9794014843775012,0.9813675971803985,0.9794711646205158,0.9814909500430322,0.9805375548261102,0.9816343124349102,0.9806263029734632,0.9805853422900696,0.9782649431164395,0.9818111025109371,0.9806178283493128,0.9802710749778246],\"type\":\"scatter\"}],                        {\"template\":{\"data\":{\"histogram2dcontour\":[{\"type\":\"histogram2dcontour\",\"colorbar\":{\"outlinewidth\":0,\"ticks\":\"\"},\"colorscale\":[[0.0,\"#0d0887\"],[0.1111111111111111,\"#46039f\"],[0.2222222222222222,\"#7201a8\"],[0.3333333333333333,\"#9c179e\"],[0.4444444444444444,\"#bd3786\"],[0.5555555555555556,\"#d8576b\"],[0.6666666666666666,\"#ed7953\"],[0.7777777777777778,\"#fb9f3a\"],[0.8888888888888888,\"#fdca26\"],[1.0,\"#f0f921\"]]}],\"choropleth\":[{\"type\":\"choropleth\",\"colorbar\":{\"outlinewidth\":0,\"ticks\":\"\"}}],\"histogram2d\":[{\"type\":\"histogram2d\",\"colorbar\":{\"outlinewidth\":0,\"ticks\":\"\"},\"colorscale\":[[0.0,\"#0d0887\"],[0.1111111111111111,\"#46039f\"],[0.2222222222222222,\"#7201a8\"],[0.3333333333333333,\"#9c179e\"],[0.4444444444444444,\"#bd3786\"],[0.5555555555555556,\"#d8576b\"],[0.6666666666666666,\"#ed7953\"],[0.7777777777777778,\"#fb9f3a\"],[0.8888888888888888,\"#fdca26\"],[1.0,\"#f0f921\"]]}],\"heatmap\":[{\"type\":\"heatmap\",\"colorbar\":{\"outlinewidth\":0,\"ticks\":\"\"},\"colorscale\":[[0.0,\"#0d0887\"],[0.1111111111111111,\"#46039f\"],[0.2222222222222222,\"#7201a8\"],[0.3333333333333333,\"#9c179e\"],[0.4444444444444444,\"#bd3786\"],[0.5555555555555556,\"#d8576b\"],[0.6666666666666666,\"#ed7953\"],[0.7777777777777778,\"#fb9f3a\"],[0.8888888888888888,\"#fdca26\"],[1.0,\"#f0f921\"]]}],\"heatmapgl\":[{\"type\":\"heatmapgl\",\"colorbar\":{\"outlinewidth\":0,\"ticks\":\"\"},\"colorscale\":[[0.0,\"#0d0887\"],[0.1111111111111111,\"#46039f\"],[0.2222222222222222,\"#7201a8\"],[0.3333333333333333,\"#9c179e\"],[0.4444444444444444,\"#bd3786\"],[0.5555555555555556,\"#d8576b\"],[0.6666666666666666,\"#ed7953\"],[0.7777777777777778,\"#fb9f3a\"],[0.8888888888888888,\"#fdca26\"],[1.0,\"#f0f921\"]]}],\"contourcarpet\":[{\"type\":\"contourcarpet\",\"colorbar\":{\"outlinewidth\":0,\"ticks\":\"\"}}],\"contour\":[{\"type\":\"contour\",\"colorbar\":{\"outlinewidth\":0,\"ticks\":\"\"},\"colorscale\":[[0.0,\"#0d0887\"],[0.1111111111111111,\"#46039f\"],[0.2222222222222222,\"#7201a8\"],[0.3333333333333333,\"#9c179e\"],[0.4444444444444444,\"#bd3786\"],[0.5555555555555556,\"#d8576b\"],[0.6666666666666666,\"#ed7953\"],[0.7777777777777778,\"#fb9f3a\"],[0.8888888888888888,\"#fdca26\"],[1.0,\"#f0f921\"]]}],\"surface\":[{\"type\":\"surface\",\"colorbar\":{\"outlinewidth\":0,\"ticks\":\"\"},\"colorscale\":[[0.0,\"#0d0887\"],[0.1111111111111111,\"#46039f\"],[0.2222222222222222,\"#7201a8\"],[0.3333333333333333,\"#9c179e\"],[0.4444444444444444,\"#bd3786\"],[0.5555555555555556,\"#d8576b\"],[0.6666666666666666,\"#ed7953\"],[0.7777777777777778,\"#fb9f3a\"],[0.8888888888888888,\"#fdca26\"],[1.0,\"#f0f921\"]]}],\"mesh3d\":[{\"type\":\"mesh3d\",\"colorbar\":{\"outlinewidth\":0,\"ticks\":\"\"}}],\"scatter\":[{\"fillpattern\":{\"fillmode\":\"overlay\",\"size\":10,\"solidity\":0.2},\"type\":\"scatter\"}],\"parcoords\":[{\"type\":\"parcoords\",\"line\":{\"colorbar\":{\"outlinewidth\":0,\"ticks\":\"\"}}}],\"scatterpolargl\":[{\"type\":\"scatterpolargl\",\"marker\":{\"colorbar\":{\"outlinewidth\":0,\"ticks\":\"\"}}}],\"bar\":[{\"error_x\":{\"color\":\"#2a3f5f\"},\"error_y\":{\"color\":\"#2a3f5f\"},\"marker\":{\"line\":{\"color\":\"#E5ECF6\",\"width\":0.5},\"pattern\":{\"fillmode\":\"overlay\",\"size\":10,\"solidity\":0.2}},\"type\":\"bar\"}],\"scattergeo\":[{\"type\":\"scattergeo\",\"marker\":{\"colorbar\":{\"outlinewidth\":0,\"ticks\":\"\"}}}],\"scatterpolar\":[{\"type\":\"scatterpolar\",\"marker\":{\"colorbar\":{\"outlinewidth\":0,\"ticks\":\"\"}}}],\"histogram\":[{\"marker\":{\"pattern\":{\"fillmode\":\"overlay\",\"size\":10,\"solidity\":0.2}},\"type\":\"histogram\"}],\"scattergl\":[{\"type\":\"scattergl\",\"marker\":{\"colorbar\":{\"outlinewidth\":0,\"ticks\":\"\"}}}],\"scatter3d\":[{\"type\":\"scatter3d\",\"line\":{\"colorbar\":{\"outlinewidth\":0,\"ticks\":\"\"}},\"marker\":{\"colorbar\":{\"outlinewidth\":0,\"ticks\":\"\"}}}],\"scattermapbox\":[{\"type\":\"scattermapbox\",\"marker\":{\"colorbar\":{\"outlinewidth\":0,\"ticks\":\"\"}}}],\"scatterternary\":[{\"type\":\"scatterternary\",\"marker\":{\"colorbar\":{\"outlinewidth\":0,\"ticks\":\"\"}}}],\"scattercarpet\":[{\"type\":\"scattercarpet\",\"marker\":{\"colorbar\":{\"outlinewidth\":0,\"ticks\":\"\"}}}],\"carpet\":[{\"aaxis\":{\"endlinecolor\":\"#2a3f5f\",\"gridcolor\":\"white\",\"linecolor\":\"white\",\"minorgridcolor\":\"white\",\"startlinecolor\":\"#2a3f5f\"},\"baxis\":{\"endlinecolor\":\"#2a3f5f\",\"gridcolor\":\"white\",\"linecolor\":\"white\",\"minorgridcolor\":\"white\",\"startlinecolor\":\"#2a3f5f\"},\"type\":\"carpet\"}],\"table\":[{\"cells\":{\"fill\":{\"color\":\"#EBF0F8\"},\"line\":{\"color\":\"white\"}},\"header\":{\"fill\":{\"color\":\"#C8D4E3\"},\"line\":{\"color\":\"white\"}},\"type\":\"table\"}],\"barpolar\":[{\"marker\":{\"line\":{\"color\":\"#E5ECF6\",\"width\":0.5},\"pattern\":{\"fillmode\":\"overlay\",\"size\":10,\"solidity\":0.2}},\"type\":\"barpolar\"}],\"pie\":[{\"automargin\":true,\"type\":\"pie\"}]},\"layout\":{\"autotypenumbers\":\"strict\",\"colorway\":[\"#636efa\",\"#EF553B\",\"#00cc96\",\"#ab63fa\",\"#FFA15A\",\"#19d3f3\",\"#FF6692\",\"#B6E880\",\"#FF97FF\",\"#FECB52\"],\"font\":{\"color\":\"#2a3f5f\"},\"hovermode\":\"closest\",\"hoverlabel\":{\"align\":\"left\"},\"paper_bgcolor\":\"white\",\"plot_bgcolor\":\"#E5ECF6\",\"polar\":{\"bgcolor\":\"#E5ECF6\",\"angularaxis\":{\"gridcolor\":\"white\",\"linecolor\":\"white\",\"ticks\":\"\"},\"radialaxis\":{\"gridcolor\":\"white\",\"linecolor\":\"white\",\"ticks\":\"\"}},\"ternary\":{\"bgcolor\":\"#E5ECF6\",\"aaxis\":{\"gridcolor\":\"white\",\"linecolor\":\"white\",\"ticks\":\"\"},\"baxis\":{\"gridcolor\":\"white\",\"linecolor\":\"white\",\"ticks\":\"\"},\"caxis\":{\"gridcolor\":\"white\",\"linecolor\":\"white\",\"ticks\":\"\"}},\"coloraxis\":{\"colorbar\":{\"outlinewidth\":0,\"ticks\":\"\"}},\"colorscale\":{\"sequential\":[[0.0,\"#0d0887\"],[0.1111111111111111,\"#46039f\"],[0.2222222222222222,\"#7201a8\"],[0.3333333333333333,\"#9c179e\"],[0.4444444444444444,\"#bd3786\"],[0.5555555555555556,\"#d8576b\"],[0.6666666666666666,\"#ed7953\"],[0.7777777777777778,\"#fb9f3a\"],[0.8888888888888888,\"#fdca26\"],[1.0,\"#f0f921\"]],\"sequentialminus\":[[0.0,\"#0d0887\"],[0.1111111111111111,\"#46039f\"],[0.2222222222222222,\"#7201a8\"],[0.3333333333333333,\"#9c179e\"],[0.4444444444444444,\"#bd3786\"],[0.5555555555555556,\"#d8576b\"],[0.6666666666666666,\"#ed7953\"],[0.7777777777777778,\"#fb9f3a\"],[0.8888888888888888,\"#fdca26\"],[1.0,\"#f0f921\"]],\"diverging\":[[0,\"#8e0152\"],[0.1,\"#c51b7d\"],[0.2,\"#de77ae\"],[0.3,\"#f1b6da\"],[0.4,\"#fde0ef\"],[0.5,\"#f7f7f7\"],[0.6,\"#e6f5d0\"],[0.7,\"#b8e186\"],[0.8,\"#7fbc41\"],[0.9,\"#4d9221\"],[1,\"#276419\"]]},\"xaxis\":{\"gridcolor\":\"white\",\"linecolor\":\"white\",\"ticks\":\"\",\"title\":{\"standoff\":15},\"zerolinecolor\":\"white\",\"automargin\":true,\"zerolinewidth\":2},\"yaxis\":{\"gridcolor\":\"white\",\"linecolor\":\"white\",\"ticks\":\"\",\"title\":{\"standoff\":15},\"zerolinecolor\":\"white\",\"automargin\":true,\"zerolinewidth\":2},\"scene\":{\"xaxis\":{\"backgroundcolor\":\"#E5ECF6\",\"gridcolor\":\"white\",\"linecolor\":\"white\",\"showbackground\":true,\"ticks\":\"\",\"zerolinecolor\":\"white\",\"gridwidth\":2},\"yaxis\":{\"backgroundcolor\":\"#E5ECF6\",\"gridcolor\":\"white\",\"linecolor\":\"white\",\"showbackground\":true,\"ticks\":\"\",\"zerolinecolor\":\"white\",\"gridwidth\":2},\"zaxis\":{\"backgroundcolor\":\"#E5ECF6\",\"gridcolor\":\"white\",\"linecolor\":\"white\",\"showbackground\":true,\"ticks\":\"\",\"zerolinecolor\":\"white\",\"gridwidth\":2}},\"shapedefaults\":{\"line\":{\"color\":\"#2a3f5f\"}},\"annotationdefaults\":{\"arrowcolor\":\"#2a3f5f\",\"arrowhead\":0,\"arrowwidth\":1},\"geo\":{\"bgcolor\":\"white\",\"landcolor\":\"#E5ECF6\",\"subunitcolor\":\"white\",\"showland\":true,\"showlakes\":true,\"lakecolor\":\"white\"},\"title\":{\"x\":0.05},\"mapbox\":{\"style\":\"light\"}}},\"title\":{\"text\":\"Val set aucroc ,heads=2\"},\"xaxis\":{\"title\":{\"text\":\"Epoch\"}},\"yaxis\":{\"title\":{\"text\":\"aucroc\"}}},                        {\"responsive\": true}                    ).then(function(){\n",
              "                            \n",
              "var gd = document.getElementById('1d5ed51b-0cac-4634-be47-e3422b70c66b');\n",
              "var x = new MutationObserver(function (mutations, observer) {{\n",
              "        var display = window.getComputedStyle(gd).display;\n",
              "        if (!display || display === 'none') {{\n",
              "            console.log([gd, 'removed!']);\n",
              "            Plotly.purge(gd);\n",
              "            observer.disconnect();\n",
              "        }}\n",
              "}});\n",
              "\n",
              "// Listen for the removal of the full notebook cells\n",
              "var notebookContainer = gd.closest('#notebook-container');\n",
              "if (notebookContainer) {{\n",
              "    x.observe(notebookContainer, {childList: true});\n",
              "}}\n",
              "\n",
              "// Listen for the clearing of the current output cell\n",
              "var outputEl = gd.closest('.output');\n",
              "if (outputEl) {{\n",
              "    x.observe(outputEl, {childList: true});\n",
              "}}\n",
              "\n",
              "                        })                };                            </script>        </div>\n",
              "</body>\n",
              "</html>"
            ]
          },
          "metadata": {}
        },
        {
          "output_type": "display_data",
          "data": {
            "text/html": [
              "<html>\n",
              "<head><meta charset=\"utf-8\" /></head>\n",
              "<body>\n",
              "    <div>            <script src=\"https://cdnjs.cloudflare.com/ajax/libs/mathjax/2.7.5/MathJax.js?config=TeX-AMS-MML_SVG\"></script><script type=\"text/javascript\">if (window.MathJax && window.MathJax.Hub && window.MathJax.Hub.Config) {window.MathJax.Hub.Config({SVG: {font: \"STIX-Web\"}});}</script>                <script type=\"text/javascript\">window.PlotlyConfig = {MathJaxConfig: 'local'};</script>\n",
              "        <script src=\"https://cdn.plot.ly/plotly-2.18.2.min.js\"></script>                <div id=\"7f59ad83-3df4-40ef-a636-9b29c383e9df\" class=\"plotly-graph-div\" style=\"height:525px; width:100%;\"></div>            <script type=\"text/javascript\">                                    window.PLOTLYENV=window.PLOTLYENV || {};                                    if (document.getElementById(\"7f59ad83-3df4-40ef-a636-9b29c383e9df\")) {                    Plotly.newPlot(                        \"7f59ad83-3df4-40ef-a636-9b29c383e9df\",                        [{\"name\":\"GAT\",\"x\":[0,1,2,3,4,5,6,7,8,9,10,11,12,13,14,15,16,17,18,19,20,21,22,23,24,25,26,27,28,29,30,31,32,33,34,35,36,37,38,39,40,41,42,43,44,45,46,47,48,49,50,51,52,53,54,55,56,57,58,59,60,61,62,63,64,65,66,67,68,69,70,71,72,73,74,75,76,77,78,79,80,81,82,83,84,85,86,87,88,89,90,91,92,93,94,95,96,97,98,99],\"y\":[0.849925705794948,0.0,0.0,0.0,0.0,0.0,0.0,0.0,0.0,0.0,0.0,0.0,0.0,0.007429420505200594,0.02526002971768202,0.008915304606240713,0.01337295690936107,0.017830609212481426,0.03566121842496285,0.0549777117384844,0.1277860326894502,0.2288261515601783,0.337295690936107,0.43833580980683506,0.424962852897474,0.43684992570579495,0.43536404160475484,0.4606240713224368,0.5007429420505201,0.5616641901931649,0.5943536404160475,0.612184249628529,0.6537890044576523,0.6389301634472511,0.6270430906389302,0.6448736998514116,0.6448736998514116,0.6701337295690936,0.6820208023774146,0.7057949479940565,0.7161961367013373,0.7087667161961367,0.7161961367013373,0.725111441307578,0.7355126300148589,0.7414561664190193,0.7340267459138187,0.7578008915304606,0.7563150074294205,0.7473997028231798,0.7622585438335809,0.7800891530460624,0.7771173848439822,0.7711738484398217,0.7726597325408618,0.7919762258543833,0.7845468053491828,0.8023774145616642,0.8142644873699851,0.8083209509658247,0.8053491827637445,0.8053491827637445,0.8008915304606241,0.8216939078751857,0.8291233283803864,0.8098068350668648,0.8068350668647846,0.8142644873699851,0.8202080237741456,0.8276374442793462,0.8172362555720654,0.826151560178306,0.8410104011887073,0.8306092124814265,0.8172362555720654,0.8231797919762258,0.8335809806835067,0.8276374442793462,0.8276374442793462,0.8216939078751857,0.8439821693907875,0.8335809806835067,0.8335809806835067,0.8335809806835067,0.8439821693907875,0.8424962852897474,0.8424962852897474,0.8454680534918276,0.8291233283803864,0.8454680534918276,0.8395245170876672,0.8350668647845468,0.8573551263001485,0.8514115898959881,0.849925705794948,0.8484398216939079,0.8395245170876672,0.849925705794948,0.8424962852897474,0.8573551263001485],\"type\":\"scatter\"},{\"name\":\"GATv2\",\"x\":[0,1,2,3,4,5,6,7,8,9,10,11,12,13,14,15,16,17,18,19,20,21,22,23,24,25,26,27,28,29,30,31,32,33,34,35,36,37,38,39,40,41,42,43,44,45,46,47,48,49,50,51,52,53,54,55,56,57,58,59,60,61,62,63,64,65,66,67,68,69,70,71,72,73,74,75,76,77,78,79,80,81,82,83,84,85,86,87,88,89,90,91,92,93,94,95,96,97,98,99],\"y\":[0.5527488855869243,0.0,0.0,0.0,0.0,0.0,0.0,0.0,0.0,0.0,0.0,0.0,0.0,0.0,0.005943536404160475,0.008915304606240713,0.0014858841010401188,0.007429420505200594,0.007429420505200594,0.02526002971768202,0.0787518573551263,0.21842496285289748,0.4026745913818722,0.5274888558692422,0.5676077265973254,0.5676077265973254,0.5958395245170877,0.5884101040118871,0.5794947994056464,0.6225854383358098,0.6656760772659732,0.6731054977711739,0.7102526002971769,0.7414561664190193,0.736998514115899,0.7488855869242199,0.763744427934621,0.7473997028231798,0.7473997028231798,0.7607726597325408,0.763744427934621,0.8008915304606241,0.8038632986627043,0.7949479940564635,0.7860326894502229,0.7949479940564635,0.7964338781575037,0.799405646359584,0.8038632986627043,0.8142644873699851,0.8068350668647846,0.7964338781575037,0.8068350668647846,0.812778603268945,0.8053491827637445,0.8187221396731055,0.8083209509658247,0.8112927191679049,0.8038632986627043,0.8157503714710252,0.8202080237741456,0.8291233283803864,0.8172362555720654,0.836552748885587,0.8246656760772659,0.8335809806835067,0.8424962852897474,0.8306092124814265,0.8395245170876672,0.8395245170876672,0.8291233283803864,0.8350668647845468,0.8439821693907875,0.8350668647845468,0.8335809806835067,0.8350668647845468,0.8306092124814265,0.8424962852897474,0.8335809806835067,0.8380386329866271,0.8410104011887073,0.8350668647845468,0.8424962852897474,0.849925705794948,0.8484398216939079,0.8350668647845468,0.8439821693907875,0.836552748885587,0.8439821693907875,0.8632986627043091,0.8439821693907875,0.8439821693907875,0.8469539375928677,0.8514115898959881,0.8573551263001485,0.8514115898959881,0.8514115898959881,0.8469539375928677,0.8424962852897474,0.8707280832095097],\"type\":\"scatter\"}],                        {\"template\":{\"data\":{\"histogram2dcontour\":[{\"type\":\"histogram2dcontour\",\"colorbar\":{\"outlinewidth\":0,\"ticks\":\"\"},\"colorscale\":[[0.0,\"#0d0887\"],[0.1111111111111111,\"#46039f\"],[0.2222222222222222,\"#7201a8\"],[0.3333333333333333,\"#9c179e\"],[0.4444444444444444,\"#bd3786\"],[0.5555555555555556,\"#d8576b\"],[0.6666666666666666,\"#ed7953\"],[0.7777777777777778,\"#fb9f3a\"],[0.8888888888888888,\"#fdca26\"],[1.0,\"#f0f921\"]]}],\"choropleth\":[{\"type\":\"choropleth\",\"colorbar\":{\"outlinewidth\":0,\"ticks\":\"\"}}],\"histogram2d\":[{\"type\":\"histogram2d\",\"colorbar\":{\"outlinewidth\":0,\"ticks\":\"\"},\"colorscale\":[[0.0,\"#0d0887\"],[0.1111111111111111,\"#46039f\"],[0.2222222222222222,\"#7201a8\"],[0.3333333333333333,\"#9c179e\"],[0.4444444444444444,\"#bd3786\"],[0.5555555555555556,\"#d8576b\"],[0.6666666666666666,\"#ed7953\"],[0.7777777777777778,\"#fb9f3a\"],[0.8888888888888888,\"#fdca26\"],[1.0,\"#f0f921\"]]}],\"heatmap\":[{\"type\":\"heatmap\",\"colorbar\":{\"outlinewidth\":0,\"ticks\":\"\"},\"colorscale\":[[0.0,\"#0d0887\"],[0.1111111111111111,\"#46039f\"],[0.2222222222222222,\"#7201a8\"],[0.3333333333333333,\"#9c179e\"],[0.4444444444444444,\"#bd3786\"],[0.5555555555555556,\"#d8576b\"],[0.6666666666666666,\"#ed7953\"],[0.7777777777777778,\"#fb9f3a\"],[0.8888888888888888,\"#fdca26\"],[1.0,\"#f0f921\"]]}],\"heatmapgl\":[{\"type\":\"heatmapgl\",\"colorbar\":{\"outlinewidth\":0,\"ticks\":\"\"},\"colorscale\":[[0.0,\"#0d0887\"],[0.1111111111111111,\"#46039f\"],[0.2222222222222222,\"#7201a8\"],[0.3333333333333333,\"#9c179e\"],[0.4444444444444444,\"#bd3786\"],[0.5555555555555556,\"#d8576b\"],[0.6666666666666666,\"#ed7953\"],[0.7777777777777778,\"#fb9f3a\"],[0.8888888888888888,\"#fdca26\"],[1.0,\"#f0f921\"]]}],\"contourcarpet\":[{\"type\":\"contourcarpet\",\"colorbar\":{\"outlinewidth\":0,\"ticks\":\"\"}}],\"contour\":[{\"type\":\"contour\",\"colorbar\":{\"outlinewidth\":0,\"ticks\":\"\"},\"colorscale\":[[0.0,\"#0d0887\"],[0.1111111111111111,\"#46039f\"],[0.2222222222222222,\"#7201a8\"],[0.3333333333333333,\"#9c179e\"],[0.4444444444444444,\"#bd3786\"],[0.5555555555555556,\"#d8576b\"],[0.6666666666666666,\"#ed7953\"],[0.7777777777777778,\"#fb9f3a\"],[0.8888888888888888,\"#fdca26\"],[1.0,\"#f0f921\"]]}],\"surface\":[{\"type\":\"surface\",\"colorbar\":{\"outlinewidth\":0,\"ticks\":\"\"},\"colorscale\":[[0.0,\"#0d0887\"],[0.1111111111111111,\"#46039f\"],[0.2222222222222222,\"#7201a8\"],[0.3333333333333333,\"#9c179e\"],[0.4444444444444444,\"#bd3786\"],[0.5555555555555556,\"#d8576b\"],[0.6666666666666666,\"#ed7953\"],[0.7777777777777778,\"#fb9f3a\"],[0.8888888888888888,\"#fdca26\"],[1.0,\"#f0f921\"]]}],\"mesh3d\":[{\"type\":\"mesh3d\",\"colorbar\":{\"outlinewidth\":0,\"ticks\":\"\"}}],\"scatter\":[{\"fillpattern\":{\"fillmode\":\"overlay\",\"size\":10,\"solidity\":0.2},\"type\":\"scatter\"}],\"parcoords\":[{\"type\":\"parcoords\",\"line\":{\"colorbar\":{\"outlinewidth\":0,\"ticks\":\"\"}}}],\"scatterpolargl\":[{\"type\":\"scatterpolargl\",\"marker\":{\"colorbar\":{\"outlinewidth\":0,\"ticks\":\"\"}}}],\"bar\":[{\"error_x\":{\"color\":\"#2a3f5f\"},\"error_y\":{\"color\":\"#2a3f5f\"},\"marker\":{\"line\":{\"color\":\"#E5ECF6\",\"width\":0.5},\"pattern\":{\"fillmode\":\"overlay\",\"size\":10,\"solidity\":0.2}},\"type\":\"bar\"}],\"scattergeo\":[{\"type\":\"scattergeo\",\"marker\":{\"colorbar\":{\"outlinewidth\":0,\"ticks\":\"\"}}}],\"scatterpolar\":[{\"type\":\"scatterpolar\",\"marker\":{\"colorbar\":{\"outlinewidth\":0,\"ticks\":\"\"}}}],\"histogram\":[{\"marker\":{\"pattern\":{\"fillmode\":\"overlay\",\"size\":10,\"solidity\":0.2}},\"type\":\"histogram\"}],\"scattergl\":[{\"type\":\"scattergl\",\"marker\":{\"colorbar\":{\"outlinewidth\":0,\"ticks\":\"\"}}}],\"scatter3d\":[{\"type\":\"scatter3d\",\"line\":{\"colorbar\":{\"outlinewidth\":0,\"ticks\":\"\"}},\"marker\":{\"colorbar\":{\"outlinewidth\":0,\"ticks\":\"\"}}}],\"scattermapbox\":[{\"type\":\"scattermapbox\",\"marker\":{\"colorbar\":{\"outlinewidth\":0,\"ticks\":\"\"}}}],\"scatterternary\":[{\"type\":\"scatterternary\",\"marker\":{\"colorbar\":{\"outlinewidth\":0,\"ticks\":\"\"}}}],\"scattercarpet\":[{\"type\":\"scattercarpet\",\"marker\":{\"colorbar\":{\"outlinewidth\":0,\"ticks\":\"\"}}}],\"carpet\":[{\"aaxis\":{\"endlinecolor\":\"#2a3f5f\",\"gridcolor\":\"white\",\"linecolor\":\"white\",\"minorgridcolor\":\"white\",\"startlinecolor\":\"#2a3f5f\"},\"baxis\":{\"endlinecolor\":\"#2a3f5f\",\"gridcolor\":\"white\",\"linecolor\":\"white\",\"minorgridcolor\":\"white\",\"startlinecolor\":\"#2a3f5f\"},\"type\":\"carpet\"}],\"table\":[{\"cells\":{\"fill\":{\"color\":\"#EBF0F8\"},\"line\":{\"color\":\"white\"}},\"header\":{\"fill\":{\"color\":\"#C8D4E3\"},\"line\":{\"color\":\"white\"}},\"type\":\"table\"}],\"barpolar\":[{\"marker\":{\"line\":{\"color\":\"#E5ECF6\",\"width\":0.5},\"pattern\":{\"fillmode\":\"overlay\",\"size\":10,\"solidity\":0.2}},\"type\":\"barpolar\"}],\"pie\":[{\"automargin\":true,\"type\":\"pie\"}]},\"layout\":{\"autotypenumbers\":\"strict\",\"colorway\":[\"#636efa\",\"#EF553B\",\"#00cc96\",\"#ab63fa\",\"#FFA15A\",\"#19d3f3\",\"#FF6692\",\"#B6E880\",\"#FF97FF\",\"#FECB52\"],\"font\":{\"color\":\"#2a3f5f\"},\"hovermode\":\"closest\",\"hoverlabel\":{\"align\":\"left\"},\"paper_bgcolor\":\"white\",\"plot_bgcolor\":\"#E5ECF6\",\"polar\":{\"bgcolor\":\"#E5ECF6\",\"angularaxis\":{\"gridcolor\":\"white\",\"linecolor\":\"white\",\"ticks\":\"\"},\"radialaxis\":{\"gridcolor\":\"white\",\"linecolor\":\"white\",\"ticks\":\"\"}},\"ternary\":{\"bgcolor\":\"#E5ECF6\",\"aaxis\":{\"gridcolor\":\"white\",\"linecolor\":\"white\",\"ticks\":\"\"},\"baxis\":{\"gridcolor\":\"white\",\"linecolor\":\"white\",\"ticks\":\"\"},\"caxis\":{\"gridcolor\":\"white\",\"linecolor\":\"white\",\"ticks\":\"\"}},\"coloraxis\":{\"colorbar\":{\"outlinewidth\":0,\"ticks\":\"\"}},\"colorscale\":{\"sequential\":[[0.0,\"#0d0887\"],[0.1111111111111111,\"#46039f\"],[0.2222222222222222,\"#7201a8\"],[0.3333333333333333,\"#9c179e\"],[0.4444444444444444,\"#bd3786\"],[0.5555555555555556,\"#d8576b\"],[0.6666666666666666,\"#ed7953\"],[0.7777777777777778,\"#fb9f3a\"],[0.8888888888888888,\"#fdca26\"],[1.0,\"#f0f921\"]],\"sequentialminus\":[[0.0,\"#0d0887\"],[0.1111111111111111,\"#46039f\"],[0.2222222222222222,\"#7201a8\"],[0.3333333333333333,\"#9c179e\"],[0.4444444444444444,\"#bd3786\"],[0.5555555555555556,\"#d8576b\"],[0.6666666666666666,\"#ed7953\"],[0.7777777777777778,\"#fb9f3a\"],[0.8888888888888888,\"#fdca26\"],[1.0,\"#f0f921\"]],\"diverging\":[[0,\"#8e0152\"],[0.1,\"#c51b7d\"],[0.2,\"#de77ae\"],[0.3,\"#f1b6da\"],[0.4,\"#fde0ef\"],[0.5,\"#f7f7f7\"],[0.6,\"#e6f5d0\"],[0.7,\"#b8e186\"],[0.8,\"#7fbc41\"],[0.9,\"#4d9221\"],[1,\"#276419\"]]},\"xaxis\":{\"gridcolor\":\"white\",\"linecolor\":\"white\",\"ticks\":\"\",\"title\":{\"standoff\":15},\"zerolinecolor\":\"white\",\"automargin\":true,\"zerolinewidth\":2},\"yaxis\":{\"gridcolor\":\"white\",\"linecolor\":\"white\",\"ticks\":\"\",\"title\":{\"standoff\":15},\"zerolinecolor\":\"white\",\"automargin\":true,\"zerolinewidth\":2},\"scene\":{\"xaxis\":{\"backgroundcolor\":\"#E5ECF6\",\"gridcolor\":\"white\",\"linecolor\":\"white\",\"showbackground\":true,\"ticks\":\"\",\"zerolinecolor\":\"white\",\"gridwidth\":2},\"yaxis\":{\"backgroundcolor\":\"#E5ECF6\",\"gridcolor\":\"white\",\"linecolor\":\"white\",\"showbackground\":true,\"ticks\":\"\",\"zerolinecolor\":\"white\",\"gridwidth\":2},\"zaxis\":{\"backgroundcolor\":\"#E5ECF6\",\"gridcolor\":\"white\",\"linecolor\":\"white\",\"showbackground\":true,\"ticks\":\"\",\"zerolinecolor\":\"white\",\"gridwidth\":2}},\"shapedefaults\":{\"line\":{\"color\":\"#2a3f5f\"}},\"annotationdefaults\":{\"arrowcolor\":\"#2a3f5f\",\"arrowhead\":0,\"arrowwidth\":1},\"geo\":{\"bgcolor\":\"white\",\"landcolor\":\"#E5ECF6\",\"subunitcolor\":\"white\",\"showland\":true,\"showlakes\":true,\"lakecolor\":\"white\"},\"title\":{\"x\":0.05},\"mapbox\":{\"style\":\"light\"}}},\"title\":{\"text\":\"Val set recall ,heads=2\"},\"xaxis\":{\"title\":{\"text\":\"Epoch\"}},\"yaxis\":{\"title\":{\"text\":\"recall\"}}},                        {\"responsive\": true}                    ).then(function(){\n",
              "                            \n",
              "var gd = document.getElementById('7f59ad83-3df4-40ef-a636-9b29c383e9df');\n",
              "var x = new MutationObserver(function (mutations, observer) {{\n",
              "        var display = window.getComputedStyle(gd).display;\n",
              "        if (!display || display === 'none') {{\n",
              "            console.log([gd, 'removed!']);\n",
              "            Plotly.purge(gd);\n",
              "            observer.disconnect();\n",
              "        }}\n",
              "}});\n",
              "\n",
              "// Listen for the removal of the full notebook cells\n",
              "var notebookContainer = gd.closest('#notebook-container');\n",
              "if (notebookContainer) {{\n",
              "    x.observe(notebookContainer, {childList: true});\n",
              "}}\n",
              "\n",
              "// Listen for the clearing of the current output cell\n",
              "var outputEl = gd.closest('.output');\n",
              "if (outputEl) {{\n",
              "    x.observe(outputEl, {childList: true});\n",
              "}}\n",
              "\n",
              "                        })                };                            </script>        </div>\n",
              "</body>\n",
              "</html>"
            ]
          },
          "metadata": {}
        },
        {
          "output_type": "display_data",
          "data": {
            "text/html": [
              "<html>\n",
              "<head><meta charset=\"utf-8\" /></head>\n",
              "<body>\n",
              "    <div>            <script src=\"https://cdnjs.cloudflare.com/ajax/libs/mathjax/2.7.5/MathJax.js?config=TeX-AMS-MML_SVG\"></script><script type=\"text/javascript\">if (window.MathJax && window.MathJax.Hub && window.MathJax.Hub.Config) {window.MathJax.Hub.Config({SVG: {font: \"STIX-Web\"}});}</script>                <script type=\"text/javascript\">window.PlotlyConfig = {MathJaxConfig: 'local'};</script>\n",
              "        <script src=\"https://cdn.plot.ly/plotly-2.18.2.min.js\"></script>                <div id=\"f41658e5-2733-43e8-9235-4250d842ee6b\" class=\"plotly-graph-div\" style=\"height:525px; width:100%;\"></div>            <script type=\"text/javascript\">                                    window.PLOTLYENV=window.PLOTLYENV || {};                                    if (document.getElementById(\"f41658e5-2733-43e8-9235-4250d842ee6b\")) {                    Plotly.newPlot(                        \"f41658e5-2733-43e8-9235-4250d842ee6b\",                        [{\"name\":\"GAT\",\"x\":[0,1,2,3,4,5,6,7,8,9,10,11,12,13,14,15,16,17,18,19,20,21,22,23,24,25,26,27,28,29,30,31,32,33,34,35,36,37,38,39,40,41,42,43,44,45,46,47,48,49,50,51,52,53,54,55,56,57,58,59,60,61,62,63,64,65,66,67,68,69,70,71,72,73,74,75,76,77,78,79,80,81,82,83,84,85,86,87,88,89,90,91,92,93,94,95,96,97,98,99],\"y\":[0.10012252756870296,0.0,0.0,0.0,0.0,0.0,0.0,0.0,0.0,0.0,0.0,0.0,0.0,1.0,0.8947368421052632,0.8571428571428571,1.0,0.9230769230769231,0.8571428571428571,0.925,0.9052631578947369,0.9005847953216374,0.908,0.9161490683229814,0.9166666666666666,0.9245283018867925,0.9331210191082803,0.9337349397590361,0.9258241758241759,0.9242053789731052,0.89086859688196,0.886021505376344,0.9090909090909091,0.9052631578947369,0.8959660297239915,0.9156118143459916,0.9117647058823529,0.8791423001949318,0.8793103448275862,0.8828996282527881,0.8811700182815356,0.8932584269662921,0.8925925925925926,0.9053803339517625,0.8823529411764706,0.8708551483420593,0.8606271777003485,0.8703071672354948,0.8992932862190812,0.8918439716312057,0.8694915254237288,0.8764607679465777,0.867330016583748,0.8693467336683417,0.8469055374592834,0.8780889621087314,0.8712871287128713,0.8626198083067093,0.862992125984252,0.8760064412238325,0.8603174603174604,0.8741935483870967,0.8555555555555555,0.8560371517027864,0.8732394366197183,0.8692185007974481,0.8457943925233645,0.845679012345679,0.8598130841121495,0.8542944785276073,0.8487654320987654,0.8386123680241327,0.833578792341679,0.8220588235294117,0.8461538461538461,0.8256333830104322,0.8360655737704918,0.843939393939394,0.8516819571865444,0.8391502276176024,0.8464977645305514,0.864406779661017,0.8512898330804249,0.8577981651376146,0.8477611940298507,0.8488023952095808,0.8424962852897474,0.8530734632683659,0.8746081504702194,0.8492537313432836,0.8432835820895522,0.8646153846153846,0.8637724550898204,0.8668683812405447,0.8562874251497006,0.8372434017595308,0.8296622613803231,0.8588588588588588,0.8683001531393568,0.8497790868924889],\"type\":\"scatter\"},{\"name\":\"GATv2\",\"x\":[0,1,2,3,4,5,6,7,8,9,10,11,12,13,14,15,16,17,18,19,20,21,22,23,24,25,26,27,28,29,30,31,32,33,34,35,36,37,38,39,40,41,42,43,44,45,46,47,48,49,50,51,52,53,54,55,56,57,58,59,60,61,62,63,64,65,66,67,68,69,70,71,72,73,74,75,76,77,78,79,80,81,82,83,84,85,86,87,88,89,90,91,92,93,94,95,96,97,98,99],\"y\":[0.10029657589646805,0.0,0.0,0.0,0.0,0.0,0.0,0.0,0.0,0.0,0.0,0.0,0.0,0.0,0.8,0.75,1.0,1.0,1.0,0.9444444444444444,0.9636363636363636,0.930379746835443,0.9312714776632303,0.9466666666666667,0.9249394673123487,0.9317073170731708,0.9457547169811321,0.9451073985680191,0.9466019417475728,0.9415730337078652,0.9294605809128631,0.9263803680981595,0.9018867924528302,0.895870736086176,0.8936936936936937,0.8920353982300885,0.9001751313485113,0.9112318840579711,0.8934280639431617,0.8904347826086957,0.8771331058020477,0.8821603927986906,0.8669871794871795,0.8813838550247117,0.9027303754266212,0.8857615894039735,0.8948247078464107,0.8747967479674796,0.8868852459016393,0.8881685575364667,0.8945634266886326,0.8874172185430463,0.8990066225165563,0.8908794788273615,0.8798701298701299,0.8887096774193548,0.8918032786885246,0.8863636363636364,0.8912685337726524,0.8970588235294118,0.8860353130016051,0.8773584905660378,0.8870967741935484,0.8950715421303657,0.888,0.893312101910828,0.8845553822152886,0.8987138263665595,0.8828125,0.8954041204437401,0.8829113924050633,0.9006410256410257,0.8751926040061633,0.8808777429467085,0.8862559241706162,0.8836477987421384,0.8858954041204438,0.8845553822152886,0.8848580441640379,0.8867924528301887,0.8941548183254344,0.8850393700787401,0.8845553822152886,0.8813559322033898,0.8730886850152905,0.8977635782747604,0.8792569659442725,0.8866141732283465,0.890282131661442,0.881638846737481,0.8751926040061633,0.9015873015873016,0.9090909090909091,0.8856259659969088,0.9001560062402496,0.8642533936651584,0.8748091603053435,0.8962264150943396,0.8873239436619719,0.8681481481481481],\"type\":\"scatter\"}],                        {\"template\":{\"data\":{\"histogram2dcontour\":[{\"type\":\"histogram2dcontour\",\"colorbar\":{\"outlinewidth\":0,\"ticks\":\"\"},\"colorscale\":[[0.0,\"#0d0887\"],[0.1111111111111111,\"#46039f\"],[0.2222222222222222,\"#7201a8\"],[0.3333333333333333,\"#9c179e\"],[0.4444444444444444,\"#bd3786\"],[0.5555555555555556,\"#d8576b\"],[0.6666666666666666,\"#ed7953\"],[0.7777777777777778,\"#fb9f3a\"],[0.8888888888888888,\"#fdca26\"],[1.0,\"#f0f921\"]]}],\"choropleth\":[{\"type\":\"choropleth\",\"colorbar\":{\"outlinewidth\":0,\"ticks\":\"\"}}],\"histogram2d\":[{\"type\":\"histogram2d\",\"colorbar\":{\"outlinewidth\":0,\"ticks\":\"\"},\"colorscale\":[[0.0,\"#0d0887\"],[0.1111111111111111,\"#46039f\"],[0.2222222222222222,\"#7201a8\"],[0.3333333333333333,\"#9c179e\"],[0.4444444444444444,\"#bd3786\"],[0.5555555555555556,\"#d8576b\"],[0.6666666666666666,\"#ed7953\"],[0.7777777777777778,\"#fb9f3a\"],[0.8888888888888888,\"#fdca26\"],[1.0,\"#f0f921\"]]}],\"heatmap\":[{\"type\":\"heatmap\",\"colorbar\":{\"outlinewidth\":0,\"ticks\":\"\"},\"colorscale\":[[0.0,\"#0d0887\"],[0.1111111111111111,\"#46039f\"],[0.2222222222222222,\"#7201a8\"],[0.3333333333333333,\"#9c179e\"],[0.4444444444444444,\"#bd3786\"],[0.5555555555555556,\"#d8576b\"],[0.6666666666666666,\"#ed7953\"],[0.7777777777777778,\"#fb9f3a\"],[0.8888888888888888,\"#fdca26\"],[1.0,\"#f0f921\"]]}],\"heatmapgl\":[{\"type\":\"heatmapgl\",\"colorbar\":{\"outlinewidth\":0,\"ticks\":\"\"},\"colorscale\":[[0.0,\"#0d0887\"],[0.1111111111111111,\"#46039f\"],[0.2222222222222222,\"#7201a8\"],[0.3333333333333333,\"#9c179e\"],[0.4444444444444444,\"#bd3786\"],[0.5555555555555556,\"#d8576b\"],[0.6666666666666666,\"#ed7953\"],[0.7777777777777778,\"#fb9f3a\"],[0.8888888888888888,\"#fdca26\"],[1.0,\"#f0f921\"]]}],\"contourcarpet\":[{\"type\":\"contourcarpet\",\"colorbar\":{\"outlinewidth\":0,\"ticks\":\"\"}}],\"contour\":[{\"type\":\"contour\",\"colorbar\":{\"outlinewidth\":0,\"ticks\":\"\"},\"colorscale\":[[0.0,\"#0d0887\"],[0.1111111111111111,\"#46039f\"],[0.2222222222222222,\"#7201a8\"],[0.3333333333333333,\"#9c179e\"],[0.4444444444444444,\"#bd3786\"],[0.5555555555555556,\"#d8576b\"],[0.6666666666666666,\"#ed7953\"],[0.7777777777777778,\"#fb9f3a\"],[0.8888888888888888,\"#fdca26\"],[1.0,\"#f0f921\"]]}],\"surface\":[{\"type\":\"surface\",\"colorbar\":{\"outlinewidth\":0,\"ticks\":\"\"},\"colorscale\":[[0.0,\"#0d0887\"],[0.1111111111111111,\"#46039f\"],[0.2222222222222222,\"#7201a8\"],[0.3333333333333333,\"#9c179e\"],[0.4444444444444444,\"#bd3786\"],[0.5555555555555556,\"#d8576b\"],[0.6666666666666666,\"#ed7953\"],[0.7777777777777778,\"#fb9f3a\"],[0.8888888888888888,\"#fdca26\"],[1.0,\"#f0f921\"]]}],\"mesh3d\":[{\"type\":\"mesh3d\",\"colorbar\":{\"outlinewidth\":0,\"ticks\":\"\"}}],\"scatter\":[{\"fillpattern\":{\"fillmode\":\"overlay\",\"size\":10,\"solidity\":0.2},\"type\":\"scatter\"}],\"parcoords\":[{\"type\":\"parcoords\",\"line\":{\"colorbar\":{\"outlinewidth\":0,\"ticks\":\"\"}}}],\"scatterpolargl\":[{\"type\":\"scatterpolargl\",\"marker\":{\"colorbar\":{\"outlinewidth\":0,\"ticks\":\"\"}}}],\"bar\":[{\"error_x\":{\"color\":\"#2a3f5f\"},\"error_y\":{\"color\":\"#2a3f5f\"},\"marker\":{\"line\":{\"color\":\"#E5ECF6\",\"width\":0.5},\"pattern\":{\"fillmode\":\"overlay\",\"size\":10,\"solidity\":0.2}},\"type\":\"bar\"}],\"scattergeo\":[{\"type\":\"scattergeo\",\"marker\":{\"colorbar\":{\"outlinewidth\":0,\"ticks\":\"\"}}}],\"scatterpolar\":[{\"type\":\"scatterpolar\",\"marker\":{\"colorbar\":{\"outlinewidth\":0,\"ticks\":\"\"}}}],\"histogram\":[{\"marker\":{\"pattern\":{\"fillmode\":\"overlay\",\"size\":10,\"solidity\":0.2}},\"type\":\"histogram\"}],\"scattergl\":[{\"type\":\"scattergl\",\"marker\":{\"colorbar\":{\"outlinewidth\":0,\"ticks\":\"\"}}}],\"scatter3d\":[{\"type\":\"scatter3d\",\"line\":{\"colorbar\":{\"outlinewidth\":0,\"ticks\":\"\"}},\"marker\":{\"colorbar\":{\"outlinewidth\":0,\"ticks\":\"\"}}}],\"scattermapbox\":[{\"type\":\"scattermapbox\",\"marker\":{\"colorbar\":{\"outlinewidth\":0,\"ticks\":\"\"}}}],\"scatterternary\":[{\"type\":\"scatterternary\",\"marker\":{\"colorbar\":{\"outlinewidth\":0,\"ticks\":\"\"}}}],\"scattercarpet\":[{\"type\":\"scattercarpet\",\"marker\":{\"colorbar\":{\"outlinewidth\":0,\"ticks\":\"\"}}}],\"carpet\":[{\"aaxis\":{\"endlinecolor\":\"#2a3f5f\",\"gridcolor\":\"white\",\"linecolor\":\"white\",\"minorgridcolor\":\"white\",\"startlinecolor\":\"#2a3f5f\"},\"baxis\":{\"endlinecolor\":\"#2a3f5f\",\"gridcolor\":\"white\",\"linecolor\":\"white\",\"minorgridcolor\":\"white\",\"startlinecolor\":\"#2a3f5f\"},\"type\":\"carpet\"}],\"table\":[{\"cells\":{\"fill\":{\"color\":\"#EBF0F8\"},\"line\":{\"color\":\"white\"}},\"header\":{\"fill\":{\"color\":\"#C8D4E3\"},\"line\":{\"color\":\"white\"}},\"type\":\"table\"}],\"barpolar\":[{\"marker\":{\"line\":{\"color\":\"#E5ECF6\",\"width\":0.5},\"pattern\":{\"fillmode\":\"overlay\",\"size\":10,\"solidity\":0.2}},\"type\":\"barpolar\"}],\"pie\":[{\"automargin\":true,\"type\":\"pie\"}]},\"layout\":{\"autotypenumbers\":\"strict\",\"colorway\":[\"#636efa\",\"#EF553B\",\"#00cc96\",\"#ab63fa\",\"#FFA15A\",\"#19d3f3\",\"#FF6692\",\"#B6E880\",\"#FF97FF\",\"#FECB52\"],\"font\":{\"color\":\"#2a3f5f\"},\"hovermode\":\"closest\",\"hoverlabel\":{\"align\":\"left\"},\"paper_bgcolor\":\"white\",\"plot_bgcolor\":\"#E5ECF6\",\"polar\":{\"bgcolor\":\"#E5ECF6\",\"angularaxis\":{\"gridcolor\":\"white\",\"linecolor\":\"white\",\"ticks\":\"\"},\"radialaxis\":{\"gridcolor\":\"white\",\"linecolor\":\"white\",\"ticks\":\"\"}},\"ternary\":{\"bgcolor\":\"#E5ECF6\",\"aaxis\":{\"gridcolor\":\"white\",\"linecolor\":\"white\",\"ticks\":\"\"},\"baxis\":{\"gridcolor\":\"white\",\"linecolor\":\"white\",\"ticks\":\"\"},\"caxis\":{\"gridcolor\":\"white\",\"linecolor\":\"white\",\"ticks\":\"\"}},\"coloraxis\":{\"colorbar\":{\"outlinewidth\":0,\"ticks\":\"\"}},\"colorscale\":{\"sequential\":[[0.0,\"#0d0887\"],[0.1111111111111111,\"#46039f\"],[0.2222222222222222,\"#7201a8\"],[0.3333333333333333,\"#9c179e\"],[0.4444444444444444,\"#bd3786\"],[0.5555555555555556,\"#d8576b\"],[0.6666666666666666,\"#ed7953\"],[0.7777777777777778,\"#fb9f3a\"],[0.8888888888888888,\"#fdca26\"],[1.0,\"#f0f921\"]],\"sequentialminus\":[[0.0,\"#0d0887\"],[0.1111111111111111,\"#46039f\"],[0.2222222222222222,\"#7201a8\"],[0.3333333333333333,\"#9c179e\"],[0.4444444444444444,\"#bd3786\"],[0.5555555555555556,\"#d8576b\"],[0.6666666666666666,\"#ed7953\"],[0.7777777777777778,\"#fb9f3a\"],[0.8888888888888888,\"#fdca26\"],[1.0,\"#f0f921\"]],\"diverging\":[[0,\"#8e0152\"],[0.1,\"#c51b7d\"],[0.2,\"#de77ae\"],[0.3,\"#f1b6da\"],[0.4,\"#fde0ef\"],[0.5,\"#f7f7f7\"],[0.6,\"#e6f5d0\"],[0.7,\"#b8e186\"],[0.8,\"#7fbc41\"],[0.9,\"#4d9221\"],[1,\"#276419\"]]},\"xaxis\":{\"gridcolor\":\"white\",\"linecolor\":\"white\",\"ticks\":\"\",\"title\":{\"standoff\":15},\"zerolinecolor\":\"white\",\"automargin\":true,\"zerolinewidth\":2},\"yaxis\":{\"gridcolor\":\"white\",\"linecolor\":\"white\",\"ticks\":\"\",\"title\":{\"standoff\":15},\"zerolinecolor\":\"white\",\"automargin\":true,\"zerolinewidth\":2},\"scene\":{\"xaxis\":{\"backgroundcolor\":\"#E5ECF6\",\"gridcolor\":\"white\",\"linecolor\":\"white\",\"showbackground\":true,\"ticks\":\"\",\"zerolinecolor\":\"white\",\"gridwidth\":2},\"yaxis\":{\"backgroundcolor\":\"#E5ECF6\",\"gridcolor\":\"white\",\"linecolor\":\"white\",\"showbackground\":true,\"ticks\":\"\",\"zerolinecolor\":\"white\",\"gridwidth\":2},\"zaxis\":{\"backgroundcolor\":\"#E5ECF6\",\"gridcolor\":\"white\",\"linecolor\":\"white\",\"showbackground\":true,\"ticks\":\"\",\"zerolinecolor\":\"white\",\"gridwidth\":2}},\"shapedefaults\":{\"line\":{\"color\":\"#2a3f5f\"}},\"annotationdefaults\":{\"arrowcolor\":\"#2a3f5f\",\"arrowhead\":0,\"arrowwidth\":1},\"geo\":{\"bgcolor\":\"white\",\"landcolor\":\"#E5ECF6\",\"subunitcolor\":\"white\",\"showland\":true,\"showlakes\":true,\"lakecolor\":\"white\"},\"title\":{\"x\":0.05},\"mapbox\":{\"style\":\"light\"}}},\"title\":{\"text\":\"Val set precision ,heads=2\"},\"xaxis\":{\"title\":{\"text\":\"Epoch\"}},\"yaxis\":{\"title\":{\"text\":\"precision\"}}},                        {\"responsive\": true}                    ).then(function(){\n",
              "                            \n",
              "var gd = document.getElementById('f41658e5-2733-43e8-9235-4250d842ee6b');\n",
              "var x = new MutationObserver(function (mutations, observer) {{\n",
              "        var display = window.getComputedStyle(gd).display;\n",
              "        if (!display || display === 'none') {{\n",
              "            console.log([gd, 'removed!']);\n",
              "            Plotly.purge(gd);\n",
              "            observer.disconnect();\n",
              "        }}\n",
              "}});\n",
              "\n",
              "// Listen for the removal of the full notebook cells\n",
              "var notebookContainer = gd.closest('#notebook-container');\n",
              "if (notebookContainer) {{\n",
              "    x.observe(notebookContainer, {childList: true});\n",
              "}}\n",
              "\n",
              "// Listen for the clearing of the current output cell\n",
              "var outputEl = gd.closest('.output');\n",
              "if (outputEl) {{\n",
              "    x.observe(outputEl, {childList: true});\n",
              "}}\n",
              "\n",
              "                        })                };                            </script>        </div>\n",
              "</body>\n",
              "</html>"
            ]
          },
          "metadata": {}
        }
      ]
    },
    {
      "cell_type": "markdown",
      "source": [
        "## Graph visualization\n",
        "Now after training previous models, we can also visualize our predicted labels nodes as licit or illicit.We are going to show the graph for one time period."
      ],
      "metadata": {
        "id": "ZO-NPPaaJkJe"
      }
    },
    {
      "cell_type": "code",
      "source": [
        "import networkx as nx\n",
        "import matplotlib.pyplot as plt\n",
        "\n",
        "# Load one model \n",
        "m1 = GATv2(data_train.num_node_features, args['hidden_dim'], 1, args).to(device).double()\n",
        "m1.load_state_dict(torch.load(FOLDERNAME + \"/save_results/\" + \"GATv2prebuilt.pth\"))\n",
        "gnn_t2 = GnnTrainer(m1)\n",
        "output = gnn_t2.predict(data=data_train, unclassified_only=False)\n",
        "output\n"
      ],
      "metadata": {
        "id": "Kw5RosGZJqkw",
        "colab": {
          "base_uri": "https://localhost:8080/"
        },
        "outputId": "719a41bb-030e-4092-9fd9-98b125cdad54"
      },
      "execution_count": 42,
      "outputs": [
        {
          "output_type": "execute_result",
          "data": {
            "text/plain": [
              "{'pred_scores': array([6.54758444e-03, 1.65457416e-05, 0.00000000e+00, ...,\n",
              "        1.96222656e-01, 9.02857704e-01, 4.48804817e-05]),\n",
              " 'pred_labels': array([False, False, False, ..., False,  True, False])}"
            ]
          },
          "metadata": {},
          "execution_count": 42
        }
      ]
    },
    {
      "cell_type": "code",
      "source": [
        "# Get index for one time period\n",
        "time_period = 28\n",
        "sub_node_list = df_merge.index[df_merge.loc[:, 1] == time_period].tolist()\n",
        "\n",
        "# Fetch list of edges for that time period\n",
        "edge_tuples = []\n",
        "for row in data_train.edge_index.view(-1, 2).cpu().numpy():\n",
        "  if (row[0] in sub_node_list) | (row[1] in sub_node_list):\n",
        "    edge_tuples.append(tuple(row))\n",
        "len(edge_tuples)\n",
        "\n",
        "# Fetch predicted results for that time period\n",
        "node_color = []\n",
        "for node_id in sub_node_list:\n",
        "  if node_id in classified_illicit_idx: # \n",
        "     label = \"red\" # fraud\n",
        "  elif node_id in classified_licit_idx:\n",
        "     label = \"green\" # not fraud\n",
        "  else:\n",
        "    if output['pred_labels'][node_id]:\n",
        "      label = \"orange\" # Predicted fraud\n",
        "    else:\n",
        "      label = \"blue\" # Not fraud predicted \n",
        "  \n",
        "  node_color.append(label)\n",
        "\n",
        "# Setup networkx graph\n",
        "G = nx.Graph()\n",
        "G.add_edges_from(edge_tuples)\n",
        "\n",
        "# Plot the graph\n",
        "plt.figure(3,figsize=(16,16)) \n",
        "plt.title(\"Time period:\"+str(time_period))\n",
        "nx.draw_networkx(G, nodelist=sub_node_list, node_color=node_color, node_size=6, with_labels=False)"
      ],
      "metadata": {
        "id": "oZk_3yCGJkS9",
        "colab": {
          "base_uri": "https://localhost:8080/",
          "height": 797
        },
        "outputId": "ec7bd6fa-5771-4ca5-c5ce-1480175e3c92"
      },
      "execution_count": 44,
      "outputs": [
        {
          "output_type": "display_data",
          "data": {
            "text/plain": [
              "<Figure size 1600x1600 with 1 Axes>"
            ],
            "image/png": "[encoded data removed]"
          },
          "metadata": {}
        }
      ]
    },
    {
      "cell_type": "markdown",
      "source": [
        "The diagram above has the following legend: Green = Not illicit (not fraud), Red = illicit (Fraud), Blue = Predicted not illicit, Orange = Predicted illicit."
      ],
      "metadata": {
        "id": "Ml70TyFKcXTX"
      }
    },
    {
      "cell_type": "markdown",
      "metadata": {
        "id": "FUPkbVaYAJaf"
      },
      "source": [
        "## Training Cross comparisons\n",
        "Here,we show you how to load few results from previous trained models , we should assign names then plots all results. The current visualization has additional models that we ran as well.\n"
      ]
    },
    {
      "cell_type": "code",
      "metadata": {
        "colab": {
          "base_uri": "https://localhost:8080/",
          "height": 542
        },
        "id": "pYdG1xd6Rjk3",
        "outputId": "ca30f91e-9a4f-4a03-bcc3-103cabbd76c5"
      },
      "source": [
        "# Take names of the saved files\n",
        "model_name_list = [\"GATv2prebuilt.results\",\"GATprebuilt.results\"]\n",
        "#Assign names to plots\n",
        "names = [\"GATv2_prebuilt\", \"GAT_prebuilt\"]\n",
        "\n",
        "#Iterate to load saved outputs and plots\n",
        "mm_list0 = [load_results(fn) for fn in model_name_list]\n",
        "plot_training_comp(mm_list0, names, \"aucroc\",title=\"Val set aucroc comparison\")\n"
      ],
      "execution_count": 45,
      "outputs": [
        {
          "output_type": "display_data",
          "data": {
            "text/html": [
              "<html>\n",
              "<head><meta charset=\"utf-8\" /></head>\n",
              "<body>\n",
              "    <div>            <script src=\"https://cdnjs.cloudflare.com/ajax/libs/mathjax/2.7.5/MathJax.js?config=TeX-AMS-MML_SVG\"></script><script type=\"text/javascript\">if (window.MathJax && window.MathJax.Hub && window.MathJax.Hub.Config) {window.MathJax.Hub.Config({SVG: {font: \"STIX-Web\"}});}</script>                <script type=\"text/javascript\">window.PlotlyConfig = {MathJaxConfig: 'local'};</script>\n",
              "        <script src=\"https://cdn.plot.ly/plotly-2.18.2.min.js\"></script>                <div id=\"20ee29f2-078e-4c82-829e-77c2899e0c50\" class=\"plotly-graph-div\" style=\"height:525px; width:100%;\"></div>            <script type=\"text/javascript\">                                    window.PLOTLYENV=window.PLOTLYENV || {};                                    if (document.getElementById(\"20ee29f2-078e-4c82-829e-77c2899e0c50\")) {                    Plotly.newPlot(                        \"20ee29f2-078e-4c82-829e-77c2899e0c50\",                        [{\"name\":\"GATv2_prebuilt\",\"x\":[0,1,2,3,4,5,6,7,8,9,10,11,12,13,14,15,16,17,18,19,20,21,22,23,24,25,26,27,28,29,30,31,32,33,34,35,36,37,38,39,40,41,42,43,44,45,46,47,48,49,50,51,52,53,54,55,56,57,58,59,60,61,62,63,64,65,66,67,68,69,70,71,72,73,74,75,76,77,78,79,80,81,82,83,84,85,86,87,88,89,90,91,92,93,94,95,96,97,98,99],\"y\":[0.5023121599557059,0.8353540603807553,0.8668346996310714,0.8834374299666475,0.8913760341395527,0.9068728260234992,0.9113453089188828,0.9130136328453833,0.911775631500743,0.9242919451522326,0.9341048536997384,0.9435168654436842,0.9447259118224773,0.9496494330476445,0.9496506100787763,0.9513172861616921,0.955195132929188,0.9569117151321006,0.9573702864611287,0.9596379546400451,0.962254494846487,0.9631064299798304,0.967304429215231,0.9681770800964977,0.9686278830200548,0.9705631576072934,0.9698178614945093,0.9682135680615899,0.9684042471049743,0.9721650969779491,0.971344000060264,0.9718866114121173,0.9723647214579366,0.9737298421648334,0.9725516340016986,0.9741378011551854,0.9746719378828883,0.9718943798175885,0.9736952374495523,0.9735648224001267,0.9731521552852466,0.9750012711936227,0.9770462450823639,0.97547820420831,0.9776681883325141,0.9753386083160545,0.9743529624461157,0.9774419629489431,0.9771036842016056,0.9777166820151525,0.9764772682331538,0.9766566477776711,0.9778360329719378,0.9792562387358121,0.9787753038152758,0.9781919671862552,0.9786453595783027,0.9792270483637383,0.9783758194490741,0.980638544097236,0.9785883912715138,0.9795250726463615,0.9809975385924967,0.9781390007853152,0.9804784678632836,0.9816477305898149,0.9805078936415836,0.981936338623382,0.9788984212716834,0.9804313866180034,0.9808332250464691,0.9789160767386633,0.9796295930108833,0.9801938617355653,0.9795742725476793,0.9825067279099505,0.9778696960623131,0.9813296967779479,0.9810660418043792,0.9810693374915489,0.9808675943555237,0.9821051248877113,0.9802656606346175,0.9799207905129408,0.9812618997847447,0.9815126074158611,0.9798466375516247,0.9792032723348719,0.9794014843775012,0.9813675971803985,0.9794711646205158,0.9814909500430322,0.9805375548261102,0.9816343124349102,0.9806263029734632,0.9805853422900696,0.9782649431164395,0.9818111025109371,0.9806178283493128,0.9802710749778246],\"type\":\"scatter\"},{\"name\":\"GAT_prebuilt\",\"x\":[0,1,2,3,4,5,6,7,8,9,10,11,12,13,14,15,16,17,18,19,20,21,22,23,24,25,26,27,28,29,30,31,32,33,34,35,36,37,38,39,40,41,42,43,44,45,46,47,48,49,50,51,52,53,54,55,56,57,58,59,60,61,62,63,64,65,66,67,68,69,70,71,72,73,74,75,76,77,78,79,80,81,82,83,84,85,86,87,88,89,90,91,92,93,94,95,96,97,98,99],\"y\":[0.3979798850087665,0.8207148533795859,0.8596307982907625,0.874844867296802,0.890536340129982,0.898035440878197,0.9083005647866184,0.9121466317135501,0.9087527801475338,0.9139835064981535,0.9243684521758126,0.9274160211827941,0.9349984557351547,0.937834394544602,0.9403937310380285,0.9454342491577165,0.9480519663952903,0.9518085789561899,0.9525011440742603,0.9545698939918681,0.9558655698619766,0.9565042269542012,0.9569279581617222,0.9624811910425105,0.9647886428736886,0.9643154763586234,0.9643769173837141,0.9645727753640793,0.9684136633540303,0.9673531583040959,0.9693536404160475,0.9712592538187599,0.9721940519437964,0.9690805691934228,0.9709459281314208,0.9693889513500077,0.9686671958598637,0.9719219223460772,0.9742008900238608,0.9725796473426405,0.9736363858929522,0.9742510315500841,0.9730158550801605,0.9754812644892533,0.9742882257338553,0.9757237329024457,0.9754541927732172,0.9738675548072776,0.9751926564556862,0.9757543357118779,0.9762044324167557,0.9763306101541065,0.9767769403593619,0.9769311314376541,0.974128149499903,0.9770337685523647,0.9766189827814469,0.9763743957122168,0.9787298704135805,0.9792279899886439,0.9776761921442118,0.976654293715407,0.978405716039827,0.9774833944447898,0.9792213986143046,0.9781601873456913,0.9783598118256788,0.9797819008393646,0.9786029864575506,0.9782833048020986,0.9783082578620971,0.9768131929182274,0.9783882959790733,0.9777230379832653,0.9782913086137962,0.9764148855831577,0.9783890021977525,0.9781107520381471,0.9775714363734636,0.9779276059940074,0.9812637830345556,0.9803475820014048,0.9790876878777093,0.9825502780618346,0.9808416996706196,0.9775787339664818,0.980856530262883,0.9792206923956256,0.9801008762761372,0.9789339676118698,0.9795667395484343,0.9799243216063367,0.978856518963384,0.9809869453123088,0.9811707975751275,0.980294144788012,0.9774883379755441,0.9806792693744032,0.9811999879472012,0.9795121253039095],\"type\":\"scatter\"}],                        {\"template\":{\"data\":{\"histogram2dcontour\":[{\"type\":\"histogram2dcontour\",\"colorbar\":{\"outlinewidth\":0,\"ticks\":\"\"},\"colorscale\":[[0.0,\"#0d0887\"],[0.1111111111111111,\"#46039f\"],[0.2222222222222222,\"#7201a8\"],[0.3333333333333333,\"#9c179e\"],[0.4444444444444444,\"#bd3786\"],[0.5555555555555556,\"#d8576b\"],[0.6666666666666666,\"#ed7953\"],[0.7777777777777778,\"#fb9f3a\"],[0.8888888888888888,\"#fdca26\"],[1.0,\"#f0f921\"]]}],\"choropleth\":[{\"type\":\"choropleth\",\"colorbar\":{\"outlinewidth\":0,\"ticks\":\"\"}}],\"histogram2d\":[{\"type\":\"histogram2d\",\"colorbar\":{\"outlinewidth\":0,\"ticks\":\"\"},\"colorscale\":[[0.0,\"#0d0887\"],[0.1111111111111111,\"#46039f\"],[0.2222222222222222,\"#7201a8\"],[0.3333333333333333,\"#9c179e\"],[0.4444444444444444,\"#bd3786\"],[0.5555555555555556,\"#d8576b\"],[0.6666666666666666,\"#ed7953\"],[0.7777777777777778,\"#fb9f3a\"],[0.8888888888888888,\"#fdca26\"],[1.0,\"#f0f921\"]]}],\"heatmap\":[{\"type\":\"heatmap\",\"colorbar\":{\"outlinewidth\":0,\"ticks\":\"\"},\"colorscale\":[[0.0,\"#0d0887\"],[0.1111111111111111,\"#46039f\"],[0.2222222222222222,\"#7201a8\"],[0.3333333333333333,\"#9c179e\"],[0.4444444444444444,\"#bd3786\"],[0.5555555555555556,\"#d8576b\"],[0.6666666666666666,\"#ed7953\"],[0.7777777777777778,\"#fb9f3a\"],[0.8888888888888888,\"#fdca26\"],[1.0,\"#f0f921\"]]}],\"heatmapgl\":[{\"type\":\"heatmapgl\",\"colorbar\":{\"outlinewidth\":0,\"ticks\":\"\"},\"colorscale\":[[0.0,\"#0d0887\"],[0.1111111111111111,\"#46039f\"],[0.2222222222222222,\"#7201a8\"],[0.3333333333333333,\"#9c179e\"],[0.4444444444444444,\"#bd3786\"],[0.5555555555555556,\"#d8576b\"],[0.6666666666666666,\"#ed7953\"],[0.7777777777777778,\"#fb9f3a\"],[0.8888888888888888,\"#fdca26\"],[1.0,\"#f0f921\"]]}],\"contourcarpet\":[{\"type\":\"contourcarpet\",\"colorbar\":{\"outlinewidth\":0,\"ticks\":\"\"}}],\"contour\":[{\"type\":\"contour\",\"colorbar\":{\"outlinewidth\":0,\"ticks\":\"\"},\"colorscale\":[[0.0,\"#0d0887\"],[0.1111111111111111,\"#46039f\"],[0.2222222222222222,\"#7201a8\"],[0.3333333333333333,\"#9c179e\"],[0.4444444444444444,\"#bd3786\"],[0.5555555555555556,\"#d8576b\"],[0.6666666666666666,\"#ed7953\"],[0.7777777777777778,\"#fb9f3a\"],[0.8888888888888888,\"#fdca26\"],[1.0,\"#f0f921\"]]}],\"surface\":[{\"type\":\"surface\",\"colorbar\":{\"outlinewidth\":0,\"ticks\":\"\"},\"colorscale\":[[0.0,\"#0d0887\"],[0.1111111111111111,\"#46039f\"],[0.2222222222222222,\"#7201a8\"],[0.3333333333333333,\"#9c179e\"],[0.4444444444444444,\"#bd3786\"],[0.5555555555555556,\"#d8576b\"],[0.6666666666666666,\"#ed7953\"],[0.7777777777777778,\"#fb9f3a\"],[0.8888888888888888,\"#fdca26\"],[1.0,\"#f0f921\"]]}],\"mesh3d\":[{\"type\":\"mesh3d\",\"colorbar\":{\"outlinewidth\":0,\"ticks\":\"\"}}],\"scatter\":[{\"fillpattern\":{\"fillmode\":\"overlay\",\"size\":10,\"solidity\":0.2},\"type\":\"scatter\"}],\"parcoords\":[{\"type\":\"parcoords\",\"line\":{\"colorbar\":{\"outlinewidth\":0,\"ticks\":\"\"}}}],\"scatterpolargl\":[{\"type\":\"scatterpolargl\",\"marker\":{\"colorbar\":{\"outlinewidth\":0,\"ticks\":\"\"}}}],\"bar\":[{\"error_x\":{\"color\":\"#2a3f5f\"},\"error_y\":{\"color\":\"#2a3f5f\"},\"marker\":{\"line\":{\"color\":\"#E5ECF6\",\"width\":0.5},\"pattern\":{\"fillmode\":\"overlay\",\"size\":10,\"solidity\":0.2}},\"type\":\"bar\"}],\"scattergeo\":[{\"type\":\"scattergeo\",\"marker\":{\"colorbar\":{\"outlinewidth\":0,\"ticks\":\"\"}}}],\"scatterpolar\":[{\"type\":\"scatterpolar\",\"marker\":{\"colorbar\":{\"outlinewidth\":0,\"ticks\":\"\"}}}],\"histogram\":[{\"marker\":{\"pattern\":{\"fillmode\":\"overlay\",\"size\":10,\"solidity\":0.2}},\"type\":\"histogram\"}],\"scattergl\":[{\"type\":\"scattergl\",\"marker\":{\"colorbar\":{\"outlinewidth\":0,\"ticks\":\"\"}}}],\"scatter3d\":[{\"type\":\"scatter3d\",\"line\":{\"colorbar\":{\"outlinewidth\":0,\"ticks\":\"\"}},\"marker\":{\"colorbar\":{\"outlinewidth\":0,\"ticks\":\"\"}}}],\"scattermapbox\":[{\"type\":\"scattermapbox\",\"marker\":{\"colorbar\":{\"outlinewidth\":0,\"ticks\":\"\"}}}],\"scatterternary\":[{\"type\":\"scatterternary\",\"marker\":{\"colorbar\":{\"outlinewidth\":0,\"ticks\":\"\"}}}],\"scattercarpet\":[{\"type\":\"scattercarpet\",\"marker\":{\"colorbar\":{\"outlinewidth\":0,\"ticks\":\"\"}}}],\"carpet\":[{\"aaxis\":{\"endlinecolor\":\"#2a3f5f\",\"gridcolor\":\"white\",\"linecolor\":\"white\",\"minorgridcolor\":\"white\",\"startlinecolor\":\"#2a3f5f\"},\"baxis\":{\"endlinecolor\":\"#2a3f5f\",\"gridcolor\":\"white\",\"linecolor\":\"white\",\"minorgridcolor\":\"white\",\"startlinecolor\":\"#2a3f5f\"},\"type\":\"carpet\"}],\"table\":[{\"cells\":{\"fill\":{\"color\":\"#EBF0F8\"},\"line\":{\"color\":\"white\"}},\"header\":{\"fill\":{\"color\":\"#C8D4E3\"},\"line\":{\"color\":\"white\"}},\"type\":\"table\"}],\"barpolar\":[{\"marker\":{\"line\":{\"color\":\"#E5ECF6\",\"width\":0.5},\"pattern\":{\"fillmode\":\"overlay\",\"size\":10,\"solidity\":0.2}},\"type\":\"barpolar\"}],\"pie\":[{\"automargin\":true,\"type\":\"pie\"}]},\"layout\":{\"autotypenumbers\":\"strict\",\"colorway\":[\"#636efa\",\"#EF553B\",\"#00cc96\",\"#ab63fa\",\"#FFA15A\",\"#19d3f3\",\"#FF6692\",\"#B6E880\",\"#FF97FF\",\"#FECB52\"],\"font\":{\"color\":\"#2a3f5f\"},\"hovermode\":\"closest\",\"hoverlabel\":{\"align\":\"left\"},\"paper_bgcolor\":\"white\",\"plot_bgcolor\":\"#E5ECF6\",\"polar\":{\"bgcolor\":\"#E5ECF6\",\"angularaxis\":{\"gridcolor\":\"white\",\"linecolor\":\"white\",\"ticks\":\"\"},\"radialaxis\":{\"gridcolor\":\"white\",\"linecolor\":\"white\",\"ticks\":\"\"}},\"ternary\":{\"bgcolor\":\"#E5ECF6\",\"aaxis\":{\"gridcolor\":\"white\",\"linecolor\":\"white\",\"ticks\":\"\"},\"baxis\":{\"gridcolor\":\"white\",\"linecolor\":\"white\",\"ticks\":\"\"},\"caxis\":{\"gridcolor\":\"white\",\"linecolor\":\"white\",\"ticks\":\"\"}},\"coloraxis\":{\"colorbar\":{\"outlinewidth\":0,\"ticks\":\"\"}},\"colorscale\":{\"sequential\":[[0.0,\"#0d0887\"],[0.1111111111111111,\"#46039f\"],[0.2222222222222222,\"#7201a8\"],[0.3333333333333333,\"#9c179e\"],[0.4444444444444444,\"#bd3786\"],[0.5555555555555556,\"#d8576b\"],[0.6666666666666666,\"#ed7953\"],[0.7777777777777778,\"#fb9f3a\"],[0.8888888888888888,\"#fdca26\"],[1.0,\"#f0f921\"]],\"sequentialminus\":[[0.0,\"#0d0887\"],[0.1111111111111111,\"#46039f\"],[0.2222222222222222,\"#7201a8\"],[0.3333333333333333,\"#9c179e\"],[0.4444444444444444,\"#bd3786\"],[0.5555555555555556,\"#d8576b\"],[0.6666666666666666,\"#ed7953\"],[0.7777777777777778,\"#fb9f3a\"],[0.8888888888888888,\"#fdca26\"],[1.0,\"#f0f921\"]],\"diverging\":[[0,\"#8e0152\"],[0.1,\"#c51b7d\"],[0.2,\"#de77ae\"],[0.3,\"#f1b6da\"],[0.4,\"#fde0ef\"],[0.5,\"#f7f7f7\"],[0.6,\"#e6f5d0\"],[0.7,\"#b8e186\"],[0.8,\"#7fbc41\"],[0.9,\"#4d9221\"],[1,\"#276419\"]]},\"xaxis\":{\"gridcolor\":\"white\",\"linecolor\":\"white\",\"ticks\":\"\",\"title\":{\"standoff\":15},\"zerolinecolor\":\"white\",\"automargin\":true,\"zerolinewidth\":2},\"yaxis\":{\"gridcolor\":\"white\",\"linecolor\":\"white\",\"ticks\":\"\",\"title\":{\"standoff\":15},\"zerolinecolor\":\"white\",\"automargin\":true,\"zerolinewidth\":2},\"scene\":{\"xaxis\":{\"backgroundcolor\":\"#E5ECF6\",\"gridcolor\":\"white\",\"linecolor\":\"white\",\"showbackground\":true,\"ticks\":\"\",\"zerolinecolor\":\"white\",\"gridwidth\":2},\"yaxis\":{\"backgroundcolor\":\"#E5ECF6\",\"gridcolor\":\"white\",\"linecolor\":\"white\",\"showbackground\":true,\"ticks\":\"\",\"zerolinecolor\":\"white\",\"gridwidth\":2},\"zaxis\":{\"backgroundcolor\":\"#E5ECF6\",\"gridcolor\":\"white\",\"linecolor\":\"white\",\"showbackground\":true,\"ticks\":\"\",\"zerolinecolor\":\"white\",\"gridwidth\":2}},\"shapedefaults\":{\"line\":{\"color\":\"#2a3f5f\"}},\"annotationdefaults\":{\"arrowcolor\":\"#2a3f5f\",\"arrowhead\":0,\"arrowwidth\":1},\"geo\":{\"bgcolor\":\"white\",\"landcolor\":\"#E5ECF6\",\"subunitcolor\":\"white\",\"showland\":true,\"showlakes\":true,\"lakecolor\":\"white\"},\"title\":{\"x\":0.05},\"mapbox\":{\"style\":\"light\"}}},\"title\":{\"text\":\"Val set aucroc comparison\"},\"xaxis\":{\"title\":{\"text\":\"Epoch\"}},\"yaxis\":{\"title\":{\"text\":\"aucroc\"}}},                        {\"responsive\": true}                    ).then(function(){\n",
              "                            \n",
              "var gd = document.getElementById('20ee29f2-078e-4c82-829e-77c2899e0c50');\n",
              "var x = new MutationObserver(function (mutations, observer) {{\n",
              "        var display = window.getComputedStyle(gd).display;\n",
              "        if (!display || display === 'none') {{\n",
              "            console.log([gd, 'removed!']);\n",
              "            Plotly.purge(gd);\n",
              "            observer.disconnect();\n",
              "        }}\n",
              "}});\n",
              "\n",
              "// Listen for the removal of the full notebook cells\n",
              "var notebookContainer = gd.closest('#notebook-container');\n",
              "if (notebookContainer) {{\n",
              "    x.observe(notebookContainer, {childList: true});\n",
              "}}\n",
              "\n",
              "// Listen for the clearing of the current output cell\n",
              "var outputEl = gd.closest('.output');\n",
              "if (outputEl) {{\n",
              "    x.observe(outputEl, {childList: true});\n",
              "}}\n",
              "\n",
              "                        })                };                            </script>        </div>\n",
              "</body>\n",
              "</html>"
            ]
          },
          "metadata": {}
        }
      ]
    },
    {
      "cell_type": "markdown",
      "source": [
        "## Best metrics"
      ],
      "metadata": {
        "id": "lxYtzen9q2TO"
      }
    },
    {
      "cell_type": "markdown",
      "source": [
        "Next, we show you the best results of each model into a table."
      ],
      "metadata": {
        "id": "NhGlj6o8Oe42"
      }
    },
    {
      "cell_type": "code",
      "metadata": {
        "id": "9MTGPg77BKde"
      },
      "source": [
        "# Plot best results of each into a table\n",
        "aucroc_l = []\n",
        "accuracy_l = []\n",
        "f1micro_l = []\n",
        "f1macro_l = []\n",
        "model_versions = []\n",
        "for c1, mm in enumerate(mm_list0):\n",
        "  model_versions.append(names[c1])\n",
        "  best = mm.get_best(\"aucroc\")\n",
        "\n",
        "  aucroc_l.append(best[\"aucroc\"])\n",
        "  accuracy_l.append(best[\"accuracy\"])\n",
        "  f1micro_l.append(best[\"f1micro\"])\n",
        "  f1macro_l.append(best[\"f1macro\"])\n",
        "\n",
        "d = {\"model_version\": model_versions, \"aucroc\":aucroc_l, \"accuracy\": accuracy_l, \"f1_macro\": f1macro_l, \"f1_micro\": f1micro_l}\n",
        "df = pd.DataFrame(data=d)"
      ],
      "execution_count": 46,
      "outputs": []
    },
    {
      "cell_type": "code",
      "metadata": {
        "colab": {
          "base_uri": "https://localhost:8080/",
          "height": 112
        },
        "id": "oETgjugvBKgR",
        "outputId": "26c868e8-50e6-4dba-d62d-ae1419c85a24"
      },
      "source": [
        "df.round(3)"
      ],
      "execution_count": 47,
      "outputs": [
        {
          "output_type": "execute_result",
          "data": {
            "text/plain": [
              "    model_version  aucroc  accuracy  f1_macro  f1_micro\n",
              "0  GATv2_prebuilt   0.983     0.974     0.922     0.974\n",
              "1    GAT_prebuilt   0.983     0.971     0.915     0.971"
            ],
            "text/html": [
              "\n",
              "  <div id=\"df-f9e28d06-6dda-41c6-bc90-119b6a69f522\">\n",
              "    <div class=\"colab-df-container\">\n",
              "      <div>\n",
              "<style scoped>\n",
              "    .dataframe tbody tr th:only-of-type {\n",
              "        vertical-align: middle;\n",
              "    }\n",
              "\n",
              "    .dataframe tbody tr th {\n",
              "        vertical-align: top;\n",
              "    }\n",
              "\n",
              "    .dataframe thead th {\n",
              "        text-align: right;\n",
              "    }\n",
              "</style>\n",
              "<table border=\"1\" class=\"dataframe\">\n",
              "  <thead>\n",
              "    <tr style=\"text-align: right;\">\n",
              "      <th></th>\n",
              "      <th>model_version</th>\n",
              "      <th>aucroc</th>\n",
              "      <th>accuracy</th>\n",
              "      <th>f1_macro</th>\n",
              "      <th>f1_micro</th>\n",
              "    </tr>\n",
              "  </thead>\n",
              "  <tbody>\n",
              "    <tr>\n",
              "      <th>0</th>\n",
              "      <td>GATv2_prebuilt</td>\n",
              "      <td>0.983</td>\n",
              "      <td>0.974</td>\n",
              "      <td>0.922</td>\n",
              "      <td>0.974</td>\n",
              "    </tr>\n",
              "    <tr>\n",
              "      <th>1</th>\n",
              "      <td>GAT_prebuilt</td>\n",
              "      <td>0.983</td>\n",
              "      <td>0.971</td>\n",
              "      <td>0.915</td>\n",
              "      <td>0.971</td>\n",
              "    </tr>\n",
              "  </tbody>\n",
              "</table>\n",
              "</div>\n",
              "      <button class=\"colab-df-convert\" onclick=\"convertToInteractive('df-f9e28d06-6dda-41c6-bc90-119b6a69f522')\"\n",
              "              title=\"Convert this dataframe to an interactive table.\"\n",
              "              style=\"display:none;\">\n",
              "        \n",
              "  <svg xmlns=\"http://www.w3.org/2000/svg\" height=\"24px\"viewBox=\"0 0 24 24\"\n",
              "       width=\"24px\">\n",
              "    <path d=\"M0 0h24v24H0V0z\" fill=\"none\"/>\n",
              "    <path d=\"M18.56 5.44l.94 2.06.94-2.06 2.06-.94-2.06-.94-.94-2.06-.94 2.06-2.06.94zm-11 1L8.5 8.5l.94-2.06 2.06-.94-2.06-.94L8.5 2.5l-.94 2.06-2.06.94zm10 10l.94 2.06.94-2.06 2.06-.94-2.06-.94-.94-2.06-.94 2.06-2.06.94z\"/><path d=\"M17.41 7.96l-1.37-1.37c-.4-.4-.92-.59-1.43-.59-.52 0-1.04.2-1.43.59L10.3 9.45l-7.72 7.72c-.78.78-.78 2.05 0 2.83L4 21.41c.39.39.9.59 1.41.59.51 0 1.02-.2 1.41-.59l7.78-7.78 2.81-2.81c.8-.78.8-2.07 0-2.86zM5.41 20L4 18.59l7.72-7.72 1.47 1.35L5.41 20z\"/>\n",
              "  </svg>\n",
              "      </button>\n",
              "      \n",
              "  <style>\n",
              "    .colab-df-container {\n",
              "      display:flex;\n",
              "      flex-wrap:wrap;\n",
              "      gap: 12px;\n",
              "    }\n",
              "\n",
              "    .colab-df-convert {\n",
              "      background-color: #E8F0FE;\n",
              "      border: none;\n",
              "      border-radius: 50%;\n",
              "      cursor: pointer;\n",
              "      display: none;\n",
              "      fill: #1967D2;\n",
              "      height: 32px;\n",
              "      padding: 0 0 0 0;\n",
              "      width: 32px;\n",
              "    }\n",
              "\n",
              "    .colab-df-convert:hover {\n",
              "      background-color: #E2EBFA;\n",
              "      box-shadow: 0px 1px 2px rgba(60, 64, 67, 0.3), 0px 1px 3px 1px rgba(60, 64, 67, 0.15);\n",
              "      fill: #174EA6;\n",
              "    }\n",
              "\n",
              "    [theme=dark] .colab-df-convert {\n",
              "      background-color: #3B4455;\n",
              "      fill: #D2E3FC;\n",
              "    }\n",
              "\n",
              "    [theme=dark] .colab-df-convert:hover {\n",
              "      background-color: #434B5C;\n",
              "      box-shadow: 0px 1px 3px 1px rgba(0, 0, 0, 0.15);\n",
              "      filter: drop-shadow(0px 1px 2px rgba(0, 0, 0, 0.3));\n",
              "      fill: #FFFFFF;\n",
              "    }\n",
              "  </style>\n",
              "\n",
              "      <script>\n",
              "        const buttonEl =\n",
              "          document.querySelector('#df-f9e28d06-6dda-41c6-bc90-119b6a69f522 button.colab-df-convert');\n",
              "        buttonEl.style.display =\n",
              "          google.colab.kernel.accessAllowed ? 'block' : 'none';\n",
              "\n",
              "        async function convertToInteractive(key) {\n",
              "          const element = document.querySelector('#df-f9e28d06-6dda-41c6-bc90-119b6a69f522');\n",
              "          const dataTable =\n",
              "            await google.colab.kernel.invokeFunction('convertToInteractive',\n",
              "                                                     [key], {});\n",
              "          if (!dataTable) return;\n",
              "\n",
              "          const docLinkHtml = 'Like what you see? Visit the ' +\n",
              "            '<a target=\"_blank\" href=https://colab.research.google.com/notebooks/data_table.ipynb>data table notebook</a>'\n",
              "            + ' to learn more about interactive tables.';\n",
              "          element.innerHTML = '';\n",
              "          dataTable['output_type'] = 'display_data';\n",
              "          await google.colab.output.renderOutput(dataTable, element);\n",
              "          const docLink = document.createElement('div');\n",
              "          docLink.innerHTML = docLinkHtml;\n",
              "          element.appendChild(docLink);\n",
              "        }\n",
              "      </script>\n",
              "    </div>\n",
              "  </div>\n",
              "  "
            ]
          },
          "metadata": {},
          "execution_count": 47
        }
      ]
    }
  ]
}