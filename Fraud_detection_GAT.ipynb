{
  "cells": [
    {
      "attachments": {},
      "cell_type": "markdown",
      "metadata": {},
      "source": [
        "# NOTE\n",
        "- General Layer - linear,batchnorm,dropout,activation,attention\n",
        "- gnn layer - inital raw x, node embedding h0, ..., node embedding hn"
      ]
    },
    {
      "attachments": {},
      "cell_type": "markdown",
      "metadata": {
        "id": "zLMuhq4yRJzr"
      },
      "source": [
        "# Tutorial: Fraud detection with Graph Attention Networks \n",
        "By Sing Kwan NG and Anthony TAING as part of the Stanford CS224W course project.\n",
        "In this tutorial we will show you the fraud detection use case (for a node classification task) on Bitcoin dataset  by using the first version of GAT model and the GATv2 (Graph Attention Network model version2) .We will implement it by using our customs layers with PyG and the buitin PyG layers. "
      ]
    },
    {
      "attachments": {},
      "cell_type": "markdown",
      "metadata": {
        "id": "lWTFyFVZw1kO"
      },
      "source": [
        "# Setup\n"
      ]
    },
    {
      "cell_type": "code",
      "execution_count": 96,
      "metadata": {
        "colab": {
          "base_uri": "https://localhost:8080/"
        },
        "id": "L4DDt8x8Oba4",
        "outputId": "16056b39-8802-4722-bf20-bb468e52e791"
      },
      "outputs": [
        {
          "name": "stdout",
          "output_type": "stream",
          "text": [
            "The autoreload extension is already loaded. To reload it, use:\n",
            "  %reload_ext autoreload\n"
          ]
        }
      ],
      "source": [
        "# for auto-reloading external modules\n",
        "%load_ext autoreload\n",
        "%autoreload 2"
      ]
    },
    {
      "cell_type": "code",
      "execution_count": 97,
      "metadata": {
        "colab": {
          "base_uri": "https://localhost:8080/"
        },
        "id": "9kjO_pOMKCSo",
        "outputId": "a153e42a-9b55-416f-919b-92744fb61ae3"
      },
      "outputs": [],
      "source": [
        "import os\n",
        "\n",
        "def unzip(location,**kwargs):\n",
        "    import zipfile\n",
        "    with zipfile.ZipFile(location,\"r\") as zip_ref:\n",
        "        zip_ref.extractall(**kwargs)\n",
        "\n",
        "def unzip_data(location):\n",
        "    if not os.path.exists('data'):\n",
        "        os.mkdir('data')\n",
        "    unzip(location,path='data')\n",
        "\n",
        "def is_colab():\n",
        "    import sys\n",
        "    return 'google.colab' in sys.modules\n",
        "\n",
        "def init():\n",
        "    if is_colab():\n",
        "        repo_name = 'deep-learning-note'\n",
        "        if repo_name not in os.listdir():\n",
        "            !git clone https://github.com/taimoon/deep-learning-note\n",
        "        %pip install torch_geometric\n",
        "        torch_cuda_arg = r'https://data.pyg.org/whl/torch-2.0.0+cu118.html'\n",
        "        %pip install pyg_lib torch_scatter torch_sparse torch_cluster torch_spline_conv -f {torch_cuda_arg}\n",
        "        \n",
        "        from google.colab import drive\n",
        "        drive.mount('/content/drive')\n",
        "        unzip('/content/drive/MyDrive/data science project/save_results.zip')\n",
        "        drive_path = '/content/drive/MyDrive/data science project'\n",
        "        unzip_data(drive_path + '/elliptic.zip')\n",
        "\n",
        "# %pip install torch_geometric pyg_lib torch_scatter torch_sparse torch_cluster torch_spline_conv -f https://data.pyg.org/whl/torch-2.0.0+cu118.html\n",
        "\n",
        "FOLDERNAME = \"/content/\" if is_colab() else \"./\"\n",
        "init()\n",
        "DATA_PATH = 'data/elliptic_bitcoin_dataset/'"
      ]
    },
    {
      "attachments": {},
      "cell_type": "markdown",
      "metadata": {
        "id": "Q_j02Aba5eNG"
      },
      "source": [
        "## Load packages"
      ]
    },
    {
      "cell_type": "code",
      "execution_count": 98,
      "metadata": {
        "id": "57DpXDnG1s3Y"
      },
      "outputs": [],
      "source": [
        "import warnings\n",
        "warnings.filterwarnings(\"ignore\")\n",
        "\n",
        "import numpy as np\n",
        "import pandas as pd\n",
        "import matplotlib.pyplot as plt\n",
        "import torch\n",
        "\n",
        "from sklearn.metrics import accuracy_score,f1_score,roc_auc_score, precision_score, recall_score, confusion_matrix\n",
        "from sklearn.model_selection import train_test_split\n",
        "\n",
        "import scipy.sparse as sp"
      ]
    },
    {
      "attachments": {},
      "cell_type": "markdown",
      "metadata": {},
      "source": [
        "# About Dataset"
      ]
    },
    {
      "attachments": {},
      "cell_type": "markdown",
      "metadata": {},
      "source": [
        "## Description\n",
        "The Elliptic Data Set maps Bitcoin transactions to real entities belonging to licit categories (exchanges, wallet providers, miners, licit services, etc.) versus illicit ones (scams, malware, terrorist organizations, ransomware, Ponzi schemes, etc.). The task on the dataset is to classify the illicit and licit nodes in the graph.\n",
        "\n",
        "If you make use of the Elliptic Data Set in your research, please consider citing:\n",
        "\n",
        "[1] Elliptic, www.elliptic.co.\n",
        "[2] M. Weber, G. Domeniconi, J. Chen, D. K. I. Weidele, C. Bellei, T. Robinson, C. E. Leiserson, \"Anti-Money Laundering in Bitcoin: Experimenting with Graph Convolutional Networks for Financial Forensics\", KDD ’19 Workshop on Anomaly Detection in Finance, August 2019, Anchorage, AK, USA.\n",
        "\n",
        "## Content\n",
        "This anonymized data set is a transaction graph collected from the Bitcoin blockchain. A node in the graph represents a transaction, an edge can be viewed as a flow of Bitcoins between one transaction and the other. Each node has 166 features and has been labeled as being created by a \"licit\", \"illicit\" or \"unknown\" entity.\n",
        "\n",
        "## Nodes and edges\n",
        "The graph is made of 203,769 nodes and 234,355 edges. Two percent (4,545) of the nodes are labelled class1 (illicit). Twenty-one percent (42,019) are labelled class2 (licit). The remaining transactions are not labelled with regard to licit versus illicit.\n",
        "\n",
        "## Features\n",
        "There are 166 features associated with each node. Due to intellectual property issues, we cannot provide an exact description of all the features in the dataset. There is a time step associated to each node, representing a measure of the time when a transaction was broadcasted to the Bitcoin network. The time steps, running from 1 to 49, are evenly spaced with an interval of about two weeks. Each time step contains a single connected component of transactions that appeared on the blockchain within less than three hours between each other; there are no edges connecting the different time steps.\n",
        "\n",
        "The first 94 features represent local information about the transaction – including the time step described above, number of inputs/outputs, transaction fee, output volume and aggregated figures such as average BTC received (spent) by the inputs/outputs and average number of incoming (outgoing) transactions associated with the inputs/outputs. The remaining 72 features are aggregated features, obtained using transaction information one-hop backward/forward from the center node - giving the maximum, minimum, standard deviation and correlation coefficients of the neighbour transactions for the same information data (number of inputs/outputs, transaction fee, etc.).\n",
        "\n",
        "## License\n",
        "This data set is distributed under the Creative CommonsAttribution-NonCommercial-NoDerivatives License 4.0 International."
      ]
    },
    {
      "attachments": {},
      "cell_type": "markdown",
      "metadata": {
        "id": "JG_52jrERTM_"
      },
      "source": [
        "# Data ETL"
      ]
    },
    {
      "attachments": {},
      "cell_type": "markdown",
      "metadata": {
        "id": "jniLGaFGRyx7"
      },
      "source": [
        "We have hosted the dataset on Gdrive to the public for convenience for one click download. However, the original data is hosted on kaggle as well. If you want to download data from Kaggle using API(if you already have an account) or get it manually from: https://www.kaggle.com/ellipticco/elliptic-data-set."
      ]
    },
    {
      "cell_type": "code",
      "execution_count": 99,
      "metadata": {
        "id": "7oLt6VonR28x"
      },
      "outputs": [],
      "source": [
        "Download=False\n",
        "if Download:\n",
        "    !gdown --id 1CIFpAquzYBA98gQCdMb92fC0w6yrYf2m\n",
        "    !gdown --id 1Cfh0VIXWTc8EK96WRZdyaqgA2-JwvsUG\n",
        "    !gdown --id 1Cfh8hA9Tl8uCPrLSmcIQI3qCbEjOFl7C\n",
        "    DATA_PATH = FOLDERNAME"
      ]
    },
    {
      "attachments": {},
      "cell_type": "markdown",
      "metadata": {
        "id": "KIomF3GmwLDv"
      },
      "source": [
        "## Load data"
      ]
    },
    {
      "cell_type": "code",
      "execution_count": 100,
      "metadata": {
        "id": "Z_FW_uxL2Dag"
      },
      "outputs": [],
      "source": [
        "# Load data from the folder\n",
        "df_features = pd.read_csv(DATA_PATH+'elliptic_txs_features.csv',header=None)\n",
        "df_edges = pd.read_csv(DATA_PATH+\"elliptic_txs_edgelist.csv\")\n",
        "df_classes =  pd.read_csv(DATA_PATH+\"elliptic_txs_classes.csv\")"
      ]
    },
    {
      "cell_type": "code",
      "execution_count": 101,
      "metadata": {},
      "outputs": [],
      "source": [
        "contain_null = lambda df : df.isnull().any().any()\n",
        "assert(not contain_null(df_features))\n",
        "assert(not contain_null(df_edges))\n",
        "assert(not contain_null(df_classes))"
      ]
    },
    {
      "cell_type": "code",
      "execution_count": 102,
      "metadata": {
        "id": "DNoIdIrQ6BGU"
      },
      "outputs": [],
      "source": [
        "# reformat classes 0:licit, 1:illicit, 2:unknown\n",
        "idx_to_class = ['Licit','Illicit','Unknown']\n",
        "df_classes['class'] = df_classes['class'].map({'unknown': 2, '1':1, '2':0}) "
      ]
    },
    {
      "cell_type": "code",
      "execution_count": 103,
      "metadata": {
        "colab": {
          "base_uri": "https://localhost:8080/",
          "height": 469
        },
        "id": "AUHm-fiwgmM1",
        "outputId": "149a0d4f-3c6f-4bcd-93ca-f3f2600c375b"
      },
      "outputs": [
        {
          "data": {
            "text/plain": [
              "<BarContainer object of 3 artists>"
            ]
          },
          "execution_count": 103,
          "metadata": {},
          "output_type": "execute_result"
        },
        {
          "data": {
            "image/png": "[encoded data removed]",
            "text/plain": [
              "<Figure size 640x480 with 1 Axes>"
            ]
          },
          "metadata": {},
          "output_type": "display_data"
        }
      ],
      "source": [
        "# See repartition of nodes per class\n",
        "group_class = df_classes.groupby('class').count()\n",
        "plt.title(\"# of nodes per class\")\n",
        "plt.barh(idx_to_class, group_class['txId'].values, color=['g', 'orange', 'r'] )"
      ]
    },
    {
      "attachments": {},
      "cell_type": "markdown",
      "metadata": {
        "id": "gN2WP_zbSnCY"
      },
      "source": [
        "## Preview of data features, edges and their labels"
      ]
    },
    {
      "cell_type": "code",
      "execution_count": 104,
      "metadata": {
        "colab": {
          "base_uri": "https://localhost:8080/",
          "height": 299
        },
        "id": "r2mZecSGSmc_",
        "outputId": "943bbf77-08ad-4241-e4a0-1dfe84a2cc7c"
      },
      "outputs": [
        {
          "data": {
            "text/html": [
              "<div>\n",
              "<style scoped>\n",
              "    .dataframe tbody tr th:only-of-type {\n",
              "        vertical-align: middle;\n",
              "    }\n",
              "\n",
              "    .dataframe tbody tr th {\n",
              "        vertical-align: top;\n",
              "    }\n",
              "\n",
              "    .dataframe thead th {\n",
              "        text-align: right;\n",
              "    }\n",
              "</style>\n",
              "<table border=\"1\" class=\"dataframe\">\n",
              "  <thead>\n",
              "    <tr style=\"text-align: right;\">\n",
              "      <th></th>\n",
              "      <th>0</th>\n",
              "      <th>1</th>\n",
              "      <th>2</th>\n",
              "      <th>3</th>\n",
              "      <th>4</th>\n",
              "      <th>5</th>\n",
              "      <th>6</th>\n",
              "      <th>7</th>\n",
              "      <th>8</th>\n",
              "      <th>9</th>\n",
              "      <th>...</th>\n",
              "      <th>157</th>\n",
              "      <th>158</th>\n",
              "      <th>159</th>\n",
              "      <th>160</th>\n",
              "      <th>161</th>\n",
              "      <th>162</th>\n",
              "      <th>163</th>\n",
              "      <th>164</th>\n",
              "      <th>165</th>\n",
              "      <th>166</th>\n",
              "    </tr>\n",
              "  </thead>\n",
              "  <tbody>\n",
              "    <tr>\n",
              "      <th>0</th>\n",
              "      <td>230425980</td>\n",
              "      <td>1</td>\n",
              "      <td>-0.171469</td>\n",
              "      <td>-0.184668</td>\n",
              "      <td>-1.201369</td>\n",
              "      <td>-0.121970</td>\n",
              "      <td>-0.043875</td>\n",
              "      <td>-0.113002</td>\n",
              "      <td>-0.061584</td>\n",
              "      <td>-0.162097</td>\n",
              "      <td>...</td>\n",
              "      <td>-0.562153</td>\n",
              "      <td>-0.600999</td>\n",
              "      <td>1.461330</td>\n",
              "      <td>1.461369</td>\n",
              "      <td>0.018279</td>\n",
              "      <td>-0.087490</td>\n",
              "      <td>-0.131155</td>\n",
              "      <td>-0.097524</td>\n",
              "      <td>-0.120613</td>\n",
              "      <td>-0.119792</td>\n",
              "    </tr>\n",
              "    <tr>\n",
              "      <th>1</th>\n",
              "      <td>5530458</td>\n",
              "      <td>1</td>\n",
              "      <td>-0.171484</td>\n",
              "      <td>-0.184668</td>\n",
              "      <td>-1.201369</td>\n",
              "      <td>-0.121970</td>\n",
              "      <td>-0.043875</td>\n",
              "      <td>-0.113002</td>\n",
              "      <td>-0.061584</td>\n",
              "      <td>-0.162112</td>\n",
              "      <td>...</td>\n",
              "      <td>0.947382</td>\n",
              "      <td>0.673103</td>\n",
              "      <td>-0.979074</td>\n",
              "      <td>-0.978556</td>\n",
              "      <td>0.018279</td>\n",
              "      <td>-0.087490</td>\n",
              "      <td>-0.131155</td>\n",
              "      <td>-0.097524</td>\n",
              "      <td>-0.120613</td>\n",
              "      <td>-0.119792</td>\n",
              "    </tr>\n",
              "    <tr>\n",
              "      <th>2</th>\n",
              "      <td>232022460</td>\n",
              "      <td>1</td>\n",
              "      <td>-0.172107</td>\n",
              "      <td>-0.184668</td>\n",
              "      <td>-1.201369</td>\n",
              "      <td>-0.121970</td>\n",
              "      <td>-0.043875</td>\n",
              "      <td>-0.113002</td>\n",
              "      <td>-0.061584</td>\n",
              "      <td>-0.162749</td>\n",
              "      <td>...</td>\n",
              "      <td>0.670883</td>\n",
              "      <td>0.439728</td>\n",
              "      <td>-0.979074</td>\n",
              "      <td>-0.978556</td>\n",
              "      <td>-0.098889</td>\n",
              "      <td>-0.106715</td>\n",
              "      <td>-0.131155</td>\n",
              "      <td>-0.183671</td>\n",
              "      <td>-0.120613</td>\n",
              "      <td>-0.119792</td>\n",
              "    </tr>\n",
              "    <tr>\n",
              "      <th>3</th>\n",
              "      <td>232438397</td>\n",
              "      <td>1</td>\n",
              "      <td>0.163054</td>\n",
              "      <td>1.963790</td>\n",
              "      <td>-0.646376</td>\n",
              "      <td>12.409294</td>\n",
              "      <td>-0.063725</td>\n",
              "      <td>9.782742</td>\n",
              "      <td>12.414558</td>\n",
              "      <td>-0.163645</td>\n",
              "      <td>...</td>\n",
              "      <td>-0.577099</td>\n",
              "      <td>-0.613614</td>\n",
              "      <td>0.241128</td>\n",
              "      <td>0.241406</td>\n",
              "      <td>1.072793</td>\n",
              "      <td>0.085530</td>\n",
              "      <td>-0.131155</td>\n",
              "      <td>0.677799</td>\n",
              "      <td>-0.120613</td>\n",
              "      <td>-0.119792</td>\n",
              "    </tr>\n",
              "    <tr>\n",
              "      <th>4</th>\n",
              "      <td>230460314</td>\n",
              "      <td>1</td>\n",
              "      <td>1.011523</td>\n",
              "      <td>-0.081127</td>\n",
              "      <td>-1.201369</td>\n",
              "      <td>1.153668</td>\n",
              "      <td>0.333276</td>\n",
              "      <td>1.312656</td>\n",
              "      <td>-0.061584</td>\n",
              "      <td>-0.163523</td>\n",
              "      <td>...</td>\n",
              "      <td>-0.511871</td>\n",
              "      <td>-0.400422</td>\n",
              "      <td>0.517257</td>\n",
              "      <td>0.579382</td>\n",
              "      <td>0.018279</td>\n",
              "      <td>0.277775</td>\n",
              "      <td>0.326394</td>\n",
              "      <td>1.293750</td>\n",
              "      <td>0.178136</td>\n",
              "      <td>0.179117</td>\n",
              "    </tr>\n",
              "  </tbody>\n",
              "</table>\n",
              "<p>5 rows × 167 columns</p>\n",
              "</div>"
            ],
            "text/plain": [
              "         0    1         2         3         4          5         6     \n",
              "0  230425980    1 -0.171469 -0.184668 -1.201369  -0.121970 -0.043875  \\\n",
              "1    5530458    1 -0.171484 -0.184668 -1.201369  -0.121970 -0.043875   \n",
              "2  232022460    1 -0.172107 -0.184668 -1.201369  -0.121970 -0.043875   \n",
              "3  232438397    1  0.163054  1.963790 -0.646376  12.409294 -0.063725   \n",
              "4  230460314    1  1.011523 -0.081127 -1.201369   1.153668  0.333276   \n",
              "\n",
              "        7          8         9    ...       157       158       159       160   \n",
              "0 -0.113002  -0.061584 -0.162097  ... -0.562153 -0.600999  1.461330  1.461369  \\\n",
              "1 -0.113002  -0.061584 -0.162112  ...  0.947382  0.673103 -0.979074 -0.978556   \n",
              "2 -0.113002  -0.061584 -0.162749  ...  0.670883  0.439728 -0.979074 -0.978556   \n",
              "3  9.782742  12.414558 -0.163645  ... -0.577099 -0.613614  0.241128  0.241406   \n",
              "4  1.312656  -0.061584 -0.163523  ... -0.511871 -0.400422  0.517257  0.579382   \n",
              "\n",
              "        161       162       163       164       165       166  \n",
              "0  0.018279 -0.087490 -0.131155 -0.097524 -0.120613 -0.119792  \n",
              "1  0.018279 -0.087490 -0.131155 -0.097524 -0.120613 -0.119792  \n",
              "2 -0.098889 -0.106715 -0.131155 -0.183671 -0.120613 -0.119792  \n",
              "3  1.072793  0.085530 -0.131155  0.677799 -0.120613 -0.119792  \n",
              "4  0.018279  0.277775  0.326394  1.293750  0.178136  0.179117  \n",
              "\n",
              "[5 rows x 167 columns]"
            ]
          },
          "execution_count": 104,
          "metadata": {},
          "output_type": "execute_result"
        }
      ],
      "source": [
        "# View node features\n",
        "# Data is each node is a transaction ID, and edges are a bit weird, but its like a \"previous transaction\" edge type\n",
        "# column 0 = transaction id, column 1 = time step\n",
        "# first 94 = info of transaction\n",
        "# remaining 72 = aggregrated\n",
        "df_features.head()"
      ]
    },
    {
      "cell_type": "code",
      "execution_count": 105,
      "metadata": {},
      "outputs": [
        {
          "data": {
            "text/plain": [
              "<Axes: >"
            ]
          },
          "execution_count": 105,
          "metadata": {},
          "output_type": "execute_result"
        },
        {
          "data": {
            "image/png": "[encoded data removed]",
            "text/plain": [
              "<Figure size 640x480 with 1 Axes>"
            ]
          },
          "metadata": {},
          "output_type": "display_data"
        }
      ],
      "source": [
        "fig,ax= plt.subplots(1,1)\n",
        "fig.suptitle('transaction count vs. time step')\n",
        "df_features[1].hist(ax=ax)"
      ]
    },
    {
      "cell_type": "code",
      "execution_count": 106,
      "metadata": {
        "colab": {
          "base_uri": "https://localhost:8080/",
          "height": 206
        },
        "id": "-f5ZR1oMSqE0",
        "outputId": "7eb7cf48-c4ce-4982-8367-acb927942d39"
      },
      "outputs": [
        {
          "data": {
            "text/html": [
              "<div>\n",
              "<style scoped>\n",
              "    .dataframe tbody tr th:only-of-type {\n",
              "        vertical-align: middle;\n",
              "    }\n",
              "\n",
              "    .dataframe tbody tr th {\n",
              "        vertical-align: top;\n",
              "    }\n",
              "\n",
              "    .dataframe thead th {\n",
              "        text-align: right;\n",
              "    }\n",
              "</style>\n",
              "<table border=\"1\" class=\"dataframe\">\n",
              "  <thead>\n",
              "    <tr style=\"text-align: right;\">\n",
              "      <th></th>\n",
              "      <th>txId1</th>\n",
              "      <th>txId2</th>\n",
              "    </tr>\n",
              "  </thead>\n",
              "  <tbody>\n",
              "    <tr>\n",
              "      <th>0</th>\n",
              "      <td>230425980</td>\n",
              "      <td>5530458</td>\n",
              "    </tr>\n",
              "    <tr>\n",
              "      <th>1</th>\n",
              "      <td>232022460</td>\n",
              "      <td>232438397</td>\n",
              "    </tr>\n",
              "    <tr>\n",
              "      <th>2</th>\n",
              "      <td>230460314</td>\n",
              "      <td>230459870</td>\n",
              "    </tr>\n",
              "    <tr>\n",
              "      <th>3</th>\n",
              "      <td>230333930</td>\n",
              "      <td>230595899</td>\n",
              "    </tr>\n",
              "    <tr>\n",
              "      <th>4</th>\n",
              "      <td>232013274</td>\n",
              "      <td>232029206</td>\n",
              "    </tr>\n",
              "  </tbody>\n",
              "</table>\n",
              "</div>"
            ],
            "text/plain": [
              "       txId1      txId2\n",
              "0  230425980    5530458\n",
              "1  232022460  232438397\n",
              "2  230460314  230459870\n",
              "3  230333930  230595899\n",
              "4  232013274  232029206"
            ]
          },
          "execution_count": 106,
          "metadata": {},
          "output_type": "execute_result"
        }
      ],
      "source": [
        "# See edges\n",
        "df_edges.head()"
      ]
    },
    {
      "cell_type": "code",
      "execution_count": 107,
      "metadata": {
        "colab": {
          "base_uri": "https://localhost:8080/",
          "height": 206
        },
        "id": "0js6IB3ySqRe",
        "outputId": "6ec85605-8c9c-478e-bfe5-e77349d76410"
      },
      "outputs": [
        {
          "data": {
            "text/html": [
              "<div>\n",
              "<style scoped>\n",
              "    .dataframe tbody tr th:only-of-type {\n",
              "        vertical-align: middle;\n",
              "    }\n",
              "\n",
              "    .dataframe tbody tr th {\n",
              "        vertical-align: top;\n",
              "    }\n",
              "\n",
              "    .dataframe thead th {\n",
              "        text-align: right;\n",
              "    }\n",
              "</style>\n",
              "<table border=\"1\" class=\"dataframe\">\n",
              "  <thead>\n",
              "    <tr style=\"text-align: right;\">\n",
              "      <th></th>\n",
              "      <th>txId</th>\n",
              "      <th>class</th>\n",
              "    </tr>\n",
              "  </thead>\n",
              "  <tbody>\n",
              "    <tr>\n",
              "      <th>0</th>\n",
              "      <td>230425980</td>\n",
              "      <td>2</td>\n",
              "    </tr>\n",
              "    <tr>\n",
              "      <th>1</th>\n",
              "      <td>5530458</td>\n",
              "      <td>2</td>\n",
              "    </tr>\n",
              "    <tr>\n",
              "      <th>2</th>\n",
              "      <td>232022460</td>\n",
              "      <td>2</td>\n",
              "    </tr>\n",
              "    <tr>\n",
              "      <th>3</th>\n",
              "      <td>232438397</td>\n",
              "      <td>0</td>\n",
              "    </tr>\n",
              "    <tr>\n",
              "      <th>4</th>\n",
              "      <td>230460314</td>\n",
              "      <td>2</td>\n",
              "    </tr>\n",
              "  </tbody>\n",
              "</table>\n",
              "</div>"
            ],
            "text/plain": [
              "        txId  class\n",
              "0  230425980      2\n",
              "1    5530458      2\n",
              "2  232022460      2\n",
              "3  232438397      0\n",
              "4  230460314      2"
            ]
          },
          "execution_count": 107,
          "metadata": {},
          "output_type": "execute_result"
        }
      ],
      "source": [
        "# See classes\n",
        "df_classes.head()"
      ]
    },
    {
      "cell_type": "code",
      "execution_count": 108,
      "metadata": {},
      "outputs": [
        {
          "data": {
            "text/html": [
              "<div>\n",
              "<style scoped>\n",
              "    .dataframe tbody tr th:only-of-type {\n",
              "        vertical-align: middle;\n",
              "    }\n",
              "\n",
              "    .dataframe tbody tr th {\n",
              "        vertical-align: top;\n",
              "    }\n",
              "\n",
              "    .dataframe thead th {\n",
              "        text-align: right;\n",
              "    }\n",
              "</style>\n",
              "<table border=\"1\" class=\"dataframe\">\n",
              "  <thead>\n",
              "    <tr style=\"text-align: right;\">\n",
              "      <th></th>\n",
              "      <th>txId1</th>\n",
              "      <th>txId2</th>\n",
              "      <th>txId</th>\n",
              "      <th>class</th>\n",
              "      <th>0</th>\n",
              "      <th>1</th>\n",
              "      <th>2</th>\n",
              "      <th>3</th>\n",
              "      <th>4</th>\n",
              "      <th>5</th>\n",
              "      <th>...</th>\n",
              "      <th>157</th>\n",
              "      <th>158</th>\n",
              "      <th>159</th>\n",
              "      <th>160</th>\n",
              "      <th>161</th>\n",
              "      <th>162</th>\n",
              "      <th>163</th>\n",
              "      <th>164</th>\n",
              "      <th>165</th>\n",
              "      <th>166</th>\n",
              "    </tr>\n",
              "  </thead>\n",
              "  <tbody>\n",
              "    <tr>\n",
              "      <th>0</th>\n",
              "      <td>1076</td>\n",
              "      <td>10254</td>\n",
              "      <td>1076</td>\n",
              "      <td>2</td>\n",
              "      <td>1076</td>\n",
              "      <td>48</td>\n",
              "      <td>-0.168500</td>\n",
              "      <td>0.270909</td>\n",
              "      <td>-0.091383</td>\n",
              "      <td>-0.046932</td>\n",
              "      <td>...</td>\n",
              "      <td>0.073047</td>\n",
              "      <td>-0.039637</td>\n",
              "      <td>1.461330</td>\n",
              "      <td>1.461369</td>\n",
              "      <td>0.018279</td>\n",
              "      <td>0.470019</td>\n",
              "      <td>1.216796</td>\n",
              "      <td>1.151607</td>\n",
              "      <td>1.519700</td>\n",
              "      <td>1.521399</td>\n",
              "    </tr>\n",
              "    <tr>\n",
              "      <th>1</th>\n",
              "      <td>2534</td>\n",
              "      <td>121674867</td>\n",
              "      <td>2534</td>\n",
              "      <td>0</td>\n",
              "      <td>2534</td>\n",
              "      <td>6</td>\n",
              "      <td>-0.170834</td>\n",
              "      <td>-0.131425</td>\n",
              "      <td>1.018602</td>\n",
              "      <td>0.028105</td>\n",
              "      <td>...</td>\n",
              "      <td>1.228858</td>\n",
              "      <td>0.379357</td>\n",
              "      <td>0.955101</td>\n",
              "      <td>0.459257</td>\n",
              "      <td>-0.098889</td>\n",
              "      <td>-0.087490</td>\n",
              "      <td>-0.099080</td>\n",
              "      <td>-0.122137</td>\n",
              "      <td>-0.379970</td>\n",
              "      <td>-0.379288</td>\n",
              "    </tr>\n",
              "    <tr>\n",
              "      <th>2</th>\n",
              "      <td>2534</td>\n",
              "      <td>121654946</td>\n",
              "      <td>2534</td>\n",
              "      <td>0</td>\n",
              "      <td>2534</td>\n",
              "      <td>6</td>\n",
              "      <td>-0.170834</td>\n",
              "      <td>-0.131425</td>\n",
              "      <td>1.018602</td>\n",
              "      <td>0.028105</td>\n",
              "      <td>...</td>\n",
              "      <td>1.228858</td>\n",
              "      <td>0.379357</td>\n",
              "      <td>0.955101</td>\n",
              "      <td>0.459257</td>\n",
              "      <td>-0.098889</td>\n",
              "      <td>-0.087490</td>\n",
              "      <td>-0.099080</td>\n",
              "      <td>-0.122137</td>\n",
              "      <td>-0.379970</td>\n",
              "      <td>-0.379288</td>\n",
              "    </tr>\n",
              "    <tr>\n",
              "      <th>3</th>\n",
              "      <td>2534</td>\n",
              "      <td>8939825</td>\n",
              "      <td>2534</td>\n",
              "      <td>0</td>\n",
              "      <td>2534</td>\n",
              "      <td>6</td>\n",
              "      <td>-0.170834</td>\n",
              "      <td>-0.131425</td>\n",
              "      <td>1.018602</td>\n",
              "      <td>0.028105</td>\n",
              "      <td>...</td>\n",
              "      <td>1.228858</td>\n",
              "      <td>0.379357</td>\n",
              "      <td>0.955101</td>\n",
              "      <td>0.459257</td>\n",
              "      <td>-0.098889</td>\n",
              "      <td>-0.087490</td>\n",
              "      <td>-0.099080</td>\n",
              "      <td>-0.122137</td>\n",
              "      <td>-0.379970</td>\n",
              "      <td>-0.379288</td>\n",
              "    </tr>\n",
              "    <tr>\n",
              "      <th>4</th>\n",
              "      <td>3181</td>\n",
              "      <td>210017768</td>\n",
              "      <td>3181</td>\n",
              "      <td>0</td>\n",
              "      <td>3181</td>\n",
              "      <td>34</td>\n",
              "      <td>1.305212</td>\n",
              "      <td>-0.210553</td>\n",
              "      <td>-1.756361</td>\n",
              "      <td>-0.121970</td>\n",
              "      <td>...</td>\n",
              "      <td>1.348450</td>\n",
              "      <td>1.590664</td>\n",
              "      <td>0.059948</td>\n",
              "      <td>0.113967</td>\n",
              "      <td>-0.098889</td>\n",
              "      <td>1.969527</td>\n",
              "      <td>0.037532</td>\n",
              "      <td>-0.131010</td>\n",
              "      <td>0.006994</td>\n",
              "      <td>0.017772</td>\n",
              "    </tr>\n",
              "  </tbody>\n",
              "</table>\n",
              "<p>5 rows × 171 columns</p>\n",
              "</div>"
            ],
            "text/plain": [
              "   txId1      txId2  txId  class     0   1         2         3         4   \n",
              "0   1076      10254  1076      2  1076  48 -0.168500  0.270909 -0.091383  \\\n",
              "1   2534  121674867  2534      0  2534   6 -0.170834 -0.131425  1.018602   \n",
              "2   2534  121654946  2534      0  2534   6 -0.170834 -0.131425  1.018602   \n",
              "3   2534    8939825  2534      0  2534   6 -0.170834 -0.131425  1.018602   \n",
              "4   3181  210017768  3181      0  3181  34  1.305212 -0.210553 -1.756361   \n",
              "\n",
              "          5  ...       157       158       159       160       161       162   \n",
              "0 -0.046932  ...  0.073047 -0.039637  1.461330  1.461369  0.018279  0.470019  \\\n",
              "1  0.028105  ...  1.228858  0.379357  0.955101  0.459257 -0.098889 -0.087490   \n",
              "2  0.028105  ...  1.228858  0.379357  0.955101  0.459257 -0.098889 -0.087490   \n",
              "3  0.028105  ...  1.228858  0.379357  0.955101  0.459257 -0.098889 -0.087490   \n",
              "4 -0.121970  ...  1.348450  1.590664  0.059948  0.113967 -0.098889  1.969527   \n",
              "\n",
              "        163       164       165       166  \n",
              "0  1.216796  1.151607  1.519700  1.521399  \n",
              "1 -0.099080 -0.122137 -0.379970 -0.379288  \n",
              "2 -0.099080 -0.122137 -0.379970 -0.379288  \n",
              "3 -0.099080 -0.122137 -0.379970 -0.379288  \n",
              "4  0.037532 -0.131010  0.006994  0.017772  \n",
              "\n",
              "[5 rows x 171 columns]"
            ]
          },
          "execution_count": 108,
          "metadata": {},
          "output_type": "execute_result"
        }
      ],
      "source": [
        "# Merge features with classes\n",
        "df_merge = df_edges.merge(df_classes,how='left',left_on='txId1',right_on='txId')\n",
        "df_merge = df_merge.merge(df_features, how='left', left_on='txId', right_on=0)\n",
        "df_merge = df_merge.sort_values(0).reset_index(drop=True)\n",
        "df_merge.head()"
      ]
    },
    {
      "attachments": {},
      "cell_type": "markdown",
      "metadata": {},
      "source": [
        "# Data ETL"
      ]
    },
    {
      "attachments": {},
      "cell_type": "markdown",
      "metadata": {
        "id": "dC7sVwUoRX3g"
      },
      "source": [
        "## Merge dataset"
      ]
    },
    {
      "cell_type": "code",
      "execution_count": 109,
      "metadata": {
        "colab": {
          "base_uri": "https://localhost:8080/",
          "height": 299
        },
        "id": "iBYoyWM32JFQ",
        "outputId": "bfe3ce2c-0e54-485e-8909-04e89182d960"
      },
      "outputs": [
        {
          "data": {
            "text/html": [
              "<div>\n",
              "<style scoped>\n",
              "    .dataframe tbody tr th:only-of-type {\n",
              "        vertical-align: middle;\n",
              "    }\n",
              "\n",
              "    .dataframe tbody tr th {\n",
              "        vertical-align: top;\n",
              "    }\n",
              "\n",
              "    .dataframe thead th {\n",
              "        text-align: right;\n",
              "    }\n",
              "</style>\n",
              "<table border=\"1\" class=\"dataframe\">\n",
              "  <thead>\n",
              "    <tr style=\"text-align: right;\">\n",
              "      <th></th>\n",
              "      <th>0</th>\n",
              "      <th>1</th>\n",
              "      <th>2</th>\n",
              "      <th>3</th>\n",
              "      <th>4</th>\n",
              "      <th>5</th>\n",
              "      <th>6</th>\n",
              "      <th>7</th>\n",
              "      <th>8</th>\n",
              "      <th>9</th>\n",
              "      <th>...</th>\n",
              "      <th>159</th>\n",
              "      <th>160</th>\n",
              "      <th>161</th>\n",
              "      <th>162</th>\n",
              "      <th>163</th>\n",
              "      <th>164</th>\n",
              "      <th>165</th>\n",
              "      <th>166</th>\n",
              "      <th>txId</th>\n",
              "      <th>class</th>\n",
              "    </tr>\n",
              "  </thead>\n",
              "  <tbody>\n",
              "    <tr>\n",
              "      <th>0</th>\n",
              "      <td>1076</td>\n",
              "      <td>48</td>\n",
              "      <td>-0.168500</td>\n",
              "      <td>0.270909</td>\n",
              "      <td>-0.091383</td>\n",
              "      <td>-0.046932</td>\n",
              "      <td>-0.043875</td>\n",
              "      <td>-0.029140</td>\n",
              "      <td>-0.061584</td>\n",
              "      <td>-0.163591</td>\n",
              "      <td>...</td>\n",
              "      <td>1.461330</td>\n",
              "      <td>1.461369</td>\n",
              "      <td>0.018279</td>\n",
              "      <td>0.470019</td>\n",
              "      <td>1.216796</td>\n",
              "      <td>1.151607</td>\n",
              "      <td>1.519700</td>\n",
              "      <td>1.521399</td>\n",
              "      <td>1076</td>\n",
              "      <td>2</td>\n",
              "    </tr>\n",
              "    <tr>\n",
              "      <th>1</th>\n",
              "      <td>2534</td>\n",
              "      <td>6</td>\n",
              "      <td>-0.170834</td>\n",
              "      <td>-0.131425</td>\n",
              "      <td>1.018602</td>\n",
              "      <td>0.028105</td>\n",
              "      <td>0.055376</td>\n",
              "      <td>0.054722</td>\n",
              "      <td>-0.061584</td>\n",
              "      <td>-0.163572</td>\n",
              "      <td>...</td>\n",
              "      <td>0.955101</td>\n",
              "      <td>0.459257</td>\n",
              "      <td>-0.098889</td>\n",
              "      <td>-0.087490</td>\n",
              "      <td>-0.099080</td>\n",
              "      <td>-0.122137</td>\n",
              "      <td>-0.379970</td>\n",
              "      <td>-0.379288</td>\n",
              "      <td>2534</td>\n",
              "      <td>0</td>\n",
              "    </tr>\n",
              "    <tr>\n",
              "      <th>2</th>\n",
              "      <td>3181</td>\n",
              "      <td>34</td>\n",
              "      <td>1.305212</td>\n",
              "      <td>-0.210553</td>\n",
              "      <td>-1.756361</td>\n",
              "      <td>-0.121970</td>\n",
              "      <td>97.300650</td>\n",
              "      <td>-0.113002</td>\n",
              "      <td>-0.061584</td>\n",
              "      <td>1.348765</td>\n",
              "      <td>...</td>\n",
              "      <td>0.059948</td>\n",
              "      <td>0.113967</td>\n",
              "      <td>-0.098889</td>\n",
              "      <td>1.969527</td>\n",
              "      <td>0.037532</td>\n",
              "      <td>-0.131010</td>\n",
              "      <td>0.006994</td>\n",
              "      <td>0.017772</td>\n",
              "      <td>3181</td>\n",
              "      <td>0</td>\n",
              "    </tr>\n",
              "    <tr>\n",
              "      <th>3</th>\n",
              "      <td>3321</td>\n",
              "      <td>1</td>\n",
              "      <td>-0.169615</td>\n",
              "      <td>-0.184668</td>\n",
              "      <td>-1.201369</td>\n",
              "      <td>-0.121970</td>\n",
              "      <td>-0.043875</td>\n",
              "      <td>-0.113002</td>\n",
              "      <td>-0.061584</td>\n",
              "      <td>-0.160199</td>\n",
              "      <td>...</td>\n",
              "      <td>0.241128</td>\n",
              "      <td>0.241406</td>\n",
              "      <td>-0.098889</td>\n",
              "      <td>-0.087490</td>\n",
              "      <td>-0.084674</td>\n",
              "      <td>-0.140597</td>\n",
              "      <td>1.519700</td>\n",
              "      <td>1.521399</td>\n",
              "      <td>3321</td>\n",
              "      <td>2</td>\n",
              "    </tr>\n",
              "    <tr>\n",
              "      <th>4</th>\n",
              "      <td>3889</td>\n",
              "      <td>48</td>\n",
              "      <td>-0.086232</td>\n",
              "      <td>-0.101835</td>\n",
              "      <td>-0.646376</td>\n",
              "      <td>-0.121970</td>\n",
              "      <td>17.046997</td>\n",
              "      <td>-0.113002</td>\n",
              "      <td>-0.061584</td>\n",
              "      <td>-0.074885</td>\n",
              "      <td>...</td>\n",
              "      <td>0.082065</td>\n",
              "      <td>0.114773</td>\n",
              "      <td>-0.098889</td>\n",
              "      <td>8.948005</td>\n",
              "      <td>1.024948</td>\n",
              "      <td>-0.009570</td>\n",
              "      <td>-0.080708</td>\n",
              "      <td>-0.123601</td>\n",
              "      <td>3889</td>\n",
              "      <td>2</td>\n",
              "    </tr>\n",
              "  </tbody>\n",
              "</table>\n",
              "<p>5 rows × 169 columns</p>\n",
              "</div>"
            ],
            "text/plain": [
              "      0   1         2         3         4         5          6         7   \n",
              "0  1076  48 -0.168500  0.270909 -0.091383 -0.046932  -0.043875 -0.029140  \\\n",
              "1  2534   6 -0.170834 -0.131425  1.018602  0.028105   0.055376  0.054722   \n",
              "2  3181  34  1.305212 -0.210553 -1.756361 -0.121970  97.300650 -0.113002   \n",
              "3  3321   1 -0.169615 -0.184668 -1.201369 -0.121970  -0.043875 -0.113002   \n",
              "4  3889  48 -0.086232 -0.101835 -0.646376 -0.121970  17.046997 -0.113002   \n",
              "\n",
              "          8         9  ...       159       160       161       162       163   \n",
              "0 -0.061584 -0.163591  ...  1.461330  1.461369  0.018279  0.470019  1.216796  \\\n",
              "1 -0.061584 -0.163572  ...  0.955101  0.459257 -0.098889 -0.087490 -0.099080   \n",
              "2 -0.061584  1.348765  ...  0.059948  0.113967 -0.098889  1.969527  0.037532   \n",
              "3 -0.061584 -0.160199  ...  0.241128  0.241406 -0.098889 -0.087490 -0.084674   \n",
              "4 -0.061584 -0.074885  ...  0.082065  0.114773 -0.098889  8.948005  1.024948   \n",
              "\n",
              "        164       165       166  txId  class  \n",
              "0  1.151607  1.519700  1.521399  1076      2  \n",
              "1 -0.122137 -0.379970 -0.379288  2534      0  \n",
              "2 -0.131010  0.006994  0.017772  3181      0  \n",
              "3 -0.140597  1.519700  1.521399  3321      2  \n",
              "4 -0.009570 -0.080708 -0.123601  3889      2  \n",
              "\n",
              "[5 rows x 169 columns]"
            ]
          },
          "execution_count": 109,
          "metadata": {},
          "output_type": "execute_result"
        }
      ],
      "source": [
        "# Merge features with classes\n",
        "df_merge = df_features.merge(df_classes, how='left', left_on=0, right_on=\"txId\")\n",
        "df_merge = df_merge.sort_values(0).reset_index(drop=True) # important, don't modify sort\n",
        "df_merge.head()"
      ]
    },
    {
      "attachments": {},
      "cell_type": "markdown",
      "metadata": {
        "id": "o31_vKYtRur_"
      },
      "source": [
        "## Edge Index: Map trans IDs to Node IDs"
      ]
    },
    {
      "attachments": {},
      "cell_type": "markdown",
      "metadata": {
        "id": "t-d1wHSH71Ol"
      },
      "source": [
        "We map all nodes to indices, and filter edges data by mapping txid1 and txid2 with the indices. We convert it to tensors, and initialize a weight tensor with the same length of the edge index and with values 1."
      ]
    },
    {
      "cell_type": "code",
      "execution_count": 110,
      "metadata": {
        "colab": {
          "base_uri": "https://localhost:8080/"
        },
        "id": "LMM7lBiU2I6F",
        "outputId": "0bd12b19-881b-4a8f-d874-2ee5d3473277"
      },
      "outputs": [
        {
          "name": "stdout",
          "output_type": "stream",
          "text": [
            "shape of edge index is torch.Size([2, 234355])\n"
          ]
        },
        {
          "data": {
            "text/plain": [
              "tensor([[138670, 141325, 139232,  ..., 100420,  54833, 101159],\n",
              "        [  4142, 142201, 139223,  ..., 100419,  81951, 101163]])"
            ]
          },
          "execution_count": 110,
          "metadata": {},
          "output_type": "execute_result"
        }
      ],
      "source": [
        "# Setup trans ID to node ID mapping\n",
        "NODE_ID_COL = 0\n",
        "nodes = df_merge[NODE_ID_COL].values\n",
        "\n",
        "# mapping nodes to indexes\n",
        "node_to_id = {j:i for i,j in enumerate(nodes)}\n",
        "\n",
        "# Create edge df that has transID mapped to nodeIDs\n",
        "edges = df_edges.copy()\n",
        "edges.txId1 = edges.txId1.map(node_to_id)\n",
        "edges.txId2 = edges.txId2.map(node_to_id)\n",
        "edge_index = torch.tensor(edges.values.astype(int)).T.long().contiguous() # create a tensor\n",
        "\n",
        "# set all edge weights to be 1\n",
        "weights = torch.tensor([1] * edge_index.shape[1] , dtype=torch.double) \n",
        "\n",
        "print(f\"shape of edge index is {edge_index.shape}\")\n",
        "edge_index"
      ]
    },
    {
      "attachments": {},
      "cell_type": "markdown",
      "metadata": {
        "id": "kqNLIgEqEHEA"
      },
      "source": [
        "## Labels"
      ]
    },
    {
      "cell_type": "code",
      "execution_count": 111,
      "metadata": {
        "colab": {
          "base_uri": "https://localhost:8080/"
        },
        "id": "lnF3kGx-EKYw",
        "outputId": "1caf8ab8-3c2b-4ce0-b995-516beec8d30c"
      },
      "outputs": [
        {
          "name": "stdout",
          "output_type": "stream",
          "text": [
            "labels [0 1 2]\n"
          ]
        },
        {
          "data": {
            "text/plain": [
              "array([2, 0, 0, ..., 2, 2, 2], dtype=int64)"
            ]
          },
          "execution_count": 111,
          "metadata": {},
          "output_type": "execute_result"
        }
      ],
      "source": [
        "# Define labels\n",
        "labels = df_merge['class'].values\n",
        "print(\"labels\", np.unique(labels))\n",
        "labels"
      ]
    },
    {
      "attachments": {},
      "cell_type": "markdown",
      "metadata": {
        "id": "zHve9OSSBZoC"
      },
      "source": [
        "## Node Features"
      ]
    },
    {
      "cell_type": "code",
      "execution_count": 134,
      "metadata": {
        "colab": {
          "base_uri": "https://localhost:8080/"
        },
        "id": "_2-UAkL-BeYJ",
        "outputId": "47bd8070-c1a0-43a3-bbf6-7a9a53da6c02"
      },
      "outputs": [
        {
          "name": "stdout",
          "output_type": "stream",
          "text": [
            "unique= [2 0 1]\n"
          ]
        },
        {
          "data": {
            "text/plain": [
              "tensor([[-0.1685,  0.2709, -0.0914,  ...,  1.1516,  1.5197,  1.5214],\n",
              "        [-0.1708, -0.1314,  1.0186,  ..., -0.1221, -0.3800, -0.3793],\n",
              "        [ 1.3052, -0.2106, -1.7564,  ..., -0.1310,  0.0070,  0.0178],\n",
              "        ...,\n",
              "        [-0.1727, -0.1588, -1.2014,  ..., -0.2698, -0.1206, -0.1198],\n",
              "        [-0.1727, -0.1588, -1.2014,  ..., -0.2698, -0.1206, -0.1198],\n",
              "        [-0.1433, -0.1588, -1.2014,  ..., -0.0975, -0.1206, -0.1198]],\n",
              "       dtype=torch.float64)"
            ]
          },
          "execution_count": 134,
          "metadata": {},
          "output_type": "execute_result"
        }
      ],
      "source": [
        "# mapping txIds to corresponding indices, to pass node features to the model\n",
        "node_features = df_merge.drop(['txId'], axis=1).copy()\n",
        "transID_to_nodeID = lambda: node_features[0].map(node_to_id)\n",
        "node_features[0] = transID_to_nodeID()\n",
        "print(\"unique=\",node_features[\"class\"].unique())\n",
        "\n",
        "# Retain known vs unknown ID\n",
        "classified_idx = node_features['class'][node_features['class']!=2].index\n",
        "unclassified_idx = node_features['class'][node_features['class']==2].index\n",
        "\n",
        "classified_illicit_idx = node_features['class'][node_features['class']==1].index\n",
        "classified_licit_idx = node_features['class'][node_features['class']==0].index\n",
        "\n",
        "transID, time_col = 0,1\n",
        "node_features = node_features.drop(columns=[transID, time_col, 'class'])\n",
        "\n",
        "\n",
        "node_features_t = torch.tensor(np.array(node_features.values, dtype=np.double), dtype=torch.double)\n",
        "node_features_t"
      ]
    },
    {
      "cell_type": "code",
      "execution_count": 34,
      "metadata": {
        "colab": {
          "base_uri": "https://localhost:8080/",
          "height": 487
        },
        "id": "kPA-3xJC8sr6",
        "outputId": "bd9bf4fe-18c1-4d53-f3e6-7c4c16d064cf"
      },
      "outputs": [
        {
          "data": {
            "text/html": [
              "<div>\n",
              "<style scoped>\n",
              "    .dataframe tbody tr th:only-of-type {\n",
              "        vertical-align: middle;\n",
              "    }\n",
              "\n",
              "    .dataframe tbody tr th {\n",
              "        vertical-align: top;\n",
              "    }\n",
              "\n",
              "    .dataframe thead th {\n",
              "        text-align: right;\n",
              "    }\n",
              "</style>\n",
              "<table border=\"1\" class=\"dataframe\">\n",
              "  <thead>\n",
              "    <tr style=\"text-align: right;\">\n",
              "      <th></th>\n",
              "      <th>2</th>\n",
              "      <th>3</th>\n",
              "      <th>4</th>\n",
              "      <th>5</th>\n",
              "      <th>6</th>\n",
              "      <th>7</th>\n",
              "      <th>8</th>\n",
              "      <th>9</th>\n",
              "      <th>10</th>\n",
              "      <th>11</th>\n",
              "      <th>...</th>\n",
              "      <th>157</th>\n",
              "      <th>158</th>\n",
              "      <th>159</th>\n",
              "      <th>160</th>\n",
              "      <th>161</th>\n",
              "      <th>162</th>\n",
              "      <th>163</th>\n",
              "      <th>164</th>\n",
              "      <th>165</th>\n",
              "      <th>166</th>\n",
              "    </tr>\n",
              "  </thead>\n",
              "  <tbody>\n",
              "    <tr>\n",
              "      <th>0</th>\n",
              "      <td>-0.168500</td>\n",
              "      <td>0.270909</td>\n",
              "      <td>-0.091383</td>\n",
              "      <td>-0.046932</td>\n",
              "      <td>-0.043875</td>\n",
              "      <td>-0.029140</td>\n",
              "      <td>-0.061584</td>\n",
              "      <td>-0.163591</td>\n",
              "      <td>-0.164980</td>\n",
              "      <td>-0.009283</td>\n",
              "      <td>...</td>\n",
              "      <td>0.073047</td>\n",
              "      <td>-0.039637</td>\n",
              "      <td>1.461330</td>\n",
              "      <td>1.461369</td>\n",
              "      <td>0.018279</td>\n",
              "      <td>0.470019</td>\n",
              "      <td>1.216796</td>\n",
              "      <td>1.151607</td>\n",
              "      <td>1.519700</td>\n",
              "      <td>1.521399</td>\n",
              "    </tr>\n",
              "    <tr>\n",
              "      <th>1</th>\n",
              "      <td>-0.170834</td>\n",
              "      <td>-0.131425</td>\n",
              "      <td>1.018602</td>\n",
              "      <td>0.028105</td>\n",
              "      <td>0.055376</td>\n",
              "      <td>0.054722</td>\n",
              "      <td>-0.061584</td>\n",
              "      <td>-0.163572</td>\n",
              "      <td>-0.167757</td>\n",
              "      <td>-0.038545</td>\n",
              "      <td>...</td>\n",
              "      <td>1.228858</td>\n",
              "      <td>0.379357</td>\n",
              "      <td>0.955101</td>\n",
              "      <td>0.459257</td>\n",
              "      <td>-0.098889</td>\n",
              "      <td>-0.087490</td>\n",
              "      <td>-0.099080</td>\n",
              "      <td>-0.122137</td>\n",
              "      <td>-0.379970</td>\n",
              "      <td>-0.379288</td>\n",
              "    </tr>\n",
              "    <tr>\n",
              "      <th>2</th>\n",
              "      <td>1.305212</td>\n",
              "      <td>-0.210553</td>\n",
              "      <td>-1.756361</td>\n",
              "      <td>-0.121970</td>\n",
              "      <td>97.300650</td>\n",
              "      <td>-0.113002</td>\n",
              "      <td>-0.061584</td>\n",
              "      <td>1.348765</td>\n",
              "      <td>1.321754</td>\n",
              "      <td>-0.049707</td>\n",
              "      <td>...</td>\n",
              "      <td>1.348450</td>\n",
              "      <td>1.590664</td>\n",
              "      <td>0.059948</td>\n",
              "      <td>0.113967</td>\n",
              "      <td>-0.098889</td>\n",
              "      <td>1.969527</td>\n",
              "      <td>0.037532</td>\n",
              "      <td>-0.131010</td>\n",
              "      <td>0.006994</td>\n",
              "      <td>0.017772</td>\n",
              "    </tr>\n",
              "    <tr>\n",
              "      <th>3</th>\n",
              "      <td>-0.169615</td>\n",
              "      <td>-0.184668</td>\n",
              "      <td>-1.201369</td>\n",
              "      <td>-0.121970</td>\n",
              "      <td>-0.043875</td>\n",
              "      <td>-0.113002</td>\n",
              "      <td>-0.061584</td>\n",
              "      <td>-0.160199</td>\n",
              "      <td>-0.166062</td>\n",
              "      <td>-0.049707</td>\n",
              "      <td>...</td>\n",
              "      <td>-0.577099</td>\n",
              "      <td>-0.500080</td>\n",
              "      <td>0.241128</td>\n",
              "      <td>0.241406</td>\n",
              "      <td>-0.098889</td>\n",
              "      <td>-0.087490</td>\n",
              "      <td>-0.084674</td>\n",
              "      <td>-0.140597</td>\n",
              "      <td>1.519700</td>\n",
              "      <td>1.521399</td>\n",
              "    </tr>\n",
              "    <tr>\n",
              "      <th>4</th>\n",
              "      <td>-0.086232</td>\n",
              "      <td>-0.101835</td>\n",
              "      <td>-0.646376</td>\n",
              "      <td>-0.121970</td>\n",
              "      <td>17.046997</td>\n",
              "      <td>-0.113002</td>\n",
              "      <td>-0.061584</td>\n",
              "      <td>-0.074885</td>\n",
              "      <td>-0.081943</td>\n",
              "      <td>-0.049707</td>\n",
              "      <td>...</td>\n",
              "      <td>0.501062</td>\n",
              "      <td>0.362510</td>\n",
              "      <td>0.082065</td>\n",
              "      <td>0.114773</td>\n",
              "      <td>-0.098889</td>\n",
              "      <td>8.948005</td>\n",
              "      <td>1.024948</td>\n",
              "      <td>-0.009570</td>\n",
              "      <td>-0.080708</td>\n",
              "      <td>-0.123601</td>\n",
              "    </tr>\n",
              "    <tr>\n",
              "      <th>...</th>\n",
              "      <td>...</td>\n",
              "      <td>...</td>\n",
              "      <td>...</td>\n",
              "      <td>...</td>\n",
              "      <td>...</td>\n",
              "      <td>...</td>\n",
              "      <td>...</td>\n",
              "      <td>...</td>\n",
              "      <td>...</td>\n",
              "      <td>...</td>\n",
              "      <td>...</td>\n",
              "      <td>...</td>\n",
              "      <td>...</td>\n",
              "      <td>...</td>\n",
              "      <td>...</td>\n",
              "      <td>...</td>\n",
              "      <td>...</td>\n",
              "      <td>...</td>\n",
              "      <td>...</td>\n",
              "      <td>...</td>\n",
              "      <td>...</td>\n",
              "    </tr>\n",
              "    <tr>\n",
              "      <th>203764</th>\n",
              "      <td>-0.172978</td>\n",
              "      <td>-0.172527</td>\n",
              "      <td>0.463609</td>\n",
              "      <td>-0.121970</td>\n",
              "      <td>-0.043875</td>\n",
              "      <td>-0.113002</td>\n",
              "      <td>-0.061584</td>\n",
              "      <td>-0.163640</td>\n",
              "      <td>-0.169455</td>\n",
              "      <td>-0.049707</td>\n",
              "      <td>...</td>\n",
              "      <td>-0.577099</td>\n",
              "      <td>-0.600999</td>\n",
              "      <td>0.241128</td>\n",
              "      <td>0.241406</td>\n",
              "      <td>0.018279</td>\n",
              "      <td>-0.087490</td>\n",
              "      <td>-0.131155</td>\n",
              "      <td>-0.097524</td>\n",
              "      <td>-0.120613</td>\n",
              "      <td>-0.119792</td>\n",
              "    </tr>\n",
              "    <tr>\n",
              "      <th>203765</th>\n",
              "      <td>-0.172669</td>\n",
              "      <td>-0.158783</td>\n",
              "      <td>-1.201369</td>\n",
              "      <td>-0.121970</td>\n",
              "      <td>-0.063725</td>\n",
              "      <td>-0.113002</td>\n",
              "      <td>-0.061584</td>\n",
              "      <td>-0.163323</td>\n",
              "      <td>-0.169142</td>\n",
              "      <td>-0.049707</td>\n",
              "      <td>...</td>\n",
              "      <td>-0.577099</td>\n",
              "      <td>-0.626229</td>\n",
              "      <td>0.241128</td>\n",
              "      <td>0.241406</td>\n",
              "      <td>-0.216057</td>\n",
              "      <td>-0.125939</td>\n",
              "      <td>-0.131155</td>\n",
              "      <td>-0.269818</td>\n",
              "      <td>-0.120613</td>\n",
              "      <td>-0.119792</td>\n",
              "    </tr>\n",
              "    <tr>\n",
              "      <th>203766</th>\n",
              "      <td>-0.172669</td>\n",
              "      <td>-0.158783</td>\n",
              "      <td>-1.201369</td>\n",
              "      <td>-0.121970</td>\n",
              "      <td>-0.063725</td>\n",
              "      <td>-0.113002</td>\n",
              "      <td>-0.061584</td>\n",
              "      <td>-0.163323</td>\n",
              "      <td>-0.169142</td>\n",
              "      <td>-0.049707</td>\n",
              "      <td>...</td>\n",
              "      <td>-0.577099</td>\n",
              "      <td>-0.626229</td>\n",
              "      <td>0.241128</td>\n",
              "      <td>0.241406</td>\n",
              "      <td>-0.216057</td>\n",
              "      <td>-0.125939</td>\n",
              "      <td>-0.131155</td>\n",
              "      <td>-0.269818</td>\n",
              "      <td>-0.120613</td>\n",
              "      <td>-0.119792</td>\n",
              "    </tr>\n",
              "    <tr>\n",
              "      <th>203767</th>\n",
              "      <td>-0.172669</td>\n",
              "      <td>-0.158783</td>\n",
              "      <td>-1.201369</td>\n",
              "      <td>-0.121970</td>\n",
              "      <td>-0.063725</td>\n",
              "      <td>-0.113002</td>\n",
              "      <td>-0.061584</td>\n",
              "      <td>-0.163323</td>\n",
              "      <td>-0.169142</td>\n",
              "      <td>-0.049707</td>\n",
              "      <td>...</td>\n",
              "      <td>-0.577099</td>\n",
              "      <td>-0.626229</td>\n",
              "      <td>0.241128</td>\n",
              "      <td>0.241406</td>\n",
              "      <td>-0.216057</td>\n",
              "      <td>-0.125939</td>\n",
              "      <td>-0.131155</td>\n",
              "      <td>-0.269818</td>\n",
              "      <td>-0.120613</td>\n",
              "      <td>-0.119792</td>\n",
              "    </tr>\n",
              "    <tr>\n",
              "      <th>203768</th>\n",
              "      <td>-0.143292</td>\n",
              "      <td>-0.158783</td>\n",
              "      <td>-1.201369</td>\n",
              "      <td>-0.121970</td>\n",
              "      <td>-0.043875</td>\n",
              "      <td>-0.113002</td>\n",
              "      <td>-0.061584</td>\n",
              "      <td>-0.133266</td>\n",
              "      <td>-0.139507</td>\n",
              "      <td>-0.049707</td>\n",
              "      <td>...</td>\n",
              "      <td>-0.577099</td>\n",
              "      <td>-0.613614</td>\n",
              "      <td>0.241128</td>\n",
              "      <td>0.241406</td>\n",
              "      <td>0.018279</td>\n",
              "      <td>-0.087490</td>\n",
              "      <td>-0.131155</td>\n",
              "      <td>-0.097524</td>\n",
              "      <td>-0.120613</td>\n",
              "      <td>-0.119792</td>\n",
              "    </tr>\n",
              "  </tbody>\n",
              "</table>\n",
              "<p>203769 rows × 165 columns</p>\n",
              "</div>"
            ],
            "text/plain": [
              "             2         3         4         5          6         7         8     \n",
              "0      -0.168500  0.270909 -0.091383 -0.046932  -0.043875 -0.029140 -0.061584  \\\n",
              "1      -0.170834 -0.131425  1.018602  0.028105   0.055376  0.054722 -0.061584   \n",
              "2       1.305212 -0.210553 -1.756361 -0.121970  97.300650 -0.113002 -0.061584   \n",
              "3      -0.169615 -0.184668 -1.201369 -0.121970  -0.043875 -0.113002 -0.061584   \n",
              "4      -0.086232 -0.101835 -0.646376 -0.121970  17.046997 -0.113002 -0.061584   \n",
              "...          ...       ...       ...       ...        ...       ...       ...   \n",
              "203764 -0.172978 -0.172527  0.463609 -0.121970  -0.043875 -0.113002 -0.061584   \n",
              "203765 -0.172669 -0.158783 -1.201369 -0.121970  -0.063725 -0.113002 -0.061584   \n",
              "203766 -0.172669 -0.158783 -1.201369 -0.121970  -0.063725 -0.113002 -0.061584   \n",
              "203767 -0.172669 -0.158783 -1.201369 -0.121970  -0.063725 -0.113002 -0.061584   \n",
              "203768 -0.143292 -0.158783 -1.201369 -0.121970  -0.043875 -0.113002 -0.061584   \n",
              "\n",
              "             9         10        11   ...       157       158       159   \n",
              "0      -0.163591 -0.164980 -0.009283  ...  0.073047 -0.039637  1.461330  \\\n",
              "1      -0.163572 -0.167757 -0.038545  ...  1.228858  0.379357  0.955101   \n",
              "2       1.348765  1.321754 -0.049707  ...  1.348450  1.590664  0.059948   \n",
              "3      -0.160199 -0.166062 -0.049707  ... -0.577099 -0.500080  0.241128   \n",
              "4      -0.074885 -0.081943 -0.049707  ...  0.501062  0.362510  0.082065   \n",
              "...          ...       ...       ...  ...       ...       ...       ...   \n",
              "203764 -0.163640 -0.169455 -0.049707  ... -0.577099 -0.600999  0.241128   \n",
              "203765 -0.163323 -0.169142 -0.049707  ... -0.577099 -0.626229  0.241128   \n",
              "203766 -0.163323 -0.169142 -0.049707  ... -0.577099 -0.626229  0.241128   \n",
              "203767 -0.163323 -0.169142 -0.049707  ... -0.577099 -0.626229  0.241128   \n",
              "203768 -0.133266 -0.139507 -0.049707  ... -0.577099 -0.613614  0.241128   \n",
              "\n",
              "             160       161       162       163       164       165       166  \n",
              "0       1.461369  0.018279  0.470019  1.216796  1.151607  1.519700  1.521399  \n",
              "1       0.459257 -0.098889 -0.087490 -0.099080 -0.122137 -0.379970 -0.379288  \n",
              "2       0.113967 -0.098889  1.969527  0.037532 -0.131010  0.006994  0.017772  \n",
              "3       0.241406 -0.098889 -0.087490 -0.084674 -0.140597  1.519700  1.521399  \n",
              "4       0.114773 -0.098889  8.948005  1.024948 -0.009570 -0.080708 -0.123601  \n",
              "...          ...       ...       ...       ...       ...       ...       ...  \n",
              "203764  0.241406  0.018279 -0.087490 -0.131155 -0.097524 -0.120613 -0.119792  \n",
              "203765  0.241406 -0.216057 -0.125939 -0.131155 -0.269818 -0.120613 -0.119792  \n",
              "203766  0.241406 -0.216057 -0.125939 -0.131155 -0.269818 -0.120613 -0.119792  \n",
              "203767  0.241406 -0.216057 -0.125939 -0.131155 -0.269818 -0.120613 -0.119792  \n",
              "203768  0.241406  0.018279 -0.087490 -0.131155 -0.097524 -0.120613 -0.119792  \n",
              "\n",
              "[203769 rows x 165 columns]"
            ]
          },
          "execution_count": 34,
          "metadata": {},
          "output_type": "execute_result"
        }
      ],
      "source": [
        "# See node features again\n",
        "node_features"
      ]
    },
    {
      "cell_type": "code",
      "execution_count": 254,
      "metadata": {},
      "outputs": [
        {
          "data": {
            "text/html": [
              "<div>\n",
              "<style scoped>\n",
              "    .dataframe tbody tr th:only-of-type {\n",
              "        vertical-align: middle;\n",
              "    }\n",
              "\n",
              "    .dataframe tbody tr th {\n",
              "        vertical-align: top;\n",
              "    }\n",
              "\n",
              "    .dataframe thead th {\n",
              "        text-align: right;\n",
              "    }\n",
              "</style>\n",
              "<table border=\"1\" class=\"dataframe\">\n",
              "  <thead>\n",
              "    <tr style=\"text-align: right;\">\n",
              "      <th></th>\n",
              "      <th>txId1</th>\n",
              "      <th>txId2</th>\n",
              "    </tr>\n",
              "  </thead>\n",
              "  <tbody>\n",
              "    <tr>\n",
              "      <th>0</th>\n",
              "      <td>230425980</td>\n",
              "      <td>5530458</td>\n",
              "    </tr>\n",
              "    <tr>\n",
              "      <th>1</th>\n",
              "      <td>232022460</td>\n",
              "      <td>232438397</td>\n",
              "    </tr>\n",
              "    <tr>\n",
              "      <th>2</th>\n",
              "      <td>230460314</td>\n",
              "      <td>230459870</td>\n",
              "    </tr>\n",
              "    <tr>\n",
              "      <th>3</th>\n",
              "      <td>230333930</td>\n",
              "      <td>230595899</td>\n",
              "    </tr>\n",
              "    <tr>\n",
              "      <th>4</th>\n",
              "      <td>232013274</td>\n",
              "      <td>232029206</td>\n",
              "    </tr>\n",
              "  </tbody>\n",
              "</table>\n",
              "</div>"
            ],
            "text/plain": [
              "       txId1      txId2\n",
              "0  230425980    5530458\n",
              "1  232022460  232438397\n",
              "2  230460314  230459870\n",
              "3  230333930  230595899\n",
              "4  232013274  232029206"
            ]
          },
          "execution_count": 254,
          "metadata": {},
          "output_type": "execute_result"
        }
      ],
      "source": [
        "df_edges.head()"
      ]
    },
    {
      "attachments": {},
      "cell_type": "markdown",
      "metadata": {
        "id": "LhtMaYpkGMOf"
      },
      "source": [
        "## Train Test splits"
      ]
    },
    {
      "cell_type": "code",
      "execution_count": 18,
      "metadata": {
        "colab": {
          "base_uri": "https://localhost:8080/"
        },
        "id": "sjrz1IPVSdkS",
        "outputId": "d079f85e-286c-4faa-b22a-aa4e1be577af"
      },
      "outputs": [
        {
          "name": "stdout",
          "output_type": "stream",
          "text": [
            "train_idx size 39579\n",
            "test_idx size 6985\n"
          ]
        }
      ],
      "source": [
        "# Create a known vs unknown mask\n",
        "train_idx, valid_idx = train_test_split(classified_idx.values, test_size=0.15, random_state=42)\n",
        "print(f\"train_idx size {len(train_idx)}\")\n",
        "print(f\"test_idx size {len(valid_idx)}\")"
      ]
    },
    {
      "attachments": {},
      "cell_type": "markdown",
      "metadata": {
        "id": "yFxFNl5pEwAB"
      },
      "source": [
        "# Create a PyG dataset\n",
        "\n",
        "Each PyG dataset stores a list of `torch_geometric.data.Data` objects, where each `torch_geometric.data.Data` object represents a graph. We can easily get the `Data` object by indexing into the dataset.\n",
        "\n",
        "For more information such as what is stored in the `Data` object, please refer to the [documentation](https://pytorch-geometric.readthedocs.io/en/latest/modules/data.html#torch_geometric.data.Data).\n",
        "\n",
        "We convert data to PyGeometric graph data format by using node_features, edge_index, weights and labels initialized before."
      ]
    },
    {
      "cell_type": "code",
      "execution_count": 19,
      "metadata": {
        "id": "cR4J4rgFdRs6"
      },
      "outputs": [],
      "source": [
        "from torch_geometric.data import Data, DataLoader\n",
        "data_train = Data(x=node_features_t, edge_index=edge_index, edge_attr=weights, \n",
        "                               y=torch.tensor(labels, dtype=torch.double))\n",
        "# Add in the train and valid idx\n",
        "data_train.train_idx = train_idx\n",
        "data_train.valid_idx = valid_idx\n",
        "data_train.test_idx = unclassified_idx"
      ]
    },
    {
      "cell_type": "code",
      "execution_count": 20,
      "metadata": {},
      "outputs": [],
      "source": [
        "import networkx as nx\n",
        "import torch_geometric.utils as pyg_utils\n",
        "nx.write_gexf(pyg_utils.to_networkx(data_train),\"./save_results/fraud.gexf\")"
      ]
    },
    {
      "attachments": {},
      "cell_type": "markdown",
      "metadata": {
        "id": "0EuNBpJfR8O7"
      },
      "source": [
        "# Model setup\n"
      ]
    },
    {
      "cell_type": "code",
      "execution_count": 20,
      "metadata": {
        "id": "0lIXOMwSMc-l"
      },
      "outputs": [],
      "source": [
        "import torch\n",
        "import torch_scatter\n",
        "import torch.nn as nn\n",
        "import torch.nn.functional as F\n",
        "\n",
        "import torch_geometric.nn as pyg_nn\n",
        "import torch_geometric.utils as pyg_utils\n",
        "\n",
        "from torch import Tensor\n",
        "\n",
        "from typing import Union, Tuple, Optional\n",
        "from torch_geometric.typing import (OptPairTensor, Adj, Size, NoneType,\n",
        "                                    OptTensor)\n",
        "\n",
        "from torch.nn import Parameter, Linear\n",
        "from torch_sparse import SparseTensor, set_diag\n",
        "from torch_geometric.nn.conv import MessagePassing\n",
        "from torch_geometric.utils import remove_self_loops, add_self_loops, softmax, degree\n",
        "\n",
        "import pickle"
      ]
    },
    {
      "attachments": {},
      "cell_type": "markdown",
      "metadata": {
        "id": "vonuW3cKtxr9"
      },
      "source": [
        "## Prebuilt with PyG's built-in  layers\n",
        "In this section, we are using PyG's built-in layers with 2 layers and an additional MLP layers for the GATs models."
      ]
    },
    {
      "attachments": {},
      "cell_type": "markdown",
      "metadata": {
        "id": "nyE0VMalAyrt"
      },
      "source": [
        "### GCNConv"
      ]
    },
    {
      "cell_type": "code",
      "execution_count": 21,
      "metadata": {
        "id": "YH_8QV_Rypzl"
      },
      "outputs": [],
      "source": [
        "class GCN(nn.Module):\n",
        "    def __init__(self,seed=12345):\n",
        "        super(GCN, self).__init__()\n",
        "        torch.manual_seed(seed)\n",
        "        self.conv1 = pyg_nn.GCNConv(165,128)\n",
        "        self.conv2 = pyg_nn.GCNConv(128,2)\n",
        "        self.classifier = Linear(2, 1)\n",
        "\n",
        "    def forward(self, data, adj=None):\n",
        "        x, edge_index = data.x, data.edge_index\n",
        "        h = self.conv1(x, edge_index)\n",
        "        h = F.tanh(h)\n",
        "        h = self.conv2(h, edge_index)\n",
        "        embeddings = F.tanh(h)  # Final GNN embedding space.\n",
        "        \n",
        "        # Apply a final (linear) classifier.\n",
        "        out = self.classifier(embeddings)\n",
        "\n",
        "        # return out, embeddings\n",
        "        return F.sigmoid(out)"
      ]
    },
    {
      "attachments": {},
      "cell_type": "markdown",
      "metadata": {
        "id": "QNniFM2ec04t"
      },
      "source": [
        "### GATConv\n"
      ]
    },
    {
      "cell_type": "code",
      "execution_count": 22,
      "metadata": {
        "id": "Rjr_1PQf2TmI"
      },
      "outputs": [],
      "source": [
        "class GAT(nn.Module):\n",
        "    def __init__(self,input_dim, hidden_dim, output_dim,args):\n",
        "        self.args = args\n",
        "        super(GAT, self).__init__()\n",
        "        # use our gat message passing \n",
        "        self.conv1 = pyg_nn.GATConv(input_dim, hidden_dim, heads=args['heads'])\n",
        "        self.conv2 = pyg_nn.GATConv(args['heads'] * hidden_dim, hidden_dim, heads=args['heads'])\n",
        "        \n",
        "        self.post_mp = nn.Sequential(\n",
        "            nn.Linear(args['heads'] * hidden_dim, hidden_dim), \n",
        "            nn.Dropout(args['dropout'] ), \n",
        "            nn.Linear(hidden_dim, output_dim),)\n",
        "        \n",
        "    def forward(self, data, adj=None):\n",
        "        args = self.args\n",
        "        x, edge_index = data.x, data.edge_index\n",
        "        # Layer 1\n",
        "        x = self.conv1(x, edge_index)\n",
        "        x = F.dropout(F.relu(x), p=args['dropout'], training=self.training)\n",
        "        # Layer 2\n",
        "        x = self.conv2(x, edge_index)\n",
        "        x = F.dropout(F.relu(x), p=args['dropout'], training=self.training)\n",
        "        # MLP output\n",
        "        x = self.post_mp(x)\n",
        "        return F.sigmoid(x)\n",
        "       "
      ]
    },
    {
      "attachments": {},
      "cell_type": "markdown",
      "metadata": {
        "id": "50arKCbIjEr6"
      },
      "source": [
        "### GATv2Conv "
      ]
    },
    {
      "cell_type": "code",
      "execution_count": 23,
      "metadata": {
        "id": "BrQtUh3gjH1A"
      },
      "outputs": [],
      "source": [
        "class GATv2(nn.Module):\n",
        "    def __init__(self,input_dim, hidden_dim, output_dim,args):\n",
        "        self.args = args\n",
        "        super(GATv2, self).__init__()\n",
        "        #use our gat message passing \n",
        "        self.conv1 = pyg_nn.GATv2Conv(input_dim, hidden_dim, heads=args['heads'])\n",
        "        self.conv2 = pyg_nn.GATv2Conv(args['heads'] * hidden_dim, hidden_dim, heads=args['heads'])\n",
        "        \n",
        "        self.post_mp = nn.Sequential(\n",
        "            nn.Linear(args['heads'] * hidden_dim, hidden_dim), \n",
        "            nn.Dropout(args['dropout'] ), \n",
        "            nn.Linear(hidden_dim, output_dim))\n",
        "        \n",
        "    def forward(self, data, adj=None):\n",
        "        args = self.args\n",
        "        x, edge_index = data.x, data.edge_index\n",
        "        # Layer 1\n",
        "        x = self.conv1(x, edge_index)\n",
        "        x = F.dropout(F.relu(x), p=args['dropout'], training=self.training)\n",
        "        # Layer 2\n",
        "        x = self.conv2(x, edge_index)\n",
        "        x = F.dropout(F.relu(x), p=args['dropout'], training=self.training)\n",
        "        # MLP output\n",
        "        x = self.post_mp(x)\n",
        "        return F.sigmoid(x)"
      ]
    },
    {
      "attachments": {},
      "cell_type": "markdown",
      "metadata": {
        "id": "_rNSLoo10_WU"
      },
      "source": [
        "## Custom GAT Implementation\n",
        "\n",
        "Attention mechanisms have become the state-of-the-art in many sequence-based tasks such as machine translation and learning sentence representations. One of the major benefits of attention-based mechanisms is their ability to focus on the most relevant parts of the input to make decisions. In this problem, we will see how attention mechanisms can be used to perform node classification over graph-structured data through the usage of Graph Attention Networks (GATs) ([Veličković et al. (2018)](https://arxiv.org/abs/1710.10903)).\n",
        "\n",
        "The building block of the Graph Attention Network is the graph attention layer, which is a variant of the aggregation function. Let $N$ be the number of nodes and $F$ be the dimension of the feature vector for each node. The input to each graph attentional layer is a set of node features: $\\mathbf{h} = \\{\\overrightarrow{h_1}, \\overrightarrow{h_2}, \\dots, \\overrightarrow{h_N}$\\}, $\\overrightarrow{h_i} \\in R^F$. The output of each graph attentional layer is a new set of node features, which may have a new dimension $F'$: $\\mathbf{h'} = \\{\\overrightarrow{h_1'}, \\overrightarrow{h_2'}, \\dots, \\overrightarrow{h_N'}\\}$, with $\\overrightarrow{h_i'} \\in \\mathbb{R}^{F'}$.\n",
        "\n",
        "We will now describe how this transformation is performed for each graph attention layer. First, a shared linear transformation parametrized by the weight matrix $\\mathbf{W} \\in \\mathbb{R}^{F' \\times F}$ is applied to every node. \n",
        "\n",
        "Next, we perform self-attention on the nodes. We use a shared attention function $a$:\n",
        "\\begin{equation} \n",
        "a : \\mathbb{R}^{F'} \\times \\mathbb{R}^{F'} \\rightarrow \\mathbb{R}.\n",
        "\\end{equation}\n",
        "\n",
        "that computes the attention coefficients capturing the importance of node $j$'s features to node $i$:\n",
        "\\begin{equation}\n",
        "e_{ij} = a(\\mathbf{W_l}\\overrightarrow{h_i}, \\mathbf{W_r} \\overrightarrow{h_j})\n",
        "\\end{equation}\n",
        "\n",
        "The most general formulation of self-attention allows every node to attend to all other nodes which drops all structural information. However, to utilize graph structure in the attention mechanisms, we use **masked attention**. In masked attention, we only compute attention coefficients $e_{ij}$ for nodes $j \\in \\mathcal{N}_i$ where $\\mathcal{N}_i$ is some neighborhood of node $i$ in the graph.\n",
        "\n",
        "To easily compare coefficients across different nodes, we normalize the coefficients across $j$ using a softmax function:\n",
        "\\begin{equation}\n",
        "\\alpha_{ij} = \\text{softmax}_j(e_{ij}) = \\frac{\\exp(e_{ij})}{\\sum_{k \\in \\mathcal{N}_i} \\exp(e_{ik})}\n",
        "\\end{equation}\n",
        "\n",
        "For this problem, our attention mechanism $a$ will be a single-layer feedforward neural network parametrized by a weight vectors $\\overrightarrow{a_l} \\in \\mathbb{R}^{F'}$ and $\\overrightarrow{a_r} \\in \\mathbb{R}^{F'}$, followed by a LeakyReLU nonlinearity (with negative input slope 0.2). Let $\\cdot^T$ represent transposition and $||$ represent concatenation. The coefficients computed by our attention mechanism may be expressed as:\n",
        "\n",
        "\\begin{equation}\n",
        "\\alpha_{ij} = \\frac{\\exp\\Big(\\text{LeakyReLU}\\Big(\\overrightarrow{a_l}^T \\mathbf{W_l} \\overrightarrow{h_i} + \\overrightarrow{a_r}^T\\mathbf{W_r}\\overrightarrow{h_j}\\Big)\\Big)}{\\sum_{k\\in \\mathcal{N}_i} \\exp\\Big(\\text{LeakyReLU}\\Big(\\overrightarrow{a_l}^T \\mathbf{W_l} \\overrightarrow{h_i} + \\overrightarrow{a_r}^T\\mathbf{W_r}\\overrightarrow{h_k}\\Big)\\Big)}\n",
        "\\end{equation}\n",
        "\n",
        "For the following questions, we denote `alpha_l` = $\\alpha_l = [...,\\overrightarrow{a_l}^T \\mathbf{W_l} \\overrightarrow{h_i},...] \\in \\mathcal{R}^n$ and `alpha_r` = $\\alpha_r = [..., \\overrightarrow{a_r}^T \\mathbf{W_r} \\overrightarrow{h_j}, ...] \\in \\mathcal{R}^n$.\n",
        "\n",
        "\n",
        "At every layer of GAT, after the attention coefficients are computed for that layer, the aggregation function can be computed by a weighted sum of neighborhood messages, where weights are specified by $\\alpha_{ij}$.\n",
        "\n",
        "Now, we use the normalized attention coefficients to compute a linear combination of the features corresponding to them. These aggregated features will serve as the final output features for every node.\n",
        "\n",
        "\\begin{equation}\n",
        "h_i' = \\sum_{j \\in \\mathcal{N}_i} \\alpha_{ij} \\mathbf{W_r} \\overrightarrow{h_j}.\n",
        "\\end{equation}  \n",
        "\n",
        "### Multi-Head Attention\n",
        "To stabilize the learning process of self-attention, we use multi-head attention. To do this we use $K$ independent attention mechanisms, or ``heads'' compute output features as in the above equations. Then, we concatenate these output feature representations:\n",
        "\n",
        "\\begin{equation}\n",
        "    \\overrightarrow{h_i}' = ||_{k=1}^K \\Big(\\sum_{j \\in \\mathcal{N}_i} \\alpha_{ij}^{(k)} \\mathbf{W_r}^{(k)} \\overrightarrow{h_j}\\Big)\n",
        "\\end{equation}\n",
        "\n",
        "where $||$ is concentation, $\\alpha_{ij}^{(k)}$ are the normalized attention coefficients computed by the $k$-th attention mechanism $(a^k)$, and $\\mathbf{W}^{(k)}$ is the corresponding input linear transformation's weight matrix. Note that for this setting, $\\mathbf{h'} \\in \\mathbb{R}^{KF'}$."
      ]
    },
    {
      "attachments": {},
      "cell_type": "markdown",
      "metadata": {
        "id": "8D8tRgWGt4mZ"
      },
      "source": [
        "### Custom GAT model\n",
        "PyG provides the MessagePassing base class, which helps in creating such kinds of message passing graph neural networks by automatically taking care of message propagation. \\\\\n",
        "-**MessagePassing()**: Defines the aggregation scheme to use (\"add\", \"mean\" or \"max\") and the flow direction of message passing (either \"source_to_target\" or \"target_to_source\").  \n",
        "\n",
        "-**MessagePassing.propagate(edge_index,size=None,kwargs)**: The initial call to start propagating messages. Takes in the edge indices and all additional data which is needed to construct messages and to update node embeddings. \n",
        "\n",
        "-**MessagePassing.message(...)**: Constructs messages to node  for each edge. It can take any argument which was initially passed to propagate().  In addition, tensors passed to propagate() can be mapped to the respective nodes and by appending _i or _j to the variable name.\n",
        "We generally refer to i as the central nodes that aggregates information, and refer to j as the neighboring nodes, since this is the most common notation.\n",
        "\n",
        " Further details can be found at the official PyG documentation. "
      ]
    },
    {
      "cell_type": "code",
      "execution_count": 24,
      "metadata": {
        "id": "pc-NwTRM1JAX"
      },
      "outputs": [],
      "source": [
        "class myGAT(MessagePassing):\n",
        "    def __init__(self, in_channels, out_channels, heads = 1, \n",
        "                 negative_slope = 0.2, dropout = 0., **kwargs):\n",
        "        super(myGAT, self).__init__(node_dim=0, **kwargs)\n",
        "\n",
        "        self.in_channels = in_channels # node features input dimension\n",
        "        self.out_channels = out_channels # node level output dimension\n",
        "        self.heads = heads # No. of attention heads\n",
        "        self.negative_slope = negative_slope\n",
        "        self.dropout = dropout\n",
        "\n",
        "        self.lin_l = None\n",
        "        self.lin_r = None\n",
        "        self.att_l = None\n",
        "        self.att_r = None\n",
        "\n",
        "        # Initialization\n",
        "        self.lin_l = Linear(in_channels, heads*out_channels)\n",
        "        self.lin_r = self.lin_l\n",
        "        self.att_l = Parameter(torch.Tensor(1, heads, out_channels).float())\n",
        "        self.att_r = Parameter(torch.Tensor(1, heads, out_channels).float())\n",
        "        self.reset_parameters()\n",
        "\n",
        "    def reset_parameters(self):\n",
        "        nn.init.xavier_uniform_(self.lin_l.weight)\n",
        "        nn.init.xavier_uniform_(self.lin_r.weight)\n",
        "        nn.init.xavier_uniform_(self.att_l)\n",
        "        nn.init.xavier_uniform_(self.att_r)\n",
        "\n",
        "    def forward(self, x, edge_index, size = None):\n",
        "        \n",
        "        H, C = self.heads, self.out_channels # DIM：H, outC\n",
        "\n",
        "        # Linearly transform node feature matrix.\n",
        "        x_source = self.lin_l(x).view(-1,H,C) # DIM: [Nodex x In] [in x H * outC] => [nodes x H * outC] => [nodes, H, outC]\n",
        "        x_target = self.lin_r(x).view(-1,H,C) # DIM: [Nodex x In] [in x H * outC] => [nodes x H * outC] => [nodes, H, outC]\n",
        "\n",
        "        # Alphas will be used to calculate attention later\n",
        "        alpha_l = (x_source * self.att_l).sum(dim=-1) # DIM: [nodes, H, outC] x [H, outC] => [nodes, H]\n",
        "        alpha_r = (x_target * self.att_r).sum(dim=-1) # DIM: [nodes, H, outC] x [H, outC] => [nodes, H]\n",
        "\n",
        "        #  Start propagating messages (runs message and aggregate)\n",
        "        out = self.propagate(edge_index, x=(x_source, x_target), alpha=(alpha_l, alpha_r),size=size) # DIM: [nodes, H, outC]\n",
        "        out = out.view(-1, self.heads * self.out_channels) # DIM: [nodes, H * outC]\n",
        "\n",
        "        return out\n",
        "\n",
        "    def message(self, x_j, alpha_j, alpha_i, index, ptr, size_i):\n",
        "        # Calculate attention for edge pairs\n",
        "        attention = F.leaky_relu((alpha_j + alpha_i), self.negative_slope) # EQ(1) DIM: [Edges, H]\n",
        "        attention = softmax(attention, index, ptr, size_i) # EQ(2) DIM: [Edges, H] | This softmax only calculates it over all neighbourhood nodes\n",
        "        attention = F.dropout(attention, p=self.dropout, training=self.training) # DIM: [Edges, H]\n",
        "\n",
        "        # Multiple attention with node features for all edges\n",
        "        out = x_j * attention.unsqueeze(-1)  # EQ(3.1) [Edges, H, outC] x [Edges, H] = [Edges, H, outC];\n",
        "\n",
        "        return out\n",
        "\n",
        "    def aggregate(self, inputs, index, dim_size = None):\n",
        "        # EQ(3.2) For each node, aggregate messages for all neighbourhood nodes \n",
        "        out = torch_scatter.scatter(inputs, index, dim=self.node_dim, \n",
        "                                    dim_size=dim_size, reduce='sum') # inputs (from message) DIM: [Edges, H, outC] => DIM: [Nodes, H, outC]\n",
        "        return out\n"
      ]
    },
    {
      "attachments": {},
      "cell_type": "markdown",
      "metadata": {
        "id": "wXVrnMs81OlH"
      },
      "source": [
        "### Custom GATv2 model\n",
        "This new model GATv2 introduces a simple modification by modifying the order of operations. \\\\\n",
        "They simply apply \"a\" layer after the non-linearity and the \"W\" layer after the concatenation, effectively applying an MLP to compute the score for each query-key pair. \\\\\n",
        "GAT( Velickovic et al.2018):\n",
        "\\begin{equation}\n",
        "    e(h_i,h_j)=LeakyReLU(a^T \\dot [Wh_i||Wh_j]) \n",
        "\\end{equation}\n",
        "GATv2( fixed version):\n",
        "\\begin{equation}\n",
        "    e(h_i,h_j)=a^T LeakyReLU(W\\dot [h_i||h_j]) \n",
        "\\end{equation}"
      ]
    },
    {
      "cell_type": "code",
      "execution_count": 25,
      "metadata": {
        "id": "oEArZRuo1JEN"
      },
      "outputs": [],
      "source": [
        "class myGATv2(MessagePassing):\n",
        "    def __init__(self, in_channels, out_channels, heads = 1,\n",
        "                 negative_slope = 0.2, dropout = 0., **kwargs):\n",
        "        super(myGATv2, self).__init__(node_dim=0, **kwargs)\n",
        "\n",
        "        self.in_channels = in_channels\n",
        "        self.out_channels = out_channels\n",
        "        self.heads = heads\n",
        "        self.negative_slope = negative_slope\n",
        "        self.dropout = dropout\n",
        "\n",
        "        self.lin_l = None\n",
        "        self.lin_r = None\n",
        "        self.att_l = None\n",
        "        self.att_r = None\n",
        "        self._alpha = None\n",
        "        # self.lin_l is the linear transformation that you apply to embeddings \n",
        "        # BEFORE message passing.\n",
        "        self.lin_l =  Linear(in_channels, heads*out_channels)\n",
        "        self.lin_r = self.lin_l\n",
        "\n",
        "        self.att = Parameter(torch.Tensor(1, heads, out_channels))\n",
        "        self.reset_parameters()\n",
        "\n",
        "    #initialize parameters with xavier uniform\n",
        "    def reset_parameters(self):\n",
        "        nn.init.xavier_uniform_(self.lin_l.weight)\n",
        "        nn.init.xavier_uniform_(self.lin_r.weight)\n",
        "        nn.init.xavier_uniform_(self.att)\n",
        "\n",
        "    def forward(self, x, edge_index, size = None):\n",
        "        \n",
        "        H, C = self.heads, self.out_channels # DIM：H, outC\n",
        "        #Linearly transform node feature matrix.\n",
        "        x_source = self.lin_l(x).view(-1,H,C) # DIM: [Nodex x In] [in x H * outC] => [nodes x H * outC] => [nodes, H, outC]\n",
        "        x_target = self.lin_r(x).view(-1,H,C) # DIM: [Nodex x In] [in x H * outC] => [nodes x H * outC] => [nodes, H, outC]\n",
        "        \n",
        "        #  Start propagating messages (runs message and aggregate)\n",
        "        out= self.propagate(edge_index, x=(x_source,x_target),size=size) # DIM: [nodes, H, outC]\n",
        "        out= out.view(-1, self.heads * self.out_channels)       # DIM: [nodes, H * outC]\n",
        "        alpha = self._alpha\n",
        "        self._alpha = None\n",
        "        return out\n",
        "\n",
        "    #Process a message passing\n",
        "    def message(self, x_j,x_i,  index, ptr, size_i):\n",
        "        #computation using previous equationss\n",
        "        x = x_i + x_j                               \n",
        "        x  = F.leaky_relu(x, self.negative_slope)   # See Equation above: Apply the non-linearty function\n",
        "        alpha = (x * self.att).sum(dim=-1)          # Apply attnention \"a\" layer after the non-linearity \n",
        "        alpha = softmax(alpha, index, ptr, size_i)  # This softmax only calculates it over all neighbourhood nodes\n",
        "        self._alpha = alpha\n",
        "        alpha= F.dropout(alpha,p=self.dropout,training=self.training)\n",
        "        # Multiple attention with node features for all edges\n",
        "        out= x_j*alpha.unsqueeze(-1)  \n",
        "\n",
        "        return out\n",
        "    #Aggregation of messages\n",
        "    def aggregate(self, inputs, index, dim_size = None):\n",
        "        out = torch_scatter.scatter(inputs, index, dim=self.node_dim, \n",
        "                                    dim_size=dim_size, reduce='sum')  \n",
        "        return out"
      ]
    },
    {
      "attachments": {},
      "cell_type": "markdown",
      "metadata": {
        "id": "HMXqyycpt-WF"
      },
      "source": [
        "### GATCustom\n",
        "We use PyG and define two models by using our previous GAT and GATv2. \\\\\n",
        "Each layer consists of running the GAT layer, followed by a relu nonlinearity function and dropout. They can be stacked multiple times with some output layers.We had a linear MLP output layer as a post-processing.\n",
        "\n",
        "\n",
        "\n"
      ]
    },
    {
      "cell_type": "code",
      "execution_count": 26,
      "metadata": {
        "id": "fhmMSdFI1S3_"
      },
      "outputs": [],
      "source": [
        "class GATmodif(torch.nn.Module):\n",
        "    def __init__(self,input_dim, hidden_dim, output_dim,args):\n",
        "        self.args = args\n",
        "        super(GATmodif, self).__init__()\n",
        "        #use our gat message passing \n",
        "        self.conv1 = myGAT(input_dim, hidden_dim,heads=args['heads'])\n",
        "        self.conv2 = myGAT(args['heads']  *hidden_dim, hidden_dim,heads=args['heads']) \n",
        "\n",
        "        self.post_mp = nn.Sequential(\n",
        "            nn.Linear(args['heads'] * hidden_dim, hidden_dim), nn.Dropout(args['dropout'] ), \n",
        "            nn.Linear(hidden_dim, output_dim))\n",
        "        \n",
        "    def forward(self, data, adj=None):\n",
        "        args = self.args\n",
        "        x, edge_index = data.x, data.edge_index\n",
        "        # Layer 1\n",
        "        x = self.conv1(x, edge_index)\n",
        "        x = F.dropout(F.relu(x), p=args['dropout'], training=self.training)\n",
        "\n",
        "        # Layer 2\n",
        "        x = self.conv2(x, edge_index)\n",
        "        x = F.dropout(F.relu(x), p=args['dropout'], training=self.training)\n",
        "\n",
        "        # MLP output\n",
        "        x = self.post_mp(x)\n",
        "        return F.sigmoid(x)\n",
        "\n",
        "class GATv2modif(torch.nn.Module):\n",
        "    def __init__(self,input_dim, hidden_dim, output_dim,args):\n",
        "        super(GATv2modif, self).__init__()\n",
        "        #use our gat message passing \n",
        "        self.conv1 = myGATv2(input_dim, hidden_dim,heads=args['heads']) \n",
        "        self.conv2 = myGATv2(args['heads'] *hidden_dim, hidden_dim,heads=args['heads'])\n",
        "\n",
        "        self.post_mp = nn.Sequential(\n",
        "            nn.Linear(args['heads']  * hidden_dim, hidden_dim), nn.Dropout(args['dropout'] ), \n",
        "            nn.Linear(hidden_dim, output_dim))\n",
        "        \n",
        "    def forward(self, data, adj=None):\n",
        "        args = self.args\n",
        "        x, edge_index = data.x, data.edge_index\n",
        "        # Layer 1\n",
        "        x = self.conv1(x, edge_index)\n",
        "        x = F.dropout(F.relu(x), p=args['dropout'], training=self.training)\n",
        "\n",
        "        # Layer 2\n",
        "        x = self.conv2(x, edge_index)\n",
        "        x = F.dropout(F.relu(x), p=args['dropout'], training=self.training)\n",
        "\n",
        "        # MLP output\n",
        "        x = self.post_mp(x)\n",
        "        return F.sigmoid(x)\n",
        " "
      ]
    },
    {
      "attachments": {},
      "cell_type": "markdown",
      "metadata": {
        "id": "TfB--A58XBPN"
      },
      "source": [
        "Here, we are implementing a custom GAT with 3 layers"
      ]
    },
    {
      "cell_type": "code",
      "execution_count": 27,
      "metadata": {
        "id": "ZCMJglTNJCh6"
      },
      "outputs": [],
      "source": [
        "class GATmodif_3layer(torch.nn.Module):\n",
        "    def __init__(self,input_dim, hidden_dim, output_dim, args):\n",
        "        self.args = args\n",
        "        super(GATmodif_3layer, self).__init__()\n",
        "        #use our gat message passing \n",
        "        self.conv1 = myGAT(input_dim, hidden_dim,heads=args['heads'])\n",
        "        self.conv2 = myGAT(args['heads'] * hidden_dim, hidden_dim,heads=args['heads']) \n",
        "        self.conv3 = myGAT(args['heads'] * hidden_dim, hidden_dim,heads=args['heads']) \n",
        "        \n",
        "        self.post_mp = nn.Sequential(\n",
        "            nn.Linear(args['heads'] * hidden_dim, hidden_dim), nn.Dropout(args['dropout'] ), \n",
        "            nn.Linear(hidden_dim, output_dim))\n",
        "        \n",
        "    def forward(self, data, adj=None):\n",
        "        args = self.args\n",
        "        x, edge_index = data.x, data.edge_index\n",
        "        # Layer 1\n",
        "        x = self.conv1(x, edge_index)\n",
        "        x = F.dropout(F.relu(x), p=args['dropout'], training=self.training)\n",
        "\n",
        "        # Layer 2\n",
        "        x = self.conv2(x, edge_index)\n",
        "        x = F.dropout(F.relu(x), p=args['dropout'], training=self.training)\n",
        "        \n",
        "        # Layer 3\n",
        "        x = self.conv3(x, edge_index)\n",
        "        x = F.dropout(F.relu(x), p=args['dropout'], training=self.training)\n",
        "\n",
        "        # MLP output\n",
        "        x = self.post_mp(x)\n",
        "        return F.sigmoid(x)"
      ]
    },
    {
      "attachments": {},
      "cell_type": "markdown",
      "metadata": {},
      "source": [
        "## Metric manager\n",
        "We can use mutiple metrics, but we are interested on auroc, f1micro score.\n",
        "\n",
        "Actually 2 types of f1 score can be used:\n",
        "\n",
        "- 'micro' - Calculate metrics globally by counting the total true positives, false negatives and false positives.\n",
        "\n",
        "- 'macro' -  Calculate metrics for each label, and find their unweighted mean. This does not take label imbalance into account."
      ]
    },
    {
      "cell_type": "code",
      "execution_count": 28,
      "metadata": {},
      "outputs": [],
      "source": [
        "class MetricManager(object):\n",
        "  def __init__(self, modes=[\"train\", \"val\"]):\n",
        "\n",
        "    self.output = {}\n",
        "\n",
        "    for mode in modes:\n",
        "      self.output[mode] = {}\n",
        "      self.output[mode][\"accuracy\"] = []\n",
        "      self.output[mode][\"f1micro\"] = []\n",
        "      self.output[mode][\"f1macro\"] = []\n",
        "      self.output[mode][\"aucroc\"] = []\n",
        "      #new\n",
        "      self.output[mode][\"precision\"] = []\n",
        "      self.output[mode][\"recall\"] = []\n",
        "      self.output[mode][\"cm\"] = []\n",
        "\n",
        "  def store_metrics(self, mode, pred_scores, target_labels, threshold=0.5):\n",
        "\n",
        "    # calculate metrics\n",
        "    pred_labels = pred_scores > threshold\n",
        "    accuracy = accuracy_score(target_labels, pred_labels)\n",
        "    f1micro = f1_score(target_labels, pred_labels,average='micro')\n",
        "    f1macro = f1_score(target_labels, pred_labels,average='macro')\n",
        "    aucroc = roc_auc_score(target_labels, pred_scores)\n",
        "    #new\n",
        "    recall = recall_score(target_labels, pred_labels)\n",
        "    precision = precision_score(target_labels, pred_labels)\n",
        "    cm = confusion_matrix(target_labels, pred_labels)\n",
        "\n",
        "    # Collect results\n",
        "    self.output[mode][\"accuracy\"].append(accuracy)\n",
        "    self.output[mode][\"f1micro\"].append(f1micro)\n",
        "    self.output[mode][\"f1macro\"].append(f1macro)\n",
        "    self.output[mode][\"aucroc\"].append(aucroc)\n",
        "    #new\n",
        "    self.output[mode][\"recall\"].append(recall)\n",
        "    self.output[mode][\"precision\"].append(precision)\n",
        "    self.output[mode][\"cm\"].append(cm)\n",
        "    \n",
        "    return accuracy, f1micro,f1macro, aucroc,recall,precision,cm\n",
        "  \n",
        "  # Get best results\n",
        "  def get_best(self, metric, mode=\"val\"):\n",
        "\n",
        "    # Get best results index\n",
        "    best_results = {}\n",
        "    i = np.array(self.output[mode][metric]).argmax()\n",
        "\n",
        "    # Output\n",
        "    for m in self.output[mode].keys():\n",
        "      best_results[m] = self.output[mode][m][i]\n",
        "    \n",
        "    return best_results"
      ]
    },
    {
      "attachments": {},
      "cell_type": "markdown",
      "metadata": {
        "id": "2wEfYY2BR_pZ"
      },
      "source": [
        "# Model training"
      ]
    },
    {
      "attachments": {},
      "cell_type": "markdown",
      "metadata": {
        "id": "9VkbJQMGwm1V"
      },
      "source": [
        "## GNNTrainer object"
      ]
    },
    {
      "cell_type": "code",
      "execution_count": 29,
      "metadata": {
        "id": "AxJ5Gouidfai"
      },
      "outputs": [],
      "source": [
        "class GnnTrainer(object):\n",
        "  \n",
        "  def __init__(self, model):\n",
        "    self.model = model\n",
        "    self.metric_manager = MetricManager(modes=[\"train\", \"val\"])\n",
        "\n",
        "  def train(self, data_train, optimizer, criterion, scheduler, args):\n",
        "  \n",
        "    self.data_train = data_train\n",
        "    for epoch in range(args['epochs']):\n",
        "        self.model.train()\n",
        "        optimizer.zero_grad()\n",
        "        out = self.model(data_train)\n",
        "\n",
        "        out = out.reshape((data_train.x.shape[0]))\n",
        "        loss = criterion(out[data_train.train_idx], data_train.y[data_train.train_idx])\n",
        "        ## Metric calculations\n",
        "        # train data\n",
        "        target_labels = data_train.y.detach().cpu().numpy()[data_train.train_idx]\n",
        "        pred_scores = out.detach().cpu().numpy()[data_train.train_idx]\n",
        "        train_acc, train_f1,train_f1macro, train_aucroc, train_recall, train_precision, train_cm = self.metric_manager.store_metrics(\"train\", pred_scores, target_labels)\n",
        "\n",
        "\n",
        "        ## Training Step\n",
        "        loss.backward()\n",
        "        optimizer.step()\n",
        "\n",
        "        # validation data\n",
        "        self.model.eval()\n",
        "        target_labels = data_train.y.detach().cpu().numpy()[data_train.valid_idx]\n",
        "        pred_scores = out.detach().cpu().numpy()[data_train.valid_idx]\n",
        "        val_acc, val_f1,val_f1macro, val_aucroc, val_recall, val_precision, val_cm = self.metric_manager.store_metrics(\"val\", pred_scores, target_labels)\n",
        "\n",
        "        if epoch%5 == 0:\n",
        "          print(\"epoch: {} - loss: {:.4f} - accuracy train: {:.4f} -accuracy valid: {:.4f}  - val roc: {:.4f}  - val f1micro: {:.4f}\".format(epoch, loss.item(), train_acc, val_acc, val_aucroc,val_f1))\n",
        "\n",
        "  # To predict labels\n",
        "  def predict(self, data=None, unclassified_only=True, threshold=0.5):\n",
        "    # evaluate model:\n",
        "    self.model.eval()\n",
        "    if data is not None:\n",
        "      self.data_train = data\n",
        "\n",
        "    out = self.model(self.data_train)\n",
        "    out = out.reshape((self.data_train.x.shape[0]))\n",
        "\n",
        "    if unclassified_only:\n",
        "      pred_scores = out.detach().cpu().numpy()[self.data_train.test_idx]\n",
        "    else:\n",
        "      pred_scores = out.detach().cpu().numpy()\n",
        "\n",
        "    pred_labels = pred_scores > threshold\n",
        "\n",
        "    return {\"pred_scores\":pred_scores, \"pred_labels\":pred_labels}\n",
        "\n",
        "  # To save metrics\n",
        "  def save_metrics(self, save_name, path=\"./save/\"):\n",
        "    file_to_store = open(path + save_name, \"wb\")\n",
        "    pickle.dump(self.metric_manager, file_to_store)\n",
        "    file_to_store.close()\n",
        "  \n",
        "  # To save model\n",
        "  def save_model(self, save_name, path=\"./save/\"):\n",
        "    torch.save(self.model.state_dict(), path + save_name)"
      ]
    },
    {
      "attachments": {},
      "cell_type": "markdown",
      "metadata": {
        "id": "XLHFsY5IjZyD"
      },
      "source": [
        "## Training and validation\n",
        "We set parameters and choose the model. Set prebuild parameters to True, if you want to use builtin PyG layers, otherwise False to use customs layers."
      ]
    },
    {
      "cell_type": "code",
      "execution_count": 30,
      "metadata": {
        "id": "jvnfhp0Uu3oo"
      },
      "outputs": [],
      "source": [
        "# Set training arguments, set prebuild=True to use builtin PyG models otherwise False\n",
        "# args={\"epochs\":100,\n",
        "#       'lr':0.01,\n",
        "#       'weight_decay':1e-5,\n",
        "#       'prebuild':True,\n",
        "#       'heads':2,\n",
        "#       'hidden_dim': 128, \n",
        "#       'dropout': 0.5\n",
        "#       }\n",
        "\n",
        "args={\"epochs\":10,\n",
        "      'lr':0.01,\n",
        "      'weight_decay':1e-5,\n",
        "      'prebuild':True,\n",
        "      'heads':2,\n",
        "      'hidden_dim': 32, \n",
        "      'dropout': 0.5\n",
        "      }\n",
        "\n",
        "device = torch.device('cuda' if torch.cuda.is_available() else 'cpu')"
      ]
    },
    {
      "cell_type": "code",
      "execution_count": 31,
      "metadata": {
        "colab": {
          "base_uri": "https://localhost:8080/"
        },
        "id": "9C-nE2Q7uvD-",
        "outputId": "df149339-b7e8-4909-fc35-ebdfa50d3329"
      },
      "outputs": [
        {
          "name": "stdout",
          "output_type": "stream",
          "text": [
            "Prebuilt GAT from PyG \n"
          ]
        },
        {
          "data": {
            "text/plain": [
              "GAT(\n",
              "  (conv1): GATConv(165, 12, heads=2)\n",
              "  (conv2): GATConv(24, 12, heads=2)\n",
              "  (post_mp): Sequential(\n",
              "    (0): Linear(in_features=24, out_features=12, bias=True)\n",
              "    (1): Dropout(p=0.5, inplace=False)\n",
              "    (2): Linear(in_features=12, out_features=1, bias=True)\n",
              "  )\n",
              ")"
            ]
          },
          "execution_count": 31,
          "metadata": {},
          "output_type": "execute_result"
        }
      ],
      "source": [
        "# Model selector GAT or GATv2\n",
        "net = \"GAT\"\n",
        "\n",
        "if net == \"GAT\":\n",
        "    if args['prebuild']==True:\n",
        "      model = GAT(data_train.num_node_features, args['hidden_dim'], 1, args)\n",
        "      print(\"Prebuilt GAT from PyG \")\n",
        "    else:\n",
        "      model = GATmodif(data_train.num_node_features, args['hidden_dim'], 1,args)\n",
        "      print(\"Custom GAT implemented\")\n",
        "elif net == \"GATv2\":\n",
        "    # args['heads'] = 1\n",
        "    if args['prebuild']==True:\n",
        "      model = GATv2(data_train.num_node_features, args['hidden_dim'], 1, args) \n",
        "      print(\"Prebuilt GATv2 from PyG \")\n",
        "    else:\n",
        "      model = GATv2modif(data_train.num_node_features,  args['hidden_dim'], 1,args) \n",
        "      print(\"Custom GATv2 implemented\")\n",
        "\n",
        "model.double().to(device)"
      ]
    },
    {
      "cell_type": "code",
      "execution_count": 32,
      "metadata": {
        "colab": {
          "base_uri": "https://localhost:8080/"
        },
        "id": "5GjfF-5ZKTBa",
        "outputId": "f6289470-373a-4fbe-f940-e6c7e58726ca"
      },
      "outputs": [
        {
          "name": "stdout",
          "output_type": "stream",
          "text": [
            "epoch: 0 - loss: 0.8750 - accuracy train: 0.4768 -accuracy valid: 0.4775  - val roc: 0.4531  - val f1micro: 0.4775\n",
            "epoch: 5 - loss: 0.3521 - accuracy train: 0.9002 -accuracy valid: 0.8946  - val roc: 0.6547  - val f1micro: 0.8946\n"
          ]
        }
      ],
      "source": [
        "# Push data to GPU\n",
        "data_train = data_train.to(device)\n",
        "\n",
        "# Setup training settings\n",
        "optimizer = torch.optim.Adam(model.parameters(), lr=args['lr'], weight_decay=args['weight_decay'])\n",
        "scheduler = torch.optim.lr_scheduler.ReduceLROnPlateau(optimizer, 'min')\n",
        "criterion = torch.nn.BCELoss()\n",
        "\n",
        "# Train\n",
        "gnn_trainer_gat = GnnTrainer(model)\n",
        "gnn_trainer_gat.train(data_train, optimizer, criterion, scheduler, args)\n",
        "\n",
        "gnn_trainer_gat.save_metrics(\"GATprebuilt.results\", path=FOLDERNAME + \"/save_results/\")\n",
        "gnn_trainer_gat.save_model(\"GATprebuilt.pth\", path=FOLDERNAME + \"/save_results/\")"
      ]
    },
    {
      "cell_type": "code",
      "execution_count": 33,
      "metadata": {
        "colab": {
          "base_uri": "https://localhost:8080/"
        },
        "id": "c5LFnP-9EcHB",
        "outputId": "1f42c186-5d0c-47a4-cb95-26256317850c"
      },
      "outputs": [
        {
          "name": "stdout",
          "output_type": "stream",
          "text": [
            "epoch: 0 - loss: 0.7047 - accuracy train: 0.5080 -accuracy valid: 0.5044  - val roc: 0.5493  - val f1micro: 0.5044\n",
            "epoch: 5 - loss: 0.3159 - accuracy train: 0.8983 -accuracy valid: 0.8926  - val roc: 0.7673  - val f1micro: 0.8926\n"
          ]
        }
      ],
      "source": [
        "#here we run GATv2 model\n",
        "model = GATv2(data_train.num_node_features, args['hidden_dim'], 1, args)\n",
        "model.double().to(device)\n",
        "# Push data to GPU\n",
        "data_train = data_train.to(device)\n",
        "\n",
        "# Setup training settings\n",
        "optimizer = torch.optim.Adam(model.parameters(), lr=args['lr'], weight_decay=args['weight_decay'])\n",
        "scheduler = torch.optim.lr_scheduler.ReduceLROnPlateau(optimizer, 'min')\n",
        "criterion = torch.nn.BCELoss()\n",
        "# Train\n",
        "gnn_trainer_gatv2 = GnnTrainer(model)\n",
        "gnn_trainer_gatv2.train(data_train, optimizer, criterion, scheduler, args)\n",
        "\n",
        "gnn_trainer_gatv2.save_metrics(\"GATv2prebuilt.results\", path=FOLDERNAME + \"/save_results/\")\n",
        "gnn_trainer_gatv2.save_model(\"GATv2prebuilt.pth\", path=FOLDERNAME + \"/save_results/\")"
      ]
    },
    {
      "cell_type": "code",
      "execution_count": 34,
      "metadata": {
        "colab": {
          "base_uri": "https://localhost:8080/"
        },
        "id": "A1WEGLlYUuQs",
        "outputId": "10ee68a9-95b2-40d8-bf16-eb397871f52f"
      },
      "outputs": [
        {
          "name": "stdout",
          "output_type": "stream",
          "text": [
            "epoch: 0 - loss: 0.6879 - accuracy train: 0.7957 -accuracy valid: 0.7956  - val roc: 0.5054  - val f1micro: 0.7956\n",
            "epoch: 5 - loss: 0.4580 - accuracy train: 0.9025 -accuracy valid: 0.8958  - val roc: 0.5278  - val f1micro: 0.8958\n"
          ]
        }
      ],
      "source": [
        "#here we run GATmodif model\n",
        "model = GATmodif(data_train.num_node_features, args['hidden_dim'], 1, args)\n",
        "model.double().to(device)\n",
        "# Push data to GPU\n",
        "data_train = data_train.to(device)\n",
        "\n",
        "# Setup training settings\n",
        "optimizer = torch.optim.Adam(model.parameters(), lr=args['lr'], weight_decay=args['weight_decay'])\n",
        "scheduler = torch.optim.lr_scheduler.ReduceLROnPlateau(optimizer, 'min')\n",
        "criterion = torch.nn.BCELoss()\n",
        "# Train\n",
        "gnn_trainer_gatmodif = GnnTrainer(model)\n",
        "gnn_trainer_gatmodif.train(data_train, optimizer, criterion, scheduler, args)\n",
        "\n",
        "gnn_trainer_gatmodif.save_metrics(\"GATmodif.results\", path=FOLDERNAME + \"/save_results/\")\n",
        "gnn_trainer_gatmodif.save_model(\"GATmodif.pth\", path=FOLDERNAME + \"/save_results/\")"
      ]
    },
    {
      "cell_type": "code",
      "execution_count": 35,
      "metadata": {},
      "outputs": [
        {
          "name": "stdout",
          "output_type": "stream",
          "text": [
            "updating: save_results/ (164 bytes security) (stored 0%)\n",
            "updating: save_results/GATmodif.pth (164 bytes security) (deflated 10%)\n",
            "updating: save_results/GATmodif.results (164 bytes security) (deflated 70%)\n",
            "updating: save_results/GATprebuilt.pth (164 bytes security) (deflated 10%)\n",
            "updating: save_results/GATprebuilt.results (164 bytes security) (deflated 66%)\n",
            "updating: save_results/GATv2prebuilt.pth (164 bytes security) (deflated 8%)\n",
            "updating: save_results/GATv2prebuilt.results (164 bytes security) (deflated 64%)\n"
          ]
        }
      ],
      "source": [
        "def zip_result():\n",
        "    if is_colab():\n",
        "        !zip -r '/content/drive/MyDrive/data science project/save_results' save_results\n",
        "    else:\n",
        "        !zip -r save_results.zip save_results\n",
        "zip_result()"
      ]
    },
    {
      "attachments": {},
      "cell_type": "markdown",
      "metadata": {
        "id": "uGSHiN3TMEz4"
      },
      "source": [
        "You can also run our custom models GATmodif and GATv2modif by setting in args, prebuild=False or run with GATmodif_3layer: \\\\\n",
        "```model = GATmodif_3layer(data_train.num_node_features, args['hidden_dim'], 1, args) ``` \\\\\n",
        "After training few models, you can load your saved outputs. Here we load the outputs of GAT and GATv2 from builtin PyG."
      ]
    },
    {
      "cell_type": "code",
      "execution_count": 36,
      "metadata": {
        "colab": {
          "base_uri": "https://localhost:8080/"
        },
        "id": "0nOsnV_Sf_Bf",
        "outputId": "c15ae8c8-ac58-4521-ccc3-72acc542715b"
      },
      "outputs": [
        {
          "data": {
            "text/plain": [
              "{'accuracy': 0.8964924838940587,\n",
              " 'f1micro': 0.8964924838940587,\n",
              " 'f1macro': 0.4754535914797997,\n",
              " 'aucroc': 0.8215410560991587,\n",
              " 'precision': 0.4,\n",
              " 'recall': 0.002770083102493075,\n",
              " 'cm': array([[6260,    3],\n",
              "        [ 720,    2]], dtype=int64)}"
            ]
          },
          "execution_count": 36,
          "metadata": {},
          "output_type": "execute_result"
        }
      ],
      "source": [
        "# Fetch results from saved\n",
        "fn=\"GATprebuilt.results\"\n",
        "mmGATprebuilt = pickle.load(open(FOLDERNAME + \"/save_results/\" + fn, \"rb\"))\n",
        "mmGATprebuilt.get_best(\"aucroc\")\n",
        "\n",
        "fn=\"GATv2prebuilt.results\"\n",
        "mmGATv2prebuilt = pickle.load(open(FOLDERNAME + \"/save_results/\" + fn, \"rb\"))\n",
        "mmGATv2prebuilt.get_best(\"aucroc\")"
      ]
    },
    {
      "attachments": {},
      "cell_type": "markdown",
      "metadata": {
        "id": "bwzY1wDUuUOS"
      },
      "source": [
        "# Performance visualization\n",
        "Then we can compare the performance of our models by plotting the results with a selected metric.\n"
      ]
    },
    {
      "cell_type": "code",
      "execution_count": 37,
      "metadata": {
        "id": "PWdh8k4Nnvpa"
      },
      "outputs": [],
      "source": [
        "import plotly.express as px\n",
        "import plotly.graph_objects as go\n",
        "\n",
        "# Validation accuracy comparisons\n",
        "def plot_training_comp(metric_manager_list, names, metric=\"aucroc\", version=\"val\",title=\"Val set accuracy comparison\"):\n",
        "\n",
        "  fig = go.Figure()\n",
        "  fig = fig.update_layout(title=title,\n",
        "                          xaxis_title=\"Epoch\",\n",
        "                          yaxis_title=metric)\n",
        "\n",
        "  for i, metric_manager in enumerate(metric_manager_list):\n",
        "    epochs = np.arange(len(metric_manager.output[version][metric]))\n",
        "    fig.add_trace(go.Scatter(x=epochs,\n",
        "                             y=metric_manager.output[version][metric],\n",
        "                             name=names[i]))\n",
        "  fig.show()\n",
        "\n",
        "# Load saved outputs\n",
        "def load_results(fn):\n",
        "  mm1 = pickle.load(open(FOLDERNAME + \"/save_results/\" + fn, \"rb\"))\n",
        "  return mm1\n"
      ]
    },
    {
      "cell_type": "code",
      "execution_count": 38,
      "metadata": {
        "colab": {
          "base_uri": "https://localhost:8080/",
          "height": 1000
        },
        "id": "wvWLlUWoVOe0",
        "outputId": "9e7256e3-6c67-446b-cf48-740fab327c43"
      },
      "outputs": [
        {
          "data": {
            "application/vnd.plotly.v1+json": {
              "config": {
                "plotlyServerURL": "https://plot.ly"
              },
              "data": [
                {
                  "name": "GAT",
                  "type": "scatter",
                  "x": [
                    0,
                    1,
                    2,
                    3,
                    4,
                    5,
                    6,
                    7,
                    8,
                    9
                  ],
                  "y": [
                    0.47745168217609163,
                    0.7166785969935576,
                    0.8339298496778812,
                    0.8757337151037938,
                    0.8886184681460272,
                    0.8946313528990695,
                    0.8947745168217609,
                    0.8960629921259843,
                    0.8963493199713672,
                    0.8963493199713672
                  ]
                },
                {
                  "name": "GATv2",
                  "type": "scatter",
                  "x": [
                    0,
                    1,
                    2,
                    3,
                    4,
                    5,
                    6,
                    7,
                    8,
                    9
                  ],
                  "y": [
                    0.5043664996420902,
                    0.716821760916249,
                    0.8237652111667859,
                    0.8715819613457408,
                    0.8831782390837509,
                    0.8926270579813887,
                    0.8947745168217609,
                    0.8950608446671439,
                    0.8957766642806013,
                    0.8964924838940587
                  ]
                }
              ],
              "layout": {
                "template": {
                  "data": {
                    "bar": [
                      {
                        "error_x": {
                          "color": "#2a3f5f"
                        },
                        "error_y": {
                          "color": "#2a3f5f"
                        },
                        "marker": {
                          "line": {
                            "color": "#E5ECF6",
                            "width": 0.5
                          },
                          "pattern": {
                            "fillmode": "overlay",
                            "size": 10,
                            "solidity": 0.2
                          }
                        },
                        "type": "bar"
                      }
                    ],
                    "barpolar": [
                      {
                        "marker": {
                          "line": {
                            "color": "#E5ECF6",
                            "width": 0.5
                          },
                          "pattern": {
                            "fillmode": "overlay",
                            "size": 10,
                            "solidity": 0.2
                          }
                        },
                        "type": "barpolar"
                      }
                    ],
                    "carpet": [
                      {
                        "aaxis": {
                          "endlinecolor": "#2a3f5f",
                          "gridcolor": "white",
                          "linecolor": "white",
                          "minorgridcolor": "white",
                          "startlinecolor": "#2a3f5f"
                        },
                        "baxis": {
                          "endlinecolor": "#2a3f5f",
                          "gridcolor": "white",
                          "linecolor": "white",
                          "minorgridcolor": "white",
                          "startlinecolor": "#2a3f5f"
                        },
                        "type": "carpet"
                      }
                    ],
                    "choropleth": [
                      {
                        "colorbar": {
                          "outlinewidth": 0,
                          "ticks": ""
                        },
                        "type": "choropleth"
                      }
                    ],
                    "contour": [
                      {
                        "colorbar": {
                          "outlinewidth": 0,
                          "ticks": ""
                        },
                        "colorscale": [
                          [
                            0,
                            "#0d0887"
                          ],
                          [
                            0.1111111111111111,
                            "#46039f"
                          ],
                          [
                            0.2222222222222222,
                            "#7201a8"
                          ],
                          [
                            0.3333333333333333,
                            "#9c179e"
                          ],
                          [
                            0.4444444444444444,
                            "#bd3786"
                          ],
                          [
                            0.5555555555555556,
                            "#d8576b"
                          ],
                          [
                            0.6666666666666666,
                            "#ed7953"
                          ],
                          [
                            0.7777777777777778,
                            "#fb9f3a"
                          ],
                          [
                            0.8888888888888888,
                            "#fdca26"
                          ],
                          [
                            1,
                            "#f0f921"
                          ]
                        ],
                        "type": "contour"
                      }
                    ],
                    "contourcarpet": [
                      {
                        "colorbar": {
                          "outlinewidth": 0,
                          "ticks": ""
                        },
                        "type": "contourcarpet"
                      }
                    ],
                    "heatmap": [
                      {
                        "colorbar": {
                          "outlinewidth": 0,
                          "ticks": ""
                        },
                        "colorscale": [
                          [
                            0,
                            "#0d0887"
                          ],
                          [
                            0.1111111111111111,
                            "#46039f"
                          ],
                          [
                            0.2222222222222222,
                            "#7201a8"
                          ],
                          [
                            0.3333333333333333,
                            "#9c179e"
                          ],
                          [
                            0.4444444444444444,
                            "#bd3786"
                          ],
                          [
                            0.5555555555555556,
                            "#d8576b"
                          ],
                          [
                            0.6666666666666666,
                            "#ed7953"
                          ],
                          [
                            0.7777777777777778,
                            "#fb9f3a"
                          ],
                          [
                            0.8888888888888888,
                            "#fdca26"
                          ],
                          [
                            1,
                            "#f0f921"
                          ]
                        ],
                        "type": "heatmap"
                      }
                    ],
                    "heatmapgl": [
                      {
                        "colorbar": {
                          "outlinewidth": 0,
                          "ticks": ""
                        },
                        "colorscale": [
                          [
                            0,
                            "#0d0887"
                          ],
                          [
                            0.1111111111111111,
                            "#46039f"
                          ],
                          [
                            0.2222222222222222,
                            "#7201a8"
                          ],
                          [
                            0.3333333333333333,
                            "#9c179e"
                          ],
                          [
                            0.4444444444444444,
                            "#bd3786"
                          ],
                          [
                            0.5555555555555556,
                            "#d8576b"
                          ],
                          [
                            0.6666666666666666,
                            "#ed7953"
                          ],
                          [
                            0.7777777777777778,
                            "#fb9f3a"
                          ],
                          [
                            0.8888888888888888,
                            "#fdca26"
                          ],
                          [
                            1,
                            "#f0f921"
                          ]
                        ],
                        "type": "heatmapgl"
                      }
                    ],
                    "histogram": [
                      {
                        "marker": {
                          "pattern": {
                            "fillmode": "overlay",
                            "size": 10,
                            "solidity": 0.2
                          }
                        },
                        "type": "histogram"
                      }
                    ],
                    "histogram2d": [
                      {
                        "colorbar": {
                          "outlinewidth": 0,
                          "ticks": ""
                        },
                        "colorscale": [
                          [
                            0,
                            "#0d0887"
                          ],
                          [
                            0.1111111111111111,
                            "#46039f"
                          ],
                          [
                            0.2222222222222222,
                            "#7201a8"
                          ],
                          [
                            0.3333333333333333,
                            "#9c179e"
                          ],
                          [
                            0.4444444444444444,
                            "#bd3786"
                          ],
                          [
                            0.5555555555555556,
                            "#d8576b"
                          ],
                          [
                            0.6666666666666666,
                            "#ed7953"
                          ],
                          [
                            0.7777777777777778,
                            "#fb9f3a"
                          ],
                          [
                            0.8888888888888888,
                            "#fdca26"
                          ],
                          [
                            1,
                            "#f0f921"
                          ]
                        ],
                        "type": "histogram2d"
                      }
                    ],
                    "histogram2dcontour": [
                      {
                        "colorbar": {
                          "outlinewidth": 0,
                          "ticks": ""
                        },
                        "colorscale": [
                          [
                            0,
                            "#0d0887"
                          ],
                          [
                            0.1111111111111111,
                            "#46039f"
                          ],
                          [
                            0.2222222222222222,
                            "#7201a8"
                          ],
                          [
                            0.3333333333333333,
                            "#9c179e"
                          ],
                          [
                            0.4444444444444444,
                            "#bd3786"
                          ],
                          [
                            0.5555555555555556,
                            "#d8576b"
                          ],
                          [
                            0.6666666666666666,
                            "#ed7953"
                          ],
                          [
                            0.7777777777777778,
                            "#fb9f3a"
                          ],
                          [
                            0.8888888888888888,
                            "#fdca26"
                          ],
                          [
                            1,
                            "#f0f921"
                          ]
                        ],
                        "type": "histogram2dcontour"
                      }
                    ],
                    "mesh3d": [
                      {
                        "colorbar": {
                          "outlinewidth": 0,
                          "ticks": ""
                        },
                        "type": "mesh3d"
                      }
                    ],
                    "parcoords": [
                      {
                        "line": {
                          "colorbar": {
                            "outlinewidth": 0,
                            "ticks": ""
                          }
                        },
                        "type": "parcoords"
                      }
                    ],
                    "pie": [
                      {
                        "automargin": true,
                        "type": "pie"
                      }
                    ],
                    "scatter": [
                      {
                        "fillpattern": {
                          "fillmode": "overlay",
                          "size": 10,
                          "solidity": 0.2
                        },
                        "type": "scatter"
                      }
                    ],
                    "scatter3d": [
                      {
                        "line": {
                          "colorbar": {
                            "outlinewidth": 0,
                            "ticks": ""
                          }
                        },
                        "marker": {
                          "colorbar": {
                            "outlinewidth": 0,
                            "ticks": ""
                          }
                        },
                        "type": "scatter3d"
                      }
                    ],
                    "scattercarpet": [
                      {
                        "marker": {
                          "colorbar": {
                            "outlinewidth": 0,
                            "ticks": ""
                          }
                        },
                        "type": "scattercarpet"
                      }
                    ],
                    "scattergeo": [
                      {
                        "marker": {
                          "colorbar": {
                            "outlinewidth": 0,
                            "ticks": ""
                          }
                        },
                        "type": "scattergeo"
                      }
                    ],
                    "scattergl": [
                      {
                        "marker": {
                          "colorbar": {
                            "outlinewidth": 0,
                            "ticks": ""
                          }
                        },
                        "type": "scattergl"
                      }
                    ],
                    "scattermapbox": [
                      {
                        "marker": {
                          "colorbar": {
                            "outlinewidth": 0,
                            "ticks": ""
                          }
                        },
                        "type": "scattermapbox"
                      }
                    ],
                    "scatterpolar": [
                      {
                        "marker": {
                          "colorbar": {
                            "outlinewidth": 0,
                            "ticks": ""
                          }
                        },
                        "type": "scatterpolar"
                      }
                    ],
                    "scatterpolargl": [
                      {
                        "marker": {
                          "colorbar": {
                            "outlinewidth": 0,
                            "ticks": ""
                          }
                        },
                        "type": "scatterpolargl"
                      }
                    ],
                    "scatterternary": [
                      {
                        "marker": {
                          "colorbar": {
                            "outlinewidth": 0,
                            "ticks": ""
                          }
                        },
                        "type": "scatterternary"
                      }
                    ],
                    "surface": [
                      {
                        "colorbar": {
                          "outlinewidth": 0,
                          "ticks": ""
                        },
                        "colorscale": [
                          [
                            0,
                            "#0d0887"
                          ],
                          [
                            0.1111111111111111,
                            "#46039f"
                          ],
                          [
                            0.2222222222222222,
                            "#7201a8"
                          ],
                          [
                            0.3333333333333333,
                            "#9c179e"
                          ],
                          [
                            0.4444444444444444,
                            "#bd3786"
                          ],
                          [
                            0.5555555555555556,
                            "#d8576b"
                          ],
                          [
                            0.6666666666666666,
                            "#ed7953"
                          ],
                          [
                            0.7777777777777778,
                            "#fb9f3a"
                          ],
                          [
                            0.8888888888888888,
                            "#fdca26"
                          ],
                          [
                            1,
                            "#f0f921"
                          ]
                        ],
                        "type": "surface"
                      }
                    ],
                    "table": [
                      {
                        "cells": {
                          "fill": {
                            "color": "#EBF0F8"
                          },
                          "line": {
                            "color": "white"
                          }
                        },
                        "header": {
                          "fill": {
                            "color": "#C8D4E3"
                          },
                          "line": {
                            "color": "white"
                          }
                        },
                        "type": "table"
                      }
                    ]
                  },
                  "layout": {
                    "annotationdefaults": {
                      "arrowcolor": "#2a3f5f",
                      "arrowhead": 0,
                      "arrowwidth": 1
                    },
                    "autotypenumbers": "strict",
                    "coloraxis": {
                      "colorbar": {
                        "outlinewidth": 0,
                        "ticks": ""
                      }
                    },
                    "colorscale": {
                      "diverging": [
                        [
                          0,
                          "#8e0152"
                        ],
                        [
                          0.1,
                          "#c51b7d"
                        ],
                        [
                          0.2,
                          "#de77ae"
                        ],
                        [
                          0.3,
                          "#f1b6da"
                        ],
                        [
                          0.4,
                          "#fde0ef"
                        ],
                        [
                          0.5,
                          "#f7f7f7"
                        ],
                        [
                          0.6,
                          "#e6f5d0"
                        ],
                        [
                          0.7,
                          "#b8e186"
                        ],
                        [
                          0.8,
                          "#7fbc41"
                        ],
                        [
                          0.9,
                          "#4d9221"
                        ],
                        [
                          1,
                          "#276419"
                        ]
                      ],
                      "sequential": [
                        [
                          0,
                          "#0d0887"
                        ],
                        [
                          0.1111111111111111,
                          "#46039f"
                        ],
                        [
                          0.2222222222222222,
                          "#7201a8"
                        ],
                        [
                          0.3333333333333333,
                          "#9c179e"
                        ],
                        [
                          0.4444444444444444,
                          "#bd3786"
                        ],
                        [
                          0.5555555555555556,
                          "#d8576b"
                        ],
                        [
                          0.6666666666666666,
                          "#ed7953"
                        ],
                        [
                          0.7777777777777778,
                          "#fb9f3a"
                        ],
                        [
                          0.8888888888888888,
                          "#fdca26"
                        ],
                        [
                          1,
                          "#f0f921"
                        ]
                      ],
                      "sequentialminus": [
                        [
                          0,
                          "#0d0887"
                        ],
                        [
                          0.1111111111111111,
                          "#46039f"
                        ],
                        [
                          0.2222222222222222,
                          "#7201a8"
                        ],
                        [
                          0.3333333333333333,
                          "#9c179e"
                        ],
                        [
                          0.4444444444444444,
                          "#bd3786"
                        ],
                        [
                          0.5555555555555556,
                          "#d8576b"
                        ],
                        [
                          0.6666666666666666,
                          "#ed7953"
                        ],
                        [
                          0.7777777777777778,
                          "#fb9f3a"
                        ],
                        [
                          0.8888888888888888,
                          "#fdca26"
                        ],
                        [
                          1,
                          "#f0f921"
                        ]
                      ]
                    },
                    "colorway": [
                      "#636efa",
                      "#EF553B",
                      "#00cc96",
                      "#ab63fa",
                      "#FFA15A",
                      "#19d3f3",
                      "#FF6692",
                      "#B6E880",
                      "#FF97FF",
                      "#FECB52"
                    ],
                    "font": {
                      "color": "#2a3f5f"
                    },
                    "geo": {
                      "bgcolor": "white",
                      "lakecolor": "white",
                      "landcolor": "#E5ECF6",
                      "showlakes": true,
                      "showland": true,
                      "subunitcolor": "white"
                    },
                    "hoverlabel": {
                      "align": "left"
                    },
                    "hovermode": "closest",
                    "mapbox": {
                      "style": "light"
                    },
                    "paper_bgcolor": "white",
                    "plot_bgcolor": "#E5ECF6",
                    "polar": {
                      "angularaxis": {
                        "gridcolor": "white",
                        "linecolor": "white",
                        "ticks": ""
                      },
                      "bgcolor": "#E5ECF6",
                      "radialaxis": {
                        "gridcolor": "white",
                        "linecolor": "white",
                        "ticks": ""
                      }
                    },
                    "scene": {
                      "xaxis": {
                        "backgroundcolor": "#E5ECF6",
                        "gridcolor": "white",
                        "gridwidth": 2,
                        "linecolor": "white",
                        "showbackground": true,
                        "ticks": "",
                        "zerolinecolor": "white"
                      },
                      "yaxis": {
                        "backgroundcolor": "#E5ECF6",
                        "gridcolor": "white",
                        "gridwidth": 2,
                        "linecolor": "white",
                        "showbackground": true,
                        "ticks": "",
                        "zerolinecolor": "white"
                      },
                      "zaxis": {
                        "backgroundcolor": "#E5ECF6",
                        "gridcolor": "white",
                        "gridwidth": 2,
                        "linecolor": "white",
                        "showbackground": true,
                        "ticks": "",
                        "zerolinecolor": "white"
                      }
                    },
                    "shapedefaults": {
                      "line": {
                        "color": "#2a3f5f"
                      }
                    },
                    "ternary": {
                      "aaxis": {
                        "gridcolor": "white",
                        "linecolor": "white",
                        "ticks": ""
                      },
                      "baxis": {
                        "gridcolor": "white",
                        "linecolor": "white",
                        "ticks": ""
                      },
                      "bgcolor": "#E5ECF6",
                      "caxis": {
                        "gridcolor": "white",
                        "linecolor": "white",
                        "ticks": ""
                      }
                    },
                    "title": {
                      "x": 0.05
                    },
                    "xaxis": {
                      "automargin": true,
                      "gridcolor": "white",
                      "linecolor": "white",
                      "ticks": "",
                      "title": {
                        "standoff": 15
                      },
                      "zerolinecolor": "white",
                      "zerolinewidth": 2
                    },
                    "yaxis": {
                      "automargin": true,
                      "gridcolor": "white",
                      "linecolor": "white",
                      "ticks": "",
                      "title": {
                        "standoff": 15
                      },
                      "zerolinecolor": "white",
                      "zerolinewidth": 2
                    }
                  }
                },
                "title": {
                  "text": "Val set f1micro, heads=2"
                },
                "xaxis": {
                  "title": {
                    "text": "Epoch"
                  }
                },
                "yaxis": {
                  "title": {
                    "text": "f1micro"
                  }
                }
              }
            }
          },
          "metadata": {},
          "output_type": "display_data"
        },
        {
          "data": {
            "application/vnd.plotly.v1+json": {
              "config": {
                "plotlyServerURL": "https://plot.ly"
              },
              "data": [
                {
                  "name": "GAT",
                  "type": "scatter",
                  "x": [
                    0,
                    1,
                    2,
                    3,
                    4,
                    5,
                    6,
                    7,
                    8,
                    9
                  ],
                  "y": [
                    0.47745168217609163,
                    0.7166785969935576,
                    0.8339298496778812,
                    0.8757337151037938,
                    0.8886184681460272,
                    0.8946313528990695,
                    0.8947745168217609,
                    0.8960629921259843,
                    0.8963493199713672,
                    0.8963493199713672
                  ]
                },
                {
                  "name": "GATv2",
                  "type": "scatter",
                  "x": [
                    0,
                    1,
                    2,
                    3,
                    4,
                    5,
                    6,
                    7,
                    8,
                    9
                  ],
                  "y": [
                    0.5043664996420902,
                    0.716821760916249,
                    0.8237652111667859,
                    0.8715819613457408,
                    0.8831782390837509,
                    0.8926270579813886,
                    0.8947745168217609,
                    0.8950608446671439,
                    0.8957766642806013,
                    0.8964924838940587
                  ]
                }
              ],
              "layout": {
                "template": {
                  "data": {
                    "bar": [
                      {
                        "error_x": {
                          "color": "#2a3f5f"
                        },
                        "error_y": {
                          "color": "#2a3f5f"
                        },
                        "marker": {
                          "line": {
                            "color": "#E5ECF6",
                            "width": 0.5
                          },
                          "pattern": {
                            "fillmode": "overlay",
                            "size": 10,
                            "solidity": 0.2
                          }
                        },
                        "type": "bar"
                      }
                    ],
                    "barpolar": [
                      {
                        "marker": {
                          "line": {
                            "color": "#E5ECF6",
                            "width": 0.5
                          },
                          "pattern": {
                            "fillmode": "overlay",
                            "size": 10,
                            "solidity": 0.2
                          }
                        },
                        "type": "barpolar"
                      }
                    ],
                    "carpet": [
                      {
                        "aaxis": {
                          "endlinecolor": "#2a3f5f",
                          "gridcolor": "white",
                          "linecolor": "white",
                          "minorgridcolor": "white",
                          "startlinecolor": "#2a3f5f"
                        },
                        "baxis": {
                          "endlinecolor": "#2a3f5f",
                          "gridcolor": "white",
                          "linecolor": "white",
                          "minorgridcolor": "white",
                          "startlinecolor": "#2a3f5f"
                        },
                        "type": "carpet"
                      }
                    ],
                    "choropleth": [
                      {
                        "colorbar": {
                          "outlinewidth": 0,
                          "ticks": ""
                        },
                        "type": "choropleth"
                      }
                    ],
                    "contour": [
                      {
                        "colorbar": {
                          "outlinewidth": 0,
                          "ticks": ""
                        },
                        "colorscale": [
                          [
                            0,
                            "#0d0887"
                          ],
                          [
                            0.1111111111111111,
                            "#46039f"
                          ],
                          [
                            0.2222222222222222,
                            "#7201a8"
                          ],
                          [
                            0.3333333333333333,
                            "#9c179e"
                          ],
                          [
                            0.4444444444444444,
                            "#bd3786"
                          ],
                          [
                            0.5555555555555556,
                            "#d8576b"
                          ],
                          [
                            0.6666666666666666,
                            "#ed7953"
                          ],
                          [
                            0.7777777777777778,
                            "#fb9f3a"
                          ],
                          [
                            0.8888888888888888,
                            "#fdca26"
                          ],
                          [
                            1,
                            "#f0f921"
                          ]
                        ],
                        "type": "contour"
                      }
                    ],
                    "contourcarpet": [
                      {
                        "colorbar": {
                          "outlinewidth": 0,
                          "ticks": ""
                        },
                        "type": "contourcarpet"
                      }
                    ],
                    "heatmap": [
                      {
                        "colorbar": {
                          "outlinewidth": 0,
                          "ticks": ""
                        },
                        "colorscale": [
                          [
                            0,
                            "#0d0887"
                          ],
                          [
                            0.1111111111111111,
                            "#46039f"
                          ],
                          [
                            0.2222222222222222,
                            "#7201a8"
                          ],
                          [
                            0.3333333333333333,
                            "#9c179e"
                          ],
                          [
                            0.4444444444444444,
                            "#bd3786"
                          ],
                          [
                            0.5555555555555556,
                            "#d8576b"
                          ],
                          [
                            0.6666666666666666,
                            "#ed7953"
                          ],
                          [
                            0.7777777777777778,
                            "#fb9f3a"
                          ],
                          [
                            0.8888888888888888,
                            "#fdca26"
                          ],
                          [
                            1,
                            "#f0f921"
                          ]
                        ],
                        "type": "heatmap"
                      }
                    ],
                    "heatmapgl": [
                      {
                        "colorbar": {
                          "outlinewidth": 0,
                          "ticks": ""
                        },
                        "colorscale": [
                          [
                            0,
                            "#0d0887"
                          ],
                          [
                            0.1111111111111111,
                            "#46039f"
                          ],
                          [
                            0.2222222222222222,
                            "#7201a8"
                          ],
                          [
                            0.3333333333333333,
                            "#9c179e"
                          ],
                          [
                            0.4444444444444444,
                            "#bd3786"
                          ],
                          [
                            0.5555555555555556,
                            "#d8576b"
                          ],
                          [
                            0.6666666666666666,
                            "#ed7953"
                          ],
                          [
                            0.7777777777777778,
                            "#fb9f3a"
                          ],
                          [
                            0.8888888888888888,
                            "#fdca26"
                          ],
                          [
                            1,
                            "#f0f921"
                          ]
                        ],
                        "type": "heatmapgl"
                      }
                    ],
                    "histogram": [
                      {
                        "marker": {
                          "pattern": {
                            "fillmode": "overlay",
                            "size": 10,
                            "solidity": 0.2
                          }
                        },
                        "type": "histogram"
                      }
                    ],
                    "histogram2d": [
                      {
                        "colorbar": {
                          "outlinewidth": 0,
                          "ticks": ""
                        },
                        "colorscale": [
                          [
                            0,
                            "#0d0887"
                          ],
                          [
                            0.1111111111111111,
                            "#46039f"
                          ],
                          [
                            0.2222222222222222,
                            "#7201a8"
                          ],
                          [
                            0.3333333333333333,
                            "#9c179e"
                          ],
                          [
                            0.4444444444444444,
                            "#bd3786"
                          ],
                          [
                            0.5555555555555556,
                            "#d8576b"
                          ],
                          [
                            0.6666666666666666,
                            "#ed7953"
                          ],
                          [
                            0.7777777777777778,
                            "#fb9f3a"
                          ],
                          [
                            0.8888888888888888,
                            "#fdca26"
                          ],
                          [
                            1,
                            "#f0f921"
                          ]
                        ],
                        "type": "histogram2d"
                      }
                    ],
                    "histogram2dcontour": [
                      {
                        "colorbar": {
                          "outlinewidth": 0,
                          "ticks": ""
                        },
                        "colorscale": [
                          [
                            0,
                            "#0d0887"
                          ],
                          [
                            0.1111111111111111,
                            "#46039f"
                          ],
                          [
                            0.2222222222222222,
                            "#7201a8"
                          ],
                          [
                            0.3333333333333333,
                            "#9c179e"
                          ],
                          [
                            0.4444444444444444,
                            "#bd3786"
                          ],
                          [
                            0.5555555555555556,
                            "#d8576b"
                          ],
                          [
                            0.6666666666666666,
                            "#ed7953"
                          ],
                          [
                            0.7777777777777778,
                            "#fb9f3a"
                          ],
                          [
                            0.8888888888888888,
                            "#fdca26"
                          ],
                          [
                            1,
                            "#f0f921"
                          ]
                        ],
                        "type": "histogram2dcontour"
                      }
                    ],
                    "mesh3d": [
                      {
                        "colorbar": {
                          "outlinewidth": 0,
                          "ticks": ""
                        },
                        "type": "mesh3d"
                      }
                    ],
                    "parcoords": [
                      {
                        "line": {
                          "colorbar": {
                            "outlinewidth": 0,
                            "ticks": ""
                          }
                        },
                        "type": "parcoords"
                      }
                    ],
                    "pie": [
                      {
                        "automargin": true,
                        "type": "pie"
                      }
                    ],
                    "scatter": [
                      {
                        "fillpattern": {
                          "fillmode": "overlay",
                          "size": 10,
                          "solidity": 0.2
                        },
                        "type": "scatter"
                      }
                    ],
                    "scatter3d": [
                      {
                        "line": {
                          "colorbar": {
                            "outlinewidth": 0,
                            "ticks": ""
                          }
                        },
                        "marker": {
                          "colorbar": {
                            "outlinewidth": 0,
                            "ticks": ""
                          }
                        },
                        "type": "scatter3d"
                      }
                    ],
                    "scattercarpet": [
                      {
                        "marker": {
                          "colorbar": {
                            "outlinewidth": 0,
                            "ticks": ""
                          }
                        },
                        "type": "scattercarpet"
                      }
                    ],
                    "scattergeo": [
                      {
                        "marker": {
                          "colorbar": {
                            "outlinewidth": 0,
                            "ticks": ""
                          }
                        },
                        "type": "scattergeo"
                      }
                    ],
                    "scattergl": [
                      {
                        "marker": {
                          "colorbar": {
                            "outlinewidth": 0,
                            "ticks": ""
                          }
                        },
                        "type": "scattergl"
                      }
                    ],
                    "scattermapbox": [
                      {
                        "marker": {
                          "colorbar": {
                            "outlinewidth": 0,
                            "ticks": ""
                          }
                        },
                        "type": "scattermapbox"
                      }
                    ],
                    "scatterpolar": [
                      {
                        "marker": {
                          "colorbar": {
                            "outlinewidth": 0,
                            "ticks": ""
                          }
                        },
                        "type": "scatterpolar"
                      }
                    ],
                    "scatterpolargl": [
                      {
                        "marker": {
                          "colorbar": {
                            "outlinewidth": 0,
                            "ticks": ""
                          }
                        },
                        "type": "scatterpolargl"
                      }
                    ],
                    "scatterternary": [
                      {
                        "marker": {
                          "colorbar": {
                            "outlinewidth": 0,
                            "ticks": ""
                          }
                        },
                        "type": "scatterternary"
                      }
                    ],
                    "surface": [
                      {
                        "colorbar": {
                          "outlinewidth": 0,
                          "ticks": ""
                        },
                        "colorscale": [
                          [
                            0,
                            "#0d0887"
                          ],
                          [
                            0.1111111111111111,
                            "#46039f"
                          ],
                          [
                            0.2222222222222222,
                            "#7201a8"
                          ],
                          [
                            0.3333333333333333,
                            "#9c179e"
                          ],
                          [
                            0.4444444444444444,
                            "#bd3786"
                          ],
                          [
                            0.5555555555555556,
                            "#d8576b"
                          ],
                          [
                            0.6666666666666666,
                            "#ed7953"
                          ],
                          [
                            0.7777777777777778,
                            "#fb9f3a"
                          ],
                          [
                            0.8888888888888888,
                            "#fdca26"
                          ],
                          [
                            1,
                            "#f0f921"
                          ]
                        ],
                        "type": "surface"
                      }
                    ],
                    "table": [
                      {
                        "cells": {
                          "fill": {
                            "color": "#EBF0F8"
                          },
                          "line": {
                            "color": "white"
                          }
                        },
                        "header": {
                          "fill": {
                            "color": "#C8D4E3"
                          },
                          "line": {
                            "color": "white"
                          }
                        },
                        "type": "table"
                      }
                    ]
                  },
                  "layout": {
                    "annotationdefaults": {
                      "arrowcolor": "#2a3f5f",
                      "arrowhead": 0,
                      "arrowwidth": 1
                    },
                    "autotypenumbers": "strict",
                    "coloraxis": {
                      "colorbar": {
                        "outlinewidth": 0,
                        "ticks": ""
                      }
                    },
                    "colorscale": {
                      "diverging": [
                        [
                          0,
                          "#8e0152"
                        ],
                        [
                          0.1,
                          "#c51b7d"
                        ],
                        [
                          0.2,
                          "#de77ae"
                        ],
                        [
                          0.3,
                          "#f1b6da"
                        ],
                        [
                          0.4,
                          "#fde0ef"
                        ],
                        [
                          0.5,
                          "#f7f7f7"
                        ],
                        [
                          0.6,
                          "#e6f5d0"
                        ],
                        [
                          0.7,
                          "#b8e186"
                        ],
                        [
                          0.8,
                          "#7fbc41"
                        ],
                        [
                          0.9,
                          "#4d9221"
                        ],
                        [
                          1,
                          "#276419"
                        ]
                      ],
                      "sequential": [
                        [
                          0,
                          "#0d0887"
                        ],
                        [
                          0.1111111111111111,
                          "#46039f"
                        ],
                        [
                          0.2222222222222222,
                          "#7201a8"
                        ],
                        [
                          0.3333333333333333,
                          "#9c179e"
                        ],
                        [
                          0.4444444444444444,
                          "#bd3786"
                        ],
                        [
                          0.5555555555555556,
                          "#d8576b"
                        ],
                        [
                          0.6666666666666666,
                          "#ed7953"
                        ],
                        [
                          0.7777777777777778,
                          "#fb9f3a"
                        ],
                        [
                          0.8888888888888888,
                          "#fdca26"
                        ],
                        [
                          1,
                          "#f0f921"
                        ]
                      ],
                      "sequentialminus": [
                        [
                          0,
                          "#0d0887"
                        ],
                        [
                          0.1111111111111111,
                          "#46039f"
                        ],
                        [
                          0.2222222222222222,
                          "#7201a8"
                        ],
                        [
                          0.3333333333333333,
                          "#9c179e"
                        ],
                        [
                          0.4444444444444444,
                          "#bd3786"
                        ],
                        [
                          0.5555555555555556,
                          "#d8576b"
                        ],
                        [
                          0.6666666666666666,
                          "#ed7953"
                        ],
                        [
                          0.7777777777777778,
                          "#fb9f3a"
                        ],
                        [
                          0.8888888888888888,
                          "#fdca26"
                        ],
                        [
                          1,
                          "#f0f921"
                        ]
                      ]
                    },
                    "colorway": [
                      "#636efa",
                      "#EF553B",
                      "#00cc96",
                      "#ab63fa",
                      "#FFA15A",
                      "#19d3f3",
                      "#FF6692",
                      "#B6E880",
                      "#FF97FF",
                      "#FECB52"
                    ],
                    "font": {
                      "color": "#2a3f5f"
                    },
                    "geo": {
                      "bgcolor": "white",
                      "lakecolor": "white",
                      "landcolor": "#E5ECF6",
                      "showlakes": true,
                      "showland": true,
                      "subunitcolor": "white"
                    },
                    "hoverlabel": {
                      "align": "left"
                    },
                    "hovermode": "closest",
                    "mapbox": {
                      "style": "light"
                    },
                    "paper_bgcolor": "white",
                    "plot_bgcolor": "#E5ECF6",
                    "polar": {
                      "angularaxis": {
                        "gridcolor": "white",
                        "linecolor": "white",
                        "ticks": ""
                      },
                      "bgcolor": "#E5ECF6",
                      "radialaxis": {
                        "gridcolor": "white",
                        "linecolor": "white",
                        "ticks": ""
                      }
                    },
                    "scene": {
                      "xaxis": {
                        "backgroundcolor": "#E5ECF6",
                        "gridcolor": "white",
                        "gridwidth": 2,
                        "linecolor": "white",
                        "showbackground": true,
                        "ticks": "",
                        "zerolinecolor": "white"
                      },
                      "yaxis": {
                        "backgroundcolor": "#E5ECF6",
                        "gridcolor": "white",
                        "gridwidth": 2,
                        "linecolor": "white",
                        "showbackground": true,
                        "ticks": "",
                        "zerolinecolor": "white"
                      },
                      "zaxis": {
                        "backgroundcolor": "#E5ECF6",
                        "gridcolor": "white",
                        "gridwidth": 2,
                        "linecolor": "white",
                        "showbackground": true,
                        "ticks": "",
                        "zerolinecolor": "white"
                      }
                    },
                    "shapedefaults": {
                      "line": {
                        "color": "#2a3f5f"
                      }
                    },
                    "ternary": {
                      "aaxis": {
                        "gridcolor": "white",
                        "linecolor": "white",
                        "ticks": ""
                      },
                      "baxis": {
                        "gridcolor": "white",
                        "linecolor": "white",
                        "ticks": ""
                      },
                      "bgcolor": "#E5ECF6",
                      "caxis": {
                        "gridcolor": "white",
                        "linecolor": "white",
                        "ticks": ""
                      }
                    },
                    "title": {
                      "x": 0.05
                    },
                    "xaxis": {
                      "automargin": true,
                      "gridcolor": "white",
                      "linecolor": "white",
                      "ticks": "",
                      "title": {
                        "standoff": 15
                      },
                      "zerolinecolor": "white",
                      "zerolinewidth": 2
                    },
                    "yaxis": {
                      "automargin": true,
                      "gridcolor": "white",
                      "linecolor": "white",
                      "ticks": "",
                      "title": {
                        "standoff": 15
                      },
                      "zerolinecolor": "white",
                      "zerolinewidth": 2
                    }
                  }
                },
                "title": {
                  "text": "Val set accuracy ,heads=2"
                },
                "xaxis": {
                  "title": {
                    "text": "Epoch"
                  }
                },
                "yaxis": {
                  "title": {
                    "text": "accuracy"
                  }
                }
              }
            }
          },
          "metadata": {},
          "output_type": "display_data"
        },
        {
          "data": {
            "application/vnd.plotly.v1+json": {
              "config": {
                "plotlyServerURL": "https://plot.ly"
              },
              "data": [
                {
                  "name": "GAT",
                  "type": "scatter",
                  "x": [
                    0,
                    1,
                    2,
                    3,
                    4,
                    5,
                    6,
                    7,
                    8,
                    9
                  ],
                  "y": [
                    0.3862182885367356,
                    0.47409250305377404,
                    0.4889272834339929,
                    0.47477636123724143,
                    0.4743255447181148,
                    0.47219283663291517,
                    0.4735853717131865,
                    0.47259136212624586,
                    0.47267099501736376,
                    0.47267099501736376
                  ]
                },
                {
                  "name": "GATv2",
                  "type": "scatter",
                  "x": [
                    0,
                    1,
                    2,
                    3,
                    4,
                    5,
                    6,
                    7,
                    8,
                    9
                  ],
                  "y": [
                    0.4212547329556159,
                    0.5092129777244281,
                    0.5159933747342084,
                    0.5092091073779782,
                    0.479731683593442,
                    0.4768937569348086,
                    0.47759950205852647,
                    0.4723124575054771,
                    0.4738774158837893,
                    0.4754535914797997
                  ]
                }
              ],
              "layout": {
                "template": {
                  "data": {
                    "bar": [
                      {
                        "error_x": {
                          "color": "#2a3f5f"
                        },
                        "error_y": {
                          "color": "#2a3f5f"
                        },
                        "marker": {
                          "line": {
                            "color": "#E5ECF6",
                            "width": 0.5
                          },
                          "pattern": {
                            "fillmode": "overlay",
                            "size": 10,
                            "solidity": 0.2
                          }
                        },
                        "type": "bar"
                      }
                    ],
                    "barpolar": [
                      {
                        "marker": {
                          "line": {
                            "color": "#E5ECF6",
                            "width": 0.5
                          },
                          "pattern": {
                            "fillmode": "overlay",
                            "size": 10,
                            "solidity": 0.2
                          }
                        },
                        "type": "barpolar"
                      }
                    ],
                    "carpet": [
                      {
                        "aaxis": {
                          "endlinecolor": "#2a3f5f",
                          "gridcolor": "white",
                          "linecolor": "white",
                          "minorgridcolor": "white",
                          "startlinecolor": "#2a3f5f"
                        },
                        "baxis": {
                          "endlinecolor": "#2a3f5f",
                          "gridcolor": "white",
                          "linecolor": "white",
                          "minorgridcolor": "white",
                          "startlinecolor": "#2a3f5f"
                        },
                        "type": "carpet"
                      }
                    ],
                    "choropleth": [
                      {
                        "colorbar": {
                          "outlinewidth": 0,
                          "ticks": ""
                        },
                        "type": "choropleth"
                      }
                    ],
                    "contour": [
                      {
                        "colorbar": {
                          "outlinewidth": 0,
                          "ticks": ""
                        },
                        "colorscale": [
                          [
                            0,
                            "#0d0887"
                          ],
                          [
                            0.1111111111111111,
                            "#46039f"
                          ],
                          [
                            0.2222222222222222,
                            "#7201a8"
                          ],
                          [
                            0.3333333333333333,
                            "#9c179e"
                          ],
                          [
                            0.4444444444444444,
                            "#bd3786"
                          ],
                          [
                            0.5555555555555556,
                            "#d8576b"
                          ],
                          [
                            0.6666666666666666,
                            "#ed7953"
                          ],
                          [
                            0.7777777777777778,
                            "#fb9f3a"
                          ],
                          [
                            0.8888888888888888,
                            "#fdca26"
                          ],
                          [
                            1,
                            "#f0f921"
                          ]
                        ],
                        "type": "contour"
                      }
                    ],
                    "contourcarpet": [
                      {
                        "colorbar": {
                          "outlinewidth": 0,
                          "ticks": ""
                        },
                        "type": "contourcarpet"
                      }
                    ],
                    "heatmap": [
                      {
                        "colorbar": {
                          "outlinewidth": 0,
                          "ticks": ""
                        },
                        "colorscale": [
                          [
                            0,
                            "#0d0887"
                          ],
                          [
                            0.1111111111111111,
                            "#46039f"
                          ],
                          [
                            0.2222222222222222,
                            "#7201a8"
                          ],
                          [
                            0.3333333333333333,
                            "#9c179e"
                          ],
                          [
                            0.4444444444444444,
                            "#bd3786"
                          ],
                          [
                            0.5555555555555556,
                            "#d8576b"
                          ],
                          [
                            0.6666666666666666,
                            "#ed7953"
                          ],
                          [
                            0.7777777777777778,
                            "#fb9f3a"
                          ],
                          [
                            0.8888888888888888,
                            "#fdca26"
                          ],
                          [
                            1,
                            "#f0f921"
                          ]
                        ],
                        "type": "heatmap"
                      }
                    ],
                    "heatmapgl": [
                      {
                        "colorbar": {
                          "outlinewidth": 0,
                          "ticks": ""
                        },
                        "colorscale": [
                          [
                            0,
                            "#0d0887"
                          ],
                          [
                            0.1111111111111111,
                            "#46039f"
                          ],
                          [
                            0.2222222222222222,
                            "#7201a8"
                          ],
                          [
                            0.3333333333333333,
                            "#9c179e"
                          ],
                          [
                            0.4444444444444444,
                            "#bd3786"
                          ],
                          [
                            0.5555555555555556,
                            "#d8576b"
                          ],
                          [
                            0.6666666666666666,
                            "#ed7953"
                          ],
                          [
                            0.7777777777777778,
                            "#fb9f3a"
                          ],
                          [
                            0.8888888888888888,
                            "#fdca26"
                          ],
                          [
                            1,
                            "#f0f921"
                          ]
                        ],
                        "type": "heatmapgl"
                      }
                    ],
                    "histogram": [
                      {
                        "marker": {
                          "pattern": {
                            "fillmode": "overlay",
                            "size": 10,
                            "solidity": 0.2
                          }
                        },
                        "type": "histogram"
                      }
                    ],
                    "histogram2d": [
                      {
                        "colorbar": {
                          "outlinewidth": 0,
                          "ticks": ""
                        },
                        "colorscale": [
                          [
                            0,
                            "#0d0887"
                          ],
                          [
                            0.1111111111111111,
                            "#46039f"
                          ],
                          [
                            0.2222222222222222,
                            "#7201a8"
                          ],
                          [
                            0.3333333333333333,
                            "#9c179e"
                          ],
                          [
                            0.4444444444444444,
                            "#bd3786"
                          ],
                          [
                            0.5555555555555556,
                            "#d8576b"
                          ],
                          [
                            0.6666666666666666,
                            "#ed7953"
                          ],
                          [
                            0.7777777777777778,
                            "#fb9f3a"
                          ],
                          [
                            0.8888888888888888,
                            "#fdca26"
                          ],
                          [
                            1,
                            "#f0f921"
                          ]
                        ],
                        "type": "histogram2d"
                      }
                    ],
                    "histogram2dcontour": [
                      {
                        "colorbar": {
                          "outlinewidth": 0,
                          "ticks": ""
                        },
                        "colorscale": [
                          [
                            0,
                            "#0d0887"
                          ],
                          [
                            0.1111111111111111,
                            "#46039f"
                          ],
                          [
                            0.2222222222222222,
                            "#7201a8"
                          ],
                          [
                            0.3333333333333333,
                            "#9c179e"
                          ],
                          [
                            0.4444444444444444,
                            "#bd3786"
                          ],
                          [
                            0.5555555555555556,
                            "#d8576b"
                          ],
                          [
                            0.6666666666666666,
                            "#ed7953"
                          ],
                          [
                            0.7777777777777778,
                            "#fb9f3a"
                          ],
                          [
                            0.8888888888888888,
                            "#fdca26"
                          ],
                          [
                            1,
                            "#f0f921"
                          ]
                        ],
                        "type": "histogram2dcontour"
                      }
                    ],
                    "mesh3d": [
                      {
                        "colorbar": {
                          "outlinewidth": 0,
                          "ticks": ""
                        },
                        "type": "mesh3d"
                      }
                    ],
                    "parcoords": [
                      {
                        "line": {
                          "colorbar": {
                            "outlinewidth": 0,
                            "ticks": ""
                          }
                        },
                        "type": "parcoords"
                      }
                    ],
                    "pie": [
                      {
                        "automargin": true,
                        "type": "pie"
                      }
                    ],
                    "scatter": [
                      {
                        "fillpattern": {
                          "fillmode": "overlay",
                          "size": 10,
                          "solidity": 0.2
                        },
                        "type": "scatter"
                      }
                    ],
                    "scatter3d": [
                      {
                        "line": {
                          "colorbar": {
                            "outlinewidth": 0,
                            "ticks": ""
                          }
                        },
                        "marker": {
                          "colorbar": {
                            "outlinewidth": 0,
                            "ticks": ""
                          }
                        },
                        "type": "scatter3d"
                      }
                    ],
                    "scattercarpet": [
                      {
                        "marker": {
                          "colorbar": {
                            "outlinewidth": 0,
                            "ticks": ""
                          }
                        },
                        "type": "scattercarpet"
                      }
                    ],
                    "scattergeo": [
                      {
                        "marker": {
                          "colorbar": {
                            "outlinewidth": 0,
                            "ticks": ""
                          }
                        },
                        "type": "scattergeo"
                      }
                    ],
                    "scattergl": [
                      {
                        "marker": {
                          "colorbar": {
                            "outlinewidth": 0,
                            "ticks": ""
                          }
                        },
                        "type": "scattergl"
                      }
                    ],
                    "scattermapbox": [
                      {
                        "marker": {
                          "colorbar": {
                            "outlinewidth": 0,
                            "ticks": ""
                          }
                        },
                        "type": "scattermapbox"
                      }
                    ],
                    "scatterpolar": [
                      {
                        "marker": {
                          "colorbar": {
                            "outlinewidth": 0,
                            "ticks": ""
                          }
                        },
                        "type": "scatterpolar"
                      }
                    ],
                    "scatterpolargl": [
                      {
                        "marker": {
                          "colorbar": {
                            "outlinewidth": 0,
                            "ticks": ""
                          }
                        },
                        "type": "scatterpolargl"
                      }
                    ],
                    "scatterternary": [
                      {
                        "marker": {
                          "colorbar": {
                            "outlinewidth": 0,
                            "ticks": ""
                          }
                        },
                        "type": "scatterternary"
                      }
                    ],
                    "surface": [
                      {
                        "colorbar": {
                          "outlinewidth": 0,
                          "ticks": ""
                        },
                        "colorscale": [
                          [
                            0,
                            "#0d0887"
                          ],
                          [
                            0.1111111111111111,
                            "#46039f"
                          ],
                          [
                            0.2222222222222222,
                            "#7201a8"
                          ],
                          [
                            0.3333333333333333,
                            "#9c179e"
                          ],
                          [
                            0.4444444444444444,
                            "#bd3786"
                          ],
                          [
                            0.5555555555555556,
                            "#d8576b"
                          ],
                          [
                            0.6666666666666666,
                            "#ed7953"
                          ],
                          [
                            0.7777777777777778,
                            "#fb9f3a"
                          ],
                          [
                            0.8888888888888888,
                            "#fdca26"
                          ],
                          [
                            1,
                            "#f0f921"
                          ]
                        ],
                        "type": "surface"
                      }
                    ],
                    "table": [
                      {
                        "cells": {
                          "fill": {
                            "color": "#EBF0F8"
                          },
                          "line": {
                            "color": "white"
                          }
                        },
                        "header": {
                          "fill": {
                            "color": "#C8D4E3"
                          },
                          "line": {
                            "color": "white"
                          }
                        },
                        "type": "table"
                      }
                    ]
                  },
                  "layout": {
                    "annotationdefaults": {
                      "arrowcolor": "#2a3f5f",
                      "arrowhead": 0,
                      "arrowwidth": 1
                    },
                    "autotypenumbers": "strict",
                    "coloraxis": {
                      "colorbar": {
                        "outlinewidth": 0,
                        "ticks": ""
                      }
                    },
                    "colorscale": {
                      "diverging": [
                        [
                          0,
                          "#8e0152"
                        ],
                        [
                          0.1,
                          "#c51b7d"
                        ],
                        [
                          0.2,
                          "#de77ae"
                        ],
                        [
                          0.3,
                          "#f1b6da"
                        ],
                        [
                          0.4,
                          "#fde0ef"
                        ],
                        [
                          0.5,
                          "#f7f7f7"
                        ],
                        [
                          0.6,
                          "#e6f5d0"
                        ],
                        [
                          0.7,
                          "#b8e186"
                        ],
                        [
                          0.8,
                          "#7fbc41"
                        ],
                        [
                          0.9,
                          "#4d9221"
                        ],
                        [
                          1,
                          "#276419"
                        ]
                      ],
                      "sequential": [
                        [
                          0,
                          "#0d0887"
                        ],
                        [
                          0.1111111111111111,
                          "#46039f"
                        ],
                        [
                          0.2222222222222222,
                          "#7201a8"
                        ],
                        [
                          0.3333333333333333,
                          "#9c179e"
                        ],
                        [
                          0.4444444444444444,
                          "#bd3786"
                        ],
                        [
                          0.5555555555555556,
                          "#d8576b"
                        ],
                        [
                          0.6666666666666666,
                          "#ed7953"
                        ],
                        [
                          0.7777777777777778,
                          "#fb9f3a"
                        ],
                        [
                          0.8888888888888888,
                          "#fdca26"
                        ],
                        [
                          1,
                          "#f0f921"
                        ]
                      ],
                      "sequentialminus": [
                        [
                          0,
                          "#0d0887"
                        ],
                        [
                          0.1111111111111111,
                          "#46039f"
                        ],
                        [
                          0.2222222222222222,
                          "#7201a8"
                        ],
                        [
                          0.3333333333333333,
                          "#9c179e"
                        ],
                        [
                          0.4444444444444444,
                          "#bd3786"
                        ],
                        [
                          0.5555555555555556,
                          "#d8576b"
                        ],
                        [
                          0.6666666666666666,
                          "#ed7953"
                        ],
                        [
                          0.7777777777777778,
                          "#fb9f3a"
                        ],
                        [
                          0.8888888888888888,
                          "#fdca26"
                        ],
                        [
                          1,
                          "#f0f921"
                        ]
                      ]
                    },
                    "colorway": [
                      "#636efa",
                      "#EF553B",
                      "#00cc96",
                      "#ab63fa",
                      "#FFA15A",
                      "#19d3f3",
                      "#FF6692",
                      "#B6E880",
                      "#FF97FF",
                      "#FECB52"
                    ],
                    "font": {
                      "color": "#2a3f5f"
                    },
                    "geo": {
                      "bgcolor": "white",
                      "lakecolor": "white",
                      "landcolor": "#E5ECF6",
                      "showlakes": true,
                      "showland": true,
                      "subunitcolor": "white"
                    },
                    "hoverlabel": {
                      "align": "left"
                    },
                    "hovermode": "closest",
                    "mapbox": {
                      "style": "light"
                    },
                    "paper_bgcolor": "white",
                    "plot_bgcolor": "#E5ECF6",
                    "polar": {
                      "angularaxis": {
                        "gridcolor": "white",
                        "linecolor": "white",
                        "ticks": ""
                      },
                      "bgcolor": "#E5ECF6",
                      "radialaxis": {
                        "gridcolor": "white",
                        "linecolor": "white",
                        "ticks": ""
                      }
                    },
                    "scene": {
                      "xaxis": {
                        "backgroundcolor": "#E5ECF6",
                        "gridcolor": "white",
                        "gridwidth": 2,
                        "linecolor": "white",
                        "showbackground": true,
                        "ticks": "",
                        "zerolinecolor": "white"
                      },
                      "yaxis": {
                        "backgroundcolor": "#E5ECF6",
                        "gridcolor": "white",
                        "gridwidth": 2,
                        "linecolor": "white",
                        "showbackground": true,
                        "ticks": "",
                        "zerolinecolor": "white"
                      },
                      "zaxis": {
                        "backgroundcolor": "#E5ECF6",
                        "gridcolor": "white",
                        "gridwidth": 2,
                        "linecolor": "white",
                        "showbackground": true,
                        "ticks": "",
                        "zerolinecolor": "white"
                      }
                    },
                    "shapedefaults": {
                      "line": {
                        "color": "#2a3f5f"
                      }
                    },
                    "ternary": {
                      "aaxis": {
                        "gridcolor": "white",
                        "linecolor": "white",
                        "ticks": ""
                      },
                      "baxis": {
                        "gridcolor": "white",
                        "linecolor": "white",
                        "ticks": ""
                      },
                      "bgcolor": "#E5ECF6",
                      "caxis": {
                        "gridcolor": "white",
                        "linecolor": "white",
                        "ticks": ""
                      }
                    },
                    "title": {
                      "x": 0.05
                    },
                    "xaxis": {
                      "automargin": true,
                      "gridcolor": "white",
                      "linecolor": "white",
                      "ticks": "",
                      "title": {
                        "standoff": 15
                      },
                      "zerolinecolor": "white",
                      "zerolinewidth": 2
                    },
                    "yaxis": {
                      "automargin": true,
                      "gridcolor": "white",
                      "linecolor": "white",
                      "ticks": "",
                      "title": {
                        "standoff": 15
                      },
                      "zerolinecolor": "white",
                      "zerolinewidth": 2
                    }
                  }
                },
                "title": {
                  "text": "Val set f1macro ,heads=2"
                },
                "xaxis": {
                  "title": {
                    "text": "Epoch"
                  }
                },
                "yaxis": {
                  "title": {
                    "text": "f1macro"
                  }
                }
              }
            }
          },
          "metadata": {},
          "output_type": "display_data"
        },
        {
          "data": {
            "application/vnd.plotly.v1+json": {
              "config": {
                "plotlyServerURL": "https://plot.ly"
              },
              "data": [
                {
                  "name": "GAT",
                  "type": "scatter",
                  "x": [
                    0,
                    1,
                    2,
                    3,
                    4,
                    5,
                    6,
                    7,
                    8,
                    9
                  ],
                  "y": [
                    0.45309125440137143,
                    0.5310151560654116,
                    0.5729461114234193,
                    0.616886184216055,
                    0.6184421721379089,
                    0.6546719665201645,
                    0.672498377889226,
                    0.7080129839628863,
                    0.7286851105932348,
                    0.7653280069422361
                  ]
                },
                {
                  "name": "GATv2",
                  "type": "scatter",
                  "x": [
                    0,
                    1,
                    2,
                    3,
                    4,
                    5,
                    6,
                    7,
                    8,
                    9
                  ],
                  "y": [
                    0.5493457818264326,
                    0.6370402747879979,
                    0.6881922719856273,
                    0.7223476000942969,
                    0.7397174541773057,
                    0.7672860394976786,
                    0.781878180918316,
                    0.7804794282739548,
                    0.8114784406329569,
                    0.8215410560991587
                  ]
                }
              ],
              "layout": {
                "template": {
                  "data": {
                    "bar": [
                      {
                        "error_x": {
                          "color": "#2a3f5f"
                        },
                        "error_y": {
                          "color": "#2a3f5f"
                        },
                        "marker": {
                          "line": {
                            "color": "#E5ECF6",
                            "width": 0.5
                          },
                          "pattern": {
                            "fillmode": "overlay",
                            "size": 10,
                            "solidity": 0.2
                          }
                        },
                        "type": "bar"
                      }
                    ],
                    "barpolar": [
                      {
                        "marker": {
                          "line": {
                            "color": "#E5ECF6",
                            "width": 0.5
                          },
                          "pattern": {
                            "fillmode": "overlay",
                            "size": 10,
                            "solidity": 0.2
                          }
                        },
                        "type": "barpolar"
                      }
                    ],
                    "carpet": [
                      {
                        "aaxis": {
                          "endlinecolor": "#2a3f5f",
                          "gridcolor": "white",
                          "linecolor": "white",
                          "minorgridcolor": "white",
                          "startlinecolor": "#2a3f5f"
                        },
                        "baxis": {
                          "endlinecolor": "#2a3f5f",
                          "gridcolor": "white",
                          "linecolor": "white",
                          "minorgridcolor": "white",
                          "startlinecolor": "#2a3f5f"
                        },
                        "type": "carpet"
                      }
                    ],
                    "choropleth": [
                      {
                        "colorbar": {
                          "outlinewidth": 0,
                          "ticks": ""
                        },
                        "type": "choropleth"
                      }
                    ],
                    "contour": [
                      {
                        "colorbar": {
                          "outlinewidth": 0,
                          "ticks": ""
                        },
                        "colorscale": [
                          [
                            0,
                            "#0d0887"
                          ],
                          [
                            0.1111111111111111,
                            "#46039f"
                          ],
                          [
                            0.2222222222222222,
                            "#7201a8"
                          ],
                          [
                            0.3333333333333333,
                            "#9c179e"
                          ],
                          [
                            0.4444444444444444,
                            "#bd3786"
                          ],
                          [
                            0.5555555555555556,
                            "#d8576b"
                          ],
                          [
                            0.6666666666666666,
                            "#ed7953"
                          ],
                          [
                            0.7777777777777778,
                            "#fb9f3a"
                          ],
                          [
                            0.8888888888888888,
                            "#fdca26"
                          ],
                          [
                            1,
                            "#f0f921"
                          ]
                        ],
                        "type": "contour"
                      }
                    ],
                    "contourcarpet": [
                      {
                        "colorbar": {
                          "outlinewidth": 0,
                          "ticks": ""
                        },
                        "type": "contourcarpet"
                      }
                    ],
                    "heatmap": [
                      {
                        "colorbar": {
                          "outlinewidth": 0,
                          "ticks": ""
                        },
                        "colorscale": [
                          [
                            0,
                            "#0d0887"
                          ],
                          [
                            0.1111111111111111,
                            "#46039f"
                          ],
                          [
                            0.2222222222222222,
                            "#7201a8"
                          ],
                          [
                            0.3333333333333333,
                            "#9c179e"
                          ],
                          [
                            0.4444444444444444,
                            "#bd3786"
                          ],
                          [
                            0.5555555555555556,
                            "#d8576b"
                          ],
                          [
                            0.6666666666666666,
                            "#ed7953"
                          ],
                          [
                            0.7777777777777778,
                            "#fb9f3a"
                          ],
                          [
                            0.8888888888888888,
                            "#fdca26"
                          ],
                          [
                            1,
                            "#f0f921"
                          ]
                        ],
                        "type": "heatmap"
                      }
                    ],
                    "heatmapgl": [
                      {
                        "colorbar": {
                          "outlinewidth": 0,
                          "ticks": ""
                        },
                        "colorscale": [
                          [
                            0,
                            "#0d0887"
                          ],
                          [
                            0.1111111111111111,
                            "#46039f"
                          ],
                          [
                            0.2222222222222222,
                            "#7201a8"
                          ],
                          [
                            0.3333333333333333,
                            "#9c179e"
                          ],
                          [
                            0.4444444444444444,
                            "#bd3786"
                          ],
                          [
                            0.5555555555555556,
                            "#d8576b"
                          ],
                          [
                            0.6666666666666666,
                            "#ed7953"
                          ],
                          [
                            0.7777777777777778,
                            "#fb9f3a"
                          ],
                          [
                            0.8888888888888888,
                            "#fdca26"
                          ],
                          [
                            1,
                            "#f0f921"
                          ]
                        ],
                        "type": "heatmapgl"
                      }
                    ],
                    "histogram": [
                      {
                        "marker": {
                          "pattern": {
                            "fillmode": "overlay",
                            "size": 10,
                            "solidity": 0.2
                          }
                        },
                        "type": "histogram"
                      }
                    ],
                    "histogram2d": [
                      {
                        "colorbar": {
                          "outlinewidth": 0,
                          "ticks": ""
                        },
                        "colorscale": [
                          [
                            0,
                            "#0d0887"
                          ],
                          [
                            0.1111111111111111,
                            "#46039f"
                          ],
                          [
                            0.2222222222222222,
                            "#7201a8"
                          ],
                          [
                            0.3333333333333333,
                            "#9c179e"
                          ],
                          [
                            0.4444444444444444,
                            "#bd3786"
                          ],
                          [
                            0.5555555555555556,
                            "#d8576b"
                          ],
                          [
                            0.6666666666666666,
                            "#ed7953"
                          ],
                          [
                            0.7777777777777778,
                            "#fb9f3a"
                          ],
                          [
                            0.8888888888888888,
                            "#fdca26"
                          ],
                          [
                            1,
                            "#f0f921"
                          ]
                        ],
                        "type": "histogram2d"
                      }
                    ],
                    "histogram2dcontour": [
                      {
                        "colorbar": {
                          "outlinewidth": 0,
                          "ticks": ""
                        },
                        "colorscale": [
                          [
                            0,
                            "#0d0887"
                          ],
                          [
                            0.1111111111111111,
                            "#46039f"
                          ],
                          [
                            0.2222222222222222,
                            "#7201a8"
                          ],
                          [
                            0.3333333333333333,
                            "#9c179e"
                          ],
                          [
                            0.4444444444444444,
                            "#bd3786"
                          ],
                          [
                            0.5555555555555556,
                            "#d8576b"
                          ],
                          [
                            0.6666666666666666,
                            "#ed7953"
                          ],
                          [
                            0.7777777777777778,
                            "#fb9f3a"
                          ],
                          [
                            0.8888888888888888,
                            "#fdca26"
                          ],
                          [
                            1,
                            "#f0f921"
                          ]
                        ],
                        "type": "histogram2dcontour"
                      }
                    ],
                    "mesh3d": [
                      {
                        "colorbar": {
                          "outlinewidth": 0,
                          "ticks": ""
                        },
                        "type": "mesh3d"
                      }
                    ],
                    "parcoords": [
                      {
                        "line": {
                          "colorbar": {
                            "outlinewidth": 0,
                            "ticks": ""
                          }
                        },
                        "type": "parcoords"
                      }
                    ],
                    "pie": [
                      {
                        "automargin": true,
                        "type": "pie"
                      }
                    ],
                    "scatter": [
                      {
                        "fillpattern": {
                          "fillmode": "overlay",
                          "size": 10,
                          "solidity": 0.2
                        },
                        "type": "scatter"
                      }
                    ],
                    "scatter3d": [
                      {
                        "line": {
                          "colorbar": {
                            "outlinewidth": 0,
                            "ticks": ""
                          }
                        },
                        "marker": {
                          "colorbar": {
                            "outlinewidth": 0,
                            "ticks": ""
                          }
                        },
                        "type": "scatter3d"
                      }
                    ],
                    "scattercarpet": [
                      {
                        "marker": {
                          "colorbar": {
                            "outlinewidth": 0,
                            "ticks": ""
                          }
                        },
                        "type": "scattercarpet"
                      }
                    ],
                    "scattergeo": [
                      {
                        "marker": {
                          "colorbar": {
                            "outlinewidth": 0,
                            "ticks": ""
                          }
                        },
                        "type": "scattergeo"
                      }
                    ],
                    "scattergl": [
                      {
                        "marker": {
                          "colorbar": {
                            "outlinewidth": 0,
                            "ticks": ""
                          }
                        },
                        "type": "scattergl"
                      }
                    ],
                    "scattermapbox": [
                      {
                        "marker": {
                          "colorbar": {
                            "outlinewidth": 0,
                            "ticks": ""
                          }
                        },
                        "type": "scattermapbox"
                      }
                    ],
                    "scatterpolar": [
                      {
                        "marker": {
                          "colorbar": {
                            "outlinewidth": 0,
                            "ticks": ""
                          }
                        },
                        "type": "scatterpolar"
                      }
                    ],
                    "scatterpolargl": [
                      {
                        "marker": {
                          "colorbar": {
                            "outlinewidth": 0,
                            "ticks": ""
                          }
                        },
                        "type": "scatterpolargl"
                      }
                    ],
                    "scatterternary": [
                      {
                        "marker": {
                          "colorbar": {
                            "outlinewidth": 0,
                            "ticks": ""
                          }
                        },
                        "type": "scatterternary"
                      }
                    ],
                    "surface": [
                      {
                        "colorbar": {
                          "outlinewidth": 0,
                          "ticks": ""
                        },
                        "colorscale": [
                          [
                            0,
                            "#0d0887"
                          ],
                          [
                            0.1111111111111111,
                            "#46039f"
                          ],
                          [
                            0.2222222222222222,
                            "#7201a8"
                          ],
                          [
                            0.3333333333333333,
                            "#9c179e"
                          ],
                          [
                            0.4444444444444444,
                            "#bd3786"
                          ],
                          [
                            0.5555555555555556,
                            "#d8576b"
                          ],
                          [
                            0.6666666666666666,
                            "#ed7953"
                          ],
                          [
                            0.7777777777777778,
                            "#fb9f3a"
                          ],
                          [
                            0.8888888888888888,
                            "#fdca26"
                          ],
                          [
                            1,
                            "#f0f921"
                          ]
                        ],
                        "type": "surface"
                      }
                    ],
                    "table": [
                      {
                        "cells": {
                          "fill": {
                            "color": "#EBF0F8"
                          },
                          "line": {
                            "color": "white"
                          }
                        },
                        "header": {
                          "fill": {
                            "color": "#C8D4E3"
                          },
                          "line": {
                            "color": "white"
                          }
                        },
                        "type": "table"
                      }
                    ]
                  },
                  "layout": {
                    "annotationdefaults": {
                      "arrowcolor": "#2a3f5f",
                      "arrowhead": 0,
                      "arrowwidth": 1
                    },
                    "autotypenumbers": "strict",
                    "coloraxis": {
                      "colorbar": {
                        "outlinewidth": 0,
                        "ticks": ""
                      }
                    },
                    "colorscale": {
                      "diverging": [
                        [
                          0,
                          "#8e0152"
                        ],
                        [
                          0.1,
                          "#c51b7d"
                        ],
                        [
                          0.2,
                          "#de77ae"
                        ],
                        [
                          0.3,
                          "#f1b6da"
                        ],
                        [
                          0.4,
                          "#fde0ef"
                        ],
                        [
                          0.5,
                          "#f7f7f7"
                        ],
                        [
                          0.6,
                          "#e6f5d0"
                        ],
                        [
                          0.7,
                          "#b8e186"
                        ],
                        [
                          0.8,
                          "#7fbc41"
                        ],
                        [
                          0.9,
                          "#4d9221"
                        ],
                        [
                          1,
                          "#276419"
                        ]
                      ],
                      "sequential": [
                        [
                          0,
                          "#0d0887"
                        ],
                        [
                          0.1111111111111111,
                          "#46039f"
                        ],
                        [
                          0.2222222222222222,
                          "#7201a8"
                        ],
                        [
                          0.3333333333333333,
                          "#9c179e"
                        ],
                        [
                          0.4444444444444444,
                          "#bd3786"
                        ],
                        [
                          0.5555555555555556,
                          "#d8576b"
                        ],
                        [
                          0.6666666666666666,
                          "#ed7953"
                        ],
                        [
                          0.7777777777777778,
                          "#fb9f3a"
                        ],
                        [
                          0.8888888888888888,
                          "#fdca26"
                        ],
                        [
                          1,
                          "#f0f921"
                        ]
                      ],
                      "sequentialminus": [
                        [
                          0,
                          "#0d0887"
                        ],
                        [
                          0.1111111111111111,
                          "#46039f"
                        ],
                        [
                          0.2222222222222222,
                          "#7201a8"
                        ],
                        [
                          0.3333333333333333,
                          "#9c179e"
                        ],
                        [
                          0.4444444444444444,
                          "#bd3786"
                        ],
                        [
                          0.5555555555555556,
                          "#d8576b"
                        ],
                        [
                          0.6666666666666666,
                          "#ed7953"
                        ],
                        [
                          0.7777777777777778,
                          "#fb9f3a"
                        ],
                        [
                          0.8888888888888888,
                          "#fdca26"
                        ],
                        [
                          1,
                          "#f0f921"
                        ]
                      ]
                    },
                    "colorway": [
                      "#636efa",
                      "#EF553B",
                      "#00cc96",
                      "#ab63fa",
                      "#FFA15A",
                      "#19d3f3",
                      "#FF6692",
                      "#B6E880",
                      "#FF97FF",
                      "#FECB52"
                    ],
                    "font": {
                      "color": "#2a3f5f"
                    },
                    "geo": {
                      "bgcolor": "white",
                      "lakecolor": "white",
                      "landcolor": "#E5ECF6",
                      "showlakes": true,
                      "showland": true,
                      "subunitcolor": "white"
                    },
                    "hoverlabel": {
                      "align": "left"
                    },
                    "hovermode": "closest",
                    "mapbox": {
                      "style": "light"
                    },
                    "paper_bgcolor": "white",
                    "plot_bgcolor": "#E5ECF6",
                    "polar": {
                      "angularaxis": {
                        "gridcolor": "white",
                        "linecolor": "white",
                        "ticks": ""
                      },
                      "bgcolor": "#E5ECF6",
                      "radialaxis": {
                        "gridcolor": "white",
                        "linecolor": "white",
                        "ticks": ""
                      }
                    },
                    "scene": {
                      "xaxis": {
                        "backgroundcolor": "#E5ECF6",
                        "gridcolor": "white",
                        "gridwidth": 2,
                        "linecolor": "white",
                        "showbackground": true,
                        "ticks": "",
                        "zerolinecolor": "white"
                      },
                      "yaxis": {
                        "backgroundcolor": "#E5ECF6",
                        "gridcolor": "white",
                        "gridwidth": 2,
                        "linecolor": "white",
                        "showbackground": true,
                        "ticks": "",
                        "zerolinecolor": "white"
                      },
                      "zaxis": {
                        "backgroundcolor": "#E5ECF6",
                        "gridcolor": "white",
                        "gridwidth": 2,
                        "linecolor": "white",
                        "showbackground": true,
                        "ticks": "",
                        "zerolinecolor": "white"
                      }
                    },
                    "shapedefaults": {
                      "line": {
                        "color": "#2a3f5f"
                      }
                    },
                    "ternary": {
                      "aaxis": {
                        "gridcolor": "white",
                        "linecolor": "white",
                        "ticks": ""
                      },
                      "baxis": {
                        "gridcolor": "white",
                        "linecolor": "white",
                        "ticks": ""
                      },
                      "bgcolor": "#E5ECF6",
                      "caxis": {
                        "gridcolor": "white",
                        "linecolor": "white",
                        "ticks": ""
                      }
                    },
                    "title": {
                      "x": 0.05
                    },
                    "xaxis": {
                      "automargin": true,
                      "gridcolor": "white",
                      "linecolor": "white",
                      "ticks": "",
                      "title": {
                        "standoff": 15
                      },
                      "zerolinecolor": "white",
                      "zerolinewidth": 2
                    },
                    "yaxis": {
                      "automargin": true,
                      "gridcolor": "white",
                      "linecolor": "white",
                      "ticks": "",
                      "title": {
                        "standoff": 15
                      },
                      "zerolinecolor": "white",
                      "zerolinewidth": 2
                    }
                  }
                },
                "title": {
                  "text": "Val set aucroc ,heads=2"
                },
                "xaxis": {
                  "title": {
                    "text": "Epoch"
                  }
                },
                "yaxis": {
                  "title": {
                    "text": "aucroc"
                  }
                }
              }
            }
          },
          "metadata": {},
          "output_type": "display_data"
        },
        {
          "data": {
            "application/vnd.plotly.v1+json": {
              "config": {
                "plotlyServerURL": "https://plot.ly"
              },
              "data": [
                {
                  "name": "GAT",
                  "type": "scatter",
                  "x": [
                    0,
                    1,
                    2,
                    3,
                    4,
                    5,
                    6,
                    7,
                    8,
                    9
                  ],
                  "y": [
                    0.4445983379501385,
                    0.1814404432132964,
                    0.05955678670360111,
                    0.009695290858725761,
                    0.004155124653739612,
                    0,
                    0.0013850415512465374,
                    0,
                    0,
                    0
                  ]
                },
                {
                  "name": "GATv2",
                  "type": "scatter",
                  "x": [
                    0,
                    1,
                    2,
                    3,
                    4,
                    5,
                    6,
                    7,
                    8,
                    9
                  ],
                  "y": [
                    0.6066481994459834,
                    0.32132963988919666,
                    0.12742382271468145,
                    0.05955678670360111,
                    0.012465373961218837,
                    0.00554016620498615,
                    0.00554016620498615,
                    0,
                    0.0013850415512465374,
                    0.002770083102493075
                  ]
                }
              ],
              "layout": {
                "template": {
                  "data": {
                    "bar": [
                      {
                        "error_x": {
                          "color": "#2a3f5f"
                        },
                        "error_y": {
                          "color": "#2a3f5f"
                        },
                        "marker": {
                          "line": {
                            "color": "#E5ECF6",
                            "width": 0.5
                          },
                          "pattern": {
                            "fillmode": "overlay",
                            "size": 10,
                            "solidity": 0.2
                          }
                        },
                        "type": "bar"
                      }
                    ],
                    "barpolar": [
                      {
                        "marker": {
                          "line": {
                            "color": "#E5ECF6",
                            "width": 0.5
                          },
                          "pattern": {
                            "fillmode": "overlay",
                            "size": 10,
                            "solidity": 0.2
                          }
                        },
                        "type": "barpolar"
                      }
                    ],
                    "carpet": [
                      {
                        "aaxis": {
                          "endlinecolor": "#2a3f5f",
                          "gridcolor": "white",
                          "linecolor": "white",
                          "minorgridcolor": "white",
                          "startlinecolor": "#2a3f5f"
                        },
                        "baxis": {
                          "endlinecolor": "#2a3f5f",
                          "gridcolor": "white",
                          "linecolor": "white",
                          "minorgridcolor": "white",
                          "startlinecolor": "#2a3f5f"
                        },
                        "type": "carpet"
                      }
                    ],
                    "choropleth": [
                      {
                        "colorbar": {
                          "outlinewidth": 0,
                          "ticks": ""
                        },
                        "type": "choropleth"
                      }
                    ],
                    "contour": [
                      {
                        "colorbar": {
                          "outlinewidth": 0,
                          "ticks": ""
                        },
                        "colorscale": [
                          [
                            0,
                            "#0d0887"
                          ],
                          [
                            0.1111111111111111,
                            "#46039f"
                          ],
                          [
                            0.2222222222222222,
                            "#7201a8"
                          ],
                          [
                            0.3333333333333333,
                            "#9c179e"
                          ],
                          [
                            0.4444444444444444,
                            "#bd3786"
                          ],
                          [
                            0.5555555555555556,
                            "#d8576b"
                          ],
                          [
                            0.6666666666666666,
                            "#ed7953"
                          ],
                          [
                            0.7777777777777778,
                            "#fb9f3a"
                          ],
                          [
                            0.8888888888888888,
                            "#fdca26"
                          ],
                          [
                            1,
                            "#f0f921"
                          ]
                        ],
                        "type": "contour"
                      }
                    ],
                    "contourcarpet": [
                      {
                        "colorbar": {
                          "outlinewidth": 0,
                          "ticks": ""
                        },
                        "type": "contourcarpet"
                      }
                    ],
                    "heatmap": [
                      {
                        "colorbar": {
                          "outlinewidth": 0,
                          "ticks": ""
                        },
                        "colorscale": [
                          [
                            0,
                            "#0d0887"
                          ],
                          [
                            0.1111111111111111,
                            "#46039f"
                          ],
                          [
                            0.2222222222222222,
                            "#7201a8"
                          ],
                          [
                            0.3333333333333333,
                            "#9c179e"
                          ],
                          [
                            0.4444444444444444,
                            "#bd3786"
                          ],
                          [
                            0.5555555555555556,
                            "#d8576b"
                          ],
                          [
                            0.6666666666666666,
                            "#ed7953"
                          ],
                          [
                            0.7777777777777778,
                            "#fb9f3a"
                          ],
                          [
                            0.8888888888888888,
                            "#fdca26"
                          ],
                          [
                            1,
                            "#f0f921"
                          ]
                        ],
                        "type": "heatmap"
                      }
                    ],
                    "heatmapgl": [
                      {
                        "colorbar": {
                          "outlinewidth": 0,
                          "ticks": ""
                        },
                        "colorscale": [
                          [
                            0,
                            "#0d0887"
                          ],
                          [
                            0.1111111111111111,
                            "#46039f"
                          ],
                          [
                            0.2222222222222222,
                            "#7201a8"
                          ],
                          [
                            0.3333333333333333,
                            "#9c179e"
                          ],
                          [
                            0.4444444444444444,
                            "#bd3786"
                          ],
                          [
                            0.5555555555555556,
                            "#d8576b"
                          ],
                          [
                            0.6666666666666666,
                            "#ed7953"
                          ],
                          [
                            0.7777777777777778,
                            "#fb9f3a"
                          ],
                          [
                            0.8888888888888888,
                            "#fdca26"
                          ],
                          [
                            1,
                            "#f0f921"
                          ]
                        ],
                        "type": "heatmapgl"
                      }
                    ],
                    "histogram": [
                      {
                        "marker": {
                          "pattern": {
                            "fillmode": "overlay",
                            "size": 10,
                            "solidity": 0.2
                          }
                        },
                        "type": "histogram"
                      }
                    ],
                    "histogram2d": [
                      {
                        "colorbar": {
                          "outlinewidth": 0,
                          "ticks": ""
                        },
                        "colorscale": [
                          [
                            0,
                            "#0d0887"
                          ],
                          [
                            0.1111111111111111,
                            "#46039f"
                          ],
                          [
                            0.2222222222222222,
                            "#7201a8"
                          ],
                          [
                            0.3333333333333333,
                            "#9c179e"
                          ],
                          [
                            0.4444444444444444,
                            "#bd3786"
                          ],
                          [
                            0.5555555555555556,
                            "#d8576b"
                          ],
                          [
                            0.6666666666666666,
                            "#ed7953"
                          ],
                          [
                            0.7777777777777778,
                            "#fb9f3a"
                          ],
                          [
                            0.8888888888888888,
                            "#fdca26"
                          ],
                          [
                            1,
                            "#f0f921"
                          ]
                        ],
                        "type": "histogram2d"
                      }
                    ],
                    "histogram2dcontour": [
                      {
                        "colorbar": {
                          "outlinewidth": 0,
                          "ticks": ""
                        },
                        "colorscale": [
                          [
                            0,
                            "#0d0887"
                          ],
                          [
                            0.1111111111111111,
                            "#46039f"
                          ],
                          [
                            0.2222222222222222,
                            "#7201a8"
                          ],
                          [
                            0.3333333333333333,
                            "#9c179e"
                          ],
                          [
                            0.4444444444444444,
                            "#bd3786"
                          ],
                          [
                            0.5555555555555556,
                            "#d8576b"
                          ],
                          [
                            0.6666666666666666,
                            "#ed7953"
                          ],
                          [
                            0.7777777777777778,
                            "#fb9f3a"
                          ],
                          [
                            0.8888888888888888,
                            "#fdca26"
                          ],
                          [
                            1,
                            "#f0f921"
                          ]
                        ],
                        "type": "histogram2dcontour"
                      }
                    ],
                    "mesh3d": [
                      {
                        "colorbar": {
                          "outlinewidth": 0,
                          "ticks": ""
                        },
                        "type": "mesh3d"
                      }
                    ],
                    "parcoords": [
                      {
                        "line": {
                          "colorbar": {
                            "outlinewidth": 0,
                            "ticks": ""
                          }
                        },
                        "type": "parcoords"
                      }
                    ],
                    "pie": [
                      {
                        "automargin": true,
                        "type": "pie"
                      }
                    ],
                    "scatter": [
                      {
                        "fillpattern": {
                          "fillmode": "overlay",
                          "size": 10,
                          "solidity": 0.2
                        },
                        "type": "scatter"
                      }
                    ],
                    "scatter3d": [
                      {
                        "line": {
                          "colorbar": {
                            "outlinewidth": 0,
                            "ticks": ""
                          }
                        },
                        "marker": {
                          "colorbar": {
                            "outlinewidth": 0,
                            "ticks": ""
                          }
                        },
                        "type": "scatter3d"
                      }
                    ],
                    "scattercarpet": [
                      {
                        "marker": {
                          "colorbar": {
                            "outlinewidth": 0,
                            "ticks": ""
                          }
                        },
                        "type": "scattercarpet"
                      }
                    ],
                    "scattergeo": [
                      {
                        "marker": {
                          "colorbar": {
                            "outlinewidth": 0,
                            "ticks": ""
                          }
                        },
                        "type": "scattergeo"
                      }
                    ],
                    "scattergl": [
                      {
                        "marker": {
                          "colorbar": {
                            "outlinewidth": 0,
                            "ticks": ""
                          }
                        },
                        "type": "scattergl"
                      }
                    ],
                    "scattermapbox": [
                      {
                        "marker": {
                          "colorbar": {
                            "outlinewidth": 0,
                            "ticks": ""
                          }
                        },
                        "type": "scattermapbox"
                      }
                    ],
                    "scatterpolar": [
                      {
                        "marker": {
                          "colorbar": {
                            "outlinewidth": 0,
                            "ticks": ""
                          }
                        },
                        "type": "scatterpolar"
                      }
                    ],
                    "scatterpolargl": [
                      {
                        "marker": {
                          "colorbar": {
                            "outlinewidth": 0,
                            "ticks": ""
                          }
                        },
                        "type": "scatterpolargl"
                      }
                    ],
                    "scatterternary": [
                      {
                        "marker": {
                          "colorbar": {
                            "outlinewidth": 0,
                            "ticks": ""
                          }
                        },
                        "type": "scatterternary"
                      }
                    ],
                    "surface": [
                      {
                        "colorbar": {
                          "outlinewidth": 0,
                          "ticks": ""
                        },
                        "colorscale": [
                          [
                            0,
                            "#0d0887"
                          ],
                          [
                            0.1111111111111111,
                            "#46039f"
                          ],
                          [
                            0.2222222222222222,
                            "#7201a8"
                          ],
                          [
                            0.3333333333333333,
                            "#9c179e"
                          ],
                          [
                            0.4444444444444444,
                            "#bd3786"
                          ],
                          [
                            0.5555555555555556,
                            "#d8576b"
                          ],
                          [
                            0.6666666666666666,
                            "#ed7953"
                          ],
                          [
                            0.7777777777777778,
                            "#fb9f3a"
                          ],
                          [
                            0.8888888888888888,
                            "#fdca26"
                          ],
                          [
                            1,
                            "#f0f921"
                          ]
                        ],
                        "type": "surface"
                      }
                    ],
                    "table": [
                      {
                        "cells": {
                          "fill": {
                            "color": "#EBF0F8"
                          },
                          "line": {
                            "color": "white"
                          }
                        },
                        "header": {
                          "fill": {
                            "color": "#C8D4E3"
                          },
                          "line": {
                            "color": "white"
                          }
                        },
                        "type": "table"
                      }
                    ]
                  },
                  "layout": {
                    "annotationdefaults": {
                      "arrowcolor": "#2a3f5f",
                      "arrowhead": 0,
                      "arrowwidth": 1
                    },
                    "autotypenumbers": "strict",
                    "coloraxis": {
                      "colorbar": {
                        "outlinewidth": 0,
                        "ticks": ""
                      }
                    },
                    "colorscale": {
                      "diverging": [
                        [
                          0,
                          "#8e0152"
                        ],
                        [
                          0.1,
                          "#c51b7d"
                        ],
                        [
                          0.2,
                          "#de77ae"
                        ],
                        [
                          0.3,
                          "#f1b6da"
                        ],
                        [
                          0.4,
                          "#fde0ef"
                        ],
                        [
                          0.5,
                          "#f7f7f7"
                        ],
                        [
                          0.6,
                          "#e6f5d0"
                        ],
                        [
                          0.7,
                          "#b8e186"
                        ],
                        [
                          0.8,
                          "#7fbc41"
                        ],
                        [
                          0.9,
                          "#4d9221"
                        ],
                        [
                          1,
                          "#276419"
                        ]
                      ],
                      "sequential": [
                        [
                          0,
                          "#0d0887"
                        ],
                        [
                          0.1111111111111111,
                          "#46039f"
                        ],
                        [
                          0.2222222222222222,
                          "#7201a8"
                        ],
                        [
                          0.3333333333333333,
                          "#9c179e"
                        ],
                        [
                          0.4444444444444444,
                          "#bd3786"
                        ],
                        [
                          0.5555555555555556,
                          "#d8576b"
                        ],
                        [
                          0.6666666666666666,
                          "#ed7953"
                        ],
                        [
                          0.7777777777777778,
                          "#fb9f3a"
                        ],
                        [
                          0.8888888888888888,
                          "#fdca26"
                        ],
                        [
                          1,
                          "#f0f921"
                        ]
                      ],
                      "sequentialminus": [
                        [
                          0,
                          "#0d0887"
                        ],
                        [
                          0.1111111111111111,
                          "#46039f"
                        ],
                        [
                          0.2222222222222222,
                          "#7201a8"
                        ],
                        [
                          0.3333333333333333,
                          "#9c179e"
                        ],
                        [
                          0.4444444444444444,
                          "#bd3786"
                        ],
                        [
                          0.5555555555555556,
                          "#d8576b"
                        ],
                        [
                          0.6666666666666666,
                          "#ed7953"
                        ],
                        [
                          0.7777777777777778,
                          "#fb9f3a"
                        ],
                        [
                          0.8888888888888888,
                          "#fdca26"
                        ],
                        [
                          1,
                          "#f0f921"
                        ]
                      ]
                    },
                    "colorway": [
                      "#636efa",
                      "#EF553B",
                      "#00cc96",
                      "#ab63fa",
                      "#FFA15A",
                      "#19d3f3",
                      "#FF6692",
                      "#B6E880",
                      "#FF97FF",
                      "#FECB52"
                    ],
                    "font": {
                      "color": "#2a3f5f"
                    },
                    "geo": {
                      "bgcolor": "white",
                      "lakecolor": "white",
                      "landcolor": "#E5ECF6",
                      "showlakes": true,
                      "showland": true,
                      "subunitcolor": "white"
                    },
                    "hoverlabel": {
                      "align": "left"
                    },
                    "hovermode": "closest",
                    "mapbox": {
                      "style": "light"
                    },
                    "paper_bgcolor": "white",
                    "plot_bgcolor": "#E5ECF6",
                    "polar": {
                      "angularaxis": {
                        "gridcolor": "white",
                        "linecolor": "white",
                        "ticks": ""
                      },
                      "bgcolor": "#E5ECF6",
                      "radialaxis": {
                        "gridcolor": "white",
                        "linecolor": "white",
                        "ticks": ""
                      }
                    },
                    "scene": {
                      "xaxis": {
                        "backgroundcolor": "#E5ECF6",
                        "gridcolor": "white",
                        "gridwidth": 2,
                        "linecolor": "white",
                        "showbackground": true,
                        "ticks": "",
                        "zerolinecolor": "white"
                      },
                      "yaxis": {
                        "backgroundcolor": "#E5ECF6",
                        "gridcolor": "white",
                        "gridwidth": 2,
                        "linecolor": "white",
                        "showbackground": true,
                        "ticks": "",
                        "zerolinecolor": "white"
                      },
                      "zaxis": {
                        "backgroundcolor": "#E5ECF6",
                        "gridcolor": "white",
                        "gridwidth": 2,
                        "linecolor": "white",
                        "showbackground": true,
                        "ticks": "",
                        "zerolinecolor": "white"
                      }
                    },
                    "shapedefaults": {
                      "line": {
                        "color": "#2a3f5f"
                      }
                    },
                    "ternary": {
                      "aaxis": {
                        "gridcolor": "white",
                        "linecolor": "white",
                        "ticks": ""
                      },
                      "baxis": {
                        "gridcolor": "white",
                        "linecolor": "white",
                        "ticks": ""
                      },
                      "bgcolor": "#E5ECF6",
                      "caxis": {
                        "gridcolor": "white",
                        "linecolor": "white",
                        "ticks": ""
                      }
                    },
                    "title": {
                      "x": 0.05
                    },
                    "xaxis": {
                      "automargin": true,
                      "gridcolor": "white",
                      "linecolor": "white",
                      "ticks": "",
                      "title": {
                        "standoff": 15
                      },
                      "zerolinecolor": "white",
                      "zerolinewidth": 2
                    },
                    "yaxis": {
                      "automargin": true,
                      "gridcolor": "white",
                      "linecolor": "white",
                      "ticks": "",
                      "title": {
                        "standoff": 15
                      },
                      "zerolinecolor": "white",
                      "zerolinewidth": 2
                    }
                  }
                },
                "title": {
                  "text": "Val set recall ,heads=2"
                },
                "xaxis": {
                  "title": {
                    "text": "Epoch"
                  }
                },
                "yaxis": {
                  "title": {
                    "text": "recall"
                  }
                }
              }
            }
          },
          "metadata": {},
          "output_type": "display_data"
        },
        {
          "data": {
            "application/vnd.plotly.v1+json": {
              "config": {
                "plotlyServerURL": "https://plot.ly"
              },
              "data": [
                {
                  "name": "GAT",
                  "type": "scatter",
                  "x": [
                    0,
                    1,
                    2,
                    3,
                    4,
                    5,
                    6,
                    7,
                    8,
                    9
                  ],
                  "y": [
                    0.08991596638655462,
                    0.08624094799210007,
                    0.08206106870229007,
                    0.04375,
                    0.04838709677419355,
                    0,
                    0.06666666666666667,
                    0,
                    0,
                    0
                  ]
                },
                {
                  "name": "GATv2",
                  "type": "scatter",
                  "x": [
                    0,
                    1,
                    2,
                    3,
                    4,
                    5,
                    6,
                    7,
                    8,
                    9
                  ],
                  "y": [
                    0.12112831858407079,
                    0.13488372093023257,
                    0.13275613275613277,
                    0.16475095785440613,
                    0.08035714285714286,
                    0.1111111111111111,
                    0.19047619047619047,
                    0,
                    0.125,
                    0.4
                  ]
                }
              ],
              "layout": {
                "template": {
                  "data": {
                    "bar": [
                      {
                        "error_x": {
                          "color": "#2a3f5f"
                        },
                        "error_y": {
                          "color": "#2a3f5f"
                        },
                        "marker": {
                          "line": {
                            "color": "#E5ECF6",
                            "width": 0.5
                          },
                          "pattern": {
                            "fillmode": "overlay",
                            "size": 10,
                            "solidity": 0.2
                          }
                        },
                        "type": "bar"
                      }
                    ],
                    "barpolar": [
                      {
                        "marker": {
                          "line": {
                            "color": "#E5ECF6",
                            "width": 0.5
                          },
                          "pattern": {
                            "fillmode": "overlay",
                            "size": 10,
                            "solidity": 0.2
                          }
                        },
                        "type": "barpolar"
                      }
                    ],
                    "carpet": [
                      {
                        "aaxis": {
                          "endlinecolor": "#2a3f5f",
                          "gridcolor": "white",
                          "linecolor": "white",
                          "minorgridcolor": "white",
                          "startlinecolor": "#2a3f5f"
                        },
                        "baxis": {
                          "endlinecolor": "#2a3f5f",
                          "gridcolor": "white",
                          "linecolor": "white",
                          "minorgridcolor": "white",
                          "startlinecolor": "#2a3f5f"
                        },
                        "type": "carpet"
                      }
                    ],
                    "choropleth": [
                      {
                        "colorbar": {
                          "outlinewidth": 0,
                          "ticks": ""
                        },
                        "type": "choropleth"
                      }
                    ],
                    "contour": [
                      {
                        "colorbar": {
                          "outlinewidth": 0,
                          "ticks": ""
                        },
                        "colorscale": [
                          [
                            0,
                            "#0d0887"
                          ],
                          [
                            0.1111111111111111,
                            "#46039f"
                          ],
                          [
                            0.2222222222222222,
                            "#7201a8"
                          ],
                          [
                            0.3333333333333333,
                            "#9c179e"
                          ],
                          [
                            0.4444444444444444,
                            "#bd3786"
                          ],
                          [
                            0.5555555555555556,
                            "#d8576b"
                          ],
                          [
                            0.6666666666666666,
                            "#ed7953"
                          ],
                          [
                            0.7777777777777778,
                            "#fb9f3a"
                          ],
                          [
                            0.8888888888888888,
                            "#fdca26"
                          ],
                          [
                            1,
                            "#f0f921"
                          ]
                        ],
                        "type": "contour"
                      }
                    ],
                    "contourcarpet": [
                      {
                        "colorbar": {
                          "outlinewidth": 0,
                          "ticks": ""
                        },
                        "type": "contourcarpet"
                      }
                    ],
                    "heatmap": [
                      {
                        "colorbar": {
                          "outlinewidth": 0,
                          "ticks": ""
                        },
                        "colorscale": [
                          [
                            0,
                            "#0d0887"
                          ],
                          [
                            0.1111111111111111,
                            "#46039f"
                          ],
                          [
                            0.2222222222222222,
                            "#7201a8"
                          ],
                          [
                            0.3333333333333333,
                            "#9c179e"
                          ],
                          [
                            0.4444444444444444,
                            "#bd3786"
                          ],
                          [
                            0.5555555555555556,
                            "#d8576b"
                          ],
                          [
                            0.6666666666666666,
                            "#ed7953"
                          ],
                          [
                            0.7777777777777778,
                            "#fb9f3a"
                          ],
                          [
                            0.8888888888888888,
                            "#fdca26"
                          ],
                          [
                            1,
                            "#f0f921"
                          ]
                        ],
                        "type": "heatmap"
                      }
                    ],
                    "heatmapgl": [
                      {
                        "colorbar": {
                          "outlinewidth": 0,
                          "ticks": ""
                        },
                        "colorscale": [
                          [
                            0,
                            "#0d0887"
                          ],
                          [
                            0.1111111111111111,
                            "#46039f"
                          ],
                          [
                            0.2222222222222222,
                            "#7201a8"
                          ],
                          [
                            0.3333333333333333,
                            "#9c179e"
                          ],
                          [
                            0.4444444444444444,
                            "#bd3786"
                          ],
                          [
                            0.5555555555555556,
                            "#d8576b"
                          ],
                          [
                            0.6666666666666666,
                            "#ed7953"
                          ],
                          [
                            0.7777777777777778,
                            "#fb9f3a"
                          ],
                          [
                            0.8888888888888888,
                            "#fdca26"
                          ],
                          [
                            1,
                            "#f0f921"
                          ]
                        ],
                        "type": "heatmapgl"
                      }
                    ],
                    "histogram": [
                      {
                        "marker": {
                          "pattern": {
                            "fillmode": "overlay",
                            "size": 10,
                            "solidity": 0.2
                          }
                        },
                        "type": "histogram"
                      }
                    ],
                    "histogram2d": [
                      {
                        "colorbar": {
                          "outlinewidth": 0,
                          "ticks": ""
                        },
                        "colorscale": [
                          [
                            0,
                            "#0d0887"
                          ],
                          [
                            0.1111111111111111,
                            "#46039f"
                          ],
                          [
                            0.2222222222222222,
                            "#7201a8"
                          ],
                          [
                            0.3333333333333333,
                            "#9c179e"
                          ],
                          [
                            0.4444444444444444,
                            "#bd3786"
                          ],
                          [
                            0.5555555555555556,
                            "#d8576b"
                          ],
                          [
                            0.6666666666666666,
                            "#ed7953"
                          ],
                          [
                            0.7777777777777778,
                            "#fb9f3a"
                          ],
                          [
                            0.8888888888888888,
                            "#fdca26"
                          ],
                          [
                            1,
                            "#f0f921"
                          ]
                        ],
                        "type": "histogram2d"
                      }
                    ],
                    "histogram2dcontour": [
                      {
                        "colorbar": {
                          "outlinewidth": 0,
                          "ticks": ""
                        },
                        "colorscale": [
                          [
                            0,
                            "#0d0887"
                          ],
                          [
                            0.1111111111111111,
                            "#46039f"
                          ],
                          [
                            0.2222222222222222,
                            "#7201a8"
                          ],
                          [
                            0.3333333333333333,
                            "#9c179e"
                          ],
                          [
                            0.4444444444444444,
                            "#bd3786"
                          ],
                          [
                            0.5555555555555556,
                            "#d8576b"
                          ],
                          [
                            0.6666666666666666,
                            "#ed7953"
                          ],
                          [
                            0.7777777777777778,
                            "#fb9f3a"
                          ],
                          [
                            0.8888888888888888,
                            "#fdca26"
                          ],
                          [
                            1,
                            "#f0f921"
                          ]
                        ],
                        "type": "histogram2dcontour"
                      }
                    ],
                    "mesh3d": [
                      {
                        "colorbar": {
                          "outlinewidth": 0,
                          "ticks": ""
                        },
                        "type": "mesh3d"
                      }
                    ],
                    "parcoords": [
                      {
                        "line": {
                          "colorbar": {
                            "outlinewidth": 0,
                            "ticks": ""
                          }
                        },
                        "type": "parcoords"
                      }
                    ],
                    "pie": [
                      {
                        "automargin": true,
                        "type": "pie"
                      }
                    ],
                    "scatter": [
                      {
                        "fillpattern": {
                          "fillmode": "overlay",
                          "size": 10,
                          "solidity": 0.2
                        },
                        "type": "scatter"
                      }
                    ],
                    "scatter3d": [
                      {
                        "line": {
                          "colorbar": {
                            "outlinewidth": 0,
                            "ticks": ""
                          }
                        },
                        "marker": {
                          "colorbar": {
                            "outlinewidth": 0,
                            "ticks": ""
                          }
                        },
                        "type": "scatter3d"
                      }
                    ],
                    "scattercarpet": [
                      {
                        "marker": {
                          "colorbar": {
                            "outlinewidth": 0,
                            "ticks": ""
                          }
                        },
                        "type": "scattercarpet"
                      }
                    ],
                    "scattergeo": [
                      {
                        "marker": {
                          "colorbar": {
                            "outlinewidth": 0,
                            "ticks": ""
                          }
                        },
                        "type": "scattergeo"
                      }
                    ],
                    "scattergl": [
                      {
                        "marker": {
                          "colorbar": {
                            "outlinewidth": 0,
                            "ticks": ""
                          }
                        },
                        "type": "scattergl"
                      }
                    ],
                    "scattermapbox": [
                      {
                        "marker": {
                          "colorbar": {
                            "outlinewidth": 0,
                            "ticks": ""
                          }
                        },
                        "type": "scattermapbox"
                      }
                    ],
                    "scatterpolar": [
                      {
                        "marker": {
                          "colorbar": {
                            "outlinewidth": 0,
                            "ticks": ""
                          }
                        },
                        "type": "scatterpolar"
                      }
                    ],
                    "scatterpolargl": [
                      {
                        "marker": {
                          "colorbar": {
                            "outlinewidth": 0,
                            "ticks": ""
                          }
                        },
                        "type": "scatterpolargl"
                      }
                    ],
                    "scatterternary": [
                      {
                        "marker": {
                          "colorbar": {
                            "outlinewidth": 0,
                            "ticks": ""
                          }
                        },
                        "type": "scatterternary"
                      }
                    ],
                    "surface": [
                      {
                        "colorbar": {
                          "outlinewidth": 0,
                          "ticks": ""
                        },
                        "colorscale": [
                          [
                            0,
                            "#0d0887"
                          ],
                          [
                            0.1111111111111111,
                            "#46039f"
                          ],
                          [
                            0.2222222222222222,
                            "#7201a8"
                          ],
                          [
                            0.3333333333333333,
                            "#9c179e"
                          ],
                          [
                            0.4444444444444444,
                            "#bd3786"
                          ],
                          [
                            0.5555555555555556,
                            "#d8576b"
                          ],
                          [
                            0.6666666666666666,
                            "#ed7953"
                          ],
                          [
                            0.7777777777777778,
                            "#fb9f3a"
                          ],
                          [
                            0.8888888888888888,
                            "#fdca26"
                          ],
                          [
                            1,
                            "#f0f921"
                          ]
                        ],
                        "type": "surface"
                      }
                    ],
                    "table": [
                      {
                        "cells": {
                          "fill": {
                            "color": "#EBF0F8"
                          },
                          "line": {
                            "color": "white"
                          }
                        },
                        "header": {
                          "fill": {
                            "color": "#C8D4E3"
                          },
                          "line": {
                            "color": "white"
                          }
                        },
                        "type": "table"
                      }
                    ]
                  },
                  "layout": {
                    "annotationdefaults": {
                      "arrowcolor": "#2a3f5f",
                      "arrowhead": 0,
                      "arrowwidth": 1
                    },
                    "autotypenumbers": "strict",
                    "coloraxis": {
                      "colorbar": {
                        "outlinewidth": 0,
                        "ticks": ""
                      }
                    },
                    "colorscale": {
                      "diverging": [
                        [
                          0,
                          "#8e0152"
                        ],
                        [
                          0.1,
                          "#c51b7d"
                        ],
                        [
                          0.2,
                          "#de77ae"
                        ],
                        [
                          0.3,
                          "#f1b6da"
                        ],
                        [
                          0.4,
                          "#fde0ef"
                        ],
                        [
                          0.5,
                          "#f7f7f7"
                        ],
                        [
                          0.6,
                          "#e6f5d0"
                        ],
                        [
                          0.7,
                          "#b8e186"
                        ],
                        [
                          0.8,
                          "#7fbc41"
                        ],
                        [
                          0.9,
                          "#4d9221"
                        ],
                        [
                          1,
                          "#276419"
                        ]
                      ],
                      "sequential": [
                        [
                          0,
                          "#0d0887"
                        ],
                        [
                          0.1111111111111111,
                          "#46039f"
                        ],
                        [
                          0.2222222222222222,
                          "#7201a8"
                        ],
                        [
                          0.3333333333333333,
                          "#9c179e"
                        ],
                        [
                          0.4444444444444444,
                          "#bd3786"
                        ],
                        [
                          0.5555555555555556,
                          "#d8576b"
                        ],
                        [
                          0.6666666666666666,
                          "#ed7953"
                        ],
                        [
                          0.7777777777777778,
                          "#fb9f3a"
                        ],
                        [
                          0.8888888888888888,
                          "#fdca26"
                        ],
                        [
                          1,
                          "#f0f921"
                        ]
                      ],
                      "sequentialminus": [
                        [
                          0,
                          "#0d0887"
                        ],
                        [
                          0.1111111111111111,
                          "#46039f"
                        ],
                        [
                          0.2222222222222222,
                          "#7201a8"
                        ],
                        [
                          0.3333333333333333,
                          "#9c179e"
                        ],
                        [
                          0.4444444444444444,
                          "#bd3786"
                        ],
                        [
                          0.5555555555555556,
                          "#d8576b"
                        ],
                        [
                          0.6666666666666666,
                          "#ed7953"
                        ],
                        [
                          0.7777777777777778,
                          "#fb9f3a"
                        ],
                        [
                          0.8888888888888888,
                          "#fdca26"
                        ],
                        [
                          1,
                          "#f0f921"
                        ]
                      ]
                    },
                    "colorway": [
                      "#636efa",
                      "#EF553B",
                      "#00cc96",
                      "#ab63fa",
                      "#FFA15A",
                      "#19d3f3",
                      "#FF6692",
                      "#B6E880",
                      "#FF97FF",
                      "#FECB52"
                    ],
                    "font": {
                      "color": "#2a3f5f"
                    },
                    "geo": {
                      "bgcolor": "white",
                      "lakecolor": "white",
                      "landcolor": "#E5ECF6",
                      "showlakes": true,
                      "showland": true,
                      "subunitcolor": "white"
                    },
                    "hoverlabel": {
                      "align": "left"
                    },
                    "hovermode": "closest",
                    "mapbox": {
                      "style": "light"
                    },
                    "paper_bgcolor": "white",
                    "plot_bgcolor": "#E5ECF6",
                    "polar": {
                      "angularaxis": {
                        "gridcolor": "white",
                        "linecolor": "white",
                        "ticks": ""
                      },
                      "bgcolor": "#E5ECF6",
                      "radialaxis": {
                        "gridcolor": "white",
                        "linecolor": "white",
                        "ticks": ""
                      }
                    },
                    "scene": {
                      "xaxis": {
                        "backgroundcolor": "#E5ECF6",
                        "gridcolor": "white",
                        "gridwidth": 2,
                        "linecolor": "white",
                        "showbackground": true,
                        "ticks": "",
                        "zerolinecolor": "white"
                      },
                      "yaxis": {
                        "backgroundcolor": "#E5ECF6",
                        "gridcolor": "white",
                        "gridwidth": 2,
                        "linecolor": "white",
                        "showbackground": true,
                        "ticks": "",
                        "zerolinecolor": "white"
                      },
                      "zaxis": {
                        "backgroundcolor": "#E5ECF6",
                        "gridcolor": "white",
                        "gridwidth": 2,
                        "linecolor": "white",
                        "showbackground": true,
                        "ticks": "",
                        "zerolinecolor": "white"
                      }
                    },
                    "shapedefaults": {
                      "line": {
                        "color": "#2a3f5f"
                      }
                    },
                    "ternary": {
                      "aaxis": {
                        "gridcolor": "white",
                        "linecolor": "white",
                        "ticks": ""
                      },
                      "baxis": {
                        "gridcolor": "white",
                        "linecolor": "white",
                        "ticks": ""
                      },
                      "bgcolor": "#E5ECF6",
                      "caxis": {
                        "gridcolor": "white",
                        "linecolor": "white",
                        "ticks": ""
                      }
                    },
                    "title": {
                      "x": 0.05
                    },
                    "xaxis": {
                      "automargin": true,
                      "gridcolor": "white",
                      "linecolor": "white",
                      "ticks": "",
                      "title": {
                        "standoff": 15
                      },
                      "zerolinecolor": "white",
                      "zerolinewidth": 2
                    },
                    "yaxis": {
                      "automargin": true,
                      "gridcolor": "white",
                      "linecolor": "white",
                      "ticks": "",
                      "title": {
                        "standoff": 15
                      },
                      "zerolinecolor": "white",
                      "zerolinewidth": 2
                    }
                  }
                },
                "title": {
                  "text": "Val set precision ,heads=2"
                },
                "xaxis": {
                  "title": {
                    "text": "Epoch"
                  }
                },
                "yaxis": {
                  "title": {
                    "text": "precision"
                  }
                }
              }
            }
          },
          "metadata": {},
          "output_type": "display_data"
        }
      ],
      "source": [
        "# Compare GAT vs GATv2 with 2 heads, prebuilt PyGs models \n",
        "plot_training_comp([mmGATprebuilt,mmGATv2prebuilt], [\"GAT\" ,\"GATv2\" ],\"f1micro\",title=\"Val set f1micro, heads=2\")  \n",
        "plot_training_comp([mmGATprebuilt,mmGATv2prebuilt], [\"GAT\" ,\"GATv2\" ],\"accuracy\",title=\"Val set accuracy ,heads=2\")  \n",
        "plot_training_comp([mmGATprebuilt,mmGATv2prebuilt], [\"GAT\" ,\"GATv2\" ],\"f1macro\",title=\"Val set f1macro ,heads=2\")\n",
        "plot_training_comp([mmGATprebuilt,mmGATv2prebuilt], [\"GAT\" ,\"GATv2\" ],\"aucroc\",title=\"Val set aucroc ,heads=2\")  \n",
        "plot_training_comp([mmGATprebuilt,mmGATv2prebuilt], [\"GAT\" ,\"GATv2\" ],\"recall\",title=\"Val set recall ,heads=2\")  \n",
        "plot_training_comp([mmGATprebuilt,mmGATv2prebuilt], [\"GAT\" ,\"GATv2\" ],\"precision\",title=\"Val set precision ,heads=2\")  "
      ]
    },
    {
      "attachments": {},
      "cell_type": "markdown",
      "metadata": {
        "id": "ZO-NPPaaJkJe"
      },
      "source": [
        "## Graph visualization\n",
        "Now after training previous models, we can also visualize our predicted labels nodes as licit or illicit.We are going to show the graph for one time period."
      ]
    },
    {
      "cell_type": "code",
      "execution_count": 39,
      "metadata": {
        "colab": {
          "base_uri": "https://localhost:8080/"
        },
        "id": "Kw5RosGZJqkw",
        "outputId": "7d7a196c-ab9a-42dc-e5d4-95de72fd873e"
      },
      "outputs": [
        {
          "data": {
            "text/plain": [
              "{'pred_scores': array([1.97063307e-01, 2.02135013e-03, 5.96523314e-30, ...,\n",
              "        2.47574502e-09, 2.11606817e-01, 2.20308511e-01]),\n",
              " 'pred_labels': array([False, False, False, ..., False, False, False])}"
            ]
          },
          "execution_count": 39,
          "metadata": {},
          "output_type": "execute_result"
        }
      ],
      "source": [
        "import networkx as nx\n",
        "import matplotlib.pyplot as plt\n",
        "\n",
        "# Load one model \n",
        "m1 = GATv2(data_train.num_node_features, args['hidden_dim'], 1, args).to(device).double()\n",
        "m1.load_state_dict(torch.load(FOLDERNAME + \"/save_results/\" + \"GATv2prebuilt.pth\"))\n",
        "gnn_t2 = GnnTrainer(m1)\n",
        "output = gnn_t2.predict(data=data_train, unclassified_only=False)\n",
        "output\n"
      ]
    },
    {
      "cell_type": "code",
      "execution_count": 40,
      "metadata": {
        "colab": {
          "base_uri": "https://localhost:8080/",
          "height": 987
        },
        "id": "oZk_3yCGJkS9",
        "outputId": "de256989-2e4f-4bb5-c1bc-6e6d4e8e6312"
      },
      "outputs": [
        {
          "data": {
            "image/png": "[encoded data removed]",
            "text/plain": [
              "<Figure size 1600x1600 with 1 Axes>"
            ]
          },
          "metadata": {},
          "output_type": "display_data"
        }
      ],
      "source": [
        "# Get index for one time period\n",
        "time_period = 28\n",
        "sub_node_list = df_merge.index[df_merge.loc[:, 1] == time_period].tolist()\n",
        "\n",
        "# Fetch list of edges for that time period\n",
        "edge_tuples = []\n",
        "for row in data_train.edge_index.view(-1, 2).cpu().numpy():\n",
        "  if (row[0] in sub_node_list) | (row[1] in sub_node_list):\n",
        "    edge_tuples.append(tuple(row))\n",
        "len(edge_tuples)\n",
        "\n",
        "# Fetch predicted results for that time period\n",
        "node_color = []\n",
        "for node_id in sub_node_list:\n",
        "  if node_id in classified_illicit_idx: # \n",
        "     label = \"red\" # fraud\n",
        "  elif node_id in classified_licit_idx:\n",
        "     label = \"green\" # not fraud\n",
        "  else:\n",
        "    if output['pred_labels'][node_id]:\n",
        "      label = \"orange\" # Predicted fraud\n",
        "    else:\n",
        "      label = \"blue\" # Not fraud predicted \n",
        "  \n",
        "  node_color.append(label)\n",
        "\n",
        "# Setup networkx graph\n",
        "G = nx.Graph()\n",
        "G.add_edges_from(edge_tuples)\n",
        "\n",
        "# Plot the graph\n",
        "plt.figure(3,figsize=(16,16)) \n",
        "plt.title(\"Time period:\"+str(time_period))\n",
        "nx.draw_networkx(G, nodelist=sub_node_list, node_color=node_color, node_size=6, with_labels=False)"
      ]
    },
    {
      "attachments": {},
      "cell_type": "markdown",
      "metadata": {
        "id": "Ml70TyFKcXTX"
      },
      "source": [
        "The diagram above has the following legend: Green = Not illicit (not fraud), Red = illicit (Fraud), Blue = Predicted not illicit, Orange = Predicted illicit."
      ]
    },
    {
      "attachments": {},
      "cell_type": "markdown",
      "metadata": {
        "id": "FUPkbVaYAJaf"
      },
      "source": [
        "## Training Cross comparisons\n",
        "Here,we show you how to load few results from previous trained models , we should assign names then plots all results. The current visualization has additional models that we ran as well.\n"
      ]
    },
    {
      "cell_type": "code",
      "execution_count": 41,
      "metadata": {
        "colab": {
          "base_uri": "https://localhost:8080/",
          "height": 542
        },
        "id": "pYdG1xd6Rjk3",
        "outputId": "81f8731d-1c35-4313-8da4-b670912dda3c"
      },
      "outputs": [
        {
          "data": {
            "application/vnd.plotly.v1+json": {
              "config": {
                "plotlyServerURL": "https://plot.ly"
              },
              "data": [
                {
                  "name": "GATv2_prebuilt",
                  "type": "scatter",
                  "x": [
                    0,
                    1,
                    2,
                    3,
                    4,
                    5,
                    6,
                    7,
                    8,
                    9
                  ],
                  "y": [
                    0.5493457818264326,
                    0.6370402747879979,
                    0.6881922719856273,
                    0.7223476000942969,
                    0.7397174541773057,
                    0.7672860394976786,
                    0.781878180918316,
                    0.7804794282739548,
                    0.8114784406329569,
                    0.8215410560991587
                  ]
                },
                {
                  "name": "GAT_prebuilt",
                  "type": "scatter",
                  "x": [
                    0,
                    1,
                    2,
                    3,
                    4,
                    5,
                    6,
                    7,
                    8,
                    9
                  ],
                  "y": [
                    0.45309125440137143,
                    0.5310151560654116,
                    0.5729461114234193,
                    0.616886184216055,
                    0.6184421721379089,
                    0.6546719665201645,
                    0.672498377889226,
                    0.7080129839628863,
                    0.7286851105932348,
                    0.7653280069422361
                  ]
                }
              ],
              "layout": {
                "template": {
                  "data": {
                    "bar": [
                      {
                        "error_x": {
                          "color": "#2a3f5f"
                        },
                        "error_y": {
                          "color": "#2a3f5f"
                        },
                        "marker": {
                          "line": {
                            "color": "#E5ECF6",
                            "width": 0.5
                          },
                          "pattern": {
                            "fillmode": "overlay",
                            "size": 10,
                            "solidity": 0.2
                          }
                        },
                        "type": "bar"
                      }
                    ],
                    "barpolar": [
                      {
                        "marker": {
                          "line": {
                            "color": "#E5ECF6",
                            "width": 0.5
                          },
                          "pattern": {
                            "fillmode": "overlay",
                            "size": 10,
                            "solidity": 0.2
                          }
                        },
                        "type": "barpolar"
                      }
                    ],
                    "carpet": [
                      {
                        "aaxis": {
                          "endlinecolor": "#2a3f5f",
                          "gridcolor": "white",
                          "linecolor": "white",
                          "minorgridcolor": "white",
                          "startlinecolor": "#2a3f5f"
                        },
                        "baxis": {
                          "endlinecolor": "#2a3f5f",
                          "gridcolor": "white",
                          "linecolor": "white",
                          "minorgridcolor": "white",
                          "startlinecolor": "#2a3f5f"
                        },
                        "type": "carpet"
                      }
                    ],
                    "choropleth": [
                      {
                        "colorbar": {
                          "outlinewidth": 0,
                          "ticks": ""
                        },
                        "type": "choropleth"
                      }
                    ],
                    "contour": [
                      {
                        "colorbar": {
                          "outlinewidth": 0,
                          "ticks": ""
                        },
                        "colorscale": [
                          [
                            0,
                            "#0d0887"
                          ],
                          [
                            0.1111111111111111,
                            "#46039f"
                          ],
                          [
                            0.2222222222222222,
                            "#7201a8"
                          ],
                          [
                            0.3333333333333333,
                            "#9c179e"
                          ],
                          [
                            0.4444444444444444,
                            "#bd3786"
                          ],
                          [
                            0.5555555555555556,
                            "#d8576b"
                          ],
                          [
                            0.6666666666666666,
                            "#ed7953"
                          ],
                          [
                            0.7777777777777778,
                            "#fb9f3a"
                          ],
                          [
                            0.8888888888888888,
                            "#fdca26"
                          ],
                          [
                            1,
                            "#f0f921"
                          ]
                        ],
                        "type": "contour"
                      }
                    ],
                    "contourcarpet": [
                      {
                        "colorbar": {
                          "outlinewidth": 0,
                          "ticks": ""
                        },
                        "type": "contourcarpet"
                      }
                    ],
                    "heatmap": [
                      {
                        "colorbar": {
                          "outlinewidth": 0,
                          "ticks": ""
                        },
                        "colorscale": [
                          [
                            0,
                            "#0d0887"
                          ],
                          [
                            0.1111111111111111,
                            "#46039f"
                          ],
                          [
                            0.2222222222222222,
                            "#7201a8"
                          ],
                          [
                            0.3333333333333333,
                            "#9c179e"
                          ],
                          [
                            0.4444444444444444,
                            "#bd3786"
                          ],
                          [
                            0.5555555555555556,
                            "#d8576b"
                          ],
                          [
                            0.6666666666666666,
                            "#ed7953"
                          ],
                          [
                            0.7777777777777778,
                            "#fb9f3a"
                          ],
                          [
                            0.8888888888888888,
                            "#fdca26"
                          ],
                          [
                            1,
                            "#f0f921"
                          ]
                        ],
                        "type": "heatmap"
                      }
                    ],
                    "heatmapgl": [
                      {
                        "colorbar": {
                          "outlinewidth": 0,
                          "ticks": ""
                        },
                        "colorscale": [
                          [
                            0,
                            "#0d0887"
                          ],
                          [
                            0.1111111111111111,
                            "#46039f"
                          ],
                          [
                            0.2222222222222222,
                            "#7201a8"
                          ],
                          [
                            0.3333333333333333,
                            "#9c179e"
                          ],
                          [
                            0.4444444444444444,
                            "#bd3786"
                          ],
                          [
                            0.5555555555555556,
                            "#d8576b"
                          ],
                          [
                            0.6666666666666666,
                            "#ed7953"
                          ],
                          [
                            0.7777777777777778,
                            "#fb9f3a"
                          ],
                          [
                            0.8888888888888888,
                            "#fdca26"
                          ],
                          [
                            1,
                            "#f0f921"
                          ]
                        ],
                        "type": "heatmapgl"
                      }
                    ],
                    "histogram": [
                      {
                        "marker": {
                          "pattern": {
                            "fillmode": "overlay",
                            "size": 10,
                            "solidity": 0.2
                          }
                        },
                        "type": "histogram"
                      }
                    ],
                    "histogram2d": [
                      {
                        "colorbar": {
                          "outlinewidth": 0,
                          "ticks": ""
                        },
                        "colorscale": [
                          [
                            0,
                            "#0d0887"
                          ],
                          [
                            0.1111111111111111,
                            "#46039f"
                          ],
                          [
                            0.2222222222222222,
                            "#7201a8"
                          ],
                          [
                            0.3333333333333333,
                            "#9c179e"
                          ],
                          [
                            0.4444444444444444,
                            "#bd3786"
                          ],
                          [
                            0.5555555555555556,
                            "#d8576b"
                          ],
                          [
                            0.6666666666666666,
                            "#ed7953"
                          ],
                          [
                            0.7777777777777778,
                            "#fb9f3a"
                          ],
                          [
                            0.8888888888888888,
                            "#fdca26"
                          ],
                          [
                            1,
                            "#f0f921"
                          ]
                        ],
                        "type": "histogram2d"
                      }
                    ],
                    "histogram2dcontour": [
                      {
                        "colorbar": {
                          "outlinewidth": 0,
                          "ticks": ""
                        },
                        "colorscale": [
                          [
                            0,
                            "#0d0887"
                          ],
                          [
                            0.1111111111111111,
                            "#46039f"
                          ],
                          [
                            0.2222222222222222,
                            "#7201a8"
                          ],
                          [
                            0.3333333333333333,
                            "#9c179e"
                          ],
                          [
                            0.4444444444444444,
                            "#bd3786"
                          ],
                          [
                            0.5555555555555556,
                            "#d8576b"
                          ],
                          [
                            0.6666666666666666,
                            "#ed7953"
                          ],
                          [
                            0.7777777777777778,
                            "#fb9f3a"
                          ],
                          [
                            0.8888888888888888,
                            "#fdca26"
                          ],
                          [
                            1,
                            "#f0f921"
                          ]
                        ],
                        "type": "histogram2dcontour"
                      }
                    ],
                    "mesh3d": [
                      {
                        "colorbar": {
                          "outlinewidth": 0,
                          "ticks": ""
                        },
                        "type": "mesh3d"
                      }
                    ],
                    "parcoords": [
                      {
                        "line": {
                          "colorbar": {
                            "outlinewidth": 0,
                            "ticks": ""
                          }
                        },
                        "type": "parcoords"
                      }
                    ],
                    "pie": [
                      {
                        "automargin": true,
                        "type": "pie"
                      }
                    ],
                    "scatter": [
                      {
                        "fillpattern": {
                          "fillmode": "overlay",
                          "size": 10,
                          "solidity": 0.2
                        },
                        "type": "scatter"
                      }
                    ],
                    "scatter3d": [
                      {
                        "line": {
                          "colorbar": {
                            "outlinewidth": 0,
                            "ticks": ""
                          }
                        },
                        "marker": {
                          "colorbar": {
                            "outlinewidth": 0,
                            "ticks": ""
                          }
                        },
                        "type": "scatter3d"
                      }
                    ],
                    "scattercarpet": [
                      {
                        "marker": {
                          "colorbar": {
                            "outlinewidth": 0,
                            "ticks": ""
                          }
                        },
                        "type": "scattercarpet"
                      }
                    ],
                    "scattergeo": [
                      {
                        "marker": {
                          "colorbar": {
                            "outlinewidth": 0,
                            "ticks": ""
                          }
                        },
                        "type": "scattergeo"
                      }
                    ],
                    "scattergl": [
                      {
                        "marker": {
                          "colorbar": {
                            "outlinewidth": 0,
                            "ticks": ""
                          }
                        },
                        "type": "scattergl"
                      }
                    ],
                    "scattermapbox": [
                      {
                        "marker": {
                          "colorbar": {
                            "outlinewidth": 0,
                            "ticks": ""
                          }
                        },
                        "type": "scattermapbox"
                      }
                    ],
                    "scatterpolar": [
                      {
                        "marker": {
                          "colorbar": {
                            "outlinewidth": 0,
                            "ticks": ""
                          }
                        },
                        "type": "scatterpolar"
                      }
                    ],
                    "scatterpolargl": [
                      {
                        "marker": {
                          "colorbar": {
                            "outlinewidth": 0,
                            "ticks": ""
                          }
                        },
                        "type": "scatterpolargl"
                      }
                    ],
                    "scatterternary": [
                      {
                        "marker": {
                          "colorbar": {
                            "outlinewidth": 0,
                            "ticks": ""
                          }
                        },
                        "type": "scatterternary"
                      }
                    ],
                    "surface": [
                      {
                        "colorbar": {
                          "outlinewidth": 0,
                          "ticks": ""
                        },
                        "colorscale": [
                          [
                            0,
                            "#0d0887"
                          ],
                          [
                            0.1111111111111111,
                            "#46039f"
                          ],
                          [
                            0.2222222222222222,
                            "#7201a8"
                          ],
                          [
                            0.3333333333333333,
                            "#9c179e"
                          ],
                          [
                            0.4444444444444444,
                            "#bd3786"
                          ],
                          [
                            0.5555555555555556,
                            "#d8576b"
                          ],
                          [
                            0.6666666666666666,
                            "#ed7953"
                          ],
                          [
                            0.7777777777777778,
                            "#fb9f3a"
                          ],
                          [
                            0.8888888888888888,
                            "#fdca26"
                          ],
                          [
                            1,
                            "#f0f921"
                          ]
                        ],
                        "type": "surface"
                      }
                    ],
                    "table": [
                      {
                        "cells": {
                          "fill": {
                            "color": "#EBF0F8"
                          },
                          "line": {
                            "color": "white"
                          }
                        },
                        "header": {
                          "fill": {
                            "color": "#C8D4E3"
                          },
                          "line": {
                            "color": "white"
                          }
                        },
                        "type": "table"
                      }
                    ]
                  },
                  "layout": {
                    "annotationdefaults": {
                      "arrowcolor": "#2a3f5f",
                      "arrowhead": 0,
                      "arrowwidth": 1
                    },
                    "autotypenumbers": "strict",
                    "coloraxis": {
                      "colorbar": {
                        "outlinewidth": 0,
                        "ticks": ""
                      }
                    },
                    "colorscale": {
                      "diverging": [
                        [
                          0,
                          "#8e0152"
                        ],
                        [
                          0.1,
                          "#c51b7d"
                        ],
                        [
                          0.2,
                          "#de77ae"
                        ],
                        [
                          0.3,
                          "#f1b6da"
                        ],
                        [
                          0.4,
                          "#fde0ef"
                        ],
                        [
                          0.5,
                          "#f7f7f7"
                        ],
                        [
                          0.6,
                          "#e6f5d0"
                        ],
                        [
                          0.7,
                          "#b8e186"
                        ],
                        [
                          0.8,
                          "#7fbc41"
                        ],
                        [
                          0.9,
                          "#4d9221"
                        ],
                        [
                          1,
                          "#276419"
                        ]
                      ],
                      "sequential": [
                        [
                          0,
                          "#0d0887"
                        ],
                        [
                          0.1111111111111111,
                          "#46039f"
                        ],
                        [
                          0.2222222222222222,
                          "#7201a8"
                        ],
                        [
                          0.3333333333333333,
                          "#9c179e"
                        ],
                        [
                          0.4444444444444444,
                          "#bd3786"
                        ],
                        [
                          0.5555555555555556,
                          "#d8576b"
                        ],
                        [
                          0.6666666666666666,
                          "#ed7953"
                        ],
                        [
                          0.7777777777777778,
                          "#fb9f3a"
                        ],
                        [
                          0.8888888888888888,
                          "#fdca26"
                        ],
                        [
                          1,
                          "#f0f921"
                        ]
                      ],
                      "sequentialminus": [
                        [
                          0,
                          "#0d0887"
                        ],
                        [
                          0.1111111111111111,
                          "#46039f"
                        ],
                        [
                          0.2222222222222222,
                          "#7201a8"
                        ],
                        [
                          0.3333333333333333,
                          "#9c179e"
                        ],
                        [
                          0.4444444444444444,
                          "#bd3786"
                        ],
                        [
                          0.5555555555555556,
                          "#d8576b"
                        ],
                        [
                          0.6666666666666666,
                          "#ed7953"
                        ],
                        [
                          0.7777777777777778,
                          "#fb9f3a"
                        ],
                        [
                          0.8888888888888888,
                          "#fdca26"
                        ],
                        [
                          1,
                          "#f0f921"
                        ]
                      ]
                    },
                    "colorway": [
                      "#636efa",
                      "#EF553B",
                      "#00cc96",
                      "#ab63fa",
                      "#FFA15A",
                      "#19d3f3",
                      "#FF6692",
                      "#B6E880",
                      "#FF97FF",
                      "#FECB52"
                    ],
                    "font": {
                      "color": "#2a3f5f"
                    },
                    "geo": {
                      "bgcolor": "white",
                      "lakecolor": "white",
                      "landcolor": "#E5ECF6",
                      "showlakes": true,
                      "showland": true,
                      "subunitcolor": "white"
                    },
                    "hoverlabel": {
                      "align": "left"
                    },
                    "hovermode": "closest",
                    "mapbox": {
                      "style": "light"
                    },
                    "paper_bgcolor": "white",
                    "plot_bgcolor": "#E5ECF6",
                    "polar": {
                      "angularaxis": {
                        "gridcolor": "white",
                        "linecolor": "white",
                        "ticks": ""
                      },
                      "bgcolor": "#E5ECF6",
                      "radialaxis": {
                        "gridcolor": "white",
                        "linecolor": "white",
                        "ticks": ""
                      }
                    },
                    "scene": {
                      "xaxis": {
                        "backgroundcolor": "#E5ECF6",
                        "gridcolor": "white",
                        "gridwidth": 2,
                        "linecolor": "white",
                        "showbackground": true,
                        "ticks": "",
                        "zerolinecolor": "white"
                      },
                      "yaxis": {
                        "backgroundcolor": "#E5ECF6",
                        "gridcolor": "white",
                        "gridwidth": 2,
                        "linecolor": "white",
                        "showbackground": true,
                        "ticks": "",
                        "zerolinecolor": "white"
                      },
                      "zaxis": {
                        "backgroundcolor": "#E5ECF6",
                        "gridcolor": "white",
                        "gridwidth": 2,
                        "linecolor": "white",
                        "showbackground": true,
                        "ticks": "",
                        "zerolinecolor": "white"
                      }
                    },
                    "shapedefaults": {
                      "line": {
                        "color": "#2a3f5f"
                      }
                    },
                    "ternary": {
                      "aaxis": {
                        "gridcolor": "white",
                        "linecolor": "white",
                        "ticks": ""
                      },
                      "baxis": {
                        "gridcolor": "white",
                        "linecolor": "white",
                        "ticks": ""
                      },
                      "bgcolor": "#E5ECF6",
                      "caxis": {
                        "gridcolor": "white",
                        "linecolor": "white",
                        "ticks": ""
                      }
                    },
                    "title": {
                      "x": 0.05
                    },
                    "xaxis": {
                      "automargin": true,
                      "gridcolor": "white",
                      "linecolor": "white",
                      "ticks": "",
                      "title": {
                        "standoff": 15
                      },
                      "zerolinecolor": "white",
                      "zerolinewidth": 2
                    },
                    "yaxis": {
                      "automargin": true,
                      "gridcolor": "white",
                      "linecolor": "white",
                      "ticks": "",
                      "title": {
                        "standoff": 15
                      },
                      "zerolinecolor": "white",
                      "zerolinewidth": 2
                    }
                  }
                },
                "title": {
                  "text": "Val set aucroc comparison"
                },
                "xaxis": {
                  "title": {
                    "text": "Epoch"
                  }
                },
                "yaxis": {
                  "title": {
                    "text": "aucroc"
                  }
                }
              }
            }
          },
          "metadata": {},
          "output_type": "display_data"
        }
      ],
      "source": [
        "# Take names of the saved files\n",
        "model_name_list = [\"GATv2prebuilt.results\",\"GATprebuilt.results\"]\n",
        "#Assign names to plots\n",
        "names = [\"GATv2_prebuilt\", \"GAT_prebuilt\"]\n",
        "\n",
        "#Iterate to load saved outputs and plots\n",
        "mm_list0 = [load_results(fn) for fn in model_name_list]\n",
        "plot_training_comp(mm_list0, names, \"aucroc\",title=\"Val set aucroc comparison\")\n"
      ]
    },
    {
      "attachments": {},
      "cell_type": "markdown",
      "metadata": {
        "id": "lxYtzen9q2TO"
      },
      "source": [
        "## Best metrics"
      ]
    },
    {
      "attachments": {},
      "cell_type": "markdown",
      "metadata": {
        "id": "NhGlj6o8Oe42"
      },
      "source": [
        "Next, we show you the best results of each model into a table."
      ]
    },
    {
      "cell_type": "code",
      "execution_count": 42,
      "metadata": {
        "id": "9MTGPg77BKde"
      },
      "outputs": [],
      "source": [
        "# Plot best results of each into a table\n",
        "aucroc_l = []\n",
        "accuracy_l = []\n",
        "f1micro_l = []\n",
        "f1macro_l = []\n",
        "model_versions = []\n",
        "for c1, mm in enumerate(mm_list0):\n",
        "  model_versions.append(names[c1])\n",
        "  best = mm.get_best(\"aucroc\")\n",
        "\n",
        "  aucroc_l.append(best[\"aucroc\"])\n",
        "  accuracy_l.append(best[\"accuracy\"])\n",
        "  f1micro_l.append(best[\"f1micro\"])\n",
        "  f1macro_l.append(best[\"f1macro\"])\n",
        "\n",
        "d = {\"model_version\": model_versions, \"aucroc\":aucroc_l, \"accuracy\": accuracy_l, \"f1_macro\": f1macro_l, \"f1_micro\": f1micro_l}\n",
        "df = pd.DataFrame(data=d)"
      ]
    },
    {
      "cell_type": "code",
      "execution_count": 43,
      "metadata": {
        "colab": {
          "base_uri": "https://localhost:8080/",
          "height": 112
        },
        "id": "oETgjugvBKgR",
        "outputId": "950aa7e5-b130-4548-fe7a-d848e22c65b9"
      },
      "outputs": [
        {
          "data": {
            "text/html": [
              "<div>\n",
              "<style scoped>\n",
              "    .dataframe tbody tr th:only-of-type {\n",
              "        vertical-align: middle;\n",
              "    }\n",
              "\n",
              "    .dataframe tbody tr th {\n",
              "        vertical-align: top;\n",
              "    }\n",
              "\n",
              "    .dataframe thead th {\n",
              "        text-align: right;\n",
              "    }\n",
              "</style>\n",
              "<table border=\"1\" class=\"dataframe\">\n",
              "  <thead>\n",
              "    <tr style=\"text-align: right;\">\n",
              "      <th></th>\n",
              "      <th>model_version</th>\n",
              "      <th>aucroc</th>\n",
              "      <th>accuracy</th>\n",
              "      <th>f1_macro</th>\n",
              "      <th>f1_micro</th>\n",
              "    </tr>\n",
              "  </thead>\n",
              "  <tbody>\n",
              "    <tr>\n",
              "      <th>0</th>\n",
              "      <td>GATv2_prebuilt</td>\n",
              "      <td>0.822</td>\n",
              "      <td>0.896</td>\n",
              "      <td>0.475</td>\n",
              "      <td>0.896</td>\n",
              "    </tr>\n",
              "    <tr>\n",
              "      <th>1</th>\n",
              "      <td>GAT_prebuilt</td>\n",
              "      <td>0.765</td>\n",
              "      <td>0.896</td>\n",
              "      <td>0.473</td>\n",
              "      <td>0.896</td>\n",
              "    </tr>\n",
              "  </tbody>\n",
              "</table>\n",
              "</div>"
            ],
            "text/plain": [
              "    model_version  aucroc  accuracy  f1_macro  f1_micro\n",
              "0  GATv2_prebuilt   0.822     0.896     0.475     0.896\n",
              "1    GAT_prebuilt   0.765     0.896     0.473     0.896"
            ]
          },
          "execution_count": 43,
          "metadata": {},
          "output_type": "execute_result"
        }
      ],
      "source": [
        "df.round(3)"
      ]
    }
  ],
  "metadata": {
    "accelerator": "GPU",
    "colab": {
      "gpuType": "T4",
      "provenance": []
    },
    "gpuClass": "standard",
    "kernelspec": {
      "display_name": "Python 3",
      "language": "python",
      "name": "python3"
    },
    "language_info": {
      "codemirror_mode": {
        "name": "ipython",
        "version": 3
      },
      "file_extension": ".py",
      "mimetype": "text/x-python",
      "name": "python",
      "nbconvert_exporter": "python",
      "pygments_lexer": "ipython3",
      "version": "3.10.11"
    },
    "papermill": {
      "duration": 1465.987228,
      "end_time": "2021-02-28T17:20:32.623450",
      "environment_variables": {},
      "exception": null,
      "input_path": "__notebook__.ipynb",
      "output_path": "__notebook__.ipynb",
      "parameters": {},
      "start_time": "2021-02-28T16:56:06.636222",
      "version": "2.1.0"
    }
  },
  "nbformat": 4,
  "nbformat_minor": 0
}
