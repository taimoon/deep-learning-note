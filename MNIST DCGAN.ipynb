{
 "cells": [
  {
   "cell_type": "code",
   "execution_count": null,
   "metadata": {
    "collapsed": true
   },
   "outputs": [],
   "source": [
    "import itertools\n",
    "import math\n",
    "import torch\n",
    "import torchvision\n",
    "import torch.nn as nn\n",
    "import torchvision.datasets as dsets\n",
    "import torchvision.transforms as transforms\n",
    "import matplotlib.pyplot as plt\n",
    "from IPython import display"
   ]
  },
  {
   "cell_type": "code",
   "execution_count": null,
   "metadata": {},
   "outputs": [],
   "source": [
    "# Get cpu, gpu or mps device for training.\n",
    "device = (\n",
    "    \"cuda\"\n",
    "    if torch.cuda.is_available()\n",
    "    else \"mps\"\n",
    "    if torch.backends.mps.is_available()\n",
    "    else \"cpu\"\n",
    ")\n",
    "print(f\"Using {device} device\")"
   ]
  },
  {
   "cell_type": "markdown",
   "metadata": {},
   "source": [
    "### Load Dataset"
   ]
  },
  {
   "cell_type": "code",
   "execution_count": null,
   "metadata": {},
   "outputs": [],
   "source": [
    "transform = transforms.Compose([\n",
    "        transforms.ToTensor(),\n",
    "        transforms.Normalize((0.5,), (0.5,)) # changed\n",
    "])\n",
    "\n",
    "train_dataset = dsets.MNIST(root='./data/', train=True, download=True, transform=transform)\n",
    "train_loader = torch.utils.data.DataLoader(train_dataset, batch_size=100, shuffle=True)"
   ]
  },
  {
   "cell_type": "markdown",
   "metadata": {},
   "source": [
    "### Model"
   ]
  },
  {
   "cell_type": "code",
   "execution_count": null,
   "metadata": {
    "collapsed": true
   },
   "outputs": [],
   "source": [
    "class Discriminator(nn.Module):\n",
    "    def __init__(self):\n",
    "        super().__init__()\n",
    "        self.flatten = nn.Flatten()\n",
    "        self.conv = nn.Sequential(\n",
    "            nn.Conv2d(1, 12, kernel_size=3),\n",
    "            nn.ReLU(),\n",
    "            nn.Conv2d(12, 24, kernel_size=6, stride=2),\n",
    "            nn.ReLU(),\n",
    "            nn.Conv2d(24, 32, kernel_size=6, stride=2),\n",
    "            nn.ReLU(),\n",
    "        )\n",
    "        self.linear_relu_stack = nn.Sequential(\n",
    "            nn.Linear(288, 100),\n",
    "            nn.ReLU(),\n",
    "            nn.Linear(100, 10),\n",
    "            nn.ReLU(),\n",
    "            nn.Linear(10, 1),\n",
    "            nn.Sigmoid(),\n",
    "        )\n",
    "    \n",
    "    def forward(self, x):\n",
    "        x = self.conv(x)\n",
    "        x  = self.flatten(x)\n",
    "        x = self.linear_relu_stack(x)\n",
    "        x = x.view(x.size(0), -1)\n",
    "        return x"
   ]
  },
  {
   "cell_type": "code",
   "execution_count": null,
   "metadata": {},
   "outputs": [],
   "source": [
    "# utils for dev\n",
    "def output_dim_calc(h,kernel_sz,stride = 1,padding = 0,out_pad = 0):\n",
    "    return (h-1) * stride - 2 * padding +  (kernel_sz - 1) + out_pad + 1\n",
    "h = 5\n",
    "h = output_dim_calc(h,3,1)\n",
    "h = output_dim_calc(h,3,2)\n",
    "h = output_dim_calc(h,3,2)\n",
    "output_dim_calc(32,1,1,2)"
   ]
  },
  {
   "cell_type": "code",
   "execution_count": null,
   "metadata": {
    "collapsed": true
   },
   "outputs": [],
   "source": [
    "# input noise dimension\n",
    "latent_vector_sz = 25\n",
    "# number of generator filters\n",
    "ngf = 64\n",
    "#number of discriminator filters\n",
    "ndf = 64\n",
    "channel_num = 1\n",
    "class Generator(nn.Module):\n",
    "    def __init__(self):\n",
    "        super().__init__()\n",
    "        self.model = nn.Sequential(\n",
    "            nn.ConvTranspose2d(latent_vector_sz, ngf * 8, 4, 1, 0, bias=False),\n",
    "            nn.BatchNorm2d(ngf * 8),\n",
    "            nn.ReLU(True),\n",
    "            # state size. (ngf*8) x 4 x 4\n",
    "            nn.ConvTranspose2d(ngf * 8, ngf * 4, 4, 2, 1, bias=False),\n",
    "            nn.BatchNorm2d(ngf * 4),\n",
    "            nn.ReLU(True),\n",
    "            # state size. (ngf*4) x 8 x 8\n",
    "            nn.ConvTranspose2d(ngf * 4, ngf * 2, 4, 2, 1, bias=False),\n",
    "            nn.BatchNorm2d(ngf * 2),\n",
    "            nn.ReLU(True),\n",
    "            # state size. (ngf*2) x 16 x 16\n",
    "            nn.ConvTranspose2d(ngf*2,ngf, 4, 2, 1, bias=False),\n",
    "            nn.BatchNorm2d(ngf),\n",
    "            nn.ReLU(True),\n",
    "            nn.ConvTranspose2d(ngf,channel_num, kernel_size=1, stride=1, padding=2, bias=False),\n",
    "            nn.Tanh()\n",
    "        )\n",
    "    \n",
    "    def forward(self, x):\n",
    "        x = self.model(x)\n",
    "        return x"
   ]
  },
  {
   "attachments": {},
   "cell_type": "markdown",
   "metadata": {},
   "source": [
    "### Weight Initialization"
   ]
  },
  {
   "cell_type": "code",
   "execution_count": null,
   "metadata": {},
   "outputs": [],
   "source": [
    "def weights_init(m):\n",
    "    classname = m.__class__.__name__\n",
    "    if classname.find('Conv') != -1:\n",
    "        nn.init.normal_(m.weight.data, 0.0, 0.02)\n",
    "    elif classname.find('BatchNorm') != -1:\n",
    "        nn.init.normal_(m.weight.data, 1.0, 0.02)\n",
    "        nn.init.constant_(m.bias.data, 0)"
   ]
  },
  {
   "cell_type": "code",
   "execution_count": null,
   "metadata": {
    "collapsed": true
   },
   "outputs": [],
   "source": [
    "discriminator = Discriminator().to(device)\n",
    "generator = Generator().to(device)\n",
    "weights_init(discriminator)\n",
    "weights_init(generator)\n",
    "generator.load_state_dict(torch.load(\"model/mnist_gan_generator.pth\"))\n",
    "discriminator.load_state_dict(torch.load(\"model/mnist_gan_discriminator.pth\"))"
   ]
  },
  {
   "cell_type": "markdown",
   "metadata": {},
   "source": [
    "### Optimization"
   ]
  },
  {
   "cell_type": "code",
   "execution_count": null,
   "metadata": {
    "collapsed": true
   },
   "outputs": [],
   "source": [
    "criterion = nn.BCELoss()\n",
    "lr = 0.0002\n",
    "d_optimizer = torch.optim.Adam(discriminator.parameters(), lr=lr)\n",
    "g_optimizer = torch.optim.Adam(generator.parameters(), lr=lr)"
   ]
  },
  {
   "cell_type": "markdown",
   "metadata": {},
   "source": [
    "### Training"
   ]
  },
  {
   "cell_type": "code",
   "execution_count": null,
   "metadata": {
    "collapsed": true
   },
   "outputs": [],
   "source": [
    "def train_discriminator(discriminator, images, real_labels, fake_images, fake_labels):\n",
    "    discriminator.zero_grad()\n",
    "    outputs = discriminator(images)\n",
    "    real_loss = criterion(outputs, real_labels.unsqueeze(1).to(device)) # changed\n",
    "    real_score = outputs\n",
    "    \n",
    "    outputs = discriminator(fake_images) \n",
    "    fake_loss = criterion(outputs, fake_labels.unsqueeze(1).to(device)) # changed\n",
    "    fake_score = outputs\n",
    "\n",
    "    d_loss = real_loss + fake_loss\n",
    "    d_loss.backward()\n",
    "    d_optimizer.step()\n",
    "    return d_loss, real_score, fake_score"
   ]
  },
  {
   "cell_type": "code",
   "execution_count": null,
   "metadata": {
    "collapsed": true
   },
   "outputs": [],
   "source": [
    "def train_generator(generator, discriminator_outputs, real_labels):\n",
    "    generator.zero_grad()\n",
    "    g_loss = criterion(discriminator_outputs, real_labels.unsqueeze(1).to(device)) \n",
    "    g_loss.backward()\n",
    "    g_optimizer.step()\n",
    "    return g_loss"
   ]
  },
  {
   "cell_type": "code",
   "execution_count": null,
   "metadata": {
    "collapsed": true
   },
   "outputs": [],
   "source": [
    "fig_epoch_counter = itertools.count()\n",
    "def replot(images:torch.Tensor,g_lossi,d_lossi):\n",
    "    num_test_samples = images.size(0)\n",
    "    # create figure for plotting\n",
    "    size_figure_grid = int(math.sqrt(num_test_samples))\n",
    "    fig, ax = plt.subplots(size_figure_grid, size_figure_grid, figsize=(6, 6))\n",
    "    for i, j in itertools.product(range(size_figure_grid), range(size_figure_grid)):\n",
    "        ax[i,j].get_xaxis().set_visible(False)\n",
    "        ax[i,j].get_yaxis().set_visible(False)\n",
    "        \n",
    "    for k in range(num_test_samples):\n",
    "        i = k//4\n",
    "        j = k%4\n",
    "        ax[i,j].cla()\n",
    "        ax[i,j].imshow(images[k,:].data.cpu().numpy().reshape(28, 28), cmap='Greys')\n",
    "    display.clear_output(wait=True)\n",
    "    display.display(plt.gcf())\n",
    "    epoch_n = next(fig_epoch_counter)\n",
    "    plt.savefig(f'results/mnist-gan-{epoch_n}.png')\n",
    "    plt.close()\n",
    "    plt.title('MNIST GAN Loss')\n",
    "    plt.plot(g_lossi,label=\"generator loss\")\n",
    "    plt.plot(d_lossi,label=\"discriminator loss\")\n",
    "    plt.legend()\n",
    "    plt.savefig(f'results/history/mnist_dcgan_loss_{epoch_n}.png')\n",
    "    plt.show()\n",
    "    plt.close()\n",
    "    \n",
    "    "
   ]
  },
  {
   "cell_type": "code",
   "execution_count": null,
   "metadata": {
    "scrolled": false
   },
   "outputs": [],
   "source": [
    "# set number of epochs and initialize figure counter\n",
    "num_epochs = 200\n",
    "num_batches = len(train_loader)\n",
    "open('results/history/mnist_dcgan_generator_loss.csv','w+')\n",
    "open('results/history/mnist_dcgan_discriminator_loss.csv','w+')\n",
    "time_win_lim = 5000\n",
    "d_lossi = []\n",
    "g_lossi = []\n",
    "for epoch in range(num_epochs):\n",
    "    for n, (images, _) in enumerate(train_loader):\n",
    "        images = images.to(device)\n",
    "        real_labels = torch.ones(images.size(0)).to(device)\n",
    "        \n",
    "        # Sample from generator\n",
    "        noise = torch.randn(images.size(0), latent_vector_sz,1,1).to(device)\n",
    "        fake_images = generator(noise)\n",
    "        fake_labels = torch.zeros(images.size(0)).to(device)\n",
    "        \n",
    "        # Train the discriminator\n",
    "        d_loss, real_score, fake_score = train_discriminator(discriminator, images, real_labels, fake_images, fake_labels)\n",
    "        d_lossi.append(d_loss.item())\n",
    "        d_lossi = d_lossi[:time_win_lim]\n",
    "        with open('results/history/mnist_dcgan_discriminator_loss.csv','a') as f:\n",
    "            f.write(f\"{d_loss}\\n\")\n",
    "            \n",
    "        # Sample again from the generator and get output from discriminator\n",
    "        noise = torch.randn(images.size(0), latent_vector_sz,1,1).to(device)\n",
    "        fake_images = generator(noise)\n",
    "        outputs = discriminator(fake_images)\n",
    "\n",
    "        # Train the generator\n",
    "        g_loss = train_generator(generator, outputs, real_labels)\n",
    "        with open('results/history/mnist_dcgan_generator_loss.csv','a') as f:\n",
    "            f.write(f\"{g_loss}\\n\")\n",
    "        g_lossi.append(g_loss.item())\n",
    "        g_lossi = g_lossi[:time_win_lim]\n",
    "        \n",
    "        if (n+1) % 100 == 0:\n",
    "            \n",
    "            \n",
    "            # draw samples from the input distribution to inspect the generation on training \n",
    "            num_test_samples = 16\n",
    "            test_noise = torch.randn(num_test_samples, latent_vector_sz,1,1).to(device)\n",
    "            test_images = generator(test_noise)\n",
    "            replot(test_images.cpu(),g_lossi,d_lossi)\n",
    "            \n",
    "            print(f'Epoch [{epoch+1}/{num_epochs}], Step[{n+1}/{num_batches}], '\n",
    "                  f'd_loss: {d_loss.data.item():.4f} g_loss: {g_loss.data.item()}, '\n",
    "                  f'D(X): {real_score.data.mean():.2f}, D(G(z)): {fake_score.data.mean():.2f} ')\n",
    "\n",
    "            # save param\n",
    "            torch.save(generator.state_dict(), \"model/mnist_gan_generator.pth\")\n",
    "            torch.save(discriminator.state_dict(), \"model/mnist_gan_discriminator.pth\")\n",
    "            print(\"Saved PyTorch Model State to /model/\")\n"
   ]
  }
 ],
 "metadata": {
  "kernelspec": {
   "display_name": "Python 3",
   "language": "python",
   "name": "python3"
  },
  "language_info": {
   "codemirror_mode": {
    "name": "ipython",
    "version": 3
   },
   "file_extension": ".py",
   "mimetype": "text/x-python",
   "name": "python",
   "nbconvert_exporter": "python",
   "pygments_lexer": "ipython3",
   "version": "3.10.11"
  }
 },
 "nbformat": 4,
 "nbformat_minor": 2
}
