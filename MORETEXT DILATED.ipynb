{
 "cells": [
  {
   "cell_type": "code",
   "execution_count": 182,
   "metadata": {},
   "outputs": [],
   "source": [
    "import torch\n",
    "from torch import nn,optim\n",
    "import torch.nn.functional as F\n",
    "import numpy as np\n",
    "import matplotlib.pyplot as plt"
   ]
  },
  {
   "cell_type": "code",
   "execution_count": 183,
   "metadata": {},
   "outputs": [
    {
     "data": {
      "text/plain": [
       "['emma', 'olivia', 'ava', 'isabella', 'sophia']"
      ]
     },
     "execution_count": 183,
     "metadata": {},
     "output_type": "execute_result"
    }
   ],
   "source": [
    "with open(\"data/names.txt\",\"r\") as f:\n",
    "    words = f.read().lower().split('\\n')\n",
    "words[:5]"
   ]
  },
  {
   "cell_type": "code",
   "execution_count": 184,
   "metadata": {},
   "outputs": [
    {
     "name": "stdout",
     "output_type": "stream",
     "text": [
      "Using cuda device\n"
     ]
    }
   ],
   "source": [
    "# Get cpu, gpu or mps device for training.\n",
    "device = (\n",
    "    \"cuda\"\n",
    "    if torch.cuda.is_available()\n",
    "    else \"mps\"\n",
    "    if torch.backends.mps.is_available()\n",
    "    else \"cpu\"\n",
    ")\n",
    "print(f\"Using {device} device\")"
   ]
  },
  {
   "cell_type": "code",
   "execution_count": 185,
   "metadata": {},
   "outputs": [],
   "source": [
    "chars = sorted(list(set(''.join(words))))\n",
    "str_to_idx = {c:i+1 for i,c in enumerate(chars)}\n",
    "str_to_idx['.'] = 0\n",
    "idx_to_str = {i:c for c,i in str_to_idx.items()}"
   ]
  },
  {
   "cell_type": "code",
   "execution_count": 186,
   "metadata": {},
   "outputs": [],
   "source": [
    "block_size = 10\n",
    "embed_sz = 5\n",
    "vocab_size = len(str_to_idx)"
   ]
  },
  {
   "cell_type": "code",
   "execution_count": 187,
   "metadata": {},
   "outputs": [],
   "source": [
    "def build_dateset(words):\n",
    "    X, Y = [],[]\n",
    "    \n",
    "    for w in words:\n",
    "        context = [0] * block_size\n",
    "        for ch in w + '.':\n",
    "            ix = str_to_idx[ch]\n",
    "            X.append(context)\n",
    "            Y.append(ix)\n",
    "            context = context[1:] + [ix]\n",
    "    \n",
    "    return torch.tensor(X).to(device),torch.tensor(Y).to(device)\n",
    "\n",
    "import random\n",
    "random.seed(42)\n",
    "random.shuffle(words)\n",
    "n1 = int(0.8*len(words))\n",
    "n2 = int(0.9*len(words))\n",
    "\n",
    "Xtr,Ytr = build_dateset(words[:n1])\n",
    "Xdev,Ydev = build_dateset(words[n1:n2])\n",
    "Xte,Yte = build_dateset(words[n2:])"
   ]
  },
  {
   "cell_type": "code",
   "execution_count": 188,
   "metadata": {},
   "outputs": [
    {
     "data": {
      "text/plain": [
       "6"
      ]
     },
     "execution_count": 188,
     "metadata": {},
     "output_type": "execute_result"
    }
   ],
   "source": [
    "def conv1d_dim_out(input_len, kernel_sz, padding = 0, dilation = 1, stride = 1):\n",
    "    from math import floor\n",
    "    return  floor((input_len+2*padding-dilation*(kernel_sz - 1) - 1)//stride) + 1\n",
    "h = 8\n",
    "h = conv1d_dim_out(h,3)\n",
    "h = conv1d_dim_out(h,3,dilation=2,padding=2)\n",
    "h = conv1d_dim_out(h,3,dilation=4,padding=4)\n",
    "h = conv1d_dim_out(h,3,dilation=8,padding=8)\n",
    "h"
   ]
  },
  {
   "attachments": {},
   "cell_type": "markdown",
   "metadata": {},
   "source": [
    "# DILATION\n"
   ]
  },
  {
   "cell_type": "code",
   "execution_count": 189,
   "metadata": {},
   "outputs": [
    {
     "name": "stdout",
     "output_type": "stream",
     "text": [
      "torch.Size([6, 10])\n",
      "torch.Size([6, 27])\n"
     ]
    }
   ],
   "source": [
    "class Wavenet_Model(nn.Module):\n",
    "    def __init__(self):\n",
    "        super().__init__()\n",
    "        self.embed = nn.Sequential(\n",
    "            nn.Embedding(vocab_size,embed_sz),\n",
    "        )\n",
    "        self.dilation = nn.Sequential(\n",
    "            nn.Conv1d(1,1,5,dilation=1),\n",
    "            nn.Conv1d(1,1,3,dilation=2,padding=2),\n",
    "            nn.Conv1d(1,1,3,dilation=4,padding=4),\n",
    "            nn.Conv1d(1,1,3,dilation=8,padding=8),\n",
    "        )\n",
    "        conv_out_dim = 46\n",
    "        self.main = nn.Sequential(\n",
    "            nn.Flatten(),\n",
    "            nn.Linear(conv_out_dim,150,bias=False),\n",
    "            nn.BatchNorm1d(150),\n",
    "            nn.Tanh(),\n",
    "            nn.Dropout(0.1),\n",
    "            \n",
    "            nn.Linear(150,vocab_size),\n",
    "            nn.LogSoftmax(1),\n",
    "        )\n",
    "    def forward(self, x):\n",
    "        x = self.embed(x)\n",
    "        x = self.dilation(x.view(x.size(0),1,-1))\n",
    "        x = self.main(x)\n",
    "        return x\n",
    "model = Wavenet_Model().to(device)\n",
    "tmp = Xtr[4:10]\n",
    "print(tmp.shape)\n",
    "out = model(tmp)\n",
    "print(out.shape)"
   ]
  },
  {
   "cell_type": "code",
   "execution_count": 190,
   "metadata": {},
   "outputs": [],
   "source": [
    "# optimization configurations\n",
    "loss_fn = nn.CrossEntropyLoss()\n",
    "epochs = 1000\n",
    "max_learning_rate = 0.1\n",
    "optimizer = torch.optim.Adam(model.parameters(), lr=max_learning_rate)\n",
    "scheduler = optim.lr_scheduler.OneCycleLR(optimizer,max_learning_rate,epochs)"
   ]
  },
  {
   "cell_type": "code",
   "execution_count": 191,
   "metadata": {},
   "outputs": [],
   "source": [
    "train_lossi = []\n",
    "test_lossi = []"
   ]
  },
  {
   "cell_type": "code",
   "execution_count": 192,
   "metadata": {},
   "outputs": [
    {
     "name": "stdout",
     "output_type": "stream",
     "text": [
      "0 3.1729297637939453\n",
      "100 2.282355785369873\n",
      "200 2.2257251739501953\n",
      "300 2.1733291149139404\n",
      "400 2.171438217163086\n",
      "500 2.147526502609253\n",
      "600 2.1417949199676514\n",
      "700 2.141127824783325\n",
      "800 2.1381750106811523\n",
      "900 2.1414012908935547\n"
     ]
    }
   ],
   "source": [
    "for i in range(epochs):\n",
    "    # forward pass\n",
    "    pred = model(Xtr)\n",
    "    loss = loss_fn(pred,Ytr)\n",
    "    \n",
    "    # backward pass\n",
    "    optimizer.zero_grad()\n",
    "    loss.backward()\n",
    "    optimizer.step()\n",
    "    scheduler.step()\n",
    "    # scheduler.step(loss)\n",
    "    \n",
    "    # tracing\n",
    "    train_lossi.append(loss.item())\n",
    "    with torch.no_grad():\n",
    "        pred = model(Xte)\n",
    "        loss = loss_fn(pred,Yte)\n",
    "        test_lossi.append(loss.item())\n",
    "    if i % 100 == 0:\n",
    "        print(i,loss.item())\n",
    "# 2.1701"
   ]
  },
  {
   "cell_type": "code",
   "execution_count": 200,
   "metadata": {},
   "outputs": [
    {
     "data": {
      "text/plain": [
       "Wavenet_Model(\n",
       "  (embed): Sequential(\n",
       "    (0): Embedding(27, 5)\n",
       "  )\n",
       "  (dilation): Sequential(\n",
       "    (0): Conv1d(1, 1, kernel_size=(5,), stride=(1,))\n",
       "    (1): Conv1d(1, 1, kernel_size=(3,), stride=(1,), padding=(2,), dilation=(2,))\n",
       "    (2): Conv1d(1, 1, kernel_size=(3,), stride=(1,), padding=(4,), dilation=(4,))\n",
       "    (3): Conv1d(1, 1, kernel_size=(3,), stride=(1,), padding=(8,), dilation=(8,))\n",
       "  )\n",
       "  (main): Sequential(\n",
       "    (0): Flatten(start_dim=1, end_dim=-1)\n",
       "    (1): Linear(in_features=46, out_features=150, bias=False)\n",
       "    (2): BatchNorm1d(150, eps=1e-05, momentum=0.1, affine=True, track_running_stats=True)\n",
       "    (3): Tanh()\n",
       "    (4): Dropout(p=0.1, inplace=False)\n",
       "    (5): Linear(in_features=150, out_features=27, bias=True)\n",
       "    (6): LogSoftmax(dim=1)\n",
       "  )\n",
       ")"
      ]
     },
     "execution_count": 200,
     "metadata": {},
     "output_type": "execute_result"
    }
   ],
   "source": [
    "model"
   ]
  },
  {
   "cell_type": "code",
   "execution_count": 210,
   "metadata": {},
   "outputs": [
    {
     "name": "stdout",
     "output_type": "stream",
     "text": [
      "2.083874225616455\n"
     ]
    }
   ],
   "source": [
    "with torch.no_grad():\n",
    "    pred = model(Xte)\n",
    "    loss = loss_fn(pred,Yte)\n",
    "    print(loss.item())"
   ]
  },
  {
   "cell_type": "code",
   "execution_count": 202,
   "metadata": {},
   "outputs": [
    {
     "data": {
      "text/plain": [
       "<matplotlib.legend.Legend at 0x16eba71d3f0>"
      ]
     },
     "execution_count": 202,
     "metadata": {},
     "output_type": "execute_result"
    },
    {
     "data": {
      "image/png": "[encoded data removed]",
      "text/plain": [
       "<Figure size 640x480 with 1 Axes>"
      ]
     },
     "metadata": {},
     "output_type": "display_data"
    }
   ],
   "source": [
    "plt.plot(train_lossi[::],label='train')\n",
    "plt.plot(test_lossi[::],label='test')\n",
    "plt.legend()"
   ]
  },
  {
   "cell_type": "code",
   "execution_count": 208,
   "metadata": {},
   "outputs": [
    {
     "name": "stdout",
     "output_type": "stream",
     "text": [
      "haedra.\n",
      "aniso.\n",
      "prideet.\n",
      "evonenna.\n",
      "saelon.\n"
     ]
    }
   ],
   "source": [
    "model.eval() # change behaviour of batchnorm\n",
    "g = torch.Generator(device).manual_seed(42*11)\n",
    "for _ in range(5):\n",
    "    out = []\n",
    "    context = [0] * block_size\n",
    "    while True:\n",
    "        logits = model(torch.tensor(context).to(device).view(1,-1))\n",
    "        ix = torch.multinomial(logits.exp(),num_samples=1,generator=g).item()\n",
    "        context = context[1:] +[ix]\n",
    "        out.append(ix)\n",
    "        if ix == 0:\n",
    "            break\n",
    "    print(''.join(idx_to_str[i] for i in out))"
   ]
  }
 ],
 "metadata": {
  "kernelspec": {
   "display_name": "Python 3",
   "language": "python",
   "name": "python3"
  },
  "language_info": {
   "codemirror_mode": {
    "name": "ipython",
    "version": 3
   },
   "file_extension": ".py",
   "mimetype": "text/x-python",
   "name": "python",
   "nbconvert_exporter": "python",
   "pygments_lexer": "ipython3",
   "version": "3.10.11"
  },
  "orig_nbformat": 4
 },
 "nbformat": 4,
 "nbformat_minor": 2
}
