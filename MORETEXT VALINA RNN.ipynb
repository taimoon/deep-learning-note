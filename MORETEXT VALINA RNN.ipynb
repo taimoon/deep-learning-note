{
 "cells": [
  {
   "cell_type": "code",
   "execution_count": 270,
   "metadata": {},
   "outputs": [],
   "source": [
    "import torch\n",
    "from torch import nn,optim\n",
    "import torch.nn.functional as F\n",
    "import numpy as np\n",
    "import matplotlib.pyplot as plt"
   ]
  },
  {
   "cell_type": "code",
   "execution_count": 271,
   "metadata": {},
   "outputs": [
    {
     "data": {
      "text/plain": [
       "['emma', 'olivia', 'ava', 'isabella', 'sophia']"
      ]
     },
     "execution_count": 271,
     "metadata": {},
     "output_type": "execute_result"
    }
   ],
   "source": [
    "with open(\"data/names.txt\",\"r\") as f:\n",
    "    words = f.read().lower().split('\\n')\n",
    "words[:5]"
   ]
  },
  {
   "cell_type": "code",
   "execution_count": 272,
   "metadata": {},
   "outputs": [
    {
     "name": "stdout",
     "output_type": "stream",
     "text": [
      "Using cuda device\n"
     ]
    }
   ],
   "source": [
    "# Get cpu, gpu or mps device for training.\n",
    "device = (\n",
    "    \"cuda\" \n",
    "    if torch.cuda.is_available() else \"mps\"\n",
    "    if torch.backends.mps.is_available() else \"cpu\"\n",
    ")\n",
    "print(f\"Using {device} device\")"
   ]
  },
  {
   "cell_type": "code",
   "execution_count": 273,
   "metadata": {},
   "outputs": [],
   "source": [
    "chars = sorted(list(set(''.join(words))))\n",
    "str_to_idx = {c:i+1 for i,c in enumerate(chars)}\n",
    "str_to_idx['.'] = 0\n",
    "idx_to_str = {i:c for c,i in str_to_idx.items()}"
   ]
  },
  {
   "cell_type": "code",
   "execution_count": 274,
   "metadata": {},
   "outputs": [],
   "source": [
    "seq_len = 10\n",
    "block_size = seq_len\n",
    "embed_sz = 3\n",
    "hidden_sz = 10\n",
    "vocab_size = len(str_to_idx)"
   ]
  },
  {
   "cell_type": "code",
   "execution_count": 275,
   "metadata": {},
   "outputs": [
    {
     "data": {
      "text/plain": [
       "[torch.Size([182625, 10]),\n",
       " torch.Size([182625]),\n",
       " torch.Size([22655, 10]),\n",
       " torch.Size([22655]),\n",
       " torch.Size([22866, 10]),\n",
       " torch.Size([22866])]"
      ]
     },
     "execution_count": 275,
     "metadata": {},
     "output_type": "execute_result"
    }
   ],
   "source": [
    "def build_dateset(words):\n",
    "    X, Y = [],[]\n",
    "    \n",
    "    for w in words:\n",
    "        context = [0] * block_size\n",
    "        for ch in w + '.':\n",
    "            ix = str_to_idx[ch]\n",
    "            X.append(context)\n",
    "            Y.append(ix)\n",
    "            context = context[1:] + [ix]\n",
    "    \n",
    "    return torch.tensor(X).to(device),torch.tensor(Y).to(device)\n",
    "\n",
    "import random\n",
    "random.seed(42)\n",
    "random.shuffle(words)\n",
    "n1 = int(0.8*len(words))\n",
    "n2 = int(0.9*len(words))\n",
    "\n",
    "Xtr,Ytr = build_dateset(words[:n1])\n",
    "Xdev,Ydev = build_dateset(words[n1:n2])\n",
    "Xte,Yte = build_dateset(words[n2:])\n",
    "[tmp.shape for tmp in (Xtr,Ytr,Xdev,Ydev,Xte,Yte)]"
   ]
  },
  {
   "attachments": {},
   "cell_type": "markdown",
   "metadata": {},
   "source": [
    "# VALINA RNN"
   ]
  },
  {
   "cell_type": "code",
   "execution_count": 276,
   "metadata": {},
   "outputs": [
    {
     "name": "stdout",
     "output_type": "stream",
     "text": [
      "--in--\n",
      "torch.Size([5, 10])\n",
      "--out--\n",
      "torch.Size([5, 27])\n"
     ]
    }
   ],
   "source": [
    "class RNN_Model(nn.Module):\n",
    "    def __init__(self):\n",
    "        super().__init__()\n",
    "        self.embedding = nn.Sequential(\n",
    "            nn.Embedding(vocab_size,embed_sz),\n",
    "            nn.Flatten(),\n",
    "        )\n",
    "        self.rnn = nn.RNN(\n",
    "            input_size = embed_sz,\n",
    "            hidden_size = hidden_sz,\n",
    "            num_layers = 1,\n",
    "            batch_first = True,\n",
    "        )\n",
    "        self.main = nn.Sequential(\n",
    "            nn.Flatten(),\n",
    "            nn.Linear(block_size*hidden_sz,200),\n",
    "            nn.Tanh(),\n",
    "            nn.Linear(200, vocab_size),\n",
    "            nn.LogSoftmax(1),\n",
    "        )\n",
    "    def forward(self, x):\n",
    "        x = self.embedding(x)\n",
    "        x = x.view(x.size(0),block_size,embed_sz)\n",
    "        x,h = self.rnn(x)\n",
    "        x = self.main(x)\n",
    "        return x\n",
    "\n",
    "model = RNN_Model().to(device)\n",
    "print(\"--in--\")\n",
    "tmp = Xtr[2:7]\n",
    "# print(tmp)\n",
    "print(tmp.shape)\n",
    "out = model(tmp)\n",
    "print(\"--out--\")\n",
    "# print(out)\n",
    "print(out.shape)"
   ]
  },
  {
   "cell_type": "code",
   "execution_count": 277,
   "metadata": {},
   "outputs": [],
   "source": [
    "# optimization configurations\n",
    "loss_fn = nn.CrossEntropyLoss()\n",
    "epochs = 1000\n",
    "max_learning_rate = 0.01\n",
    "optimizer = torch.optim.Adam(model.parameters(), lr=max_learning_rate)\n",
    "scheduler = optim.lr_scheduler.OneCycleLR(\n",
    "    optimizer,\n",
    "    max_learning_rate,\n",
    "    total_steps=epochs,\n",
    ")"
   ]
  },
  {
   "cell_type": "code",
   "execution_count": 278,
   "metadata": {},
   "outputs": [],
   "source": [
    "train_lossi = []\n",
    "test_lossi = []"
   ]
  },
  {
   "cell_type": "code",
   "execution_count": 279,
   "metadata": {},
   "outputs": [
    {
     "name": "stdout",
     "output_type": "stream",
     "text": [
      "0 3.2893378734588623\n",
      "100 2.6743004322052\n",
      "200 2.4714949131011963\n",
      "300 2.309152603149414\n",
      "400 2.2233848571777344\n",
      "500 2.180210828781128\n",
      "600 2.125579833984375\n",
      "700 2.096120834350586\n",
      "800 2.087616205215454\n",
      "900 2.0700559616088867\n",
      "1000 2.0614421367645264\n",
      "1100 2.0544703006744385\n",
      "1200 2.050544261932373\n",
      "1300 2.047617197036743\n",
      "1400 2.045053243637085\n",
      "1500 2.0448830127716064\n",
      "1600 2.044175624847412\n",
      "1700 2.0432674884796143\n",
      "1800 2.042861223220825\n",
      "1900 2.0428502559661865\n"
     ]
    }
   ],
   "source": [
    "for i in range(epochs):\n",
    "    # mini batching\n",
    "    idx = torch.randperm(Xtr.size(0))[:2**16]\n",
    "    X = Xtr[idx]\n",
    "    y = Ytr[idx]\n",
    "    # X = Xtr\n",
    "    # y = Ytr\n",
    "    # forward pass\n",
    "    pred = model(X)\n",
    "    loss = loss_fn(pred,y)\n",
    "    \n",
    "    # backward pass\n",
    "    optimizer.zero_grad()\n",
    "    loss.backward()\n",
    "    optimizer.step()\n",
    "    scheduler.step()\n",
    "    \n",
    "    # tracing\n",
    "    train_lossi.append(loss.item())\n",
    "    with torch.no_grad():\n",
    "        pred = model(Xte)\n",
    "        loss = loss_fn(pred,Yte)\n",
    "        test_lossi.append(loss.item())\n",
    "    if i % 100 == 0:\n",
    "        print(i,loss.item())\n",
    "# 2.1701"
   ]
  },
  {
   "cell_type": "code",
   "execution_count": 280,
   "metadata": {},
   "outputs": [
    {
     "name": "stdout",
     "output_type": "stream",
     "text": [
      "2.042661428451538\n"
     ]
    }
   ],
   "source": [
    "with torch.no_grad():\n",
    "    pred = model(Xdev)\n",
    "    loss = loss_fn(pred,Ydev)\n",
    "    print(loss.item())"
   ]
  },
  {
   "cell_type": "code",
   "execution_count": 281,
   "metadata": {},
   "outputs": [
    {
     "data": {
      "text/plain": [
       "<matplotlib.legend.Legend at 0x1dc2b4eb490>"
      ]
     },
     "execution_count": 281,
     "metadata": {},
     "output_type": "execute_result"
    },
    {
     "data": {
      "image/png": "[encoded data removed]",
      "text/plain": [
       "<Figure size 640x480 with 1 Axes>"
      ]
     },
     "metadata": {},
     "output_type": "display_data"
    }
   ],
   "source": [
    "plt.plot(train_lossi[::],label='train')\n",
    "plt.plot(test_lossi[::],label='test')\n",
    "plt.legend()"
   ]
  },
  {
   "cell_type": "code",
   "execution_count": 282,
   "metadata": {},
   "outputs": [
    {
     "name": "stdout",
     "output_type": "stream",
     "text": [
      "kritaji.\n",
      "romenion.\n",
      "dagar.\n",
      "everlee.\n",
      "rishaif.\n"
     ]
    }
   ],
   "source": [
    "g = torch.Generator(device).manual_seed(42)\n",
    "for _ in range(5):\n",
    "    out = []\n",
    "    context = [0] * block_size\n",
    "    while True:\n",
    "        logits = model(torch.tensor(context).to(device).view(1,-1))\n",
    "        ix = torch.multinomial(logits.exp(),num_samples=1,generator=g).item()\n",
    "        context = context[1:] +[ix]\n",
    "        out.append(ix)\n",
    "        if ix == 0:\n",
    "            break\n",
    "    print(''.join(idx_to_str[i] for i in out))"
   ]
  }
 ],
 "metadata": {
  "kernelspec": {
   "display_name": "Python 3",
   "language": "python",
   "name": "python3"
  },
  "language_info": {
   "codemirror_mode": {
    "name": "ipython",
    "version": 3
   },
   "file_extension": ".py",
   "mimetype": "text/x-python",
   "name": "python",
   "nbconvert_exporter": "python",
   "pygments_lexer": "ipython3",
   "version": "3.10.11"
  },
  "orig_nbformat": 4
 },
 "nbformat": 4,
 "nbformat_minor": 2
}
